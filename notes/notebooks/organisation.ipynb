{
 "cells": [
  {
   "cell_type": "code",
   "execution_count": null,
   "id": "6dda56cd-4295-4732-8dee-83b9dca395e6",
   "metadata": {},
   "outputs": [],
   "source": []
  },
  {
   "cell_type": "markdown",
   "id": "0788052a-8ab0-458d-abf1-eba0ae7d4f4e",
   "metadata": {},
   "source": [
    "# Organisation"
   ]
  },
  {
   "cell_type": "markdown",
   "id": "ed0340f0-b85f-48c4-9c16-eab4f0ae53e7",
   "metadata": {},
   "source": [
    "This section constans notes about the conent and organisation of the course and supporting materials e.g. assesmments. I will use it to organise my thoughts and ideas for the course, but it is expected to culminate into a final form which will serve as the formal verview of the course.\n",
    "\n",
    "The organisation and structure is developed with refernce to the \"four column\" document which was produced as part of the the course specifiaction."
   ]
  },
  {
   "cell_type": "markdown",
   "id": "20f71a9f-465d-4751-b2f7-b22831852c2b",
   "metadata": {},
   "source": [
    "## Main themes of the course"
   ]
  },
  {
   "cell_type": "markdown",
   "id": "a7653f15-073e-4cd3-8df6-29169f30995b",
   "metadata": {},
   "source": [
    "The mian themes for the course, as outlined in the \"four column\" document are\n",
    "\n",
    "- algorithms\n",
    "- computational complexity\n",
    "- data structures\n",
    "- models of computation\n",
    "- software engineering tools\n",
    "- computer architecture and operating systems\n",
    "- parallelisation\n",
    "- the 5Rs\n",
    "- collaborative programming\n",
    "- distribution and support\n",
    "\n",
    "The main content for each of themes is provided in the following subsections."
   ]
  },
  {
   "cell_type": "markdown",
   "id": "361bbfa4-5278-4929-9d04-6a0ba39c6835",
   "metadata": {},
   "source": [
    "### Algorithms"
   ]
  },
  {
   "cell_type": "markdown",
   "id": "0d051428-532b-48a5-848e-8d93f3b9c751",
   "metadata": {},
   "source": [
    "- what is an algorithm\n",
    "- what an algorithm is not\n",
    "- describing algorithms\n",
    "- designing algorithms\n",
    "- correctness and proof of algorithms\n"
   ]
  },
  {
   "cell_type": "markdown",
   "id": "a18faf0e-6226-4364-84a3-c9f883cd6346",
   "metadata": {},
   "source": [
    "### Computational Complexity\n",
    "- comparing algorithms\n",
    "- calculating computational complexity\n",
    "- random algorithms"
   ]
  }
 ],
 "metadata": {
  "kernelspec": {
   "display_name": "Python 3 (ipykernel)",
   "language": "python",
   "name": "python3"
  },
  "language_info": {
   "codemirror_mode": {
    "name": "ipython",
    "version": 3
   },
   "file_extension": ".py",
   "mimetype": "text/x-python",
   "name": "python",
   "nbconvert_exporter": "python",
   "pygments_lexer": "ipython3",
   "version": "3.11.0"
  }
 },
 "nbformat": 4,
 "nbformat_minor": 5
}
