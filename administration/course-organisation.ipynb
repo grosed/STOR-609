{
 "cells": [
  {
   "cell_type": "markdown",
   "id": "4cf88935-6707-4703-95de-a2a0d360e4e7",
   "metadata": {},
   "source": [
    "# STOR-609 Programming for Reproducible Research - Course Organisation"
   ]
  },
  {
   "cell_type": "markdown",
   "id": "4bac83c6-3c8b-4396-861e-4ff30aa37ff0",
   "metadata": {},
   "source": [
    "## Prerequisites"
   ]
  },
  {
   "cell_type": "markdown",
   "id": "cf2d9ddc-1a90-4bfb-82eb-099deb98b77e",
   "metadata": {},
   "source": [
    "- Basic knowledge of Python, such as that as provided by the short course [\"Introductory Python\"](http://www.mathsbox.com/introductory-python/intro.html)\n",
    "- Basic Unix skills, such as those aqcuired from the short courses [\"Introduction to Linux Part 1\"](https://github.com/grosed/course-notebooks/blob/main/intro-to-linux/Introduction%20to%20Linux%20Part%201.pdf) and [\"Introduction to Linux Part 2\"](https://github.com/grosed/course-notebooks/blob/main/intro-to-linux/Introduction%20to%20Linux%20Part%202.pdf)\n",
    "- Access to a Unix based system with the STOR-609 software stack installed\n",
    "- Some \"Pigs\" strategies coded in Python, such as those created during the tutorial sessions in [\"Introductory Python\"](http://www.mathsbox.com/introductory-python/intro.html)"
   ]
  },
  {
   "cell_type": "markdown",
   "id": "2aeb093c-e68a-4a59-b2af-32e5bbe2546d",
   "metadata": {},
   "source": [
    "## Overall Structure"
   ]
  },
  {
   "cell_type": "markdown",
   "id": "79976a07-8ac0-47d3-b9b1-a77c547215dc",
   "metadata": {},
   "source": [
    "### Summary"
   ]
  },
  {
   "cell_type": "markdown",
   "id": "5b513105-a223-4387-947f-c9ca3f12be93",
   "metadata": {},
   "source": [
    "- Five lectures (7 hours contact time)\n",
    "- Seven tutorials (20 hours contact time)\n",
    "- Two individual assessments (25% + 25%)\n",
    "- One group assesment (50%)\n",
    "- Overall contact time 27 hours"
   ]
  },
  {
   "cell_type": "markdown",
   "id": "b9474e1f-59fb-434f-ae9f-3cbb4a9191ba",
   "metadata": {},
   "source": [
    "### Sequence"
   ]
  },
  {
   "cell_type": "markdown",
   "id": "053aaa55-ac8d-4e9a-a7dd-56bb9e72f648",
   "metadata": {},
   "source": [
    "- **Lecture 1** - *Introduction to STOR-609 Programming for Reproducible Research* - (1 hour)\n",
    "- **Tutorial 1** - *Pigs Revisited* - (3 hours)\n",
    "- **Lecture 2** - *The 5Rs* - (1 hour)\n",
    "- **Tutorial 2** - *The 5Rs in Action* - (3 hours)\n",
    "- **Lecture 3** - *What is Computation ? Concepts of Computer Programming* - (2 hours)\n",
    "- **Tutorial 3** - *Functional Programming Patterns in Python* - (3 hours)\n",
    "- **Assessment 1**\n",
    "- **Lecture 4** - *Software Engineering Tools* - (2 hours)\n",
    "- **Tutorial 4** - *Software Engineering in Practice* - (3 hours)\n",
    "- **Assessment 2**\n",
    "- **Lecture 5** - *Bringing it All Together* - (1 hour)\n",
    "- **Tutorial 5** - *More Pigs* - (2 hours)\n",
    "- **Assessment 3**\n",
    "- **Tutorila 6** - *Assesmment 3 Support 1*  - (3 hours)\n",
    "- **Tutorial 7** - *Assessment 3 Support 2* - (3 hours)"
   ]
  },
  {
   "cell_type": "markdown",
   "id": "3dcdd04b-5e00-455b-96a4-f6ea1e918402",
   "metadata": {},
   "source": [
    "## <ins>Lecture 1</ins> - Introduction to STOR-609 Programming for Reproducible Research"
   ]
  },
  {
   "cell_type": "markdown",
   "id": "3c845b8b-0f69-4287-a57b-25056f0e56f0",
   "metadata": {},
   "source": [
    "### Overview"
   ]
  },
  {
   "cell_type": "markdown",
   "id": "abdb2d08-7592-4423-9564-0c0c76bea56b",
   "metadata": {},
   "source": [
    "**Contact time** - 1 hour \\\n",
    "**Requirements** - Overhead projector with computer and internet access\n"
   ]
  },
  {
   "cell_type": "markdown",
   "id": "2b7f3daa-1509-4947-a3e0-1563da307934",
   "metadata": {},
   "source": [
    "### Contents"
   ]
  },
  {
   "cell_type": "markdown",
   "id": "d62a120c-fc8d-4003-8774-0fe2d87a2c96",
   "metadata": {},
   "source": [
    "\n",
    "1) Welcome\n",
    "2) Course objectives and outcomes\n",
    "3) Course structure and approach to learning\n",
    "4) Some fundamental concepts of computing\n",
    "5) The 5Rs\n",
    "6) Q and A"
   ]
  },
  {
   "cell_type": "markdown",
   "id": "63ea559d-25cc-4345-922c-87732dee01a5",
   "metadata": {},
   "source": [
    "### Links\n",
    "\n",
    "- [Tutor Notes]()\n",
    "- [Student Notes]()"
   ]
  },
  {
   "cell_type": "markdown",
   "id": "6a3859e7-2d1f-412d-a8e9-d5e9432279b4",
   "metadata": {},
   "source": [
    "## <ins>Tutorial 1</ins> - Pigs Revisited"
   ]
  },
  {
   "cell_type": "markdown",
   "id": "e5536ad2-7a1d-46c3-b333-ab5206acb6c8",
   "metadata": {},
   "source": [
    "### Overview"
   ]
  },
  {
   "cell_type": "markdown",
   "id": "3e4b2999-8503-4f14-93e5-98807b16497c",
   "metadata": {},
   "source": [
    "**Contact time** - 3 hours \\\n",
    "**Requirements** - Overhead projector with computer and internet access\n"
   ]
  },
  {
   "cell_type": "markdown",
   "id": "34809a8b-30c3-4fd2-a245-476b4c24ad5a",
   "metadata": {},
   "source": [
    "### Contents"
   ]
  },
  {
   "cell_type": "markdown",
   "id": "dde19c1d-eb44-4992-8545-315dd6439b4e",
   "metadata": {},
   "source": [
    "\n",
    "1) Pigs - a recap on a simple dice based game of jeopardy\n",
    "2) Implementing a pigs competition\n",
    "3) Brainstorming\n",
    "4) Coding\n",
    "5) Discussion\n",
    "6) Some homework\n",
    "7) Q and A"
   ]
  },
  {
   "cell_type": "markdown",
   "id": "cd199f23-e5c6-44fc-9094-e5e834ef5bf0",
   "metadata": {},
   "source": [
    "### Links\n",
    "\n",
    "- [Tutor Notes]()\n",
    "- [Student Notes]()"
   ]
  },
  {
   "cell_type": "markdown",
   "id": "92f1cfa6-3695-4416-8030-aa516df595ee",
   "metadata": {},
   "source": [
    "## <ins>Lecture 2</ins> - The 5Rs of Scientific Programming"
   ]
  },
  {
   "cell_type": "markdown",
   "id": "18f53c52-ec86-4af6-a996-4ee99ca7c5f1",
   "metadata": {},
   "source": [
    "### Overview"
   ]
  },
  {
   "cell_type": "markdown",
   "id": "061b7827-edbb-4542-9750-49b5ed1ac5c5",
   "metadata": {},
   "source": [
    "**Contact time** - 1 hour \\\n",
    "**Requirements** - Overhead projector with computer and internet access\n"
   ]
  },
  {
   "cell_type": "markdown",
   "id": "f6a5b72f-2d90-410f-bd71-c56d010b8e6a",
   "metadata": {},
   "source": [
    "### Contents"
   ]
  },
  {
   "cell_type": "markdown",
   "id": "20d3310d-ae82-4559-bea8-385496a100e8",
   "metadata": {},
   "source": [
    "\n",
    "1) What is scientific programming ?\n",
    "2) What are the 5Rs ?\n",
    "3) How do the 5Rs fit in to this course ?\n",
    "4) Some homework\n",
    "7) Q and A"
   ]
  },
  {
   "cell_type": "markdown",
   "id": "42129d53-cc04-42f7-9c54-8ad5bca05d44",
   "metadata": {},
   "source": [
    "### Links\n",
    "\n",
    "- [Tutor Notes]()\n",
    "- [Student Notes]()"
   ]
  },
  {
   "cell_type": "markdown",
   "id": "5c693995-52b3-4082-9c14-44ec488ef893",
   "metadata": {},
   "source": [
    "## <ins>Tutorial 2</ins> - The 5Rs in Actions"
   ]
  },
  {
   "cell_type": "markdown",
   "id": "5588807c-0bfa-4194-be20-2cf979ac99fc",
   "metadata": {},
   "source": [
    "### Overview"
   ]
  },
  {
   "cell_type": "markdown",
   "id": "7b82a96a-9461-4010-a21b-69987f741c2b",
   "metadata": {},
   "source": [
    "**Contact time** - 3 hours \\\n",
    "**Requirements** - Overhead projector with computer and internet access\n"
   ]
  },
  {
   "cell_type": "markdown",
   "id": "576ca7b4-859c-4e18-be67-f025da592957",
   "metadata": {},
   "source": [
    "### Contents"
   ]
  },
  {
   "cell_type": "markdown",
   "id": "a9153863-862a-4215-8237-a47258b221e6",
   "metadata": {},
   "source": [
    "\n",
    "1) Test pigs competition code from tutorial 1\n",
    "2) Peer review and assess pigs competition code with respect to the 5Rs\n",
    "3) Brainstorming - approaches to evaluating code quality using the 5Rs\n",
    "5) Discussion\n",
    "7) Q and A"
   ]
  },
  {
   "cell_type": "markdown",
   "id": "8d6a8589-d7d6-4817-938a-65efefbf68a6",
   "metadata": {},
   "source": [
    "### Links\n",
    "\n",
    "- [Tutor Notes]()\n",
    "- [Student Notes]()"
   ]
  }
 ],
 "metadata": {
  "kernelspec": {
   "display_name": "Python 3 (ipykernel)",
   "language": "python",
   "name": "python3"
  },
  "language_info": {
   "codemirror_mode": {
    "name": "ipython",
    "version": 3
   },
   "file_extension": ".py",
   "mimetype": "text/x-python",
   "name": "python",
   "nbconvert_exporter": "python",
   "pygments_lexer": "ipython3",
   "version": "3.11.0"
  }
 },
 "nbformat": 4,
 "nbformat_minor": 5
}
