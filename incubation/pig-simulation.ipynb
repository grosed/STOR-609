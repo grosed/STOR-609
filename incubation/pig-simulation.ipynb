{
 "cells": [
  {
   "cell_type": "code",
   "execution_count": 1,
   "id": "a0dd40d6-9b00-4044-8614-e40c6e908fa4",
   "metadata": {},
   "outputs": [],
   "source": [
    "from pymonad.tools import curry \n",
    "import sys\n",
    "import random\n",
    "import itertools"
   ]
  },
  {
   "cell_type": "markdown",
   "id": "3f634b2c-f1f9-41cc-8560-6359fe2af81b",
   "metadata": {},
   "source": [
    "# Pig simulation"
   ]
  },
  {
   "cell_type": "markdown",
   "id": "790e8362-c324-4452-972e-c43473fbecb3",
   "metadata": {},
   "source": [
    "## Strategies"
   ]
  },
  {
   "cell_type": "markdown",
   "id": "3fbc30c8-4d21-4fd8-ae15-b70ae06d6830",
   "metadata": {},
   "source": [
    "$Score : \\cal{N} \\times \\cal{N}$"
   ]
  },
  {
   "cell_type": "markdown",
   "id": "c9fef8bc-b33b-4672-9a19-f850fdc285e5",
   "metadata": {},
   "source": [
    "$Strategy : Score \\times \\left\\{Score\\right\\} \\rightarrow bool$ "
   ]
  },
  {
   "cell_type": "markdown",
   "id": "49331775-0cc1-4a7e-86fa-332db0a4aa9f",
   "metadata": {},
   "source": [
    "### stick at n"
   ]
  },
  {
   "cell_type": "code",
   "execution_count": 2,
   "id": "ca64587a-df2a-43b6-aa60-266920bc013d",
   "metadata": {},
   "outputs": [],
   "source": [
    "@curry(3)\n",
    "def stick_at_n(n,player_score,opponent_scores) :\n",
    "    _,turn_score = player_score\n",
    "    return True if turn_score < n else False\n",
    "    "
   ]
  },
  {
   "cell_type": "code",
   "execution_count": 3,
   "id": "e5236d23-374d-487c-a39d-40ec17167f53",
   "metadata": {},
   "outputs": [
    {
     "data": {
      "text/plain": [
       "False"
      ]
     },
     "execution_count": 3,
     "metadata": {},
     "output_type": "execute_result"
    }
   ],
   "source": [
    "stick_at_20 = stick_at_n(20)\n",
    "stick_at_20((71,20),{(89,0)})"
   ]
  },
  {
   "cell_type": "markdown",
   "id": "3420ea1f-09f8-4a3d-afd9-8885a5253edb",
   "metadata": {},
   "source": [
    "## Dice"
   ]
  },
  {
   "cell_type": "code",
   "execution_count": 4,
   "id": "71143215-a15a-49c3-80b6-2366baae263b",
   "metadata": {},
   "outputs": [],
   "source": [
    "def dice_class(sides,seed) : # remember - a class is just function that returns an object\n",
    "    def dice() : # the object produced by the class - remember, an object is just a function with memory\n",
    "        nonlocal seed # the objects memory\n",
    "        random.seed(seed)\n",
    "        seed = random.randint(0,sys.maxsize) # note - python 3 specific\n",
    "        dice = dice_class(sides,seed) # notice the reference to the enclosing function\n",
    "        return dice,random.randint(1,sides)\n",
    "    return dice\n",
    "        "
   ]
  },
  {
   "cell_type": "code",
   "execution_count": 5,
   "id": "57a145df-f8c2-41d4-9172-3b6aa370e2ad",
   "metadata": {},
   "outputs": [
    {
     "name": "stdout",
     "output_type": "stream",
     "text": [
      "4\n",
      "6\n",
      "2\n",
      "4\n",
      "6\n",
      "3\n",
      "3\n",
      "1\n",
      "1\n",
      "2\n"
     ]
    }
   ],
   "source": [
    "D6 = dice_class(6,0)\n",
    "for i in range(10) :\n",
    "    D6,score = D6()\n",
    "    print(score)"
   ]
  },
  {
   "cell_type": "markdown",
   "id": "90e30f20-e163-4309-8236-71cd308088be",
   "metadata": {},
   "source": [
    "## Turn\n"
   ]
  },
  {
   "cell_type": "markdown",
   "id": "0efa912e-7bba-4f35-bd90-006b2bcd4a44",
   "metadata": {},
   "source": [
    "\n",
    "$Player : Strategy \\times Score$"
   ]
  },
  {
   "cell_type": "markdown",
   "id": "bc937187-dba1-43ca-ac36-e5e5f10b924c",
   "metadata": {},
   "source": [
    "$Turn : Strategy \\times Score \\times \\left\\{Score\\right\\} \\rightarrow Score$"
   ]
  },
  {
   "cell_type": "code",
   "execution_count": 6,
   "id": "b2a8e0e2-cf85-4e3b-9726-53ec6644bc2c",
   "metadata": {},
   "outputs": [],
   "source": [
    "@curry(5)\n",
    "def pig_turn(dice,jeopardy_score,strategy,player_score,opponent_scores) :\n",
    "    current_score = accumulated,turn = player_score\n",
    "    while strategy(current_score,opponent_scores) :\n",
    "        dice,roll = dice()\n",
    "        if roll == jeopardy_score :\n",
    "            return player_score\n",
    "        turn += roll\n",
    "        current_score = accumulated,turn\n",
    "    return accumulated + turn,0\n",
    "        \n",
    "        "
   ]
  },
  {
   "cell_type": "code",
   "execution_count": 7,
   "id": "e2c52636-9a64-4d0e-8dbc-107dd2fed1c9",
   "metadata": {},
   "outputs": [],
   "source": [
    "D6 = dice_class(6,0)\n",
    "stick_at_10 = stick_at_n(10)\n",
    "jeopardy_score = 1\n",
    "turn = pig_turn(D6,jeopardy_score)"
   ]
  },
  {
   "cell_type": "code",
   "execution_count": 8,
   "id": "567a185b-71b3-414c-af04-7ed5e0b761bf",
   "metadata": {},
   "outputs": [
    {
     "name": "stdout",
     "output_type": "stream",
     "text": [
      "(0, 0)\n",
      "(10, 0)\n",
      "(22, 0)\n",
      "(34, 0)\n",
      "(44, 0)\n",
      "(56, 0)\n",
      "(56, 0)\n",
      "(56, 0)\n",
      "(56, 0)\n",
      "(56, 0)\n",
      "(71, 0)\n",
      "(84, 0)\n",
      "(94, 0)\n",
      "(106, 0)\n",
      "(121, 0)\n",
      "(135, 0)\n",
      "(146, 0)\n",
      "(159, 0)\n",
      "(170, 0)\n",
      "(180, 0)\n"
     ]
    }
   ],
   "source": [
    "player_score = (0,0)\n",
    "opponent_scores = {(0,0)}\n",
    "\n",
    "for i in range(20) :\n",
    "    print(player_score)\n",
    "    player_score = turn(stick_at_10,player_score,opponent_scores)"
   ]
  },
  {
   "cell_type": "markdown",
   "id": "45342179-d51d-4dba-ba52-f85d09f29ba0",
   "metadata": {},
   "source": [
    "## Round"
   ]
  },
  {
   "cell_type": "markdown",
   "id": "6443de48-4cbc-4e0f-8c65-1d09682b64d2",
   "metadata": {},
   "source": [
    "$Win : Score \\rightarrow Bool$"
   ]
  },
  {
   "cell_type": "markdown",
   "id": "52220bc0-e8ce-45f6-914d-d2f09fe4b0e2",
   "metadata": {},
   "source": [
    "$Round : \\left\\{Strategy\\right\\} \\rightarrow Strategy$ "
   ]
  },
  {
   "cell_type": "code",
   "execution_count": 9,
   "id": "8cc3e488-9005-45b5-baa0-7411c9b23682",
   "metadata": {},
   "outputs": [],
   "source": [
    "@curry(2)\n",
    "def pig_win(target,score) :\n",
    "    accumulated,turn = score\n",
    "    return False if accumulated + turn < target else True\n",
    "    "
   ]
  },
  {
   "cell_type": "code",
   "execution_count": 10,
   "id": "8f4851a1-6243-4653-8e30-9c24ebd3c59f",
   "metadata": {},
   "outputs": [],
   "source": [
    "@curry(3)\n",
    "def pig_round(win,turn,strategies) :\n",
    "    players = {s : (0,0) for s in strategies}\n",
    "    while True :\n",
    "        for strategy in players :\n",
    "            score = turn(strategy,players[strategy],{players[s] for s in strategies if s != strategy})\n",
    "            if win(score) : return strategy\n",
    "            players[strategy] = score"
   ]
  },
  {
   "cell_type": "code",
   "execution_count": 11,
   "id": "871aefd7-3916-41ae-a3ec-f718c7e1125a",
   "metadata": {},
   "outputs": [],
   "source": [
    "win = pig_win(50)\n",
    "D6 = dice_class(6,0)\n",
    "jeopardy_score = 1\n",
    "turn = pig_turn(D6,jeopardy_score)\n",
    "stick_at_10 = stick_at_n(10)\n",
    "stick_at_15 = stick_at_n(15)\n",
    "strategies = (stick_at_10,stick_at_15)"
   ]
  },
  {
   "cell_type": "code",
   "execution_count": 12,
   "id": "1880ecc3-2704-444d-ba79-a456c8b1945e",
   "metadata": {},
   "outputs": [],
   "source": [
    "around = pig_round(win,turn)"
   ]
  },
  {
   "cell_type": "code",
   "execution_count": 13,
   "id": "45185149-c65e-4de6-980c-ede92b692454",
   "metadata": {},
   "outputs": [
    {
     "data": {
      "text/plain": [
       "True"
      ]
     },
     "execution_count": 13,
     "metadata": {},
     "output_type": "execute_result"
    }
   ],
   "source": [
    "around(strategies) == stick_at_15"
   ]
  },
  {
   "cell_type": "markdown",
   "id": "bf8243bf-5a47-4be3-83a8-a549e1307a9d",
   "metadata": {},
   "source": [
    "## Competition"
   ]
  },
  {
   "cell_type": "markdown",
   "id": "6d91fa03-3d67-4120-be68-875b408a05ae",
   "metadata": {},
   "source": [
    "$Competition : \\left\\{Strategy\\right\\} \\rightarrow (Strategy \\rightarrow \\cal{N})$"
   ]
  },
  {
   "cell_type": "code",
   "execution_count": 14,
   "id": "ea4c38e8-ebc1-4a02-9b7f-0601959b3528",
   "metadata": {},
   "outputs": [],
   "source": [
    "@curry(3)\n",
    "def pig_competition(around,n,strategies) :\n",
    "    results = {s : 0 for s in strategies}\n",
    "    for i in range(n) :\n",
    "        s = around(strategies)\n",
    "        results[around(strategies)] += 1\n",
    "    return results"
   ]
  },
  {
   "cell_type": "code",
   "execution_count": 15,
   "id": "63a3608c-53db-4e5b-953b-3d910e6c3b37",
   "metadata": {},
   "outputs": [],
   "source": [
    "competition = pig_competition(around,100)\n",
    "results = competition(strategies)"
   ]
  },
  {
   "cell_type": "code",
   "execution_count": 16,
   "id": "45d9a7f5-1762-4a77-a93b-086945a62518",
   "metadata": {},
   "outputs": [
    {
     "data": {
      "text/plain": [
       "(47, 53)"
      ]
     },
     "execution_count": 16,
     "metadata": {},
     "output_type": "execute_result"
    }
   ],
   "source": [
    "tuple(results.values())"
   ]
  },
  {
   "cell_type": "markdown",
   "id": "632ead1b-0240-4956-927a-38a1a2f57327",
   "metadata": {},
   "source": [
    "## Tournament"
   ]
  },
  {
   "cell_type": "markdown",
   "id": "ddd494aa-ddd1-4be9-a55d-a4160f58ec46",
   "metadata": {},
   "source": [
    "$Tournament : \\left\\{Strategy\\right\\} \\rightarrow (Strategy^{n} \\rightarrow \\cal{R}^{n})$"
   ]
  },
  {
   "cell_type": "code",
   "execution_count": 17,
   "id": "a6d47df8-acd9-4e42-9c56-67d230becf1d",
   "metadata": {},
   "outputs": [],
   "source": [
    "@curry(3)\n",
    "def pig_tournament(nplayers,competition,strategies) :\n",
    "    D = [competition(s) for s in itertools.permutations(strategies,r=nplayers)]\n",
    "    return {tuple(d.keys()) : tuple(d.values()) for d in D}\n",
    "    "
   ]
  },
  {
   "cell_type": "code",
   "execution_count": 18,
   "id": "8f2dad5d-b097-4f3b-a60d-6d7a82b903fb",
   "metadata": {},
   "outputs": [],
   "source": [
    "tournament = pig_tournament(2,competition)"
   ]
  },
  {
   "cell_type": "code",
   "execution_count": 19,
   "id": "7e74d444-d7e4-4dc6-ba22-3388fda9a5ca",
   "metadata": {},
   "outputs": [],
   "source": [
    "results = tournament(strategies)"
   ]
  },
  {
   "cell_type": "code",
   "execution_count": 20,
   "id": "35fa41e8-4b63-4a91-a107-aac6147a016e",
   "metadata": {},
   "outputs": [
    {
     "data": {
      "text/plain": [
       "{(<function pymonad.tools._curry_helper.<locals>._curry_internal(*arguments: List[Any])>,\n",
       "  <function pymonad.tools._curry_helper.<locals>._curry_internal(*arguments: List[Any])>): (42,\n",
       "  58),\n",
       " (<function pymonad.tools._curry_helper.<locals>._curry_internal(*arguments: List[Any])>,\n",
       "  <function pymonad.tools._curry_helper.<locals>._curry_internal(*arguments: List[Any])>): (87,\n",
       "  13)}"
      ]
     },
     "execution_count": 20,
     "metadata": {},
     "output_type": "execute_result"
    }
   ],
   "source": [
    "results"
   ]
  },
  {
   "cell_type": "markdown",
   "id": "497114dd-4d27-41ee-a0ea-e0ae8f767f97",
   "metadata": {},
   "source": [
    "## Working Examples"
   ]
  },
  {
   "cell_type": "code",
   "execution_count": 26,
   "id": "d6fe3510-bf9e-408a-8b68-b8dd660a45e4",
   "metadata": {},
   "outputs": [],
   "source": [
    "win = pig_win(50)\n",
    "D6 = dice_class(6,0)\n",
    "jeopardy_score = 1\n",
    "turn = pig_turn(D6,jeopardy_score)\n",
    "entrants = {n : stick_at_n(n) for n in range(10,20)}\n",
    "strategies = set(entrants.values())\n",
    "around = pig_round(win,turn)\n",
    "competition = pig_competition(around,100)\n",
    "tournament = pig_tournament(3,competition)\n",
    "results = tournament(strategies)"
   ]
  }
 ],
 "metadata": {
  "kernelspec": {
   "display_name": "Python 3 (ipykernel)",
   "language": "python",
   "name": "python3"
  },
  "language_info": {
   "codemirror_mode": {
    "name": "ipython",
    "version": 3
   },
   "file_extension": ".py",
   "mimetype": "text/x-python",
   "name": "python",
   "nbconvert_exporter": "python",
   "pygments_lexer": "ipython3",
   "version": "3.12.3"
  }
 },
 "nbformat": 4,
 "nbformat_minor": 5
}
