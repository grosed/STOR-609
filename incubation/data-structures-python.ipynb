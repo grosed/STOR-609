{
 "cells": [
  {
   "cell_type": "markdown",
   "id": "8e26874b-7010-4ad0-90ff-b62af3b3d337",
   "metadata": {},
   "source": [
    "## Dynamic map"
   ]
  },
  {
   "cell_type": "code",
   "execution_count": 24,
   "id": "39cd29a9-634a-4aa8-bb33-cca628ae8fd6",
   "metadata": {},
   "outputs": [],
   "source": [
    "def dynamic_map() :\n",
    "    data = dict()\n",
    "    # dynamic methods\n",
    "    def add(i,x) :\n",
    "        nonlocal data\n",
    "        data[i] = x\n",
    "    def remove(i) :\n",
    "        nonlocal data\n",
    "        del data[i]\n",
    "    #static methods\n",
    "    def at(i) :\n",
    "        nonlocal data\n",
    "        return data[i]\n",
    "    def cardinality() :\n",
    "        nonlocal data\n",
    "        return len(data)\n",
    "    # iterating methods\n",
    "    def elements() :\n",
    "        nonlocal data\n",
    "        return data.items()\n",
    "    def domain() :\n",
    "        for x,_ in elements() :\n",
    "            yield x\n",
    "    def codomain() :\n",
    "        for _,y in elements() :\n",
    "            yield y\n",
    "        \n",
    "    return add,remove,at,elements,domain,codomain,cardinality"
   ]
  },
  {
   "cell_type": "code",
   "execution_count": 25,
   "id": "83e2ba7a-5b4f-4316-9f1d-dc9b47114dd4",
   "metadata": {},
   "outputs": [
    {
     "name": "stdout",
     "output_type": "stream",
     "text": [
      "3.14\n",
      "31.4\n",
      "314\n",
      "0\n",
      "1\n",
      "2\n",
      "3\n",
      "0 3.14\n",
      "2 314\n"
     ]
    },
    {
     "data": {
      "text/plain": [
       "True"
      ]
     },
     "execution_count": 25,
     "metadata": {},
     "output_type": "execute_result"
    }
   ],
   "source": [
    "add,remove,at,elements,domain,codomain,cardinality = dynamic_map()\n",
    "add(0,3.14)\n",
    "add(1,31.4)\n",
    "add(2,314)\n",
    "print(at(0))\n",
    "print(at(1))\n",
    "print(at(2))\n",
    "for x,_ in elements() :\n",
    "    print(x)\n",
    "print(cardinality())\n",
    "remove(1)\n",
    "for x,y in elements() :\n",
    "    print(x,y)\n",
    "3.14 in codomain()\n"
   ]
  },
  {
   "cell_type": "markdown",
   "id": "0ed264a8-c37b-47fa-b8aa-deb767176fbf",
   "metadata": {},
   "source": [
    "## Dynamic set"
   ]
  },
  {
   "cell_type": "code",
   "execution_count": 3,
   "id": "f03ab312-c8c0-4461-8099-9e3ffd1106e1",
   "metadata": {},
   "outputs": [],
   "source": [
    "def dynamic_set() :\n",
    "    data = set()\n",
    "    # dynamic methods\n",
    "    def add(x) :\n",
    "        nonlocal data\n",
    "        data.add(x)\n",
    "    def remove(x) :\n",
    "        nonlocal data\n",
    "        data.remove(x)\n",
    "    #static methods\n",
    "    def cardinality() :\n",
    "        nonlocal data\n",
    "        return len(data)\n",
    "    # iterating methods\n",
    "    def elements() :\n",
    "        nonlocal data\n",
    "        return iter(data)\n",
    "    return add,remove,elements,cardinality"
   ]
  },
  {
   "cell_type": "code",
   "execution_count": 4,
   "id": "370342e1-fb41-4e88-92c4-e6a7a7647942",
   "metadata": {},
   "outputs": [
    {
     "name": "stdout",
     "output_type": "stream",
     "text": [
      "314\n",
      "3.14\n",
      "31.4\n",
      "3\n",
      "314\n",
      "3.14\n"
     ]
    },
    {
     "data": {
      "text/plain": [
       "False"
      ]
     },
     "execution_count": 4,
     "metadata": {},
     "output_type": "execute_result"
    }
   ],
   "source": [
    "add,remove,elements,cardinality = dynamic_set()\n",
    "add(3.14)\n",
    "add(31.4)\n",
    "add(314)\n",
    "for x in elements() :\n",
    "    print(x)\n",
    "print(cardinality())\n",
    "remove(31.4)\n",
    "for x in elements() :\n",
    "    print(x)\n",
    "3.144 in elements()"
   ]
  },
  {
   "cell_type": "markdown",
   "id": "f36930bb-b042-47ca-8f00-f4ed1a294b79",
   "metadata": {},
   "source": [
    "## Dynamic vector"
   ]
  },
  {
   "cell_type": "code",
   "execution_count": 5,
   "id": "0c887492-0e97-472d-bec3-1680c824de75",
   "metadata": {},
   "outputs": [],
   "source": [
    "def dynamic_vector() :\n",
    "    data = list()\n",
    "    # dynamic methods\n",
    "    def add(i,x) :\n",
    "        nonlocal data\n",
    "        data.insert(i,x)\n",
    "    def remove(i) :\n",
    "        nonlocal data\n",
    "        del data[i]\n",
    "    #static methods\n",
    "    def at(i) :\n",
    "        nonlocal data\n",
    "        return data[i]\n",
    "    def cardinality() :\n",
    "        nonlocal data\n",
    "        return len(data)\n",
    "    # iterating methods\n",
    "    def elements() :\n",
    "        nonlocal data\n",
    "        for x in domain() :\n",
    "            yield x,data[x]\n",
    "    def domain() :\n",
    "        for x in range(cardinality()) :\n",
    "            yield x\n",
    "    def codomain() :\n",
    "        nonlocal data\n",
    "        for y in data :\n",
    "            yield y\n",
    "    return add,remove,at,elements,domain,codomain,cardinality"
   ]
  },
  {
   "cell_type": "code",
   "execution_count": 6,
   "id": "74dab5b3-8cee-4ed9-a3a2-838ddec7f01e",
   "metadata": {},
   "outputs": [
    {
     "name": "stdout",
     "output_type": "stream",
     "text": [
      "3.14\n",
      "31.4\n",
      "314\n",
      "0\n",
      "1\n",
      "2\n",
      "3\n",
      "0 3.14\n",
      "1 314\n"
     ]
    },
    {
     "data": {
      "text/plain": [
       "True"
      ]
     },
     "execution_count": 6,
     "metadata": {},
     "output_type": "execute_result"
    }
   ],
   "source": [
    "add,remove,at,elements,domain,codomain,cardinality= dynamic_vector()\n",
    "add(0,3.14)\n",
    "add(1,31.4)\n",
    "add(2,314)\n",
    "print(at(0))\n",
    "print(at(1))\n",
    "print(at(2))\n",
    "for x,_ in elements() :\n",
    "    print(x)\n",
    "print(cardinality())\n",
    "remove(1)\n",
    "for x,y in elements() :\n",
    "    print(x,y)\n",
    "3.14 in codomain()"
   ]
  },
  {
   "cell_type": "markdown",
   "id": "b7878109-539a-44b1-a4b4-b87fc562a14c",
   "metadata": {},
   "source": [
    "## Dynamic sorted vector"
   ]
  },
  {
   "cell_type": "code",
   "execution_count": 7,
   "id": "8be9279a-6bc2-4791-82b0-1c8517a719da",
   "metadata": {},
   "outputs": [],
   "source": [
    "from sortedcontainers import SortedList"
   ]
  },
  {
   "cell_type": "code",
   "execution_count": 22,
   "id": "d9bb1b6c-3815-406f-9bb9-3695772fd338",
   "metadata": {},
   "outputs": [],
   "source": [
    "def dynamic_sorted_vector() :\n",
    "    data = SortedList()\n",
    "    # dynamic methods\n",
    "    def add(x) :\n",
    "        nonlocal data\n",
    "        data.add(x)\n",
    "    def remove(x) :\n",
    "        nonlocal data\n",
    "        data.remove(x)\n",
    "    #static methods\n",
    "    def at(i) :\n",
    "        nonlocal data\n",
    "        return data[i]\n",
    "    def cardinality() :\n",
    "        nonlocal data\n",
    "        return len(data)\n",
    "    # iterating methods\n",
    "    def elements() :\n",
    "        nonlocal data\n",
    "        for x in domain() :\n",
    "            yield x,data[x]\n",
    "    def domain() :\n",
    "        for x in range(cardinality()) :\n",
    "            yield x\n",
    "    def codomain() :\n",
    "        nonlocal data\n",
    "        for y in data :\n",
    "            yield y\n",
    "        \n",
    "    return add,remove,at,elements,domain,codomain,cardinality"
   ]
  },
  {
   "cell_type": "code",
   "execution_count": 23,
   "id": "54dc3383-c54f-4ee5-9f32-056dc6d99e77",
   "metadata": {},
   "outputs": [
    {
     "name": "stdout",
     "output_type": "stream",
     "text": [
      "1\n",
      "31.4\n",
      "314\n",
      "0\n",
      "1\n",
      "2\n",
      "3\n",
      "4\n",
      "0 31.4\n",
      "1 314\n",
      "2 3140\n"
     ]
    },
    {
     "data": {
      "text/plain": [
       "False"
      ]
     },
     "execution_count": 23,
     "metadata": {},
     "output_type": "execute_result"
    }
   ],
   "source": [
    "add,remove,at,elements,domain,codomain,cardinality = dynamic_sorted_vector()\n",
    "add(314)\n",
    "add(31.4)\n",
    "add(3140)\n",
    "add(1)\n",
    "print(at(0))\n",
    "print(at(1))\n",
    "print(at(2))\n",
    "for x,_ in elements() :\n",
    "    print(x)\n",
    "print(cardinality())\n",
    "remove(1)\n",
    "for x,y in elements() :\n",
    "    print(x,y)\n",
    "3.14 in codomain()"
   ]
  }
 ],
 "metadata": {
  "kernelspec": {
   "display_name": "Python 3 (ipykernel)",
   "language": "python",
   "name": "python3"
  },
  "language_info": {
   "codemirror_mode": {
    "name": "ipython",
    "version": 3
   },
   "file_extension": ".py",
   "mimetype": "text/x-python",
   "name": "python",
   "nbconvert_exporter": "python",
   "pygments_lexer": "ipython3",
   "version": "3.12.3"
  }
 },
 "nbformat": 4,
 "nbformat_minor": 5
}
