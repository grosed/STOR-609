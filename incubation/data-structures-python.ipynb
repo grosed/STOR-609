{
 "cells": [
  {
   "cell_type": "code",
   "execution_count": null,
   "id": "004928e5-5266-41b1-81e0-a162afa88db7",
   "metadata": {},
   "outputs": [],
   "source": []
  },
  {
   "cell_type": "code",
   "execution_count": null,
   "id": "28a43a34-78aa-4a99-b8b7-4703823a904b",
   "metadata": {},
   "outputs": [],
   "source": []
  },
  {
   "cell_type": "markdown",
   "id": "8e26874b-7010-4ad0-90ff-b62af3b3d337",
   "metadata": {},
   "source": [
    "## Dynamic Array"
   ]
  },
  {
   "cell_type": "code",
   "execution_count": 42,
   "id": "6df45e48-9e9b-495d-8274-7f4d384e4065",
   "metadata": {},
   "outputs": [],
   "source": [
    "def dynamic_array() :\n",
    "    data = list()\n",
    "    # dynamic methods\n",
    "    def add(i,x) :\n",
    "        nonlocal data\n",
    "        data.insert(i,x)\n",
    "    def remove(i) :\n",
    "        nonlocal data\n",
    "        del data[i]\n",
    "    #static methods\n",
    "    def at(i) :\n",
    "        nonlocal data\n",
    "        return data[i]\n",
    "    def cardinality() :\n",
    "        nonlocal data\n",
    "        return len(data)\n",
    "    # iterating methods\n",
    "    def domain() :\n",
    "        nonlocal data\n",
    "        return range(len(data))\n",
    "    def codomain() :\n",
    "        nonlocal data\n",
    "        return iter(data)\n",
    "    def graph() :\n",
    "        nonlocal data\n",
    "        for i in domain() :\n",
    "            yield i,at(i)\n",
    "    return add,remove,at,domain,codomain,graph,cardinality\n",
    "        "
   ]
  },
  {
   "cell_type": "code",
   "execution_count": 43,
   "id": "de540738-09d0-4e63-94a6-693d9c15f27b",
   "metadata": {},
   "outputs": [
    {
     "name": "stdout",
     "output_type": "stream",
     "text": [
      "3.14\n",
      "31.4\n",
      "314\n",
      "(0, 3.14)\n",
      "(1, 31.4)\n",
      "(2, 314)\n",
      "3\n",
      "(0, 3.14)\n",
      "(1, 314)\n"
     ]
    }
   ],
   "source": [
    "add,remove,at,domain,codomain,graph,cardinality = dynamic_array()\n",
    "add(0,3.14)\n",
    "add(1,31.4)\n",
    "add(2,314)\n",
    "print(at(0))\n",
    "print(at(1))\n",
    "print(at(2))\n",
    "for x in graph() :\n",
    "    print(x)\n",
    "print(cardinality())\n",
    "remove(1)\n",
    "for x in graph() :\n",
    "    print(x)\n"
   ]
  },
  {
   "cell_type": "code",
   "execution_count": null,
   "id": "39cd29a9-634a-4aa8-bb33-cca628ae8fd6",
   "metadata": {},
   "outputs": [],
   "source": []
  },
  {
   "cell_type": "code",
   "execution_count": 8,
   "id": "fc7cec6a-34bd-4586-8409-b150cb7f25ad",
   "metadata": {},
   "outputs": [],
   "source": [
    "x = list()\n",
    "x.insert(0,3.14)\n",
    "x.insert(1,31.4)\n",
    "x.insert(2,314)\n",
    "x.insert(2,3140)\n"
   ]
  },
  {
   "cell_type": "code",
   "execution_count": 9,
   "id": "f03ab312-c8c0-4461-8099-9e3ffd1106e1",
   "metadata": {},
   "outputs": [
    {
     "data": {
      "text/plain": [
       "[3.14, 31.4, 3140, 314]"
      ]
     },
     "execution_count": 9,
     "metadata": {},
     "output_type": "execute_result"
    }
   ],
   "source": [
    "x"
   ]
  }
 ],
 "metadata": {
  "kernelspec": {
   "display_name": "Python 3 (ipykernel)",
   "language": "python",
   "name": "python3"
  },
  "language_info": {
   "codemirror_mode": {
    "name": "ipython",
    "version": 3
   },
   "file_extension": ".py",
   "mimetype": "text/x-python",
   "name": "python",
   "nbconvert_exporter": "python",
   "pygments_lexer": "ipython3",
   "version": "3.12.3"
  }
 },
 "nbformat": 4,
 "nbformat_minor": 5
}
