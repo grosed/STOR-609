{
 "cells": [
  {
   "cell_type": "code",
   "execution_count": 1,
   "id": "958af992-9fc7-4c0d-b832-a63fa28ab63b",
   "metadata": {},
   "outputs": [
    {
     "name": "stdout",
     "output_type": "stream",
     "text": [
      "3\n"
     ]
    }
   ],
   "source": [
    "import random\n",
    "random.seed(0)\n",
    "print(random.randint(0,3))"
   ]
  },
  {
   "cell_type": "code",
   "execution_count": 10,
   "id": "ec360acf-02db-4a76-9f7c-df0c57b9344b",
   "metadata": {},
   "outputs": [
    {
     "data": {
      "text/plain": [
       "5.99145"
      ]
     },
     "execution_count": 10,
     "metadata": {},
     "output_type": "execute_result"
    }
   ],
   "source": [
    "\n",
    "deaths = [sum([random.sample(range(4),4).index(random.randint(0,3)) for i in range(4)]) for i in range(100000)]\n",
    "sum(deaths)/100000"
   ]
  },
  {
   "cell_type": "code",
   "execution_count": 11,
   "id": "b64b21e3-8bbc-460f-ab55-7b27dcfcd0d7",
   "metadata": {},
   "outputs": [],
   "source": [
    "dist = dict()\n",
    "for i in range(13) :\n",
    "    dist[i] = 0 "
   ]
  },
  {
   "cell_type": "code",
   "execution_count": 12,
   "id": "230ab1f0-6082-46d8-b98a-7d35da31fe2d",
   "metadata": {},
   "outputs": [],
   "source": [
    "for n in deaths :\n",
    "    dist[n] += 1"
   ]
  },
  {
   "cell_type": "code",
   "execution_count": 13,
   "id": "9ec5a32f-def8-489c-bdcb-20bb7ba6d5b8",
   "metadata": {},
   "outputs": [
    {
     "name": "stdout",
     "output_type": "stream",
     "text": [
      "382\n",
      "1586\n",
      "3846\n",
      "7846\n",
      "12228\n",
      "15653\n",
      "17369\n",
      "15512\n",
      "12011\n",
      "7729\n",
      "3875\n",
      "1601\n",
      "362\n"
     ]
    }
   ],
   "source": [
    "for n in dist.values() :\n",
    "    print(n)"
   ]
  },
  {
   "cell_type": "code",
   "execution_count": 15,
   "id": "e8588069-a615-42f5-aed2-5f14d57402de",
   "metadata": {},
   "outputs": [
    {
     "name": "stdout",
     "output_type": "stream",
     "text": [
      "Collecting matplotlib\n",
      "  Downloading matplotlib-3.10.0-cp313-cp313-win_amd64.whl.metadata (11 kB)\n",
      "Collecting contourpy>=1.0.1 (from matplotlib)\n",
      "  Downloading contourpy-1.3.1-cp313-cp313-win_amd64.whl.metadata (5.4 kB)\n",
      "Collecting cycler>=0.10 (from matplotlib)\n",
      "  Downloading cycler-0.12.1-py3-none-any.whl.metadata (3.8 kB)\n",
      "Collecting fonttools>=4.22.0 (from matplotlib)\n",
      "  Downloading fonttools-4.55.3-cp313-cp313-win_amd64.whl.metadata (168 kB)\n",
      "Collecting kiwisolver>=1.3.1 (from matplotlib)\n",
      "  Downloading kiwisolver-1.4.8-cp313-cp313-win_amd64.whl.metadata (6.3 kB)\n",
      "Collecting numpy>=1.23 (from matplotlib)\n",
      "  Downloading numpy-2.2.1-cp313-cp313-win_amd64.whl.metadata (60 kB)\n",
      "Requirement already satisfied: packaging>=20.0 in c:\\users\\grosedj1\\stor-609-env\\env\\lib\\site-packages (from matplotlib) (24.2)\n",
      "Collecting pillow>=8 (from matplotlib)\n",
      "  Downloading pillow-11.1.0-cp313-cp313-win_amd64.whl.metadata (9.3 kB)\n",
      "Collecting pyparsing>=2.3.1 (from matplotlib)\n",
      "  Downloading pyparsing-3.2.1-py3-none-any.whl.metadata (5.0 kB)\n",
      "Requirement already satisfied: python-dateutil>=2.7 in c:\\users\\grosedj1\\stor-609-env\\env\\lib\\site-packages (from matplotlib) (2.9.0.post0)\n",
      "Requirement already satisfied: six>=1.5 in c:\\users\\grosedj1\\stor-609-env\\env\\lib\\site-packages (from python-dateutil>=2.7->matplotlib) (1.17.0)\n",
      "Downloading matplotlib-3.10.0-cp313-cp313-win_amd64.whl (8.0 MB)\n",
      "   ---------------------------------------- 0.0/8.0 MB ? eta -:--:--\n",
      "   ----- ---------------------------------- 1.0/8.0 MB 7.6 MB/s eta 0:00:01\n",
      "   ---------- ----------------------------- 2.1/8.0 MB 4.8 MB/s eta 0:00:02\n",
      "   --------------- ------------------------ 3.1/8.0 MB 5.2 MB/s eta 0:00:01\n",
      "   ----------------------- ---------------- 4.7/8.0 MB 5.8 MB/s eta 0:00:01\n",
      "   ---------------------------- ----------- 5.8/8.0 MB 5.5 MB/s eta 0:00:01\n",
      "   ----------------------------------- ---- 7.1/8.0 MB 5.7 MB/s eta 0:00:01\n",
      "   ---------------------------------------- 8.0/8.0 MB 5.5 MB/s eta 0:00:00\n",
      "Downloading contourpy-1.3.1-cp313-cp313-win_amd64.whl (220 kB)\n",
      "Downloading cycler-0.12.1-py3-none-any.whl (8.3 kB)\n",
      "Downloading fonttools-4.55.3-cp313-cp313-win_amd64.whl (2.2 MB)\n",
      "   ---------------------------------------- 0.0/2.2 MB ? eta -:--:--\n",
      "   ----------------------- ---------------- 1.3/2.2 MB 7.7 MB/s eta 0:00:01\n",
      "   -------------------------------------- - 2.1/2.2 MB 5.5 MB/s eta 0:00:01\n",
      "   ---------------------------------------- 2.2/2.2 MB 4.8 MB/s eta 0:00:00\n",
      "Downloading kiwisolver-1.4.8-cp313-cp313-win_amd64.whl (71 kB)\n",
      "Downloading numpy-2.2.1-cp313-cp313-win_amd64.whl (12.6 MB)\n",
      "   ---------------------------------------- 0.0/12.6 MB ? eta -:--:--\n",
      "   ---- ----------------------------------- 1.3/12.6 MB 7.9 MB/s eta 0:00:02\n",
      "   -------- ------------------------------- 2.6/12.6 MB 6.7 MB/s eta 0:00:02\n",
      "   ----------- ---------------------------- 3.7/12.6 MB 6.2 MB/s eta 0:00:02\n",
      "   -------------- ------------------------- 4.5/12.6 MB 5.8 MB/s eta 0:00:02\n",
      "   ------------------- -------------------- 6.3/12.6 MB 6.2 MB/s eta 0:00:02\n",
      "   ---------------------- ----------------- 7.1/12.6 MB 5.7 MB/s eta 0:00:01\n",
      "   ------------------------ --------------- 7.9/12.6 MB 5.6 MB/s eta 0:00:01\n",
      "   --------------------------- ------------ 8.7/12.6 MB 5.4 MB/s eta 0:00:01\n",
      "   ----------------------------- ---------- 9.4/12.6 MB 5.3 MB/s eta 0:00:01\n",
      "   -------------------------------- ------- 10.2/12.6 MB 5.1 MB/s eta 0:00:01\n",
      "   ---------------------------------- ----- 10.7/12.6 MB 4.9 MB/s eta 0:00:01\n",
      "   ------------------------------------- -- 11.8/12.6 MB 4.8 MB/s eta 0:00:01\n",
      "   -------------------------------------- - 12.1/12.6 MB 4.8 MB/s eta 0:00:01\n",
      "   ---------------------------------------- 12.6/12.6 MB 4.4 MB/s eta 0:00:00\n",
      "Downloading pillow-11.1.0-cp313-cp313-win_amd64.whl (2.6 MB)\n",
      "   ---------------------------------------- 0.0/2.6 MB ? eta -:--:--\n",
      "   ------- -------------------------------- 0.5/2.6 MB 5.5 MB/s eta 0:00:01\n",
      "   --------------- ------------------------ 1.0/2.6 MB 3.3 MB/s eta 0:00:01\n",
      "   ------------------------------- -------- 2.1/2.6 MB 4.1 MB/s eta 0:00:01\n",
      "   ---------------------------------------- 2.6/2.6 MB 3.6 MB/s eta 0:00:00\n",
      "Downloading pyparsing-3.2.1-py3-none-any.whl (107 kB)\n",
      "Installing collected packages: pyparsing, pillow, numpy, kiwisolver, fonttools, cycler, contourpy, matplotlib\n",
      "Successfully installed contourpy-1.3.1 cycler-0.12.1 fonttools-4.55.3 kiwisolver-1.4.8 matplotlib-3.10.0 numpy-2.2.1 pillow-11.1.0 pyparsing-3.2.1\n"
     ]
    }
   ],
   "source": [
    "!python -m pip install matplotlib"
   ]
  },
  {
   "cell_type": "code",
   "execution_count": 16,
   "id": "76e98217-a177-4258-9d07-1465f76887fa",
   "metadata": {},
   "outputs": [
    {
     "data": {
      "text/plain": [
       "<matplotlib.collections.PathCollection at 0x280ffc0aba0>"
      ]
     },
     "execution_count": 16,
     "metadata": {},
     "output_type": "execute_result"
    },
    {
     "data": {
      "image/png": "[encoded data removed]",
      "text/plain": [
       "<Figure size 640x480 with 1 Axes>"
      ]
     },
     "metadata": {},
     "output_type": "display_data"
    }
   ],
   "source": [
    "import matplotlib.pyplot as plt\n",
    "\n",
    "x = dist.keys()\n",
    "y = dist.values()\n",
    "plt.scatter(x,y)"
   ]
  },
  {
   "cell_type": "code",
   "execution_count": null,
   "id": "45b1ceea-c4ae-4017-9277-dbedaeccb821",
   "metadata": {},
   "outputs": [],
   "source": []
  },
  {
   "cell_type": "code",
   "execution_count": 27,
   "id": "0ef153de-62f3-4193-93ae-baca1bfdbc4f",
   "metadata": {},
   "outputs": [],
   "source": [
    "def lps(n,m) :\n",
    "    people = list(range(n))\n",
    "    position = 0\n",
    "    while len(people) > 1 :\n",
    "        position = (position + m) % len(people)\n",
    "        people.pop(position)\n",
    "    return people[0]\n",
    "    \n",
    "        \n",
    "        "
   ]
  },
  {
   "cell_type": "code",
   "execution_count": 32,
   "id": "b2f2cd6f-8881-48bc-a90d-31bc38aa132e",
   "metadata": {},
   "outputs": [
    {
     "data": {
      "text/plain": [
       "203"
      ]
     },
     "execution_count": 32,
     "metadata": {},
     "output_type": "execute_result"
    }
   ],
   "source": [
    "lps(250,7)"
   ]
  },
  {
   "cell_type": "markdown",
   "id": "ff887d1f-4c3c-4639-bc13-c1dc24a5fa8e",
   "metadata": {},
   "source": [
    "$lps : \\cal{N} \\times (\\cal{N} \\rightarrow T) \\rightarrow T$ "
   ]
  },
  {
   "cell_type": "code",
   "execution_count": 10,
   "id": "46909376-ef90-4819-81da-675067727448",
   "metadata": {},
   "outputs": [],
   "source": [
    "def pop(f,i) :\n",
    "    f.pop(i)"
   ]
  },
  {
   "cell_type": "code",
   "execution_count": 11,
   "id": "e2921971-b366-4657-a371-de3e3c473537",
   "metadata": {},
   "outputs": [],
   "source": [
    "def lps(m,people,cursor=0) :\n",
    "    if len(people) == 1 :\n",
    "        return people[0]\n",
    "    cursor = (cursor + m) % len(people)\n",
    "    pop(people,cursor)\n",
    "    return lps(m,people,cursor)\n",
    "\n"
   ]
  },
  {
   "cell_type": "markdown",
   "id": "c8a2ff4a-62a8-4c11-a8aa-62d54209370a",
   "metadata": {},
   "source": [
    "### example 1"
   ]
  },
  {
   "cell_type": "code",
   "execution_count": 15,
   "id": "26474ab3-5614-4754-b0c4-577916e762b5",
   "metadata": {},
   "outputs": [
    {
     "data": {
      "text/plain": [
       "203"
      ]
     },
     "execution_count": 15,
     "metadata": {},
     "output_type": "execute_result"
    }
   ],
   "source": [
    "lps(7,list(range(250)))"
   ]
  },
  {
   "cell_type": "markdown",
   "id": "2e9385b8-9e56-4f0c-ac39-da9f95959347",
   "metadata": {},
   "source": [
    "### example 2"
   ]
  },
  {
   "cell_type": "code",
   "execution_count": 18,
   "id": "45549821-1014-45ca-9314-191fe2457e97",
   "metadata": {},
   "outputs": [
    {
     "data": {
      "text/plain": [
       "'j'"
      ]
     },
     "execution_count": 18,
     "metadata": {},
     "output_type": "execute_result"
    }
   ],
   "source": [
    "import string\n",
    "lps(5,list(string.ascii_lowercase))\n"
   ]
  },
  {
   "cell_type": "code",
   "execution_count": 14,
   "id": "504d9803-1dbb-4efc-b4ae-4d8f47dcab30",
   "metadata": {},
   "outputs": [
    {
     "data": {
      "text/plain": [
       "'abcdefghijklmnopqrstuvwxyz'"
      ]
     },
     "execution_count": 14,
     "metadata": {},
     "output_type": "execute_result"
    }
   ],
   "source": []
  },
  {
   "cell_type": "code",
   "execution_count": 12,
   "id": "08ad636a-e57c-4257-aeb6-f4f2d85b2477",
   "metadata": {},
   "outputs": [
    {
     "data": {
      "text/plain": [
       "203"
      ]
     },
     "execution_count": 12,
     "metadata": {},
     "output_type": "execute_result"
    }
   ],
   "source": []
  },
  {
   "cell_type": "markdown",
   "id": "2359eb24-6ae2-44ac-bb6b-f2b67e2fc02d",
   "metadata": {},
   "source": [
    "> **pop** : $(A \\rightarrow B) \\times A \\rightarrow (A \\rightarrow B)$\n",
    "> \n",
    "> *input* : $f \\in (A \\rightarrow B)$ , $a \\in A$ \\\n",
    "> *output* : $ \\in (A \\rightarrow B)$\n",
    ">\n",
    "> **return** $f \\setminus (a,f(a))$"
   ]
  },
  {
   "cell_type": "markdown",
   "id": "6c7481e9-1488-4301-a726-e386a9c6e727",
   "metadata": {},
   "source": [
    "> **lps** : $I \\times (I \\rightarrow T) \\rightarrow T$\n",
    "> \n",
    ">\n",
    "> *initialise* : $I = \\left\\{0,1,\\dots,n-1\\right\\}$ with $n \\in \\cal{N}$ and $n > 0$ , $cursor \\in I$ , $cursor = 0$   \\\n",
    "> *input* : $m \\in I$ , $positions \\in (I \\rightarrow T)$  \\\n",
    "> *output* : $ \\in T$\n",
    ">\n",
    "> **if** $|positions| = 1$  **return** $positions(0)$ \\\n",
    "> $cursor \\leftarrow (cursor + m)({\\bf mod} |positions|)$ \\\n",
    "> $positions \\leftarrow {\\bf pop}(cursor,positions)$ \\\n",
    "> **return** ${\\bf lps}(m,positions)$"
   ]
  },
  {
   "cell_type": "markdown",
   "id": "c2493e10-3f6d-4398-bf83-01aacbc2407a",
   "metadata": {},
   "source": []
  },
  {
   "cell_type": "markdown",
   "id": "5b2c33cd-ec2d-457e-8a86-b83b0237ffcb",
   "metadata": {},
   "source": [
    "> **Algorithm** parameters: step size  $\\alpha \\in (0 , 1] , \\epsilon > 0$   \n",
    "Initialize  $Q  ( s, a ), \\  \\forall s \\in S^+ , a \\in A ( s ),$ arbitrarily except that $Q ( terminal , \\cdot ) = 0$    \n",
    ">\n",
    "> Loop for each episode:  \n",
    "$\\quad$Initialize $S$   \n",
    "$\\quad$Loop  for  each  step  of  episode:    \n",
    "$\\qquad$Choose  $A$ from $S$ using some policy derived from $Q$ (eg $\\epsilon$-greedy)   \n",
    "$\\qquad$Take action $A$, observe $R, S'$   \n",
    "$\\qquad Q(S,A) \\leftarrow Q(S,A) + \\alpha[R+\\gamma \\max_a(S', a) - Q(S, A)]$   \n",
    "$\\qquad S \\leftarrow S'$    \n",
    "$\\quad$ until $S$ is terminal"
   ]
  },
  {
   "cell_type": "markdown",
   "id": "6cd716e3-79dd-459f-9448-8255e0f88872",
   "metadata": {},
   "source": [
    "> Algorithm parameters: step size  $\\alpha \\in (0 , 1] , \\epsilon > 0$   \n",
    "Initialize  $Q  ( s, a ), \\  \\forall s \\in S^+ , a \\in A ( s ),$ arbitrarily except that $Q ( terminal , \\cdot ) = 0$    \n",
    ">\n",
    "> Loop for each episode:  \n",
    "$\\quad$Initialize $S$   \n",
    "$\\quad$Loop  for  each  step  of  episode:    \n",
    "$\\qquad$Choose  $A$ from $S$ using some policy derived from $Q$ (eg $\\epsilon$-greedy)   \n",
    "$\\qquad$Take action $A$, observe $R, S'$   \n",
    "$\\qquad Q(S,A) \\leftarrow Q(S,A) + \\alpha[R+\\gamma \\max_a(S', a) - Q(S, A)]$   \n",
    "$\\qquad S \\leftarrow S'$    \n",
    "$\\quad$ until $S$ is terminal"
   ]
  }
 ],
 "metadata": {
  "kernelspec": {
   "display_name": "Python 3 (ipykernel)",
   "language": "python",
   "name": "python3"
  },
  "language_info": {
   "codemirror_mode": {
    "name": "ipython",
    "version": 3
   },
   "file_extension": ".py",
   "mimetype": "text/x-python",
   "name": "python",
   "nbconvert_exporter": "python",
   "pygments_lexer": "ipython3",
   "version": "3.12.3"
  }
 },
 "nbformat": 4,
 "nbformat_minor": 5
}
