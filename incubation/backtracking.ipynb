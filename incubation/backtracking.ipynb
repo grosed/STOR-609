{
 "cells": [
  {
   "cell_type": "markdown",
   "id": "0f0c25ce-2783-4104-b707-34054e9133e1",
   "metadata": {},
   "source": [
    "# Minimal Solution for STOR-609 Assessment 1"
   ]
  },
  {
   "cell_type": "markdown",
   "id": "55b6bdee-67c9-480a-adfe-fe763ac53052",
   "metadata": {},
   "source": [
    "## Basic Algorithm"
   ]
  },
  {
   "cell_type": "markdown",
   "id": "3eddc640-8b02-417d-b31c-c0edf2b9c955",
   "metadata": {},
   "source": [
    "Note - no real need to pass P if using object based programming "
   ]
  },
  {
   "cell_type": "code",
   "execution_count": 1,
   "id": "d629f186-c17a-4282-a974-6ddf313524d8",
   "metadata": {},
   "outputs": [],
   "source": [
    "from pymonad.tools import curry  "
   ]
  },
  {
   "cell_type": "code",
   "execution_count": 2,
   "id": "b79d9eb2-4cc0-4282-bc6c-90e88348a25a",
   "metadata": {},
   "outputs": [],
   "source": [
    "@curry(6)\n",
    "def Backtrack(First,Next,Accept,Reject,Output,C) :\n",
    "    if Reject(C) : return None\n",
    "    if Accept(C) : Output(C)\n",
    "    S = First(C)\n",
    "    while S != None :\n",
    "        Backtrack(First,Next,Accept,Reject,Output,S)\n",
    "        S = Next(S)\n",
    "    return\n",
    "    "
   ]
  },
  {
   "cell_type": "markdown",
   "id": "13a8d5f9-a9da-4af5-aada-7de0e4a0aac3",
   "metadata": {},
   "source": [
    "## Problem 1 - Partitioning Numbers"
   ]
  },
  {
   "cell_type": "markdown",
   "id": "5c64a037-464d-4b29-848f-516a35ff651e",
   "metadata": {},
   "source": [
    "Note - this solution solves the more general case of restricted partitions. Set n = m = t for the integer partions of n."
   ]
  },
  {
   "cell_type": "code",
   "execution_count": 3,
   "id": "abdf4c75-130b-49cc-8a0a-95b918201acc",
   "metadata": {},
   "outputs": [],
   "source": [
    "def Root() :\n",
    "    return []"
   ]
  },
  {
   "cell_type": "code",
   "execution_count": 4,
   "id": "e9024004-4b14-4dad-b5cb-b4251e76f08a",
   "metadata": {},
   "outputs": [],
   "source": [
    "@curry(3)\n",
    "def First(n,m,S) :\n",
    "    C = list(S)\n",
    "    k = len(C)\n",
    "    if k == n :\n",
    "        return None\n",
    "    elif k == 0 :\n",
    "        C.append(1)\n",
    "    else :\n",
    "        C.append(C[k-1])\n",
    "    return C"
   ]
  },
  {
   "cell_type": "code",
   "execution_count": 5,
   "id": "bc0b99a7-2ce1-406b-a6de-4c92378f8d66",
   "metadata": {},
   "outputs": [],
   "source": [
    "@curry(3)\n",
    "def Next(n,m,S) :\n",
    "    C = list(S)\n",
    "    k = len(C)\n",
    "    if C[k-1] == m :\n",
    "        return None\n",
    "    C[k-1] = C[k-1] + 1\n",
    "    return C"
   ]
  },
  {
   "cell_type": "code",
   "execution_count": 6,
   "id": "4ff758a7-68d0-4ffb-85c8-97c9678fafb0",
   "metadata": {},
   "outputs": [],
   "source": [
    "@curry(2)\n",
    "def Accept(target,C) :\n",
    "    if sum(C) == target :\n",
    "        return True\n",
    "    return False"
   ]
  },
  {
   "cell_type": "code",
   "execution_count": 7,
   "id": "87f655db-c4e7-4a8b-b549-a68644e1bc50",
   "metadata": {},
   "outputs": [],
   "source": [
    "@curry(2)\n",
    "def Reject(target,C) :\n",
    "    if sum(C) > target :\n",
    "        return True\n",
    "    return False\n",
    "    "
   ]
  },
  {
   "cell_type": "code",
   "execution_count": 8,
   "id": "bf54b7ac-2428-49c1-9304-f0cc99286f5c",
   "metadata": {},
   "outputs": [],
   "source": [
    "def Output(C) :\n",
    "    print(C)"
   ]
  },
  {
   "cell_type": "markdown",
   "id": "3b286262-0721-4b94-bb57-8aeaf13031bd",
   "metadata": {},
   "source": [
    "### Example"
   ]
  },
  {
   "cell_type": "code",
   "execution_count": 9,
   "id": "6048d33d-5fa8-4328-9c4f-08b9031860b3",
   "metadata": {},
   "outputs": [
    {
     "name": "stdout",
     "output_type": "stream",
     "text": [
      "[1, 1, 1, 1, 1, 1, 1, 1, 1, 1]\n",
      "[1, 1, 1, 1, 1, 1, 1, 1, 2]\n",
      "[1, 1, 1, 1, 1, 1, 1, 3]\n",
      "[1, 1, 1, 1, 1, 1, 2, 2]\n",
      "[1, 1, 1, 1, 1, 1, 4]\n",
      "[1, 1, 1, 1, 1, 2, 3]\n",
      "[1, 1, 1, 1, 1, 5]\n",
      "[1, 1, 1, 1, 2, 2, 2]\n",
      "[1, 1, 1, 1, 2, 4]\n",
      "[1, 1, 1, 1, 3, 3]\n",
      "[1, 1, 1, 1, 6]\n",
      "[1, 1, 1, 2, 2, 3]\n",
      "[1, 1, 1, 2, 5]\n",
      "[1, 1, 1, 3, 4]\n",
      "[1, 1, 1, 7]\n",
      "[1, 1, 2, 2, 2, 2]\n",
      "[1, 1, 2, 2, 4]\n",
      "[1, 1, 2, 3, 3]\n",
      "[1, 1, 2, 6]\n",
      "[1, 1, 3, 5]\n",
      "[1, 1, 4, 4]\n",
      "[1, 1, 8]\n",
      "[1, 2, 2, 2, 3]\n",
      "[1, 2, 2, 5]\n",
      "[1, 2, 3, 4]\n",
      "[1, 2, 7]\n",
      "[1, 3, 3, 3]\n",
      "[1, 3, 6]\n",
      "[1, 4, 5]\n",
      "[1, 9]\n",
      "[2, 2, 2, 2, 2]\n",
      "[2, 2, 2, 4]\n",
      "[2, 2, 3, 3]\n",
      "[2, 2, 6]\n",
      "[2, 3, 5]\n",
      "[2, 4, 4]\n",
      "[2, 8]\n",
      "[3, 3, 4]\n",
      "[3, 7]\n",
      "[4, 6]\n",
      "[5, 5]\n",
      "[10]\n"
     ]
    }
   ],
   "source": [
    "n = 10\n",
    "Backtrack(First(n,n),Next(n,n),Accept(n),Reject(n),Output,Root())"
   ]
  },
  {
   "cell_type": "markdown",
   "id": "5af522cc-afb6-4040-8248-e4825afe0a30",
   "metadata": {},
   "source": [
    "## Problem 2 - Gray Codes"
   ]
  },
  {
   "cell_type": "markdown",
   "id": "6ee543d2-8298-4de8-8b86-6c84f05b7d2e",
   "metadata": {},
   "source": [
    "This solution uses object based programming. The state is used to store the solutions and a stopping paramater. Th latter allows the algorithm to stop when the first Gray code is found."
   ]
  },
  {
   "cell_type": "code",
   "execution_count": 10,
   "id": "24d0f732-b606-4f86-81b6-f07917e119f6",
   "metadata": {},
   "outputs": [],
   "source": [
    "def gray_codes(n,start,stop_early = False) :\n",
    "    stop = False\n",
    "    solutions = []\n",
    "\n",
    "    def Root() :\n",
    "        nonlocal start\n",
    "        return ([start],1)\n",
    "\n",
    "    def First(S) :\n",
    "        nonlocal n,stop\n",
    "        if stop : return None\n",
    "        start_sequence,_ = S\n",
    "        sequence = list(start_sequence) ## need deep copy\n",
    "        sequence.append(sequence[-1] ^ 1)\n",
    "        return sequence,1\n",
    "\n",
    "    def Next(S) :\n",
    "        nonlocal n,stop\n",
    "        if stop : return None\n",
    "        start_sequence,mask = S\n",
    "        if mask == 2**(n-1) : return None ## no more to do\n",
    "        sequence = list(start_sequence) ## mutable list - need deep copy !!\n",
    "        sequence[-1] ^= mask ## undo the last change\n",
    "        mask <<= 1\n",
    "        sequence[-1] ^= mask ## make next change\n",
    "        return sequence,mask\n",
    "\n",
    "    def Reject(S) :\n",
    "        nonlocal n,stop\n",
    "        if stop : return None\n",
    "        sequence,mask = S\n",
    "        return sequence[-1] in sequence[:-1] if len(sequence) > 0 else False\n",
    "\n",
    "    def Accept(S) :\n",
    "        nonlocal n,stop\n",
    "        if stop : return None\n",
    "        sequence,_ = S\n",
    "        return True if len(sequence) == 2**n else False\n",
    "\n",
    "    def Output(S) :\n",
    "        nonlocal stop,stop_early,solutions\n",
    "        sequence,_ = S \n",
    "        solutions.append(sequence)\n",
    "        if stop_early : stop = True\n",
    "        return \n",
    "\n",
    "    def Result() :\n",
    "        nonlocal solutions\n",
    "        return solutions\n",
    "        \n",
    "    return First,Next,Accept,Reject,Output,Root,Result\n",
    "    "
   ]
  },
  {
   "cell_type": "code",
   "execution_count": 11,
   "id": "4d7a078d-ea2e-4c19-9408-d48fb4cedfe1",
   "metadata": {},
   "outputs": [
    {
     "data": {
      "text/plain": [
       "[[0, 1, 3, 2, 6, 7, 5, 4, 12, 13, 15, 14, 10, 11, 9, 8]]"
      ]
     },
     "execution_count": 11,
     "metadata": {},
     "output_type": "execute_result"
    }
   ],
   "source": [
    "n = 4\n",
    "start = 0\n",
    "stop_early = True\n",
    "First,Next,Accept,Reject,Output,Root,Result = gray_codes(n,start,stop_early)\n",
    "Backtrack(First,Next,Accept,Reject,Output,Root())\n",
    "Result()\n"
   ]
  }
 ],
 "metadata": {
  "kernelspec": {
   "display_name": "Python 3 (ipykernel)",
   "language": "python",
   "name": "python3"
  },
  "language_info": {
   "codemirror_mode": {
    "name": "ipython",
    "version": 3
   },
   "file_extension": ".py",
   "mimetype": "text/x-python",
   "name": "python",
   "nbconvert_exporter": "python",
   "pygments_lexer": "ipython3",
   "version": "3.12.3"
  }
 },
 "nbformat": 4,
 "nbformat_minor": 5
}
