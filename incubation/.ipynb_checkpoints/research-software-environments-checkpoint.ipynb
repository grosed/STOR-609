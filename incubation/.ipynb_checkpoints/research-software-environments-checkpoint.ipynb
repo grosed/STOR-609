{
 "cells": [
  {
   "cell_type": "code",
   "execution_count": null,
   "id": "24d238ec-8576-424f-85a3-066711da6771",
   "metadata": {},
   "outputs": [],
   "source": []
  },
  {
   "cell_type": "markdown",
   "id": "bbe5ec53-6f3e-4d80-bf22-b2a71592706a",
   "metadata": {},
   "source": [
    "# Research Software Environments"
   ]
  },
  {
   "cell_type": "markdown",
   "id": "b3a9fc1a-edfe-49cc-a32f-8dc661088f18",
   "metadata": {},
   "source": [
    "## Lecture Plan"
   ]
  },
  {
   "cell_type": "markdown",
   "id": "2c86b5d7-fc39-4252-9c63-831c8616e1e5",
   "metadata": {},
   "source": [
    "- top level diagram\n",
    "- prezi based on top level diagram\n",
    "- overview of tools from prezi presentation (use diagrams from presentation)"
   ]
  },
  {
   "cell_type": "markdown",
   "id": "3cc3781a-9eac-4cdd-b71d-aa1f240636cb",
   "metadata": {},
   "source": [
    "### problems \n",
    "\n",
    "rig needs SU access - this is a problem on Windows (for bizarre reasons) and will also be a problem on storm, unless we can add rig to storm."
   ]
  },
  {
   "cell_type": "markdown",
   "id": "a13b09fa-0102-4fbc-80ce-9c0c321c82e0",
   "metadata": {},
   "source": [
    "## Tutorial Plan"
   ]
  },
  {
   "cell_type": "markdown",
   "id": "0c5ed099-cf48-4e7e-8125-b1100e53a03b",
   "metadata": {},
   "source": [
    "## Resources"
   ]
  },
  {
   "cell_type": "markdown",
   "id": "b5426f2d-26e1-406e-9a6a-0f1b1d5ced1d",
   "metadata": {},
   "source": [
    "- Some [notes from posit](https://solutions.posit.co/envs-pkgs/environments/)\n",
    "- The R version management system [rig](https://github.com/r-lib/rig)\n",
    "- The R environment management system [renv](https://cran.r-project.org/web/packages/renv/index.html)"
   ]
  },
  {
   "cell_type": "code",
   "execution_count": null,
   "id": "ab5ce996-c3e6-43a5-ba9a-6a58433ab3b3",
   "metadata": {},
   "outputs": [],
   "source": []
  }
 ],
 "metadata": {
  "kernelspec": {
   "display_name": "Python 3 (ipykernel)",
   "language": "python",
   "name": "python3"
  },
  "language_info": {
   "codemirror_mode": {
    "name": "ipython",
    "version": 3
   },
   "file_extension": ".py",
   "mimetype": "text/x-python",
   "name": "python",
   "nbconvert_exporter": "python",
   "pygments_lexer": "ipython3",
   "version": "3.12.3"
  }
 },
 "nbformat": 4,
 "nbformat_minor": 5
}
