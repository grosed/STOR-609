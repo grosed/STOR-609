{
 "cells": [
  {
   "cell_type": "code",
   "execution_count": null,
   "id": "5a4a9d3f-0464-4507-8439-ed304b7c4927",
   "metadata": {},
   "outputs": [],
   "source": []
  },
  {
   "cell_type": "code",
   "execution_count": 41,
   "id": "b2d3ff2f-5dbd-4127-8168-94562c8bed53",
   "metadata": {},
   "outputs": [],
   "source": [
    "def classA() :\n",
    "    data = 1\n",
    "    def get() :\n",
    "        nonlocal data\n",
    "        return data\n",
    "    def set(x) :\n",
    "        nonlocal data\n",
    "        data = x\n",
    "        return data\n",
    "    def clone() :\n",
    "        new = classA()\n",
    "        new[1](get())\n",
    "        return new\n",
    "    return get,set,clone\n",
    "        "
   ]
  },
  {
   "cell_type": "code",
   "execution_count": null,
   "id": "c7843418-316a-4ad7-ace7-aaa05a26ccbf",
   "metadata": {},
   "outputs": [],
   "source": []
  },
  {
   "cell_type": "code",
   "execution_count": 44,
   "id": "36b64431-d86f-4040-9373-99b2c9ccf5ab",
   "metadata": {},
   "outputs": [
    {
     "name": "stdout",
     "output_type": "stream",
     "text": [
      "1\n",
      "3.14\n",
      "3.14\n",
      "2.7\n"
     ]
    }
   ],
   "source": [
    "a1 = classA()\n",
    "print(a1[0]())\n",
    "a1[1](3.14)\n",
    "print(a1[0]())\n",
    "a2 = a1[2]()\n",
    "a2[1](2.7)\n",
    "print(a1[0]())\n",
    "print(a2[0]())"
   ]
  },
  {
   "cell_type": "code",
   "execution_count": null,
   "id": "1cdceae3-5104-4b2b-bf4c-1c78be705297",
   "metadata": {},
   "outputs": [],
   "source": []
  },
  {
   "cell_type": "code",
   "execution_count": 29,
   "id": "82b02b9a-83d6-4714-862f-22c71581af94",
   "metadata": {},
   "outputs": [],
   "source": [
    "class A :\n",
    "    def __init__(self) :\n",
    "        self.data = 1\n",
    "    def clone(self) :\n",
    "        newA = A()\n",
    "        newA.set(self.data)\n",
    "        return newA\n",
    "    def set(self,data) :\n",
    "        self.data = data\n",
    "        return self.data\n",
    "    def get(self) :\n",
    "        return self.data\n",
    "        "
   ]
  },
  {
   "cell_type": "code",
   "execution_count": 30,
   "id": "7dc75277-94e7-4a96-bf32-0ec6d49b6762",
   "metadata": {},
   "outputs": [
    {
     "name": "stdout",
     "output_type": "stream",
     "text": [
      "1\n",
      "3.14\n",
      "3.14\n",
      "3.14\n",
      "2.7\n",
      "3.14\n"
     ]
    }
   ],
   "source": [
    "a1 = A()\n",
    "print(a1.get())\n",
    "a1.set(3.14)\n",
    "print(a1.get())\n",
    "a2 = a1.clone()\n",
    "print(a2.get())\n",
    "a2.set(2.7)\n",
    "print(a1.get())\n",
    "print(a2.get())\n",
    "f = a1.get\n",
    "print(f())\n"
   ]
  }
 ],
 "metadata": {
  "kernelspec": {
   "display_name": "Python 3 (ipykernel)",
   "language": "python",
   "name": "python3"
  },
  "language_info": {
   "codemirror_mode": {
    "name": "ipython",
    "version": 3
   },
   "file_extension": ".py",
   "mimetype": "text/x-python",
   "name": "python",
   "nbconvert_exporter": "python",
   "pygments_lexer": "ipython3",
   "version": "3.9.10"
  }
 },
 "nbformat": 4,
 "nbformat_minor": 5
}
