{
 "cells": [
  {
   "cell_type": "markdown",
   "id": "83c875c0-ad37-4856-8e64-1ee6b1b306ac",
   "metadata": {},
   "source": [
    "# Redirection, Pipes, and Tees"
   ]
  },
  {
   "cell_type": "markdown",
   "id": "45b57c2c-6415-48a9-bb1c-b79ada765a21",
   "metadata": {},
   "source": [
    "So, unix has lots of tools that do one thing very well. This modular approach is generally considered to be a good design principle, not only in computer science. However, it is only when the tools are used together that the true utility of the unix philosophy really begins to emerge."
   ]
  },
  {
   "cell_type": "markdown",
   "id": "a050107b-36f8-4608-b94a-3d95e542fbe4",
   "metadata": {},
   "source": [
    "## Everything is a file"
   ]
  },
  {
   "cell_type": "markdown",
   "id": "16c74371-8cee-4663-a026-2376cdbe9656",
   "metadata": {},
   "source": [
    "In Unix everything is a file, however, there are different types of files. A device file corresponds to a physical element of the system such as a mouse, printer, or terminal. These files are usually located in the systems /dev/ directory (try listing its contents). A terminal usually has the format **tty**\\<number\\>.  \n",
    "\n"
   ]
  },
  {
   "cell_type": "markdown",
   "id": "112e28c4-55b2-4cbf-8315-4a7d31bacbf8",
   "metadata": {},
   "source": [
    "Not convinced - try this on your system (use the output of the first command in the ones that follow).\n",
    "\n"
   ]
  },
  {
   "cell_type": "code",
   "execution_count": 8,
   "id": "b48aa051-aa99-47bb-9a81-73500ee4c8d4",
   "metadata": {},
   "outputs": [
    {
     "name": "stdout",
     "output_type": "stream",
     "text": [
      "/dev/pts/10\n"
     ]
    }
   ],
   "source": [
    "tty"
   ]
  },
  {
   "cell_type": "code",
   "execution_count": 9,
   "id": "3def6f81-79ab-4680-9088-f5b601d92579",
   "metadata": {},
   "outputs": [
    {
     "name": "stdout",
     "output_type": "stream",
     "text": [
      "crw--w---- 1 grosed tty 136, 10 Dec 20 13:54 \u001b[0m\u001b[40;33;01m/dev/pts/10\u001b[0m\n"
     ]
    }
   ],
   "source": [
    "ls -l /dev/pts/10"
   ]
  },
  {
   "cell_type": "markdown",
   "id": "fd46221d-1b8d-4540-92ee-9280f6517cc8",
   "metadata": {},
   "source": [
    "Now start a new terminal using Ctrl-shift-N and type\n",
    "\n",
    "```bash\n",
    "cat > /dev/pts/10\n",
    "```\n",
    "followed by some input. What happens ?\n",
    "\n"
   ]
  },
  {
   "cell_type": "markdown",
   "id": "3f8d8e25-f01e-4fe6-a9cd-c3e959850ded",
   "metadata": {},
   "source": [
    "Within a shell, communication between unix tools/programs is done via files, and the standard format for the communication is text. In short, unix utilities communicate with each other via text files."
   ]
  },
  {
   "cell_type": "markdown",
   "id": "d1989101-c3aa-4f84-a2bb-e249ac68d6ad",
   "metadata": {},
   "source": [
    "## stdin and stdout"
   ]
  },
  {
   "cell_type": "markdown",
   "id": "a22cf618-b57a-4fcf-af32-cfe406e59420",
   "metadata": {},
   "source": [
    "Unless specified by a user, the files which are used for communication between tools are managed by the shell. The default used for input is called **stdin** and for output **stdout** (short for standard input and standard output). Here is what things look like when you use a unix command."
   ]
  },
  {
   "cell_type": "markdown",
   "id": "fc66b599-a2fd-448b-9f42-ae10c4fbaa0c",
   "metadata": {},
   "source": [
    "<figure>\n",
    "<img src=\"./images/stdin-stdout.png\" width=400\">\n",
    "<figcaption align = \"center\"> Terminal Window </figcaption>\n",
    "</figure>"
   ]
  },
  {
   "cell_type": "markdown",
   "id": "af81e20a-68ad-4c8a-a94a-93a5554e06c0",
   "metadata": {},
   "source": [
    "For example \n",
    "``` bash\n",
    "echo \"hello\"\n",
    "```\n",
    "will send the output to the terminal using **stdout**"
   ]
  },
  {
   "cell_type": "markdown",
   "id": "b061af0c-9664-4a36-bd60-02261da5cc4b",
   "metadata": {},
   "source": [
    "The destination of the output can be changed by using the **>** operator."
   ]
  },
  {
   "cell_type": "markdown",
   "id": "f707ebc4-6320-438f-935f-37c74b073b28",
   "metadata": {},
   "source": [
    "### Exercise\n",
    "\n",
    "What happens when you run this ?\n",
    "\n",
    "```bash\n",
    "echo \"hello\" > output\n",
    "```"
   ]
  },
  {
   "cell_type": "markdown",
   "id": "f890a128-dda6-4f04-82aa-c191ecc34b7a",
   "metadata": {},
   "source": [
    "Using **>** *redirects* the output to the specified file. Note that the file is created by the shell. This is visualised in the figure below."
   ]
  },
  {
   "cell_type": "markdown",
   "id": "f2ad280c-7d79-4b2c-8f62-6dcdab0a7326",
   "metadata": {},
   "source": [
    "<figure>\n",
    "<img src=\"./images/stdin-stdout-file.png\" width=400\">\n",
    "<figcaption align = \"center\"> Terminal Window </figcaption>\n",
    "</figure>"
   ]
  },
  {
   "cell_type": "markdown",
   "id": "305cd0d5-69d9-40b1-a05e-b7f68212d5ae",
   "metadata": {},
   "source": [
    "### Exercise\n",
    "\n",
    "What happens if the file already exists ?\n",
    "\n",
    "What does the **>>** operator do ?"
   ]
  },
  {
   "cell_type": "markdown",
   "id": "f2f8c341-5f11-40b8-a34c-a9399a0bc85c",
   "metadata": {},
   "source": [
    "The same process can take place for input, for example (assuming you have still got output from the previous exercise)\n",
    "\n",
    "```bash\n",
    "wc < ouput\n",
    "```\n",
    "\n",
    "Note that the input is on the right hand side. \n",
    "\n",
    "Here is what is happening visually."
   ]
  },
  {
   "cell_type": "markdown",
   "id": "338e8f0b-ea61-4583-b8a0-bda5ac6e8bcd",
   "metadata": {},
   "source": [
    "<figure>\n",
    "<img src=\"./images/file-stdin-stdout.png\" width=400\">\n",
    "<figcaption align = \"center\"> Terminal Window </figcaption>\n",
    "</figure>"
   ]
  },
  {
   "cell_type": "markdown",
   "id": "c1652dfe-8094-4035-b487-a5d663cebe9c",
   "metadata": {},
   "source": [
    "Use of **>** and **<** can be combined using **;**\n",
    "\n",
    "```bash\n",
    "echo \"hello\" > output ; wc < ouput\n",
    "```\n",
    "Visually this is "
   ]
  },
  {
   "cell_type": "markdown",
   "id": "d07dd0a3-727b-4ccb-8deb-7d8bb5175fe7",
   "metadata": {},
   "source": [
    "<figure>\n",
    "<img src=\"./images/file-stdin-stdout-file.png\" width=400\">\n",
    "<figcaption align = \"center\"> Terminal Window </figcaption>\n",
    "</figure>"
   ]
  },
  {
   "cell_type": "markdown",
   "id": "adb193e1-abbf-4bf9-b463-caf7e579dfe5",
   "metadata": {},
   "source": [
    "### Exercise\n",
    "\n",
    "How would you \"automate\" removing the file in the previous example ?"
   ]
  },
  {
   "cell_type": "markdown",
   "id": "c3bc2264-b67f-4285-9d26-64ef3e53d589",
   "metadata": {},
   "source": [
    "This is all a bit clumsy, so instead, the **|** operator is provided.\n",
    "\n",
    "```bash\n",
    "echo \"hello\" | wc\n",
    "```\n"
   ]
  },
  {
   "cell_type": "markdown",
   "id": "ddbb8c61-d49d-42b3-830c-c4da2ee6420e",
   "metadata": {},
   "source": [
    "In short, the **|** operator automates doing this"
   ]
  },
  {
   "cell_type": "markdown",
   "id": "af7d557b-1161-419d-bb10-817ed6e8115d",
   "metadata": {},
   "source": [
    "<figure>\n",
    "<img src=\"./images/stdin-cmd-file-cmd-stdout.png\" width=400\">\n",
    "<figcaption align = \"center\"> Terminal Window </figcaption>\n",
    "</figure>"
   ]
  },
  {
   "cell_type": "markdown",
   "id": "d14dc962-e0af-4d95-b87a-28386ad59d91",
   "metadata": {},
   "source": [
    "by converting it to this"
   ]
  },
  {
   "cell_type": "markdown",
   "id": "be80a14d-a3af-4d1b-8ab1-6d7e42707199",
   "metadata": {},
   "source": [
    "<figure>\n",
    "<img src=\"./images/stdin-cmd-pipe-cmd-stdout.png\" width=400\">\n",
    "<figcaption align = \"center\"> Terminal Window </figcaption>\n",
    "</figure>"
   ]
  },
  {
   "cell_type": "markdown",
   "id": "8e9ce391-1613-4888-86be-66b5c3038f2a",
   "metadata": {},
   "source": [
    "### Exercise\n",
    "\n",
    "The command \n",
    "```bash\n",
    "R --vanilla --no-echo\n",
    "```\n",
    "starts R (quietly).\n",
    "\n",
    "Use a single line shell command (with no ;) to generate 1000 numbers drawn from $\\cal{N}(0,1)$ and save them in a file **data-1.txt**."
   ]
  }
 ],
 "metadata": {
  "kernelspec": {
   "display_name": "Bash",
   "language": "bash",
   "name": "bash"
  },
  "language_info": {
   "codemirror_mode": "shell",
   "file_extension": ".sh",
   "mimetype": "text/x-sh",
   "name": "bash"
  }
 },
 "nbformat": 4,
 "nbformat_minor": 5
}
