{
 "cells": [
  {
   "cell_type": "markdown",
   "id": "83c875c0-ad37-4856-8e64-1ee6b1b306ac",
   "metadata": {},
   "source": [
    "# Redirection, Pipes, and Tees"
   ]
  },
  {
   "cell_type": "markdown",
   "id": "16c74371-8cee-4663-a026-2376cdbe9656",
   "metadata": {},
   "source": [
    "In Unix everything is a file, however, there are different types of files. A device file corresponds to a physical element of the system such as a mouse, printer, or terminal. These files are usually located in the systems /dev/ directory (try listing its contents). A terminal usually has the format **tty**\\<number\\>.  \n",
    "\n"
   ]
  },
  {
   "cell_type": "markdown",
   "id": "112e28c4-55b2-4cbf-8315-4a7d31bacbf8",
   "metadata": {},
   "source": [
    "Not convinced - try this on your system (use the output of the first command in the ones that follow).\n",
    "\n"
   ]
  },
  {
   "cell_type": "code",
   "execution_count": 8,
   "id": "b48aa051-aa99-47bb-9a81-73500ee4c8d4",
   "metadata": {},
   "outputs": [
    {
     "name": "stdout",
     "output_type": "stream",
     "text": [
      "/dev/pts/10\n"
     ]
    }
   ],
   "source": [
    "tty"
   ]
  },
  {
   "cell_type": "code",
   "execution_count": 9,
   "id": "3def6f81-79ab-4680-9088-f5b601d92579",
   "metadata": {},
   "outputs": [
    {
     "name": "stdout",
     "output_type": "stream",
     "text": [
      "crw--w---- 1 grosed tty 136, 10 Dec 20 13:54 \u001b[0m\u001b[40;33;01m/dev/pts/10\u001b[0m\n"
     ]
    }
   ],
   "source": [
    "ls -l /dev/pts/10"
   ]
  },
  {
   "cell_type": "markdown",
   "id": "fd46221d-1b8d-4540-92ee-9280f6517cc8",
   "metadata": {},
   "source": [
    "Now start a new terminal using Ctrl-shift-N and type\n",
    "\n",
    "```bash\n",
    "cat > /dev/pts/10\n",
    "```\n",
    "followed by some input. What happens ?\n",
    "\n"
   ]
  },
  {
   "cell_type": "markdown",
   "id": "fc66b599-a2fd-448b-9f42-ae10c4fbaa0c",
   "metadata": {},
   "source": [
    "<figure>\n",
    "<img src=\"./images/stdin-stdout.png\" width=400\">\n",
    "<figcaption align = \"center\"> Terminal Window </figcaption>\n",
    "</figure>"
   ]
  },
  {
   "cell_type": "markdown",
   "id": "f2ad280c-7d79-4b2c-8f62-6dcdab0a7326",
   "metadata": {},
   "source": [
    "<figure>\n",
    "<img src=\"./images/stdin-stdout-file.png\" width=400\">\n",
    "<figcaption align = \"center\"> Terminal Window </figcaption>\n",
    "</figure>"
   ]
  },
  {
   "cell_type": "markdown",
   "id": "338e8f0b-ea61-4583-b8a0-bda5ac6e8bcd",
   "metadata": {},
   "source": [
    "<figure>\n",
    "<img src=\"./images/file-stdin-stdout.png\" width=400\">\n",
    "<figcaption align = \"center\"> Terminal Window </figcaption>\n",
    "</figure>"
   ]
  },
  {
   "cell_type": "markdown",
   "id": "d07dd0a3-727b-4ccb-8deb-7d8bb5175fe7",
   "metadata": {},
   "source": [
    "<figure>\n",
    "<img src=\"./images/file-stdin-stdout-file.png\" width=400\">\n",
    "<figcaption align = \"center\"> Terminal Window </figcaption>\n",
    "</figure>"
   ]
  },
  {
   "cell_type": "markdown",
   "id": "af7d557b-1161-419d-bb10-817ed6e8115d",
   "metadata": {},
   "source": [
    "<figure>\n",
    "<img src=\"./images/stdin-cmd-file-cmd-stdout.png\" width=400\">\n",
    "<figcaption align = \"center\"> Terminal Window </figcaption>\n",
    "</figure>"
   ]
  },
  {
   "cell_type": "markdown",
   "id": "be80a14d-a3af-4d1b-8ab1-6d7e42707199",
   "metadata": {},
   "source": [
    "<figure>\n",
    "<img src=\"./images/stdin-cmd-pipe-cmd-stdout.png\" width=400\">\n",
    "<figcaption align = \"center\"> Terminal Window </figcaption>\n",
    "</figure>"
   ]
  }
 ],
 "metadata": {
  "kernelspec": {
   "display_name": "Bash",
   "language": "bash",
   "name": "bash"
  },
  "language_info": {
   "codemirror_mode": "shell",
   "file_extension": ".sh",
   "mimetype": "text/x-sh",
   "name": "bash"
  }
 },
 "nbformat": 4,
 "nbformat_minor": 5
}
