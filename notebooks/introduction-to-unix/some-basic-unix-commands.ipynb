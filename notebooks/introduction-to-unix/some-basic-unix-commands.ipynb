{
 "cells": [
  {
   "cell_type": "markdown",
   "id": "4d94d27c-d990-45db-ab25-3a92e614ceb3",
   "metadata": {},
   "source": [
    "# Some Basic Unix Commands"
   ]
  },
  {
   "cell_type": "markdown",
   "id": "19caa4ba-9552-4240-9688-968fbfbff4be",
   "metadata": {},
   "source": [
    "Here are some commonly used Unix commands"
   ]
  },
  {
   "cell_type": "markdown",
   "id": "9f73fa53-d017-4545-8b49-f7df3065504f",
   "metadata": {},
   "source": [
    "- **ls** - list files\n",
    "- **man** - get information about a unix command\n",
    "- **pwd** - display present working directory\n",
    "- **cp** - copy files\n",
    "- **mv** - move files\n",
    "- **rm** - remove files\n",
    "- **cd** - change directory\n",
    "- **mkdir** - make a directory\n",
    "- **rmdir** - remove a directory\n"
   ]
  },
  {
   "cell_type": "markdown",
   "id": "e812a7fd-ba8e-427f-99b5-3fd2128c5d48",
   "metadata": {},
   "source": [
    "For example, you can generate a list of files and directories by using the command **ls**.  "
   ]
  },
  {
   "cell_type": "code",
   "execution_count": 3,
   "id": "6d8393da-af8e-41f3-80d3-5551a5e39b0d",
   "metadata": {},
   "outputs": [
    {
     "name": "stdout",
     "output_type": "stream",
     "text": [
      "\u001b[0m\u001b[01;34m_build\u001b[0m                 \u001b[01;34mimages\u001b[0m                      notes.txt\n",
      "_config.yml            introduction-to-unix.ipynb  _toc.yml\n",
      "getting-started.ipynb  intro.ipynb                 Untitled1.ipynb\n",
      "image-creation.odp     messages.txt                Untitled.ipynb\n"
     ]
    }
   ],
   "source": [
    "ls"
   ]
  },
  {
   "cell_type": "markdown",
   "id": "dc6894ee-6694-46ad-a86d-44e934d88391",
   "metadata": {},
   "source": [
    "Notice that the output of the command **ls** shown above is not on your system (it is on one of mine), so the output will be different."
   ]
  },
  {
   "cell_type": "markdown",
   "id": "1ee8c3d2-98c5-4b8a-b297-5ae030bd87fc",
   "metadata": {},
   "source": [
    "Most unix commands can accept additional options which modify what the basic command does. For example"
   ]
  },
  {
   "cell_type": "code",
   "execution_count": 3,
   "id": "fe17a8f5-251d-48c3-8606-0658ee5da0fe",
   "metadata": {},
   "outputs": [
    {
     "name": "stdout",
     "output_type": "stream",
     "text": [
      "total 4700\n",
      "-rw-rw-r-- 1 grosed grosed 198676 Dec 16 10:22 \u001b[0m\u001b[01;35mandroid-architecture.jpg\u001b[0m\n",
      "-rw-rw-r-- 1 grosed grosed  72518 Dec 16 11:49 \u001b[01;35mcomputer-hardware.jpg\u001b[0m\n",
      "-rw-rw-r-- 1 grosed grosed 539589 Dec 16 11:53 \u001b[01;35mdesktop-applications.jpg\u001b[0m\n",
      "-rw-rw-r-- 1 grosed grosed 202835 Dec 16 10:39 \u001b[01;35mdesktop-os-statistics.png\u001b[0m\n",
      "-rw-rw-r-- 1 grosed grosed  29663 Dec 16 10:32 \u001b[01;35mdevice-shipment-2015.png\u001b[0m\n",
      "-rw-rw-r-- 1 grosed grosed   1255 Dec 20 13:19 \u001b[01;35mfile-1453.png\u001b[0m\n",
      "-rw-rw-r-- 1 grosed grosed 236442 Dec 20 13:51 \u001b[01;35mfile-stdin-cmd-stdout.png\u001b[0m\n",
      "-rw-rw-r-- 1 grosed grosed 237638 Dec 20 13:48 \u001b[01;35mfile-stdin-stdout-file.png\u001b[0m\n",
      "-rw-rw-r-- 1 grosed grosed  62234 Dec 20 11:24 introduction-to-unix.ipynb\n",
      "-rw-rw-r-- 1 grosed grosed 108310 Dec 16 11:40 \u001b[01;35mlinux-kernel-code.png\u001b[0m\n",
      "-rw-rw-r-- 1 grosed grosed  47038 Dec 17 13:02 \u001b[01;35mLU-mylab.png\u001b[0m\n",
      "-rw-rw-r-- 1 grosed grosed 275954 Dec 16 13:06 \u001b[01;35mos-components2.png\u001b[0m\n",
      "-rw-rw-r-- 1 grosed grosed  85295 Dec 16 10:01 \u001b[01;35mos-components.png\u001b[0m\n",
      "-rw-rw-r-- 1 grosed grosed  29259 Dec 20 13:49 \u001b[01;35mstdin-cmd-file-cmd-stdout.png\u001b[0m\n",
      "-rw-rw-r-- 1 grosed grosed  11225 Dec 20 13:49 \u001b[01;35mstdin-cmd-pipe-cmd-stdout.png\u001b[0m\n",
      "-rw-rw-r-- 1 grosed grosed 235988 Dec 20 13:47 \u001b[01;35mstdin-stdout-file.png\u001b[0m\n",
      "-rw-rw-r-- 1 grosed grosed 232104 Dec 20 13:46 \u001b[01;35mstdin-stdout.png\u001b[0m\n",
      "-rw-rw-r-- 1 grosed grosed  12139 Dec 17 15:03 \u001b[01;35mterminal-icon.png\u001b[0m\n",
      "-rw-rw-r-- 1 grosed grosed 263810 Dec 16 11:52 \u001b[01;35mterminal.jpg\u001b[0m\n",
      "-rw-rw-r-- 1 grosed grosed 189120 Dec 17 15:05 \u001b[01;35mterminal.png\u001b[0m\n",
      "-rw-rw-r-- 1 grosed grosed 715211 Dec 17 13:06 \u001b[01;35mubuntu-lab-desktop.png\u001b[0m\n",
      "-rw-rw-r-- 1 grosed grosed  22372 Dec 17 13:04 \u001b[01;35mubuntu-lab-password.png\u001b[0m\n",
      "-rw-rw-r-- 1 grosed grosed  13427 Dec 17 13:02 \u001b[01;35mubuntu-lab.png\u001b[0m\n",
      "-rw-rw-r-- 1 grosed grosed  70595 Dec 17 15:00 \u001b[01;35mubuntu-lab-start-terminal.png\u001b[0m\n",
      "-rw-rw-r-- 1 grosed grosed  22012 Dec 17 13:04 \u001b[01;35mubuntu-lab-username.png\u001b[0m\n",
      "-rw-rw-r-- 1 grosed grosed 249989 Dec 16 10:22 \u001b[01;35munix-history.png\u001b[0m\n",
      "-rw-rw-r-- 1 grosed grosed 586762 Dec 17 13:17 \u001b[01;35mwaffle-application-launcher.png\u001b[0m\n"
     ]
    }
   ],
   "source": [
    "ls -l"
   ]
  },
  {
   "cell_type": "markdown",
   "id": "49f8864b-ddd8-4578-a4e0-9fd27104181b",
   "metadata": {},
   "source": [
    "Here, the **-l** options instructs **ls** to output information regarding the properties of the files being listed.\n",
    "\n",
    "Unix commands take the general form of\n",
    "\n",
    "**command [-options] \\<arguments\\>**\n",
    "\n"
   ]
  },
  {
   "cell_type": "markdown",
   "id": "bceff9cd-f1cd-4a76-9487-e770a40b8d3b",
   "metadata": {},
   "source": [
    "## man"
   ]
  },
  {
   "cell_type": "markdown",
   "id": "7887d172-0888-4279-a9d1-b647cb0194ff",
   "metadata": {},
   "source": [
    "You can find infomation about a Unix command using the **man** command. For example"
   ]
  },
  {
   "cell_type": "code",
   "execution_count": 9,
   "id": "2487a9ab-5c25-4096-82a4-4ab92551ed05",
   "metadata": {},
   "outputs": [
    {
     "name": "stdout",
     "output_type": "stream",
     "text": [
      "LS(1)                            User Commands                           LS(1)\n",
      "\n",
      "NAME\n",
      "       ls - list directory contents\n",
      "\n",
      "SYNOPSIS\n",
      "       ls [OPTION]... [FILE]...\n",
      "\n",
      "DESCRIPTION\n",
      "       List  information  about  the FILEs (the current directory by default).\n",
      "       Sort entries alphabetically if none of -cftuvSUX nor --sort  is  speci‐\n",
      "       fied.\n",
      "\n",
      "       Mandatory  arguments  to  long  options are mandatory for short options\n",
      "       too.\n",
      "\n",
      "       -a, --all\n",
      "              do not ignore entries starting with .\n",
      "\n",
      "       -A, --almost-all\n",
      "              do not list implied . and ..\n",
      "\n",
      "       --author\n",
      "              with -l, print the author of each file\n",
      "\n",
      "       -b, --escape\n",
      "              print C-style escapes for nongraphic characters\n",
      "\n",
      "       --block-size=SIZE\n",
      "              with  -l,  scale  sizes  by  SIZE  when  printing  them;   e.g.,\n",
      "              '--block-size=M'; see SIZE format below\n",
      "\n",
      "       -B, --ignore-backups\n",
      "              do not list implied entries ending with ~\n",
      "\n",
      "       -c     with -lt: sort by, and show, ctime (time of last modification of\n",
      "              file status information); with -l: show ctime and sort by  name;\n",
      "              otherwise: sort by ctime, newest first\n",
      "\n",
      "       -C     list entries by columns\n",
      "\n",
      "       --color[=WHEN]\n",
      "              colorize  the output; WHEN can be 'always' (default if omitted),\n",
      "              'auto', or 'never'; more info below\n",
      "\n",
      "       -d, --directory\n",
      "              list directories themselves, not their contents\n",
      "\n",
      "       -D, --dired\n",
      "              generate output designed for Emacs' dired mode\n",
      "\n",
      "       -f     do not sort, enable -aU, disable -ls --color\n",
      "\n",
      "       -F, --classify\n",
      "              append indicator (one of */=>@|) to entries\n",
      "\n",
      "       --file-type\n",
      "              likewise, except do not append '*'\n",
      "\n",
      "       --format=WORD\n",
      "              across -x, commas -m, horizontal -x, long -l, single-column  -1,\n",
      "              verbose -l, vertical -C\n",
      "\n",
      "       --full-time\n",
      "              like -l --time-style=full-iso\n",
      "\n",
      "       -g     like -l, but do not list owner\n",
      "\n",
      "       --group-directories-first\n",
      "              group directories before files;\n",
      "\n",
      "              can   be  augmented  with  a  --sort  option,  but  any  use  of\n",
      "              --sort=none (-U) disables grouping\n",
      "\n",
      "       -G, --no-group\n",
      "              in a long listing, don't print group names\n",
      "\n",
      "       -h, --human-readable\n",
      "              with -l and -s, print sizes like 1K 234M 2G etc.\n",
      "\n",
      "       --si   likewise, but use powers of 1000 not 1024\n",
      "\n",
      "       -H, --dereference-command-line\n",
      "              follow symbolic links listed on the command line\n",
      "\n",
      "       --dereference-command-line-symlink-to-dir\n",
      "              follow each command line symbolic link\n",
      "\n",
      "              that points to a directory\n",
      "\n",
      "       --hide=PATTERN\n",
      "              do not list implied entries matching shell  PATTERN  (overridden\n",
      "              by -a or -A)\n",
      "\n",
      "       --hyperlink[=WHEN]\n",
      "              hyperlink file names; WHEN can be 'always' (default if omitted),\n",
      "              'auto', or 'never'\n",
      "\n",
      "       --indicator-style=WORD\n",
      "              append indicator with style WORD to entry names: none (default),\n",
      "              slash (-p), file-type (--file-type), classify (-F)\n",
      "\n",
      "       -i, --inode\n",
      "              print the index number of each file\n",
      "\n",
      "       -I, --ignore=PATTERN\n",
      "              do not list implied entries matching shell PATTERN\n",
      "\n",
      "       -k, --kibibytes\n",
      "              default  to  1024-byte  blocks for disk usage; used only with -s\n",
      "              and per directory totals\n",
      "\n",
      "       -l     use a long listing format\n",
      "\n",
      "       -L, --dereference\n",
      "              when showing file information for a symbolic link, show informa‐\n",
      "              tion  for  the file the link references rather than for the link\n",
      "              itself\n",
      "\n",
      "       -m     fill width with a comma separated list of entries\n",
      "\n",
      "       -n, --numeric-uid-gid\n",
      "              like -l, but list numeric user and group IDs\n",
      "\n",
      "       -N, --literal\n",
      "              print entry names without quoting\n",
      "\n",
      "       -o     like -l, but do not list group information\n",
      "\n",
      "       -p, --indicator-style=slash\n",
      "              append / indicator to directories\n",
      "\n",
      "       -q, --hide-control-chars\n",
      "              print ? instead of nongraphic characters\n",
      "\n",
      "       --show-control-chars\n",
      "              show nongraphic characters as-is (the default, unless program is\n",
      "              'ls' and output is a terminal)\n",
      "\n",
      "       -Q, --quote-name\n",
      "              enclose entry names in double quotes\n",
      "\n",
      "       --quoting-style=WORD\n",
      "              use  quoting style WORD for entry names: literal, locale, shell,\n",
      "              shell-always,  shell-escape,  shell-escape-always,   c,   escape\n",
      "              (overrides QUOTING_STYLE environment variable)\n",
      "\n",
      "       -r, --reverse\n",
      "              reverse order while sorting\n",
      "\n",
      "       -R, --recursive\n",
      "              list subdirectories recursively\n",
      "\n",
      "       -s, --size\n",
      "              print the allocated size of each file, in blocks\n",
      "\n",
      "       -S     sort by file size, largest first\n",
      "\n",
      "       --sort=WORD\n",
      "              sort  by  WORD instead of name: none (-U), size (-S), time (-t),\n",
      "              version (-v), extension (-X)\n",
      "\n",
      "       --time=WORD\n",
      "              change the default of  using  modification  times;  access  time\n",
      "              (-u): atime, access, use; change time (-c): ctime, status; birth\n",
      "              time: birth, creation;\n",
      "\n",
      "              with -l, WORD determines which time to show;  with  --sort=time,\n",
      "              sort by WORD (newest first)\n",
      "\n",
      "       --time-style=TIME_STYLE\n",
      "              time/date format with -l; see TIME_STYLE below\n",
      "\n",
      "       -t     sort by time, newest first; see --time\n",
      "\n",
      "       -T, --tabsize=COLS\n",
      "              assume tab stops at each COLS instead of 8\n",
      "\n",
      "       -u     with  -lt:  sort by, and show, access time; with -l: show access\n",
      "              time and sort by name; otherwise: sort by  access  time,  newest\n",
      "              first\n",
      "\n",
      "       -U     do not sort; list entries in directory order\n",
      "\n",
      "       -v     natural sort of (version) numbers within text\n",
      "\n",
      "       -w, --width=COLS\n",
      "              set output width to COLS.  0 means no limit\n",
      "\n",
      "       -x     list entries by lines instead of by columns\n",
      "\n",
      "       -X     sort alphabetically by entry extension\n",
      "\n",
      "       -Z, --context\n",
      "              print any security context of each file\n",
      "\n",
      "       -1     list one file per line.  Avoid '\\n' with -q or -b\n",
      "\n",
      "       --help display this help and exit\n",
      "\n",
      "       --version\n",
      "              output version information and exit\n",
      "\n",
      "       The  SIZE  argument  is  an  integer and optional unit (example: 10K is\n",
      "       10*1024).  Units are K,M,G,T,P,E,Z,Y  (powers  of  1024)  or  KB,MB,...\n",
      "       (powers  of 1000).  Binary prefixes can be used, too: KiB=K, MiB=M, and\n",
      "       so on.\n",
      "\n",
      "       The TIME_STYLE argument can be  full-iso,  long-iso,  iso,  locale,  or\n",
      "       +FORMAT.   FORMAT  is  interpreted  like in date(1).  If FORMAT is FOR‐\n",
      "       MAT1<newline>FORMAT2, then FORMAT1 applies to non-recent files and FOR‐\n",
      "       MAT2  to  recent files.  TIME_STYLE prefixed with 'posix-' takes effect\n",
      "       only outside the POSIX locale.  Also the TIME_STYLE  environment  vari‐\n",
      "       able sets the default style to use.\n",
      "\n",
      "       Using  color  to distinguish file types is disabled both by default and\n",
      "       with --color=never.  With --color=auto, ls emits color codes only  when\n",
      "       standard  output is connected to a terminal.  The LS_COLORS environment\n",
      "       variable can change the settings.  Use the dircolors command to set it.\n",
      "\n",
      "   Exit status:\n",
      "       0      if OK,\n",
      "\n",
      "       1      if minor problems (e.g., cannot access subdirectory),\n",
      "\n",
      "       2      if serious trouble (e.g., cannot access command-line argument).\n",
      "\n",
      "AUTHOR\n",
      "       Written by Richard M. Stallman and David MacKenzie.\n",
      "\n",
      "REPORTING BUGS\n",
      "       GNU coreutils online help: <https://www.gnu.org/software/coreutils/>\n",
      "       Report any translation bugs to <https://translationproject.org/team/>\n",
      "\n",
      "COPYRIGHT\n",
      "       Copyright © 2020 Free Software Foundation, Inc.   License  GPLv3+:  GNU\n",
      "       GPL version 3 or later <https://gnu.org/licenses/gpl.html>.\n",
      "       This  is  free  software:  you  are free to change and redistribute it.\n",
      "       There is NO WARRANTY, to the extent permitted by law.\n",
      "\n",
      "SEE ALSO\n",
      "       Full documentation <https://www.gnu.org/software/coreutils/ls>\n",
      "       or available locally via: info '(coreutils) ls invocation'\n",
      "\n",
      "GNU coreutils 8.32               February 2022                           LS(1)\n"
     ]
    }
   ],
   "source": [
    "man ls"
   ]
  },
  {
   "cell_type": "markdown",
   "id": "13065c77-979e-4512-af89-f3413a3898ee",
   "metadata": {},
   "source": [
    "### Exercise\n",
    "\n",
    "- List all of the files as before, but print them in a single column \n",
    "\n",
    "- As above, but in date order\n",
    "\n",
    "- Now do both of the above together."
   ]
  },
  {
   "cell_type": "markdown",
   "id": "52928e98-7936-4a23-bec9-7f84416b1c74",
   "metadata": {},
   "source": [
    "Like many operating systems, Unix organises files into a hierarchy. Files are organised into directories (sometimes refered to as folders by Windows users), and  directories can contain subdirectories. \n",
    "\n",
    "Each file and directory has a name and you can navigate the tree like directory/file structure using Unix shell commands."
   ]
  },
  {
   "cell_type": "markdown",
   "id": "2e1e8dd0-0657-4dd5-9576-f04736964168",
   "metadata": {},
   "source": [
    "## pwd - display present/current/working directory"
   ]
  },
  {
   "cell_type": "code",
   "execution_count": 10,
   "id": "1422e43a-72d9-4287-8a92-b106a59045bf",
   "metadata": {},
   "outputs": [
    {
     "name": "stdout",
     "output_type": "stream",
     "text": [
      "/home/grosedj1\n"
     ]
    }
   ],
   "source": [
    "pwd"
   ]
  },
  {
   "cell_type": "markdown",
   "id": "945d306a-2192-4b78-b3c7-63142918ced5",
   "metadata": {},
   "source": [
    "## cd - change present/current/working directory"
   ]
  },
  {
   "cell_type": "markdown",
   "id": "2ec42e3a-7fb1-416c-a1c8-3019b5384f43",
   "metadata": {},
   "source": [
    "Try running the command\n",
    "\n",
    "```bash\n",
    "cd h-drive\n",
    "```"
   ]
  },
  {
   "cell_type": "markdown",
   "id": "0181d5c5-eb44-4efa-9205-72b0ba26663c",
   "metadata": {},
   "source": [
    "### Exercise \n",
    "\n",
    "- What is the present working directory ?\n",
    "\n",
    "- What files are in your h-drive directory ?\n",
    "\n",
    "- What is the newest file in this directory ?\n",
    "\n",
    "- What is the largest file in this directory ?\n",
    "\n",
    "- Are there any directoies in your h-drive ?"
   ]
  },
  {
   "cell_type": "markdown",
   "id": "8bacfa07-678c-42c6-98bf-a1f875218f8d",
   "metadata": {},
   "source": [
    "Your Unix account has a home directory. It has a nickname **~**.\n",
    "\n"
   ]
  },
  {
   "cell_type": "markdown",
   "id": "eb7e1136-d86d-4cbf-b988-07a28e246bfc",
   "metadata": {},
   "source": [
    "### Exercise \n",
    "\n",
    "Change the current direcoty to your home directory. What is your home direcoty called ?"
   ]
  },
  {
   "cell_type": "markdown",
   "id": "6d9b8230-ee3e-4575-9186-aa021feb6da3",
   "metadata": {},
   "source": [
    "## cp - copy files"
   ]
  },
  {
   "cell_type": "code",
   "execution_count": null,
   "id": "fadb2e6e-f2c8-426a-846d-de7ec46db8d3",
   "metadata": {},
   "outputs": [],
   "source": []
  },
  {
   "cell_type": "markdown",
   "id": "0a83ba08-a6ad-4d41-9f78-3d685437a0a2",
   "metadata": {},
   "source": [
    "## mkdir - make a new directory"
   ]
  },
  {
   "cell_type": "markdown",
   "id": "b4365860-a88a-4d8a-8abf-e099ae4c32f2",
   "metadata": {},
   "source": [
    "To create a directory in your current working directory use the command\n",
    "\n",
    "```\n",
    "mkdir <directory-name>\n",
    "```\n",
    "\n"
   ]
  },
  {
   "cell_type": "markdown",
   "id": "cdb0dfb7-0256-414c-a1ce-02ee7fe8c37c",
   "metadata": {},
   "source": [
    "### Exercise\n",
    "\n",
    "- cd to your home directory and make a new directory called **work**.\n",
    "\n",
    "- cd into this new directory.\n",
    "\n",
    "- Now create a new directory in your home directory called **play**- but without changing directories."
   ]
  },
  {
   "cell_type": "markdown",
   "id": "3904b0af-c56a-491a-8ede-1bfe955868cc",
   "metadata": {},
   "source": [
    "## wget - get remote files "
   ]
  },
  {
   "cell_type": "markdown",
   "id": "3e20b21e-abbc-4202-af23-c114491c2070",
   "metadata": {},
   "source": [
    "**wget** is a command that allows you to download a remote file by specifying its URL. Try the following command.\n",
    "\n",
    "```bash\n",
    "wget http://www.mathsbox.com/introduction-to-unix/files/examples.zip\n",
    "```"
   ]
  },
  {
   "cell_type": "markdown",
   "id": "bbeb75a2-c485-4b45-bbb9-8b9b4f601a8c",
   "metadata": {},
   "source": [
    "### Exercise\n",
    "\n",
    "List the contents of your work directoy."
   ]
  },
  {
   "cell_type": "markdown",
   "id": "df5256b0-90c6-4906-a5d3-af3596b81cc9",
   "metadata": {},
   "source": [
    "## unzip - decompress files that were compressed using the zip command "
   ]
  },
  {
   "cell_type": "markdown",
   "id": "9afe6b89-c4b2-4f30-8bb5-c50081b0a2f0",
   "metadata": {},
   "source": [
    "The file you downloaded using **wget** is a compressed file. It can be decompressed using the **unzip** command. \n",
    "\n",
    "```bash\n",
    "unzip examples.zip\n",
    "```"
   ]
  },
  {
   "cell_type": "markdown",
   "id": "89e2788c-f041-44fb-ab9c-df1a10ec9996",
   "metadata": {},
   "source": [
    "## Redirection"
   ]
  },
  {
   "cell_type": "markdown",
   "id": "fdf94a8c-df83-457d-838c-dcb85affd2a8",
   "metadata": {},
   "source": [
    "Set the current directory to your home directory and try this - \n",
    "\n",
    "``` bash\n",
    "ls -1 > files.txt\n",
    "```\n",
    "\n",
    "What does it do ? \n",
    "\n",
    "Hint - try using **ls** to find out."
   ]
  },
  {
   "cell_type": "markdown",
   "id": "6f9fd3a1-af83-44d0-a8f3-0daf2751be13",
   "metadata": {},
   "source": [
    "The **>** is called the redirection operator. Normally, the output of **ls** will go to the terminal. The **>** operator can be used to send it to other things, such as a file. "
   ]
  },
  {
   "cell_type": "markdown",
   "id": "ce73c93e-0a4c-41a6-8b39-64504822ea08",
   "metadata": {},
   "source": [
    "## head - display the first few lines"
   ]
  },
  {
   "cell_type": "markdown",
   "id": "531b9d1e-8157-4f4e-8da9-744eeadeea42",
   "metadata": {},
   "source": [
    "Try this -\n",
    "\n",
    "```bash\n",
    "head files.txt\n",
    "```\n",
    "\n"
   ]
  },
  {
   "cell_type": "markdown",
   "id": "f4e5165e-8d20-4848-b7bf-fcffc2ef85d7",
   "metadata": {},
   "source": [
    "### Exercise\n",
    "\n",
    "- What did you see ?\n",
    "\n",
    "- What does **head** command do ?\n",
    "\n",
    "- What options does the **head** command have ?\n",
    "\n",
    "- Try some of these options.\n",
    "\n",
    "- What does the command **tail** do ?"
   ]
  },
  {
   "cell_type": "markdown",
   "id": "e7e7953a-0ec8-40fb-8bf4-8f86cd85c9bf",
   "metadata": {},
   "source": [
    "## echo"
   ]
  },
  {
   "cell_type": "markdown",
   "id": "8e46df90-f760-4a90-97b7-0743507e7040",
   "metadata": {},
   "source": [
    "### Example"
   ]
  },
  {
   "cell_type": "code",
   "execution_count": 6,
   "id": "87db5a0c-4595-4c4e-9460-3bf625facf89",
   "metadata": {},
   "outputs": [
    {
     "name": "stdout",
     "output_type": "stream",
     "text": [
      "hello\n"
     ]
    }
   ],
   "source": [
    "echo \"hello\""
   ]
  },
  {
   "cell_type": "markdown",
   "id": "6d4ede56-b138-4cd5-b213-36e38f07d2e8",
   "metadata": {},
   "source": [
    "### Exercise\n",
    "\n",
    "- Make a new file called **messages.txt** with the sentence \"hello world\" in it."
   ]
  },
  {
   "cell_type": "markdown",
   "id": "999e0662-cc3a-48bd-94fe-3dafba4c3f57",
   "metadata": {},
   "source": [
    "### Solution"
   ]
  },
  {
   "cell_type": "code",
   "execution_count": 7,
   "id": "558951ac-18c6-4c88-a1a6-556af72bec26",
   "metadata": {},
   "outputs": [],
   "source": [
    "echo \"hello world\" > messages.txt"
   ]
  },
  {
   "cell_type": "markdown",
   "id": "75d2446c-0262-4ad9-a425-97d01633a153",
   "metadata": {},
   "source": [
    "## wc - count words, lines, and letters"
   ]
  },
  {
   "cell_type": "markdown",
   "id": "4ff4a887-7003-4ac3-a11f-ccf3daa9f50b",
   "metadata": {},
   "source": [
    "Try this\n",
    "\n",
    "```bash\n",
    "wc messages.txt\n",
    "```\n"
   ]
  }
 ],
 "metadata": {
  "kernelspec": {
   "display_name": "Bash",
   "language": "bash",
   "name": "bash"
  },
  "language_info": {
   "codemirror_mode": "shell",
   "file_extension": ".sh",
   "mimetype": "text/x-sh",
   "name": "bash"
  }
 },
 "nbformat": 4,
 "nbformat_minor": 5
}
