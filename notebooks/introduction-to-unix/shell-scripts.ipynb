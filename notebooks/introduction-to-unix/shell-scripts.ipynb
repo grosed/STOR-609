{
 "cells": [
  {
   "cell_type": "markdown",
   "id": "8d1b0408-fbed-45df-a53c-8186449db717",
   "metadata": {},
   "source": [
    "# Basic Shell Scripts"
   ]
  },
  {
   "cell_type": "markdown",
   "id": "7ba18e5e-8eda-47ae-b121-710cbf57dae9",
   "metadata": {},
   "source": [
    "Multiple shell commands can be used as part of a larger \"program\" by combining them together in a \"shell\" script. A shell script is a file containing the text you would normally enter at the command prompt within a terminal."
   ]
  },
  {
   "cell_type": "markdown",
   "id": "4c65055f-f868-4258-a0e6-7f3fa44b6f89",
   "metadata": {},
   "source": [
    "## A simple shell script"
   ]
  },
  {
   "cell_type": "markdown",
   "id": "84144a8d-9b9b-414f-b73d-3de7e102b7e5",
   "metadata": {},
   "source": [
    "### Exercise\n",
    "\n",
    "What do you think the following command will do ?\n",
    "\n",
    "```bash\n",
    "echo \"echo \\\"hello\\\"\" > script-1.sh\n",
    "```\n",
    "\n",
    "Navigate to your work directory, run it and see if you were correct. What do the **\\**'s do ?"
   ]
  },
  {
   "cell_type": "markdown",
   "id": "5e5abc31-081c-47ca-a1de-3c490ec4a8f9",
   "metadata": {},
   "source": [
    "### Exercise\n",
    "\n",
    "Now \"run\" the file using\n",
    "```bash\n",
    "source ./script-1.sh\n",
    "```\n",
    "\n",
    "What happened ?\n",
    "\n",
    "What are the permissions on the file script-1.sh ?\n",
    "\n",
    "What happens if you try this ?\n",
    "\n",
    "```bash\n",
    "./script-1.sh\n",
    "```"
   ]
  },
  {
   "cell_type": "markdown",
   "id": "792cff57-4fc9-415f-838f-f2f9bb4766ce",
   "metadata": {},
   "source": [
    "### Exercise\n",
    "\n",
    "Change the file permissions of script-1.sh to executable and run the previous command again. \n",
    "\n",
    "What happens now ?"
   ]
  },
  {
   "cell_type": "markdown",
   "id": "e18899c5-d896-4c2b-a85f-0dcf511af343",
   "metadata": {},
   "source": [
    "## Shebang "
   ]
  },
  {
   "cell_type": "markdown",
   "id": "f26e5a76-efad-47ef-84c0-1b3bfafa084d",
   "metadata": {},
   "source": [
    "A shell file will execute the shell commands in it line by line as if you had entered them one by one in the terminal. However, they can also be used to start another program and then feed the \"code\" in that script to that program. For example, create a file script-2.sh with the following content\n",
    "\n",
    "#!/usr/bin/env python3\n",
    "print(\"hello\")\n",
    "\n",
    "Now change the permissions to executable and run\n",
    "```bash\n",
    "./script-2.sh\n",
    "```\n",
    "\n"
   ]
  },
  {
   "cell_type": "markdown",
   "id": "e5b9d60e-dd7c-4292-8371-9bb1af0ac572",
   "metadata": {},
   "source": [
    "The first line of the script is pretty standard. The **#!/usr/bin/env** is standard, the next part is the program you want to execute the code that follows. In Unix speak **#!** is pronounced **shebang**, or sometimes just **hash bang**.\n",
    "\n",
    "### Exercise\n",
    "\n",
    "Try running some R code from a script.\n",
    "\n",
    "\n",
    "\n"
   ]
  },
  {
   "cell_type": "markdown",
   "id": "08326b35-94b3-4ad6-a384-eea40214bfa3",
   "metadata": {},
   "source": [
    "## Variables\n"
   ]
  },
  {
   "cell_type": "markdown",
   "id": "88280cef-76eb-41c4-a494-5ca80409d672",
   "metadata": {},
   "source": [
    "Within a shell you can create and assign values to variables. For example\n",
    "\n",
    "```bash\n",
    "var=\"val\"\n",
    "```\n",
    "\n",
    "You can access the value (val) stored in the variable (var) by prefixing the variable name with a **$**. \n",
    "\n",
    "```bash\n",
    "echo $var\n",
    "```\n",
    "\n",
    "Variables can be set using other variables\n",
    "\n",
    "```bash\n",
    "new_var=$var\n",
    "echo $new_var\n",
    "```\n",
    "\n",
    "Variables can be used as commands\n",
    "\n",
    "```bash\n",
    "new_ls=\"ls\"\n",
    "$new_ls\n",
    "```"
   ]
  },
  {
   "cell_type": "markdown",
   "id": "3898c4ba-08c2-49de-bc77-a372076cfe3f",
   "metadata": {},
   "source": [
    "The shell uses variables to store information about the environment.\n",
    "\n",
    "### Exercise\n",
    "\n",
    "What is the value of these variables - HOME, PATH, PWD, USER ?\n",
    "\n",
    "What does the **printenv** command do ?"
   ]
  },
  {
   "cell_type": "markdown",
   "id": "4fb0cee2-2865-4fd9-8164-97ad99fee4d5",
   "metadata": {},
   "source": [
    "## Variables and shell scripts"
   ]
  },
  {
   "cell_type": "markdown",
   "id": "df04c198-6fa0-48f3-bda3-556cb28a71f5",
   "metadata": {},
   "source": [
    "## Exercise\n",
    "\n",
    "Create a file script-3.sh with the following content.\n",
    "\n",
    "```bash\n",
    "#!/usr/bin/env bash\n",
    "\n",
    "echo $1\n",
    "echo \"what a \" $2\n",
    "```\n",
    "\n",
    "Make executable then execute as follows\n",
    "\n",
    "```bash\n",
    "./script-3.sh\n",
    "```\n",
    "\n",
    "What is happening ?\n",
    "\n",
    "What is the value of $0\n",
    "\n",
    "what is the value of $# ?\n",
    "\n"
   ]
  },
  {
   "cell_type": "markdown",
   "id": "2d5c1c55-12eb-4b83-879e-76856d9f00f9",
   "metadata": {},
   "source": [
    "## Setting the PATH\n"
   ]
  },
  {
   "cell_type": "markdown",
   "id": "4373a550-1bab-4547-8ca0-c16b73b39d57",
   "metadata": {},
   "source": [
    "### Exercise\n",
    "\n",
    "Change directory to your work directory and execute the following\n",
    "\n",
    "```bash\n",
    "WORK_DIR=$PWD\n",
    "```\n",
    "\n",
    "What does this do ? \n",
    "\n",
    "cd to your home directory. What will this command do ?\n",
    "\n",
    "```bash\n",
    "ls $WORK_DIR\n",
    "```"
   ]
  },
  {
   "cell_type": "markdown",
   "id": "7b921410-4c98-41d0-96a5-701f5c5c04ee",
   "metadata": {},
   "source": [
    "\n",
    "Variables can be concatenated. For example\n",
    "\n",
    "```bash\n",
    "var1=\"one\"\n",
    "var2=\"two\"\n",
    "var3=$var1$var2\n",
    "echo $var3\n",
    "```"
   ]
  },
  {
   "cell_type": "markdown",
   "id": "53055aaa-db1b-4bff-8ebc-19ce1ffd8545",
   "metadata": {},
   "source": [
    "The PATH variable is used by the shell to search for programs. You can add the name of a directory where your shell scripts are by concatenating it to the existing path. For example\n",
    "\n",
    "```bash\n",
    "echo $PATH\n",
    "PATH=$PATH:$WORK_DIR\n",
    "echo $PATH\n",
    "```\n",
    "\n",
    "You can now run your shell scripts from the previous examples using just their name. For example\n",
    "\n",
    "```bash\n",
    "script-3.sh\n",
    "```"
   ]
  },
  {
   "cell_type": "markdown",
   "id": "dcc7a9a2-3a3e-4c2f-9927-6d8540e38e71",
   "metadata": {},
   "source": [
    "## Iteration\n",
    "\n"
   ]
  },
  {
   "cell_type": "markdown",
   "id": "3cb912a6-1cf4-4922-84c8-9ea6757d2f97",
   "metadata": {},
   "source": [
    "### Exercise\n",
    "\n",
    "Check you understand what the following shell script does\n",
    "\n",
    "\n",
    "```bash\n",
    "#!/usr/bin/env bash\n",
    "\n",
    "echo \"simple loop\"\n",
    "for VARIABLE in 1 2 3 4 5 .. N\n",
    "do\n",
    "    echo $VARIABLE\n",
    "done\n",
    "\n",
    "echo \"loop over input values\"\n",
    "for VARIABLE in $@\n",
    "do\n",
    "    echo $VARIABLE\n",
    "done\n",
    "```\n",
    "\n"
   ]
  }
 ],
 "metadata": {
  "kernelspec": {
   "display_name": "Bash",
   "language": "bash",
   "name": "bash"
  },
  "language_info": {
   "codemirror_mode": "shell",
   "file_extension": ".sh",
   "mimetype": "text/x-sh",
   "name": "bash"
  }
 },
 "nbformat": 4,
 "nbformat_minor": 5
}
