{
 "cells": [
  {
   "cell_type": "code",
   "execution_count": null,
   "id": "46efe39b-3c4c-4a7e-b252-cf1baeb187ed",
   "metadata": {},
   "outputs": [],
   "source": []
  },
  {
   "cell_type": "markdown",
   "id": "8d1b0408-fbed-45df-a53c-8186449db717",
   "metadata": {},
   "source": [
    "# Basic Shell Scripts"
   ]
  },
  {
   "cell_type": "markdown",
   "id": "7ba18e5e-8eda-47ae-b121-710cbf57dae9",
   "metadata": {},
   "source": [
    "Multiple shell commands can be used as part of a larger \"program\" by combining them together in a \"shell\" script. A shell script is a file containing the text you would normally enter at the command prompt within a terminal."
   ]
  },
  {
   "cell_type": "markdown",
   "id": "4c65055f-f868-4258-a0e6-7f3fa44b6f89",
   "metadata": {},
   "source": [
    "## A simple shall script"
   ]
  },
  {
   "cell_type": "markdown",
   "id": "84144a8d-9b9b-414f-b73d-3de7e102b7e5",
   "metadata": {},
   "source": [
    "### Exercise\n",
    "\n",
    "What do you think the following command will do ?\n",
    "\n",
    "```bash\n",
    "echo \"echo \\\"hello\\\"\" > script-1.sh\n",
    "```\n",
    "\n",
    "Navigate to your work directory, run it and see if you were correct. What do the **\\**'s do ?"
   ]
  },
  {
   "cell_type": "markdown",
   "id": "5e5abc31-081c-47ca-a1de-3c490ec4a8f9",
   "metadata": {},
   "source": [
    "### Exercise\n",
    "\n",
    "Now \"run\" the file using\n",
    "```bash\n",
    "source ./script-1.sh\n",
    "```\n",
    "\n",
    "What happend ?\n",
    "\n",
    "What are the permissions on the file script-1.sh ?\n",
    "\n",
    "What happens if you try this ?\n",
    "\n",
    "```bash\n",
    "./script-1.sh\n",
    "```"
   ]
  },
  {
   "cell_type": "markdown",
   "id": "792cff57-4fc9-415f-838f-f2f9bb4766ce",
   "metadata": {},
   "source": [
    "### Exercise\n",
    "\n",
    "Change the file permisions of script-1.sh to executable and run the previous command again. \n",
    "\n",
    "What happens now ?"
   ]
  },
  {
   "cell_type": "markdown",
   "id": "e18899c5-d896-4c2b-a85f-0dcf511af343",
   "metadata": {},
   "source": [
    "## Shebang "
   ]
  },
  {
   "cell_type": "markdown",
   "id": "f26e5a76-efad-47ef-84c0-1b3bfafa084d",
   "metadata": {},
   "source": [
    "A shell file will execute the shell commands in it line by line as if you had entered them one by one in the terminal. However, they can also be used to start another program and then feed the \"code\" in that script to that program. For example, create a file script-2.sh with the following content\n",
    "\n",
    "#!/usr/bin/env python3\n",
    "print(\"hello\")\n",
    "\n",
    "Now change the permissions to executable and run\n",
    "```bash\n",
    "./script-2.sh\n",
    "```\n",
    "\n"
   ]
  },
  {
   "cell_type": "markdown",
   "id": "e5b9d60e-dd7c-4292-8371-9bb1af0ac572",
   "metadata": {},
   "source": [
    "The first line of the script is pretty standard. The **#!/usr/bin/env** is standard, the next part is the program you want to execute the code that follows. In Unix speak **#!** is pronounced **shebang**, or sometimes just **hash bang**.\n",
    "\n",
    "### Exercise\n",
    "\n",
    "Try running some R code from a script.\n",
    "\n",
    "\n",
    "\n"
   ]
  },
  {
   "cell_type": "markdown",
   "id": "08326b35-94b3-4ad6-a384-eea40214bfa3",
   "metadata": {},
   "source": [
    "## Input variables\n"
   ]
  },
  {
   "cell_type": "markdown",
   "id": "df04c198-6fa0-48f3-bda3-556cb28a71f5",
   "metadata": {},
   "source": [
    "## Exercise\n",
    "\n",
    "Create a file script-3.sh with the following content.\n",
    "\n",
    "```bash\n",
    "#!/usr/bin/env bash\n",
    "\n",
    "echo $1\n",
    "echo \"what a \" $2\n",
    "```\n",
    "\n",
    "Make executable then execute as follows\n",
    "\n",
    "```bash\n",
    "./script-3.sh\n",
    "```\n",
    "\n",
    "What is happening ?\n",
    "\n"
   ]
  }
 ],
 "metadata": {
  "kernelspec": {
   "display_name": "Bash",
   "language": "bash",
   "name": "bash"
  },
  "language_info": {
   "codemirror_mode": "shell",
   "file_extension": ".sh",
   "mimetype": "text/x-sh",
   "name": "bash"
  }
 },
 "nbformat": 4,
 "nbformat_minor": 5
}
