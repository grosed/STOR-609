{
 "cells": [
  {
   "cell_type": "markdown",
   "id": "c3622918-d289-45d8-b787-6703e79cecd6",
   "metadata": {},
   "source": [
    "# Regular Expressions"
   ]
  },
  {
   "cell_type": "markdown",
   "id": "23b0bee6-7053-46fe-836c-444bd5a38ba0",
   "metadata": {},
   "source": [
    "A regular expression defines a set of one or more strings of char-\n",
    "acters. Many Unix utilities, including\n",
    "grep, ls, and find, use regular expressions to search for and replace strings. \n",
    "A simple string of characters is a regular expression that defines one string of characters: itself. A more complex regular expression uses letters, numbers, and special characters to define many different strings of characters. A regular expression is said to match any string it defines.\n",
    "\n"
   ]
  },
  {
   "cell_type": "markdown",
   "id": "b59fcd57-1df5-4f8d-b4dc-2dce59c6c7fa",
   "metadata": {},
   "source": [
    "## Simple Strings"
   ]
  },
  {
   "cell_type": "markdown",
   "id": "13bff8bb-ceb4-4a73-9ff4-f488ddceec46",
   "metadata": {},
   "source": [
    "|Regular <br> Expression|Matches|Examples|\n",
    "|-|-|-|\n",
    "| ring | **ring** | **ring**,sp**ring**, <br> **ring**ing |\n",
    "| or not| **or not** |**or not**, <br> po**or not**hing  |\n",
    "|Thursday | **Thursday**| **Thursday**,**Thursday**'s  |"
   ]
  },
  {
   "cell_type": "markdown",
   "id": "06b8fab9-9595-492c-ae9b-10f63d21d067",
   "metadata": {},
   "source": [
    "### Exercise\n",
    "\n",
    "Try describing what the following command does ? \n",
    "\n",
    "```bash\n",
    "cat | grep -o \"or not\"\n",
    "```\n",
    "\n",
    "Try using it to test some example input.\n",
    "\n",
    "Try using it to test the other regular expressions in the above preceding table."
   ]
  },
  {
   "cell_type": "markdown",
   "id": "a0eaf90b-65c1-4572-b383-c8e9a34ccd5f",
   "metadata": {},
   "source": [
    "## Special Characters\n",
    "\n",
    "**Note** - in what follows, a regular expression always matches the longest possible string  starting as far forward in the line as possible"
   ]
  },
  {
   "cell_type": "markdown",
   "id": "875ef47b-97d4-4036-afd9-daf4d9a701bb",
   "metadata": {},
   "source": [
    "### Period\n",
    "\n",
    "|Regular <br> Expression|Matches|Examples|\n",
    "|-|-|-|\n",
    "| / .alk/ | stings containing a space, then any <br> character, followed by **awk** | will **talk** <br> may **balk** |\n",
    "| /.ing/ | all strings with any character preceding <br>n**ing**| **sing**ing, **ping**, <br> before **ing**lenook|\n",
    "\n"
   ]
  },
  {
   "cell_type": "markdown",
   "id": "d21260e9-ca6e-446a-a468-93b2e56a84d9",
   "metadata": {},
   "source": [
    "### Square Brackets\n",
    "\n",
    "|Regular Expression|Matches|Examples|\n",
    "|-|-|-|\n",
    "| [bB]ill | **b** or **B** follwed by **ill** | **bill**,**Bill**,**bill**ed|\n",
    "| t[aeiou].k | **t** followed by lower case <br> vowel, any character, and **k** | **talk**, **talk**ative |\n",
    "| number [6-9] |**number** followed by a space <br> and a single number in range <br> 6-9 (inclusive)| **number 7**, k**number 6**01|\n",
    "| [^a-zA-Z] | any character that is not a letter | **1**, pdf**2**tif |\n",
    "\n",
    "Notice the negating action of ^ when it is inside [].\n"
   ]
  },
  {
   "cell_type": "markdown",
   "id": "c9f260be-c659-4d76-a773-c342de2a3e76",
   "metadata": {},
   "source": [
    "### Asterix\n",
    "\n",
    "|Regular Expression|Matches|Examples|\n",
    "|-|-|-|\n",
    "| ab*c| **a** folowed by zero or more <br> **b**s followed by **c** | **ac**, **abc**, <br> aa**abc**,**ac**|\n",
    "| ab.*c| **ab** followed by zero or more <br> other characters followed by **c**| **abc**,**abxc**, **c**at, <br> **756.345**, **x**|\n",
    "| t.*ing | **t** followed by zero or more <br> other characters <br> followed by **ing**| **thing**, **ting**, <br> I **was going**|\n",
    "| [a-zA-Z]*| a string composed of only letters <br> (upper or lower case)| **1!!, !any text string** |\n",
    "|(.*)  | as long a string as possible <br> between ()| Get **(this (and) that)** done| \n",
    "| ([^)]*)| the shortest sring possible <br> between ()| **(Get (this or)**|\n"
   ]
  },
  {
   "cell_type": "markdown",
   "id": "098efb59-7eca-4d91-81ab-34a01632a8f0",
   "metadata": {},
   "source": [
    "### Carat (^) and Dollar ($)\n",
    "\n",
    "|Regular Expression|Matches|Examples|\n",
    "|-|-|-|\n",
    "| ^T | a **T** at the beginning <br> of a line| **T**ime, In Time|\n",
    "| ^+[0-9]| a **+** followed by a number <br> at the beginning of a line | **+5**14, **+3**.14 |\n",
    "|:$ | a **:** that ends a line| ... following **:**|\n",
    "| | | |\n"
   ]
  },
  {
   "cell_type": "markdown",
   "id": "433475b4-777d-4d33-9b60-d25070e2f63e",
   "metadata": {},
   "source": [
    "### QuotingSpecial Characters\n",
    "\n",
    "|Regular Expression|Matches|Examples|\n",
    "|-|-|-|\n",
    "|end\\. | strings containing **end.**| **end.**,end|\n",
    "| \\\\$| a dollar sign | lot **$** of money|\n",
    "| \\[[0-9]\\] | a number in [] | **[9]**,[90]|\n",
    "| | | |\n"
   ]
  },
  {
   "cell_type": "markdown",
   "id": "ad049838-2bc6-42c0-93f6-509e6e847dab",
   "metadata": {},
   "source": [
    "### Full Regular Expressions"
   ]
  },
  {
   "cell_type": "markdown",
   "id": "b33ebe78-bd42-4feb-a5e2-fc841d7e1b28",
   "metadata": {},
   "source": [
    "To test these examples you will need to use \n",
    "\n",
    "```bash\n",
    "cat | egrep -o \"or not\"\n",
    "```"
   ]
  },
  {
   "cell_type": "markdown",
   "id": "ce7ce578-7964-4b12-914c-e68a757b16f0",
   "metadata": {},
   "source": [
    "\n",
    "|Regular Expression|Matches|Examples|\n",
    "|-|-|-|\n",
    "|ab+c| **a** followed by one or <br> more **b**s followed by <br> a **c**| y**abc**w, **abbc**57 |\n",
    "| ab?c|**a** followed by zero or one **b** <br> followed by a **c** | b**ac**k,**abc**def|\n",
    "| (ab)+c| one or more **ab** followed <br> by a **c**  | z**abc**d, **abababc** |\n",
    "| (ab)?c| zero or one **ab** followed <br> by **c**| x**c**, **abc**c |\n",
    "| ab\\|ac | either **ab** or **ac** | **ab**,**ac**,**ab**ac|\n",
    "| (D\\|N)\\.Jones| **D.Jones** or **N.Jones**| **N.Jones**, P.**D.Jones**|\n"
   ]
  },
  {
   "cell_type": "markdown",
   "id": "e27be140-9c64-465e-8b92-5571ced3a10c",
   "metadata": {},
   "source": [
    "## Further Special Characters"
   ]
  },
  {
   "cell_type": "markdown",
   "id": "e578234b-8519-45ab-b863-e4599ac7ef40",
   "metadata": {},
   "source": [
    "### Standrd Special Characters \n",
    "\n",
    "These work with **grep**"
   ]
  },
  {
   "cell_type": "markdown",
   "id": "f85e3e8e-692f-4690-9483-8c0139ba0da1",
   "metadata": {},
   "source": [
    "|Special Character|Function|\n",
    "|-|-|\n",
    "| . | Matches any single character|\n",
    "| [xyz] | Defines a character class that matches **x**,**y**, or **z**|\n",
    "| ^xyz] | Defines a character class that matches any character except**x**,**y**, or **z**|\n",
    "| [x-z]| Defines a character class that matches any character **x** through **z** inclusive|\n",
    "| * |Matches zero or more of the preceding character |\n",
    "| ^ | Forces a match to the beginning of the line|\n",
    "| $ | A match to the end of the line|\n",
    "| \\|| Used to quote special characters|\n",
    "| \\(xyz\\) | Matches **xyz** |\n",
    "| \\< |Forces match at beginning of word |\n",
    "| \\> | Forces match at end of word|\n",
    "\n",
    "\n",
    "\n",
    "\n",
    "\n",
    "\n",
    "\n",
    "\n",
    "\n",
    "\n",
    "\n"
   ]
  },
  {
   "cell_type": "markdown",
   "id": "cffe3d1a-0a13-4c10-b6a6-035739255614",
   "metadata": {},
   "source": [
    "### Full Special Characters \n",
    "\n",
    "These work with **egrep**"
   ]
  },
  {
   "cell_type": "markdown",
   "id": "4e5e8e38-3779-498b-88bd-c46168d21db7",
   "metadata": {},
   "source": [
    "|Special Character|Function|\n",
    "|-|-|\n",
    "| + | Matches one or more occurences of the preceding character|\n",
    "| ? | Matches zero or more occurence of the preceding character|\n",
    "| (xyz)+] | One or more occurences of **xyz**|\n",
    "| (xyz)+|Zero or one occurence of **xyz** |\n",
    "| (xyz)? |Zero or more occurences of **xyz**|\n",
    "| (xyz)* |Either **xyz** or **abc** |\n",
    "| xyz\\|abc |Either **xyc** or **abc** |\n",
    "\n",
    "\n",
    "\n",
    "\n",
    "\n",
    "\n",
    "\n"
   ]
  }
 ],
 "metadata": {
  "kernelspec": {
   "display_name": "Bash",
   "language": "bash",
   "name": "bash"
  },
  "language_info": {
   "codemirror_mode": "shell",
   "file_extension": ".sh",
   "mimetype": "text/x-sh",
   "name": "bash"
  }
 },
 "nbformat": 4,
 "nbformat_minor": 5
}
