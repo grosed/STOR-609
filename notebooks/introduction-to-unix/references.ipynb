{
 "cells": [
  {
   "cell_type": "markdown",
   "id": "5925df28-a936-437b-98f8-9eb009965812",
   "metadata": {},
   "source": [
    "# References\n",
    "\n",
    "\n",
    "[1]  Raymond, Eric S. (2004).\"Basics of the Unix Philosophy\". The Art of Unix Programming. Addison-Wesley Professional (published 2003-09-23). ISBN 0-13-142901-9. Retrieved 2016-11-01.\n",
    "\n",
    "Available via Lancaster University Library [here](https://learning.oreilly.com/library/view/the-art-of/0131429019/?sso_link=yes&sso_link_from=lancaster-university)\n"
   ]
  }
 ],
 "metadata": {
  "kernelspec": {
   "display_name": "Bash",
   "language": "bash",
   "name": "bash"
  },
  "language_info": {
   "codemirror_mode": "shell",
   "file_extension": ".sh",
   "mimetype": "text/x-sh",
   "name": "bash"
  }
 },
 "nbformat": 4,
 "nbformat_minor": 5
}
