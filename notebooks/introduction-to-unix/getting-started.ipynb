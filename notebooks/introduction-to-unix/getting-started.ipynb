{
 "cells": [
  {
   "cell_type": "markdown",
   "id": "bb5eee44-59d7-438e-84af-a05db68ce3e9",
   "metadata": {},
   "source": [
    "# Getting Started"
   ]
  },
  {
   "cell_type": "markdown",
   "id": "a2d4b00f-5199-446f-80ee-959ff88082e0",
   "metadata": {},
   "source": [
    "Lancaster University has a number of Unix systems. All of them are accessed via an internet connection from another system, such as your laptop or a computer on campus. Some of the Unix systems only provide a terminal, some of them provide GUI style applications, but only when accessed from another Unix system, and some provide a full virtual desktop for using both GUI based applications and/or a terminal. It is the latter type of systems that will be used in this course."
   ]
  },
  {
   "cell_type": "markdown",
   "id": "29d7c9bd-95c0-4591-b9b1-4840e2fb4376",
   "metadata": {},
   "source": [
    "## Accessing a Remote Unix Desktop "
   ]
  },
  {
   "cell_type": "markdown",
   "id": "50d7e0cd-df6d-4bb9-bc4e-3900e3032e75",
   "metadata": {},
   "source": [
    "From a browser follow this link to [Lancaster University MyLab](https://mylab.lancaster.ac.uk/). You will be prompted for a LU username, password, and one time passcode. You will then be presented with something like the following."
   ]
  },
  {
   "cell_type": "markdown",
   "id": "8d741631-623b-4c16-84c4-a0ba3fb3177a",
   "metadata": {},
   "source": [
    "<figure>\n",
    "<img src=\"./images/LU-mylab.png\" width=600\">\n",
    "<figcaption align = \"center\"> LU Mylab </figcaption>\n",
    "</figure>"
   ]
  },
  {
   "cell_type": "markdown",
   "id": "165d93bb-5aa0-41b7-823b-6b8c4fb68263",
   "metadata": {},
   "source": [
    "Now double click on the **LU Ubuntu Lab** icon\n",
    "\n",
    "<figure>\n",
    "<img src=\"./images/ubuntu-lab.png\" width=200\">\n",
    "<figcaption align = \"center\"> Ubuntu Lab </figcaption>\n",
    "</figure>"
   ]
  },
  {
   "cell_type": "markdown",
   "id": "9e43edc8-c092-4529-8b9f-8912ea5154ef",
   "metadata": {},
   "source": [
    "<figure>\n",
    "<img src=\"./images/ubuntu-lab-username.png\" width=300\">\n",
    "<figcaption align = \"center\"> Ubuntu Lab username entry</figcaption>\n",
    "</figure>"
   ]
  },
  {
   "cell_type": "markdown",
   "id": "d183cfbf-dd5e-4fc7-ac40-cdcf9fb553ba",
   "metadata": {},
   "source": [
    "<figure>\n",
    "<img src=\"./images/ubuntu-lab-password.png\" width=300\">\n",
    "<figcaption align = \"center\"> Ubuntu Lab password entry</figcaption>\n",
    "</figure>"
   ]
  },
  {
   "cell_type": "markdown",
   "id": "efc0006f-b434-48f1-a057-31144871cfe2",
   "metadata": {},
   "source": [
    "<figure>\n",
    "<img src=\"./images/ubuntu-lab-desktop.png\" width=600\">\n",
    "<figcaption align = \"center\"> Ubuntu Lab Desktop</figcaption>\n",
    "</figure>"
   ]
  },
  {
   "cell_type": "markdown",
   "id": "152004c4-ee49-41d8-835e-d9acaf2a1b6e",
   "metadata": {},
   "source": [
    "## Using the Desktop"
   ]
  },
  {
   "cell_type": "markdown",
   "id": "0a7ff096-4b7d-4b15-a1bf-dd032cb409b4",
   "metadata": {},
   "source": [
    "The Ubuntu desktop you are now using has a number of applications pre-installed. You can access many of them by using the \"waffle\" and selecting an app to start (or file to open etc)."
   ]
  },
  {
   "cell_type": "markdown",
   "id": "8ed0a03a-8dfb-4c80-8dfe-41c23e80f450",
   "metadata": {},
   "source": [
    "<figure>\n",
    "<img src=\"./images/waffle-application-launcher.png\" width=600\">\n",
    "<figcaption align = \"center\"> Ubuntu Lab Desktop</figcaption>\n",
    "</figure>"
   ]
  },
  {
   "cell_type": "markdown",
   "id": "59ca20d6-0801-49e7-884e-3413e0936de9",
   "metadata": {},
   "source": [
    "### Exercises\n",
    "\n",
    "Try to find and start R-studio from the app launcher.\n",
    "\n",
    "Try and find and start a file manager from the desktop. Can you locate your LU h-drive ?\n",
    "\n",
    "Can you share files between your client system and Ubuntu lab ?\n",
    "\n",
    "Start a web browser and access these course notes.\n",
    "\n"
   ]
  },
  {
   "cell_type": "markdown",
   "id": "6fbf67db-b031-4359-b0cb-8d86f3b3ccca",
   "metadata": {},
   "source": [
    "## Using a Unix terminal"
   ]
  },
  {
   "cell_type": "markdown",
   "id": "648fbc9a-a89c-4fbb-bedb-88a68c921448",
   "metadata": {},
   "source": [
    "Start the app launcher (by clicking on the waffle) and type terminal in the search box."
   ]
  },
  {
   "cell_type": "markdown",
   "id": "04512d4d-1b63-488c-bba1-304352ceaccf",
   "metadata": {},
   "source": [
    "<figure>\n",
    "<img src=\"./images/ubuntu-lab-start-terminal.png\" width=600\">\n",
    "<figcaption align = \"center\"> Starting a Unix Terminal</figcaption>\n",
    "</figure>"
   ]
  },
  {
   "cell_type": "markdown",
   "id": "ed5642fc-113f-4f9e-bdd4-97044122edf1",
   "metadata": {},
   "source": [
    "Click on the "
   ]
  },
  {
   "cell_type": "markdown",
   "id": "688370c3-6856-472e-a3d5-4051552f3d13",
   "metadata": {},
   "source": [
    "<figure>\n",
    "<img src=\"./images/terminal-icon.png\" width=200\">\n",
    "<figcaption align = \"center\"> Terminal Icon </figcaption>\n",
    "</figure>"
   ]
  },
  {
   "cell_type": "markdown",
   "id": "9383e723-bd0a-43cd-ab94-aec48b951d7e",
   "metadata": {},
   "source": [
    "which should launch a Terminal in a new window."
   ]
  },
  {
   "cell_type": "markdown",
   "id": "2b4ba513-bfba-473d-b522-365d1614807b",
   "metadata": {},
   "source": [
    "<figure>\n",
    "<img src=\"./images/terminal.png\" width=400\">\n",
    "<figcaption align = \"center\"> Terminal Window </figcaption>\n",
    "</figure>"
   ]
  },
  {
   "cell_type": "markdown",
   "id": "a8f407d0-64f6-40ac-bfb1-93b75e2ff8ad",
   "metadata": {},
   "source": [
    "### Exercise\n",
    "\n",
    "Type **whoami** in the terminal and press return. What do you see ?"
   ]
  },
  {
   "cell_type": "code",
   "execution_count": 2,
   "id": "90582037-de6e-4af7-aa5e-590c81618011",
   "metadata": {},
   "outputs": [
    {
     "name": "stdout",
     "output_type": "stream",
     "text": [
      "grosed\n"
     ]
    }
   ],
   "source": [
    "whoami"
   ]
  },
  {
   "cell_type": "markdown",
   "id": "5038477e-9a78-48ff-8978-713570830dbe",
   "metadata": {},
   "source": [
    "Congratulations - you have now been infected by the Unix virus - there is no known cure !!"
   ]
  }
 ],
 "metadata": {
  "kernelspec": {
   "display_name": "Bash",
   "language": "bash",
   "name": "bash"
  },
  "language_info": {
   "codemirror_mode": "shell",
   "file_extension": ".sh",
   "mimetype": "text/x-sh",
   "name": "bash"
  }
 },
 "nbformat": 4,
 "nbformat_minor": 5
}
