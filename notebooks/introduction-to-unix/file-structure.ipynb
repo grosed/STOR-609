{
 "cells": [
  {
   "cell_type": "markdown",
   "id": "5fe5fc65-0f58-4f03-91cc-1b2e7726546c",
   "metadata": {},
   "source": [
    "# File Structure"
   ]
  },
  {
   "cell_type": "markdown",
   "id": "3bfa8fc2-7617-4168-aa97-0d53549d6ef0",
   "metadata": {},
   "source": [
    "Everything in Unix is a file. Unix is mult-iuser. Consequently, for the purposes of security and operability, files need to have properties that distinguish their use and ownership. "
   ]
  },
  {
   "cell_type": "markdown",
   "id": "c66529db-58a8-4f96-b51d-50ed484d49cc",
   "metadata": {},
   "source": [
    "### Exercise\n",
    "\n",
    "- Navigate to your work directory\n",
    "\n",
    "- Create a new file (you choose the name) - it can be empty if you want.\n",
    "\n",
    "- Use the **-l** option with the **ls** command to view the properties of the files in your home directory. "
   ]
  },
  {
   "cell_type": "markdown",
   "id": "7c4e7f1e-9067-4802-87ba-6969ac33688d",
   "metadata": {},
   "source": [
    "## The Basics"
   ]
  },
  {
   "cell_type": "markdown",
   "id": "86b94828-ee7e-4a88-a84b-b07cb87e089b",
   "metadata": {},
   "source": [
    "The output from the last exercise will probably look something like this"
   ]
  },
  {
   "cell_type": "code",
   "execution_count": 6,
   "id": "3fa6ee25-eb77-4eb6-b88e-e69bdf3ae453",
   "metadata": {},
   "outputs": [
    {
     "name": "stdout",
     "output_type": "stream",
     "text": [
      "total 4\n",
      "-rw-rw-r-- 1 grosed grosed 6 Jan  6 10:34 file-1\n"
     ]
    }
   ],
   "source": [
    "ls -l"
   ]
  },
  {
   "cell_type": "markdown",
   "id": "99fa60f3-bdde-49f9-9769-87d7f522588c",
   "metadata": {},
   "source": [
    "Using **-l** with **ls** shows the properties of the files listed. Here is an annotated view of this information (from someone else's account)."
   ]
  },
  {
   "cell_type": "markdown",
   "id": "ba07300f-635d-4c30-814a-90170f7282c1",
   "metadata": {},
   "source": [
    "<figure>\n",
    "<img src=\"./images/file-properties.png\" width=400\">\n",
    "<figcaption align = \"center\"> Terminal Window </figcaption>\n",
    "</figure>"
   ]
  },
  {
   "cell_type": "markdown",
   "id": "379b19d2-cd53-4f8d-958a-b15a17d367f3",
   "metadata": {},
   "source": [
    "The important information here is the field \"**-rwxr-xr-x**\". Reading from left to right this field is made up of four parts. \n",
    "\n",
    "The first part is one character (a **-** in this case). This shows the type. The most common fields are **-**,**d**,**l**,**p**,**c**, and **b**. **-** means it is a \"regular file\", **d** means it is a directory, **l** means it is a link. These are the most important ones.\n",
    "\n",
    "The next group of three characters are the **user** permissions. If this field has an **r**, then the owner of the file (you in this case), can read the contents of the file. If it has a **w**, the owner can modify the file (including deleting it). If it has an **x** in it, the owner can execute (run) the file.\n",
    "\n",
    "The next two groups of three characters work the same way as the first three except that they correspond to any user who is in the group that the file belongs to and \"any other\" users respectively.\n",
    "\n"
   ]
  },
  {
   "cell_type": "markdown",
   "id": "2f2228ea-3a3e-4574-b210-d15c0636b899",
   "metadata": {},
   "source": [
    "For now, only the user field is considered. This is safe because your home directory only allows the owner to modify read, write and execute it, and this is applied recursively to the whole directory structure.  \n",
    "\n",
    "### Exercise \n",
    "\n",
    "Check the permissions on your home directory."
   ]
  },
  {
   "cell_type": "markdown",
   "id": "46912d06-0116-4d38-be4f-21f348b19e07",
   "metadata": {},
   "source": [
    "## Changing File Permissions"
   ]
  },
  {
   "cell_type": "markdown",
   "id": "99a656ce-c359-4fc7-89b1-7da1d3d70cd4",
   "metadata": {},
   "source": [
    "### chmod"
   ]
  },
  {
   "cell_type": "markdown",
   "id": "7a3e1741-ca2f-410e-85b5-c4f94e1b9e38",
   "metadata": {},
   "source": [
    "File permissions can be changed using the **chmod** command."
   ]
  },
  {
   "cell_type": "markdown",
   "id": "0bff1218-9841-4d8e-8f6c-bb04721305de",
   "metadata": {},
   "source": [
    "### Exercise \n",
    "\n",
    "Run the following command and see how the permissions are changed.\n",
    "\n",
    "```bash\n",
    "chmod +x <your-file-name>\n",
    "```"
   ]
  },
  {
   "cell_type": "markdown",
   "id": "258c30f6-814e-4126-98f8-95a216b18305",
   "metadata": {},
   "source": [
    "### Exercise \n",
    "\n",
    "Now try.\n",
    "\n",
    "```bash\n",
    "chmod -x <your-file-name>\n",
    "```\n",
    "\n",
    "followed by\n",
    "\n",
    "```bash\n",
    "chmod u+x <yourfilename>\n",
    "```\n",
    "\n",
    "What are the permissions now ?"
   ]
  },
  {
   "cell_type": "markdown",
   "id": "accab147-8fb3-4a16-9cf3-98d01694c9cf",
   "metadata": {},
   "source": [
    "### Exercise \n",
    "\n",
    "Use the **chmod** command to allow members of the owning group to run the file.\n",
    "\n"
   ]
  },
  {
   "cell_type": "markdown",
   "id": "2f1fc406-6494-4477-9ba5-19636d57356a",
   "metadata": {},
   "source": [
    "### Exercise \n",
    "\n",
    "Remove write permission for all users on your file. What happens if you now try and delete it ?"
   ]
  }
 ],
 "metadata": {
  "kernelspec": {
   "display_name": "Bash",
   "language": "bash",
   "name": "bash"
  },
  "language_info": {
   "codemirror_mode": "shell",
   "file_extension": ".sh",
   "mimetype": "text/x-sh",
   "name": "bash"
  }
 },
 "nbformat": 4,
 "nbformat_minor": 5
}
