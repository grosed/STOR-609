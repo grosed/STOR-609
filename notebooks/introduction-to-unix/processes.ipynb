{
 "cells": [
  {
   "cell_type": "markdown",
   "id": "016edccd-a28f-461f-b11c-9ee535f68b40",
   "metadata": {},
   "source": [
    "# Processes"
   ]
  },
  {
   "cell_type": "markdown",
   "id": "e44744c5-45d7-42c2-909a-80878a56e7cd",
   "metadata": {},
   "source": [
    "Each time you run a command or a program in Unix it starts a new process. This process has a unique ID which can be used to control and manage the process. There are several Unix commands to help you do this."
   ]
  },
  {
   "cell_type": "markdown",
   "id": "95be8612-f0c0-4a6d-a341-f0d12c87225e",
   "metadata": {},
   "source": [
    "### Exercise\n",
    "\n",
    "Use **wget** to download the following file to your work directory.\n",
    "\n",
    "http://www.mathsbox.com/introduction-to-unix/matrix.exp.R"
   ]
  },
  {
   "cell_type": "markdown",
   "id": "8206465e-e729-4793-a782-ff4c1190f1f3",
   "metadata": {},
   "source": [
    "### Exercise\n",
    "\n",
    "Have a look at the code in the file **matrix.exp.R**. Can you work out how you could run this R code from the shell ?\n",
    "\n",
    "Can you work ou what the code does ?\n",
    "\n",
    "How does the execution time depend on the first paramater to the program ?"
   ]
  },
  {
   "cell_type": "markdown",
   "id": "49ba6155-b549-451d-94ea-0a44f81b2675",
   "metadata": {},
   "source": [
    "## Process IDs"
   ]
  },
  {
   "cell_type": "markdown",
   "id": "28bd4c18-e9ae-4b2e-b064-3ac3f797025b",
   "metadata": {},
   "source": [
    "### top"
   ]
  },
  {
   "cell_type": "markdown",
   "id": "4eae9c0d-2cea-477f-a086-9cc124bd8eca",
   "metadata": {},
   "source": [
    "### Exercise\n",
    "\n",
    "Start another terminal (so that you now have access to two terminals). In the first terminal run the **matrix.exp.R** code setting the first paramater to 2000 and the second to 10.\n",
    "\n",
    "While **matrix.exp.R** is running type the following in the second terminal\n",
    "\n",
    "```bash\n",
    "top\n",
    "```\n",
    "\n",
    "What do you see ?\n",
    "\n",
    "Note - to stop the **top** command running use **Ctrl-C**\n",
    "\n"
   ]
  },
  {
   "cell_type": "markdown",
   "id": "7224870b-6c11-4705-80a1-cbea1c200886",
   "metadata": {},
   "source": [
    "The **PID** column displayed by **top** command is the ID of the listed process. You can use this to control the process. In most cases, this means stopping it !! "
   ]
  },
  {
   "cell_type": "markdown",
   "id": "e60529cd-40b3-4de1-9b9c-84f4a8ba8c17",
   "metadata": {},
   "source": [
    "### kill"
   ]
  },
  {
   "cell_type": "markdown",
   "id": "8688da3c-d5bd-404f-adb0-f6626d970ccd",
   "metadata": {},
   "source": [
    "In Unix, stopping a process is usually referred to as *killing it* !! To *kill* a process, use the **kill** comand with the -9 option (the -9 option means kill it - no questions asked !!).\n",
    "\n",
    "```bash\n",
    "kill -9 <PID>\n",
    "```\n",
    "\n"
   ]
  },
  {
   "cell_type": "markdown",
   "id": "2766a110-ec08-4848-a5cd-c12db7bd42a4",
   "metadata": {},
   "source": [
    "### Exercise\n",
    "\n",
    "Make sure you have the **matrix.exp.R** code running. \n",
    "\n",
    "Find its **PID**. \n",
    "\n",
    "**kill** it !! \n",
    "\n",
    "Check it is dead."
   ]
  },
  {
   "cell_type": "markdown",
   "id": "22629af4-e1d5-4941-8159-5bfcfe249b31",
   "metadata": {},
   "source": [
    "## Background jobs"
   ]
  },
  {
   "cell_type": "markdown",
   "id": "a1be82b8-25df-439d-bbcd-d5617a84454c",
   "metadata": {},
   "source": [
    "The runtime of the **matrix.exp.R** code can become quite long depending on the value of the first two parameters. To allow the shell to continue operating after the **matrix.exp.R** process is started the process can be run in the background. This is done by adding an **&** at the end of the command. "
   ]
  },
  {
   "cell_type": "markdown",
   "id": "876a6c1a-cc44-4975-bc0f-168d74a2b9de",
   "metadata": {},
   "source": [
    "### Exercise\n",
    "\n",
    "Run the **matrix.exp.R** code in the background. \n",
    "\n",
    "What is the PID for your process ?\n"
   ]
  },
  {
   "cell_type": "markdown",
   "id": "11a7f099-fe05-4697-99be-2769bccca410",
   "metadata": {},
   "source": [
    "### ps"
   ]
  },
  {
   "cell_type": "markdown",
   "id": "116f01dc-1031-4e19-b36d-7ed9fd691041",
   "metadata": {},
   "source": [
    "The **ps** command can be used to find out information about running processes.\n",
    "\n",
    "### Exercise\n",
    "\n",
    "Run the **matrix.exp.R** code in the background Now run\n",
    "\n",
    "```bash\n",
    "ps -u <username>\n",
    "```\n",
    "\n",
    "where <username> is your username."
   ]
  },
  {
   "cell_type": "markdown",
   "id": "7110a1c0-869b-465e-877e-037166be5c76",
   "metadata": {},
   "source": [
    "## Batch processing "
   ]
  },
  {
   "cell_type": "markdown",
   "id": "10655101-6e31-4e4a-a60a-b5929774a31d",
   "metadata": {},
   "source": [
    "Being able to run jobs in the background allows for a basic form of parallel processing. You can run many (independent) \"jobs\" at the same time and the Unix system will (where possible) assign each process to a different CPU (core,processor). The easiest way to do this is to write a shell script that starts each \"job\" in the background from within a loop. You should now have all of the necessary knowledge to do just this !! "
   ]
  },
  {
   "cell_type": "markdown",
   "id": "228bebaf-b579-4576-9cf1-6c057e25ba37",
   "metadata": {},
   "source": [
    "### Exercise\n",
    "\n",
    "Write a shell script that runs the **matrix.exp.R** code multiple times for different values of the first paramater. Each process should run in the background. \n",
    "\n",
    "How will you store the results of the above process for future use ?\n"
   ]
  }
 ],
 "metadata": {
  "kernelspec": {
   "display_name": "Bash",
   "language": "bash",
   "name": "bash"
  },
  "language_info": {
   "codemirror_mode": "shell",
   "file_extension": ".sh",
   "mimetype": "text/x-sh",
   "name": "bash"
  }
 },
 "nbformat": 4,
 "nbformat_minor": 5
}
