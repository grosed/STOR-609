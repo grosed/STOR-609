{
 "cells": [
  {
   "cell_type": "markdown",
   "id": "3e3f2c6b-ebac-4d07-8833-7f4b92821d4e",
   "metadata": {},
   "source": [
    "# Background"
   ]
  },
  {
   "cell_type": "markdown",
   "id": "9a380270-7798-4f35-9963-75c42ec2097e",
   "metadata": {},
   "source": [
    "## What is an Operating System"
   ]
  },
  {
   "cell_type": "markdown",
   "id": "407e24ec-52e8-4d72-917d-b4f4096fd053",
   "metadata": {},
   "source": [
    "<figure>\n",
    "<img src=\"./images/os-components2.png\" width=500\">\n",
    "<figcaption align = \"center\"> Main components of a Unix operating system.</figcaption>\n",
    "</figure>"
   ]
  },
  {
   "cell_type": "markdown",
   "id": "43997527-3853-4365-b159-f58be97dc09b",
   "metadata": {},
   "source": [
    "## History and Distribution of Unix"
   ]
  },
  {
   "cell_type": "markdown",
   "id": "6d86c19e-11b3-4d19-bdc6-ed76f9715ee3",
   "metadata": {},
   "source": [
    "<figure>\n",
    "<img src=\"./images/unix-history.png\" width=600\">\n",
    "<figcaption align = \"center\"> History of the Unix operating system.</figcaption>\n",
    "</figure>"
   ]
  },
  {
   "cell_type": "markdown",
   "id": "c6ede22e-76e7-4924-9b50-a86eb0437e0e",
   "metadata": {},
   "source": [
    "<figure>\n",
    "<img src=\"./images/android-architecture.jpg\" width=500\">\n",
    "<figcaption align = \"center\"> Android and Unix</figcaption>\n",
    "</figure>"
   ]
  },
  {
   "cell_type": "markdown",
   "id": "a9f8a6ef-b117-45fd-aa17-fc4a74f7350a",
   "metadata": {},
   "source": [
    "<figure>\n",
    "<img src=\"./images/device-shipment-2015.png\" width=400\">\n",
    "<figcaption align = \"center\"> Worldwide device shipments by operating system, which includes smartphones, tablets, laptops and PCs together. </figcaption>\n",
    "</figure>"
   ]
  },
  {
   "cell_type": "markdown",
   "id": "58da6865-a71b-44f2-a1f6-c8a2315920ed",
   "metadata": {},
   "source": [
    "<figure>\n",
    "<img src=\"./images/desktop-os-statistics.png\" width=400\">\n",
    "<figcaption align = \"center\"> Desktop OS platforms statistics in percentage share worldwide. </figcaption>\n",
    "</figure>"
   ]
  },
  {
   "cell_type": "markdown",
   "id": "541eea7c-0bf9-4709-94b7-2a8475dcf4ae",
   "metadata": {},
   "source": [
    "## Why Unix ?\n",
    "\n",
    "The Unix \"philosophy\" emphasizes building simple, compact, clear, modular, and extensible code that can be easily maintained and repurposed by developers other than its creators. The Unix philosophy favors composability as opposed to monolithic design. "
   ]
  },
  {
   "cell_type": "markdown",
   "id": "25920b48-a7da-409c-a7f6-fcfc4e944f5a",
   "metadata": {},
   "source": [
    "- Write programs that do one thing and do it well.\n",
    "- Write programs to work together.\n",
    "- Write programs to handle text streams, because that is a universal interface.\n",
    "\n",
    "Peter Salus - in \"Basics of Unix Philosophy\" [1]"
   ]
  },
  {
   "cell_type": "markdown",
   "id": "e54ff699-6a54-4c12-ba77-6851364bf98a",
   "metadata": {},
   "source": [
    "Use of Unix is quite common within scientific research. Many believe this is because of the common need for high performance multi user systems and large data stores in this area. This is indeed important, but it is also due to the flexibility that is conferred by the nature of Unix based systems. \n",
    "\n",
    "However, the most important, though perhaps least understood reason, is that the Unix \"philosophy\" is consistent with the scientific method i.e. it intrinsically enables and supports Replication, Repeatability, Reusability, and Openess.    "
   ]
  }
 ],
 "metadata": {
  "kernelspec": {
   "display_name": "Bash",
   "language": "bash",
   "name": "bash"
  },
  "language_info": {
   "codemirror_mode": "shell",
   "file_extension": ".sh",
   "mimetype": "text/x-sh",
   "name": "bash"
  }
 },
 "nbformat": 4,
 "nbformat_minor": 5
}
