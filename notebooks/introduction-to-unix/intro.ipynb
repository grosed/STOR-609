{
 "cells": [
  {
   "cell_type": "markdown",
   "id": "6b2d22d9-fed4-4845-b8a6-42a7451de7df",
   "metadata": {},
   "source": [
    "# Introduction to Unix"
   ]
  }
 ],
 "metadata": {
  "kernelspec": {
   "display_name": "Bash",
   "language": "bash",
   "name": "bash"
  },
  "language_info": {
   "codemirror_mode": "shell",
   "file_extension": ".sh",
   "mimetype": "text/x-sh",
   "name": "bash"
  }
 },
 "nbformat": 4,
 "nbformat_minor": 5
}
