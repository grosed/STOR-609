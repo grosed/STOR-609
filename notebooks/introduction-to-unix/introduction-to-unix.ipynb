{
 "cells": [
  {
   "cell_type": "markdown",
   "id": "a38fea2f-f438-4dd8-8dc2-c45e53f9dcba",
   "metadata": {},
   "source": [
    "\n"
   ]
  },
  {
   "cell_type": "markdown",
   "id": "046bb719-4a81-478a-9670-15a1b6a692d4",
   "metadata": {},
   "source": [
    "# Introduction to Unix"
   ]
  },
  {
   "cell_type": "markdown",
   "id": "70bb220c-0571-444d-838b-f9278fefe163",
   "metadata": {},
   "source": [
    "## Background"
   ]
  },
  {
   "cell_type": "markdown",
   "id": "42a7c417-52d7-4a74-ad86-124eee72ac71",
   "metadata": {},
   "source": [
    "### What is an Operating System"
   ]
  },
  {
   "cell_type": "markdown",
   "id": "2df3e189-95de-4d38-886a-0e529ce40dbf",
   "metadata": {},
   "source": [
    "<figure>\n",
    "<img src=\"./os-components2.png\" width=500\">\n",
    "<figcaption align = \"center\"> Main components of a Unix operating system.</figcaption>\n",
    "</figure>"
   ]
  },
  {
   "cell_type": "markdown",
   "id": "434eaaf5-c496-4574-9482-7b8f583fc601",
   "metadata": {},
   "source": [
    "### History and Distribution of Unix"
   ]
  },
  {
   "cell_type": "markdown",
   "id": "72efb987-3ba9-4d9a-a567-8923cf46e218",
   "metadata": {},
   "source": [
    "<figure>\n",
    "<img src=\"./unix-history.png\" width=600\">\n",
    "<figcaption align = \"center\"> History of the Unix operating system.</figcaption>\n",
    "</figure>"
   ]
  },
  {
   "cell_type": "markdown",
   "id": "15f016c6-9559-4c00-a84e-1b3c878ce3fe",
   "metadata": {},
   "source": [
    "<figure>\n",
    "<img src=\"./android-architecture.jpg\" width=500\">\n",
    "<figcaption align = \"center\"> Android and Unix</figcaption>\n",
    "</figure>"
   ]
  },
  {
   "cell_type": "markdown",
   "id": "234be493-a212-48d7-851a-8ee715f4ed00",
   "metadata": {},
   "source": [
    "<figure>\n",
    "<img src=\"./device-shipment-2015.png\" width=400\">\n",
    "<figcaption align = \"center\"> Worldwide device shipments by operating system, which includes smartphones, tablets, laptops and PCs together. </figcaption>\n",
    "</figure>"
   ]
  },
  {
   "cell_type": "markdown",
   "id": "3e2a4f8f-3af8-4bad-898e-ed091ba39b2b",
   "metadata": {},
   "source": [
    "<figure>\n",
    "<img src=\"./desktop-os-statistics.png\" width=400\">\n",
    "<figcaption align = \"center\"> Desktop OS platforms statistics in percentage share worldwide. </figcaption>\n",
    "</figure>"
   ]
  },
  {
   "cell_type": "markdown",
   "id": "88f27df3-b150-4aca-9833-0c1594aa210f",
   "metadata": {},
   "source": [
    "### Why Unix ?\n",
    "\n",
    "The Unix \"philosophy\" emphasizes building simple, compact, clear, modular, and extensible code that can be easily maintained and repurposed by developers other than its creators. The Unix philosophy favors composability as opposed to monolithic design. "
   ]
  },
  {
   "cell_type": "markdown",
   "id": "790dad48-c168-4fd7-9e54-94ccf7d4e403",
   "metadata": {},
   "source": [
    "- Write programs that do one thing and do it well.\n",
    "- Write programs to work together.\n",
    "- Write programs to handle text streams, because that is a universal interface.\n",
    "\n",
    "Peter Salus - in \"Basics of Unix Philosophy\" [1]"
   ]
  },
  {
   "cell_type": "markdown",
   "id": "acac7935-5f1f-4a02-8c22-faa0f5493894",
   "metadata": {},
   "source": [
    "Use of Unix is quite common within scientific research. Many believe this is because of the common need for high performance multi user systems and large data stores in this area. This is indeed important, but it is also due to the flexibility that is conferred by the nature of Unix based systems. \n",
    "\n",
    "However, the most important, though perhaps least understood reason, is that the Unix \"philosophy\" is consistent with the scientific method i.e. it intrinsically enables and supports Replication, Repeatability, Reusability, and Openess.    "
   ]
  },
  {
   "cell_type": "markdown",
   "id": "99b69963-9b0e-4fbe-a741-1578d7af7c7e",
   "metadata": {},
   "source": [
    "## Getting Started"
   ]
  },
  {
   "cell_type": "markdown",
   "id": "78c48517-129a-4dc2-97f1-6fcd948f0187",
   "metadata": {},
   "source": [
    "Lancaster University has a number of Unix systems. All of them are accessed via an internet connection from another system, such as your laptop or a computer on campus. Some of the Unix systems only provide a terminal, some of them provide GUI style applications, but only when accessed from another Unix system, and some provide a full virtual desltop for using both GUI based applicationas and/or a terminal. It is the latter type of systems that will be used in this course."
   ]
  },
  {
   "cell_type": "markdown",
   "id": "f948b12b-b7f3-43fe-bedf-0767671a31cf",
   "metadata": {},
   "source": [
    "### Accessing a Remote Unix Desktop "
   ]
  },
  {
   "cell_type": "markdown",
   "id": "e6692387-1e9b-4680-b0ab-43d0831525d2",
   "metadata": {},
   "source": [
    "From a browser follow this link to [Lancaster University MyLab](https://mylab.lancaster.ac.uk/). You will be prompted for a LU username, password, and one time passcode. You will then be presented with something like the following."
   ]
  },
  {
   "cell_type": "markdown",
   "id": "9072aa4c-1500-4003-8d42-1fc67963961f",
   "metadata": {},
   "source": [
    "<figure>\n",
    "<img src=\"./LU-mylab.png\" width=600\">\n",
    "<figcaption align = \"center\"> LU Mylab </figcaption>\n",
    "</figure>"
   ]
  },
  {
   "cell_type": "markdown",
   "id": "4befdebe-4741-44ef-b038-1e74351b6dca",
   "metadata": {},
   "source": [
    "Now double click on the **LU Ubuntu Lab** icon\n",
    "\n",
    "<figure>\n",
    "<img src=\"./ubuntu-lab.png\" width=200\">\n",
    "<figcaption align = \"center\"> Ubuntu Lab </figcaption>\n",
    "</figure>"
   ]
  },
  {
   "cell_type": "markdown",
   "id": "3746c1de-f185-4e81-a862-f3b9f7b0ee00",
   "metadata": {},
   "source": [
    "<figure>\n",
    "<img src=\"./ubuntu-lab-username.png\" width=300\">\n",
    "<figcaption align = \"center\"> Ubuntu Lab username entry</figcaption>\n",
    "</figure>"
   ]
  },
  {
   "cell_type": "markdown",
   "id": "04414350-7147-4da2-a25a-ef972f4d85f6",
   "metadata": {},
   "source": [
    "<figure>\n",
    "<img src=\"./ubuntu-lab-password.png\" width=300\">\n",
    "<figcaption align = \"center\"> Ubuntu Lab password entry</figcaption>\n",
    "</figure>"
   ]
  },
  {
   "cell_type": "markdown",
   "id": "fc45171a-1f23-46d7-9f35-125a4e6b4560",
   "metadata": {},
   "source": [
    "<figure>\n",
    "<img src=\"./ubuntu-lab-desktop.png\" width=600\">\n",
    "<figcaption align = \"center\"> Ubuntu Lab Desktop</figcaption>\n",
    "</figure>"
   ]
  },
  {
   "cell_type": "markdown",
   "id": "c72cffe5-7ea7-4b6c-acaa-5896152d626a",
   "metadata": {},
   "source": [
    "### Using the Desktop"
   ]
  },
  {
   "cell_type": "markdown",
   "id": "404ef55d-1722-4710-b13f-990b64590eaa",
   "metadata": {},
   "source": [
    "The Ubuntu desktop you are now using has a number of applications pre-installed. You can access many of them by using the \"waffle\" and selecting an app to start (or file to open etc)."
   ]
  },
  {
   "cell_type": "markdown",
   "id": "cc6bf985-8411-449c-8b25-16db54e36242",
   "metadata": {},
   "source": [
    "<figure>\n",
    "<img src=\"./waffle-application-launcher.png\" width=600\">\n",
    "<figcaption align = \"center\"> Ubuntu Lab Desktop</figcaption>\n",
    "</figure>"
   ]
  },
  {
   "cell_type": "markdown",
   "id": "6c5732e6-f767-4805-a324-cf5db1e95761",
   "metadata": {},
   "source": [
    "#### Exercises\n",
    "\n",
    "Try to find and start R-studio from the app launcher.\n",
    "\n",
    "Try and find and start a file manager from the desktop. Can you locate your LU h-drive ?\n",
    "\n",
    "Can you share files between your client system and Ubuntu lab ?\n",
    "\n",
    "Start a web browser and access these course notes.\n",
    "\n"
   ]
  },
  {
   "cell_type": "markdown",
   "id": "a58e6358-0f70-491b-806e-bff9b37aa7bb",
   "metadata": {},
   "source": [
    "## Using a Unix terminal"
   ]
  },
  {
   "cell_type": "markdown",
   "id": "4ae3b0f9-96d2-481f-b861-3691be844131",
   "metadata": {},
   "source": [
    "Start the app launcher (by clicking on the waffle) and type terminal in the search box."
   ]
  },
  {
   "cell_type": "markdown",
   "id": "d88be2cd-9556-41cc-9045-0a1ced0f1ebb",
   "metadata": {},
   "source": [
    "<figure>\n",
    "<img src=\"./ubuntu-lab-start-terminal.png\" width=600\">\n",
    "<figcaption align = \"center\"> Starting a Unix Terminal</figcaption>\n",
    "</figure>"
   ]
  },
  {
   "cell_type": "markdown",
   "id": "cb7ca5f0-dd5d-4dfb-9630-e10506966f46",
   "metadata": {},
   "source": [
    "Click on the "
   ]
  },
  {
   "cell_type": "markdown",
   "id": "1e20bb3c-c109-42b1-b7b5-1d9125166178",
   "metadata": {},
   "source": [
    "<figure>\n",
    "<img src=\"./terminal-icon.png\" width=200\">\n",
    "<figcaption align = \"center\"> Terminal Icon </figcaption>\n",
    "</figure>"
   ]
  },
  {
   "cell_type": "markdown",
   "id": "413a9908-6064-4143-9e2d-ead7a89c55b5",
   "metadata": {},
   "source": [
    "which should launch a Terminal in a new window."
   ]
  },
  {
   "cell_type": "markdown",
   "id": "715e4052-0fc8-4d1d-9500-777a92433fa9",
   "metadata": {},
   "source": [
    "<figure>\n",
    "<img src=\"./terminal.png\" width=400\">\n",
    "<figcaption align = \"center\"> Terminal Window </figcaption>\n",
    "</figure>"
   ]
  },
  {
   "cell_type": "markdown",
   "id": "1f771219-6fb8-4f34-a13d-78ac64a16a0e",
   "metadata": {},
   "source": [
    "### Exercise\n",
    "\n",
    "Type **whoami** in the terminal and press return. What do you see ?"
   ]
  },
  {
   "cell_type": "code",
   "execution_count": 6,
   "id": "8548f472-f85e-4087-8f4d-f90f6cb5edf5",
   "metadata": {},
   "outputs": [
    {
     "name": "stdout",
     "output_type": "stream",
     "text": [
      "grosed\n"
     ]
    }
   ],
   "source": [
    "whoami"
   ]
  },
  {
   "cell_type": "markdown",
   "id": "268cdc92-d137-4a64-8dc3-0f8fd38cd95e",
   "metadata": {},
   "source": [
    "Congratulations - you have now been infected by the Unix virus - there is no known cure !!\n",
    "\n",
    "From now on, most of the commands you use will displayed in like the one above. For example, you can generate a list of files and directories by using the command **ls**.  "
   ]
  },
  {
   "cell_type": "code",
   "execution_count": 10,
   "id": "5cd06804-e8d6-4f5d-8495-03bc0f113c9b",
   "metadata": {},
   "outputs": [
    {
     "name": "stdout",
     "output_type": "stream",
     "text": [
      "\u001b[0m\u001b[01;35m'2024-08-27 15-26-33.mkv'\u001b[0m   \u001b[01;34mDesktop\u001b[0m                      \u001b[01;34mMusic\u001b[0m\n",
      "\u001b[01;35m'2024-08-27 15-30-20.mkv'\u001b[0m   \u001b[01;34mDocuments\u001b[0m                    out.whl\n",
      "\u001b[01;35m'2024-08-27 15-31-28.mkv'\u001b[0m   \u001b[01;34mDownloads\u001b[0m                    \u001b[01;34mPictures\u001b[0m\n",
      "\u001b[01;35m'2024-08-27 15-42-19.mkv'\u001b[0m   \u001b[01;34mDropbox\u001b[0m                      \u001b[01;34mPublic\u001b[0m\n",
      "\u001b[01;35m'2024-08-27 16-38-28.mkv'\u001b[0m   \u001b[01;34mfsharp-env\u001b[0m                   \u001b[01;34mR\u001b[0m\n",
      "\u001b[01;35m'2024-08-27 16-46-59.mkv'\u001b[0m   \u001b[01;34mfunctional-python-env\u001b[0m        \u001b[01;34mRcpp-debug\u001b[0m\n",
      " \u001b[01;34manomaly\u001b[0m                    \u001b[01;35mfungal-computer.mkv\u001b[0m          \u001b[01;34mrise-env\u001b[0m\n",
      " \u001b[01;34mbasic-unix-env\u001b[0m             \u001b[01;35mfungal-computing.mp4\u001b[0m         \u001b[01;34mR-notes-env\u001b[0m\n",
      " \u001b[01;34mblob\u001b[0m                       \u001b[01;34mgo\u001b[0m                           \u001b[01;34msnap\u001b[0m\n",
      "\u001b[00;90m'#blob.txt#'\u001b[0m                \u001b[01;32mgurobi.lic\u001b[0m                   \u001b[01;32mstart-pyenv\u001b[0m\n",
      " \u001b[01;34mBT\u001b[0m                         \u001b[01;35mhuman-digital-computer.mkv\u001b[0m   \u001b[01;34mSTOR-609-env\u001b[0m\n",
      " \u001b[01;34mcapa-online-env\u001b[0m            \u001b[01;35mhuman-digital-computer.mp4\u001b[0m   \u001b[01;34msupport\u001b[0m\n",
      " \u001b[01;34mcertificates\u001b[0m               \u001b[01;34mintro-python-env\u001b[0m             \u001b[01;34mtemp\u001b[0m\n",
      " \u001b[01;34mchange-detection-env\u001b[0m       \u001b[01;34mKLR-env\u001b[0m                      \u001b[01;34mTemplates\u001b[0m\n",
      " \u001b[01;34mchangepoint_online-env\u001b[0m     \u001b[01;34mlidia\u001b[0m                        \u001b[01;34mtest\u001b[0m\n",
      " \u001b[01;34mcpop-env\u001b[0m                   ls                           \u001b[01;34mVideos\u001b[0m\n",
      " \u001b[01;34mdead-rail-control-env\u001b[0m      \u001b[01;34mmodel-sound-env\u001b[0m              \u001b[01;34mwork-env\u001b[0m\n"
     ]
    }
   ],
   "source": [
    "ls"
   ]
  },
  {
   "cell_type": "markdown",
   "id": "6418399b-d393-4afb-9be5-d39ebbcbe8f5",
   "metadata": {},
   "source": [
    "Notice that the output of the command **ls** shown above is not on your system (it is on one of mine), so the output will be different."
   ]
  },
  {
   "cell_type": "markdown",
   "id": "88f8ff01-3c5a-4579-a434-e2fa009da297",
   "metadata": {},
   "source": [
    "## References\n",
    "\n",
    "\n",
    "[1]  Raymond, Eric S. (2004).\"Basics of the Unix Philosophy\". The Art of Unix Programming. Addison-Wesley Professional (published 2003-09-23). ISBN 0-13-142901-9. Retrieved 2016-11-01.\n"
   ]
  },
  {
   "cell_type": "code",
   "execution_count": null,
   "id": "257b620a-9782-4652-83f6-8d2740f0d7d1",
   "metadata": {},
   "outputs": [],
   "source": []
  },
  {
   "cell_type": "code",
   "execution_count": null,
   "id": "7da10180-0b68-4588-8f87-9ee2e35e2592",
   "metadata": {},
   "outputs": [],
   "source": []
  },
  {
   "cell_type": "markdown",
   "id": "f4f9f93c-0418-484f-bec6-e4343c150a55",
   "metadata": {},
   "source": [
    "Use this link to get an example of how to get file names/info from google\n",
    "\n",
    "https://developers.google.com/drive/api/quickstart/python\n"
   ]
  },
  {
   "cell_type": "code",
   "execution_count": null,
   "id": "63bd5715-a892-49de-b00b-2d553f5616cc",
   "metadata": {},
   "outputs": [],
   "source": []
  },
  {
   "cell_type": "code",
   "execution_count": null,
   "id": "5671016c-7ba7-45e4-818a-9a756cc69cf7",
   "metadata": {},
   "outputs": [],
   "source": []
  },
  {
   "cell_type": "code",
   "execution_count": 1,
   "id": "8b47c0ed-9b44-45aa-89c5-b35bb9537ee7",
   "metadata": {},
   "outputs": [
    {
     "name": "stdout",
     "output_type": "stream",
     "text": [
      "total 2024\n",
      "-rw-rw-r-- 1 grosed grosed 198676 Dec 16 10:22 \u001b[0m\u001b[01;35mandroid-architecture.jpg\u001b[0m\n",
      "-rw-rw-r-- 1 grosed grosed  72518 Dec 16 11:49 \u001b[01;35mcomputer-hardware.jpg\u001b[0m\n",
      "-rw-rw-r-- 1 grosed grosed 539589 Dec 16 11:53 \u001b[01;35mdesktop-applications.jpg\u001b[0m\n",
      "-rw-rw-r-- 1 grosed grosed 202835 Dec 16 10:39 \u001b[01;35mdesktop-os-statistics.png\u001b[0m\n",
      "-rw-rw-r-- 1 grosed grosed  29663 Dec 16 10:32 \u001b[01;35mdevice-shipment-2015.png\u001b[0m\n",
      "-rw-rw-r-- 1 grosed grosed  22991 Dec 16 13:10 introduction-to-unix.ipynb\n",
      "-rw-rw-r-- 1 grosed grosed 108310 Dec 16 11:40 \u001b[01;35mlinux-kernel-code.png\u001b[0m\n",
      "-rw-rw-r-- 1 grosed grosed 275954 Dec 16 13:06 \u001b[01;35mos-components2.png\u001b[0m\n",
      "-rw-rw-r-- 1 grosed grosed  85295 Dec 16 10:01 \u001b[01;35mos-components.png\u001b[0m\n",
      "-rw-rw-r-- 1 grosed grosed 263810 Dec 16 11:52 \u001b[01;35mterminal.jpg\u001b[0m\n",
      "-rw-rw-r-- 1 grosed grosed 249989 Dec 16 10:22 \u001b[01;35munix-history.png\u001b[0m\n"
     ]
    }
   ],
   "source": [
    "ls -l"
   ]
  },
  {
   "cell_type": "code",
   "execution_count": null,
   "id": "6b0fa02e-9159-4c89-8bc2-9d0380bf6359",
   "metadata": {},
   "outputs": [],
   "source": []
  },
  {
   "cell_type": "markdown",
   "id": "c40847ff-169b-4291-bf84-9051470cac10",
   "metadata": {},
   "source": [
    "https://zenodo.org/records/1432702"
   ]
  },
  {
   "cell_type": "markdown",
   "id": "65fe868e-14e1-47b2-ae08-85b532639c66",
   "metadata": {},
   "source": [
    "https://drive.google.com/file/d/13_zvOH2iPweF-Ywgxc7weX10x86NfCD4/view?usp=drive_link"
   ]
  },
  {
   "cell_type": "markdown",
   "id": "e2376046-d6b8-4c10-b4db-15a2d897e960",
   "metadata": {},
   "source": [
    "download a file from google drive using curl"
   ]
  },
  {
   "cell_type": "code",
   "execution_count": 2,
   "id": "694b096e-4b96-4b8e-bcbc-158ff7fa130f",
   "metadata": {},
   "outputs": [
    {
     "name": "stdout",
     "output_type": "stream",
     "text": [
      "  % Total    % Received % Xferd  Average Speed   Time    Time     Time  Current\n",
      "                                 Dload  Upload   Total   Spent    Left  Speed\n",
      "  0     0    0     0    0     0      0      0 --:--:-- --:--:-- --:--:--     0curl: (6) Could not resolve host: filename\n",
      "curl: (3) URL rejected: No host part in the URL\n",
      "curl: (3) URL rejected: Malformed input to a URL function\n"
     ]
    },
    {
     "ename": "",
     "evalue": "3",
     "output_type": "error",
     "traceback": []
    }
   ],
   "source": [
    "\n",
    "filename=\"### filename ###\"\n",
    "fileid=\"### file ID ###\"\n",
    "curl -L -o ${filename} \"https://drive.google.com/uc?export=download&id=${fileid}\""
   ]
  },
  {
   "cell_type": "code",
   "execution_count": null,
   "id": "a07dbb46-7125-484f-bbeb-4555705baf6c",
   "metadata": {},
   "outputs": [],
   "source": [
    "\n",
    "filename=\"blob.mat\"\n",
    "fileid=\"13_zvOH2iPweF-Ywgxc7weX10x86NfCD4\"\n",
    "curl -L -o ${filename} \"https://drive.google.com/uc?export=download&id=${fileid}\""
   ]
  },
  {
   "cell_type": "code",
   "execution_count": null,
   "id": "cc01cd1e-d7b9-462c-adec-575df1e8c9fe",
   "metadata": {},
   "outputs": [],
   "source": [
    "curl https://drive.google.com/file/d/13_zvOH2iPweF-Ywgxc7weX10x86NfCD4/view?usp=drive_link"
   ]
  },
  {
   "cell_type": "code",
   "execution_count": null,
   "id": "1512fcb5-9c43-4ecc-8cce-ad2e437e9d8e",
   "metadata": {},
   "outputs": [],
   "source": [
    "https://drive.google.com/file/d/13_zvOH2iPweF-Ywgxc7weX10x86NfCD4/view?usp=drive_link"
   ]
  },
  {
   "cell_type": "code",
   "execution_count": null,
   "id": "982feb0b-2c08-43b4-8ac3-5e681c5d281f",
   "metadata": {},
   "outputs": [],
   "source": [
    "envi"
   ]
  },
  {
   "cell_type": "markdown",
   "id": "89a422ac-52be-49fc-8b70-3943dd6c42fb",
   "metadata": {},
   "source": [
    "environmental data\n",
    "\n",
    "https://data.ceda.ac.uk/"
   ]
  },
  {
   "cell_type": "markdown",
   "id": "86f87087-b40c-41bf-ac7a-c61c1feeae58",
   "metadata": {},
   "source": [
    "nc format\n",
    "\n",
    "https://help.ceda.ac.uk/article/106-netcdf"
   ]
  },
  {
   "cell_type": "markdown",
   "id": "4b83383d-ec3f-4a35-a566-a334ab73a51f",
   "metadata": {},
   "source": [
    "install netcdf (for ncdump)\n",
    "\n",
    "sudo apt-get install netcdf-bin"
   ]
  },
  {
   "cell_type": "markdown",
   "id": "34d884b1-122b-4f48-adb2-b1b262d6cae7",
   "metadata": {},
   "source": [
    "example download\n",
    "\n",
    " wget https://data.ceda.ac.uk/bodc/BAS210037/JRA55IAF-ORCH0083-LIM3/1978/d01/I/ORCH0083-LIM3_19780101_I_d01.nc"
   ]
  },
  {
   "cell_type": "markdown",
   "id": "e3aab913-2d4c-4ccf-b5a2-6c3fd8aaf7d0",
   "metadata": {},
   "source": [
    "regular expression to match filenames in html\n",
    "\n",
    "cat blob | grep -Eo '\\w+\\.(nc)' | uniq"
   ]
  },
  {
   "cell_type": "code",
   "execution_count": null,
   "id": "d9bb0c86-3b16-41fd-8663-d8606d549966",
   "metadata": {},
   "outputs": [],
   "source": [
    "curl https://data.ceda.ac.uk/bodc/BAS210037/JRA55IAF-ORCH0083-LIM3/1978/d01/I | grep -Eo '\\w+\\.(nc)' | uniq"
   ]
  }
 ],
 "metadata": {
  "kernelspec": {
   "display_name": "Bash",
   "language": "bash",
   "name": "bash"
  },
  "language_info": {
   "codemirror_mode": "shell",
   "file_extension": ".sh",
   "mimetype": "text/x-sh",
   "name": "bash"
  }
 },
 "nbformat": 4,
 "nbformat_minor": 5
}
