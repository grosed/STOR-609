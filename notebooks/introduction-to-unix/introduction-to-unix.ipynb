{
 "cells": [
  {
   "cell_type": "markdown",
   "id": "a38fea2f-f438-4dd8-8dc2-c45e53f9dcba",
   "metadata": {},
   "source": [
    "\n"
   ]
  },
  {
   "cell_type": "markdown",
   "id": "046bb719-4a81-478a-9670-15a1b6a692d4",
   "metadata": {},
   "source": [
    "# Introduction to Unix"
   ]
  },
  {
   "cell_type": "markdown",
   "id": "70bb220c-0571-444d-838b-f9278fefe163",
   "metadata": {},
   "source": [
    "## Background"
   ]
  },
  {
   "cell_type": "markdown",
   "id": "42a7c417-52d7-4a74-ad86-124eee72ac71",
   "metadata": {},
   "source": [
    "### What is an Operating System"
   ]
  },
  {
   "cell_type": "markdown",
   "id": "2df3e189-95de-4d38-886a-0e529ce40dbf",
   "metadata": {},
   "source": [
    "<figure>\n",
    "<img src=\"./os-components2.png\" width=500\">\n",
    "<figcaption align = \"center\"> Main components of a Unix operating system.</figcaption>\n",
    "</figure>"
   ]
  },
  {
   "cell_type": "markdown",
   "id": "434eaaf5-c496-4574-9482-7b8f583fc601",
   "metadata": {},
   "source": [
    "### History and Distribution of Unix"
   ]
  },
  {
   "cell_type": "markdown",
   "id": "72efb987-3ba9-4d9a-a567-8923cf46e218",
   "metadata": {},
   "source": [
    "<figure>\n",
    "<img src=\"./unix-history.png\" width=600\">\n",
    "<figcaption align = \"center\"> History of the Unix operating system.</figcaption>\n",
    "</figure>"
   ]
  },
  {
   "cell_type": "markdown",
   "id": "15f016c6-9559-4c00-a84e-1b3c878ce3fe",
   "metadata": {},
   "source": [
    "<figure>\n",
    "<img src=\"./android-architecture.jpg\" width=500\">\n",
    "<figcaption align = \"center\"> Android and Unix</figcaption>\n",
    "</figure>"
   ]
  },
  {
   "cell_type": "markdown",
   "id": "234be493-a212-48d7-851a-8ee715f4ed00",
   "metadata": {},
   "source": [
    "<figure>\n",
    "<img src=\"./device-shipment-2015.png\" width=400\">\n",
    "<figcaption align = \"center\"> Worldwide device shipments by operating system, which includes smartphones, tablets, laptops and PCs together. </figcaption>\n",
    "</figure>"
   ]
  },
  {
   "cell_type": "markdown",
   "id": "3e2a4f8f-3af8-4bad-898e-ed091ba39b2b",
   "metadata": {},
   "source": [
    "<figure>\n",
    "<img src=\"./desktop-os-statistics.png\" width=400\">\n",
    "<figcaption align = \"center\"> Desktop OS platforms statistics in percentage share worldwide. </figcaption>\n",
    "</figure>"
   ]
  },
  {
   "cell_type": "markdown",
   "id": "88f27df3-b150-4aca-9833-0c1594aa210f",
   "metadata": {},
   "source": [
    "### Why Unix ?\n",
    "\n",
    "The Unix \"philosophy\" emphasizes building simple, compact, clear, modular, and extensible code that can be easily maintained and repurposed by developers other than its creators. The Unix philosophy favors composability as opposed to monolithic design. "
   ]
  },
  {
   "cell_type": "markdown",
   "id": "790dad48-c168-4fd7-9e54-94ccf7d4e403",
   "metadata": {},
   "source": [
    "- Write programs that do one thing and do it well.\n",
    "- Write programs to work together.\n",
    "- Write programs to handle text streams, because that is a universal interface.\n",
    "\n",
    "Peter Salus - in \"Basics of Unix Philosophy\" [1]"
   ]
  },
  {
   "cell_type": "markdown",
   "id": "acac7935-5f1f-4a02-8c22-faa0f5493894",
   "metadata": {},
   "source": [
    "Use of Unix is quite common within scientific research. Many belive this is because of the common need for high performance multi user systems and large data stores in this area. This is indeed important, but it is also due to the flexibility that is conferred by the nature of Unix based systems. \n",
    "\n",
    "However, the most important, though perhaps least understood reason, is that the Unix \"philosophy\" is consistent with the scientific method i.e. it intrinsically enables and supports Replication, Repeatability, Reusability, and Openess.    "
   ]
  },
  {
   "cell_type": "code",
   "execution_count": null,
   "id": "0884f0b5-2b71-4157-9d7e-d0deb539001e",
   "metadata": {},
   "outputs": [],
   "source": []
  },
  {
   "cell_type": "markdown",
   "id": "88f8ff01-3c5a-4579-a434-e2fa009da297",
   "metadata": {},
   "source": [
    "## References\n",
    "\n",
    "\n",
    "[1]  Raymond, Eric S. (2004).\"Basics of the Unix Philosophy\". The Art of Unix Programming. Addison-Wesley Professional (published 2003-09-23). ISBN 0-13-142901-9. Retrieved 2016-11-01.\n"
   ]
  },
  {
   "cell_type": "code",
   "execution_count": null,
   "id": "257b620a-9782-4652-83f6-8d2740f0d7d1",
   "metadata": {},
   "outputs": [],
   "source": []
  },
  {
   "cell_type": "code",
   "execution_count": null,
   "id": "7da10180-0b68-4588-8f87-9ee2e35e2592",
   "metadata": {},
   "outputs": [],
   "source": []
  },
  {
   "cell_type": "markdown",
   "id": "f4f9f93c-0418-484f-bec6-e4343c150a55",
   "metadata": {},
   "source": [
    "Use this link to get an example of how to get file names/info from google\n",
    "\n",
    "https://developers.google.com/drive/api/quickstart/python\n"
   ]
  },
  {
   "cell_type": "code",
   "execution_count": null,
   "id": "63bd5715-a892-49de-b00b-2d553f5616cc",
   "metadata": {},
   "outputs": [],
   "source": []
  },
  {
   "cell_type": "code",
   "execution_count": null,
   "id": "5671016c-7ba7-45e4-818a-9a756cc69cf7",
   "metadata": {},
   "outputs": [],
   "source": []
  },
  {
   "cell_type": "code",
   "execution_count": 1,
   "id": "8b47c0ed-9b44-45aa-89c5-b35bb9537ee7",
   "metadata": {},
   "outputs": [
    {
     "name": "stdout",
     "output_type": "stream",
     "text": [
      "total 2024\n",
      "-rw-rw-r-- 1 grosed grosed 198676 Dec 16 10:22 \u001b[0m\u001b[01;35mandroid-architecture.jpg\u001b[0m\n",
      "-rw-rw-r-- 1 grosed grosed  72518 Dec 16 11:49 \u001b[01;35mcomputer-hardware.jpg\u001b[0m\n",
      "-rw-rw-r-- 1 grosed grosed 539589 Dec 16 11:53 \u001b[01;35mdesktop-applications.jpg\u001b[0m\n",
      "-rw-rw-r-- 1 grosed grosed 202835 Dec 16 10:39 \u001b[01;35mdesktop-os-statistics.png\u001b[0m\n",
      "-rw-rw-r-- 1 grosed grosed  29663 Dec 16 10:32 \u001b[01;35mdevice-shipment-2015.png\u001b[0m\n",
      "-rw-rw-r-- 1 grosed grosed  22991 Dec 16 13:10 introduction-to-unix.ipynb\n",
      "-rw-rw-r-- 1 grosed grosed 108310 Dec 16 11:40 \u001b[01;35mlinux-kernel-code.png\u001b[0m\n",
      "-rw-rw-r-- 1 grosed grosed 275954 Dec 16 13:06 \u001b[01;35mos-components2.png\u001b[0m\n",
      "-rw-rw-r-- 1 grosed grosed  85295 Dec 16 10:01 \u001b[01;35mos-components.png\u001b[0m\n",
      "-rw-rw-r-- 1 grosed grosed 263810 Dec 16 11:52 \u001b[01;35mterminal.jpg\u001b[0m\n",
      "-rw-rw-r-- 1 grosed grosed 249989 Dec 16 10:22 \u001b[01;35munix-history.png\u001b[0m\n"
     ]
    }
   ],
   "source": [
    "ls -l"
   ]
  },
  {
   "cell_type": "code",
   "execution_count": null,
   "id": "6b0fa02e-9159-4c89-8bc2-9d0380bf6359",
   "metadata": {},
   "outputs": [],
   "source": []
  },
  {
   "cell_type": "markdown",
   "id": "c40847ff-169b-4291-bf84-9051470cac10",
   "metadata": {},
   "source": [
    "https://zenodo.org/records/1432702"
   ]
  },
  {
   "cell_type": "markdown",
   "id": "65fe868e-14e1-47b2-ae08-85b532639c66",
   "metadata": {},
   "source": [
    "https://drive.google.com/file/d/13_zvOH2iPweF-Ywgxc7weX10x86NfCD4/view?usp=drive_link"
   ]
  },
  {
   "cell_type": "markdown",
   "id": "e2376046-d6b8-4c10-b4db-15a2d897e960",
   "metadata": {},
   "source": [
    "download a file from google drive using curl"
   ]
  },
  {
   "cell_type": "code",
   "execution_count": 2,
   "id": "694b096e-4b96-4b8e-bcbc-158ff7fa130f",
   "metadata": {},
   "outputs": [
    {
     "name": "stdout",
     "output_type": "stream",
     "text": [
      "  % Total    % Received % Xferd  Average Speed   Time    Time     Time  Current\n",
      "                                 Dload  Upload   Total   Spent    Left  Speed\n",
      "  0     0    0     0    0     0      0      0 --:--:-- --:--:-- --:--:--     0curl: (6) Could not resolve host: filename\n",
      "curl: (3) URL rejected: No host part in the URL\n",
      "curl: (3) URL rejected: Malformed input to a URL function\n"
     ]
    },
    {
     "ename": "",
     "evalue": "3",
     "output_type": "error",
     "traceback": []
    }
   ],
   "source": [
    "\n",
    "filename=\"### filename ###\"\n",
    "fileid=\"### file ID ###\"\n",
    "curl -L -o ${filename} \"https://drive.google.com/uc?export=download&id=${fileid}\""
   ]
  },
  {
   "cell_type": "code",
   "execution_count": null,
   "id": "a07dbb46-7125-484f-bbeb-4555705baf6c",
   "metadata": {},
   "outputs": [],
   "source": [
    "\n",
    "filename=\"blob.mat\"\n",
    "fileid=\"13_zvOH2iPweF-Ywgxc7weX10x86NfCD4\"\n",
    "curl -L -o ${filename} \"https://drive.google.com/uc?export=download&id=${fileid}\""
   ]
  },
  {
   "cell_type": "code",
   "execution_count": null,
   "id": "cc01cd1e-d7b9-462c-adec-575df1e8c9fe",
   "metadata": {},
   "outputs": [],
   "source": [
    "curl https://drive.google.com/file/d/13_zvOH2iPweF-Ywgxc7weX10x86NfCD4/view?usp=drive_link"
   ]
  },
  {
   "cell_type": "code",
   "execution_count": null,
   "id": "1512fcb5-9c43-4ecc-8cce-ad2e437e9d8e",
   "metadata": {},
   "outputs": [],
   "source": [
    "https://drive.google.com/file/d/13_zvOH2iPweF-Ywgxc7weX10x86NfCD4/view?usp=drive_link"
   ]
  },
  {
   "cell_type": "code",
   "execution_count": null,
   "id": "982feb0b-2c08-43b4-8ac3-5e681c5d281f",
   "metadata": {},
   "outputs": [],
   "source": [
    "envi"
   ]
  },
  {
   "cell_type": "markdown",
   "id": "89a422ac-52be-49fc-8b70-3943dd6c42fb",
   "metadata": {},
   "source": [
    "environmental data\n",
    "\n",
    "https://data.ceda.ac.uk/"
   ]
  },
  {
   "cell_type": "markdown",
   "id": "86f87087-b40c-41bf-ac7a-c61c1feeae58",
   "metadata": {},
   "source": [
    "nc format\n",
    "\n",
    "https://help.ceda.ac.uk/article/106-netcdf"
   ]
  },
  {
   "cell_type": "markdown",
   "id": "4b83383d-ec3f-4a35-a566-a334ab73a51f",
   "metadata": {},
   "source": [
    "install netcdf (for ncdump)\n",
    "\n",
    "sudo apt-get install netcdf-bin"
   ]
  },
  {
   "cell_type": "markdown",
   "id": "34d884b1-122b-4f48-adb2-b1b262d6cae7",
   "metadata": {},
   "source": [
    "example download\n",
    "\n",
    " wget https://data.ceda.ac.uk/bodc/BAS210037/JRA55IAF-ORCH0083-LIM3/1978/d01/I/ORCH0083-LIM3_19780101_I_d01.nc"
   ]
  },
  {
   "cell_type": "markdown",
   "id": "e3aab913-2d4c-4ccf-b5a2-6c3fd8aaf7d0",
   "metadata": {},
   "source": [
    "regular expression to match filenames in html\n",
    "\n",
    "cat blob | grep -Eo '\\w+\\.(nc)' | uniq"
   ]
  },
  {
   "cell_type": "code",
   "execution_count": null,
   "id": "d9bb0c86-3b16-41fd-8663-d8606d549966",
   "metadata": {},
   "outputs": [],
   "source": [
    "curl https://data.ceda.ac.uk/bodc/BAS210037/JRA55IAF-ORCH0083-LIM3/1978/d01/I | grep -Eo '\\w+\\.(nc)' | uniq"
   ]
  }
 ],
 "metadata": {
  "kernelspec": {
   "display_name": "Bash",
   "language": "bash",
   "name": "bash"
  },
  "language_info": {
   "codemirror_mode": "shell",
   "file_extension": ".sh",
   "mimetype": "text/x-sh",
   "name": "bash"
  }
 },
 "nbformat": 4,
 "nbformat_minor": 5
}
