{
 "cells": [
  {
   "cell_type": "markdown",
   "id": "a38fea2f-f438-4dd8-8dc2-c45e53f9dcba",
   "metadata": {},
   "source": [
    "\n"
   ]
  },
  {
   "cell_type": "markdown",
   "id": "046bb719-4a81-478a-9670-15a1b6a692d4",
   "metadata": {},
   "source": [
    "# Introduction to Unix"
   ]
  },
  {
   "cell_type": "markdown",
   "id": "70bb220c-0571-444d-838b-f9278fefe163",
   "metadata": {},
   "source": [
    "## Background"
   ]
  },
  {
   "cell_type": "markdown",
   "id": "42a7c417-52d7-4a74-ad86-124eee72ac71",
   "metadata": {},
   "source": [
    "### What is an Operating System"
   ]
  },
  {
   "cell_type": "markdown",
   "id": "2df3e189-95de-4d38-886a-0e529ce40dbf",
   "metadata": {},
   "source": [
    "<figure>\n",
    "<img src=\"./os-components2.png\" width=500\">\n",
    "<figcaption align = \"center\"> Main components of a Unix operating system.</figcaption>\n",
    "</figure>"
   ]
  },
  {
   "cell_type": "markdown",
   "id": "434eaaf5-c496-4574-9482-7b8f583fc601",
   "metadata": {},
   "source": [
    "### History and Distribution of Unix"
   ]
  },
  {
   "cell_type": "markdown",
   "id": "72efb987-3ba9-4d9a-a567-8923cf46e218",
   "metadata": {},
   "source": [
    "<figure>\n",
    "<img src=\"./unix-history.png\" width=600\">\n",
    "<figcaption align = \"center\"> History of the Unix operating system.</figcaption>\n",
    "</figure>"
   ]
  },
  {
   "cell_type": "markdown",
   "id": "15f016c6-9559-4c00-a84e-1b3c878ce3fe",
   "metadata": {},
   "source": [
    "<figure>\n",
    "<img src=\"./android-architecture.jpg\" width=500\">\n",
    "<figcaption align = \"center\"> Android and Unix</figcaption>\n",
    "</figure>"
   ]
  },
  {
   "cell_type": "markdown",
   "id": "234be493-a212-48d7-851a-8ee715f4ed00",
   "metadata": {},
   "source": [
    "<figure>\n",
    "<img src=\"./device-shipment-2015.png\" width=400\">\n",
    "<figcaption align = \"center\"> Worldwide device shipments by operating system, which includes smartphones, tablets, laptops and PCs together. </figcaption>\n",
    "</figure>"
   ]
  },
  {
   "cell_type": "markdown",
   "id": "3e2a4f8f-3af8-4bad-898e-ed091ba39b2b",
   "metadata": {},
   "source": [
    "<figure>\n",
    "<img src=\"./desktop-os-statistics.png\" width=400\">\n",
    "<figcaption align = \"center\"> Desktop OS platforms statistics in percentage share worldwide. </figcaption>\n",
    "</figure>"
   ]
  },
  {
   "cell_type": "markdown",
   "id": "88f27df3-b150-4aca-9833-0c1594aa210f",
   "metadata": {},
   "source": [
    "### Why Unix ?\n",
    "\n",
    "The Unix \"philosophy\" emphasizes building simple, compact, clear, modular, and extensible code that can be easily maintained and repurposed by developers other than its creators. The Unix philosophy favors composability as opposed to monolithic design. "
   ]
  },
  {
   "cell_type": "markdown",
   "id": "790dad48-c168-4fd7-9e54-94ccf7d4e403",
   "metadata": {},
   "source": [
    "- Write programs that do one thing and do it well.\n",
    "- Write programs to work together.\n",
    "- Write programs to handle text streams, because that is a universal interface.\n",
    "\n",
    "Peter Salus - in \"Basics of Unix Philosophy\" [1]"
   ]
  },
  {
   "cell_type": "markdown",
   "id": "acac7935-5f1f-4a02-8c22-faa0f5493894",
   "metadata": {},
   "source": [
    "Use of Unix is quite common within scientific research. Many believe this is because of the common need for high performance multi user systems and large data stores in this area. This is indeed important, but it is also due to the flexibility that is conferred by the nature of Unix based systems. \n",
    "\n",
    "However, the most important, though perhaps least understood reason, is that the Unix \"philosophy\" is consistent with the scientific method i.e. it intrinsically enables and supports Replication, Repeatability, Reusability, and Openess.    "
   ]
  },
  {
   "cell_type": "markdown",
   "id": "99b69963-9b0e-4fbe-a741-1578d7af7c7e",
   "metadata": {},
   "source": [
    "## Getting Started"
   ]
  },
  {
   "cell_type": "markdown",
   "id": "78c48517-129a-4dc2-97f1-6fcd948f0187",
   "metadata": {},
   "source": [
    "Lancaster University has a number of Unix systems. All of them are accessed via an internet connection from another system, such as your laptop or a computer on campus. Some of the Unix systems only provide a terminal, some of them provide GUI style applications, but only when accessed from another Unix system, and some provide a full virtual desltop for using both GUI based applicationas and/or a terminal. It is the latter type of systems that will be used in this course."
   ]
  },
  {
   "cell_type": "markdown",
   "id": "f948b12b-b7f3-43fe-bedf-0767671a31cf",
   "metadata": {},
   "source": [
    "### Accessing a Remote Unix Desktop "
   ]
  },
  {
   "cell_type": "markdown",
   "id": "e6692387-1e9b-4680-b0ab-43d0831525d2",
   "metadata": {},
   "source": [
    "From a browser follow this link to [Lancaster University MyLab](https://mylab.lancaster.ac.uk/). You will be prompted for a LU username, password, and one time passcode. You will then be presented with something like the following."
   ]
  },
  {
   "cell_type": "markdown",
   "id": "9072aa4c-1500-4003-8d42-1fc67963961f",
   "metadata": {},
   "source": [
    "<figure>\n",
    "<img src=\"./LU-mylab.png\" width=600\">\n",
    "<figcaption align = \"center\"> LU Mylab </figcaption>\n",
    "</figure>"
   ]
  },
  {
   "cell_type": "markdown",
   "id": "4befdebe-4741-44ef-b038-1e74351b6dca",
   "metadata": {},
   "source": [
    "Now double click on the **LU Ubuntu Lab** icon\n",
    "\n",
    "<figure>\n",
    "<img src=\"./ubuntu-lab.png\" width=200\">\n",
    "<figcaption align = \"center\"> Ubuntu Lab </figcaption>\n",
    "</figure>"
   ]
  },
  {
   "cell_type": "markdown",
   "id": "3746c1de-f185-4e81-a862-f3b9f7b0ee00",
   "metadata": {},
   "source": [
    "<figure>\n",
    "<img src=\"./ubuntu-lab-username.png\" width=300\">\n",
    "<figcaption align = \"center\"> Ubuntu Lab username entry</figcaption>\n",
    "</figure>"
   ]
  },
  {
   "cell_type": "markdown",
   "id": "04414350-7147-4da2-a25a-ef972f4d85f6",
   "metadata": {},
   "source": [
    "<figure>\n",
    "<img src=\"./ubuntu-lab-password.png\" width=300\">\n",
    "<figcaption align = \"center\"> Ubuntu Lab password entry</figcaption>\n",
    "</figure>"
   ]
  },
  {
   "cell_type": "markdown",
   "id": "fc45171a-1f23-46d7-9f35-125a4e6b4560",
   "metadata": {},
   "source": [
    "<figure>\n",
    "<img src=\"./ubuntu-lab-desktop.png\" width=600\">\n",
    "<figcaption align = \"center\"> Ubuntu Lab Desktop</figcaption>\n",
    "</figure>"
   ]
  },
  {
   "cell_type": "markdown",
   "id": "c72cffe5-7ea7-4b6c-acaa-5896152d626a",
   "metadata": {},
   "source": [
    "### Using the Desktop"
   ]
  },
  {
   "cell_type": "markdown",
   "id": "404ef55d-1722-4710-b13f-990b64590eaa",
   "metadata": {},
   "source": [
    "The Ubuntu desktop you are now using has a number of applications pre-installed. You can access many of them by using the \"waffle\" and selecting an app to start (or file to open etc)."
   ]
  },
  {
   "cell_type": "markdown",
   "id": "cc6bf985-8411-449c-8b25-16db54e36242",
   "metadata": {},
   "source": [
    "<figure>\n",
    "<img src=\"./waffle-application-launcher.png\" width=600\">\n",
    "<figcaption align = \"center\"> Ubuntu Lab Desktop</figcaption>\n",
    "</figure>"
   ]
  },
  {
   "cell_type": "markdown",
   "id": "6c5732e6-f767-4805-a324-cf5db1e95761",
   "metadata": {},
   "source": [
    "#### Exercises\n",
    "\n",
    "Try to find and start R-studio from the app launcher.\n",
    "\n",
    "Try and find and start a file manager from the desktop. Can you locate your LU h-drive ?\n",
    "\n",
    "Can you share files between your client system and Ubuntu lab ?\n",
    "\n",
    "Start a web browser and access these course notes.\n",
    "\n"
   ]
  },
  {
   "cell_type": "markdown",
   "id": "a58e6358-0f70-491b-806e-bff9b37aa7bb",
   "metadata": {},
   "source": [
    "## Using a Unix terminal"
   ]
  },
  {
   "cell_type": "markdown",
   "id": "4ae3b0f9-96d2-481f-b861-3691be844131",
   "metadata": {},
   "source": [
    "Start the app launcher (by clicking on the waffle) and type terminal in the search box."
   ]
  },
  {
   "cell_type": "markdown",
   "id": "d88be2cd-9556-41cc-9045-0a1ced0f1ebb",
   "metadata": {},
   "source": [
    "<figure>\n",
    "<img src=\"./ubuntu-lab-start-terminal.png\" width=600\">\n",
    "<figcaption align = \"center\"> Starting a Unix Terminal</figcaption>\n",
    "</figure>"
   ]
  },
  {
   "cell_type": "markdown",
   "id": "cb7ca5f0-dd5d-4dfb-9630-e10506966f46",
   "metadata": {},
   "source": [
    "Click on the "
   ]
  },
  {
   "cell_type": "markdown",
   "id": "1e20bb3c-c109-42b1-b7b5-1d9125166178",
   "metadata": {},
   "source": [
    "<figure>\n",
    "<img src=\"./terminal-icon.png\" width=200\">\n",
    "<figcaption align = \"center\"> Terminal Icon </figcaption>\n",
    "</figure>"
   ]
  },
  {
   "cell_type": "markdown",
   "id": "413a9908-6064-4143-9e2d-ead7a89c55b5",
   "metadata": {},
   "source": [
    "which should launch a Terminal in a new window."
   ]
  },
  {
   "cell_type": "markdown",
   "id": "715e4052-0fc8-4d1d-9500-777a92433fa9",
   "metadata": {},
   "source": [
    "<figure>\n",
    "<img src=\"./terminal.png\" width=400\">\n",
    "<figcaption align = \"center\"> Terminal Window </figcaption>\n",
    "</figure>"
   ]
  },
  {
   "cell_type": "markdown",
   "id": "1f771219-6fb8-4f34-a13d-78ac64a16a0e",
   "metadata": {},
   "source": [
    "### Exercise\n",
    "\n",
    "Type **whoami** in the terminal and press return. What do you see ?"
   ]
  },
  {
   "cell_type": "code",
   "execution_count": 1,
   "id": "8548f472-f85e-4087-8f4d-f90f6cb5edf5",
   "metadata": {},
   "outputs": [
    {
     "name": "stdout",
     "output_type": "stream",
     "text": [
      "grosed\n"
     ]
    }
   ],
   "source": [
    "whoami"
   ]
  },
  {
   "cell_type": "markdown",
   "id": "b13d84ee-0d80-4eef-9c71-330eda3dab44",
   "metadata": {},
   "source": [
    "Congratulations - you have now been infected by the Unix virus - there is no known cure !!"
   ]
  },
  {
   "cell_type": "markdown",
   "id": "48b42692-9e40-4dd8-9e28-4e4ee41deb64",
   "metadata": {},
   "source": [
    "## Some Basic Unix Commands"
   ]
  },
  {
   "cell_type": "markdown",
   "id": "dfb38307-e2a7-4c7c-a9cc-78c5a5337928",
   "metadata": {},
   "source": [
    "Here are some commonly used Unix commands"
   ]
  },
  {
   "cell_type": "markdown",
   "id": "51ea19bc-52cc-4aec-aaa8-4c39c52468b3",
   "metadata": {},
   "source": [
    "- **ls** - list files\n",
    "- **man** - get information about a unix command\n",
    "- **pwd** - display present working directory\n",
    "- **cp** - copy files\n",
    "- **mv** - move files\n",
    "- **rm** - remove files\n",
    "- **cd** - change directory\n",
    "- **mkdir** - make a directory\n",
    "- **rmdir** - remove a directory\n"
   ]
  },
  {
   "cell_type": "markdown",
   "id": "268cdc92-d137-4a64-8dc3-0f8fd38cd95e",
   "metadata": {},
   "source": [
    "For example, you can generate a list of files and directories by using the command **ls**.  "
   ]
  },
  {
   "cell_type": "code",
   "execution_count": 13,
   "id": "5cd06804-e8d6-4f5d-8495-03bc0f113c9b",
   "metadata": {},
   "outputs": [
    {
     "name": "stdout",
     "output_type": "stream",
     "text": [
      " \u001b[0m\u001b[01;34mDownloads\u001b[0m                                     \u001b[01;34mMusic\u001b[0m           \u001b[01;34mPictures\u001b[0m\n",
      " \u001b[01;32mfile.txt\u001b[0m                                     \u001b[01;34m'My Desktop'\u001b[0m     \u001b[01;34mVideos\u001b[0m\n",
      "\u001b[01;32m'grosedj1 (lancshomes13) (H) - Shortcut.lnk'\u001b[0m  \u001b[01;34m'My Documents'\u001b[0m   \u001b[01;34mWINDOWS\u001b[0m\n",
      " \u001b[01;32minstall-pyenv-win.ps1\u001b[0m                        \u001b[01;34m'My Favorites'\u001b[0m\n"
     ]
    }
   ],
   "source": [
    "ls"
   ]
  },
  {
   "cell_type": "markdown",
   "id": "6418399b-d393-4afb-9be5-d39ebbcbe8f5",
   "metadata": {},
   "source": [
    "Notice that the output of the command **ls** shown above is not on your system (it is on one of mine), so the output will be different."
   ]
  },
  {
   "cell_type": "markdown",
   "id": "e2fe4911-b8a4-4bb4-90b7-ed3ba943da79",
   "metadata": {},
   "source": [
    "Most unix commands can accept additional options which modify what the basic command does. For example"
   ]
  },
  {
   "cell_type": "code",
   "execution_count": 3,
   "id": "f8963402-191b-4e71-b05c-813ce7d0ef10",
   "metadata": {},
   "outputs": [
    {
     "name": "stdout",
     "output_type": "stream",
     "text": [
      "total 4700\n",
      "-rw-rw-r-- 1 grosed grosed 198676 Dec 16 10:22 \u001b[0m\u001b[01;35mandroid-architecture.jpg\u001b[0m\n",
      "-rw-rw-r-- 1 grosed grosed  72518 Dec 16 11:49 \u001b[01;35mcomputer-hardware.jpg\u001b[0m\n",
      "-rw-rw-r-- 1 grosed grosed 539589 Dec 16 11:53 \u001b[01;35mdesktop-applications.jpg\u001b[0m\n",
      "-rw-rw-r-- 1 grosed grosed 202835 Dec 16 10:39 \u001b[01;35mdesktop-os-statistics.png\u001b[0m\n",
      "-rw-rw-r-- 1 grosed grosed  29663 Dec 16 10:32 \u001b[01;35mdevice-shipment-2015.png\u001b[0m\n",
      "-rw-rw-r-- 1 grosed grosed   1255 Dec 20 13:19 \u001b[01;35mfile-1453.png\u001b[0m\n",
      "-rw-rw-r-- 1 grosed grosed 236442 Dec 20 13:51 \u001b[01;35mfile-stdin-cmd-stdout.png\u001b[0m\n",
      "-rw-rw-r-- 1 grosed grosed 237638 Dec 20 13:48 \u001b[01;35mfile-stdin-stdout-file.png\u001b[0m\n",
      "-rw-rw-r-- 1 grosed grosed  62234 Dec 20 11:24 introduction-to-unix.ipynb\n",
      "-rw-rw-r-- 1 grosed grosed 108310 Dec 16 11:40 \u001b[01;35mlinux-kernel-code.png\u001b[0m\n",
      "-rw-rw-r-- 1 grosed grosed  47038 Dec 17 13:02 \u001b[01;35mLU-mylab.png\u001b[0m\n",
      "-rw-rw-r-- 1 grosed grosed 275954 Dec 16 13:06 \u001b[01;35mos-components2.png\u001b[0m\n",
      "-rw-rw-r-- 1 grosed grosed  85295 Dec 16 10:01 \u001b[01;35mos-components.png\u001b[0m\n",
      "-rw-rw-r-- 1 grosed grosed  29259 Dec 20 13:49 \u001b[01;35mstdin-cmd-file-cmd-stdout.png\u001b[0m\n",
      "-rw-rw-r-- 1 grosed grosed  11225 Dec 20 13:49 \u001b[01;35mstdin-cmd-pipe-cmd-stdout.png\u001b[0m\n",
      "-rw-rw-r-- 1 grosed grosed 235988 Dec 20 13:47 \u001b[01;35mstdin-stdout-file.png\u001b[0m\n",
      "-rw-rw-r-- 1 grosed grosed 232104 Dec 20 13:46 \u001b[01;35mstdin-stdout.png\u001b[0m\n",
      "-rw-rw-r-- 1 grosed grosed  12139 Dec 17 15:03 \u001b[01;35mterminal-icon.png\u001b[0m\n",
      "-rw-rw-r-- 1 grosed grosed 263810 Dec 16 11:52 \u001b[01;35mterminal.jpg\u001b[0m\n",
      "-rw-rw-r-- 1 grosed grosed 189120 Dec 17 15:05 \u001b[01;35mterminal.png\u001b[0m\n",
      "-rw-rw-r-- 1 grosed grosed 715211 Dec 17 13:06 \u001b[01;35mubuntu-lab-desktop.png\u001b[0m\n",
      "-rw-rw-r-- 1 grosed grosed  22372 Dec 17 13:04 \u001b[01;35mubuntu-lab-password.png\u001b[0m\n",
      "-rw-rw-r-- 1 grosed grosed  13427 Dec 17 13:02 \u001b[01;35mubuntu-lab.png\u001b[0m\n",
      "-rw-rw-r-- 1 grosed grosed  70595 Dec 17 15:00 \u001b[01;35mubuntu-lab-start-terminal.png\u001b[0m\n",
      "-rw-rw-r-- 1 grosed grosed  22012 Dec 17 13:04 \u001b[01;35mubuntu-lab-username.png\u001b[0m\n",
      "-rw-rw-r-- 1 grosed grosed 249989 Dec 16 10:22 \u001b[01;35munix-history.png\u001b[0m\n",
      "-rw-rw-r-- 1 grosed grosed 586762 Dec 17 13:17 \u001b[01;35mwaffle-application-launcher.png\u001b[0m\n"
     ]
    }
   ],
   "source": [
    "ls -l"
   ]
  },
  {
   "cell_type": "markdown",
   "id": "71feab04-7e4e-4a36-b1ce-b1f94037fb72",
   "metadata": {},
   "source": [
    "Here, the **-l** options instructs **ls** to output information regarding the properties of the files being listed.\n",
    "\n",
    "Unix commands take the general form of\n",
    "\n",
    "**command [-options] \\<arguments\\>**\n",
    "\n"
   ]
  },
  {
   "cell_type": "markdown",
   "id": "0ce196b3-5561-4505-9c7e-23d2d3a9dbd6",
   "metadata": {},
   "source": [
    "### man"
   ]
  },
  {
   "cell_type": "markdown",
   "id": "000a44af-5291-4500-b618-5fc5e3a48d99",
   "metadata": {},
   "source": [
    "You can find infomation about a Unix command using the **man** command. For example"
   ]
  },
  {
   "cell_type": "code",
   "execution_count": 9,
   "id": "1d66ae8e-e08b-4de8-b29a-1df017fc8b87",
   "metadata": {},
   "outputs": [
    {
     "name": "stdout",
     "output_type": "stream",
     "text": [
      "LS(1)                            User Commands                           LS(1)\n",
      "\n",
      "NAME\n",
      "       ls - list directory contents\n",
      "\n",
      "SYNOPSIS\n",
      "       ls [OPTION]... [FILE]...\n",
      "\n",
      "DESCRIPTION\n",
      "       List  information  about  the FILEs (the current directory by default).\n",
      "       Sort entries alphabetically if none of -cftuvSUX nor --sort  is  speci‐\n",
      "       fied.\n",
      "\n",
      "       Mandatory  arguments  to  long  options are mandatory for short options\n",
      "       too.\n",
      "\n",
      "       -a, --all\n",
      "              do not ignore entries starting with .\n",
      "\n",
      "       -A, --almost-all\n",
      "              do not list implied . and ..\n",
      "\n",
      "       --author\n",
      "              with -l, print the author of each file\n",
      "\n",
      "       -b, --escape\n",
      "              print C-style escapes for nongraphic characters\n",
      "\n",
      "       --block-size=SIZE\n",
      "              with  -l,  scale  sizes  by  SIZE  when  printing  them;   e.g.,\n",
      "              '--block-size=M'; see SIZE format below\n",
      "\n",
      "       -B, --ignore-backups\n",
      "              do not list implied entries ending with ~\n",
      "\n",
      "       -c     with -lt: sort by, and show, ctime (time of last modification of\n",
      "              file status information); with -l: show ctime and sort by  name;\n",
      "              otherwise: sort by ctime, newest first\n",
      "\n",
      "       -C     list entries by columns\n",
      "\n",
      "       --color[=WHEN]\n",
      "              colorize  the output; WHEN can be 'always' (default if omitted),\n",
      "              'auto', or 'never'; more info below\n",
      "\n",
      "       -d, --directory\n",
      "              list directories themselves, not their contents\n",
      "\n",
      "       -D, --dired\n",
      "              generate output designed for Emacs' dired mode\n",
      "\n",
      "       -f     do not sort, enable -aU, disable -ls --color\n",
      "\n",
      "       -F, --classify\n",
      "              append indicator (one of */=>@|) to entries\n",
      "\n",
      "       --file-type\n",
      "              likewise, except do not append '*'\n",
      "\n",
      "       --format=WORD\n",
      "              across -x, commas -m, horizontal -x, long -l, single-column  -1,\n",
      "              verbose -l, vertical -C\n",
      "\n",
      "       --full-time\n",
      "              like -l --time-style=full-iso\n",
      "\n",
      "       -g     like -l, but do not list owner\n",
      "\n",
      "       --group-directories-first\n",
      "              group directories before files;\n",
      "\n",
      "              can   be  augmented  with  a  --sort  option,  but  any  use  of\n",
      "              --sort=none (-U) disables grouping\n",
      "\n",
      "       -G, --no-group\n",
      "              in a long listing, don't print group names\n",
      "\n",
      "       -h, --human-readable\n",
      "              with -l and -s, print sizes like 1K 234M 2G etc.\n",
      "\n",
      "       --si   likewise, but use powers of 1000 not 1024\n",
      "\n",
      "       -H, --dereference-command-line\n",
      "              follow symbolic links listed on the command line\n",
      "\n",
      "       --dereference-command-line-symlink-to-dir\n",
      "              follow each command line symbolic link\n",
      "\n",
      "              that points to a directory\n",
      "\n",
      "       --hide=PATTERN\n",
      "              do not list implied entries matching shell  PATTERN  (overridden\n",
      "              by -a or -A)\n",
      "\n",
      "       --hyperlink[=WHEN]\n",
      "              hyperlink file names; WHEN can be 'always' (default if omitted),\n",
      "              'auto', or 'never'\n",
      "\n",
      "       --indicator-style=WORD\n",
      "              append indicator with style WORD to entry names: none (default),\n",
      "              slash (-p), file-type (--file-type), classify (-F)\n",
      "\n",
      "       -i, --inode\n",
      "              print the index number of each file\n",
      "\n",
      "       -I, --ignore=PATTERN\n",
      "              do not list implied entries matching shell PATTERN\n",
      "\n",
      "       -k, --kibibytes\n",
      "              default  to  1024-byte  blocks for disk usage; used only with -s\n",
      "              and per directory totals\n",
      "\n",
      "       -l     use a long listing format\n",
      "\n",
      "       -L, --dereference\n",
      "              when showing file information for a symbolic link, show informa‐\n",
      "              tion  for  the file the link references rather than for the link\n",
      "              itself\n",
      "\n",
      "       -m     fill width with a comma separated list of entries\n",
      "\n",
      "       -n, --numeric-uid-gid\n",
      "              like -l, but list numeric user and group IDs\n",
      "\n",
      "       -N, --literal\n",
      "              print entry names without quoting\n",
      "\n",
      "       -o     like -l, but do not list group information\n",
      "\n",
      "       -p, --indicator-style=slash\n",
      "              append / indicator to directories\n",
      "\n",
      "       -q, --hide-control-chars\n",
      "              print ? instead of nongraphic characters\n",
      "\n",
      "       --show-control-chars\n",
      "              show nongraphic characters as-is (the default, unless program is\n",
      "              'ls' and output is a terminal)\n",
      "\n",
      "       -Q, --quote-name\n",
      "              enclose entry names in double quotes\n",
      "\n",
      "       --quoting-style=WORD\n",
      "              use  quoting style WORD for entry names: literal, locale, shell,\n",
      "              shell-always,  shell-escape,  shell-escape-always,   c,   escape\n",
      "              (overrides QUOTING_STYLE environment variable)\n",
      "\n",
      "       -r, --reverse\n",
      "              reverse order while sorting\n",
      "\n",
      "       -R, --recursive\n",
      "              list subdirectories recursively\n",
      "\n",
      "       -s, --size\n",
      "              print the allocated size of each file, in blocks\n",
      "\n",
      "       -S     sort by file size, largest first\n",
      "\n",
      "       --sort=WORD\n",
      "              sort  by  WORD instead of name: none (-U), size (-S), time (-t),\n",
      "              version (-v), extension (-X)\n",
      "\n",
      "       --time=WORD\n",
      "              change the default of  using  modification  times;  access  time\n",
      "              (-u): atime, access, use; change time (-c): ctime, status; birth\n",
      "              time: birth, creation;\n",
      "\n",
      "              with -l, WORD determines which time to show;  with  --sort=time,\n",
      "              sort by WORD (newest first)\n",
      "\n",
      "       --time-style=TIME_STYLE\n",
      "              time/date format with -l; see TIME_STYLE below\n",
      "\n",
      "       -t     sort by time, newest first; see --time\n",
      "\n",
      "       -T, --tabsize=COLS\n",
      "              assume tab stops at each COLS instead of 8\n",
      "\n",
      "       -u     with  -lt:  sort by, and show, access time; with -l: show access\n",
      "              time and sort by name; otherwise: sort by  access  time,  newest\n",
      "              first\n",
      "\n",
      "       -U     do not sort; list entries in directory order\n",
      "\n",
      "       -v     natural sort of (version) numbers within text\n",
      "\n",
      "       -w, --width=COLS\n",
      "              set output width to COLS.  0 means no limit\n",
      "\n",
      "       -x     list entries by lines instead of by columns\n",
      "\n",
      "       -X     sort alphabetically by entry extension\n",
      "\n",
      "       -Z, --context\n",
      "              print any security context of each file\n",
      "\n",
      "       -1     list one file per line.  Avoid '\\n' with -q or -b\n",
      "\n",
      "       --help display this help and exit\n",
      "\n",
      "       --version\n",
      "              output version information and exit\n",
      "\n",
      "       The  SIZE  argument  is  an  integer and optional unit (example: 10K is\n",
      "       10*1024).  Units are K,M,G,T,P,E,Z,Y  (powers  of  1024)  or  KB,MB,...\n",
      "       (powers  of 1000).  Binary prefixes can be used, too: KiB=K, MiB=M, and\n",
      "       so on.\n",
      "\n",
      "       The TIME_STYLE argument can be  full-iso,  long-iso,  iso,  locale,  or\n",
      "       +FORMAT.   FORMAT  is  interpreted  like in date(1).  If FORMAT is FOR‐\n",
      "       MAT1<newline>FORMAT2, then FORMAT1 applies to non-recent files and FOR‐\n",
      "       MAT2  to  recent files.  TIME_STYLE prefixed with 'posix-' takes effect\n",
      "       only outside the POSIX locale.  Also the TIME_STYLE  environment  vari‐\n",
      "       able sets the default style to use.\n",
      "\n",
      "       Using  color  to distinguish file types is disabled both by default and\n",
      "       with --color=never.  With --color=auto, ls emits color codes only  when\n",
      "       standard  output is connected to a terminal.  The LS_COLORS environment\n",
      "       variable can change the settings.  Use the dircolors command to set it.\n",
      "\n",
      "   Exit status:\n",
      "       0      if OK,\n",
      "\n",
      "       1      if minor problems (e.g., cannot access subdirectory),\n",
      "\n",
      "       2      if serious trouble (e.g., cannot access command-line argument).\n",
      "\n",
      "AUTHOR\n",
      "       Written by Richard M. Stallman and David MacKenzie.\n",
      "\n",
      "REPORTING BUGS\n",
      "       GNU coreutils online help: <https://www.gnu.org/software/coreutils/>\n",
      "       Report any translation bugs to <https://translationproject.org/team/>\n",
      "\n",
      "COPYRIGHT\n",
      "       Copyright © 2020 Free Software Foundation, Inc.   License  GPLv3+:  GNU\n",
      "       GPL version 3 or later <https://gnu.org/licenses/gpl.html>.\n",
      "       This  is  free  software:  you  are free to change and redistribute it.\n",
      "       There is NO WARRANTY, to the extent permitted by law.\n",
      "\n",
      "SEE ALSO\n",
      "       Full documentation <https://www.gnu.org/software/coreutils/ls>\n",
      "       or available locally via: info '(coreutils) ls invocation'\n",
      "\n",
      "GNU coreutils 8.32               February 2022                           LS(1)\n"
     ]
    }
   ],
   "source": [
    "man ls"
   ]
  },
  {
   "cell_type": "markdown",
   "id": "b54a5647-de6f-4f47-b369-fd6d87f670e2",
   "metadata": {},
   "source": [
    "#### Exercise\n",
    "\n",
    "- List all of the files as before, but print them in a single column \n",
    "\n",
    "- As above, but in date order\n",
    "\n",
    "- Now do both of the above together."
   ]
  },
  {
   "cell_type": "markdown",
   "id": "d9615805-3627-4b66-9deb-b4de8319c4e3",
   "metadata": {},
   "source": [
    "Like many operating systems, Unix organises files into a hierarchy. Files are organised into directories (sometimes refered to as folders by Windows users), and  directories can contain subdirectories. \n",
    "\n",
    "Each file and directory has a name and you can navigate the tree like directory/file structure using Unix shell commands."
   ]
  },
  {
   "cell_type": "markdown",
   "id": "d3d03e79-dff9-4048-9314-87201c025a29",
   "metadata": {},
   "source": [
    "### pwd - display present/current/working directory"
   ]
  },
  {
   "cell_type": "code",
   "execution_count": 10,
   "id": "3a517f9b-77f3-486b-a609-fd60b724f2b4",
   "metadata": {},
   "outputs": [
    {
     "name": "stdout",
     "output_type": "stream",
     "text": [
      "/home/grosedj1\n"
     ]
    }
   ],
   "source": [
    "pwd"
   ]
  },
  {
   "cell_type": "markdown",
   "id": "02012831-a9f0-4fbf-94cd-0d0042656f4d",
   "metadata": {},
   "source": [
    "### cd - change present/current/working directory"
   ]
  },
  {
   "cell_type": "markdown",
   "id": "e8a594f1-9622-4640-bdf6-b356e3f22135",
   "metadata": {},
   "source": [
    "Try running the command\n",
    "\n",
    "```bash\n",
    "cd h-drive\n",
    "```"
   ]
  },
  {
   "cell_type": "markdown",
   "id": "6153186b-3a98-47fe-b94b-d8c6da1b618b",
   "metadata": {},
   "source": [
    "### Exercise \n",
    "\n",
    "- What is the present working directory ?\n",
    "\n",
    "- What files are in your h-drive directory ?\n",
    "\n",
    "- What is the newest file in this directory ?\n",
    "\n",
    "- What is the largest file in this directory ?\n",
    "\n",
    "- Are there any directoies in your h-drive ?"
   ]
  },
  {
   "cell_type": "markdown",
   "id": "e96c933b-a77a-4b98-94bc-172790cc5a15",
   "metadata": {},
   "source": [
    "Your Unix account has a home directory. It has a nickname **~**.\n",
    "\n"
   ]
  },
  {
   "cell_type": "markdown",
   "id": "9bfcfa63-d8ab-4bd4-85b6-8f5728ff7320",
   "metadata": {},
   "source": [
    "### Exercise \n",
    "\n",
    "Change the current direcoty to your home directory. What is your home direcoty called ?"
   ]
  },
  {
   "cell_type": "markdown",
   "id": "2ef0ae00-eac2-4ee1-b1d9-8ffcf5a24abb",
   "metadata": {},
   "source": [
    "### cp - copy files"
   ]
  },
  {
   "cell_type": "code",
   "execution_count": null,
   "id": "77596dd1-45e8-4f1f-9dd4-953dce698637",
   "metadata": {},
   "outputs": [],
   "source": []
  },
  {
   "cell_type": "markdown",
   "id": "5cfcd10d-b82a-4115-be4b-433ed969f8dc",
   "metadata": {},
   "source": [
    "### mkdir - make a new directory"
   ]
  },
  {
   "cell_type": "markdown",
   "id": "c0054c83-4e69-4bda-a056-241ac3f3024f",
   "metadata": {},
   "source": [
    "To create a directory in your current working directory use the command\n",
    "\n",
    "```\n",
    "mkdir <directory-name>\n",
    "```\n",
    "\n"
   ]
  },
  {
   "cell_type": "markdown",
   "id": "31b3e2df-e30d-4d44-98b6-8b3e3d19f8ab",
   "metadata": {},
   "source": [
    "#### Exercise\n",
    "\n",
    "- cd to your home directory and make a new directory called **work**.\n",
    "\n",
    "- cd into this new directory.\n",
    "\n",
    "- Now create a new directory in your home directory called **play**- but without changing directories."
   ]
  },
  {
   "cell_type": "markdown",
   "id": "aa7bbf92-637c-431f-8aec-548f873495fb",
   "metadata": {},
   "source": [
    "### wget - get remote files "
   ]
  },
  {
   "cell_type": "markdown",
   "id": "bca5815b-9ca9-4140-835f-e48387718ae9",
   "metadata": {},
   "source": [
    "**wget** is a command that allows you to download a remote file by specifying its URL. Try the following command.\n",
    "\n",
    "```bash\n",
    "wget http://www.mathsbox.com/introduction-to-unix/files/examples.zip\n",
    "```"
   ]
  },
  {
   "cell_type": "markdown",
   "id": "b183859f-c1a9-423e-a93b-76b82b9f1596",
   "metadata": {},
   "source": [
    "### Exercise\n",
    "\n",
    "List the contents of your work directoy."
   ]
  },
  {
   "cell_type": "markdown",
   "id": "e938679c-3226-4885-800c-88479de56177",
   "metadata": {},
   "source": [
    "### unzip - decompress files that were compressed using the zip command "
   ]
  },
  {
   "cell_type": "markdown",
   "id": "1ce359be-2213-46db-be09-c02dc89548f7",
   "metadata": {},
   "source": [
    "The file you downloaded using **wget** is a compressed file. It can be decompressed using the **unzip** command. \n",
    "\n",
    "```bash\n",
    "unzip examples.zip\n",
    "```"
   ]
  },
  {
   "cell_type": "markdown",
   "id": "a65758ba-b328-471e-8e1a-b8a3ae596500",
   "metadata": {},
   "source": [
    "### Redirection"
   ]
  },
  {
   "cell_type": "markdown",
   "id": "0b58cd43-c444-492c-bf09-58630553f945",
   "metadata": {},
   "source": [
    "Set the current directory to your home directory and try this - \n",
    "\n",
    "``` bash\n",
    "ls -1 > files.txt\n",
    "```\n",
    "\n",
    "What does it do ? \n",
    "\n",
    "Hint - try using **ls** to find out."
   ]
  },
  {
   "cell_type": "markdown",
   "id": "cec8cdf9-443c-4f38-8d95-9c131a026e50",
   "metadata": {},
   "source": [
    "The **>** is called the redirection operator. Normally, the output of **ls** will go to the terminal. The **>** operator can be used to send it to other things, such as a file. "
   ]
  },
  {
   "cell_type": "markdown",
   "id": "904f4341-5d4e-4f04-9000-8d07450bdbd0",
   "metadata": {},
   "source": [
    "### head - display the first few lines"
   ]
  },
  {
   "cell_type": "markdown",
   "id": "b6fe9116-0d03-4279-9d9e-e5498b6cce9a",
   "metadata": {},
   "source": [
    "Try this -\n",
    "\n",
    "```bash\n",
    "head files.txt\n",
    "```\n",
    "\n"
   ]
  },
  {
   "cell_type": "markdown",
   "id": "c26a8cfd-2c8a-44cf-84f9-3232a0d16ddb",
   "metadata": {},
   "source": [
    "#### Exercise\n",
    "\n",
    "- What did you see ?\n",
    "\n",
    "- What does **head** command do ?\n",
    "\n",
    "- What options does the **head** command have ?\n",
    "\n",
    "- Try some of these options.\n",
    "\n",
    "- What does the command **tail** do ?"
   ]
  },
  {
   "cell_type": "markdown",
   "id": "520de0b4-f3fd-43c3-9970-1d93d5d5e7ce",
   "metadata": {},
   "source": [
    "### echo"
   ]
  },
  {
   "cell_type": "markdown",
   "id": "c8d1a15a-b970-459d-bd23-3f61a9fd3eb7",
   "metadata": {},
   "source": [
    "#### Example"
   ]
  },
  {
   "cell_type": "code",
   "execution_count": 6,
   "id": "cb23b77e-1085-464e-b883-42ee91134ad5",
   "metadata": {},
   "outputs": [
    {
     "name": "stdout",
     "output_type": "stream",
     "text": [
      "hello\n"
     ]
    }
   ],
   "source": [
    "echo \"hello\""
   ]
  },
  {
   "cell_type": "markdown",
   "id": "3b068949-0c69-4b00-8ace-5b6d42c2542d",
   "metadata": {},
   "source": [
    "#### Exercise\n",
    "\n",
    "- Make a new file called **messages.txt** with the sentence \"hello world\" in it."
   ]
  },
  {
   "cell_type": "markdown",
   "id": "d904a6e9-8903-41c0-9b57-404773d2921d",
   "metadata": {},
   "source": [
    "#### Solution"
   ]
  },
  {
   "cell_type": "code",
   "execution_count": 7,
   "id": "871fb311-c044-4b64-8260-5a35e7147d71",
   "metadata": {},
   "outputs": [],
   "source": [
    "echo \"hello world\" > messages.txt"
   ]
  },
  {
   "cell_type": "markdown",
   "id": "5f0e3465-d98c-45df-a472-c3c53bc94a60",
   "metadata": {},
   "source": [
    "### wc - count words, lines, and letters"
   ]
  },
  {
   "cell_type": "markdown",
   "id": "5025cf49-07a6-4a83-85c4-a7bf26193b2e",
   "metadata": {},
   "source": [
    "Try this\n",
    "\n",
    "```bash\n",
    "wc messages.txt\n",
    "```\n"
   ]
  },
  {
   "cell_type": "markdown",
   "id": "be0697ee-f807-49a5-8c7c-10677ad2f972",
   "metadata": {},
   "source": [
    "## Files and File related Commands"
   ]
  },
  {
   "cell_type": "markdown",
   "id": "2764b8f1-6758-4497-8c96-5c80cdeb9b38",
   "metadata": {},
   "source": [
    "Everything in Unix is a file !! \n",
    "\n",
    "Well - that is not quite true - but it is a pretty good approximation."
   ]
  },
  {
   "cell_type": "markdown",
   "id": "9032019c-a59b-403d-a006-e2bdfd02ea5d",
   "metadata": {},
   "source": [
    "When you ran the **ls** command (yes - run is an appropriate term - each unix command is a small program) you probably saw something like this."
   ]
  },
  {
   "cell_type": "code",
   "execution_count": null,
   "id": "650ede3a-7193-4e33-9806-58ed87a80451",
   "metadata": {},
   "outputs": [],
   "source": []
  },
  {
   "cell_type": "markdown",
   "id": "7be40467-2468-4704-b449-d1858a7a94bb",
   "metadata": {},
   "source": [
    "The items in the list which are blue (probably all of them) are directories (which are files, becuase this is Unix). As such, each directory can have files within it, and other directoies (known as subdirectories). "
   ]
  },
  {
   "cell_type": "code",
   "execution_count": null,
   "id": "497286fb-ae1d-4c62-b50b-095e624d37e6",
   "metadata": {},
   "outputs": [],
   "source": []
  },
  {
   "cell_type": "markdown",
   "id": "243519d8-da54-4b1a-b786-30e846f5e1a0",
   "metadata": {},
   "source": [
    "## The Terminal"
   ]
  },
  {
   "cell_type": "markdown",
   "id": "abfc3f30-da87-413c-8387-6bd4cb13da2a",
   "metadata": {},
   "source": [
    "In Unix everything is a file, however, there are different types of files. A device file corresponds to a physical element of the system such as a mouse, printer, or terminal. These files are usually located in the systems /dev/ directory (try listing its contents). A terminal usually has the format **tty**\\<number\\>.  \n",
    "\n"
   ]
  },
  {
   "cell_type": "markdown",
   "id": "8a46bebc-40b1-4193-90b6-71ad8fd4f29e",
   "metadata": {},
   "source": [
    "Not convinced - try this on your system (use the output of the first command in the ones that follow).\n",
    "\n"
   ]
  },
  {
   "cell_type": "code",
   "execution_count": 8,
   "id": "944a4a27-1c7d-4511-8dfe-63bb48eded58",
   "metadata": {},
   "outputs": [
    {
     "name": "stdout",
     "output_type": "stream",
     "text": [
      "/dev/pts/10\n"
     ]
    }
   ],
   "source": [
    "tty"
   ]
  },
  {
   "cell_type": "code",
   "execution_count": 9,
   "id": "182dd818-9a7b-45b0-84c0-834b193b7667",
   "metadata": {},
   "outputs": [
    {
     "name": "stdout",
     "output_type": "stream",
     "text": [
      "crw--w---- 1 grosed tty 136, 10 Dec 20 13:54 \u001b[0m\u001b[40;33;01m/dev/pts/10\u001b[0m\n"
     ]
    }
   ],
   "source": [
    "ls -l /dev/pts/10"
   ]
  },
  {
   "cell_type": "markdown",
   "id": "809ef9a2-9f21-42ca-8233-7ce49ca6bac9",
   "metadata": {},
   "source": [
    "Now start a new terminal using Ctrl-shift-N and type\n",
    "\n",
    "```bash\n",
    "cat > /dev/pts/10\n",
    "```\n",
    "followed by some input. What happens ?\n",
    "\n"
   ]
  },
  {
   "cell_type": "markdown",
   "id": "f339a627-6a9a-4400-adcc-337a3e81eab2",
   "metadata": {},
   "source": [
    "<figure>\n",
    "<img src=\"./stdin-stdout.png\" width=400\">\n",
    "<figcaption align = \"center\"> Terminal Window </figcaption>\n",
    "</figure>"
   ]
  },
  {
   "cell_type": "markdown",
   "id": "37360324-b1ac-4462-b76c-3c89e4d203d1",
   "metadata": {},
   "source": [
    "<figure>\n",
    "<img src=\"./stdin-stdout-file.png\" width=400\">\n",
    "<figcaption align = \"center\"> Terminal Window </figcaption>\n",
    "</figure>"
   ]
  },
  {
   "cell_type": "markdown",
   "id": "a150f8a8-af91-45a7-842b-3537e66fd3b2",
   "metadata": {},
   "source": [
    "<figure>\n",
    "<img src=\"./file-stdin-stdout.png\" width=400\">\n",
    "<figcaption align = \"center\"> Terminal Window </figcaption>\n",
    "</figure>"
   ]
  },
  {
   "cell_type": "markdown",
   "id": "fd733cdb-d44d-4d63-9c15-8532f08b0c33",
   "metadata": {},
   "source": [
    "<figure>\n",
    "<img src=\"./file-stdin-stdout-file.png\" width=400\">\n",
    "<figcaption align = \"center\"> Terminal Window </figcaption>\n",
    "</figure>"
   ]
  },
  {
   "cell_type": "markdown",
   "id": "8ddfa7c7-3475-447e-ba76-95b6a8cf67f3",
   "metadata": {},
   "source": [
    "<figure>\n",
    "<img src=\"./stdin-cmd-file-cmd-stdout.png\" width=400\">\n",
    "<figcaption align = \"center\"> Terminal Window </figcaption>\n",
    "</figure>"
   ]
  },
  {
   "cell_type": "markdown",
   "id": "4de58b52-ff7a-4601-8d60-223d70681c35",
   "metadata": {},
   "source": [
    "<figure>\n",
    "<img src=\"./stdin-cmd-pipe-cmd-stdout.png\" width=400\">\n",
    "<figcaption align = \"center\"> Terminal Window </figcaption>\n",
    "</figure>"
   ]
  },
  {
   "cell_type": "code",
   "execution_count": 10,
   "id": "802936bb-dc10-4817-99b9-f05f4f0e939d",
   "metadata": {},
   "outputs": [],
   "source": [
    "#### cd - change directory"
   ]
  },
  {
   "cell_type": "code",
   "execution_count": null,
   "id": "5e3f03fa-cf31-4fb2-8224-aba3f1a122c5",
   "metadata": {},
   "outputs": [],
   "source": []
  },
  {
   "cell_type": "markdown",
   "id": "88f8ff01-3c5a-4579-a434-e2fa009da297",
   "metadata": {},
   "source": []
  },
  {
   "cell_type": "code",
   "execution_count": null,
   "id": "7da10180-0b68-4588-8f87-9ee2e35e2592",
   "metadata": {},
   "outputs": [],
   "source": []
  },
  {
   "cell_type": "markdown",
   "id": "f4f9f93c-0418-484f-bec6-e4343c150a55",
   "metadata": {},
   "source": [
    "Use this link to get an example of how to get file names/info from google\n",
    "\n",
    "https://developers.google.com/drive/api/quickstart/python\n"
   ]
  },
  {
   "cell_type": "code",
   "execution_count": null,
   "id": "63bd5715-a892-49de-b00b-2d553f5616cc",
   "metadata": {},
   "outputs": [],
   "source": []
  },
  {
   "cell_type": "code",
   "execution_count": null,
   "id": "5671016c-7ba7-45e4-818a-9a756cc69cf7",
   "metadata": {},
   "outputs": [],
   "source": []
  },
  {
   "cell_type": "code",
   "execution_count": 11,
   "id": "8b47c0ed-9b44-45aa-89c5-b35bb9537ee7",
   "metadata": {},
   "outputs": [
    {
     "name": "stdout",
     "output_type": "stream",
     "text": [
      "total 4684\n",
      "-rw-rw-r-- 1 grosed grosed 198676 Dec 16 10:22 \u001b[0m\u001b[01;35mandroid-architecture.jpg\u001b[0m\n",
      "-rw-rw-r-- 1 grosed grosed  72518 Dec 16 11:49 \u001b[01;35mcomputer-hardware.jpg\u001b[0m\n",
      "-rw-rw-r-- 1 grosed grosed 539589 Dec 16 11:53 \u001b[01;35mdesktop-applications.jpg\u001b[0m\n",
      "-rw-rw-r-- 1 grosed grosed 202835 Dec 16 10:39 \u001b[01;35mdesktop-os-statistics.png\u001b[0m\n",
      "-rw-rw-r-- 1 grosed grosed  29663 Dec 16 10:32 \u001b[01;35mdevice-shipment-2015.png\u001b[0m\n",
      "-rw-rw-r-- 1 grosed grosed   1255 Dec 20 13:19 \u001b[01;35mfile-1453.png\u001b[0m\n",
      "-rw-rw-r-- 1 grosed grosed 236442 Dec 20 13:51 \u001b[01;35mfile-stdin-cmd-stdout.png\u001b[0m\n",
      "-rw-rw-r-- 1 grosed grosed 237638 Dec 20 13:48 \u001b[01;35mfile-stdin-stdout-file.png\u001b[0m\n",
      "-rw-rw-r-- 1 grosed grosed  43234 Dec 20 13:54 introduction-to-unix.ipynb\n",
      "-rw-rw-r-- 1 grosed grosed 108310 Dec 16 11:40 \u001b[01;35mlinux-kernel-code.png\u001b[0m\n",
      "-rw-rw-r-- 1 grosed grosed  47038 Dec 17 13:02 \u001b[01;35mLU-mylab.png\u001b[0m\n",
      "-rw-rw-r-- 1 grosed grosed     12 Dec 20 13:54 messages.txt\n",
      "-rw-rw-r-- 1 grosed grosed 275954 Dec 16 13:06 \u001b[01;35mos-components2.png\u001b[0m\n",
      "-rw-rw-r-- 1 grosed grosed  85295 Dec 16 10:01 \u001b[01;35mos-components.png\u001b[0m\n",
      "-rw-rw-r-- 1 grosed grosed  29259 Dec 20 13:49 \u001b[01;35mstdin-cmd-file-cmd-stdout.png\u001b[0m\n",
      "-rw-rw-r-- 1 grosed grosed  11225 Dec 20 13:49 \u001b[01;35mstdin-cmd-pipe-cmd-stdout.png\u001b[0m\n",
      "-rw-rw-r-- 1 grosed grosed 235988 Dec 20 13:47 \u001b[01;35mstdin-stdout-file.png\u001b[0m\n",
      "-rw-rw-r-- 1 grosed grosed 232104 Dec 20 13:46 \u001b[01;35mstdin-stdout.png\u001b[0m\n",
      "-rw-rw-r-- 1 grosed grosed  12139 Dec 17 15:03 \u001b[01;35mterminal-icon.png\u001b[0m\n",
      "-rw-rw-r-- 1 grosed grosed 263810 Dec 16 11:52 \u001b[01;35mterminal.jpg\u001b[0m\n",
      "-rw-rw-r-- 1 grosed grosed 189120 Dec 17 15:05 \u001b[01;35mterminal.png\u001b[0m\n",
      "-rw-rw-r-- 1 grosed grosed 715211 Dec 17 13:06 \u001b[01;35mubuntu-lab-desktop.png\u001b[0m\n",
      "-rw-rw-r-- 1 grosed grosed  22372 Dec 17 13:04 \u001b[01;35mubuntu-lab-password.png\u001b[0m\n",
      "-rw-rw-r-- 1 grosed grosed  13427 Dec 17 13:02 \u001b[01;35mubuntu-lab.png\u001b[0m\n",
      "-rw-rw-r-- 1 grosed grosed  70595 Dec 17 15:00 \u001b[01;35mubuntu-lab-start-terminal.png\u001b[0m\n",
      "-rw-rw-r-- 1 grosed grosed  22012 Dec 17 13:04 \u001b[01;35mubuntu-lab-username.png\u001b[0m\n",
      "-rw-rw-r-- 1 grosed grosed 249989 Dec 16 10:22 \u001b[01;35munix-history.png\u001b[0m\n",
      "-rw-rw-r-- 1 grosed grosed 586762 Dec 17 13:17 \u001b[01;35mwaffle-application-launcher.png\u001b[0m\n"
     ]
    }
   ],
   "source": [
    "ls -l"
   ]
  },
  {
   "cell_type": "code",
   "execution_count": null,
   "id": "6b0fa02e-9159-4c89-8bc2-9d0380bf6359",
   "metadata": {},
   "outputs": [],
   "source": []
  },
  {
   "cell_type": "markdown",
   "id": "c40847ff-169b-4291-bf84-9051470cac10",
   "metadata": {},
   "source": [
    "https://zenodo.org/records/1432702"
   ]
  },
  {
   "cell_type": "markdown",
   "id": "65fe868e-14e1-47b2-ae08-85b532639c66",
   "metadata": {},
   "source": [
    "https://drive.google.com/file/d/13_zvOH2iPweF-Ywgxc7weX10x86NfCD4/view?usp=drive_link"
   ]
  },
  {
   "cell_type": "markdown",
   "id": "e2376046-d6b8-4c10-b4db-15a2d897e960",
   "metadata": {},
   "source": [
    "download a file from google drive using curl"
   ]
  },
  {
   "cell_type": "code",
   "execution_count": 12,
   "id": "694b096e-4b96-4b8e-bcbc-158ff7fa130f",
   "metadata": {},
   "outputs": [
    {
     "name": "stdout",
     "output_type": "stream",
     "text": [
      "  % Total    % Received % Xferd  Average Speed   Time    Time     Time  Current\n",
      "                                 Dload  Upload   Total   Spent    Left  Speed\n",
      "  0     0    0     0    0     0      0      0 --:--:-- --:--:-- --:--:--     0curl: (6) Could not resolve host: filename\n",
      "curl: (3) URL rejected: No host part in the URL\n",
      "curl: (3) URL rejected: Malformed input to a URL function\n"
     ]
    },
    {
     "ename": "",
     "evalue": "3",
     "output_type": "error",
     "traceback": []
    }
   ],
   "source": [
    "\n",
    "filename=\"### filename ###\"\n",
    "fileid=\"### file ID ###\"\n",
    "curl -L -o ${filename} \"https://drive.google.com/uc?export=download&id=${fileid}\""
   ]
  },
  {
   "cell_type": "code",
   "execution_count": null,
   "id": "a07dbb46-7125-484f-bbeb-4555705baf6c",
   "metadata": {},
   "outputs": [],
   "source": [
    "\n",
    "filename=\"blob.mat\"\n",
    "fileid=\"13_zvOH2iPweF-Ywgxc7weX10x86NfCD4\"\n",
    "curl -L -o ${filename} \"https://drive.google.com/uc?export=download&id=${fileid}\""
   ]
  },
  {
   "cell_type": "code",
   "execution_count": null,
   "id": "cc01cd1e-d7b9-462c-adec-575df1e8c9fe",
   "metadata": {},
   "outputs": [],
   "source": [
    "curl https://drive.google.com/file/d/13_zvOH2iPweF-Ywgxc7weX10x86NfCD4/view?usp=drive_link"
   ]
  },
  {
   "cell_type": "code",
   "execution_count": null,
   "id": "1512fcb5-9c43-4ecc-8cce-ad2e437e9d8e",
   "metadata": {},
   "outputs": [],
   "source": [
    "https://drive.google.com/file/d/13_zvOH2iPweF-Ywgxc7weX10x86NfCD4/view?usp=drive_link"
   ]
  },
  {
   "cell_type": "code",
   "execution_count": null,
   "id": "055da68a-3ca8-4c1f-8fa9-b9b2f47300e1",
   "metadata": {},
   "outputs": [],
   "source": []
  },
  {
   "cell_type": "code",
   "execution_count": null,
   "id": "d6ef2491-777b-493e-8b89-68c64304751f",
   "metadata": {},
   "outputs": [],
   "source": [
    "cat | xargs Rscript -e"
   ]
  },
  {
   "cell_type": "code",
   "execution_count": null,
   "id": "cdc1c393-9e9c-47fe-9bd5-783a64bb6721",
   "metadata": {},
   "outputs": [],
   "source": []
  },
  {
   "cell_type": "code",
   "execution_count": null,
   "id": "982feb0b-2c08-43b4-8ac3-5e681c5d281f",
   "metadata": {},
   "outputs": [],
   "source": [
    "envi"
   ]
  },
  {
   "cell_type": "markdown",
   "id": "89a422ac-52be-49fc-8b70-3943dd6c42fb",
   "metadata": {},
   "source": [
    "environmental data\n",
    "\n",
    "https://data.ceda.ac.uk/"
   ]
  },
  {
   "cell_type": "markdown",
   "id": "86f87087-b40c-41bf-ac7a-c61c1feeae58",
   "metadata": {},
   "source": [
    "nc format\n",
    "\n",
    "https://help.ceda.ac.uk/article/106-netcdf"
   ]
  },
  {
   "cell_type": "markdown",
   "id": "4b83383d-ec3f-4a35-a566-a334ab73a51f",
   "metadata": {},
   "source": [
    "install netcdf (for ncdump)\n",
    "\n",
    "sudo apt-get install netcdf-bin"
   ]
  },
  {
   "cell_type": "markdown",
   "id": "34d884b1-122b-4f48-adb2-b1b262d6cae7",
   "metadata": {},
   "source": [
    "example download\n",
    "\n",
    " wget https://data.ceda.ac.uk/bodc/BAS210037/JRA55IAF-ORCH0083-LIM3/1978/d01/I/ORCH0083-LIM3_19780101_I_d01.nc"
   ]
  },
  {
   "cell_type": "markdown",
   "id": "e3aab913-2d4c-4ccf-b5a2-6c3fd8aaf7d0",
   "metadata": {},
   "source": [
    "regular expression to match filenames in html\n",
    "\n",
    "cat blob | grep -Eo '\\w+\\.(nc)' | uniq"
   ]
  },
  {
   "cell_type": "code",
   "execution_count": null,
   "id": "d9bb0c86-3b16-41fd-8663-d8606d549966",
   "metadata": {},
   "outputs": [],
   "source": [
    "curl https://data.ceda.ac.uk/bodc/BAS210037/JRA55IAF-ORCH0083-LIM3/1978/d01/I | grep -Eo '\\w+\\.(nc)' | uniq"
   ]
  },
  {
   "cell_type": "code",
   "execution_count": null,
   "id": "5ae3bcda-5ee8-4c41-a152-e8144cf781c6",
   "metadata": {},
   "outputs": [],
   "source": []
  },
  {
   "cell_type": "markdown",
   "id": "d701250e-2aad-4b31-aca9-a92eb585f875",
   "metadata": {},
   "source": [
    "## Regular Expressions"
   ]
  },
  {
   "cell_type": "markdown",
   "id": "0acf2890-a52c-4fdd-9679-c1d4a2a76c42",
   "metadata": {},
   "source": [
    "A regular expression defines a set of one or more strings of char-\n",
    "acters. Many Unix utilities, including\n",
    "grep, ls, and find, use regular expressions to search for and replace strings. \n",
    "A simple string of characters is a regular expression that defines one string of characters: itself. A more complex regular expression uses letters, numbers, and special characters to define many different strings of characters. A regular expression is said to match any string it defines.\n",
    "\n"
   ]
  },
  {
   "cell_type": "markdown",
   "id": "6695d806-47c7-4573-85b5-27b120f64db4",
   "metadata": {},
   "source": [
    "### Simple Strings"
   ]
  },
  {
   "cell_type": "markdown",
   "id": "ae554874-84ae-46b4-a335-8695d6ed077c",
   "metadata": {},
   "source": [
    "|Regular <br> Expression|Matches|Examples|\n",
    "|-|-|-|\n",
    "| ring | **ring** | **ring**,sp**ring**, <br> **ring**ing |\n",
    "| or not| **or not** |**or not**, <br> po**or not**hing  |\n",
    "|Thursday | **Thursday**| **Thursday**,**Thursday**'s  |"
   ]
  },
  {
   "cell_type": "markdown",
   "id": "b3fe7903-95ac-4890-84d9-d8ef1b550de6",
   "metadata": {},
   "source": [
    "#### Exercise\n",
    "\n",
    "Try describing what the following command does ? \n",
    "\n",
    "```bash\n",
    "cat | grep -o \"or not\"\n",
    "```\n",
    "\n",
    "Try using it to test some example input.\n",
    "\n",
    "Try using it to test the other regular expressions in the above preceding table."
   ]
  },
  {
   "cell_type": "markdown",
   "id": "552729e4-a14e-4c54-9633-15909c75f443",
   "metadata": {},
   "source": [
    "### Special Characters\n",
    "\n",
    "**Note** - in what follows, a regular expression always matches the longest possible string  starting as far forward in the line as possible"
   ]
  },
  {
   "cell_type": "markdown",
   "id": "9e63d338-5296-4792-81c0-c2460adf361f",
   "metadata": {},
   "source": [
    "#### Period\n",
    "\n",
    "|Regular <br> Expression|Matches|Examples|\n",
    "|-|-|-|\n",
    "| / .alk/ | stings containing a space, then any <br> character, followed by **awk** | will **talk** <br> may **balk** |\n",
    "| /.ing/ | all strings with any character preceding <br>n**ing**| **sing**ing, **ping**, <br> before **ing**lenook|\n",
    "\n"
   ]
  },
  {
   "cell_type": "markdown",
   "id": "f67f49ca-3735-4124-99b6-c9b9888935f5",
   "metadata": {},
   "source": [
    "#### Square Brackets\n",
    "\n",
    "|Regular Expression|Matches|Examples|\n",
    "|-|-|-|\n",
    "| [bB]ill | **b** or **B** follwed by **ill** | **bill**,**Bill**,**bill**ed|\n",
    "| t[aeiou].k | **t** followed by lower case <br> vowel, any character, and **k** | **talk**, **talk**ative |\n",
    "| number [6-9] |**number** followed by a space <br> and a single number in range <br> 6-9 (inclusive)| **number 7**, k**number 6**01|\n",
    "| [^a-zA-Z] | any character that is not a letter | **1**, pdf**2**tif |\n",
    "\n",
    "Notice the negating action of ^ when it is inside [].\n"
   ]
  },
  {
   "cell_type": "markdown",
   "id": "962a3c88-7e89-40d6-917b-167002bb47eb",
   "metadata": {},
   "source": [
    "#### Asterix\n",
    "\n",
    "|Regular Expression|Matches|Examples|\n",
    "|-|-|-|\n",
    "| ab*c| **a** folowed by zero or more <br> **b**s followed by **c** | **ac**, **abc**, <br> aa**abc**,**ac**|\n",
    "| ab.*c| **ab** followed by zero or more <br> other characters followed by **c**| **abc**,**abxc**, **c**at, <br> **756.345**, **x**|\n",
    "| t.*ing | **t** followed by zero or more <br> other characters <br> followed by **ing**| **thing**, **ting**, <br> I **was going**|\n",
    "| [a-zA-Z]*| a string composed of only letters <br> (upper or lower case)| **1!!, !any text string** |\n",
    "|(.*)  | as long a string as possible <br> between ()| Get **(this (and) that)** done| \n",
    "| ([^)]*)| the shortest sring possible <br> between ()| **(Get (this or)**|\n"
   ]
  },
  {
   "cell_type": "markdown",
   "id": "ea6e14f3-284f-458d-aa7f-8b40a4bdc2bd",
   "metadata": {},
   "source": [
    "#### Carat (^) and Dollar ($)\n",
    "\n",
    "|Regular Expression|Matches|Examples|\n",
    "|-|-|-|\n",
    "| ^T | a **T** at the beginning <br> of a line| **T**ime, In Time|\n",
    "| ^+[0-9]| a **+** followed by a number <br> at the beginning of a line | **+5**14, **+3**.14 |\n",
    "|:$ | a **:** that ends a line| ... following **:**|\n",
    "| | | |\n"
   ]
  },
  {
   "cell_type": "markdown",
   "id": "3565989a-e016-4cdb-95a9-5fe7314c6082",
   "metadata": {},
   "source": [
    "#### QuotingSpecial Characters\n",
    "\n",
    "|Regular Expression|Matches|Examples|\n",
    "|-|-|-|\n",
    "|end\\. | strings containing **end.**| **end.**,end|\n",
    "| \\\\$| a dollar sign | lot **$** of money|\n",
    "| \\[[0-9]\\] | a number in [] | **[9]**,[90]|\n",
    "| | | |\n"
   ]
  },
  {
   "cell_type": "markdown",
   "id": "d7ea0e41-429f-4d0e-896a-f92d0c708398",
   "metadata": {},
   "source": [
    "#### Full Regular Expressions"
   ]
  },
  {
   "cell_type": "markdown",
   "id": "89ea9779-65e1-45b8-b965-8427f73799db",
   "metadata": {},
   "source": [
    "To test these examples you will need to use \n",
    "\n",
    "```bash\n",
    "cat | egrep -o \"or not\"\n",
    "```"
   ]
  },
  {
   "cell_type": "markdown",
   "id": "5c1511f2-fa0f-44a3-8c00-8ce3a6d06e99",
   "metadata": {},
   "source": [
    "\n",
    "|Regular Expression|Matches|Examples|\n",
    "|-|-|-|\n",
    "|ab+c| **a** followed by one or <br> more **b**s followed by <br> a **c**| y**abc**w, **abbc**57 |\n",
    "| ab?c|**a** followed by zero or one **b** <br> followed by a **c** | b**ac**k,**abc**def|\n",
    "| (ab)+c| one or more **ab** followed <br> by a **c**  | z**abc**d, **abababc** |\n",
    "| (ab)?c| zero or one **ab** followed <br> by **c**| x**c**, **abc**c |\n",
    "| ab\\|ac | either **ab** or **ac** | **ab**,**ac**,**ab**ac|\n",
    "| (D\\|N)\\.Jones| **D.Jones** or **N.Jones**| **N.Jones**, P.**D.Jones**|\n"
   ]
  },
  {
   "cell_type": "code",
   "execution_count": null,
   "id": "8a722c41-5a18-4884-8a75-03db509faf5c",
   "metadata": {},
   "outputs": [],
   "source": []
  },
  {
   "cell_type": "markdown",
   "id": "365e5ff7-9a2d-4c8a-b77e-687d386ad4d5",
   "metadata": {},
   "source": [
    "### Summary"
   ]
  },
  {
   "cell_type": "markdown",
   "id": "bcb3e697-e8f6-462e-b18f-0e5ea7ac999d",
   "metadata": {},
   "source": [
    "#### Standrd Special Characters \n",
    "\n",
    "These work with **grep**"
   ]
  },
  {
   "cell_type": "markdown",
   "id": "4c939a66-0319-4a6a-9391-a510e1c2d9b1",
   "metadata": {},
   "source": [
    "|Special Character|Function|\n",
    "|-|-|\n",
    "| . | Matches any single character|\n",
    "| [xyz] | Defines a character class that matches **x**,**y**, or **z**|\n",
    "| ^xyz] | Defines a character class that matches any character except**x**,**y**, or **z**|\n",
    "| [x-z]| Defines a character class that matches any character **x** through **z** inclusive|\n",
    "| * |Matches zero or more of the preceding character |\n",
    "| ^ | Forces a match to the beginning of the line|\n",
    "| $ | A match to the end of the line|\n",
    "| \\|| Used to quote special characters|\n",
    "| \\(xyz\\) | Matches **xyz** |\n",
    "| \\< |Forces match at beginning of word |\n",
    "| \\> | Forces match at end of word|\n",
    "\n",
    "\n",
    "\n",
    "\n",
    "\n",
    "\n",
    "\n",
    "\n",
    "\n",
    "\n",
    "\n"
   ]
  },
  {
   "cell_type": "markdown",
   "id": "00851c00-c764-42f9-8868-6fc1457a686e",
   "metadata": {},
   "source": [
    "#### Full Special Characters \n",
    "\n",
    "These work with **egrep**"
   ]
  },
  {
   "cell_type": "markdown",
   "id": "82322c67-024c-4148-b9be-73af5f66296b",
   "metadata": {},
   "source": [
    "|Special Character|Function|\n",
    "|-|-|\n",
    "| + | Matches one or more occurences of the preceding character|\n",
    "| ? | Matches zero or more occurence of the preceding character|\n",
    "| (xyz)+] | One or more occurences of **xyz**|\n",
    "| (xyz)+|Zero or one occurence of **xyz** |\n",
    "| (xyz)? |Zero or more occurences of **xyz**|\n",
    "| (xyz)* |Either **xyz** or **abc** |\n",
    "| xyz\\|abc |Either **xyc** or **abc** |\n",
    "\n",
    "\n",
    "\n",
    "\n",
    "\n",
    "\n",
    "\n"
   ]
  },
  {
   "cell_type": "code",
   "execution_count": null,
   "id": "0572ae81-71a6-43f4-aca8-c883b319c2a1",
   "metadata": {},
   "outputs": [],
   "source": []
  },
  {
   "cell_type": "code",
   "execution_count": null,
   "id": "f59f774c-2eb6-4505-bf25-9254ea8f847a",
   "metadata": {},
   "outputs": [],
   "source": []
  },
  {
   "cell_type": "code",
   "execution_count": null,
   "id": "a36425e1-cf1e-4240-ad83-6db7ee24a6a1",
   "metadata": {},
   "outputs": [],
   "source": []
  },
  {
   "cell_type": "markdown",
   "id": "3dd642fc-9191-4ff2-91e7-df9f1acf58ae",
   "metadata": {},
   "source": [
    "## References\n",
    "\n",
    "\n",
    "[1]  Raymond, Eric S. (2004).\"Basics of the Unix Philosophy\". The Art of Unix Programming. Addison-Wesley Professional (published 2003-09-23). ISBN 0-13-142901-9. Retrieved 2016-11-01.\n",
    "\n",
    "Available via Lancaster University Library [here](https://learning.oreilly.com/library/view/the-art-of/0131429019/?sso_link=yes&sso_link_from=lancaster-university)\n"
   ]
  }
 ],
 "metadata": {
  "kernelspec": {
   "display_name": "Bash",
   "language": "bash",
   "name": "bash"
  },
  "language_info": {
   "codemirror_mode": "shell",
   "file_extension": ".sh",
   "mimetype": "text/x-sh",
   "name": "bash"
  }
 },
 "nbformat": 4,
 "nbformat_minor": 5
}
