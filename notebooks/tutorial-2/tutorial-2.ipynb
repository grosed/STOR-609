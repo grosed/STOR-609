{
 "cells": [
  {
   "cell_type": "markdown",
   "id": "9eef77c5-0027-4356-868c-9b7d3b78c2f9",
   "metadata": {},
   "source": [
    "# <ins>Tutorial 2 - The 5Rs in action</ins>"
   ]
  },
  {
   "cell_type": "markdown",
   "id": "3223c282-cea6-423e-ba62-1d419a10e436",
   "metadata": {},
   "source": [
    "The object of this tutorial is to examine the code you created in tutorial one and assess how you would \"score\" your code with respect to the 5Rs. In addition to this, you will share your code with your peers so that they can\n",
    "\n",
    "1. **Re-run** your code and **Reproduce** your results\n",
    "2. **Re-use** your code in their own code\n",
    "\n",
    "Your code will then be assessed by your peers with respect to **Re-runbility**, **Re-usabilty**, and **Reproducability**."
   ]
  },
  {
   "cell_type": "markdown",
   "id": "08955521-e09d-43f3-8dca-55e6e72f4c88",
   "metadata": {},
   "source": [
    "You might find the following table useful. Copy and adapt it as you see fit. "
   ]
  },
  {
   "cell_type": "markdown",
   "id": "39e98f60-b703-41c5-b5e7-7b43db38214e",
   "metadata": {},
   "source": [
    "| | Replicability | Reproducibility | Repeatability | Re-usability | Re-runability |\n",
    "| :- | :- | :- | :- | :- | :- |\n",
    "| Strengths | It worked out of the box with <br/> no tweeking | Smashing super lovely | | | |\n",
    "| Weaknesses | | | | | |\n",
    "| Improvement <br> suggestion(s) | | | | | |"
   ]
  },
  {
   "cell_type": "markdown",
   "id": "3af76811-de62-4f37-aa8b-8989ebff0e17",
   "metadata": {},
   "source": [
    "## Task 1\n",
    "\n",
    "Take 5 minutes to assess your own code with respect to the **5Rs**. You should make two assessments. One which covers your strategies, and another which covers your competition code. "
   ]
  },
  {
   "cell_type": "markdown",
   "id": "ab4a3626-6bdc-4f18-9aaf-1adf5d6bd54d",
   "metadata": {},
   "source": [
    "## Task 2\n",
    "\n",
    "A folder has been created using your name on the [stor-609 Teams group](https://teams.microsoft.com/l/team/19%3ARTSC-gZbNEhl-JootphL2Wr3QXOoDe3cKa45KVEj1yE1%40thread.tacv2/conversations?groupId=2e51bde0-e946-4b6e-ab4d-4542f79ce59e&tenantId=9c9bcd11-977a-4e9c-a9a0-bc734090164a). Add your strategies to this folder.\n",
    "\n",
    "You will be grouped with one or more other students. Access their strategies from the [stor-609 Teams group](https://teams.microsoft.com/l/team/19%3ARTSC-gZbNEhl-JootphL2Wr3QXOoDe3cKa45KVEj1yE1%40thread.tacv2/conversations?groupId=2e51bde0-e946-4b6e-ab4d-4542f79ce59e&tenantId=9c9bcd11-977a-4e9c-a9a0-bc734090164a).\n",
    "\n",
    "Now try running their strategies in your competition code and consider the following questions -\n",
    "\n",
    "1. How easy was it to use their code in your competition ?\n",
    "2. What changes did you have to make to their code to get it to work.\n",
    "3. How will you check if you get the same results as they did ?\n",
    "4. What interface do their strategies provide ? i.e. what inputs are required and what is the output\n",
    "\n",
    "Now make an assessment of their strategy code with respect to the **5Rs**. Record your assessment and upload it to the students folder on the [stor-609 Teams group](https://teams.microsoft.com/l/team/19%3ARTSC-gZbNEhl-JootphL2Wr3QXOoDe3cKa45KVEj1yE1%40thread.tacv2/conversations?groupId=2e51bde0-e946-4b6e-ab4d-4542f79ce59e&tenantId=9c9bcd11-977a-4e9c-a9a0-bc734090164a). "
   ]
  },
  {
   "cell_type": "markdown",
   "id": "2c0715f4-afd9-4313-b355-3cddcab083ee",
   "metadata": {},
   "source": [
    "## Task 3\n",
    "\n",
    "For this task you have to upload your competition code to your folder on the [stor-609 Teams group](https://teams.microsoft.com/l/team/19%3ARTSC-gZbNEhl-JootphL2Wr3QXOoDe3cKa45KVEj1yE1%40thread.tacv2/conversations?groupId=2e51bde0-e946-4b6e-ab4d-4542f79ce59e&tenantId=9c9bcd11-977a-4e9c-a9a0-bc734090164a).\n",
    "\n",
    "Now download the competition code from the students you have been grouped with.\n",
    "\n",
    "You now need to \n",
    "\n",
    "1. Adapt their competition code to run your strategies.\n",
    "2. Run the competition code with both your strategies and theirs.\n",
    "3. Work out who has got the best strategy !!\n",
    "4. Adapt their competition code to run a competition using a ten sided dice, where the round score is lost when a 4 is rolled, and the target score is 300.\n",
    "\n",
    "Now make an assessment of their competition code with respect to the **5Rs**. Record your assessment and upload it to the students folder on the [stor-609 Teams group](https://teams.microsoft.com/l/team/19%3ARTSC-gZbNEhl-JootphL2Wr3QXOoDe3cKa45KVEj1yE1%40thread.tacv2/conversations?groupId=2e51bde0-e946-4b6e-ab4d-4542f79ce59e&tenantId=9c9bcd11-977a-4e9c-a9a0-bc734090164a). "
   ]
  },
  {
   "cell_type": "markdown",
   "id": "83116e2e-03dd-415c-ab91-106d844d8743",
   "metadata": {},
   "source": [
    "## Task 4\n",
    "\n",
    "You now need to adapt your own competition code to compare strategies for the following game.\n",
    "\n",
    "Same as pig except that a ten sided dice and a four sided dice are rolled. You score the sum of the values on the dice unless the values are the same in which case you loose your round score.\n",
    "\n",
    "Now consider the following questions -\n",
    "\n",
    "1. How much of your code did you have to change to make this possible ?\n",
    "2. Which parts of the code did these changes affect ?\n",
    "3. How could you refactor your code so that if I gave you a new game specification it would be easier to **Reuse** your competition code ?\n",
    "    "
   ]
  },
  {
   "cell_type": "markdown",
   "id": "67da2e01-5baf-4985-878e-6dca39da1387",
   "metadata": {},
   "source": [
    "## Optional extra task"
   ]
  },
  {
   "cell_type": "markdown",
   "id": "b1bb9e89-c775-4230-b15b-f36509ebc9c8",
   "metadata": {},
   "source": [
    "Navigate the the [Journal of Statistical Software website](https://www.jstatsoft.org/index). Do a search for articles with \"python\" in their title.\n",
    "\n",
    "Most of the articles in [Journal of Statistical Software](https://www.jstatsoft.org/index) provide replication code which can be used to **Replicate** the main results of the article i.e. figures, tables, and so on. Select one or more of these articles and see if you can **Re-run** the **Replication** code. Keep a record of any additional steps you had to take to get the **Replication** code to work that are not documented in the article or supporting materials. How old is the publication ?\n",
    "\n",
    "If you prefer, you do this exercise for R based articles or any other programming languages you are familiar with.\n",
    "\n",
    "If you try doing this for more than one article, pick an old one (more than 5 years) and a relatively new one.\n",
    "\n",
    "Good luck !!"
   ]
  },
  {
   "cell_type": "markdown",
   "id": "ac2fb9e6-aed3-4c6f-90d8-82d0f0e68dbd",
   "metadata": {},
   "source": [
    "## Resources"
   ]
  },
  {
   "cell_type": "markdown",
   "id": "a43b01e6-e7ea-4fc4-9f1c-a6f5d4728fbe",
   "metadata": {},
   "source": [
    "### Roadmap"
   ]
  },
  {
   "cell_type": "markdown",
   "id": "bd01f65f-26cc-47b6-9c8c-9fe7c96a85ea",
   "metadata": {},
   "source": [
    "|Quaity|Description|Methods|Documentation|\n",
    "|-|-|-|-|\n",
    "| **Reusable** | code can be easily adapted to variations in problem specification <br> and readily integrated into other code  | design patterns, packages / libraries | in code documentation / api documentation|\n",
    "| **Re-runnable** | someone else can run the code | packages / libraries / repositories <br> unit tests / forums / user groups <br> training / instruction| installation instructions and scripts, <br> technical manuals and documentation |\n",
    "| **Repeatable** | same results over time | unit tests / maintainance / version control | use cases |\n",
    "| **Reproducible** | same results for a given problem | unit tests  | case stdies / articles / reports |\n",
    "| **Replicable** | algorithm / solution can be recoded by someone else  | pseudo code  | articles / books / reports |"
   ]
  },
  {
   "cell_type": "markdown",
   "id": "fd8813b6-d13b-463a-8962-81f2f1c10c22",
   "metadata": {},
   "source": [
    "### Best Practice"
   ]
  },
  {
   "cell_type": "markdown",
   "id": "eb5fe54e-c456-4dfc-a80f-3ca9cab21a3e",
   "metadata": {},
   "source": [
    "<figure>\n",
    "<img src=\"./best-practices.png\" style=\"height:60%\">\n",
    "</figure>"
   ]
  },
  {
   "cell_type": "markdown",
   "id": "467dce41-add4-46a5-92c9-31e4fa41de4e",
   "metadata": {},
   "source": [
    "### Further Reading"
   ]
  },
  {
   "cell_type": "markdown",
   "id": "871cb39d-f3b9-40be-8fd6-4b7ff0f439f8",
   "metadata": {},
   "source": [
    "[The 5Rs](./fninf-11-00069.pdf)\n",
    "\n",
    "[Best Practices for Scientific Computing](./journal.pbio.1001745.pdf)\n",
    "\n",
    "[Developing Scientific Sortware](./mso2008040018.pdf)\n",
    "\n",
    "[Reproducible Research for Scientific Computing](./reproducible-research-for-scientific-computing-tools-and-strategies-for-changing-the-culture1.pdf)\n",
    "\n",
    "[Pandemic Simulation Verification](./d41586-020-01685-y.pdf)"
   ]
  }
 ],
 "metadata": {
  "kernelspec": {
   "display_name": "Python 3 (ipykernel)",
   "language": "python",
   "name": "python3"
  },
  "language_info": {
   "codemirror_mode": {
    "name": "ipython",
    "version": 3
   },
   "file_extension": ".py",
   "mimetype": "text/x-python",
   "name": "python",
   "nbconvert_exporter": "python",
   "pygments_lexer": "ipython3",
   "version": "3.12.3"
  }
 },
 "nbformat": 4,
 "nbformat_minor": 5
}
