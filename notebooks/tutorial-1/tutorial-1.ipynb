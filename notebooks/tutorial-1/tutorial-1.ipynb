{
 "cells": [
  {
   "cell_type": "markdown",
   "id": "5c239d42-f433-4138-b3eb-43623fd12f83",
   "metadata": {
    "editable": true,
    "raw_mimetype": "",
    "slideshow": {
     "slide_type": "slide"
    },
    "tags": []
   },
   "source": [
    "# <ins>STOR-609 Tutorial One</ins>"
   ]
  },
  {
   "cell_type": "markdown",
   "id": "ceeac9c1-682f-4983-bbad-47e428e76a3e",
   "metadata": {
    "editable": true,
    "slideshow": {
     "slide_type": "fragment"
    },
    "tags": []
   },
   "source": [
    "## Objectives\n",
    "\n"
   ]
  },
  {
   "cell_type": "markdown",
   "id": "b09852b3-3ae3-4500-bab2-86e962702514",
   "metadata": {
    "editable": true,
    "slideshow": {
     "slide_type": "fragment"
    },
    "tags": []
   },
   "source": [
    "- Implement some simple strategies for playing a basic \"jeopardy\" dice game."
   ]
  },
  {
   "cell_type": "markdown",
   "id": "f14a8c1e-fba6-4732-a6ff-cd0df70ae980",
   "metadata": {
    "editable": true,
    "slideshow": {
     "slide_type": "fragment"
    },
    "tags": []
   },
   "source": [
    "- Implement a competetion to compare the effectiveness of different strategies"
   ]
  },
  {
   "cell_type": "markdown",
   "id": "24bd38fc-44d5-42ae-b030-e681755dbb7b",
   "metadata": {
    "editable": true,
    "slideshow": {
     "slide_type": "fragment"
    },
    "tags": []
   },
   "source": [
    "## Outcomes"
   ]
  },
  {
   "cell_type": "markdown",
   "id": "9677532a-2fd6-4b66-91af-4d9f5ed7a151",
   "metadata": {
    "editable": true,
    "raw_mimetype": "",
    "slideshow": {
     "slide_type": "fragment"
    },
    "tags": []
   },
   "source": [
    "- Improved python programming"
   ]
  },
  {
   "cell_type": "markdown",
   "id": "30d659b4-a3c1-4b8b-a379-93bd5d2c9479",
   "metadata": {
    "editable": true,
    "slideshow": {
     "slide_type": "fragment"
    },
    "tags": []
   },
   "source": [
    "- A collection of pig strategies "
   ]
  },
  {
   "cell_type": "markdown",
   "id": "80d45c73-b26a-4559-9c13-53d4d65cdd1b",
   "metadata": {
    "editable": true,
    "slideshow": {
     "slide_type": "fragment"
    },
    "tags": []
   },
   "source": [
    "- Experience of API design"
   ]
  },
  {
   "cell_type": "markdown",
   "id": "e7ebec7f-b29b-483e-932a-34a195d40770",
   "metadata": {
    "editable": true,
    "slideshow": {
     "slide_type": "slide"
    },
    "tags": []
   },
   "source": [
    "# <ins>What is the Game of \"Pig\" ?</ins>"
   ]
  },
  {
   "cell_type": "markdown",
   "id": "00fdf294-fa0e-476c-8252-d8f73a71eec6",
   "metadata": {
    "editable": true,
    "slideshow": {
     "slide_type": "fragment"
    },
    "tags": []
   },
   "source": [
    "Pig is a jeopardy dice game. The rules are very simple but the best strategies for play are not obvious. "
   ]
  },
  {
   "cell_type": "markdown",
   "id": "4dce519f-ac8b-428d-b10e-72d883f57892",
   "metadata": {
    "editable": true,
    "slideshow": {
     "slide_type": "subslide"
    },
    "tags": []
   },
   "source": [
    "The book \n",
    "\n",
    "<center>\n",
    "    <img src=\"./dice-games-properly-explained-book-cover.png\" width=\"400\" align=\"center\"></center> \n",
    "\n",
    "provides a nice explanation of Pig and other related games.\n"
   ]
  },
  {
   "cell_type": "markdown",
   "id": "5f7f740e-5b42-4d5b-b239-03c5104adb3b",
   "metadata": {
    "editable": true,
    "slideshow": {
     "slide_type": "subslide"
    },
    "tags": []
   },
   "source": [
    "# Online Resources"
   ]
  },
  {
   "cell_type": "markdown",
   "id": "2b23a905-fa59-4d40-9752-2cc98254ee34",
   "metadata": {
    "editable": true,
    "slideshow": {
     "slide_type": "fragment"
    },
    "tags": []
   },
   "source": [
    "- As usual, you can find useful information on [Google](https://en.wikipedia.org/wiki/Pig_(dice_game))\n"
   ]
  },
  {
   "cell_type": "markdown",
   "id": "a63db817-6918-4fcd-bdb4-72cb50cee929",
   "metadata": {
    "editable": true,
    "slideshow": {
     "slide_type": "fragment"
    },
    "tags": []
   },
   "source": [
    "- And here is [online version of pig](https://www.mathsweek.ie/2023/games/pig.html)"
   ]
  },
  {
   "cell_type": "markdown",
   "id": "32c786e6-7d3f-4b36-866b-e82e0bfc0d21",
   "metadata": {
    "editable": true,
    "slideshow": {
     "slide_type": "slide"
    },
    "tags": []
   },
   "source": [
    "# <ins>Thinking about Strategies</ins>"
   ]
  },
  {
   "cell_type": "markdown",
   "id": "278f90ac-caf3-4197-ac9f-48515ebd3d4d",
   "metadata": {
    "editable": true,
    "slideshow": {
     "slide_type": "fragment"
    },
    "tags": []
   },
   "source": [
    "Think of a strategy for standard Pig i.e. \n",
    "- 6 sided die \n",
    "- target score 100 \n",
    "- loose round score with roll of 1"
   ]
  },
  {
   "cell_type": "markdown",
   "id": "20188a9c-f94b-418e-8218-1442b1668890",
   "metadata": {
    "editable": true,
    "slideshow": {
     "slide_type": "fragment"
    },
    "tags": []
   },
   "source": [
    "How would you describe this strategy ?"
   ]
  },
  {
   "cell_type": "markdown",
   "id": "eeb5daff-4fcc-46dd-ae4a-7631cb6c2916",
   "metadata": {
    "editable": true,
    "slideshow": {
     "slide_type": "fragment"
    },
    "tags": []
   },
   "source": [
    "How would you ***represent*** your stragey using python ?"
   ]
  },
  {
   "cell_type": "markdown",
   "id": "572f82b8-4628-4817-80de-e15dc0235d1a",
   "metadata": {
    "editable": true,
    "slideshow": {
     "slide_type": "slide"
    },
    "tags": []
   },
   "source": [
    "# Programming Task 1"
   ]
  },
  {
   "cell_type": "markdown",
   "id": "638cb7d5-02d0-4690-828c-6814dc996e03",
   "metadata": {
    "editable": true,
    "slideshow": {
     "slide_type": "fragment"
    },
    "tags": []
   },
   "source": [
    "- Implement a strategy for pig using Python."
   ]
  },
  {
   "cell_type": "markdown",
   "id": "45dc065e-bb23-4ce3-a04d-48345f8a20ea",
   "metadata": {
    "editable": true,
    "slideshow": {
     "slide_type": "fragment"
    },
    "tags": []
   },
   "source": [
    "- Implement a competition between two (different) strategies using Python\n"
   ]
  },
  {
   "cell_type": "markdown",
   "id": "3167125c-96b3-48a2-a41a-5bc9465b040b",
   "metadata": {
    "editable": true,
    "slideshow": {
     "slide_type": "fragment"
    },
    "tags": []
   },
   "source": [
    "- You may find the following code useful"
   ]
  },
  {
   "cell_type": "code",
   "execution_count": 30,
   "id": "ea69d729-6bd6-40b9-a160-95ee689034fa",
   "metadata": {
    "editable": true,
    "slideshow": {
     "slide_type": "fragment"
    },
    "tags": []
   },
   "outputs": [
    {
     "name": "stdout",
     "output_type": "stream",
     "text": [
      "4\n"
     ]
    }
   ],
   "source": [
    "import random\n",
    "random.seed(0)\n",
    "print(random.randint(1,6))"
   ]
  },
  {
   "cell_type": "markdown",
   "id": "deda0c2f-64af-42a7-8d7f-f20ecfa540e1",
   "metadata": {
    "editable": true,
    "slideshow": {
     "slide_type": "fragment"
    },
    "tags": []
   },
   "source": [
    "- Use your code to determine which is the better of the two strategies"
   ]
  }
 ],
 "metadata": {
  "kernelspec": {
   "display_name": "Python 3 (ipykernel)",
   "language": "python",
   "name": "python3"
  },
  "language_info": {
   "codemirror_mode": {
    "name": "ipython",
    "version": 3
   },
   "file_extension": ".py",
   "mimetype": "text/x-python",
   "name": "python",
   "nbconvert_exporter": "python",
   "pygments_lexer": "ipython3",
   "version": "3.12.3"
  }
 },
 "nbformat": 4,
 "nbformat_minor": 5
}
