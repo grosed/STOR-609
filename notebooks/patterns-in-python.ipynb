{
 "cells": [
  {
   "cell_type": "markdown",
   "id": "18d8ac71-aa16-4558-97dc-0e37c3795f51",
   "metadata": {},
   "source": [
    "# Patterns in Python"
   ]
  },
  {
   "cell_type": "markdown",
   "id": "590096b2-3183-4fb9-b345-3b8c19fe033f",
   "metadata": {},
   "source": [
    "## Basic object factory (class)"
   ]
  },
  {
   "cell_type": "code",
   "execution_count": 100,
   "id": "4b645912-244a-4222-8cfc-c59d3123da65",
   "metadata": {},
   "outputs": [],
   "source": [
    "def classA() :\n",
    "    data = 0 # inititial value\n",
    "    def set(val) :\n",
    "        nonlocal data\n",
    "        data = val\n",
    "    def get() :\n",
    "        nonlocal data\n",
    "        return data\n",
    "    return (set,get)"
   ]
  },
  {
   "cell_type": "markdown",
   "id": "1a804ff3-f8c8-4a8e-b362-952420e54392",
   "metadata": {},
   "source": [
    "In this setting, **set** and **get** are objects (functions with memory - shared in this case). The function **classA** is a class since it is a factory for the **set** and **get** objects. Note that the _data_ variable **data** is not visible outside of the function **classA**, it can only be modified / accessed by the objects **set** and **get**. This is called _encapsulation_."
   ]
  },
  {
   "cell_type": "code",
   "execution_count": 105,
   "id": "58451ec9-f227-4600-bec4-ed57768a23f3",
   "metadata": {},
   "outputs": [],
   "source": [
    "# create a object \n",
    "X = classA()"
   ]
  },
  {
   "cell_type": "code",
   "execution_count": 106,
   "id": "cdbe6e41-f6fc-49e0-bbbe-07e8cf95f8a2",
   "metadata": {},
   "outputs": [
    {
     "data": {
      "text/plain": [
       "0"
      ]
     },
     "execution_count": 106,
     "metadata": {},
     "output_type": "execute_result"
    }
   ],
   "source": [
    "# inspect the data using get\n",
    "X[1]()"
   ]
  },
  {
   "cell_type": "code",
   "execution_count": 107,
   "id": "93f06f7b-2e2f-49b9-a767-18f56125d6a7",
   "metadata": {},
   "outputs": [],
   "source": [
    "# update the data using set\n",
    "X[0](3.14)"
   ]
  },
  {
   "cell_type": "code",
   "execution_count": 108,
   "id": "058d769f-853e-489a-a686-bb5301e92673",
   "metadata": {},
   "outputs": [
    {
     "data": {
      "text/plain": [
       "3.14"
      ]
     },
     "execution_count": 108,
     "metadata": {},
     "output_type": "execute_result"
    }
   ],
   "source": [
    "# inspect the data using get\n",
    "X[1]()"
   ]
  },
  {
   "cell_type": "markdown",
   "id": "d7d1c1d5-9f6a-434a-99a2-274b97898604",
   "metadata": {},
   "source": [
    "## Basic object factory (class) with constructor and default argument"
   ]
  },
  {
   "cell_type": "code",
   "execution_count": 130,
   "id": "635e2c90-a49e-46a6-9584-f628ef3c7b76",
   "metadata": {},
   "outputs": [],
   "source": [
    "def classA(val = 0) :\n",
    "    data = val\n",
    "    def set(val) :\n",
    "        nonlocal data\n",
    "        data = val\n",
    "    def get() :\n",
    "        nonlocal data\n",
    "        return data\n",
    "    return (set,get)"
   ]
  },
  {
   "cell_type": "code",
   "execution_count": 131,
   "id": "c2b70ff4-6e79-4e70-99fd-0d387ef6d908",
   "metadata": {},
   "outputs": [],
   "source": [
    "# creae an object with a specified initial value\n",
    "X = classA(2.7)"
   ]
  },
  {
   "cell_type": "code",
   "execution_count": 112,
   "id": "ccaabfdc-5021-4171-91b2-86e54ecb668b",
   "metadata": {},
   "outputs": [
    {
     "data": {
      "text/plain": [
       "2.7"
      ]
     },
     "execution_count": 112,
     "metadata": {},
     "output_type": "execute_result"
    }
   ],
   "source": [
    "# inspect the data with get\n",
    "X[1]()"
   ]
  },
  {
   "cell_type": "code",
   "execution_count": 132,
   "id": "e17f058d-1b51-4f7c-b4ab-bf8e2ab2bcc2",
   "metadata": {},
   "outputs": [],
   "source": [
    "# update the data with set\n",
    "X[0](3.14)"
   ]
  },
  {
   "cell_type": "code",
   "execution_count": 133,
   "id": "a0435a11-29bd-44ff-a271-b2a9fbb0faa7",
   "metadata": {},
   "outputs": [
    {
     "data": {
      "text/plain": [
       "3.14"
      ]
     },
     "execution_count": 133,
     "metadata": {},
     "output_type": "execute_result"
    }
   ],
   "source": [
    "# inspect the data with get\n",
    "X[1]()"
   ]
  },
  {
   "cell_type": "code",
   "execution_count": 115,
   "id": "dfa35463-14e0-410d-bab2-aee530fee166",
   "metadata": {},
   "outputs": [],
   "source": [
    "## Basic object factory (class) with a constructor (with a default argument) and method names"
   ]
  },
  {
   "cell_type": "code",
   "execution_count": 134,
   "id": "5b93b29d-52c4-45e3-a22a-b9059f93ba01",
   "metadata": {},
   "outputs": [],
   "source": [
    "def classA(val = 0) :\n",
    "    data = val\n",
    "    def set(val) :\n",
    "        nonlocal data\n",
    "        data = val\n",
    "    def get() :\n",
    "        nonlocal data\n",
    "        return data\n",
    "    return {\"set\" : set,\"get\" : get}"
   ]
  },
  {
   "cell_type": "code",
   "execution_count": 135,
   "id": "f1ec44e7-d593-4fae-9ee0-0cea7ad5404b",
   "metadata": {},
   "outputs": [],
   "source": [
    "# creae an object with a specified initial value\n",
    "X = classA(2.7)"
   ]
  },
  {
   "cell_type": "code",
   "execution_count": 136,
   "id": "b111c4e2-0a1d-4220-a2ea-5e91a101e06d",
   "metadata": {},
   "outputs": [
    {
     "data": {
      "text/plain": [
       "2.7"
      ]
     },
     "execution_count": 136,
     "metadata": {},
     "output_type": "execute_result"
    }
   ],
   "source": [
    "# inspect the data with get\n",
    "X[\"get\"]()"
   ]
  },
  {
   "cell_type": "code",
   "execution_count": 137,
   "id": "fdbbaa16-f525-47fc-9320-d1b30cc0ec64",
   "metadata": {},
   "outputs": [],
   "source": [
    "# update the data with set\n",
    "X[\"set\"](3.14)"
   ]
  },
  {
   "cell_type": "code",
   "execution_count": 138,
   "id": "048f967a-d430-4083-ab6a-72bf64dcb042",
   "metadata": {},
   "outputs": [
    {
     "data": {
      "text/plain": [
       "3.14"
      ]
     },
     "execution_count": 138,
     "metadata": {},
     "output_type": "execute_result"
    }
   ],
   "source": [
    "# inspect the data with get\n",
    "X[\"get\"]()"
   ]
  },
  {
   "cell_type": "code",
   "execution_count": 123,
   "id": "f0c49dcc-9673-44a1-8dce-1fa83406d0c8",
   "metadata": {},
   "outputs": [],
   "source": [
    "## A python class"
   ]
  },
  {
   "cell_type": "code",
   "execution_count": 139,
   "id": "3b6e9e29-95aa-4045-927f-5fe1c9d152cf",
   "metadata": {},
   "outputs": [],
   "source": [
    "class classA :\n",
    "    def __init__(self,val = 0) :\n",
    "        self.data = val"
   ]
  },
  {
   "cell_type": "code",
   "execution_count": 140,
   "id": "4b29517e-eb28-494c-8392-020939e2e8e0",
   "metadata": {},
   "outputs": [],
   "source": [
    "X = classA(2.4)"
   ]
  },
  {
   "cell_type": "code",
   "execution_count": 141,
   "id": "a9b34655-35d9-4aae-800e-5bd7180390c2",
   "metadata": {},
   "outputs": [
    {
     "data": {
      "text/plain": [
       "2.4"
      ]
     },
     "execution_count": 141,
     "metadata": {},
     "output_type": "execute_result"
    }
   ],
   "source": [
    "X.data"
   ]
  },
  {
   "cell_type": "code",
   "execution_count": 142,
   "id": "951cb531-51dc-4f5d-88e2-7735e65833b5",
   "metadata": {},
   "outputs": [],
   "source": [
    "X.data = 3.14"
   ]
  },
  {
   "cell_type": "code",
   "execution_count": 143,
   "id": "47dfe3dd-01be-44dd-8bac-a8046ea06bee",
   "metadata": {},
   "outputs": [
    {
     "data": {
      "text/plain": [
       "3.14"
      ]
     },
     "execution_count": 143,
     "metadata": {},
     "output_type": "execute_result"
    }
   ],
   "source": [
    "X.data"
   ]
  },
  {
   "cell_type": "code",
   "execution_count": null,
   "id": "f56bab65-85e7-426e-85c7-9b564ea6583b",
   "metadata": {},
   "outputs": [],
   "source": [
    "### Issues with the python model "
   ]
  },
  {
   "cell_type": "markdown",
   "id": "c0cbe419-7829-429c-888a-4a2f238f7d15",
   "metadata": {},
   "source": [
    "## Composition"
   ]
  },
  {
   "cell_type": "code",
   "execution_count": 45,
   "id": "93f2d6ae-2add-4dd8-b624-dd1acc78d359",
   "metadata": {},
   "outputs": [],
   "source": [
    "def compose(f,g) :\n",
    "    return lambda x : f(g(x))"
   ]
  },
  {
   "cell_type": "code",
   "execution_count": 48,
   "id": "4f7626ab-f23e-43e7-9eda-1082c5c8d2e5",
   "metadata": {},
   "outputs": [],
   "source": [
    "def f(x) : return x*x\n",
    "def g(x) : return 2*x + 1"
   ]
  },
  {
   "cell_type": "code",
   "execution_count": 49,
   "id": "87e1109d-acaf-4052-bdb2-6bbc80859a4a",
   "metadata": {},
   "outputs": [],
   "source": [
    "h = compose(f,g)"
   ]
  },
  {
   "cell_type": "code",
   "execution_count": 50,
   "id": "c4608a92-a1b0-416b-ae1d-393e2fe7b015",
   "metadata": {},
   "outputs": [
    {
     "data": {
      "text/plain": [
       "121"
      ]
     },
     "execution_count": 50,
     "metadata": {},
     "output_type": "execute_result"
    }
   ],
   "source": [
    "h(5)"
   ]
  },
  {
   "cell_type": "code",
   "execution_count": 51,
   "id": "c4801b1c-6c0d-4201-9e65-cce1178f57b4",
   "metadata": {},
   "outputs": [],
   "source": [
    "h = compose(g,f)"
   ]
  },
  {
   "cell_type": "code",
   "execution_count": 52,
   "id": "7463d709-f698-4c62-9cb5-d41a063a3f2d",
   "metadata": {},
   "outputs": [
    {
     "data": {
      "text/plain": [
       "51"
      ]
     },
     "execution_count": 52,
     "metadata": {},
     "output_type": "execute_result"
    }
   ],
   "source": [
    "h(5)"
   ]
  },
  {
   "cell_type": "markdown",
   "id": "a71cc277-d086-4d31-8a0f-f84ebf7eb9d7",
   "metadata": {},
   "source": [
    "## Partial application"
   ]
  },
  {
   "cell_type": "code",
   "execution_count": 144,
   "id": "efdc1457-d2cd-4072-a2e3-2ae8032f56fc",
   "metadata": {},
   "outputs": [],
   "source": [
    "from functools import partial"
   ]
  },
  {
   "cell_type": "code",
   "execution_count": 145,
   "id": "64a45422-cfb6-41a0-a36b-d59515f97243",
   "metadata": {},
   "outputs": [],
   "source": [
    "def f(a,b,c) :\n",
    "    return 2**a * 3**b * 5**c"
   ]
  },
  {
   "cell_type": "code",
   "execution_count": 148,
   "id": "4215b1ca-d37d-4396-9035-14d7908225eb",
   "metadata": {},
   "outputs": [
    {
     "data": {
      "text/plain": [
       "50"
      ]
     },
     "execution_count": 148,
     "metadata": {},
     "output_type": "execute_result"
    }
   ],
   "source": [
    "f(1,0,2)"
   ]
  },
  {
   "cell_type": "code",
   "execution_count": 153,
   "id": "b1c54957-774d-45c7-8145-86b50df00f6f",
   "metadata": {},
   "outputs": [],
   "source": [
    "g = partial(f,a=2,c=3)"
   ]
  },
  {
   "cell_type": "code",
   "execution_count": 155,
   "id": "5366c8e9-f26d-40ee-b2da-8a0f2ba77be5",
   "metadata": {},
   "outputs": [
    {
     "data": {
      "text/plain": [
       "4500"
      ]
     },
     "execution_count": 155,
     "metadata": {},
     "output_type": "execute_result"
    }
   ],
   "source": [
    "g(b=2)"
   ]
  },
  {
   "cell_type": "markdown",
   "id": "f2849a27-12ed-4ecb-bec1-a9c6111b5c09",
   "metadata": {},
   "source": [
    "Note that in general, the arguments have to be named in the call to the partial applied function "
   ]
  },
  {
   "cell_type": "code",
   "execution_count": 156,
   "id": "9ce89b7c-3a28-427f-b075-daf26a8a0ab7",
   "metadata": {},
   "outputs": [
    {
     "ename": "TypeError",
     "evalue": "f() got multiple values for argument 'a'",
     "output_type": "error",
     "traceback": [
      "\u001b[0;31m---------------------------------------------------------------------------\u001b[0m",
      "\u001b[0;31mTypeError\u001b[0m                                 Traceback (most recent call last)",
      "Cell \u001b[0;32mIn[156], line 1\u001b[0m\n\u001b[0;32m----> 1\u001b[0m \u001b[43mg\u001b[49m\u001b[43m(\u001b[49m\u001b[38;5;241;43m2\u001b[39;49m\u001b[43m)\u001b[49m\n",
      "\u001b[0;31mTypeError\u001b[0m: f() got multiple values for argument 'a'"
     ]
    }
   ],
   "source": [
    "g(2)"
   ]
  },
  {
   "cell_type": "markdown",
   "id": "a79bb125-4489-41c4-b9d9-3980cc42b53d",
   "metadata": {},
   "source": [
    "## Map, Reduce, Filter, Zip"
   ]
  },
  {
   "cell_type": "markdown",
   "id": "7fdd3472-f6d7-4807-9d3f-30dcd8a183a8",
   "metadata": {},
   "source": [
    "### Map"
   ]
  },
  {
   "cell_type": "code",
   "execution_count": 157,
   "id": "775f4027-4b08-414e-bdb9-1268785a5453",
   "metadata": {},
   "outputs": [],
   "source": [
    "X = [1,2,3,4]\n",
    "Y = [4,3,2,1]"
   ]
  },
  {
   "cell_type": "code",
   "execution_count": 161,
   "id": "56a9190b-eb33-480f-a45b-bcb70474c64b",
   "metadata": {},
   "outputs": [],
   "source": [
    "def f(a,b) :\n",
    "    return a * b"
   ]
  },
  {
   "cell_type": "code",
   "execution_count": 162,
   "id": "63e00f2e-fc53-4b6a-ab9b-f7f732e4bb4b",
   "metadata": {},
   "outputs": [
    {
     "data": {
      "text/plain": [
       "[4, 6, 6, 4]"
      ]
     },
     "execution_count": 162,
     "metadata": {},
     "output_type": "execute_result"
    }
   ],
   "source": [
    "list(map(f,X,Y))"
   ]
  },
  {
   "cell_type": "code",
   "execution_count": 167,
   "id": "a897ce56-e1e1-4610-91a3-f0d77d224d2e",
   "metadata": {},
   "outputs": [
    {
     "data": {
      "text/plain": [
       "[4, 6, 6, 4]"
      ]
     },
     "execution_count": 167,
     "metadata": {},
     "output_type": "execute_result"
    }
   ],
   "source": [
    "list(map(lambda a,b :  a * b,X,Y))"
   ]
  },
  {
   "cell_type": "markdown",
   "id": "743b6c83-2413-4950-9f9c-1013c4f85626",
   "metadata": {},
   "source": [
    "### Reduce"
   ]
  },
  {
   "cell_type": "code",
   "execution_count": 175,
   "id": "15843249-2440-4b36-b5d3-cb28ef0577ab",
   "metadata": {},
   "outputs": [],
   "source": [
    "from functools import reduce"
   ]
  },
  {
   "cell_type": "code",
   "execution_count": 178,
   "id": "c5ba14a6-6316-490d-b722-ff88a41c3894",
   "metadata": {},
   "outputs": [],
   "source": [
    "def g(a,b) :\n",
    "    return a * b"
   ]
  },
  {
   "cell_type": "code",
   "execution_count": 193,
   "id": "5c206dfd-9b76-45cb-b3a7-cef2e46c5806",
   "metadata": {},
   "outputs": [
    {
     "data": {
      "text/plain": [
       "24"
      ]
     },
     "execution_count": 193,
     "metadata": {},
     "output_type": "execute_result"
    }
   ],
   "source": [
    "reduce(g,X)"
   ]
  },
  {
   "cell_type": "code",
   "execution_count": 194,
   "id": "4e7acf9b-c9ae-4d72-8e65-68eef4ea18eb",
   "metadata": {},
   "outputs": [
    {
     "data": {
      "text/plain": [
       "24"
      ]
     },
     "execution_count": 194,
     "metadata": {},
     "output_type": "execute_result"
    }
   ],
   "source": [
    "reduce(g,X,1) # adding a first (usually identity) element"
   ]
  },
  {
   "cell_type": "markdown",
   "id": "0a1cb241-0791-4f9b-b26e-c655047a1f59",
   "metadata": {},
   "source": [
    "### Filter"
   ]
  },
  {
   "cell_type": "code",
   "execution_count": 186,
   "id": "48108358-df70-4912-a907-8ba72585514f",
   "metadata": {},
   "outputs": [],
   "source": [
    "def even(x) :\n",
    "    return True if x%2 == 0 else False "
   ]
  },
  {
   "cell_type": "code",
   "execution_count": 189,
   "id": "6e0efc70-c41b-40ad-8858-158a9e167f51",
   "metadata": {},
   "outputs": [
    {
     "data": {
      "text/plain": [
       "[2, 4]"
      ]
     },
     "execution_count": 189,
     "metadata": {},
     "output_type": "execute_result"
    }
   ],
   "source": [
    "list(filter(even,X))"
   ]
  },
  {
   "cell_type": "markdown",
   "id": "c146699e-5afc-4403-831e-e79ba9d0b996",
   "metadata": {},
   "source": [
    "### Zip"
   ]
  },
  {
   "cell_type": "code",
   "execution_count": 196,
   "id": "dfe3aa89-5ef3-46b7-b5ec-c7c37ceb54e1",
   "metadata": {},
   "outputs": [
    {
     "data": {
      "text/plain": [
       "[(1, 4), (2, 3), (3, 2), (4, 1)]"
      ]
     },
     "execution_count": 196,
     "metadata": {},
     "output_type": "execute_result"
    }
   ],
   "source": [
    "list(zip(X,Y))"
   ]
  },
  {
   "cell_type": "code",
   "execution_count": 190,
   "id": "80ea5259-4f95-4992-ac6f-aaa52234da61",
   "metadata": {},
   "outputs": [
    {
     "data": {
      "text/plain": [
       "15"
      ]
     },
     "execution_count": 190,
     "metadata": {},
     "output_type": "execute_result"
    }
   ],
   "source": []
  },
  {
   "cell_type": "code",
   "execution_count": null,
   "id": "e772f1c9-47af-4c48-9b79-67be7b48d878",
   "metadata": {},
   "outputs": [],
   "source": []
  },
  {
   "cell_type": "markdown",
   "id": "8c3e9b8c-83fe-41eb-a447-82a125026ca1",
   "metadata": {},
   "source": [
    "## Memoisation"
   ]
  },
  {
   "cell_type": "code",
   "execution_count": 199,
   "id": "7101d63b-70e4-46fa-925d-7156b1e5ab40",
   "metadata": {},
   "outputs": [],
   "source": [
    "from functools import cache"
   ]
  },
  {
   "cell_type": "code",
   "execution_count": 200,
   "id": "56040ee2-24ee-44c6-80bc-2edbdff4a490",
   "metadata": {},
   "outputs": [],
   "source": [
    "def f(x) :\n",
    "    print(\"squaring x !!\")\n",
    "    return x*x"
   ]
  },
  {
   "cell_type": "code",
   "execution_count": 202,
   "id": "3319025b-120c-4ddd-8532-ce60016c39a6",
   "metadata": {},
   "outputs": [
    {
     "name": "stdout",
     "output_type": "stream",
     "text": [
      "squaring x !!\n"
     ]
    },
    {
     "data": {
      "text/plain": [
       "9"
      ]
     },
     "execution_count": 202,
     "metadata": {},
     "output_type": "execute_result"
    }
   ],
   "source": [
    "f(3)"
   ]
  },
  {
   "cell_type": "code",
   "execution_count": 203,
   "id": "b6312100-ea55-461e-aaac-c4532c5ff39f",
   "metadata": {},
   "outputs": [
    {
     "name": "stdout",
     "output_type": "stream",
     "text": [
      "squaring x !!\n"
     ]
    },
    {
     "data": {
      "text/plain": [
       "9"
      ]
     },
     "execution_count": 203,
     "metadata": {},
     "output_type": "execute_result"
    }
   ],
   "source": [
    "f(3)"
   ]
  },
  {
   "cell_type": "code",
   "execution_count": 206,
   "id": "f432d2e1-e4d9-4dd3-b46d-56c7366cc3af",
   "metadata": {},
   "outputs": [],
   "source": [
    "@cache\n",
    "def mf(x) :\n",
    "    return f(x)"
   ]
  },
  {
   "cell_type": "code",
   "execution_count": 204,
   "id": "0ec3addf-5ebf-483c-a596-e329d4af5314",
   "metadata": {},
   "outputs": [
    {
     "name": "stdout",
     "output_type": "stream",
     "text": [
      "squaring x !!\n"
     ]
    },
    {
     "data": {
      "text/plain": [
       "9"
      ]
     },
     "execution_count": 204,
     "metadata": {},
     "output_type": "execute_result"
    }
   ],
   "source": [
    "mf(3)"
   ]
  },
  {
   "cell_type": "code",
   "execution_count": 205,
   "id": "959b95cb-76e8-4ca9-98d0-90be324dddda",
   "metadata": {},
   "outputs": [
    {
     "data": {
      "text/plain": [
       "9"
      ]
     },
     "execution_count": 205,
     "metadata": {},
     "output_type": "execute_result"
    }
   ],
   "source": [
    "mf(3)"
   ]
  },
  {
   "cell_type": "markdown",
   "id": "6c1701e1-02d0-4474-8651-fb0388307897",
   "metadata": {},
   "source": [
    "## Exercise idea\n",
    "\n",
    "Write a memoise function. (more explanation needed). Issues with single versus multiple arguments ?!\n",
    "\n",
    "Does memoising a function with no arguments make any sense ? Does your memoisation function work with such a function ?"
   ]
  },
  {
   "cell_type": "markdown",
   "id": "40b4d25d-752c-4c92-b2b3-04dc1dc0fe09",
   "metadata": {},
   "source": [
    "#### Possible solution"
   ]
  },
  {
   "cell_type": "code",
   "execution_count": 208,
   "id": "b9ce38c2-6167-4ba5-a563-7795807ec9e4",
   "metadata": {},
   "outputs": [],
   "source": [
    "def memoise(f) :\n",
    "    @cache\n",
    "    def mf(x) :\n",
    "        return f(x)\n",
    "    return mf"
   ]
  },
  {
   "cell_type": "code",
   "execution_count": 209,
   "id": "c46c699d-4a24-4566-b3d6-d198d278427e",
   "metadata": {},
   "outputs": [],
   "source": [
    "g = memoise(f)"
   ]
  },
  {
   "cell_type": "code",
   "execution_count": 210,
   "id": "2293e0da-e92a-4f9b-8675-121403f6d9a8",
   "metadata": {},
   "outputs": [
    {
     "name": "stdout",
     "output_type": "stream",
     "text": [
      "squaring x !!\n"
     ]
    },
    {
     "data": {
      "text/plain": [
       "9"
      ]
     },
     "execution_count": 210,
     "metadata": {},
     "output_type": "execute_result"
    }
   ],
   "source": [
    "g(3)"
   ]
  },
  {
   "cell_type": "code",
   "execution_count": 211,
   "id": "1c8db500-b8c5-4099-9e70-4181f1135fd6",
   "metadata": {},
   "outputs": [
    {
     "data": {
      "text/plain": [
       "9"
      ]
     },
     "execution_count": 211,
     "metadata": {},
     "output_type": "execute_result"
    }
   ],
   "source": [
    "g(3)"
   ]
  },
  {
   "cell_type": "markdown",
   "id": "34e32795-4d80-4df9-9160-a2fae3170a4b",
   "metadata": {},
   "source": [
    "#### With multiple arguments"
   ]
  },
  {
   "cell_type": "code",
   "execution_count": 245,
   "id": "49b811dd-08c3-4ecd-b24e-5407588cb213",
   "metadata": {},
   "outputs": [],
   "source": [
    "def h(a,b) :\n",
    "    print(\"adding a and b !\")\n",
    "    return a + b"
   ]
  },
  {
   "cell_type": "code",
   "execution_count": 246,
   "id": "bacad3b3-2926-4f1b-b0a3-e0fe06777ba7",
   "metadata": {},
   "outputs": [
    {
     "name": "stdout",
     "output_type": "stream",
     "text": [
      "adding a and b !\n"
     ]
    },
    {
     "data": {
      "text/plain": [
       "9"
      ]
     },
     "execution_count": 246,
     "metadata": {},
     "output_type": "execute_result"
    }
   ],
   "source": [
    "h(4,5)"
   ]
  },
  {
   "cell_type": "code",
   "execution_count": 247,
   "id": "4b1068e7-7c05-411c-90c1-adb017a80058",
   "metadata": {},
   "outputs": [],
   "source": [
    "def memoise(f) :\n",
    "    @cache\n",
    "    def mf(*args) :\n",
    "        return f(*args)\n",
    "    return mf"
   ]
  },
  {
   "cell_type": "code",
   "execution_count": 248,
   "id": "9f655e80-9e4c-4a98-8034-a51d1380ed44",
   "metadata": {},
   "outputs": [],
   "source": [
    "glob = memoise(h)"
   ]
  },
  {
   "cell_type": "code",
   "execution_count": 249,
   "id": "c54c6e4f-32f0-449c-8d12-86c95246f417",
   "metadata": {},
   "outputs": [
    {
     "name": "stdout",
     "output_type": "stream",
     "text": [
      "adding a and b !\n"
     ]
    },
    {
     "data": {
      "text/plain": [
       "3"
      ]
     },
     "execution_count": 249,
     "metadata": {},
     "output_type": "execute_result"
    }
   ],
   "source": [
    "glob(1,2)"
   ]
  },
  {
   "cell_type": "code",
   "execution_count": 250,
   "id": "083d33ed-eee6-4dc9-a72c-be649c2654bd",
   "metadata": {},
   "outputs": [
    {
     "data": {
      "text/plain": [
       "3"
      ]
     },
     "execution_count": 250,
     "metadata": {},
     "output_type": "execute_result"
    }
   ],
   "source": [
    "glob(1,2)"
   ]
  },
  {
   "cell_type": "code",
   "execution_count": 256,
   "id": "b49176c5-23ce-44b7-8773-1e7d22ef47db",
   "metadata": {},
   "outputs": [],
   "source": [
    "def glob() :\n",
    "    print(\"evaluating a constan\")\n",
    "    return 2"
   ]
  },
  {
   "cell_type": "code",
   "execution_count": 257,
   "id": "9d0e40c1-f9b3-4f49-a213-2e78e8d3349d",
   "metadata": {},
   "outputs": [],
   "source": [
    "mglob = memoise(glob)"
   ]
  },
  {
   "cell_type": "code",
   "execution_count": 258,
   "id": "3b961e38-94d5-4fd2-9735-c908896301ea",
   "metadata": {},
   "outputs": [
    {
     "name": "stdout",
     "output_type": "stream",
     "text": [
      "evaluating a constan\n"
     ]
    },
    {
     "data": {
      "text/plain": [
       "2"
      ]
     },
     "execution_count": 258,
     "metadata": {},
     "output_type": "execute_result"
    }
   ],
   "source": [
    "mglob()"
   ]
  },
  {
   "cell_type": "code",
   "execution_count": 259,
   "id": "e955c90a-eb3d-44ce-b917-27ceed8aefa2",
   "metadata": {},
   "outputs": [
    {
     "data": {
      "text/plain": [
       "2"
      ]
     },
     "execution_count": 259,
     "metadata": {},
     "output_type": "execute_result"
    }
   ],
   "source": [
    "mglob()"
   ]
  },
  {
   "cell_type": "code",
   "execution_count": null,
   "id": "0cbbcc47-4bdd-44eb-8bea-a176df737ce4",
   "metadata": {},
   "outputs": [],
   "source": []
  },
  {
   "cell_type": "code",
   "execution_count": null,
   "id": "876cb6d0-f7bc-4aaf-a461-fdfc9017bad1",
   "metadata": {},
   "outputs": [],
   "source": []
  },
  {
   "cell_type": "code",
   "execution_count": null,
   "id": "9c2ae3d0-6a3e-4024-bb13-2b734d7f2c0f",
   "metadata": {},
   "outputs": [],
   "source": []
  },
  {
   "cell_type": "code",
   "execution_count": null,
   "id": "6828af53-d2b3-4a65-b404-09654abc9bdd",
   "metadata": {},
   "outputs": [],
   "source": []
  },
  {
   "cell_type": "markdown",
   "id": "c57f54c9-adc8-4b51-a307-fe0015356cc8",
   "metadata": {},
   "source": [
    "# Notes\n",
    "\n",
    "- Link to [Scott Wlaschin](https://fsharpforfunandprofit.com/)\n",
    "- Link to [Sydney Version](https://www.youtube.com/watch?v=srQt1NAHYC0) of the functional patterns presentation by [Scott Wlaschin](https://fsharpforfunandprofit.com/)\n",
    "- Link to [London Version](https://www.youtube.com/watch?v=E8I19uA-wGY) of the functional patterns presentation by [Scott Wlaschin](https://fsharpforfunandprofit.com/)\n"
   ]
  }
 ],
 "metadata": {
  "kernelspec": {
   "display_name": "Python 3 (ipykernel)",
   "language": "python",
   "name": "python3"
  },
  "language_info": {
   "codemirror_mode": {
    "name": "ipython",
    "version": 3
   },
   "file_extension": ".py",
   "mimetype": "text/x-python",
   "name": "python",
   "nbconvert_exporter": "python",
   "pygments_lexer": "ipython3",
   "version": "3.11.0"
  }
 },
 "nbformat": 4,
 "nbformat_minor": 5
}
