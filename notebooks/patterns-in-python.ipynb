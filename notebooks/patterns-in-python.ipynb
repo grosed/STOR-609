{
 "cells": [
  {
   "cell_type": "markdown",
   "id": "18d8ac71-aa16-4558-97dc-0e37c3795f51",
   "metadata": {},
   "source": [
    "# Patterns in Python"
   ]
  },
  {
   "cell_type": "code",
   "execution_count": null,
   "id": "ddb1d4d2-c55f-4088-9ef2-dc427f5dae6f",
   "metadata": {},
   "outputs": [],
   "source": []
  },
  {
   "cell_type": "markdown",
   "id": "534896c0-febc-43ab-a749-552396598c2a",
   "metadata": {},
   "source": [
    "## Objects and classes"
   ]
  },
  {
   "cell_type": "code",
   "execution_count": 2,
   "id": "89a407ef-70c0-401d-9363-432a79d24a4c",
   "metadata": {},
   "outputs": [],
   "source": [
    "def counter_factory() :\n",
    "    count = 0\n",
    "    def counter() :\n",
    "        nonlocal count\n",
    "        count = count + 1\n",
    "        return count\n",
    "    return counter"
   ]
  },
  {
   "cell_type": "code",
   "execution_count": 3,
   "id": "d0dda8e3-9802-42fe-9469-a70908902bad",
   "metadata": {},
   "outputs": [],
   "source": [
    "f = counter_factory()"
   ]
  },
  {
   "cell_type": "code",
   "execution_count": 4,
   "id": "996eafc7-6f37-45bc-9fbe-40975914a6a3",
   "metadata": {},
   "outputs": [
    {
     "data": {
      "text/plain": [
       "1"
      ]
     },
     "execution_count": 4,
     "metadata": {},
     "output_type": "execute_result"
    }
   ],
   "source": [
    "f()"
   ]
  },
  {
   "cell_type": "code",
   "execution_count": 5,
   "id": "2022d649-2e57-40ac-8275-9c1bbd9945c0",
   "metadata": {},
   "outputs": [
    {
     "data": {
      "text/plain": [
       "2"
      ]
     },
     "execution_count": 5,
     "metadata": {},
     "output_type": "execute_result"
    }
   ],
   "source": [
    "f()"
   ]
  },
  {
   "cell_type": "code",
   "execution_count": 6,
   "id": "fb3a530c-6595-48a8-960f-f4ed77e62835",
   "metadata": {},
   "outputs": [],
   "source": [
    "g = counter_factory()"
   ]
  },
  {
   "cell_type": "code",
   "execution_count": 7,
   "id": "0714cd7a-e72c-4476-93a2-16019d18f44b",
   "metadata": {},
   "outputs": [
    {
     "data": {
      "text/plain": [
       "1"
      ]
     },
     "execution_count": 7,
     "metadata": {},
     "output_type": "execute_result"
    }
   ],
   "source": [
    "g()"
   ]
  },
  {
   "cell_type": "code",
   "execution_count": 8,
   "id": "90ea6e66-cba3-4faa-b31a-7e04998b852e",
   "metadata": {},
   "outputs": [
    {
     "data": {
      "text/plain": [
       "3"
      ]
     },
     "execution_count": 8,
     "metadata": {},
     "output_type": "execute_result"
    }
   ],
   "source": [
    "f()"
   ]
  },
  {
   "cell_type": "code",
   "execution_count": 40,
   "id": "3b6e9e29-95aa-4045-927f-5fe1c9d152cf",
   "metadata": {},
   "outputs": [],
   "source": [
    "class counter :\n",
    "    def __init__(self) :\n",
    "        self.count = 0\n",
    "    def __call__(self) :\n",
    "        self.count += 1\n",
    "        return self.count\n",
    "    def value(self) :\n",
    "        return self.count"
   ]
  },
  {
   "cell_type": "code",
   "execution_count": 41,
   "id": "4b29517e-eb28-494c-8392-020939e2e8e0",
   "metadata": {},
   "outputs": [],
   "source": [
    "g = counter()"
   ]
  },
  {
   "cell_type": "code",
   "execution_count": 42,
   "id": "a9b34655-35d9-4aae-800e-5bd7180390c2",
   "metadata": {},
   "outputs": [
    {
     "data": {
      "text/plain": [
       "1"
      ]
     },
     "execution_count": 42,
     "metadata": {},
     "output_type": "execute_result"
    }
   ],
   "source": [
    "g()"
   ]
  },
  {
   "cell_type": "code",
   "execution_count": 43,
   "id": "ef369cc6-3b5c-4be9-9acd-7715baf32edd",
   "metadata": {},
   "outputs": [
    {
     "data": {
      "text/plain": [
       "4"
      ]
     },
     "execution_count": 43,
     "metadata": {},
     "output_type": "execute_result"
    }
   ],
   "source": [
    "g()\n",
    "g()\n",
    "g()"
   ]
  },
  {
   "cell_type": "code",
   "execution_count": 44,
   "id": "4492d343-a1f3-4152-bdfd-ac9682b1f0c6",
   "metadata": {},
   "outputs": [
    {
     "data": {
      "text/plain": [
       "4"
      ]
     },
     "execution_count": 44,
     "metadata": {},
     "output_type": "execute_result"
    }
   ],
   "source": [
    "g.value()"
   ]
  },
  {
   "cell_type": "code",
   "execution_count": null,
   "id": "9601d05b-e0bb-49dd-b50d-efc74f6f2ce1",
   "metadata": {},
   "outputs": [],
   "source": []
  },
  {
   "cell_type": "markdown",
   "id": "c0cbe419-7829-429c-888a-4a2f238f7d15",
   "metadata": {},
   "source": [
    "## Composition"
   ]
  },
  {
   "cell_type": "code",
   "execution_count": 45,
   "id": "93f2d6ae-2add-4dd8-b624-dd1acc78d359",
   "metadata": {},
   "outputs": [],
   "source": [
    "def compose(f,g) :\n",
    "    return lambda x : f(g(x))"
   ]
  },
  {
   "cell_type": "code",
   "execution_count": 48,
   "id": "4f7626ab-f23e-43e7-9eda-1082c5c8d2e5",
   "metadata": {},
   "outputs": [],
   "source": [
    "def f(x) : return x*x\n",
    "def g(x) : return 2*x + 1"
   ]
  },
  {
   "cell_type": "code",
   "execution_count": 49,
   "id": "87e1109d-acaf-4052-bdb2-6bbc80859a4a",
   "metadata": {},
   "outputs": [],
   "source": [
    "h = compose(f,g)"
   ]
  },
  {
   "cell_type": "code",
   "execution_count": 50,
   "id": "c4608a92-a1b0-416b-ae1d-393e2fe7b015",
   "metadata": {},
   "outputs": [
    {
     "data": {
      "text/plain": [
       "121"
      ]
     },
     "execution_count": 50,
     "metadata": {},
     "output_type": "execute_result"
    }
   ],
   "source": [
    "h(5)"
   ]
  },
  {
   "cell_type": "code",
   "execution_count": 51,
   "id": "c4801b1c-6c0d-4201-9e65-cce1178f57b4",
   "metadata": {},
   "outputs": [],
   "source": [
    "h = compose(g,f)"
   ]
  },
  {
   "cell_type": "code",
   "execution_count": 52,
   "id": "7463d709-f698-4c62-9cb5-d41a063a3f2d",
   "metadata": {},
   "outputs": [
    {
     "data": {
      "text/plain": [
       "51"
      ]
     },
     "execution_count": 52,
     "metadata": {},
     "output_type": "execute_result"
    }
   ],
   "source": [
    "h(5)"
   ]
  },
  {
   "cell_type": "markdown",
   "id": "a71cc277-d086-4d31-8a0f-f84ebf7eb9d7",
   "metadata": {},
   "source": [
    "## Partial application"
   ]
  },
  {
   "cell_type": "code",
   "execution_count": null,
   "id": "efdc1457-d2cd-4072-a2e3-2ae8032f56fc",
   "metadata": {},
   "outputs": [],
   "source": []
  }
 ],
 "metadata": {
  "kernelspec": {
   "display_name": "Python 3 (ipykernel)",
   "language": "python",
   "name": "python3"
  },
  "language_info": {
   "codemirror_mode": {
    "name": "ipython",
    "version": 3
   },
   "file_extension": ".py",
   "mimetype": "text/x-python",
   "name": "python",
   "nbconvert_exporter": "python",
   "pygments_lexer": "ipython3",
   "version": "3.11.0"
  }
 },
 "nbformat": 4,
 "nbformat_minor": 5
}
