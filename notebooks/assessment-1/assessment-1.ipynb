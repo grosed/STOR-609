{
 "cells": [
  {
   "cell_type": "markdown",
   "id": "ca72fd25-7078-4747-a9a3-c92b6a7f2285",
   "metadata": {},
   "source": [
    "# STOR-609 Assessment 1\n",
    "\n",
    "## Programming for Reusability"
   ]
  },
  {
   "cell_type": "markdown",
   "id": "247e21e3-26fd-403e-ab00-d7f952fdf236",
   "metadata": {},
   "source": [
    "## Background"
   ]
  },
  {
   "cell_type": "markdown",
   "id": "698ff729-b85d-45f4-a80e-f6f60145b022",
   "metadata": {},
   "source": [
    "This assessment requires that you implement a [backtracking algorithm](https://en.wikipedia.org/wiki/Backtracking) to solve two problems. In both cases, the problem has been well studied, so you should be able to assess the correctness of your algorithm.\n",
    "\n",
    "The primary objective of the assessment is to produce a **reusable** implementation of the backtracking algorithm in the sense that the core code of the algorithm requires  minimal modifications when used for solving a range of problem types. However, for each problem, additional code can be provided to provide inputs to the core backtracking algorithm. \n",
    "\n",
    "Note that the backtracking algorithm may require a large amount of computational resource to solve the problems even for quite small values of the input parameters. \n",
    "\n",
    "The problems to be solved are :\n"
   ]
  },
  {
   "cell_type": "markdown",
   "id": "d42c604b-aa8a-42f0-859f-206af9e76ea9",
   "metadata": {},
   "source": [
    "## Problem 1"
   ]
  },
  {
   "cell_type": "markdown",
   "id": "66f5e806-1ff4-4238-adff-835cb6ff226a",
   "metadata": {},
   "source": [
    "For a given number number $n$, determine all of the [integer partitions](https://en.wikipedia.org/wiki/Integer_partition) of $n$.\n"
   ]
  },
  {
   "cell_type": "markdown",
   "id": "a5c0f926-cb97-4076-a3aa-4913f4e14241",
   "metadata": {},
   "source": [
    "## Problem 2"
   ]
  },
  {
   "cell_type": "markdown",
   "id": "af8cc23b-8c3f-45b7-9349-9e0adad32962",
   "metadata": {},
   "source": [
    "Generate a [Gray code](https://en.wikipedia.org/wiki/Gray_code) of length n.  \n",
    "\n",
    "Note - for this problem, do not consider values of n greater than 15."
   ]
  },
  {
   "cell_type": "markdown",
   "id": "920bbc8e-cf99-4b21-8912-6a1f75c0a707",
   "metadata": {},
   "source": [
    "## Assessment Criteria"
   ]
  },
  {
   "cell_type": "markdown",
   "id": "9932e7d0-ade7-48c2-a2e2-1b5cb1c5a920",
   "metadata": {},
   "source": [
    "To demonstrate that you have produced re-usable code that implements the backtracking algorithm you need to\n",
    "\n",
    "- provide your source code\n",
    "- instructions on how to use your code\n",
    "- use a solution to one of the **problems** to describe an example use case\n",
    "- describe the requirements of any problem specific code\n",
    "- provide a design rational for your implementation of backtracking i.e. what are your key **representations** and what data structures did you employ\n",
    "- highlight any patterns or other techniques you used to achieve **re-usability**\n",
    "\n",
    "For each of the problems you need to provide \n",
    "- a valid solution to the problem\n",
    "- any additional code required to solve the specific problem\n",
    "- provide the code you used to solve the problem along with details of how to **reproduce** your result(s)"
   ]
  },
  {
   "cell_type": "markdown",
   "id": "ffd673f9-7837-4058-b162-f2ba141f599a",
   "metadata": {},
   "source": [
    "## Submitting your work\n",
    "\n",
    "You should provide your code and solutions in a jupyter notebook. If necessary, You can provide additional files for data, results, and any additional  source code required for your notebook to run. \n",
    "\n",
    "You should send all of your files as a single file, e.g. a zip file or a compressed tar ball, by e-mail to both Daniel Grose and Jamie Fairbrother on or before the submission deadline."
   ]
  }
 ],
 "metadata": {
  "kernelspec": {
   "display_name": "Python 3 (ipykernel)",
   "language": "python",
   "name": "python3"
  },
  "language_info": {
   "codemirror_mode": {
    "name": "ipython",
    "version": 3
   },
   "file_extension": ".py",
   "mimetype": "text/x-python",
   "name": "python",
   "nbconvert_exporter": "python",
   "pygments_lexer": "ipython3",
   "version": "3.12.3"
  }
 },
 "nbformat": 4,
 "nbformat_minor": 5
}
