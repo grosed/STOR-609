{
 "cells": [
  {
   "cell_type": "markdown",
   "id": "ca72fd25-7078-4747-a9a3-c92b6a7f2285",
   "metadata": {},
   "source": [
    "# Assessment 1\n",
    "\n",
    "## Programming for Reusability"
   ]
  },
  {
   "cell_type": "markdown",
   "id": "247e21e3-26fd-403e-ab00-d7f952fdf236",
   "metadata": {},
   "source": [
    "## Background"
   ]
  },
  {
   "cell_type": "markdown",
   "id": "698ff729-b85d-45f4-a80e-f6f60145b022",
   "metadata": {},
   "source": [
    "The [backtracking algorithm](https://en.wikipedia.org/wiki/Backtracking) is an algorithm which builds solutions to problems in an incremental manner and backtracks to previous partial solutions, when the algorithm encounters an infeasible solution.\n",
    "The core algorithm is described in terms of a set of abstract operations and can thus to applied to a very wide range of problems.\n",
    "As such, the backtracking algorithm is useful for demonstrating the importance of **reusability** of code.\n",
    "\n",
    "This assessment requires that you implement a [backtracking algorithm](https://en.wikipedia.org/wiki/Backtracking) to solve two problems.\n",
    "In both cases, the problem has been well studied, so you should be able to assess the correctness of your algorithm.\n",
    "In particular, the primary objective of the assessment is to produce a **reusable** implementation of the backtracking algorithm in the sense that the core code of the algorithm requires no modifications when used for solving the different problem types. \n",
    "For each problem, one should only need to specify the abstract operations required to run the backtracking algorithm.\n",
    "\n",
    "Note that the backtracking algorithm may require a large amount of computational resource to solve the problems even for quite small values of the input parameters. \n",
    "\n",
    "The problems to be solved are:\n"
   ]
  },
  {
   "cell_type": "markdown",
   "id": "d42c604b-aa8a-42f0-859f-206af9e76ea9",
   "metadata": {},
   "source": [
    "### Problem 1"
   ]
  },
  {
   "cell_type": "markdown",
   "id": "66f5e806-1ff4-4238-adff-835cb6ff226a",
   "metadata": {},
   "source": [
    "For a given number number $n$, determine all of the [integer partitions](https://en.wikipedia.org/wiki/Integer_partition) of $n$.\n"
   ]
  },
  {
   "cell_type": "markdown",
   "id": "a5c0f926-cb97-4076-a3aa-4913f4e14241",
   "metadata": {},
   "source": [
    "### Problem 2"
   ]
  },
  {
   "cell_type": "markdown",
   "id": "af8cc23b-8c3f-45b7-9349-9e0adad32962",
   "metadata": {},
   "source": [
    "Generate a [Gray code](https://en.wikipedia.org/wiki/Gray_code) of length n.  \n",
    "\n",
    "Note - for this problem, do not consider values of n greater than 15."
   ]
  },
  {
   "cell_type": "markdown",
   "id": "d2d9f307",
   "metadata": {},
   "source": [
    "## Assessment\n",
    "\n",
    "The main assessment tasks are the following:\n",
    "\n",
    "1. Write a generic implementation of the backtracking algorithm\n",
    "2. Apply this implementation to solve the two problems above\n",
    "3. Provide an explanation, discussion and appraisal of your design approaches\n",
    "\n",
    "You should provide your work as a **Jupyter notebook** containing both source code and explanations.\n",
    "The structure of this notebook should be as follows:\n",
    "\n",
    "1. Generic backtracking algorithm\n",
    "    - Explanation of design approach\n",
    "    - Source code\n",
    "2. Integer Partition Problem\n",
    "    - Brief explanation of how problem can be solved with backtracking\n",
    "    - Explanation of design approach to coding backtracking operations\n",
    "    - Source code for backtracking operations\n",
    "    - Concrete example of using code to solve the problem\n",
    "3. Gray code\n",
    "    - Brief explanation of how problem can be solved with backtracking\n",
    "    - Explanation of design approach to coding backtracking operations\n",
    "    - Source code for backtracking operations\n",
    "    - Concrete example of using code to solve the problem\n",
    "4. Conclusions\n",
    "    - A brief appraisal of your implementation - in particular, a discussion of how reusable it is, and any limitations of it or improvements that could be made\n",
    "    \n",
    "You may use either **Python** or **R** for your implementations.\n",
    "It is expected that one should be able to run the whole Jupyter notebook without intervention.\n",
    "If your Jupyter notebook needs any special set-up to run (e.g. the installation of third-party packages), you should explain this at the beginning of your report.\n",
    "\n",
    "When we ask you to explain your design approach above, we mean the explanation of what data structures and design patterns you used, and any language-specific features you might have used to achieve your aims."
   ]
  },
  {
   "cell_type": "markdown",
   "id": "920bbc8e-cf99-4b21-8912-6a1f75c0a707",
   "metadata": {},
   "source": [
    "## Assessment Criteria"
   ]
  },
  {
   "cell_type": "markdown",
   "id": "9932e7d0-ade7-48c2-a2e2-1b5cb1c5a920",
   "metadata": {},
   "source": [
    "Your submission will be assessed according to the following criteria:\n",
    "\n",
    "- **Quality of source code**: readability of your code (documentation, commenting and style conventions), appropriate use design patterns and data structures, appropriate use of language features and idioms in implementation\n",
    "- **Solution**: the correctness of your solutions, and the robustness of your code (e.g. the code runs for different *small* problem instances without crashing)\n",
    "- **Understanding of design principles**: your explanations and appraisals demonstrate an understanding of design principles like design patterns and appropriate data structures\n",
    "- **Quality of written communication**: the clarity of your explanation and discussion"
   ]
  },
  {
   "cell_type": "markdown",
   "id": "ffd673f9-7837-4058-b162-f2ba141f599a",
   "metadata": {},
   "source": [
    "## Submitting your work\n",
    "\n",
    "You should provide your code and solutions in a Jupyter notebook. If necessary, you can provide additional files for data, results, and any additional source code required for your notebook to run. \n",
    "\n",
    "You should send all of your files as a single file, e.g. a zip file or a compressed tar ball, by e-mail to Kim Wilson by **12pm Monday 17th February**."
   ]
  }
 ],
 "metadata": {
  "kernelspec": {
   "display_name": "Python 3",
   "language": "python",
   "name": "python3"
  },
  "language_info": {
   "codemirror_mode": {
    "name": "ipython",
    "version": 3
   },
   "file_extension": ".py",
   "mimetype": "text/x-python",
   "name": "python",
   "nbconvert_exporter": "python",
   "pygments_lexer": "ipython3",
   "version": "3.8.10"
  }
 },
 "nbformat": 4,
 "nbformat_minor": 5
}
