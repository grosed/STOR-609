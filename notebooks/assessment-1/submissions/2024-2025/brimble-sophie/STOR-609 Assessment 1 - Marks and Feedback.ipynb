{
 "cells": [
  {
   "cell_type": "markdown",
   "id": "432087d2-ad61-4cb7-953e-06491367306e",
   "metadata": {},
   "source": [
    "**Name** :  Sophie Brimble"
   ]
  },
  {
   "cell_type": "markdown",
   "id": "90016c48-1c8a-4065-88a8-9da763870053",
   "metadata": {},
   "source": [
    "# Quality of Source Code"
   ]
  },
  {
   "cell_type": "markdown",
   "id": "06b23ef5-cffd-4579-8f86-657e89f86fbf",
   "metadata": {},
   "source": [
    "You have provided some very high quality code for this assessment. In particular -  \n",
    "\n",
    "- Your source code is well structured and organised. \n",
    "- You have made very good use of appropriate representations, data structures and programming idioms provided by base R and other publicly available packages.\n",
    "  \n",
    "Some possible areas for improvement are \n",
    "\n",
    "- It would be a good idea to add some comments to your code at key points (but don't over do this as good code mostly documents itself). For example, you could give a quick description of what each main data structure represents.\n",
    "- Make all of your exit points from functions explicit by specifying **return**\n",
    " \n"
   ]
  },
  {
   "cell_type": "markdown",
   "id": "c554f4a1-bf18-4d06-9612-f1fa37f4c734",
   "metadata": {},
   "source": [
    "#### Mark (out of 5) : 4.5"
   ]
  },
  {
   "cell_type": "markdown",
   "id": "f01ea80a-12a0-4d9f-98fc-bf43dfd8aa1e",
   "metadata": {},
   "source": [
    "# Solution"
   ]
  },
  {
   "cell_type": "markdown",
   "id": "2a7022ba-1c88-4d91-9f19-db0a8d4e44cb",
   "metadata": {},
   "source": [
    "- For both problems you have provided example code that produces a correct solution. \n",
    "- Your code is designed so that it was easy for me to change the problem and produce further correct solutions (i.e. your code is both **re-usable** and **re-runnable**)"
   ]
  },
  {
   "cell_type": "markdown",
   "id": "5fb7d277-6c90-410f-a9e3-bd3db9716c00",
   "metadata": {},
   "source": [
    "#### Mark (out of 5) : 5"
   ]
  },
  {
   "cell_type": "markdown",
   "id": "41422db7-4399-47fd-aa7e-7d5b2ffdefdf",
   "metadata": {},
   "source": [
    "# Understanding Design Principles"
   ]
  },
  {
   "cell_type": "markdown",
   "id": "226cbe00-60ad-479b-8fcc-9425f776999a",
   "metadata": {},
   "source": [
    "\n",
    "- You have provided an implementation for a generic backtracking algorithm which is immediately recognisable as such when compared with the [pseudo code provided](https://en.wikipedia.org/wiki/Backtracking).  \n",
    "- You have made good use of appropriate data structures and design patterns (e.g. partial application)\n",
    "- Your code is flexible, modular, and the major design components are independent and orthogonal. This supports well the quality of **re-usability**.\n",
    "- You have also considered the computational complexity of your code (i.e. how much extra \"computation\" is required as your problem size increases). \n",
    "\n",
    "\n",
    "**Notes**\n",
    "\n",
    "1. I noticed that in your generic backtrack algorithm you have\n",
    " \n",
    "```R\n",
    "if(length(output) != 0) {\n",
    "      return(output)\n",
    "    }\n",
    "```\n",
    "\n",
    "This precludes the possibility of certain edge cases that might. For example, what would happen if an empty vector was the result of the algorithm ?\n",
    "\n",
    "2. You discuss the use of global variables and correctly suggest that an improvement would be to eliminate the need for these. This is why the generic backtracking algorithm includes a state P. You could use this (perhaps in the form of a class pattern) to carry around the information you need to modify and keep track of.\n",
    "\n"
   ]
  },
  {
   "cell_type": "markdown",
   "id": "dd9ae9b6-b59b-4ed5-8cbf-5c302ecae0a7",
   "metadata": {},
   "source": [
    "#### Mark (out of 5) : 4.5"
   ]
  },
  {
   "cell_type": "markdown",
   "id": "5748cc1d-fdf1-4db3-8934-d5ec4f0437d4",
   "metadata": {},
   "source": [
    "# Quality of Written Communication"
   ]
  },
  {
   "cell_type": "markdown",
   "id": "1c24e9ee-4484-4f2f-85d9-9a63fa78e70f",
   "metadata": {},
   "source": [
    "- You have provided some excellent supporting information. It is very clear and understandable, and discusses your main design ideas and the representations you used.\n",
    "- You also provide some useful reflections on your use of global variables and the issues regarding recursion and stack limitations in R.\n",
    "   \n",
    "\n",
    "**Suggestion**\n",
    "\n",
    "- It would be really good if you also provided pseudo code for each of your **accept**, **reject**, **first**, and **next** methods."
   ]
  },
  {
   "cell_type": "markdown",
   "id": "576d6720-2701-44f4-9c85-c883c99daf62",
   "metadata": {},
   "source": [
    "#### Mark (out of 5) : 4.5"
   ]
  },
  {
   "cell_type": "markdown",
   "id": "0fe85cba-ec9f-4207-b6ad-872494e7697a",
   "metadata": {},
   "source": [
    "# Overall Comments and Marks"
   ]
  },
  {
   "cell_type": "markdown",
   "id": "5f3913d3-5445-47ff-9f4e-a7de107fdef8",
   "metadata": {},
   "source": [
    "- This is a very high standard piece of work. You quite clearly have a good understanding of the R programming system and its main programming idioms and data structures. \n",
    "\n",
    "- You might like to try experimenting with how you can translate your skills to a different programming system. Python is an obvious candidate but maybe have a look at Julia and - if you really want to push the boat out - try F sharp.\n",
    "\n",
    "**Notes**\n",
    "\n",
    "- The recursion limit is not related to the \"power\" of the computer. It is a consequence of the design of the R programming system. This has some major implications in the sense that many useful algorithms are best expressed recursively. Of course, any recursive algorithm can be expressed using iteration (and vice versa). \n",
    "\n",
    "- Do you remember looking at bitwise operations in the **Introductory Python Course** ? How might they be useful in the context of this assignment ? "
   ]
  },
  {
   "cell_type": "markdown",
   "id": "cc4998b4-1895-47ad-be3e-1fb8158a5b35",
   "metadata": {},
   "source": [
    "#### Overall Mark (out of 20) : 18.5"
   ]
  }
 ],
 "metadata": {
  "kernelspec": {
   "display_name": "Python 3 (ipykernel)",
   "language": "python",
   "name": "python3"
  },
  "language_info": {
   "codemirror_mode": {
    "name": "ipython",
    "version": 3
   },
   "file_extension": ".py",
   "mimetype": "text/x-python",
   "name": "python",
   "nbconvert_exporter": "python",
   "pygments_lexer": "ipython3",
   "version": "3.12.3"
  }
 },
 "nbformat": 4,
 "nbformat_minor": 5
}
