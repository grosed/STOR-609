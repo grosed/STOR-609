{
 "cells": [
  {
   "cell_type": "markdown",
   "metadata": {},
   "source": [
    "# STOR609: The Backtracking Algorithm"
   ]
  },
  {
   "cell_type": "markdown",
   "metadata": {},
   "source": [
    "The backtracking algorithm is a tool used to solve a specific subset of mathematical problems. It is most useful in problems where we can solve a problem in steps and can identify early on if a solution which we are in the process of building will not constitute a valid solution. It uses these to cut these solutions such that we do not waste computational resources exploring them further. This makes it very quick in such problems.\n",
    "\n",
    "In this document, we aim to create a simple backtracking algorithm which is reusable for different problems. We demonstrate its effectiveness on two specific problems: the n integer partitions problem, and Gray code. For each, we give an example of a specific problem (i.e. integer) and the solution that the code gives us, including computational time.\n",
    "\n",
    "## The General Backtracking Algorithm\n",
    "\n",
    "We firstly needed to create a general backtracking algorithm. The pseudocode for such an algorithm is as follows:"
   ]
  },
  {
   "cell_type": "markdown",
   "metadata": {},
   "source": [
    "$$\n",
    "\\begin{array}{l}\n",
    "\\texttt{procedure backtrack($P, c$)} \\\\\n",
    "\\texttt{1.    \\quad if reject($P, c$) then return} \\\\\n",
    "\\texttt{2.    \\quad if accept($P, c$) then output($P, c$)} \\\\\n",
    "\\texttt{3.    \\quad $s$ $\\leftarrow$ first($P, c$)} \\\\\n",
    "\\texttt{4.    \\quad while s $\\neq$ NULL do} \\\\\n",
    "\\texttt{5.        \\qquad \\quad backtrack($P, s$)} \\\\\n",
    "\\texttt{6.        \\qquad \\quad $s \\leftarrow$ next($P, s$)} \\\\\n",
    "\\end{array}\n",
    "$$"
   ]
  },
  {
   "cell_type": "markdown",
   "metadata": {},
   "source": [
    "The above pseudocode contains the following functions:\n",
    "- reject: returns True if the partial solution is not worth completing, and cuts that solution from consideration\n",
    "- accept: returns True if the c is a solution of P, and otherwise returns False\n",
    "- first: creates the first value of the candidate solution\n",
    "- next: generates the next extension of the proposed solution\n",
    "- output: use the solution c, whether it be outputting it or appending to a list of solutions (or otherwise)\n",
    "\n",
    "To ensure that our backtracking algorithm was able to be used on a range of problems, we allowed for inputs of all of the above functions, as well as the target P, the built solution c, and the results list. We did this as each of the backtracking have these, although each are unique to the specific problem. The source code for our backtracking algorithm is as follows:"
   ]
  },
  {
   "cell_type": "code",
   "execution_count": 1,
   "metadata": {},
   "outputs": [],
   "source": [
    "from typing import Callable, List\n",
    "\n",
    "def backtrack(P: int, c: List[int], reject: Callable, accept: Callable, first: Callable, next: Callable, output: Callable, results: List[List[int]]) -> List[List[int]]:\n",
    "    \"\"\" A General Backtracking Function\n",
    "\n",
    "    Parameters:\n",
    "        P (int): the number we are integer-partitioning\n",
    "        c (list): the current path\n",
    "        reject (function): a function determining whether we reject a solution\n",
    "        accept (function): a function determining whether we accept a solution\n",
    "        first (function): a function to find the first element of the solution\n",
    "        next (function): a function to find the next element in the solution\n",
    "        output (function): A function to specify the desired output\n",
    "        results (list of lists): the results vector, to which we will append our results\n",
    "\n",
    "    Returns:\n",
    "        results (list of lists):\n",
    "            Returns the n integer-partitions of the integer P\n",
    "    \"\"\"\n",
    "    if reject(P, c): # the reject step - rejects proposed answers which violate the conditions of the problem\n",
    "        return  \n",
    "\n",
    "    if accept(P, c):  # the accept step - accept answers if they satisfy all answer conditions\n",
    "        output(P, c, results) # th output step - accepted answers are outputted or stored based on the requirements of the problem\n",
    "\n",
    "    s = first(P, c)  # the first step - identifies what the first solution\n",
    "    while s is not None:\n",
    "        backtrack(P, s[:], reject, accept, first, next, output, results) # recursively calls backtrack until we have found all the required solutions (one solution in the Gray code case)\n",
    "        s = next(P, s)  # the next step - generates the next step\n",
    "\n",
    "    return results # return the results\n"
   ]
  },
  {
   "cell_type": "markdown",
   "metadata": {},
   "source": [
    "## The Integer Partition Problem\n",
    "\n",
    "The integer partition problem is simple: given an integer n, how many ways can the integer be partitioned into the sum of other strictly positive integers? For example, the number 4 has the following integer partitions: 4, 3 + 1, 2 + 2, 2 + 1 + 1, 1 + 1 + 1 + 1. The problem can be solved by backtracking by considering an integer or multiple integers as partial solutions. These partial solutions can be branched off, and should either the sum of the integers surpass n, or we exhaust numbers to append to the list, we cut this solution branch. This branching and cutting of solutions makes it possible to solve the problem using backtracking. Note also that it is possible to find each of the functions specified as inputs for our backtracking, providing more compelling evidence for its use.\n",
    "\n",
    "To fit with our general backtracking algorithm design, we use the following functions, with n replaced with P for consistency:\n",
    "\n",
    "- reject: we reject a solution if its sum exceeds P (and hence cannot be a partition of P)\n",
    "- accept: we accept a solution if its sum equals P (and hence must be a partition of P)\n",
    "- first: the first solution is set to be [P], which is a partition of itself and an obvious first candidate\n",
    "- next: we generate the next part of the solution as follows:\n",
    "\n",
    "$$\n",
    "\\begin{array}{l}\n",
    "\\texttt{While sum(c) < P:} \\\\\n",
    "\\texttt{\\qquad m gets last element of c} \\\\\n",
    "\\texttt{\\qquad for i in [m, 1]:} \\\\\n",
    "\\texttt{\\qquad \\qquad append i to c} \\\\\n",
    "\\texttt{\\qquad \\qquad if sum(c) > P then:} \\\\\n",
    "\\texttt{\\qquad \\qquad \\quad remove last element of c} \\\\\n",
    "\\texttt{\\qquad \\qquad else:} \\\\\n",
    "\\texttt{\\qquad \\qquad \\qquad return c}\n",
    "\\end{array}\n",
    "$$\n"
   ]
  },
  {
   "cell_type": "markdown",
   "metadata": {},
   "source": [
    "- Finally, the output appends solutions to a vector of solutions, as we wish to find all of them.\n",
    "\n",
    "The source code which we used for the integer partitions problem is in the below cell:"
   ]
  },
  {
   "cell_type": "code",
   "execution_count": 2,
   "metadata": {},
   "outputs": [],
   "source": [
    "def partitions_reject(P: int, c: List[int]) -> bool:\n",
    "    \"\"\"Rejects if the sum exceeds P.\"\"\"\n",
    "    return sum(c) > P\n",
    "\n",
    "def partitions_accept(P: int, c: List[int]) -> bool:\n",
    "    \"\"\"Accepts if the sum equals P.\"\"\"\n",
    "    return sum(c) == P\n",
    "\n",
    "def partitions_first(P: int, c: List[int]) -> List[int]:\n",
    "    \"\"\"Generates the first possible partitioning step.\"\"\"\n",
    "    if not c: # ie, only return P on the first step, at which point there is no c\n",
    "        return [P]  \n",
    "    return None  \n",
    "\n",
    "def partitions_next(P: int, c: List[int]) -> List[int]:\n",
    "    \"\"\"Generates the next possible partitioning step.\"\"\"\n",
    "    \n",
    "    def append(c: List[int], P: int) -> List[int]:\n",
    "        \"\"\"Appends the greatest possible value onto the list of integers, by running through the possible values (from the far-right value in the list) in descending order\"\"\"\n",
    "        m = c[-1]\n",
    "        for i in range(m, 0, -1): # cycle through the numbers in decreasing order\n",
    "            c.append(i)\n",
    "            if sum(c) > P: # check if we exceed P\n",
    "                c.pop() # if we do, remove the last value from the list and try again with one number lower\n",
    "            else:\n",
    "                return c\n",
    "    \n",
    "    def index_value_reduce(c: List[int], index: int) -> List[int]:\n",
    "        \"\"\"Reduces the right-most value in the list by 1\"\"\"\n",
    "        c[index] -= 1\n",
    "        return c\n",
    "    \n",
    "    if c[0] == 1: # all values will be 1 when the first value is one, and hence we will be finished\n",
    "        return None \n",
    "    c = [x for x in c if x != 1] # remove all the ones from our list\n",
    "    index = -1 # the index will be the right-most value now that all the ones have been removed\n",
    "    c = index_value_reduce(c, index) # reduce the value of the value at that index by 1\n",
    "    while sum(c) < P:\n",
    "            append(c, P)\n",
    "    return c\n",
    "\n",
    "def partitions_output(P: int, c: List[int], results: List[List[int]]) -> list[list[int]]:\n",
    "    \"\"\"Stores valid partitions in results.\"\"\"\n",
    "    results.append(c[:]) "
   ]
  },
  {
   "cell_type": "markdown",
   "metadata": {},
   "source": [
    "We use these functions within the backtracking function below. Note that we partition 10 as this gives a reasonably-sized result. The initial solution is set to an empty list, which will be filled with the first solution (in this case, 10), and the results is initialised with an empty list too, which will contain the list solutions as a list of lists. We chose a list of lists as it presents itself as a very intuitive solution to read, and is easy to manage within the code (rather than representing each answer as a summation, for example)."
   ]
  },
  {
   "cell_type": "code",
   "execution_count": 6,
   "metadata": {},
   "outputs": [
    {
     "name": "stdout",
     "output_type": "stream",
     "text": [
      "[[10], [9, 1], [8, 2], [8, 1, 1], [7, 3], [7, 2, 1], [7, 1, 1, 1], [6, 4], [6, 3, 1], [6, 2, 2], [6, 2, 1, 1], [6, 1, 1, 1, 1], [5, 5], [5, 4, 1], [5, 3, 2], [5, 3, 1, 1], [5, 2, 2, 1], [5, 2, 1, 1, 1], [5, 1, 1, 1, 1, 1], [4, 4, 2], [4, 4, 1, 1], [4, 3, 3], [4, 3, 2, 1], [4, 3, 1, 1, 1], [4, 2, 2, 2], [4, 2, 2, 1, 1], [4, 2, 1, 1, 1, 1], [4, 1, 1, 1, 1, 1, 1], [3, 3, 3, 1], [3, 3, 2, 2], [3, 3, 2, 1, 1], [3, 3, 1, 1, 1, 1], [3, 2, 2, 2, 1], [3, 2, 2, 1, 1, 1], [3, 2, 1, 1, 1, 1, 1], [3, 1, 1, 1, 1, 1, 1, 1], [2, 2, 2, 2, 2], [2, 2, 2, 2, 1, 1], [2, 2, 2, 1, 1, 1, 1], [2, 2, 1, 1, 1, 1, 1, 1], [2, 1, 1, 1, 1, 1, 1, 1, 1], [1, 1, 1, 1, 1, 1, 1, 1, 1, 1]]\n"
     ]
    }
   ],
   "source": [
    "P = 10\n",
    "c = []\n",
    "results = []\n",
    "partitions = backtrack(P, c, partitions_reject, partitions_accept, partitions_first, partitions_next, partitions_output, results)\n",
    "print(partitions)\n"
   ]
  },
  {
   "cell_type": "markdown",
   "metadata": {},
   "source": [
    "A quite different problem which we also looked at is generating Gray Code. Gray Code is a type of binary code in which the Gray Code for consecutive numbers differs by only one bit, where each bit is either 1 or 0. There are many uses of Gray code, including error correction and preventing spurious output. \n",
    "\n",
    "It is perhaps more intuitive to solve generating Gray Code using backtracking than it is to use the algorithm on the n-partitions problem - at each point, we can check whether we have already had the value, and if we find this for all possible values then we can \"backtrack\" to an earlier state.\n",
    "\n",
    "Although the problem of generating Gray Code is very different from the integer partition problem, the method for solving it using backtracking is much the same. We again created functions to use as inputs for our backtracking algorithm, and these are as follows:\n",
    "\n",
    "- reject: by construction of the other functions, this is left null such that it will never reject. This step is accounted for in the next function\n",
    "- accept: will accept a solution once it has reached a length of 2^P (and hence a Gray Code consisting of all possible permutations of P bits has been obtained)\n",
    "- first: will return 0 to start the algorithm. Else, is ignored as is no longer needed\n",
    "- next: flips the bits from right to left until a new solution is found (which is not one of those already obtained and stored in set). Handles the rejection by only accepting new solutions\n",
    "- output: appends accepted Gray Codes to the results list\n",
    "\n",
    "Here, the backtracking works by checking at each step whether each value has already occurred, and returning to previous stages if it is not possible to branch off the current state. The source code for this is below:"
   ]
  },
  {
   "cell_type": "code",
   "execution_count": 7,
   "metadata": {},
   "outputs": [],
   "source": [
    "def gray_code_reject(P: int, c: List[int]) -> bool:\n",
    "    \"\"\"Never Rejects (Algorithm Will Finish once a Solution is Found)\"\"\"\n",
    "    return False  \n",
    "\n",
    "def gray_code_accept(P: int, c: List[int]) -> bool:\n",
    "    \"\"\"Accepts a solution if it's length is equal to 2^P\"\"\" # (and hence all solutions values have occurred)\n",
    "    return len(c) == (2**P) \n",
    "\n",
    "def gray_code_first(P: int, c: List[int]) -> List[int]:\n",
    "    \"\"\"Initialises the value as 0, not needed in consecutive steps\"\"\"\n",
    "    return [0] if len(c) == 0 else None \n",
    "\n",
    "def gray_code_next(P: int, c: List[int]) -> List[int]:\n",
    "    \"\"\"Finds the next value in the Gray code by flipping bits and accepting them if they are not already existing in the stored Gray Code\"\"\"\n",
    "    if len(c) == 0:\n",
    "        return None  \n",
    "\n",
    "    used = set(c)  \n",
    "    last = c[-1]\n",
    "\n",
    "    for i in range(P):\n",
    "        next_number = last ^ (1 << i)  \n",
    "        if next_number not in used:\n",
    "            return c + [next_number] \n",
    "\n",
    "    return None  \n",
    "\n",
    "def gray_code_output(P: int, c: List[int], results: List[List[int]]) -> List[List[int]]:\n",
    "    \"\"\"Appends accepted values to our Gray code\"\"\"\n",
    "    results.append(c[:]) "
   ]
  },
  {
   "cell_type": "code",
   "execution_count": 11,
   "metadata": {},
   "outputs": [
    {
     "name": "stdout",
     "output_type": "stream",
     "text": [
      "[0, 1, 3, 2, 6, 7, 5, 4, 12, 13, 15, 14, 10, 11, 9, 8]\n"
     ]
    }
   ],
   "source": [
    "P = 4\n",
    "c = []\n",
    "results = []\n",
    "gray_codes = backtrack(P, c, gray_code_reject, gray_code_accept, gray_code_first, gray_code_next, gray_code_output, [])[0]\n",
    "print(gray_codes)"
   ]
  },
  {
   "cell_type": "markdown",
   "metadata": {},
   "source": [
    "Above, we have found a Gray Code for 15 bits. The output is in numbers (not binary), as this is much quicker to print and represents the same information. The runtime is fairly quick given the problem size, averaging around 15 seconds over several runs. "
   ]
  },
  {
   "cell_type": "markdown",
   "metadata": {},
   "source": [
    "### Design Choices\n",
    "\n",
    "For each of the two problems we used lists (and lists of lists) for generating our solutions. We chose to use lists as they are highly flexible, with the ability to add and remove elements easily and dynamically as is required in this problem. For our general backtracking function, we allowed the inputs to be functions which were versatile enough to be used on a large number of similar problems which could be solved using backtrcking. I decided not to use any of the functional patterns as firstly there were no clear opportunities to do this where I felt it would have found a quicker or more accurate solution, and also I felt that this would add extra complexity to the problem, and this generally makes the code less reusable if it were to pass into someone elses' hands."
   ]
  },
  {
   "cell_type": "markdown",
   "metadata": {},
   "source": [
    "## Conclusions\n",
    "\n",
    "Overall, the backtracking implementation is reusable - once it had been created for the n-partitions problem, it was able to be used straight away for the Gray Code problem by only changing the input functions, not the code itself. One issue with the way in which the functions are used is that it is not essential that all of the functions carry out the purpose for which they were designed, and the algorithm can run well by putting these tasks into the other functions. An interesting area for improvement would therefore be to strictly stay within the uses of each function, as for the Gray code the reject function is encapsulated within the next function. Broadly speaking though, the algorithm generally performs well and finds accurate solutions quickly, and it would not be a stretch of the imagination to see that classical problems such as the N-Queens problem could be solved easily within the same framework."
   ]
  }
 ],
 "metadata": {
  "kernelspec": {
   "display_name": "Python 3 (ipykernel)",
   "language": "python",
   "name": "python3"
  },
  "language_info": {
   "codemirror_mode": {
    "name": "ipython",
    "version": 3
   },
   "file_extension": ".py",
   "mimetype": "text/x-python",
   "name": "python",
   "nbconvert_exporter": "python",
   "pygments_lexer": "ipython3",
   "version": "3.12.3"
  }
 },
 "nbformat": 4,
 "nbformat_minor": 4
}
