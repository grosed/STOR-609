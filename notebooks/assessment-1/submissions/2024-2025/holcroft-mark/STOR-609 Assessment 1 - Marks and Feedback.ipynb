{
 "cells": [
  {
   "cell_type": "markdown",
   "id": "432087d2-ad61-4cb7-953e-06491367306e",
   "metadata": {},
   "source": [
    "**Name** :  Mark Holcroft"
   ]
  },
  {
   "cell_type": "markdown",
   "id": "90016c48-1c8a-4065-88a8-9da763870053",
   "metadata": {},
   "source": [
    "# Quality of Source Code"
   ]
  },
  {
   "cell_type": "markdown",
   "id": "06b23ef5-cffd-4579-8f86-657e89f86fbf",
   "metadata": {},
   "source": [
    "- Your source code is of an extremely high quality. Concise, effective, and very \"pythonesque\".\n",
    "- Your code very clearly expresses its intent.\n",
    "- You have provided good supporting comments where appropriate."
   ]
  },
  {
   "cell_type": "markdown",
   "id": "c554f4a1-bf18-4d06-9612-f1fa37f4c734",
   "metadata": {},
   "source": [
    "#### Mark (out of 5) : 5"
   ]
  },
  {
   "cell_type": "markdown",
   "id": "f01ea80a-12a0-4d9f-98fc-bf43dfd8aa1e",
   "metadata": {},
   "source": [
    "# Solution"
   ]
  },
  {
   "cell_type": "markdown",
   "id": "2a7022ba-1c88-4d91-9f19-db0a8d4e44cb",
   "metadata": {},
   "source": [
    "- For both problems you have provided example code that produces a correct solution. \n",
    "- Your code is designed so that it was easy for me to change the problem and produce further correct solutions (i.e. your code is both **re-usable** and **re-runnable**)\n"
   ]
  },
  {
   "cell_type": "markdown",
   "id": "5fb7d277-6c90-410f-a9e3-bd3db9716c00",
   "metadata": {},
   "source": [
    "#### Mark (out of 5) : 5"
   ]
  },
  {
   "cell_type": "markdown",
   "id": "41422db7-4399-47fd-aa7e-7d5b2ffdefdf",
   "metadata": {},
   "source": [
    "# Understanding Design Principles"
   ]
  },
  {
   "cell_type": "markdown",
   "id": "226cbe00-60ad-479b-8fcc-9425f776999a",
   "metadata": {},
   "source": [
    "- You have provided an implementation for a generic backtracking algorithm which is immediately recognisable as such when compared with the [pseudo code provided](https://en.wikipedia.org/wiki/Backtracking).  \n",
    "- Your use of bitwise operators in generating Gray codes is very efficient.\n",
    "- You have managed to avoid inefficient deep copies during the recursion which is difficult when using mutable data structures such as lists.\n",
    "\n",
    "**Suggestion**\n",
    "- It would be useful for you to consider the computational complexity of your methods in more detail (i.e. how much extra \"computation\" is required as your problem size increases).\n"
   ]
  },
  {
   "cell_type": "markdown",
   "id": "dd9ae9b6-b59b-4ed5-8cbf-5c302ecae0a7",
   "metadata": {},
   "source": [
    "#### Mark (out of 5) : 4.5"
   ]
  },
  {
   "cell_type": "markdown",
   "id": "5748cc1d-fdf1-4db3-8934-d5ec4f0437d4",
   "metadata": {},
   "source": [
    "# Quality of Written Communication"
   ]
  },
  {
   "cell_type": "markdown",
   "id": "81bae0e6-d6c6-49c8-b5ec-b312af00c784",
   "metadata": {},
   "source": [
    "- You have provided some excellent supporting information. It is very clear and understandable, and discusses your main design ideas and the representations you used\n",
    "- You have provided additional pseudo code to describe how your problem specific methods work. This is particularly relevant with respect to **replication** and **re-use**. "
   ]
  },
  {
   "cell_type": "markdown",
   "id": "576d6720-2701-44f4-9c85-c883c99daf62",
   "metadata": {},
   "source": [
    "#### Mark (out of 5) : 5"
   ]
  },
  {
   "cell_type": "markdown",
   "id": "0fe85cba-ec9f-4207-b6ad-872494e7697a",
   "metadata": {},
   "source": [
    "# Overall Comments and Marks"
   ]
  },
  {
   "cell_type": "markdown",
   "id": "99f60e4d-d31c-4ae0-9b04-829c4b70a4f2",
   "metadata": {},
   "source": [
    "- Overall an excellent piece of work. Well done !!\n",
    "\n",
    "- You are clearly a highly proficient programmer. I would recommend that you explore other programming systems/languages with view to extending your knowledge of other computing paradigms. In particular, try and find out more about type systems, parametric polymorphism, and functional programming. I only suggest this because you are clearly capable of doing so - and it would look very good on a CV !! "
   ]
  },
  {
   "cell_type": "markdown",
   "id": "cc4998b4-1895-47ad-be3e-1fb8158a5b35",
   "metadata": {},
   "source": [
    "#### Overall Mark (out of 20) : X"
   ]
  }
 ],
 "metadata": {
  "kernelspec": {
   "display_name": "Python 3 (ipykernel)",
   "language": "python",
   "name": "python3"
  },
  "language_info": {
   "codemirror_mode": {
    "name": "ipython",
    "version": 3
   },
   "file_extension": ".py",
   "mimetype": "text/x-python",
   "name": "python",
   "nbconvert_exporter": "python",
   "pygments_lexer": "ipython3",
   "version": "3.12.3"
  }
 },
 "nbformat": 4,
 "nbformat_minor": 5
}
