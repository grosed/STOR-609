{
 "cells": [
  {
   "cell_type": "markdown",
   "id": "432087d2-ad61-4cb7-953e-06491367306e",
   "metadata": {},
   "source": [
    "**Name** :  Cassandra Durr"
   ]
  },
  {
   "cell_type": "markdown",
   "id": "90016c48-1c8a-4065-88a8-9da763870053",
   "metadata": {},
   "source": [
    "# Quality of Source Code"
   ]
  },
  {
   "cell_type": "markdown",
   "id": "06b23ef5-cffd-4579-8f86-657e89f86fbf",
   "metadata": {},
   "source": [
    "- You have provided some very high quality python code.\n",
    "- Code documentation is of a high standard\n",
    "- Code includes error and exception handling"
   ]
  },
  {
   "cell_type": "markdown",
   "id": "c554f4a1-bf18-4d06-9612-f1fa37f4c734",
   "metadata": {},
   "source": [
    "#### Mark (out of 5) : 5"
   ]
  },
  {
   "cell_type": "markdown",
   "id": "f01ea80a-12a0-4d9f-98fc-bf43dfd8aa1e",
   "metadata": {},
   "source": [
    "# Solution"
   ]
  },
  {
   "cell_type": "markdown",
   "id": "2a7022ba-1c88-4d91-9f19-db0a8d4e44cb",
   "metadata": {},
   "source": [
    "- For both problems you have provided example code that produces a correct solution. \n",
    "- Your code is designed so that it was easy for me to change the problem and produce further correct solutions (i.e. your code is both **re-usable** and **re-runnable**)\n"
   ]
  },
  {
   "cell_type": "markdown",
   "id": "5fb7d277-6c90-410f-a9e3-bd3db9716c00",
   "metadata": {},
   "source": [
    "#### Mark (out of 5) : 5"
   ]
  },
  {
   "cell_type": "markdown",
   "id": "41422db7-4399-47fd-aa7e-7d5b2ffdefdf",
   "metadata": {},
   "source": [
    "# Understanding Design Principles"
   ]
  },
  {
   "cell_type": "markdown",
   "id": "226cbe00-60ad-479b-8fcc-9425f776999a",
   "metadata": {},
   "source": [
    "- You have considered carefully the trade off between different types of representation (data structures).\n",
    "- You have used Object Orientation as an underlying design approach and leveraged this to provide a **re-usable** and extensible design. \n",
    "\n",
    "**Notes / Questions**\n",
    "\n",
    "- It would be useful for you to consider the computational complexity of your methods in more detail (i.e. how much extra \"computation\" is required as your problem size increases). \n",
    "- Would it be more flexible if early stopping were handled in the derived class ? For example, I might need the first m out of n possible solutions.\n",
    "- How would you re-use different methods from two different problems in a third problem ? Would this result in needing to derive from the base class twice ? What are the consequences of this ?  "
   ]
  },
  {
   "cell_type": "markdown",
   "id": "dd9ae9b6-b59b-4ed5-8cbf-5c302ecae0a7",
   "metadata": {},
   "source": [
    "#### Mark (out of 5) : 4.5"
   ]
  },
  {
   "cell_type": "markdown",
   "id": "5748cc1d-fdf1-4db3-8934-d5ec4f0437d4",
   "metadata": {},
   "source": [
    "# Quality of Written Communication"
   ]
  },
  {
   "cell_type": "markdown",
   "id": "fa98bd39-0c20-4ae0-9159-43ae994cf3de",
   "metadata": {},
   "source": [
    "- You have provided very extensive and clear descriptions of your methods, design,  and solutions to each of the problems.\n",
    "\n",
    "**Suggestion**\n",
    "\n",
    "- It would be really good if you also provided pseudo code for each of your **accept**, **reject**, **first**, and **next** methods."
   ]
  },
  {
   "cell_type": "markdown",
   "id": "576d6720-2701-44f4-9c85-c883c99daf62",
   "metadata": {},
   "source": [
    "#### Mark (out of 5) : 4.5"
   ]
  },
  {
   "cell_type": "markdown",
   "id": "0fe85cba-ec9f-4207-b6ad-872494e7697a",
   "metadata": {},
   "source": [
    "# Overall Comments and Marks"
   ]
  },
  {
   "cell_type": "markdown",
   "id": "8a37058d-f504-48fc-8b1e-bf43e0afc933",
   "metadata": {},
   "source": [
    "- You pay great attention to the format and documentation of your code and use accepted standards for this. \n",
    "- You clearly have a broad understanding of many tools for automating some of the processes associated with code development (documentatoin, logging, and so on). I think you may well quickly become the STOR-i resident expert in this area !!\n",
    "- Very strong knowledge of python and use of Object Orientation.\n",
    "\n",
    "**Notes**\n",
    "\n",
    "- The recursion limit is not related to the \"power\" of the computer. It is a consequence of the design of the R programming system. This has some major implications in the sense that many useful algorithms are best expressed recursively. Of course, any recursive algorithm can be expressed using iteration (and vice versa). \n",
    "\n",
    "- Do you remember looking at bitwise operations in the **Introductory Python Course** ? How might they be useful in the context of this assignment ? \n",
    "\n",
    "You are clearly a highly proficient programmer. I would recommend that you explore other programming systems/languages with view to extending your knowledge of other computing paradigms. In particular, try and find out more about type systems, parametric polymorphism, and functional programming. I only suggest this because you are clearly capable of doing so - and it would look very good on a CV !! "
   ]
  },
  {
   "cell_type": "markdown",
   "id": "cc4998b4-1895-47ad-be3e-1fb8158a5b35",
   "metadata": {},
   "source": [
    "#### Overall Mark (out of 20) : 19"
   ]
  }
 ],
 "metadata": {
  "kernelspec": {
   "display_name": "Python 3 (ipykernel)",
   "language": "python",
   "name": "python3"
  },
  "language_info": {
   "codemirror_mode": {
    "name": "ipython",
    "version": 3
   },
   "file_extension": ".py",
   "mimetype": "text/x-python",
   "name": "python",
   "nbconvert_exporter": "python",
   "pygments_lexer": "ipython3",
   "version": "3.12.3"
  }
 },
 "nbformat": 4,
 "nbformat_minor": 5
}
