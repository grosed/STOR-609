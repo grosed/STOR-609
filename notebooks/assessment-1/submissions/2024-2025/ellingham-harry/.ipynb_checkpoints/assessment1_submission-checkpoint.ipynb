{
 "cells": [
  {
   "cell_type": "markdown",
   "metadata": {},
   "source": [
    "# Harry Ellingham Submission for Coursework 1"
   ]
  },
  {
   "cell_type": "markdown",
   "metadata": {},
   "source": [
    "## 0. Getting Started "
   ]
  },
  {
   "cell_type": "code",
   "execution_count": 1,
   "metadata": {},
   "outputs": [],
   "source": [
    "# Requirements: This script requires numpy (tested with numpy==2.2.1) \n",
    "# and the built-in modules typing, importlib and sys.\n",
    "\n",
    "import importlib.util\n",
    "import sys\n",
    "\n",
    "def install_and_import(package: str):\n",
    "    \"\"\"\n",
    "    Ensures a package is installed and imported.\n",
    "\n",
    "    Parameters:\n",
    "        package (str): The module name to import and install if missing.\n",
    "    \"\"\"\n",
    "    if importlib.util.find_spec(package) is None:\n",
    "        print(f\"Installing {package}...\")\n",
    "        !{sys.executable} -m pip install {package}\n",
    "    globals()[package] = __import__(package)\n",
    "\n",
    "# Test if numpy is installed, else install. Note this function does not work for packages whos download \n",
    "# name and import name are different (e.g. scikit-learn and sklearn)\n",
    "install_and_import(\"numpy\")\n",
    "\n",
    "\n",
    "import numpy as np\n",
    "from typing import List, Tuple, Dict, Callable, Optional"
   ]
  },
  {
   "cell_type": "markdown",
   "metadata": {},
   "source": [
    "Code was ran on python 3.12.0. Note, we rely on the ordering of dictionary keys, which is a feature imposed in python 3.8 for the validity of our returned Gray Code"
   ]
  },
  {
   "cell_type": "markdown",
   "metadata": {},
   "source": [
    "## 1. Backtracking Background"
   ]
  },
  {
   "cell_type": "markdown",
   "metadata": {},
   "source": [
    "A backtracking algorithm is one which solves a problem by making sequential decisions in a depth-first search approach, exploring the parameter space maximally until you have reached the point of invalidity, then backtracking to an earlier state and proceeding from there.\n",
    "\n",
    "We will make use of backtracking to go on to solve a variety of problems. Initially, we describe application specific backtracking algorithms for each of the two cases. This is done because this is the order in which I solved the problem, and I think its helpful to build the abstraction in these steps. We then extract common elements, to end up with an algorithmic structure which is the method by which the final code is implemented\n",
    "\n",
    "In Sections 1.1 and 1.2, we introduce integer partitions and gray numbers, and explain backtracking implementations for solving this problem. \n",
    "\n",
    "Section 2 contains our code implementations, along with a measure of computational complextity, measured in recursive calls during running the function. \n",
    "\n",
    "Finally, section 3 concludes with a critical review of the methods, explaining design principles inlcuding data structures, various implementation choices, and avenues for improvement of the code\n"
   ]
  },
  {
   "cell_type": "markdown",
   "metadata": {},
   "source": [
    "### 1.1 Integer Partitions\n",
    "In the integer partitions problem, you hope to find all the integer partitions of a given input number. Mathematically, we want to find all distinct sums of positive integers which add up to n. For example, for the number 3, we have 3 ways of making this number: [(1, 1, 1), (1, 2), (3)]. \n",
    "\n",
    "There are algorithms which can do this deterministically, but for the purposes of this coursework we will propose and implement a backtracking solution to this problem. The backtracking solution approach to this problem is as follows: \n",
    "\n",
    "\n",
    "> **IntegerPartitionBacktracking** :  \n",
    "> $ (current\\_set, target\\_number, \\mathcal{P}) \\longrightarrow m $\n",
    ">\n",
    "> *initialize* :  \n",
    "> - $ current\\_set = [\\quad] $  : These is a dynamic store of possible solutions \n",
    "> - $ \\mathcal{P} = \\emptyset $ : This is a set of (non-repeated) sorted integer partitions\n",
    ">\n",
    "> *input* :  \n",
    "> - $ current\\_set \\subseteq \\mathbb{N}^+ $ : current partition sequence  \n",
    "> - $ target\\_number \\in \\mathbb{N}^+ $ : target integer to partition  \n",
    "> - $ \\mathcal{P} = \\left\\{ (p_1, p_2, \\dots, p_k) \\mid \\sum_{i=1}^{k} p_i = n, \\quad p_1 \\leq p_2 \\leq \\dots \\leq p_k, \\quad p_i \\in \\mathbb{N}^+ \\right\\} \\subseteq \\mathcal{P}(\\mathbb{N}^+) $\n",
    ">\n",
    "> *output* :  \n",
    "> $ m = |\\mathcal{P}| $\n",
    "\n",
    "### **Algorithm**:\n",
    "1. **Compute total sum** of elements in $ current\\_set $:  \n",
    "   - $ \\text{total} \\leftarrow \\sum current\\_set $\n",
    "2. **If** $ \\text{total} = target\\_number $ and $ current\\_set $ (sorted) is **not** in $ \\mathcal{P} $:\n",
    "   - **Store** partition:\n",
    "     $ \\mathcal{P} \\leftarrow \\mathcal{P} \\cup \\{\\text{sorted}(current\\_set)\\} $\n",
    "   - **Print** the partition $ current\\_set $.\n",
    "   - **Return**.\n",
    "3. **Otherwise**, iterate over all valid next numbers $ i $ in the range:  \n",
    "   $ i \\in \\{1, 2, \\dots, target\\_number - \\text{total} \\} $\n",
    "   - Append $ i $ to $ current\\_set $:\n",
    "     $ current\\_set \\leftarrow current\\_set \\cup \\{i\\} $\n",
    "   - **Recursively call** IntegerPartitionBacktracking(current\\_set, target\\_number, $\\mathcal{P}$).\n",
    "   - **Backtrack** by removing $ i $ from $ current\\_set $:\n",
    "     $ current\\_set \\leftarrow current\\_set \\setminus \\{i\\} $\n",
    "4. **Return** the number of unique partitions:\n",
    "   $ m = |\\mathcal{P}| $\n",
    "\n"
   ]
  },
  {
   "cell_type": "markdown",
   "metadata": {},
   "source": [
    "To clarify how this algorithm would proceed, we work through an example of the storing of some solutions for target_number = 5.\n",
    "1. As the algorithm begins, it does not reach the backtrack step in step 3, until the array is popuated with all 1s, [1,1,1,1,1]. \n",
    "2. At this point, this is stored, and the backtrack steps one step back, removing the final 1, so we have [1,1,1,1]. \n",
    "3. This does not equal 5, so then we step through to the next step in the iteration of the final digit, moving it to the number 2. \n",
    "4. This means we now have [1,1,1,2]. This equals 5, hence we store this as a solution.\n",
    "5. This final element is then removed, leaving us with [1,1,1], and we begin looping over the values of the rightmost entry here.\n",
    "6. The (ordered) solution [1,1,2,1] is found, but since we already have it stored, this is skipped. \n",
    "7. We then arrive at [1,1,3]. This is a valid solution, and it is stored. \n",
    "\n",
    "The remainder of the solution space is given below, in the order in which they are arrived at\n",
    "- (1, 1, 1, 1, 1)\n",
    "- (1, 1, 1, 2)\n",
    "- (1, 1, 3)\n",
    "- (1, 2, 2)\n",
    "- (1, 4)\n",
    "- (2, 3)\n",
    "- (5)"
   ]
  },
  {
   "cell_type": "markdown",
   "metadata": {},
   "source": [
    "### 1.2 Gray Code Generation\n",
    "\n",
    "A gray code is a way to order a binary representation of numbers so that successive numbers differ only by one bit. This is useful in things like error correction. An example Gray code which is $n = 3$ bits long is given below.\n",
    "-  (0, 0, 0)\n",
    "-  (1, 0, 0)\n",
    "-  (1, 1, 0)\n",
    "-  (0, 1, 0)\n",
    "-  (0, 1, 1)\n",
    "-  (1, 1, 1)\n",
    "-  (1, 0, 1)\n",
    "-  (0, 0, 1)\n",
    "\n",
    "This one generalises to a recursive algorithm slightly more naturally. Note, we do not have to generate every possible Gray code, simply a single solution. \n",
    "\n",
    "\n",
    "> **GrayCodeBacktracking** :  \n",
    "> $ (number\\_of\\_bits) \\longrightarrow \\mathcal{P} $\n",
    ">\n",
    "> *initialize* :  \n",
    "> - $ current\\_bits = (0, 0, \\dots, 0) $ of length $ number\\_of\\_bits $  \n",
    "> - $ \\mathcal{P} = [\\quad] $ : list of generated Gray codes\n",
    ">\n",
    "> *input* :  \n",
    "> - $ number\\_of\\_bits \\in \\mathbb{N}^+ $ : length of the bit sequence\n",
    ">\n",
    "> *output* :  \n",
    "> $ \\mathcal{P} $ : list of all generated Gray codes of length $ number\\_of\\_bits $\n",
    "\n",
    "### **Algorithm**:\n",
    "1. **If** $ current\\_bits $ is already in $ \\mathcal{P} $, **return** False.\n",
    "2. **Otherwise**, append a copy of $ current\\_bits $ to $ \\mathcal{P} $.\n",
    "3. **For** each bit position $ i $ from $ 0 $ to $ number\\_of\\_bits - 1 $:\n",
    "   - Flip bit $ i $:\n",
    "     $ \\text{current\\_bits}[i] \\leftarrow 1 - \\text{current\\_bits}[i] $\n",
    "   - Recursively call `GrayCodeBacktracking` with the updated bit sequence.\n",
    "   - **Backtrack** by flipping the bit back:\n",
    "     $ \\text{current\\_bits}[i] \\leftarrow 1 - \\text{current\\_bits}[i] $\n",
    "4. **Return** the list of generated Gray codes $ \\mathcal{P} $.\n"
   ]
  },
  {
   "cell_type": "markdown",
   "metadata": {},
   "source": [
    "This becomes most clear with a diagram. This takes the form of a tree, which we provide a worked example for $n =3$"
   ]
  },
  {
   "cell_type": "markdown",
   "metadata": {},
   "source": [
    "![Sample Image](gn_algo.png)\n"
   ]
  },
  {
   "cell_type": "markdown",
   "metadata": {},
   "source": [
    "## 2. Code\n",
    "### 2.1 Class Definition"
   ]
  },
  {
   "cell_type": "code",
   "execution_count": 2,
   "metadata": {},
   "outputs": [],
   "source": [
    "class BacktrackingSolver:\n",
    "    '''\n",
    "    Class for implementing backtracking solver. \n",
    "\n",
    "    Backtracking is an algorithm for the purpose of solving problems where you can make sequential \n",
    "    decisions, some of which may end up being incorrect. The power of backtracking is it implements \n",
    "    a depth first search through your solution space, undoing a previous step (backtracking) if an \n",
    "    impossible/ not allowed state is reached. \n",
    "\n",
    "    Class is initalised with a collection of functions designed for each problem purpose\n",
    "\n",
    "    Parameters:\n",
    "        n (int): Parameter for board size. Interpretation will vary depending on application.\n",
    "        populate_board (callable): Function to initialise the board state, taking n as an input.\n",
    "        validity (callable): Check if a proposed solution is valid, if so proceed down the solution tree.\n",
    "        record (callable): Note down the new and correct point in the solution tree.\n",
    "        next_moves (callable): From current position, return the possible next states. \n",
    "        apply_step (callable): Move along the path of the next move.\n",
    "        undo_step (callable): Undo the last found move if dead end is reached. \n",
    "        stop_after_single_solution (bool): Stop after a single solution is found (True) or find all (False).\n",
    "\n",
    "    Returns: \n",
    "        number of permutations (int): The number of possible routes through the sample space.\n",
    "        permutations (list[list[int]]): The possible routes through the sample space.  \n",
    "\n",
    "    Example: \n",
    "    >>> solver = BacktrackingSolver(\n",
    "    >>>                             n=4,\n",
    "    >>>                             populate_board=fn_populate_board, \n",
    "    >>>                             validity=fn_validity, \n",
    "    >>>                             record=fn_record, \n",
    "    >>>                             next_moves=fn_next_moves, \n",
    "    >>>                             apply_step=fn_apply_step, \n",
    "    >>>                             undo_step=fn_undo_step, \n",
    "    >>>                             stop_after_single_solution=False\n",
    "    >>>                             )\n",
    "    >>> num_solutions, solutions, calls = solver.solve()\n",
    "    '''\n",
    "    \n",
    "    def __init__(\n",
    "        self, \n",
    "        n: int, \n",
    "        populate_board: Callable[[int], List[int]],\n",
    "        validity: Callable[[int, List[int], List[Tuple[int, ...]]], bool],\n",
    "        record: Callable[[List[int], List[Tuple[int, ...]]], List[Tuple[int, ...]]],\n",
    "        next_moves: Callable[[int, List[int]], List[int]],\n",
    "        apply_step: Callable[[int, List[int]], List[int]],\n",
    "        undo_step: Callable[[int, List[int]], List[int]],\n",
    "        stop_after_single_solution: bool\n",
    "    ) -> None:\n",
    "        \n",
    "        '''Initialisation of class method'''\n",
    "        self.n = n\n",
    "        self.populate_board = populate_board\n",
    "        self.validity = validity\n",
    "        self.record = record\n",
    "        self.next_moves = next_moves\n",
    "        self.apply_step = apply_step\n",
    "        self.undo_step = undo_step\n",
    "        self.stop_after_single_solution = stop_after_single_solution\n",
    "        self.permutations: Dict[Tuple[int, ...], None] = {}   # dictionary to store the permutations\n",
    "        self.recursive_calls:int = 0\n",
    "\n",
    "    def solve(\n",
    "        self, \n",
    "        current_solution: Optional[List[int]] = None\n",
    "    ) -> Tuple[int, List[Tuple[int, ...]], int]:\n",
    "        \"\"\"\n",
    "        Runs the backtracking algorithm.\n",
    "\n",
    "        Parameters:\n",
    "            current_solution: Current state of the solution (defaults to a populated board if none)\n",
    "        \"\"\"\n",
    "        if current_solution is None:\n",
    "            current_solution = self.populate_board(self.n)\n",
    "\n",
    "        self.recursive_calls += 1   # to find the length of our recursive stack \n",
    "        \n",
    "        # Check validity\n",
    "        if self.validity(self.n, current_solution, self.permutations):\n",
    "            self.permutations = self.record(current_solution, self.permutations)\n",
    "        else:\n",
    "            if self.stop_after_single_solution:\n",
    "                return #(len(self.permutations), self.permutations)\n",
    "\n",
    "        # Explore next moves\n",
    "        for candidate_move in self.next_moves(self.n, current_solution):\n",
    "            current_solution = self.apply_step(candidate_move, current_solution)\n",
    "            self.solve(current_solution)\n",
    "            current_solution = self.undo_step(candidate_move, current_solution)\n",
    "\n",
    "        return (len(self.permutations.keys()), list(self.permutations.keys()), self.recursive_calls)\n"
   ]
  },
  {
   "cell_type": "markdown",
   "metadata": {},
   "source": [
    "A note on design principles\n",
    "\n",
    "This is not exactly the implementation found on wikipedia, and in fact it sacrifices efficiency for the sake of being a `pure' backtracking algorithm. For example, in self.next_moves, we could check which of the next moves have not yet been visited ($\\mathcal{O}(1)$ thanks to our self.permutations dict keys being the things we are checking over) before applying the move, recursively calling the function, and exploring a path further. This would amount to a more effective pruning of possible paths. \n",
    "\n",
    "The self.stop_after_single_solution is a hacky fix to the issue of early termination. It ensures that once you have explored the full space (which we do in the case of gray numbers) a return statement is propagated all the way up the recursive stack.\n",
    "\n",
    "Lists are mutable and not hashable, so we turn them into tuples before we add them to the dictionary as keys. We make use of a dict since we can search the keys in $\\mathcal{O}(1)$ time, and also we can return an ordered list (the keys are returned in the order they are added in python 3.8 onwards). You could achieve a similar thing with a list which stores the ordered grey code numbers/ integer partitions, and a set to do lookup, but this is redundant in memory. "
   ]
  },
  {
   "cell_type": "markdown",
   "metadata": {},
   "source": [
    "### 2.2 Example Calls to Class"
   ]
  },
  {
   "cell_type": "markdown",
   "metadata": {},
   "source": [
    "#### 2.2.1 Integer Partitions"
   ]
  },
  {
   "cell_type": "code",
   "execution_count": 3,
   "metadata": {},
   "outputs": [],
   "source": [
    "# Functions for integer partitions\n",
    "def ip_populate_board(n: int) -> List[int]:\n",
    "    '''Set up the board function based on the problem, here just an empty list'''\n",
    "    return []\n",
    "\n",
    "def ip_validity(n: int, current_solution: List[int], permutations: Dict[Tuple[int, ...], None]) -> bool:\n",
    "    '''test if a current solution is valid, here that means that you should sort, \n",
    "    since the partitions are not an ordered set'''\n",
    "    sorted_solution = sorted(current_solution)\n",
    "    return (sum(current_solution) == n) and (tuple(sorted_solution) not in permutations.keys())\n",
    "\n",
    "def ip_record(current_solution: List[int], permutations: Dict[Tuple[int, ...], None]) -> Dict[Tuple[int, ...], None]:\n",
    "    '''Note down the current solution'''\n",
    "    sorted_solution = sorted(current_solution)\n",
    "    permutations[tuple(sorted_solution)] = None\n",
    "    return permutations\n",
    "\n",
    "def ip_next_moves(n: int, current_solution: List[int]) -> List[int]:\n",
    "    '''Return a list of the possible next moves'''\n",
    "    return list(range(1, n - sum(current_solution) + 1))\n",
    "\n",
    "def ip_apply_step(candidate_move: int, current_solution: List[int]) -> List[int]:\n",
    "    '''Step in the direction just decided'''\n",
    "    current_solution.append(candidate_move)\n",
    "    return current_solution\n",
    "\n",
    "def ip_undo_step(candidate_move: int, current_solution: List[int]) -> List[int]:\n",
    "    '''Remove the last appended element (i.e., backtrack)'''\n",
    "    current_solution.pop()\n",
    "    return current_solution"
   ]
  },
  {
   "cell_type": "code",
   "execution_count": 8,
   "metadata": {},
   "outputs": [
    {
     "name": "stdout",
     "output_type": "stream",
     "text": [
      "There are 5 Integer Partitions, found in 16 recursive calls and they are:\n",
      "(1, 1, 1, 1)\n",
      "(1, 1, 2)\n",
      "(1, 3)\n",
      "(2, 2)\n",
      "(4,)\n"
     ]
    }
   ],
   "source": [
    "solver = BacktrackingSolver(\n",
    "    n=4,\n",
    "    populate_board=ip_populate_board, \n",
    "    validity=ip_validity, \n",
    "    record=ip_record, \n",
    "    next_moves=ip_next_moves, \n",
    "    apply_step=ip_apply_step, \n",
    "    undo_step=ip_undo_step, \n",
    "    stop_after_single_solution=False\n",
    ")\n",
    "num_solutions, solutions, calls = solver.solve()\n",
    "\n",
    "if num_solutions == 1:\n",
    "    print(f'There is {num_solutions} Integer Partition, found in {calls} recursive calls and this is {list(solutions)}')\n",
    "else:\n",
    "    print(f'There are {num_solutions} Integer Partitions, found in {calls} recursive calls and they are:')\n",
    "    for partition in list(solutions):\n",
    "        print(partition)"
   ]
  },
  {
   "cell_type": "markdown",
   "metadata": {},
   "source": [
    "#### 2.2.2 Gray Numbers"
   ]
  },
  {
   "cell_type": "code",
   "execution_count": 26,
   "metadata": {},
   "outputs": [],
   "source": [
    "# Functions for generating Gray numbers\n",
    "def gn_populate_board(n: int) -> List[int]:\n",
    "    '''Populate board method for the Gray Numbers case'''\n",
    "    return [0] * n\n",
    "\n",
    "def gn_validity(n: int, current_solution: List[int], permutations: Dict[Tuple[int, ...], None]) -> bool:\n",
    "    '''Test if solution is not valid, i.e. has not been found yet'''\n",
    "    return (tuple(current_solution) not in permutations.keys()) \n",
    "\n",
    "def gn_record(current_solution: List[int], permutations: Dict[Tuple[int, ...], None]) -> Dict[Tuple[int, ...], None]:\n",
    "    '''note down a correct solution'''\n",
    "    permutations[tuple(current_solution)] = None\n",
    "    return permutations\n",
    "\n",
    "def gn_next_moves(n: int, current_solution: List[int]) -> List[int]:\n",
    "    '''Return positions where a bit flip can occur'''\n",
    "    return list(range(n))\n",
    "\n",
    "def gn_apply_step(flip_position: int, current_solution: List[int]) -> List[int]:\n",
    "    '''Flip the bit at flip_position'''\n",
    "    current_solution[flip_position] = 1 - current_solution[flip_position]\n",
    "    return current_solution\n",
    "\n",
    "def gn_undo_step(flip_position: int, current_solution: List[int]) -> List[int]:\n",
    "    '''Flip the bit back (same as apply in this scenario)'''\n",
    "    current_solution[flip_position] = 1 - current_solution[flip_position]\n",
    "    return current_solution"
   ]
  },
  {
   "cell_type": "code",
   "execution_count": 27,
   "metadata": {},
   "outputs": [
    {
     "name": "stdout",
     "output_type": "stream",
     "text": [
      "A possible Gray code of length 4 bits, found in 65 recursive calls is:\n",
      "(0, 0, 0, 0)\n",
      "(1, 0, 0, 0)\n",
      "(1, 1, 0, 0)\n",
      "(0, 1, 0, 0)\n",
      "(0, 1, 1, 0)\n",
      "(1, 1, 1, 0)\n",
      "(1, 0, 1, 0)\n",
      "(0, 0, 1, 0)\n",
      "(0, 0, 1, 1)\n",
      "(1, 0, 1, 1)\n",
      "(1, 1, 1, 1)\n",
      "(0, 1, 1, 1)\n",
      "(0, 1, 0, 1)\n",
      "(1, 1, 0, 1)\n",
      "(1, 0, 0, 1)\n",
      "(0, 0, 0, 1)\n"
     ]
    }
   ],
   "source": [
    "solver = BacktrackingSolver(\n",
    "    n=4,\n",
    "    populate_board=gn_populate_board, \n",
    "    validity=gn_validity, \n",
    "    record=gn_record, \n",
    "    next_moves=gn_next_moves, \n",
    "    apply_step=gn_apply_step, \n",
    "    undo_step=gn_undo_step, \n",
    "    stop_after_single_solution=True\n",
    ")\n",
    "num_solutions, solutions, calls = solver.solve()\n",
    "\n",
    "print(f'A possible Gray code of length {int(np.log2(num_solutions))} bits, found in {calls} recursive calls is:')\n",
    "for code in list(solutions):\n",
    "    print(code)"
   ]
  },
  {
   "cell_type": "markdown",
   "metadata": {},
   "source": [
    "### 3. Appraisal"
   ]
  },
  {
   "cell_type": "markdown",
   "metadata": {},
   "source": [
    "There are a few possible avenues for development in my code. One is that each function for each different use case may require different arguments than other cases. For example, gn_undo_step needs to know the last step which took place, whereas in ip_undo_step, you simply pop the last bit. Defining these as partial functions could perhaps help clear up the API, allowing for only required arguments to be passed in. I did not do this in the end, since for the malleability of the class it is easiest if you offer each function everything it could possibly need, then each function just picks relevant args on its own. \n",
    "\n",
    "I think the usage of data structures throughout has been optimal. Using dictionary keys allows for order 1 lookup time, and also preserves the order in which they are added. \n",
    "\n",
    "Efficiency gains could be made by more accurately/ thoroughly checking candidate next_moves, so that you cannot end up revisiting the same states you were in before. \n",
    "\n",
    "Overall, I think the code is reusable and robust. Efficiency gains could be made with regard to navigating the solution space, and this would also allow for a reduction in length of the recursive stack. Further work would involve testing out the implementation on other problems in backtracking, and seeing if we are able to apply the same structure in other cases. If not, we have likely benefitted from some commonalities between these two problems without realising.  "
   ]
  },
  {
   "cell_type": "markdown",
   "metadata": {},
   "source": []
  }
 ],
 "metadata": {
  "kernelspec": {
   "display_name": "Python 3 (ipykernel)",
   "language": "python",
   "name": "python3"
  },
  "language_info": {
   "codemirror_mode": {
    "name": "ipython",
    "version": 3
   },
   "file_extension": ".py",
   "mimetype": "text/x-python",
   "name": "python",
   "nbconvert_exporter": "python",
   "pygments_lexer": "ipython3",
   "version": "3.12.3"
  }
 },
 "nbformat": 4,
 "nbformat_minor": 4
}
