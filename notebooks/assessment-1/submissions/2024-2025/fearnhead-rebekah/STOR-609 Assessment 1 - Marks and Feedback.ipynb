{
 "cells": [
  {
   "cell_type": "markdown",
   "id": "432087d2-ad61-4cb7-953e-06491367306e",
   "metadata": {},
   "source": [
    "**Name** : Rebekah Fearnhead"
   ]
  },
  {
   "cell_type": "markdown",
   "id": "90016c48-1c8a-4065-88a8-9da763870053",
   "metadata": {},
   "source": [
    "# Quality of Source Code"
   ]
  },
  {
   "cell_type": "markdown",
   "id": "06b23ef5-cffd-4579-8f86-657e89f86fbf",
   "metadata": {},
   "source": [
    "- Your implementation is concise and effective.\n",
    "- You have provided effective commenting making your implementation easy to understand and **re-use**.\n"
   ]
  },
  {
   "cell_type": "markdown",
   "id": "c554f4a1-bf18-4d06-9612-f1fa37f4c734",
   "metadata": {},
   "source": [
    "#### Mark (out of 5) : 5"
   ]
  },
  {
   "cell_type": "markdown",
   "id": "f01ea80a-12a0-4d9f-98fc-bf43dfd8aa1e",
   "metadata": {},
   "source": [
    "# Solution"
   ]
  },
  {
   "cell_type": "markdown",
   "id": "2a7022ba-1c88-4d91-9f19-db0a8d4e44cb",
   "metadata": {},
   "source": [
    "- For both problems you have provided example code that produces a correct solution. \n",
    "- Your code is designed so that it was easy for me to change the problem and produce further correct solutions (i.e. your code is both **re-usable** and **re-runnable**)"
   ]
  },
  {
   "cell_type": "markdown",
   "id": "5fb7d277-6c90-410f-a9e3-bd3db9716c00",
   "metadata": {},
   "source": [
    "#### Mark (out of 5) : 5"
   ]
  },
  {
   "cell_type": "markdown",
   "id": "41422db7-4399-47fd-aa7e-7d5b2ffdefdf",
   "metadata": {},
   "source": [
    "# Understanding Design Principles"
   ]
  },
  {
   "cell_type": "markdown",
   "id": "226cbe00-60ad-479b-8fcc-9425f776999a",
   "metadata": {},
   "source": [
    "- You have provided an implementation for a generic backtracking algorithm which is immediately recognisable as such when compared with the [pseudo code provided](https://en.wikipedia.org/wiki/Backtracking).\n",
    "- You have provided very extensive and clear descriptions of your methods, design,  and solutions to each of the problems.\n",
    "\n",
    "**Notes / Questions**\n",
    "\n",
    "- The manner in which you provide the procedures to backtracking is somewhat unusual. Why not pass the procedures directurly to your backtracking method (higher order programming). This would eliminate the need for your global methods. \n",
    "- It would be useful for you to consider the computational complexity of your methods in more detail (i.e. how much extra \"computation\" is required as your problem size increases).\n"
   ]
  },
  {
   "cell_type": "markdown",
   "id": "dd9ae9b6-b59b-4ed5-8cbf-5c302ecae0a7",
   "metadata": {},
   "source": [
    "#### Mark (out of 5) : 4"
   ]
  },
  {
   "cell_type": "markdown",
   "id": "5748cc1d-fdf1-4db3-8934-d5ec4f0437d4",
   "metadata": {},
   "source": [
    "# Quality of Written Communication"
   ]
  },
  {
   "cell_type": "markdown",
   "id": "a74843bd-a4b6-4a07-a6c7-de79d91fa795",
   "metadata": {},
   "source": [
    "You have provided very thorough descriptions of how the methods you use for each problem work.\n",
    "\n",
    "**Suggestion**\n",
    "\n",
    "- It would be really good if you also provided pseudo code for each of your **accept**, **reject**, **first**, and **next** methods."
   ]
  },
  {
   "cell_type": "markdown",
   "id": "576d6720-2701-44f4-9c85-c883c99daf62",
   "metadata": {},
   "source": [
    "#### Mark (out of 5) : 4.5"
   ]
  },
  {
   "cell_type": "markdown",
   "id": "0fe85cba-ec9f-4207-b6ad-872494e7697a",
   "metadata": {},
   "source": [
    "# Overall Comments and Marks"
   ]
  },
  {
   "cell_type": "markdown",
   "id": "825ce6c6-5bc9-4fc0-9123-156df854c0aa",
   "metadata": {},
   "source": [
    "\n",
    "\n",
    "- You correctly identify the issues associated with stack size and recursion. It is unfortunate that many important algorithms are better expressed recursively (in terms of ease of understanding and analysis) yet many programming systems do not effectively support it. However, there are other programming systems that do support (tail) recursion such as F sharp.\n",
    "\n",
    "- Do you remember looking at bitwise operations in the **Introductory Python Course** ? How might they be useful in the context of this assignment ? \n",
    "  "
   ]
  },
  {
   "cell_type": "markdown",
   "id": "cc4998b4-1895-47ad-be3e-1fb8158a5b35",
   "metadata": {},
   "source": [
    "#### Overall Mark (out of 20) : X"
   ]
  }
 ],
 "metadata": {
  "kernelspec": {
   "display_name": "Python 3 (ipykernel)",
   "language": "python",
   "name": "python3"
  },
  "language_info": {
   "codemirror_mode": {
    "name": "ipython",
    "version": 3
   },
   "file_extension": ".py",
   "mimetype": "text/x-python",
   "name": "python",
   "nbconvert_exporter": "python",
   "pygments_lexer": "ipython3",
   "version": "3.12.3"
  }
 },
 "nbformat": 4,
 "nbformat_minor": 5
}
