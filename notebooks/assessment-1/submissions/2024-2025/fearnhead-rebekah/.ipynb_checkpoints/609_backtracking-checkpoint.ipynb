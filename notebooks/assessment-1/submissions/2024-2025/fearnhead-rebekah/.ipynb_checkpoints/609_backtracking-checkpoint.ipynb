{
 "cells": [
  {
   "cell_type": "markdown",
   "id": "249d3774-ff3e-4188-9df5-40f9ec9f8890",
   "metadata": {},
   "source": [
    "# 609 Assessment 1"
   ]
  },
  {
   "cell_type": "markdown",
   "id": "e004f0c5-3fd5-4503-a9c2-4f75e1cde9eb",
   "metadata": {},
   "source": [
    "## Generic Backtracking Algorithm\n",
    "The generic backtracking algorithm can be written as a recursive function with 5 main functions, the contents of which can be provided for the scenario being implemented. \n",
    "\n",
    "When the backtracking function is called and provided with data about the problem, and the current partial candidate, firstly the function checks to see if the candidate can be rejected and if this is the case it returns to the previous level of recursion as the branch will not be able to provide any solutions. If this does not happen then the partial candidate is then checked to see if it is a full solution and therefore should be accepted. If this is true then an output function is called which will do something to this solution, for example print it, or store it in a variable. After this, an extention to the current partial candidate is produced. If this exists then the backtracking is performed on this new partial candidate. Once this branch is exited, new partial candidates are produced and backtracking is performed on these until no more partial candidates can be produced. At this point, the branch of the backtracking has had all its possible solutions exhausted, and the function will return to the previous level of recurrsion."
   ]
  },
  {
   "cell_type": "code",
   "execution_count": 1,
   "id": "bcf15898-39a1-4051-b1f6-d4f0c1821cec",
   "metadata": {},
   "outputs": [],
   "source": [
    "backtracking <- function(P, c){\n",
    "  #if current partial solution can not be viable, reject and return\n",
    "  if (reject(P,c) == TRUE){\n",
    "    return()\n",
    "  }\n",
    "  #if current partial solution is a true full solution, accept it, and perform output function\n",
    "  if (accept(P,c) == TRUE){\n",
    "    output(P,c)\n",
    "  }\n",
    "  s <- first(P,c)\n",
    "  #iterate through all possible candidates for adding to the current partial solution\n",
    "  while(length(s)!=0){\n",
    "    backtracking(P,s)\n",
    "    s <- next_val(P,s)\n",
    "  }\n",
    "  return()\n",
    "}\n"
   ]
  },
  {
   "cell_type": "markdown",
   "id": "f7eae07c-4a2c-4869-b152-39768f832c27",
   "metadata": {},
   "source": [
    "In the backtracking algortihm above, the function has two inputs, $P$ which includes the data provided for the specific problem, and $c$ which represents the current partial solution being evaluated. "
   ]
  },
  {
   "cell_type": "markdown",
   "id": "ea3b1f56-3bb8-44c4-a00b-93d84ed2828d",
   "metadata": {},
   "source": [
    "## Integer Partitioning\n",
    "In this problem, we are provided with a value and have to produce all unique integer partitions for that number (groups of positive integers that sum to the value). \n",
    "One way to solve this is to take the highest integer that can be used in the partitioning (the value itself) and find all partitionings that start with this value. Once these solutions are exhausted, then the starting number can be decreased by one and the process repeated. For each subsequent number included in the partitioning, it must be less than or equal to the pervious number in the partitioning, and the sum must be less than or equal to the target. This can be done using the backtracking algorithm where each node in the backtracking 'tree' represents a new value added to the partial solution for a partitioning."
   ]
  },
  {
   "cell_type": "markdown",
   "id": "11d360a2-a0b2-4bb7-9312-36d675d6b4eb",
   "metadata": {},
   "source": [
    "To use the backtracking algorithm for this, each of the 5 functions called in the backtracking algortihm need to be defined. \n",
    "\n",
    "**Reject**: The main case that needs to be rejected is when the sum of the proposed partitioning is more than the value that is being aimed for. As we can only add positive integers to a partitioning this means that the proposed partial solution can never be made into a correct partitioning. The other case that needs to be rejected is if the last value in the partitioning is 0. As there can only be positive integers in the partitioning, this means that the solution is not viable, and even if this is not the case, as the integers added to the partitioning have to be less than or equal to the previously added integer, then more positive integers will not be able to be added to the proposed partitioning so it could never be made a solution.\n",
    "\n",
    "**Accept**: In order for a partitioning to be correct and a full solution, the partial candidate needs to sum to the value that we are producing the partitionings for. It is important for this to be checked after we have checked to see if the solution must be rejected as this makes sure that correct partitionings with a 0 added to the end will not be accepted.\n",
    "\n",
    "**Output**: In this case, if a partitioning is accepted as a solution, it is appeneded to a list that is stored as a global variable, $solution$. The partitioning is passed into this function as $c$ which is a list of the integers that make up the partitioning, however, before adding it to the list of solutions it is turned into a string of the values in the list separated by commas to make it easier to view the solutions in the output.\n",
    "\n",
    "**First**: For each step of the recursion, this produces the first new partial solution that should be considered by adding an integer to the list of integers that make up the partitioning. As each integer added to the partitioning must be less than or equal to the previous value in order for solutions to not be repeated, if possible, we want, for our first proposed solution to append an integer of the same value as the last one already in the partitioning. This value can then be decreased in the **next** function. However, there are two other cases that need to be considered. The first is when adding this would cause the partitioning to sum to more than the value that is being aimed for. Whilst this problem will be caught by the **reject** step in the next level of recurrence, it is more efficient to spot that this is happening now, and instead append to the partitioning the highest value that can be appended, while keeping the sum of the partitioning less than or equal to the value being aimed for. The other case is when the backtracking algorithm is first called. As when we first call the backtracking algortihm, the current partial solution provided is empty, we can instead start the recursion for finding the solutions by adding the target value to the partitioning, creating the partitioning of size 1.\n",
    "\n",
    "**Next**: This is the final function that needs to be designed. Each time this is called, we want to take the last value in the partitioning, and decrease it by 1. This is then returned as the next partial solution to test. As a partitioning cannot include negative integers, if the last number in the partitioning is equal to 0, then all the possible partial solutions have been tested. In this case, we can return an empty list which means that there are no more solutions to try and the while loop will be left and the recursion will return to the level above.\n",
    "\n",
    "The function created can be called with the one input being the number that you wish to find the integer partitions of. After defining these functions for the backtracking, the backtracking function is called with two inputs. $P$ is the data that we wish to provide which in this case is the number we are partitioning, and $c$ which is the partial solution is initiated as an empty list."
   ]
  },
  {
   "cell_type": "code",
   "execution_count": 2,
   "id": "78db5857-14e0-4e2b-99ad-a67fd403509a",
   "metadata": {},
   "outputs": [],
   "source": [
    "integer_partition <- function(n){\n",
    "  P <- n\n",
    "  \n",
    "  reject <<- function(P,c){\n",
    "    #case for when the partial solution is empty as other cases can not be evaluated\n",
    "    if (length(c)==0){return(FALSE)}\n",
    "    #not valid if there is a 0 in the solution\n",
    "    if (tail(c, n = 1)[1]== 0){return(TRUE)}\n",
    "    #also reject if sum of partitioning is too high\n",
    "    if (sum(c) > P){return(TRUE)}\n",
    "    else {return(FALSE)}\n",
    "  }\n",
    "  \n",
    "  accept <<- function(P,c){\n",
    "    #one accept case-if a true partitioning so sums to P\n",
    "    if (sum(c) == P){return(TRUE)}\n",
    "    else {return(FALSE)}\n",
    "  }\n",
    "  \n",
    "  output <<- function(P,c){\n",
    "    #append the correct solution to a list\n",
    "    solution <<- c(solution,paste(c,collapse = ', '))\n",
    "  }\n",
    "  first <<- function(P,c){\n",
    "    #if beginning of recursion, set partial solution to the target\n",
    "    if(length(c)==0){return(c(P))}\n",
    "    #if the last integer (smallest in partition) can be added again without exceding target\n",
    "    if(P-sum(c)>tail(c, n = 1)[1]){\n",
    "      return(c(c,(tail(c, n = 1)[1])))\n",
    "    }\n",
    "    #else add the largest value that does not go over target\n",
    "    return (c(c,(P-sum(c))))\n",
    "  }\n",
    "  next_val <<- function(P,c){\n",
    "    #if last integer 0, no more possible solutions so return empty list\n",
    "    if (tail(c, n = 1)[1]== 0){return(c())}\n",
    "    #otherwise decrease last integer in partition by one\n",
    "    return(c(head(c,-1),(tail(c, n = 1)[1]-1)))\n",
    "  }\n",
    "  solution <<- c()\n",
    "  backtracking(P,c())\n",
    "}\n"
   ]
  },
  {
   "cell_type": "markdown",
   "id": "0f7ef4bd-3b54-413f-89c6-685831bc43d3",
   "metadata": {},
   "source": [
    "This algorithm can be tested, for example by getting it to find all the integer partitionings for 10. Printing the solution shows all the partitionings found, and the length of the list of solutions is 42, which is the number of unique integer partitionings of 10."
   ]
  },
  {
   "cell_type": "code",
   "execution_count": 4,
   "id": "9171035d-a83a-4432-b063-432c53beb2df",
   "metadata": {},
   "outputs": [
    {
     "data": {
      "text/plain": [
       "NULL"
      ]
     },
     "metadata": {},
     "output_type": "display_data"
    },
    {
     "name": "stdout",
     "output_type": "stream",
     "text": [
      " [1] \"10\"                           \"9, 1\"                        \n",
      " [3] \"8, 2\"                         \"8, 1, 1\"                     \n",
      " [5] \"7, 3\"                         \"7, 2, 1\"                     \n",
      " [7] \"7, 1, 1, 1\"                   \"6, 4\"                        \n",
      " [9] \"6, 3, 1\"                      \"6, 2, 2\"                     \n",
      "[11] \"6, 2, 1, 1\"                   \"6, 1, 1, 1, 1\"               \n",
      "[13] \"5, 5\"                         \"5, 4, 1\"                     \n",
      "[15] \"5, 3, 2\"                      \"5, 3, 1, 1\"                  \n",
      "[17] \"5, 2, 2, 1\"                   \"5, 2, 1, 1, 1\"               \n",
      "[19] \"5, 1, 1, 1, 1, 1\"             \"4, 4, 2\"                     \n",
      "[21] \"4, 4, 1, 1\"                   \"4, 3, 3\"                     \n",
      "[23] \"4, 3, 2, 1\"                   \"4, 3, 1, 1, 1\"               \n",
      "[25] \"4, 2, 2, 2\"                   \"4, 2, 2, 1, 1\"               \n",
      "[27] \"4, 2, 1, 1, 1, 1\"             \"4, 1, 1, 1, 1, 1, 1\"         \n",
      "[29] \"3, 3, 3, 1\"                   \"3, 3, 2, 2\"                  \n",
      "[31] \"3, 3, 2, 1, 1\"                \"3, 3, 1, 1, 1, 1\"            \n",
      "[33] \"3, 2, 2, 2, 1\"                \"3, 2, 2, 1, 1, 1\"            \n",
      "[35] \"3, 2, 1, 1, 1, 1, 1\"          \"3, 1, 1, 1, 1, 1, 1, 1\"      \n",
      "[37] \"2, 2, 2, 2, 2\"                \"2, 2, 2, 2, 1, 1\"            \n",
      "[39] \"2, 2, 2, 1, 1, 1, 1\"          \"2, 2, 1, 1, 1, 1, 1, 1\"      \n",
      "[41] \"2, 1, 1, 1, 1, 1, 1, 1, 1\"    \"1, 1, 1, 1, 1, 1, 1, 1, 1, 1\"\n",
      "[1] 42\n"
     ]
    }
   ],
   "source": [
    "integer_partition(10)\n",
    "print(solution)\n",
    "print(length(solution))"
   ]
  },
  {
   "cell_type": "code",
   "execution_count": null,
   "id": "d681956b-7273-41fe-9c17-8f9cc2e7ffdc",
   "metadata": {},
   "outputs": [],
   "source": []
  },
  {
   "cell_type": "markdown",
   "id": "daa5dc8f-de53-414f-a4bf-c503a426da47",
   "metadata": {},
   "source": [
    "## Grey Code\n",
    "In this problem, we are provided with a number, $n$, (positive integer) and have to create a full grey code for binary numbers of this length. This means that a sequence of $2^n$ binary numbers will be produced. There are two criteria that this sequence of binary numbers must have. Firstly, no two numbers should be the same - each of the $2^n$ binary values of length $n$ will appear exactly once. The other criteria is that two successive values must only differ by one bit. This is different to the standard way of representing numbers in binary.\n",
    "\n",
    "This problem can be solved using a backtracking algorithm, where in each level of the recursion, the next binary number is assigned. If a sequence of binary numbers gets to a point where no value can be assigned next such that the two criteria above are satisfied, the algorithm can then backtrack to change the previous value to see if this can instead produce a valid code. "
   ]
  },
  {
   "cell_type": "markdown",
   "id": "9dd4ae14-c7ca-4fb6-bfc3-578f20365413",
   "metadata": {},
   "source": [
    "The same 5 main functions need to be defined to use in the backtracking function.\n",
    "\n",
    "**Reject**: There are two main crieteria that need to be checked when suggesting new values to be added to the code. The easiest way to do this is to check for one of them in the reject function, and to check for the other when proposing the new values to append to the partial solution. Therefore, this function checks to make sure there are no repeated values in the partial solution, and rejects if this is the case.\n",
    "\n",
    "**Accept**: This checks to see if a full grey code has been found. The easiest way to do this is to check that it is the correct length ($2^n$) as this means that it is an acceptable code and the correct length.\n",
    "\n",
    "**Output**: If the code is a valid grey code and therefore accepted, it needs to be stored in a variable which is made global so the solution can be accessed outside the function. The list of values of the grey code are stored, with each value being represented by a string. \n",
    "\n",
    "**First**: When deciding on the first value to try at the start of each recursion, there are a few cases that need to be considered. Firstly, if a code has been accepted, the recursion needs to be exitted, as only one solution is being looked for, not all possible solutions as in the integer partitioning code. If a solution has been found, an empty list is returned which allows the function to exit the recursion. If this is the first level of recursion, a starting value of the grey code needs to be decided on. The simplest way is to start with a string of 0's of length $n$. This means that each possible value for each place in the code can then be easily checked by incrementing the number that the binary string represents each time. If there is already some values in the partial solution, a possible value needs to be found for the next value, whilst also checking for the other essential criteria - there is only a one bit difference between two consecutive values (hamming distance of 1). This can be done by setting the suggested value to a string of 0's of length $n$ and checking the hamming distance between this and the previous value, using a **hamming distance** function which counts the number of bits that are different between two binary values of the same length. Whilst this criteria is not met, new values for the next value in the grey code are checked. This is done by converting the binary number into decimal, adding one to it, and then converting it back to a binary string. The only other thing that needs to be checked is if this causes the value being proposed to be a string of 1's of length $n$. If this is not accepted then this means that there are no possible values that can be proposed and an empty list is returned which allows the level of recursion to be left. \n",
    "\n",
    "**Next**: This works in a similar way to how **First** works. It increments the previously suggested value by one and checks its hamming distance. If this is equal to one then it is part of a possible solution so the partial solution with this appended to the end is returned and the backtracking is performed, otherwise the suggested value is incremented again and this repreats until a value with this criteria is found, or a string of 1's of length $n$ is found, which leads to an empty list being returned as there are no more partial solutions to check with the greycode beginning in the way that the current partial solution does.\n",
    "\n",
    "The function below can then be called with one input, $n$ being a positive integer that represents the length of each value in the grey code that is to be produced. It returns a list of strings with each binary string representing the next value in an acceptable grey code."
   ]
  },
  {
   "cell_type": "code",
   "execution_count": 5,
   "id": "06d729f3-108d-4641-9870-53407d51dc7c",
   "metadata": {},
   "outputs": [],
   "source": [
    "\n",
    "grey_code_full <- function(n){\n",
    "  P <- n\n",
    "  reject <<- function(P,c){\n",
    "    #reject solution if any of the entries repeat\n",
    "    if (anyDuplicated(c)==0){\n",
    "      return(FALSE)\n",
    "    }\n",
    "    return(TRUE)\n",
    "  }\n",
    "    \n",
    "  accept <<- function(P,c){\n",
    "    #if the length of the code is 2^P then a full grey code has been found\n",
    "    if (length(c)==2^P){\n",
    "      return(TRUE)\n",
    "    }\n",
    "    return(FALSE)\n",
    "  }\n",
    "    \n",
    "  output <<- function(P,c){\n",
    "    #store the solution in a global variable\n",
    "    solution <<- c\n",
    "  }\n",
    "    \n",
    "  first <<- function(P,c){\n",
    "    #if solution has been found, return empty list\n",
    "    if(length(solution)!=0){return(c())}\n",
    "    #if first level of recursion, suggest string of all 0s\n",
    "    if(length(c)==0){\n",
    "      return(c(strrep(0,P)))\n",
    "    }\n",
    "    #otherwise suggest string of all 0s\n",
    "    poss <- c(strrep(0,P))\n",
    "    #increment suggestion until hamming distance=1\n",
    "    while(hamming_dist(tail(c, n = 1), poss)!= 1){\n",
    "      #if string all 1s, all stings have been checked\n",
    "      if (identical(strrep(1,P),poss)){return(c())}\n",
    "      #binary to decimal\n",
    "      poss_decimal <- strtoi(poss, base=2)\n",
    "      #increment by one\n",
    "      new_decimal <- poss_decimal+1\n",
    "      #convert back to binary\n",
    "      new_binary <- paste(rev(as.integer(intToBits(new_decimal))),collapse='')\n",
    "      poss <- substring(new_binary,(nchar(new_binary)-P+1))\n",
    "    }\n",
    "    return(c(c,poss))\n",
    "      \n",
    "  }\n",
    "    \n",
    "  next_val<<- function(P,c){\n",
    "    #if solution has been found, return empty list\n",
    "    if(length(solution)!=0){return(c())}\n",
    "    #last value checked=tail of partial solution\n",
    "    poss <- tail(c, n = 1)\n",
    "    #return empty list if all 1s\n",
    "    if (identical(strrep(1,P),poss)){return(c())}\n",
    "    #increment last value by one\n",
    "    poss_decimal <- strtoi(poss, base=2)\n",
    "    new_decimal <- poss_decimal+1\n",
    "    new_binary <- paste(rev(as.integer(intToBits(new_decimal))),collapse='')\n",
    "    poss <- substring(new_binary,(nchar(new_binary)-P+1))\n",
    "    #partial solution, without last value that is being incremented\n",
    "    c <- c[-(length(c))]\n",
    "    #check value of hamming distance\n",
    "    while(hamming_dist(tail(c, n = 1), poss)!= 1){\n",
    "      #increment by 1\n",
    "      if (identical(strrep(1,P),poss)){return(c())}\n",
    "      poss_decimal <- strtoi(poss, base=2)\n",
    "      new_decimal <- poss_decimal+1\n",
    "      new_binary <- paste(rev(as.integer(intToBits(new_decimal))),collapse='')\n",
    "      poss <- substring(new_binary,(nchar(new_binary)-P+1))\n",
    "    }\n",
    "    return(c(c,poss))\n",
    "  }\n",
    "\n",
    "  #fuction to calculate hamming distance\n",
    "  hamming_dist <<- function(c_last,c_new){\n",
    "    #turn strings into lists\n",
    "    c_last <- strsplit(c_last,'')\n",
    "    c_new <- strsplit(c_new,'')\n",
    "    difference <- 0\n",
    "    #compare each item in each list\n",
    "    for (i in 1:length(c_last[[1]])){\n",
    "      if (c_last[[1]][i] != c_new[[1]][i]){\n",
    "        difference <- difference + 1\n",
    "      }\n",
    "   }\n",
    "   #return number of differences (hamming distance)\n",
    "   return(difference)\n",
    "}\n",
    "\n",
    "    \n",
    "  solution <<- c()\n",
    "  backtracking(P,c())\n",
    "}\n",
    "\n"
   ]
  },
  {
   "cell_type": "markdown",
   "id": "2ebfc3e0-c758-46c4-955e-668e9b12b9af",
   "metadata": {},
   "source": [
    "This algorithm can be tested, for example by getting it to find a grey code of length 6. Printing the solution shows each individual value in an acceptable grey code, and the length of the solution is 64 which is the length that is expected ($2^6$)."
   ]
  },
  {
   "cell_type": "code",
   "execution_count": 11,
   "id": "2d253058-94c7-4d26-a6bb-007cac602d71",
   "metadata": {},
   "outputs": [
    {
     "data": {
      "text/plain": [
       "NULL"
      ]
     },
     "metadata": {},
     "output_type": "display_data"
    },
    {
     "name": "stdout",
     "output_type": "stream",
     "text": [
      " [1] \"00000\" \"00001\" \"00011\" \"00010\" \"00110\" \"00100\" \"00101\" \"00111\" \"01111\"\n",
      "[10] \"01011\" \"01001\" \"01000\" \"01010\" \"01110\" \"01100\" \"01101\" \"11101\" \"10101\"\n",
      "[19] \"10001\" \"10000\" \"10010\" \"10011\" \"10111\" \"10110\" \"10100\" \"11100\" \"11000\"\n",
      "[28] \"11001\" \"11011\" \"11010\" \"11110\" \"11111\"\n",
      "[1] 32\n"
     ]
    }
   ],
   "source": [
    "grey_code_full(5)\n",
    "print(solution)\n",
    "print(length(solution))"
   ]
  },
  {
   "cell_type": "markdown",
   "id": "ba135eba-2823-47a8-96f8-221796ca74fd",
   "metadata": {},
   "source": [
    "The performance of the backtracking algortihm for this problem could be improved as it runs slowly, for grey codes of length 9 or more. One way to improve this is to check for both of the criteria when proposing the values to append to the partial solution, instead of checking one in the reject step. This would reduce the number of recursions that need to be performed and increase the speed."
   ]
  },
  {
   "cell_type": "markdown",
   "id": "55c377dc-0952-48e8-bfd8-21cd371ccad1",
   "metadata": {},
   "source": [
    "Overall, these two examples show the wide range of uses that a backtracking algorithm can be used in which shows the reusability of the function. This is becasue, even though the individual functions passed into it can vary a lot, the structure that the backtracking has is always the same. One diffrerence between the two problems is that the integer partitioning required all solutions for a problem to be found, whereas when creating a grey code, only one possible solution needs to be found. A variable which represents if all or only one solution is wanted could be added to the inputs of the backtracking function which would also increase reusability as it would mean that if, for example, all grey codes of a length need to be found, not just one, the functions used in the backtracking would not need to be changed, just the input vairable of if one or all solutions need to be found.\n",
    "\n",
    "One limitation of the backtracking algortihm is that some problems that can be solved using backtracking and recursion could also be solved by just using iteration. One problem with the backtracking algorithm compared to this is that depending on the size of the problem, the recursion limit could be reached and this can lead to stack overflow errors or the program crashing due to the number of values that need to be stored each time a new level of recursion is entered, whereas iteration does not have these problems."
   ]
  }
 ],
 "metadata": {
  "kernelspec": {
   "display_name": "R",
   "language": "R",
   "name": "ir"
  },
  "language_info": {
   "codemirror_mode": "r",
   "file_extension": ".r",
   "mimetype": "text/x-r-source",
   "name": "R",
   "pygments_lexer": "r",
   "version": "4.3.3"
  }
 },
 "nbformat": 4,
 "nbformat_minor": 5
}
