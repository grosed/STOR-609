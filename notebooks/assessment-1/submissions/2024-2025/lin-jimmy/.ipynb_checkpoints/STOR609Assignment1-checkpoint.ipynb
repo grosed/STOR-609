{
 "cells": [
  {
   "cell_type": "markdown",
   "metadata": {},
   "source": [
    "# STOR609 Assignment 1: Backtracking Algorithm"
   ]
  },
  {
   "cell_type": "markdown",
   "metadata": {},
   "source": [
    "## Introduction"
   ]
  },
  {
   "cell_type": "markdown",
   "metadata": {},
   "source": [
    "The backtracking algorithm uses a tree structure approach to bruteforce the possibilities of a complex typically combinatorial problem. The way this works is by traversing down to the root of a tree, trying to find a solution. If it finds something that satisfies the end condition, we finish, but if not we either store what we have found if necessary, or prune it due to its dead end. This typically uses a recursive function which repeatedly calls upon itself, which allows simple ways to traverse backwards along the tree when we are stuck. A generic algorithm pseudocode will be given below."
   ]
  },
  {
   "cell_type": "markdown",
   "metadata": {},
   "source": [
    "Backtracking Algorithm\n",
    "```plaintext\n",
    "FUNCTION backtrack(P, c):\n",
    "    IF accept(P, c) THEN\n",
    "        OUTPUT c\n",
    "        RETURN\n",
    "    END IF\n",
    "\n",
    "    IF reject(P, c) THEN\n",
    "        RETURN\n",
    "    END IF\n",
    "\n",
    "    s ← first(P, c)\n",
    "    WHILE s ≠ NULL DO\n",
    "        backtrack(P, s)\n",
    "        s ← next(P, s)\n",
    "    END WHILE\n",
    "END FUNCTION"
   ]
  },
  {
   "cell_type": "markdown",
   "metadata": {},
   "source": [
    "First, let's talk about the variables as input. We have P as a representation of number of instances to solve. For example in an n queen problem we want to place P number of queens on the board. The variable c is our potential solution that is generated.\n",
    "\n",
    "Now the functions inside of this pseudocode. The accept() function should check given P and c as inputs, whether or not this potential solution satisfies the true solution. Similarly, we have reject() but this is only ran when a solution is known to be a dead end by some prior knowledge, or just found as a dead end. The first() function generates the first potential solution to look for in this particular branch, while the next() function looks for following solutions under a certain branch after first().\n",
    "\n",
    "This function should work such that it will traverse down a potential solution with the recursive call. Among approaching a dead end, we set s to NULL and end this branch of recursive calling, then explore the next potential set of solution using next() from branches below. If there are no feasible solutions, the function will just end without calling anything. The python equivalent of this pseudocode can be given as follows."
   ]
  },
  {
   "cell_type": "code",
   "execution_count": 1,
   "metadata": {},
   "outputs": [],
   "source": [
    "#backtracking algorithm\n",
    "def backtrack(P, c):\n",
    "    '''\n",
    "    Recursive backtracking algorithm:\n",
    "    P (int) - Instance to search solution for,\n",
    "    c (list) - One set of potential solution.\n",
    "    '''\n",
    "\n",
    "    #output a valid solution\n",
    "    if accept(P, c):\n",
    "        output(P, c)\n",
    "        return\n",
    "    \n",
    "    if reject(P, c):\n",
    "        return\n",
    "\n",
    "    s = first(P, c)\n",
    "    #repeat until no more valid solution under this branch\n",
    "    while s is not None:\n",
    "        backtrack(P, s)\n",
    "        s = next(P, s)"
   ]
  },
  {
   "cell_type": "markdown",
   "metadata": {},
   "source": [
    "As a matter of fact, this pseudocode provides a foundational basis for any problem which we want to apply the backtracking algorithm to. The alterations one must make is to the functions such as accept() reject() first() and next(). First we will look at how this can be applied to an integer partition problem."
   ]
  },
  {
   "cell_type": "markdown",
   "metadata": {},
   "source": [
    "## Integer Partition"
   ]
  },
  {
   "cell_type": "markdown",
   "metadata": {},
   "source": [
    "An integer partition of a non-negative integer n is a set containing all sets of positive non-zero integers where their sum is n. For example, n=3 would have {{3}, {2,1}, {1,1,1}}. It is important to note that the ordering is not relevant in the set and we cannot have duplicates."
   ]
  },
  {
   "cell_type": "code",
   "execution_count": 4,
   "metadata": {},
   "outputs": [
    {
     "name": "stdout",
     "output_type": "stream",
     "text": [
      "Partition of 5: [5]\n",
      "Partition of 5: [4, 1]\n",
      "Partition of 5: [3, 2]\n",
      "Partition of 5: [3, 1, 1]\n",
      "Partition of 5: [2, 2, 1]\n",
      "Partition of 5: [2, 1, 1, 1]\n",
      "Partition of 5: [1, 1, 1, 1, 1]\n"
     ]
    }
   ],
   "source": [
    "#Start with nothing.\n",
    "def root(P):\n",
    "    return []\n",
    "\n",
    "#Finds a valid solution.\n",
    "def accept(P, c):\n",
    "    return sum(c) == P\n",
    "\n",
    "def reject(P, c):\n",
    "    return sum(c) > P\n",
    "\n",
    "#Find a potentially valid solution.\n",
    "def first(P, c):\n",
    "    #Create a copy of the input c\n",
    "    new_c = c[:]\n",
    "\n",
    "    #Look at the final value in the list and create one with the same value\n",
    "    try:\n",
    "        new_c.append(new_c[-1])\n",
    "    #If there is nothing in the list, we make a value of P\n",
    "    except IndexError:\n",
    "        new_c.append(P)\n",
    "    \n",
    "    #We reduce this new value until it is at least less than equal to 10 (potentially valid in the future tree branch)\n",
    "    for i in range(new_c[-1]):\n",
    "        if sum(new_c) <= P:\n",
    "            return new_c\n",
    "        else:\n",
    "            new_c[-1] -= 1\n",
    "    \n",
    "    #No more valid solutions\n",
    "    return None\n",
    "        \n",
    "#Search within branch\n",
    "def next(P, s):\n",
    "    new_s = s[:]\n",
    "    #Reduce until 1 then check if valid\n",
    "    if new_s[-1] != 1:\n",
    "        new_s[-1] -= 1\n",
    "        return new_s\n",
    "    \n",
    "    #This means we are at 1 and cannot reduce to check further\n",
    "    return None\n",
    "\n",
    "#Output of valid solution\n",
    "def output(P, c):\n",
    "    print(f\"Partition of {P}: {c}\")\n",
    "\n",
    "#backtracking step\n",
    "def backtrack(P, c):\n",
    "    '''\n",
    "    Recursive backtracking algorithm:\n",
    "    P (int) - Integer to search partitions for,\n",
    "    c (list) - One set of potential solution.\n",
    "    '''\n",
    "\n",
    "    #output a valid solution\n",
    "    if accept(P, c):\n",
    "        output(P, c)\n",
    "        return\n",
    "    \n",
    "    if reject(P, c):\n",
    "        return\n",
    "\n",
    "    s = first(P, c)\n",
    "    #repeat until no more valid solution under this branch\n",
    "    while s is not None:\n",
    "        backtrack(P, s)\n",
    "        s = next(P, s)\n",
    "\n",
    "#initialisation\n",
    "P = 5\n",
    "initial_state = root(P)\n",
    "backtrack(P, initial_state)"
   ]
  },
  {
   "cell_type": "markdown",
   "metadata": {},
   "source": [
    "How does this code work? Well this is the same backtracking pseudocode as previous, but we have defined each function in order to solve our problem. We begin with an empty list. The function first() looks at the most recently tested set, and appends the same value as the final value in the list. If a value doesn't exist such as at the start of the algorithm, it simply generates the trivial solution n. The algorithm then uses the accept() to check if it is a valid solution, or reject() if extending the current solution by adding more numbers will not lead to a possible solution.\n",
    "\n",
    "If there is a rejection, we proceed down by reducing the number at the end of the list by 1, we then use the same procedure to check for potential solutions down the tree or as current. This repeats until we reach the number 1. There, we have found all possible solutions under this tree route and we backtrack to find more solutions down other routes.\n",
    "\n",
    "Setting P = 5 here gives us solutions {{5}, {4, 1}, {3, 2}, {3, 1, 1}, {2, 2, 1}, {2, 1, 1, 1}, {1, 1, 1, 1, 1}}"
   ]
  },
  {
   "cell_type": "markdown",
   "metadata": {},
   "source": [
    "## Gray Code"
   ]
  },
  {
   "cell_type": "markdown",
   "metadata": {},
   "source": [
    "Gray code is similar to binary code in the sense that it represents numerical values with binary numbers 0s and 1s. The key difference however is in its representation. When we have 001 for \"1\" in binary and 010 for \"2\", whereas in gray code \"2\" is represented as 011. This is because to go from 1 to 2, we are use only 1 bit change. In our problem, we try to generate with size P permutations of numbers 0,...,2^(n)-1 without duplicates, and only one bit change per interval. "
   ]
  },
  {
   "cell_type": "code",
   "execution_count": 4,
   "metadata": {},
   "outputs": [
    {
     "name": "stdout",
     "output_type": "stream",
     "text": [
      "Solution found: [0, 0, 0]\n",
      "Solution found: [1, 0, 0]\n",
      "Solution found: [1, 1, 0]\n",
      "Solution found: [0, 1, 0]\n",
      "Solution found: [0, 1, 1]\n",
      "Solution found: [1, 1, 1]\n",
      "Solution found: [1, 0, 1]\n",
      "Solution found: [0, 0, 1]\n"
     ]
    }
   ],
   "source": [
    "#backtracking algorithm for gray code\n",
    "\n",
    "#binary value flip\n",
    "#function to flip the binary value\n",
    "def value_flip(val):\n",
    "    return 1 if val == 0 else 0\n",
    "\n",
    "def reject(P, c, used):\n",
    "    return c in used\n",
    "\n",
    "#beginning gray code\n",
    "def root(P):\n",
    "    #We begin with a code of all zeroes of size P.\n",
    "\n",
    "    return [0]*P\n",
    "\n",
    "#define the first gray code change (flipping first bit) as potential solution\n",
    "def first(P, c):\n",
    "    new_c = c[:]\n",
    "    new_c[0] = value_flip(new_c[0])\n",
    "\n",
    "    return new_c\n",
    "\n",
    "#consequent gray code change (same structure changing a different bit)\n",
    "def next(P, c, counter):\n",
    "    #Counter defines which bit to change:\n",
    "    #i.e., first run through on a branch with this function changes index 1.\n",
    "\n",
    "    new_c = c[:]\n",
    "    #try changing different indexes until no more is left\n",
    "    try:\n",
    "        new_c[counter] = value_flip(new_c[counter])\n",
    "        return new_c\n",
    "    except IndexError:\n",
    "        return None\n",
    "\n",
    "\n",
    "def output(c):\n",
    "    print(f\"Solution found: {c}\")\n",
    "\n",
    "#backtracking step\n",
    "def backtrack(P, c, used):\n",
    "    '''\n",
    "    Recursive backtracking algorithm:\n",
    "    P (int) - Number of bits to solve for,\n",
    "    c (list) - One set of potential solution,\n",
    "    used (list) - A list containing solutions used up to current.\n",
    "    '''\n",
    "    if reject(P, c, used):\n",
    "        return\n",
    "    \n",
    "    output(c)\n",
    "    used.append(c)\n",
    "    s = first(P, c)\n",
    "\n",
    "    #Introduce a counter to decide which bit to flip next\n",
    "    counter = 0\n",
    "\n",
    "    #recursion which prunes when there does not exist solution in this branch\n",
    "    while s is not None:\n",
    "        backtrack(P, s, used)\n",
    "        counter += 1\n",
    "        s = next(P, c, counter)\n",
    "\n",
    "#test\n",
    "P = 3\n",
    "initial_code = root(P)\n",
    "used = []\n",
    "backtrack(P, initial_code, used)\n"
   ]
  },
  {
   "cell_type": "markdown",
   "metadata": {},
   "source": [
    "In this code, it is not clear to me what to not reject being a dead end, therefore we have chosen to have accept and reject functions as complement to each other, subsequently removing the need for an accept() function. Our function defines a list of list known as used, which adds accepted solutions. This is useful for the rejection function which checks if the proposed new solution is already in the list of used solutions to get to that point (since we want no duplicate solutions).\n",
    "\n",
    "The method we use to find the next sets of solutions is to start by trying to flip the first bit value and check if it is accepted. If it is accepted, we go to the next part of the tree branch and try flipping the first bit again. If it is rejected however, we try flipping the next bit, until we reach the end where we encounter an indexerror. In the case we run out of bits to flip, we would return a solution of None down this branch, backtrack and try to find another solution."
   ]
  },
  {
   "cell_type": "markdown",
   "metadata": {},
   "source": [
    "## Conclusion"
   ]
  },
  {
   "cell_type": "markdown",
   "metadata": {},
   "source": [
    "As we can see, we are able to apply the backtracking algorithms to a variety of small problems. Downsides of this algorithm is that in the worst case it is equivalent to bruteforcing every solution, as well as the fact that certain programming languages cannot handle large number of recursions, thus the problem is only applicable on a relatively small scale. The code is very reusable for any problem to apply the backtracking algorithm to, the key function is the backtrack() function which can be copy pasted, with key is to change the accept, reject, first, next and root functions adjusting to its own individual problems."
   ]
  }
 ],
 "metadata": {
  "kernelspec": {
   "display_name": "Python 3 (ipykernel)",
   "language": "python",
   "name": "python3"
  },
  "language_info": {
   "codemirror_mode": {
    "name": "ipython",
    "version": 3
   },
   "file_extension": ".py",
   "mimetype": "text/x-python",
   "name": "python",
   "nbconvert_exporter": "python",
   "pygments_lexer": "ipython3",
   "version": "3.12.3"
  }
 },
 "nbformat": 4,
 "nbformat_minor": 4
}
