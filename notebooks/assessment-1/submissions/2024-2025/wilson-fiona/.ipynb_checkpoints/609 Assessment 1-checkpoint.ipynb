{
 "cells": [
  {
   "cell_type": "markdown",
   "id": "e5eefcfa-69d5-42cf-952a-5d7ef20465c9",
   "metadata": {},
   "source": [
    "# 609 Coursework 1"
   ]
  },
  {
   "cell_type": "markdown",
   "id": "67c8468f-222b-47bd-ba7a-b5a5af0175de",
   "metadata": {},
   "source": [
    "### Backtracking Algorithm"
   ]
  },
  {
   "cell_type": "markdown",
   "id": "a1bd994e-f5f9-4e43-a462-1ff4cdefb786",
   "metadata": {},
   "source": [
    "A backtracking algorithm attempts to solve a problem by recursively building candidate solutions. As it builds these solutions, if it becomes clear a partial candidate will no longer work, then it stops and retraces the solution path back until it can make a different choice that it has not tried yet.  \n",
    "\n",
    "My backtracking function is built using the pseudocode provided. The inputs are the problem's specific parameters and then an initial partial candidate. It also requires 5 functions which are created for each specific problem. The functions are as follows: \\\n",
    "reject(P, c) - this will return TRUE if we need to stop using a partial candidate as it will not work, and returns FALSE otherwise \\\n",
    "accept(P, c) - this will reutrn TRUE if we have found a solution to the problem, and returns FALSE otherwise \\\n",
    "output(P, c) - this will return a solution to the problem once it has been found \\\n",
    "first(P, c) - given the current partial candidate, this function makes the first possible addition to this candidate \\\n",
    "next1(P, s) - given the current partial candidate that has just failed, it gives an alternative addition to this candidate given its previous attempt had to be stopped \\"
   ]
  },
  {
   "cell_type": "code",
   "execution_count": 1,
   "id": "5c797fad-16a3-4ba0-b386-a7bd98b4b152",
   "metadata": {},
   "outputs": [],
   "source": [
    "# INPUTS:\n",
    "# P - this provides the particular parameters of the problem in question\n",
    "# c - the initial partial candidate under consideration\n",
    "\n",
    "backtracker <- function(P, c) {\n",
    "  if (reject(P, c) == TRUE) { # move onto next start point\n",
    "    return()\n",
    "  }\n",
    "  \n",
    "  if (accept(P, c) == TRUE) { # add c to solution\n",
    "    output(P, c) \n",
    "    return()\n",
    "  }\n",
    "  \n",
    "  s <- first(P, c)\n",
    "  \n",
    "  while (!is.null(s)) {\n",
    "    backtracker(P, s)\n",
    "    s <- next1(P, s)\n",
    "  }\n",
    "}"
   ]
  },
  {
   "cell_type": "markdown",
   "id": "8c77f539-8f40-4ce8-b4af-e38f1cadfd4e",
   "metadata": {},
   "source": [
    "### Integer Partition Problem"
   ]
  },
  {
   "cell_type": "markdown",
   "id": "54be5ea0-c2c1-486f-9da5-f379808a4fb1",
   "metadata": {},
   "source": [
    "The aim of integer partitioning is to write a positive interger as the sum of other possible intergers, and we want to find all such partitions. We can do this via backtracking by recursively adding integers together until we exceed the target, then retrace our last step and add a smaller integer to the partition. We repeat this until we reach the target number exactly at which point we have a solution, but then we retrace the steps again and keep searching until we have search all possible solutions.\n",
    "\n",
    "My backtracking approach is to start with an empty partition and keep adding 1 to it until you reach the target P (and then it prints the solution) or until you exceed P (then it stops). Once it exceeds P, it increases the final integer of the partition by 1 and checks its validity. It keeps increasing the final integer until the integer equals P, then it removes that integer. So our partial candidate is now just 1s, but with one less integer in it than before. Again it increases the final integer by one until it reaches P. And thus the recursive formula continues until the final partition will just be P itself. "
   ]
  },
  {
   "cell_type": "code",
   "execution_count": 2,
   "id": "e26c105a-b56b-489d-b03e-3ce99e451121",
   "metadata": {},
   "outputs": [],
   "source": [
    "# INPUTS in backtracker function:\n",
    "# P is the positive integer we want to partition\n",
    "# c will be NULL as we start with an empty partition\n",
    "\n",
    "# reject a candidate when the sum of the partition is greater than our target P\n",
    "reject <- function(P, c) {\n",
    "  if (sum(c) > P) {\n",
    "    return(TRUE)\n",
    "  } else {\n",
    "    return(FALSE)\n",
    "  }\n",
    "}\n",
    "\n",
    "# accept a candidate when the sum of the parrtition is equal to our target P\n",
    "accept <- function(P, c) {\n",
    "  if (sum(c) == P) {\n",
    "    return(TRUE)\n",
    "  } else {\n",
    "    return(FALSE)\n",
    "  }\n",
    "}\n",
    "\n",
    "# the first addition we make to a candidate is always to add '1' to the candidate partition\n",
    "first <- function(P, c) {\n",
    "  c <- c(c, 1)\n",
    "  return(c)\n",
    "}\n",
    "\n",
    "# we want to print our solutions, but we want unique solutions not permutations of the same solution\n",
    "# so we will only print solutions where the partition is written in ascending order\n",
    "output <- function(P, c) {\n",
    "  if (is.unsorted(c) == FALSE) { \n",
    "    print(c)\n",
    "  }\n",
    "}\n",
    "\n",
    "# the next alternative addition to the partition is to add numbers other than '1' into the partition\n",
    "# this function increases the last number in the candidate partition by 1, until that number is equal to our target P\n",
    "next1 <- function(P, s) {\n",
    "  # need to change s to the next alternative extension \n",
    "  last_digit <- s[length(s)]\n",
    "  if (last_digit < P) {\n",
    "    s[length(s)] <- last_digit + 1\n",
    "  } else {\n",
    "    s <- NULL  \n",
    "  }\n",
    "  return(s)\n",
    "}"
   ]
  },
  {
   "cell_type": "markdown",
   "id": "175aaa0c-5d6d-48a4-86b0-cc57ea827a3f",
   "metadata": {},
   "source": [
    "Here is an example where we have the partitions for P=10"
   ]
  },
  {
   "cell_type": "code",
   "execution_count": 3,
   "id": "8adc455f-e84f-442e-be7e-b43c862022dc",
   "metadata": {
    "scrolled": true
   },
   "outputs": [
    {
     "name": "stdout",
     "output_type": "stream",
     "text": [
      " [1] 1 1 1 1 1 1 1 1 1 1\n",
      "[1] 1 1 1 1 1 1 1 1 2\n",
      "[1] 1 1 1 1 1 1 1 3\n",
      "[1] 1 1 1 1 1 1 2 2\n",
      "[1] 1 1 1 1 1 1 4\n",
      "[1] 1 1 1 1 1 2 3\n",
      "[1] 1 1 1 1 1 5\n",
      "[1] 1 1 1 1 2 2 2\n",
      "[1] 1 1 1 1 2 4\n",
      "[1] 1 1 1 1 3 3\n",
      "[1] 1 1 1 1 6\n",
      "[1] 1 1 1 2 2 3\n",
      "[1] 1 1 1 2 5\n",
      "[1] 1 1 1 3 4\n",
      "[1] 1 1 1 7\n",
      "[1] 1 1 2 2 2 2\n",
      "[1] 1 1 2 2 4\n",
      "[1] 1 1 2 3 3\n",
      "[1] 1 1 2 6\n",
      "[1] 1 1 3 5\n",
      "[1] 1 1 4 4\n",
      "[1] 1 1 8\n",
      "[1] 1 2 2 2 3\n",
      "[1] 1 2 2 5\n",
      "[1] 1 2 3 4\n",
      "[1] 1 2 7\n",
      "[1] 1 3 3 3\n",
      "[1] 1 3 6\n",
      "[1] 1 4 5\n",
      "[1] 1 9\n",
      "[1] 2 2 2 2 2\n",
      "[1] 2 2 2 4\n",
      "[1] 2 2 3 3\n",
      "[1] 2 2 6\n",
      "[1] 2 3 5\n",
      "[1] 2 4 4\n",
      "[1] 2 8\n",
      "[1] 3 3 4\n",
      "[1] 3 7\n",
      "[1] 4 6\n",
      "[1] 5 5\n",
      "[1] 10\n"
     ]
    }
   ],
   "source": [
    "backtracker(10,NULL)"
   ]
  },
  {
   "cell_type": "markdown",
   "id": "a847f8d5-fd95-44d1-8ae1-3986f705e3a7",
   "metadata": {},
   "source": [
    "### Gray Code"
   ]
  },
  {
   "cell_type": "markdown",
   "id": "bdc7636d-17ad-4c7e-a919-5011c09cc665",
   "metadata": {},
   "source": [
    "To find a gray code, we can again use backtracking but it is of a different structure to that for integer partitioning. Here we are just searching for one possible solution, but it may take longer to travel down a path before we realise it is an incorrect one that we have to retrace. The idea here is to build up a gray code from a starting point by systematically changing one digit at a time until you either get a repeat (then you have to reject this candidate and retrace your path) or you reach a solution. \n",
    "\n",
    "For my backtracking algorithm, I start by changing the rightmost entry of the current candidate solution. If this is a repeated candidate, then I undo that and instead change the 2nd-right-most entry. I repeat this until I have a new candidate. With my new candidate I again start with the changing the right-most digit. This then recursively continues until either I have a full solution or until I have just repeats and no possible next candidates. Then I have to retrace further and change the digit one column to the left instead. "
   ]
  },
  {
   "cell_type": "code",
   "execution_count": 4,
   "id": "c950a91f-03a0-4782-a45c-62ca808100c0",
   "metadata": {},
   "outputs": [],
   "source": [
    "# INPUTS in backtracker function:\n",
    "# P is the length of our gray code \n",
    "# c is a 1xP matrix whose entries are 0s and 1s\n",
    "\n",
    "# reject a candidate when it is a repeat of a previous line\n",
    "reject <- function(P, c) {\n",
    "  if (nrow(c) == 1) { # if the matrix c has just one row, then we don't reject it yet\n",
    "    return(FALSE)\n",
    "  } else {\n",
    "    T_F <- logical(nrow(c) - 1)\n",
    "    for (i in 1:(nrow(c) - 1)) {\n",
    "      if (all(c[nrow(c), ] == c[i, ])) {   # if last row is identical with an earlier row, then TRUE\n",
    "        T_F[i] <- TRUE\n",
    "      } else {\n",
    "        T_F[i] <- FALSE\n",
    "      }\n",
    "    }\n",
    "    \n",
    "    if (sum(T_F) > 0) { # if last row is identical with an earlier row, return TRUE to reject candidate\n",
    "      return(TRUE)\n",
    "    } else {\n",
    "      return(FALSE)\n",
    "    }\n",
    "  }\n",
    "}\n",
    "\n",
    "# accept a candidate when the number of rows equals 2^P\n",
    "accept <- function(P, c) {\n",
    "  if (nrow(c) == 2^P) {\n",
    "    return(TRUE)\n",
    "  } else{\n",
    "    return(FALSE)\n",
    "  }\n",
    "}\n",
    "\n",
    "# we print our solution when it is found\n",
    "# however, we only want one solution for this problem, so we then end the function via break \n",
    "# (however this does lead to an error as it is the incorrect usage of break(), so an improvement would be to fix this)\n",
    "output <- function(P, c) {\n",
    "  print(c)\n",
    "  break()\n",
    "}\n",
    "\n",
    "# add a new row to matrix which is the same as previous last row, but with last entry switched\n",
    "first <- function(P, c) {\n",
    "  last_row <- c[nrow(c), ]\n",
    "  last_row[P] <- 1 - last_row[P]\n",
    "  c <- rbind(c, last_row)\n",
    "  row.names(c) <- NULL\n",
    "  return(c)\n",
    "}\n",
    "\n",
    "# given the current matrix in which the last row is a repeat of a previous row\n",
    "# identify the column that is different between the last and second-to-last rows (column i)\n",
    "# then delete this last row and instead change column i-1 of the second-to-last to be the new last row\n",
    "next1 <- function(P, s) {\n",
    "  last_row <- s[nrow(s), ]\n",
    "  second_last_row <- s[nrow(s) - 1, ]\n",
    "  diff_column <- which(last_row != second_last_row) \n",
    "  \n",
    "  s <- s[-nrow(s),] #remove previous last row \n",
    "  new_last_row <- s[nrow(s), ]  \n",
    "  new_last_row[diff_column-1] <- 1 - new_last_row[diff_column - 1] #create a new last row \n",
    "  s <- rbind(s, new_last_row)\n",
    "  row.names(s) <- NULL\n",
    "  \n",
    "  return(s)\n",
    "}"
   ]
  },
  {
   "cell_type": "markdown",
   "id": "774e88cd-e501-4b66-9c67-9b7a02cb1cff",
   "metadata": {},
   "source": [
    "Here is an example where we have the gray code for P=4"
   ]
  },
  {
   "cell_type": "code",
   "execution_count": 5,
   "id": "8facf194-14b2-421e-8461-519b06758359",
   "metadata": {},
   "outputs": [
    {
     "name": "stdout",
     "output_type": "stream",
     "text": [
      "      [,1] [,2] [,3] [,4]\n",
      " [1,]    0    0    0    0\n",
      " [2,]    0    0    0    1\n",
      " [3,]    0    0    1    1\n",
      " [4,]    0    0    1    0\n",
      " [5,]    0    1    1    0\n",
      " [6,]    0    1    1    1\n",
      " [7,]    0    1    0    1\n",
      " [8,]    0    1    0    0\n",
      " [9,]    1    1    0    0\n",
      "[10,]    1    1    0    1\n",
      "[11,]    1    1    1    1\n",
      "[12,]    1    1    1    0\n",
      "[13,]    1    0    1    0\n",
      "[14,]    1    0    1    1\n",
      "[15,]    1    0    0    1\n",
      "[16,]    1    0    0    0\n"
     ]
    },
    {
     "ename": "ERROR",
     "evalue": "Error in output(P, c): no loop for break/next, jumping to top level\n",
     "output_type": "error",
     "traceback": [
      "Error in output(P, c): no loop for break/next, jumping to top level\nTraceback:\n",
      "1. 1",
      "2. 2",
      "3. ⋯",
      "4. 2",
      "5. 17"
     ]
    }
   ],
   "source": [
    "backtracker(4,matrix(rep(0,4), nrow=1))"
   ]
  },
  {
   "cell_type": "markdown",
   "id": "8fb6153b-5ee1-4503-9217-c25a371f71bc",
   "metadata": {},
   "source": [
    "### Conclusions"
   ]
  },
  {
   "cell_type": "markdown",
   "id": "962e6d9e-9f7c-40d1-898d-c2de0971e178",
   "metadata": {},
   "source": [
    "The backtracker function is quite reusable as it provides the same framework for different functions and the structure of the inputs P, c can vary as is appropriate to the problem. Instead, you just have to create 5 specific functions for each different problem which is mangeable but could be quite time-consuming. \n",
    "\n",
    "There are definitely some improvements that could be made to the efficiency of both these algorithms. For the integer partition, there are more efficient cuts that could be made earlier for example so that it is not rechecking permutations of the same partition which could help reduce the time it takes to run. \n",
    "\n",
    "The gray code will only run for P less than 12 before you get a stack overflow error. This code also needs to be fixed so that it correctly exits the function after you have found one solution, whereas at the moment a break is used, but this is incorrect usage and so generates an error after printing the correct solution. However, the algorithm does successfully find a gray code for any appropriate starting vector which gives it more flexibility there. "
   ]
  }
 ],
 "metadata": {
  "kernelspec": {
   "display_name": "R",
   "language": "R",
   "name": "ir"
  },
  "language_info": {
   "codemirror_mode": "r",
   "file_extension": ".r",
   "mimetype": "text/x-r-source",
   "name": "R",
   "pygments_lexer": "r",
   "version": "4.3.3"
  }
 },
 "nbformat": 4,
 "nbformat_minor": 5
}
