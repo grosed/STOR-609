{
 "cells": [
  {
   "cell_type": "markdown",
   "id": "432087d2-ad61-4cb7-953e-06491367306e",
   "metadata": {},
   "source": [
    "**Name** :  Jasmine Burgess"
   ]
  },
  {
   "cell_type": "markdown",
   "id": "90016c48-1c8a-4065-88a8-9da763870053",
   "metadata": {},
   "source": [
    "# Quality of Source Code"
   ]
  },
  {
   "cell_type": "markdown",
   "id": "06b23ef5-cffd-4579-8f86-657e89f86fbf",
   "metadata": {},
   "source": [
    "Your source code is crap."
   ]
  },
  {
   "cell_type": "markdown",
   "id": "c554f4a1-bf18-4d06-9612-f1fa37f4c734",
   "metadata": {},
   "source": [
    "#### Mark (out of 5) : X"
   ]
  },
  {
   "cell_type": "markdown",
   "id": "f01ea80a-12a0-4d9f-98fc-bf43dfd8aa1e",
   "metadata": {},
   "source": [
    "# Solution"
   ]
  },
  {
   "cell_type": "markdown",
   "id": "2a7022ba-1c88-4d91-9f19-db0a8d4e44cb",
   "metadata": {},
   "source": []
  },
  {
   "cell_type": "markdown",
   "id": "5fb7d277-6c90-410f-a9e3-bd3db9716c00",
   "metadata": {},
   "source": [
    "#### Mark (out of 5) : X"
   ]
  },
  {
   "cell_type": "markdown",
   "id": "41422db7-4399-47fd-aa7e-7d5b2ffdefdf",
   "metadata": {},
   "source": [
    "# Understanding Design Principles"
   ]
  },
  {
   "cell_type": "markdown",
   "id": "226cbe00-60ad-479b-8fcc-9425f776999a",
   "metadata": {},
   "source": []
  },
  {
   "cell_type": "markdown",
   "id": "dd9ae9b6-b59b-4ed5-8cbf-5c302ecae0a7",
   "metadata": {},
   "source": [
    "#### Mark (out of 5) : X"
   ]
  },
  {
   "cell_type": "markdown",
   "id": "5748cc1d-fdf1-4db3-8934-d5ec4f0437d4",
   "metadata": {},
   "source": [
    "# Quality of Written Communication"
   ]
  },
  {
   "cell_type": "code",
   "execution_count": null,
   "id": "e1cdabc6-1d00-4174-9ae6-e390f74aa7fe",
   "metadata": {},
   "outputs": [],
   "source": []
  },
  {
   "cell_type": "markdown",
   "id": "576d6720-2701-44f4-9c85-c883c99daf62",
   "metadata": {},
   "source": [
    "#### Mark (out of 5) : X"
   ]
  },
  {
   "cell_type": "markdown",
   "id": "0fe85cba-ec9f-4207-b6ad-872494e7697a",
   "metadata": {},
   "source": [
    "# Overall Comments and Marks"
   ]
  },
  {
   "cell_type": "code",
   "execution_count": null,
   "id": "fd78735b-0f2c-47c4-acb9-e1d4dcf9dc60",
   "metadata": {},
   "outputs": [],
   "source": []
  },
  {
   "cell_type": "markdown",
   "id": "cc4998b4-1895-47ad-be3e-1fb8158a5b35",
   "metadata": {},
   "source": [
    "#### Overall Mark (out of 20) : X"
   ]
  }
 ],
 "metadata": {
  "kernelspec": {
   "display_name": "Python 3 (ipykernel)",
   "language": "python",
   "name": "python3"
  },
  "language_info": {
   "codemirror_mode": {
    "name": "ipython",
    "version": 3
   },
   "file_extension": ".py",
   "mimetype": "text/x-python",
   "name": "python",
   "nbconvert_exporter": "python",
   "pygments_lexer": "ipython3",
   "version": "3.12.3"
  }
 },
 "nbformat": 4,
 "nbformat_minor": 5
}
