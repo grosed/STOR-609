{
 "cells": [
  {
   "cell_type": "markdown",
   "id": "432087d2-ad61-4cb7-953e-06491367306e",
   "metadata": {},
   "source": [
    "##### Name :  Shahnaz Abdul-Hameed "
   ]
  },
  {
   "cell_type": "markdown",
   "id": "90016c48-1c8a-4065-88a8-9da763870053",
   "metadata": {},
   "source": [
    "# Quality of Source Code"
   ]
  },
  {
   "cell_type": "markdown",
   "id": "06b23ef5-cffd-4579-8f86-657e89f86fbf",
   "metadata": {},
   "source": [
    "The docstrings for the provided functions are generally good, but some type hints (not necessarily for every argument) could have been used to supplement this.\n",
    "The explanation of how to run the code and the output that is printed is clear and well-formatted.\n",
    "\n",
    "Note that `if __name__ == '__main__'` is not really required for a Jupyter notebook (since Jupyter notebooks are not usually used as modules to be imported by other programs)."
   ]
  },
  {
   "cell_type": "markdown",
   "id": "c554f4a1-bf18-4d06-9612-f1fa37f4c734",
   "metadata": {},
   "source": [
    "#### Mark (out of 5) : X"
   ]
  },
  {
   "cell_type": "markdown",
   "id": "f01ea80a-12a0-4d9f-98fc-bf43dfd8aa1e",
   "metadata": {},
   "source": [
    "# Solution"
   ]
  },
  {
   "cell_type": "markdown",
   "id": "2a7022ba-1c88-4d91-9f19-db0a8d4e44cb",
   "metadata": {},
   "source": [
    "Solutions produced are correct.\n"
   ]
  },
  {
   "cell_type": "markdown",
   "id": "5fb7d277-6c90-410f-a9e3-bd3db9716c00",
   "metadata": {},
   "source": [
    "#### Mark (out of 5) : X"
   ]
  },
  {
   "cell_type": "markdown",
   "id": "41422db7-4399-47fd-aa7e-7d5b2ffdefdf",
   "metadata": {},
   "source": [
    "# Understanding Design Principles"
   ]
  },
  {
   "cell_type": "markdown",
   "id": "226cbe00-60ad-479b-8fcc-9425f776999a",
   "metadata": {},
   "source": [
    "The recognition for the necessity of deep copying of current states to avoid contamination is good.\n",
    "However, this could have been done directly by the functions which extend or move to the next solution.\n",
    "\n",
    "The choice to have multiple branch functions rather than a single one makes the design slightly more complicated than it needs to be. For a given problem, this could be aggregated into a single function."
   ]
  },
  {
   "cell_type": "markdown",
   "id": "dd9ae9b6-b59b-4ed5-8cbf-5c302ecae0a7",
   "metadata": {},
   "source": [
    "#### Mark (out of 5) : X"
   ]
  },
  {
   "cell_type": "markdown",
   "id": "5748cc1d-fdf1-4db3-8934-d5ec4f0437d4",
   "metadata": {},
   "source": [
    "# Quality of Written Communication"
   ]
  },
  {
   "cell_type": "markdown",
   "id": "2dd7bc36-1642-4708-b0ab-8ead5cbd8851",
   "metadata": {},
   "source": [
    "The terminology used throughout to explain backtracking differs from how it is presented in the provided resource (<https://en.wikipedia.org/wiki/Backtracking>).\n",
    "Terms like `first`, `next` and extensions are not used, but instead the idea of branching functions is used.\n",
    "However the concept of branching function is not really adequately explained.\n",
    "This makes the explanation of the implementation throughout difficult to follow.\n",
    "\n",
    "For the integer partition problem, it is not clear how solutions are mutated and extended."
   ]
  },
  {
   "cell_type": "markdown",
   "id": "576d6720-2701-44f4-9c85-c883c99daf62",
   "metadata": {},
   "source": [
    "#### Mark (out of 5) : X"
   ]
  },
  {
   "cell_type": "markdown",
   "id": "0fe85cba-ec9f-4207-b6ad-872494e7697a",
   "metadata": {},
   "source": [
    "# Overall Comments and Marks"
   ]
  },
  {
   "cell_type": "markdown",
   "id": "a65f42c4-4eaa-4389-8c86-c1be63212fb2",
   "metadata": {},
   "source": []
  },
  {
   "cell_type": "markdown",
   "id": "cc4998b4-1895-47ad-be3e-1fb8158a5b35",
   "metadata": {},
   "source": [
    "#### Overall Mark (out of 20) : X"
   ]
  }
 ],
 "metadata": {
  "kernelspec": {
   "display_name": "Python 3 (ipykernel)",
   "language": "python",
   "name": "python3"
  },
  "language_info": {
   "codemirror_mode": {
    "name": "ipython",
    "version": 3
   },
   "file_extension": ".py",
   "mimetype": "text/x-python",
   "name": "python",
   "nbconvert_exporter": "python",
   "pygments_lexer": "ipython3",
   "version": "3.12.3"
  }
 },
 "nbformat": 4,
 "nbformat_minor": 5
}
