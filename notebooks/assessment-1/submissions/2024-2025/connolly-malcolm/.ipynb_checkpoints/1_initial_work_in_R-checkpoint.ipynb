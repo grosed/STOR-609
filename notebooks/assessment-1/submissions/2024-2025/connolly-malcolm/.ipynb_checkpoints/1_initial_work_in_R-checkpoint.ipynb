{
 "cells": [
  {
   "cell_type": "markdown",
   "id": "ca42f2cb-4c9a-443c-b8f4-46a54863a720",
   "metadata": {},
   "source": [
    "# STOR 609 Assignment 1 \n",
    "\n",
    "In order to get an understanding of the problems in this assessment I initially wrote separate functions to solve both problems in $\\texttt{R}$. These functions were later translated to, and generalised in, Python.\n",
    "\n",
    "My aim in this notebook is to give an account of most of the second and third items of the assessment brief in section $9.3$ using my initial code to both problems. In particular, the first bullet point and most of the third and fourth bullet points for both problems.\n",
    "- Brief explanation of how (each) problem can be solved with backtracking.\n",
    "- Source code for backtracking operations\n",
    "- Concrete example of using code to solve the problem\n"
   ]
  },
  {
   "cell_type": "markdown",
   "id": "6f78b93e-f0b4-4052-86f4-93a08b18d5d0",
   "metadata": {},
   "source": [
    "# Problem 1\n",
    "\n",
    "## Explanation of backtracking for partitions.\n",
    "\n",
    "I considered a partition as an ordered list of integers that sum to a given number $n$. For example if $n=10$, then $[6,3,1]$ is a partition, where I put the numbers in descending order. I also used an order between partitions. For example $[6,3,1]$ comes before $[6,2,2]$, which comes before $[6,2,1,1]$. This is the reverse of dictionary (lexicographic) order, where smaller numbers would normally come first.\n",
    "\n",
    "The largest possible number in a partition of $n$ is $n$ itself. The singleton list $n$ is the root.\n",
    "\n",
    "The backtracking algorithm works by completing a partial partition by suggesting the smallest current number in the list, and if this is too big, reducing it by 1 until the smallest number in the list is 1, at which point we move to the smallest number which is greater than one and reduce this by 1. The process terminates when all numbers are $1$. \n",
    "\n",
    "For example, given the partially complete partition $[6,3]$ of $10$, we would first suggest $[6,3,3]$ then $[6,3,2]$ then obtain $[6,3,1]$. We check the sum at each iteration and accept at the end of this chain. Once the last number in the list is $1$, we $\\textit{backtrack}$ to $[6,3]$, and reduce the last entry by one. The next suggested partial partition would be $[6,2]$, as we have exhausted possibilities with $3$ as the smallest number greater than $1$, and so the process continues to suggest $[6,2,2]$ then obtain $[6,2,1]$. \n",
    "\n",
    "By maintaining the order we ensure that we do not miss a partition."
   ]
  },
  {
   "cell_type": "markdown",
   "id": "98300f36-0866-499d-8566-6873ad3f3b3b",
   "metadata": {},
   "source": [
    "## R implementation - partition()\n",
    "\n",
    "I tried to keep the format of the code the same as that of the pseudocode on Wikipedia, to enable later generalisation. Below is the function I wrote and some example output."
   ]
  },
  {
   "cell_type": "code",
   "execution_count": 1,
   "id": "b6ce5e0f-19f8-4177-938f-9b5048bd9e38",
   "metadata": {},
   "outputs": [],
   "source": [
    "partition <- function(n, partial_partition){\n",
    "####################################################\n",
    "##  Function to print the partitions of a number  ##\n",
    "##  using recursive backtracking.                 ##\n",
    "##  Inputs: integer n                             ##\n",
    "##          list of integers partial_partition    ##\n",
    "##  Output: prints the partitions of n.           ##\n",
    "####################################################\n",
    "    # Reject \n",
    "    if( (sum(partial_partition) > n)){\n",
    "        return()\n",
    "    }\n",
    "    if( length(partial_partition)==0 | is.null(partial_partition)){\n",
    "        s <<- NULL\n",
    "        return()\n",
    "    }\n",
    "    \n",
    "    # Accept\n",
    "    if(sum(partial_partition) == n){\n",
    "        print(partial_partition)\n",
    "    }\n",
    "    \n",
    "    # First\n",
    "    s <<- partial_partition\n",
    "    if( sum(partial_partition) < n ){\n",
    "        s <<- c(partial_partition, partial_partition[length(partial_partition)])\n",
    "    } else {\n",
    "        s <<- s[which(s!=1)]\n",
    "        s[length(s)] <<- s[length(s)] - 1\n",
    "    }\n",
    "    \n",
    "    while( !is.null(s) && length(s)>0 ){\n",
    "        # Recursive step\n",
    "        partition(n,s)\n",
    "        \n",
    "        # Next\n",
    "        if( is.null(s) | length(s)==0){\n",
    "            break\n",
    "        }\n",
    "        if( sum(s == 1) == n){\n",
    "            s <<- NULL\n",
    "            break\n",
    "        } else {\n",
    "            s <<- s[which(s!=1)]\n",
    "            s[length(s)] <<- s[length(s)] - 1\n",
    "        }\n",
    "    }\n",
    "}"
   ]
  },
  {
   "cell_type": "markdown",
   "id": "a3cfd40e-4509-4e90-a436-2107d43b88c0",
   "metadata": {},
   "source": [
    "### Examples"
   ]
  },
  {
   "cell_type": "code",
   "execution_count": 2,
   "id": "dc6d7d0f-baa5-449b-969c-e8b47b1744cc",
   "metadata": {},
   "outputs": [
    {
     "name": "stdout",
     "output_type": "stream",
     "text": [
      "[1] 5\n",
      "[1] 4 1\n",
      "[1] 3 2\n",
      "[1] 3 1 1\n",
      "[1] 2 2 1\n",
      "[1] 2 1 1 1\n",
      "[1] 1 1 1 1 1\n"
     ]
    }
   ],
   "source": [
    "partition(5, c(5))"
   ]
  },
  {
   "cell_type": "code",
   "execution_count": 3,
   "id": "c14290d3-dc5c-4a77-9ce7-555fafacac39",
   "metadata": {},
   "outputs": [
    {
     "data": {
      "text/html": [
       "42"
      ],
      "text/latex": [
       "42"
      ],
      "text/markdown": [
       "42"
      ],
      "text/plain": [
       "[1] 42"
      ]
     },
     "metadata": {},
     "output_type": "display_data"
    }
   ],
   "source": [
    "partition(10,c(10)) |> capture.output() |> length()"
   ]
  },
  {
   "cell_type": "markdown",
   "id": "cf113642-db9d-4b4d-a83a-8d427e7318ea",
   "metadata": {},
   "source": [
    "# Problem 2\n",
    "## Explanation of backtracking for Gray codes."
   ]
  },
  {
   "cell_type": "markdown",
   "id": "6848c6de-7867-4dfb-b29b-f4d6c4b51c64",
   "metadata": {},
   "source": [
    "A gray code is a sequence of binary codewords of length $n$ where each subsequent codeword differs from the previous one by only one bit, and the last codeword is one bit away from the starting codeword. As the codewords are binary there are two choices for each bit, and all the choices multiply so the code is of length $2^n$.\n",
    "\n",
    "For example consider $n=2$. Here a gray code is a sequence of length $2^2=4$: \n",
    "\n",
    "$$00\\to 01 \\to 11 \\to 10.$$\n",
    "\n",
    "To get the next codeword in a partial sequence one can try to always flip the rightmost bit, and check if this new codeword is already in the sequence. For example,\n",
    "\n",
    "$$00 \\to 01 \\to 00 \\ \\times$$\n",
    "\n",
    "If the new codeword is already in the sequence, we can $\\textit{backtrack}$ to the previous word and try next to flip the bit one place to the left of the previous attempt. Here, that gives the partial sequence:\n",
    "\n",
    "$$00 \\to 01 \\to 11 \\checkmark$$\n",
    "\n",
    "We may need to do this multiple times working from right to left. For my implementation I store the position of the bit which was last changed, so that when backtracking one can decrement the value of this position to find the next bit location. "
   ]
  },
  {
   "cell_type": "markdown",
   "id": "6377161d-6080-4440-bd19-e8cd281383e0",
   "metadata": {},
   "source": [
    "## R implementation - gray_code()\n",
    "\n",
    "Again I kept to the same general format as on Wikipedia. However in the accept section I introduced an early return clause. "
   ]
  },
  {
   "cell_type": "code",
   "execution_count": 4,
   "id": "2127465e-2de5-4bc2-ba43-11844474a995",
   "metadata": {},
   "outputs": [],
   "source": [
    "gray_code <- function(n, part_code){\n",
    "#######################################################\n",
    "##  Function to print a binary gray code of a given  ##\n",
    "##  codeword length using recursive backtracking.    ##\n",
    "##  Inputs: integer n                                ##\n",
    "##          list of lists of integers part_code      ##\n",
    "##          (codewords are lists of integers)        ##\n",
    "##  Output: prints a gray code.                      ##\n",
    "##  Example: for a gray code of codeword length 3    ##\n",
    "##           initial codeword 000, call              ##\n",
    "##           gray(3, list(rep(0,3)))                 ##\n",
    "#######################################################\n",
    "  # Reject\n",
    "  if( length(unique(part_code)) < length(part_code)){\n",
    "    return()\n",
    "  }\n",
    "    \n",
    "  # Accept\n",
    "  # if the correct length and only 1 bit away from the start (circular property)\n",
    "  if(length(part_code) == 2^n && sum(part_code[[length(part_code)]]) == 1){\n",
    "    print(part_code)\n",
    "    return()\n",
    "  }\n",
    "  \n",
    "  # First\n",
    "  s <<- part_code\n",
    "  #000 is encountered initially\n",
    "  if( sum(s[[length(s)]] == rep(0,n)) == n && length(s) == 1){\n",
    "    # start at least sig. bit - a pointer to which digit should flip next\n",
    "    s_index <<- n\n",
    "    s_index <<- c(s_index)\n",
    "    # change last bit of first codeword e.g. 000 to 001\n",
    "    last_codeword <- s[[length(s)]] \n",
    "    last_codeword[s_index[length(s_index)]] <- (last_codeword[s_index[length(s_index)]] + 1)%%2\n",
    "    s <<- c(s, list(last_codeword))\n",
    "  } else{\n",
    "    s_index <<- c(s_index,n)\n",
    "    last_codeword <- s[[length(s)]]\n",
    "    last_codeword[s_index[length(s_index)]] <- (last_codeword[s_index[length(s_index)]] + 1)%%2\n",
    "    s <<- c(s, list(last_codeword))\n",
    "  }\n",
    "  \n",
    "  while( length(s) < 2^n + 1){\n",
    "    gray_code(n,s)\n",
    "    \n",
    "    # Next\n",
    "    if(length(s) == 2^n && sum(s[[length(s)]]) == 1){\n",
    "      break\n",
    "    }\n",
    "    else if( s_index[length(s_index)] == 1){\n",
    "      # remove the last entry (1) and decrement previous value\n",
    "      s_index <<- s_index[-length(s_index)]\n",
    "      previous_index <- s_index[length(s_index)]\n",
    "      previous_index <- previous_index - 1\n",
    "      s_index <<- s_index[-length(s_index)]\n",
    "      s_index <<- c(s_index, previous_index)\n",
    "      s <<- s[-length(s)]\n",
    "    } else {\n",
    "      # decrement last value\n",
    "      last_index <- s_index[length(s_index)]\n",
    "      last_index <- last_index - 1\n",
    "      s_index <<- s_index[-length(s_index)]\n",
    "      s_index <<- c(s_index, last_index)\n",
    "      # set last codeword of s to be penultimate one with flipped bit at s_index\n",
    "      # first remove the last code word\n",
    "      s <<- s[-length(s)]\n",
    "      last_codeword <- s[[length(s)]]\n",
    "      last_codeword[s_index[length(s_index)]] <- (last_codeword[s_index[length(s_index)]] + 1)%%2\n",
    "      s <<- c(s, list(last_codeword))\n",
    "    }\n",
    "  }\n",
    "}"
   ]
  },
  {
   "cell_type": "code",
   "execution_count": 5,
   "id": "27996dc3-88c7-46de-88e6-95f4bfc4f356",
   "metadata": {},
   "outputs": [
    {
     "name": "stdout",
     "output_type": "stream",
     "text": [
      "[[1]]\n",
      "[1] 0 0 0\n",
      "\n",
      "[[2]]\n",
      "[1] 0 0 1\n",
      "\n",
      "[[3]]\n",
      "[1] 0 1 1\n",
      "\n",
      "[[4]]\n",
      "[1] 0 1 0\n",
      "\n",
      "[[5]]\n",
      "[1] 1 1 0\n",
      "\n",
      "[[6]]\n",
      "[1] 1 1 1\n",
      "\n",
      "[[7]]\n",
      "[1] 1 0 1\n",
      "\n",
      "[[8]]\n",
      "[1] 1 0 0\n",
      "\n"
     ]
    }
   ],
   "source": [
    "gray_code(3,list(rep(0,3))) "
   ]
  },
  {
   "cell_type": "markdown",
   "id": "e53a743a-a1e9-427e-8096-4a7ab3194b27",
   "metadata": {},
   "source": [
    "This output is a printout of the list of lists, with each list item printed over $3$ lines. To verify the output length we can divide the captured print output by $3$ and check the correct code length ($=2^n$)."
   ]
  },
  {
   "cell_type": "code",
   "execution_count": 6,
   "id": "20a14125-858d-43d7-98e2-75c55f05f493",
   "metadata": {},
   "outputs": [
    {
     "data": {
      "text/html": [
       "1024"
      ],
      "text/latex": [
       "1024"
      ],
      "text/markdown": [
       "1024"
      ],
      "text/plain": [
       "[1] 1024"
      ]
     },
     "metadata": {},
     "output_type": "display_data"
    }
   ],
   "source": [
    "gray_code(10,list(rep(0,10))) |> capture.output() |> length()/3"
   ]
  }
 ],
 "metadata": {
  "kernelspec": {
   "display_name": "R",
   "language": "R",
   "name": "ir"
  },
  "language_info": {
   "codemirror_mode": "r",
   "file_extension": ".r",
   "mimetype": "text/x-r-source",
   "name": "R",
   "pygments_lexer": "r",
   "version": "4.4.1"
  }
 },
 "nbformat": 4,
 "nbformat_minor": 5
}
