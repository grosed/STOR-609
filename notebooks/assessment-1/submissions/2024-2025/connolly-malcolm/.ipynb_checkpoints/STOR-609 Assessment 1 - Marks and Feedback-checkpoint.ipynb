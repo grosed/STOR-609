{
 "cells": [
  {
   "cell_type": "markdown",
   "id": "432087d2-ad61-4cb7-953e-06491367306e",
   "metadata": {},
   "source": [
    "**Name** :  Malcolm Connoly"
   ]
  },
  {
   "cell_type": "markdown",
   "id": "90016c48-1c8a-4065-88a8-9da763870053",
   "metadata": {},
   "source": [
    "# Quality of Source Code"
   ]
  },
  {
   "cell_type": "markdown",
   "id": "06b23ef5-cffd-4579-8f86-657e89f86fbf",
   "metadata": {},
   "source": [
    "- Your code (both R and python) is good quality.\n",
    "- You have supported your code with effective descriptions and comments."
   ]
  },
  {
   "cell_type": "markdown",
   "id": "c554f4a1-bf18-4d06-9612-f1fa37f4c734",
   "metadata": {},
   "source": [
    "#### Mark (out of 5) : 5"
   ]
  },
  {
   "cell_type": "markdown",
   "id": "f01ea80a-12a0-4d9f-98fc-bf43dfd8aa1e",
   "metadata": {},
   "source": [
    "# Solution"
   ]
  },
  {
   "cell_type": "markdown",
   "id": "2a7022ba-1c88-4d91-9f19-db0a8d4e44cb",
   "metadata": {},
   "source": [
    "- For both problems you have provided example code that produces a correct solution. \n",
    "- Your code is designed so that it was easy for me to change the problem and produce further correct solutions (i.e. your code is both **re-usable** and **re-runnable**)\n",
    "\n",
    "\n"
   ]
  },
  {
   "cell_type": "markdown",
   "id": "5fb7d277-6c90-410f-a9e3-bd3db9716c00",
   "metadata": {},
   "source": [
    "#### Mark (out of 5) : 5"
   ]
  },
  {
   "cell_type": "markdown",
   "id": "41422db7-4399-47fd-aa7e-7d5b2ffdefdf",
   "metadata": {},
   "source": [
    "# Understanding Design Principles"
   ]
  },
  {
   "cell_type": "markdown",
   "id": "226cbe00-60ad-479b-8fcc-9425f776999a",
   "metadata": {},
   "source": [
    " - You have provided an implementation for a generic backtracking algorithm which is immediately recognisable as such when compared with the [pseudo code provided](https://en.wikipedia.org/wiki/Backtracking).\n",
    "- You have employed several design principles that improve the re-usability of your code, for example, a class template for producing objects which represent different problem types and to encapsulate state.\n",
    "- You have considered issues regarding global state in your program and attempted to mitigate them.\n",
    "\n",
    "**Notes**\n",
    "\n",
    "- It would be useful for you to consider the computational complexity of your methods in more detail (i.e. how much extra \"computation\" is required as your problem size increases). This is particularly relevant given that you have used both R an python (the need for deep copies in python may impact on the computational cost).  \n"
   ]
  },
  {
   "cell_type": "markdown",
   "id": "dd9ae9b6-b59b-4ed5-8cbf-5c302ecae0a7",
   "metadata": {},
   "source": [
    "#### Mark (out of 5) : 4.5"
   ]
  },
  {
   "cell_type": "markdown",
   "id": "5748cc1d-fdf1-4db3-8934-d5ec4f0437d4",
   "metadata": {},
   "source": [
    "# Quality of Written Communication"
   ]
  },
  {
   "cell_type": "markdown",
   "id": "c50b1125-3249-4ffa-8289-7d37aa601f17",
   "metadata": {},
   "source": [
    "- You have provided some very high quality supporting material. Importantly, you have discussed your main design choices and reflected on how they impact on **re-susability**. \n",
    "- You have also considered potential alternatives for your design and contrasted these with the ones you have implemented. This type of reflective practice is of great value (though often overlooked) in software development.\n",
    "\n",
    "**Suggestion**\n",
    "\n",
    "- It would be really good if you also provided pseudo code for each of your **accept**, **reject**, **first**, and **next** methods."
   ]
  },
  {
   "cell_type": "markdown",
   "id": "576d6720-2701-44f4-9c85-c883c99daf62",
   "metadata": {},
   "source": [
    "#### Mark (out of 5) : 4.5"
   ]
  },
  {
   "cell_type": "markdown",
   "id": "0fe85cba-ec9f-4207-b6ad-872494e7697a",
   "metadata": {},
   "source": [
    "# Overall Comments and Marks"
   ]
  },
  {
   "cell_type": "markdown",
   "id": "f4ef7fe2-41a2-4847-81ef-acc8557ece5f",
   "metadata": {},
   "source": [
    "- Very high quality work. I am impressed by the amount consideration you have given to alternative ways of designing and implementing your code.\n",
    "\n",
    "- In addition, you have demonstrated your ability to code using two different programming systems and understood dome of the differences in the idioms they use, for example, having to make deep copies of mutable data structures in python when using recursion that \"bactracks\".\n",
    "Given your interest in other languages you might like to experiment  with Julia or, if you really want to push the boat out, F sharp. Both these languages support programming paradigms that are not available in R or python, and F sharp has full support for tail end recursion. However, I do realise you have to be pragmatic given your busy workload !!\n",
    "\n",
    "**Notes**\n",
    "\n",
    "- The recursion limit is not related to the \"power\" of the computer. It is a consequence of the design of the R programming system. This has some major implications in the sense that many useful algorithms are best expressed recursively. Of course, any recursive algorithm can be expressed using iteration (and vice versa). \n",
    "\n",
    "- Do you remember looking at bitwise operations in the **Introductory Python Course** ? How might they be useful in the context of this assignment ? \n",
    "\n",
    "    "
   ]
  },
  {
   "cell_type": "markdown",
   "id": "cc4998b4-1895-47ad-be3e-1fb8158a5b35",
   "metadata": {},
   "source": [
    "#### Overall Mark (out of 20) : X"
   ]
  }
 ],
 "metadata": {
  "kernelspec": {
   "display_name": "Python 3 (ipykernel)",
   "language": "python",
   "name": "python3"
  },
  "language_info": {
   "codemirror_mode": {
    "name": "ipython",
    "version": 3
   },
   "file_extension": ".py",
   "mimetype": "text/x-python",
   "name": "python",
   "nbconvert_exporter": "python",
   "pygments_lexer": "ipython3",
   "version": "3.12.3"
  }
 },
 "nbformat": 4,
 "nbformat_minor": 5
}
