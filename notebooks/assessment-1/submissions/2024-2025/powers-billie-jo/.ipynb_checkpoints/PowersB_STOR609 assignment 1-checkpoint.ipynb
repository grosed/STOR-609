{
 "cells": [
  {
   "cell_type": "markdown",
   "id": "8d15c942-0829-48a9-a147-28ba1bb22813",
   "metadata": {},
   "source": [
    "# Assessment 1 - Back Tracking algorithm"
   ]
  },
  {
   "cell_type": "markdown",
   "id": "f317c2c3-9d0f-47cd-97d7-78a86e61cdc5",
   "metadata": {},
   "source": [
    "## Generic Backtracking Algorithm "
   ]
  },
  {
   "cell_type": "markdown",
   "id": "d8ca58ed-def5-456f-b7fd-0b5eed12d505",
   "metadata": {},
   "source": [
    "\n",
    "In this coursework, we want to make a generic backtracking algorithm, which can be used in a reproducible fashion to give solutions for both problems of finding all the partitions of an integer $n$ and for finding a Gray code for an integer $n$. \n"
   ]
  },
  {
   "cell_type": "markdown",
   "id": "d5f44100-e636-44a5-a92a-db5f9e41f611",
   "metadata": {},
   "source": [
    "In my implementation of backtracking, the algorithm requires three pieces of information (excluding the functions specific to the algorithm). The first require information is $n$, which specifies the end goal of the code, i.e. gives the integer we wish to partition.\n",
    "\n",
    "The second input is named $Part$, meaning \"partial solution\", which we often initially set to zero. This is then edited throughout the code until a complete solution is found. \n",
    "\n",
    "The final input required is $c$, which gives information about how the partial solution should be edited. As an example, in the partitioning code, $c$ will give the integer we wish to add to the current partition. When we reach a partial solution that is rejected, this parameter is increased by 1, up to a maximum of $n$, when $c$ becomes larger than $n$, we leave the while loop of the backtracking pseudocode. \n"
   ]
  },
  {
   "cell_type": "markdown",
   "id": "8688a13d-93eb-4c7c-aed6-97b672853ebc",
   "metadata": {},
   "source": [
    "We use the following generic algorithm, where the input reuired with first be the functions that correspond to the specific algorithm you wish to complete, these functions are as follows, where every function expects the same input $n$, $Part$ and $c$:\n",
    "\n",
    " - accept: Will check to see if $Part$ is a valid solution to the problem.\n",
    " - reject: Will return TRUE if the current $Part$ cannot be edited to give a valid result (for example in the partitioning algorithm, adding to a partial solution $P$ with a sum greater than $n$ will always give a result too big, so the partial solution should be completely discarded)\n",
    " - first: This will give information as to how the partial solution should be edited in the next step.\n",
    " - second: Updates the current solution by editing according to what $c$ is. In the Wikipedia pseudocode, this is called next, but I have changed this as next is already a function in R. \n"
   ]
  },
  {
   "cell_type": "code",
   "execution_count": 1,
   "id": "79c30409-27be-438f-afe5-adad560b37d7",
   "metadata": {},
   "outputs": [],
   "source": [
    "backtrack <- function(accept,\n",
    "                      reject,\n",
    "                      output,\n",
    "                      first,\n",
    "                      second,\n",
    "                      n,\n",
    "                      Part,\n",
    "                      c) {\n",
    "    if (reject(n,Part,c) == TRUE){\n",
    "        #if the current partial solution can never be valid, we want to leave the current loop  \n",
    "        return()\n",
    "    }\n",
    "    if (accept(n,Part,c) == TRUE){\n",
    "        #if the Part is a valid solution, output Part\n",
    "        output(n,Part,c)\n",
    "        return()\n",
    "    }\n",
    "    #set the first amendment parameter\n",
    "    s <- first(n,Part,c) \n",
    "    while (s <= n){\n",
    "        #update the partial solution using the amendment parameter\n",
    "        new_part <- second(n,Part,s)\n",
    "        #run backtrack again with the new partial solution\n",
    "        backtrack(accept, reject, output, first, second, n, new_part,s)\n",
    "        #increase ammendment parameter \n",
    "        s <- s+1\n",
    "    }\n",
    "}\n"
   ]
  },
  {
   "cell_type": "markdown",
   "id": "39d1ebd7-1077-45b6-84a1-1de8e2f42cf6",
   "metadata": {},
   "source": [
    "## Partitioning "
   ]
  },
  {
   "cell_type": "markdown",
   "id": "e4d3ebda-cbb6-4bd2-9bdb-d7a749a6e0d1",
   "metadata": {},
   "source": [
    "For the partitioning algorithm, we want to find all possible integer partitions of a given value $n$. Below are the functions \"reject, accept, output, first, second\" specific to the partitioning algorithm. I will give a brief explanation of what each function aims to do:\n",
    "\n",
    " - reject_partition: This function checks if the current partial solution has a sum greater than $n$, if it does the solution is invalid and adding to it will never give a valid solution, so we want to reject it, so the function will output FALSE.\n",
    " - accept_partition: This function checks if the sum of the partial solution is equal to $n$, if it is, then this is a valid solution and so accept is set to TRUE.\n",
    " - output_partition: This will print the partial solution.\n",
    " - first_partition: Sets the number that we want to add to the current partial solution, which is the input $c$, at some point in the code this is called $s$, the impact is the same.\n",
    " - second_partition: This function updates the current partial solution by adding the last input ($c$) to the partial solution. \n"
   ]
  },
  {
   "cell_type": "code",
   "execution_count": 2,
   "id": "966ddda2-4606-46fc-8193-4b4892d42f6b",
   "metadata": {},
   "outputs": [],
   "source": [
    "reject_partition <- function(n, Part, c) {\n",
    "  #reject if the sum of P exceeds n\n",
    "  if (sum(Part) > n) {\n",
    "    return(TRUE)\n",
    "  }\n",
    "  return(FALSE)\n",
    "}\n",
    "\n",
    "accept_partition <- function(n, Part, c) {\n",
    "  #accept if the sum of P equals n\n",
    "  if (sum(Part) == n) {\n",
    "    return(TRUE)\n",
    "  }\n",
    "  return(FALSE)\n",
    "}\n",
    "\n",
    "output_partition <- function(n,P,s) {\n",
    "  #prints any valid partition\n",
    "  print(P)\n",
    "}\n",
    "\n",
    "first_partition <- function(n, P, c) {\n",
    "  #the first number added to the partition is c\n",
    "  return(c)\n",
    "}\n",
    "\n",
    "second_partition <- function(n, P, s) {\n",
    "  #extends current partition by adding s\n",
    "  return(c(P, s))\n",
    "}"
   ]
  },
  {
   "cell_type": "markdown",
   "id": "6d069bac-7133-40f6-a53b-ee3c33576152",
   "metadata": {},
   "source": [
    "Below we have an implementation of the backtracking code for the partitioning algorithm, the algorithm has been tested and gives correct solutions for integers up to 20. Here, the input for the first partial solution is just integer(0). "
   ]
  },
  {
   "cell_type": "code",
   "execution_count": 3,
   "id": "4bbffe21-7233-4a4c-85f6-069395803f34",
   "metadata": {},
   "outputs": [
    {
     "name": "stdout",
     "output_type": "stream",
     "text": [
      "[1] 1 1 1 1 1\n",
      "[1] 1 1 1 2\n",
      "[1] 1 1 3\n",
      "[1] 1 2 2\n",
      "[1] 1 4\n",
      "[1] 2 3\n",
      "[1] 5\n"
     ]
    }
   ],
   "source": [
    "find_part <- function(n){\n",
    "    backtrack(accept_partition, reject_partition,output_partition,first_partition,second_partition, n, integer(0),1)\n",
    "}\n",
    "find_part(5)"
   ]
  },
  {
   "cell_type": "markdown",
   "id": "9a694884-23dd-4986-a905-a91f7d74eed4",
   "metadata": {},
   "source": [
    "## Gray code"
   ]
  },
  {
   "cell_type": "markdown",
   "id": "d21a5335-d428-4054-9ba7-86bd1b78ddbf",
   "metadata": {},
   "source": [
    "For this algorithm, we want to find a Gray code for an integer $n$. In this case, I have chosen to assume that the initial partial solution $Part$ will be a matrix with 1 row and $n$ columns where the entries are all zero. The input $c$ in this case gives the column that we want to edit in the next partial solution. The general approach of the algorithm is that it will \"flip\" the $c^{th}$ entry of the last row in the partial solution and add that as a new row to the partial solution. The code will then run backtrack on the the new partial solution, and if it is not a valid flip, will remove that row from the matrix and repeat the process with the $(c+1)^{th}$ entry."
   ]
  },
  {
   "cell_type": "markdown",
   "id": "2f1a0655-0c83-4281-93fd-e1ab6da6ad50",
   "metadata": {},
   "source": [
    "The below code gives the reject function used for the Gray code version of the backtracking code. The idea of this function is that it ensures that the current partial solution does not have any repeated rows, and that each row has exactly 1 entry different from the row directly above it. This is done using the \"no_repeats\" and \"one_change\" vectors respectively. "
   ]
  },
  {
   "cell_type": "code",
   "execution_count": 4,
   "id": "d00f41a4-b703-47f5-87b8-80482101c1e6",
   "metadata": {},
   "outputs": [],
   "source": [
    "reject_gray <- function(n, Part ,c){\n",
    "    #Find the number of rows    \n",
    "    size_mat <- nrow(Part)\n",
    "    #Ensure we do not reject at the first step\n",
    "    if (size_mat == 1){\n",
    "        return(FALSE)\n",
    "    }  \n",
    "\n",
    "    #set up vector to check only one chnge at each step\n",
    "    one_change <- c()\n",
    "    for (i in 1:size_mat-1){\n",
    "        #checkes that all but one of the row entries are the same\n",
    "        if (sum(Part[i,] == Part[i+1,]) == (n-1)){\n",
    "            one_change <- c(one_change, TRUE)\n",
    "        }\n",
    "        else{\n",
    "            one_change <- c(one_change, FALSE)\n",
    "        }\n",
    "    }\n",
    "    #set up vector to find identical rows \n",
    "    no_repeats <- c()\n",
    "    for (i in 1:(size_mat-1)){\n",
    "        #for loop to check the final row (gray code currently being checked) with every other row used in the gray code thus far\n",
    "        if (sum(Part[size_mat,] == Part[i,]) == n){\n",
    "            #the sum will be n if the rows are identical, in which case we reject\n",
    "            no_repeats <- c(no_repeats, TRUE)\n",
    "        }\n",
    "        else{\n",
    "            no_repeats <- c(no_repeats, FALSE)\n",
    "        }\n",
    "    }\n",
    "    if ((sum(no_repeats) == 0) & (sum(one_change) == (size_mat-1))){\n",
    "        #we dont want to reject if every row is different, and only one change happens after each row\n",
    "        return(FALSE)\n",
    "    }\n",
    "    else{\n",
    "        #rejects if any two rows are the same or more than one change happens between consecutive rows\n",
    "        return(TRUE)\n",
    "    }   \n",
    "}\n",
    "\n"
   ]
  },
  {
   "cell_type": "markdown",
   "id": "dc72ff2f-28d8-40d9-9701-c82eebc1a112",
   "metadata": {},
   "source": [
    "The following code gives the accept and output functions specific to the Gray code. The accept function will return true when the partial solution has $2^n$ rows and so is a complete Gray code. \n",
    "\n",
    "For the output function, the priority of the function is to print the accepted Gray code. However, I found that when running, the code would continue until it found every possible Gray code. To prevent this, I have added a break line to the function, as we only need to print one full solution. As a result of this, after the code outputs a (correct) gray code for the integer $n$, it gives an error message due to the break. I could not find a way to remove this issue. "
   ]
  },
  {
   "cell_type": "code",
   "execution_count": 5,
   "id": "a9db8278-575f-47ca-b69c-6b25d8cb8f0e",
   "metadata": {},
   "outputs": [],
   "source": [
    "accept_gray <- function(n, Part ,s){\n",
    "    #checks the size of the matrix, will only accept a complete gray code  \n",
    "    mat_size = nrow(Part)\n",
    "    if (mat_size == 2^n){\n",
    "        return(TRUE)\n",
    "    }\n",
    "    else{\n",
    "        return(FALSE)\n",
    "    }\n",
    "}\n",
    "\n",
    "output_gray <- function(n,Part,s){\n",
    "    #prints the completed gray code\n",
    "    print(Part)\n",
    "    #forces the code to stop after finding one complete Gray code\n",
    "    break\n",
    "}\n"
   ]
  },
  {
   "cell_type": "markdown",
   "id": "38419340-771e-4f7b-a3c8-d6045ee20a31",
   "metadata": {},
   "source": [
    "Finally, the below code gives the first and second functions specific to the Gray code. The first function always returns 1, as we will always want to start by editing the first entry in the row, if this is not a valid option the code will then move along the columns until it finds a valid flip. \n",
    "\n",
    "The second function appends the current partial matrix. It does this by making a copy of the last row, flipping the $s^{th}$ entry of the row and adding it to the current solution. The use of $s$ here instead of $c$ is to ensure the while loop works."
   ]
  },
  {
   "cell_type": "code",
   "execution_count": 6,
   "id": "520c7c72-c159-40cd-9958-679b708ddf09",
   "metadata": {},
   "outputs": [],
   "source": [
    "first_gray <- function(n, Part, s) {\n",
    "    return(1)\n",
    "}\n",
    "\n",
    "second_gray <- function(n,Part,s){\n",
    "    #removes last row if change was invalid\n",
    "    if (reject_gray(n,Part,s) == TRUE){\n",
    "        Part <- Part[-nrow(Part),]\n",
    "    }\n",
    "    size_mat <- nrow(Part)\n",
    "    #isolates last row\n",
    "    last_row <- Part[size_mat,]\n",
    "    #changes the s entry of the final row\n",
    "    last_row[s] <- 1-last_row[s]\n",
    "    #adds the edited row to the matrix \n",
    "    return(rbind(Part,last_row))\n",
    "}\n"
   ]
  },
  {
   "cell_type": "markdown",
   "id": "3917fbbc-e2b4-4e37-acf0-fb7ef6c75f64",
   "metadata": {},
   "source": [
    "Below we have an example of the algorithm being implemented to find a gray code of length 3 in the same style as the partitioning code. Here, the initial $Part$ input is a one row matrix with $n$ zeros. The output is then a matrix with $2^n$ rows and $n$ columns. The error message, as explained earlier is related to the break line in the output function. With the break line, this code is capable of finding a Gray code for integers up to (and including 10), without the break it is only successful for integers up to 4.  "
   ]
  },
  {
   "cell_type": "code",
   "execution_count": 7,
   "id": "ff3ca488-5559-4b0d-8abe-e8c405ba2eb1",
   "metadata": {},
   "outputs": [
    {
     "name": "stdout",
     "output_type": "stream",
     "text": [
      "         [,1] [,2] [,3]\n",
      "            0    0    0\n",
      "last_row    1    0    0\n",
      "last_row    1    1    0\n",
      "last_row    0    1    0\n",
      "last_row    0    1    1\n",
      "last_row    1    1    1\n",
      "last_row    1    0    1\n",
      "last_row    0    0    1\n"
     ]
    },
    {
     "ename": "ERROR",
     "evalue": "Error in output(n, Part, c): no loop for break/next, jumping to top level\n",
     "output_type": "error",
     "traceback": [
      "Error in output(n, Part, c): no loop for break/next, jumping to top level\nTraceback:\n",
      "1. 1",
      "2. 2",
      "3. ⋯",
      "4. 2",
      "5. 9",
      "6. 10"
     ]
    }
   ],
   "source": [
    "find_gray <- function(n) {\n",
    "    backtrack(accept_gray,\n",
    "              reject_gray,\n",
    "              output_gray,\n",
    "              first_gray,\n",
    "              second_gray,\n",
    "              n,\n",
    "              matrix(rep(0,n), nrow = 1),\n",
    "              1)\n",
    "}\n",
    "find_gray(3)"
   ]
  },
  {
   "cell_type": "markdown",
   "id": "1eb314ca-a98e-4de9-b9a7-01a531856e00",
   "metadata": {},
   "source": [
    "## Conclusions "
   ]
  },
  {
   "cell_type": "markdown",
   "id": "0bd67af3-1984-4a70-bb21-ee495460f6eb",
   "metadata": {},
   "source": [
    "Overall, I think my implementation of the code worked well in terms of reusability, particularly the generic backtracking algorithm, as I was able to use exactly the same backtracking code for both partitioning and the Gray code. I also feel the use of $s$ is works well as it is more intuitive to have the while loop run until $s$ exceeds the input parameter $n$. \n",
    "\n",
    "However, I think the use of the $c$ parameter may reduce the reusability of the code for two reasons. This first being that if the problem being solved using backtracking had a more complicated input than just an integer $n$, then the code would not run well. Also it would have been preferable the code could have not required $s$ as an input, but instead could have set it up within the code automatically.\n",
    "\n",
    "My code is also relatively slow, particularly when running the Gray code, as there is likely ways to ensure that the code does not start considering potential solutions which will lead nowhere sooner. As an example, in the partitioning code, if I were to ask it to find all the partitions of $4$, my current code would test $1, 1, 1, 2$ and $1, 1, 1 ,3$, so it would be preferable if the code could identify immediately that it should not continue working with partial solutions with three 1's earlier. \n",
    "\n",
    "The final problem my code would need to address is the error in the Gray code due to the break line which prevents overrunning. A way to address this problem may be to approach the backtracking in a more similar way to the pseudocode used in the Wikipedia page. The main difference between that pseudocode and my algorithm is the placement of the \"next\" function, as in my code the function is before the backtracking step, which worked better with my interpretation of the variable $s$, however, in the time available I could not rework my code to fit the alternative pseudocode, but is something I would have liked to have completed. "
   ]
  }
 ],
 "metadata": {
  "kernelspec": {
   "display_name": "R",
   "language": "R",
   "name": "ir"
  },
  "language_info": {
   "codemirror_mode": "r",
   "file_extension": ".r",
   "mimetype": "text/x-r-source",
   "name": "R",
   "pygments_lexer": "r",
   "version": "4.3.3"
  }
 },
 "nbformat": 4,
 "nbformat_minor": 5
}
