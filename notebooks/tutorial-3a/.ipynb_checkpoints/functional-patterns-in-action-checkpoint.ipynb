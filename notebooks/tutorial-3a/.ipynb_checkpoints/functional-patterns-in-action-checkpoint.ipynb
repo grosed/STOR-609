{
 "cells": [
  {
   "cell_type": "markdown",
   "id": "bf4ed548-5c45-4eb7-be1f-6a3152182cf7",
   "metadata": {},
   "source": [
    "# <ins>Tutorial 3a - Functional Patterns in action</ins>"
   ]
  },
  {
   "cell_type": "markdown",
   "id": "130e7a7b-4ef9-481e-9e27-f56b7361b786",
   "metadata": {},
   "source": [
    "The object of this tutorial is to solve one or more computational problems using algorithms that, where appropriate, employ some of the patterns introduced in  **Lecture 3a - Functional Patterns**. \n"
   ]
  },
  {
   "cell_type": "markdown",
   "id": "641d9530-d820-490f-8693-be0c6073e67a",
   "metadata": {},
   "source": [
    "Try to employ some of the best practices below if you can "
   ]
  },
  {
   "cell_type": "markdown",
   "id": "6f40877d-4663-45bf-91a5-d5335ccc9440",
   "metadata": {},
   "source": [
    "<figure>\n",
    "<img src=\"./best-practices.png\" style=\"height:60%\">\n",
    "</figure>"
   ]
  },
  {
   "cell_type": "markdown",
   "id": "f8e4c268-4e96-4978-a629-7a2f75288bd1",
   "metadata": {},
   "source": [
    "### Pseudo Code in Markdown"
   ]
  },
  {
   "cell_type": "markdown",
   "id": "3ed72a11-679d-494d-a5c2-68da32ac479a",
   "metadata": {},
   "source": [
    "\n",
    "You might find the following example markdown code useful\n",
    "\n",
    "> **Algorithm** parameters: step size  $\\alpha \\in (0 , 1] , \\epsilon > 0$   \n",
    "Initialize  $Q  ( s, a ), \\  \\forall s \\in S^+ , a \\in A ( s ),$ arbitrarily except that $Q ( terminal , \\cdot ) = 0$    \n",
    ">\n",
    "> Loop for each episode:  \n",
    "$\\quad$Initialize $S$   \n",
    "$\\quad$Loop  for  each  step  of  episode:    \n",
    "$\\qquad$Choose  $A$ from $S$ using some policy derived from $Q$ (eg $\\epsilon$-greedy)   \n",
    "$\\qquad$Take action $A$, observe $R, S'$   \n",
    "$\\qquad Q(S,A) \\leftarrow Q(S,A) + \\alpha[R+\\gamma \\max_a(S', a) - Q(S, A)]$   \n",
    "$\\qquad S \\leftarrow S'$    \n",
    "$\\quad$ until $S$ is terminal"
   ]
  },
  {
   "cell_type": "markdown",
   "id": "97852de5-3cc4-4281-ad45-2ae69721a6b5",
   "metadata": {},
   "source": [
    "### Pseudo Code in LaTeX"
   ]
  },
  {
   "cell_type": "markdown",
   "id": "a4115918-bce0-4753-83d7-2e5e9c0cac2d",
   "metadata": {},
   "source": [
    "If you want to write pseudo code in **LaTeX** then the information [here](https://www.overleaf.com/learn/latex/Algorithms) provides a good starting point."
   ]
  },
  {
   "cell_type": "markdown",
   "id": "d5f4817a-5474-418c-99e3-ff2d7d735612",
   "metadata": {},
   "source": [
    "## Tasks"
   ]
  },
  {
   "cell_type": "markdown",
   "id": "9e46d37e-3164-4fff-a8d7-3e21528702d4",
   "metadata": {},
   "source": [
    "### Task 1"
   ]
  },
  {
   "cell_type": "markdown",
   "id": "33c81b83-93e5-42fb-9a3e-929927da5c54",
   "metadata": {},
   "source": [
    "Design an algorithm that solves the following computational problem\n",
    "\n",
    "\n",
    "**Inputs**\n",
    "\n",
    "- a continuous monotonically strictly increasing function $f : \\cal{R} \\rightarrow \\cal{R}$\n",
    "- $(x_{a},x_{b}) \\in \\cal{R} \\times \\cal{R} : x_{a} < x_{b} , f(x_{a}) < 0 < f(x_{b})$\n",
    "- $\\delta \\in \\cal{R} : \\delta \\gt 0$\n",
    "\n",
    "\n",
    "\n",
    "\n",
    "**Ouput**\n",
    "\n",
    "- $(x_{a},x_{b}) \\in \\cal{R} \\times \\cal{R} : x_{a} < x_{b} , f(x_{b}) - f(x_{a}) < \\delta$ \n",
    "\n",
    "Implement your algorithm in code.\n",
    "\n",
    "Describe your algorithm using pseudo code.\n"
   ]
  },
  {
   "cell_type": "markdown",
   "id": "aba8a0b8-457c-4b1e-82bf-981272f2db6a",
   "metadata": {},
   "source": [
    "### Task 2"
   ]
  },
  {
   "cell_type": "markdown",
   "id": "9c3af97b-0de6-4f7b-a5d9-2fc9e04c34fd",
   "metadata": {},
   "source": [
    "Design an algorithm that solves the following computational problem\n",
    "\n",
    "**Inputs**\n",
    "\n",
    "- a monotonically increasing function $f : \\cal{R} \\rightarrow \\cal{N}$\n",
    "- $n \\in{\\cal{N}}$\n",
    "- $(x_{a},x_{b}) \\in \\cal{R} \\times \\cal{R} : x_{a} < x_{b} , f(x_{a}) \\leq n \\leq f(x_{b})$ \n",
    "\n",
    "**Ouput**\n",
    "\n",
    "- a value $x \\in{\\cal{R}}$ such that $f(x) = n$\n",
    "\n",
    "Implement your algorithm in code.\n",
    "\n",
    "Describe your algorithm using pseudo code."
   ]
  },
  {
   "cell_type": "markdown",
   "id": "cc2c79c3-f5b9-4da6-a8dd-1ce45a7d7ba7",
   "metadata": {},
   "source": [
    "### Task 3\n",
    "\n",
    "Are there any similarities between your solutions to **Task 1** and **Task 2** ?\n",
    "\n",
    "Are there any differences ?\n",
    "\n",
    "Can you use any **functional patterns** to \"*abstract out*\" any commonalities between the algorithms ? "
   ]
  },
  {
   "cell_type": "markdown",
   "id": "10ac8154-5fb1-467a-a3ba-439da6e1308a",
   "metadata": {},
   "source": [
    "### Task 4a"
   ]
  },
  {
   "cell_type": "markdown",
   "id": "0e0fa06c-2fb6-41fe-b8aa-da98f994c47b",
   "metadata": {},
   "source": [
    "Design an algorithm that solves the following computational problem\n",
    "\n",
    "**Inputs**\n",
    "\n",
    "- a monotonically increasing function $f : \\cal{R} \\rightarrow \\cal{N}$\n",
    "- $n \\in{\\cal{N}}$\n",
    "- $\\delta \\in \\cal{R} : \\delta \\gt 0$\n",
    "- $(x_{a},x_{b}) \\in \\cal{R} \\times \\cal{R} : x_{a} + \\delta < x_{b}, f(x_{a}) \\leq n \\leq f(x_{b})$\n",
    "\n",
    "\n",
    "**Ouput**\n",
    "\n",
    "- a value $x \\in{\\cal{R}}$ such that $f(x) = n$ and $f(x + \\delta) < n$\n",
    "\n",
    "Implement your algorithm in code.\n",
    "\n",
    "Describe your algorithm using pseudo code."
   ]
  },
  {
   "cell_type": "markdown",
   "id": "469b39c7-2003-4475-af57-432e36719cd3",
   "metadata": {},
   "source": [
    "### Task 4b\n",
    "\n",
    "Some functions that form inputs to the computational problem in **Task 4a** may take a significant amount of time to compute. Is there anything you could do to mitigate the effects of this ? Could you use a **functional pattern** to help ?"
   ]
  },
  {
   "cell_type": "markdown",
   "id": "c4bf214c-62a9-4dbf-8e76-25a521de3ba6",
   "metadata": {},
   "source": [
    "### Task 5\n",
    "\n",
    "Are there any similarities between your solutions to **Task 3**, **Task 4 and Task 4b** ?\n",
    "\n",
    "Are there any differences ?\n",
    "\n",
    "Can you use any **functional patterns** to \"*abstract out*\" any commonalities between the algorithms ? \n"
   ]
  },
  {
   "cell_type": "markdown",
   "id": "1a2c4c6c-b666-4bde-bb52-a042184c70fe",
   "metadata": {},
   "source": [
    "### Task 6\n",
    "\n",
    "You want to keep track of, amongst other things, how many times a function is being called when used in your algorithm from **Task 4b**. Can you do this **without** need for any modifications to your function **or** the implementation of your algorithm ? What patterns, if any, might be useful for this ?\n"
   ]
  },
  {
   "cell_type": "markdown",
   "id": "9416238b-9fb6-41ba-b911-975eab6a89cc",
   "metadata": {},
   "source": [
    "### Task 7\n",
    "\n",
    "You have a function  $f : \\cal{R} \\times \\cal{N} \\rightarrow \\cal{N}$ where the second element of the domain is a parameter $n$ say. You wish to use your function as an input to your algorithm from  **Task 4b** over a range of values for the parameter $n$. Using a small example function, demonstrate how you might do this. If you had to this for a large number of parameters what patterns might be useful ? "
   ]
  },
  {
   "cell_type": "markdown",
   "id": "237738e6-134e-47ee-bd26-b7fe0e244f9d",
   "metadata": {},
   "source": [
    "### Further Reading"
   ]
  },
  {
   "cell_type": "markdown",
   "id": "ac79a18e-227f-4636-9c8f-bdbb491cd149",
   "metadata": {},
   "source": [
    "[The 5Rs](./fninf-11-00069.pdf)\n",
    "\n",
    "[Best Practices for Scientific Computing](./journal.pbio.1001745.pdf)\n",
    "\n",
    "[Developing Scientific Sortware](./mso2008040018.pdf)\n",
    "\n",
    "[Reproducible Research for Scientific Computing](./reproducible-research-for-scientific-computing-tools-and-strategies-for-changing-the-culture1.pdf)\n",
    "\n",
    "[Pandemic Simulation Verification](./d41586-020-01685-y.pdf)"
   ]
  }
 ],
 "metadata": {
  "kernelspec": {
   "display_name": "Python 3 (ipykernel)",
   "language": "python",
   "name": "python3"
  },
  "language_info": {
   "codemirror_mode": {
    "name": "ipython",
    "version": 3
   },
   "file_extension": ".py",
   "mimetype": "text/x-python",
   "name": "python",
   "nbconvert_exporter": "python",
   "pygments_lexer": "ipython3",
   "version": "3.12.3"
  }
 },
 "nbformat": 4,
 "nbformat_minor": 5
}
