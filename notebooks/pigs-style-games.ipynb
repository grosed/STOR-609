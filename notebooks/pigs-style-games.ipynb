{
 "cells": [
  {
   "cell_type": "markdown",
   "id": "b08c6364-8a47-4771-9402-b47f8fb052b6",
   "metadata": {},
   "source": [
    "# Pigs Style Game Competition"
   ]
  },
  {
   "cell_type": "markdown",
   "id": "4bfb163a-ce67-4ba1-89f9-c266e7eef330",
   "metadata": {},
   "source": [
    "## Educators Note - Rational for this guided student task.\n",
    "\n",
    "The plan !!  Get the students to do some strategies for the \"intro to python\" course they get in term 1. I write a shiny app that they submit the strategies to the \"competion\" code and the overall winner gets a prize.\n",
    "\n",
    "In term 2 for STOR-609, they write the \"competition\" code (as badly as possible), swap solutions, and rewrite wrt the 5Rs.\n",
    "\n",
    "I then introduce \"patterns\". They then improve there own code for th strategies and the competition from previous exercise using patterns, present it, and report on how the 5Rs  have been improved by use of patterns and other things. "
   ]
  },
  {
   "cell_type": "markdown",
   "id": "43059351-687c-433d-b595-ad291ed478fc",
   "metadata": {},
   "source": [
    "## Strategy Type"
   ]
  },
  {
   "cell_type": "markdown",
   "id": "aef161fb-a2a7-4b77-90f4-cf4f592ea287",
   "metadata": {},
   "source": [
    "$Strategy : {N} \\times N \\times N \\rightarrow Bool$"
   ]
  },
  {
   "cell_type": "markdown",
   "id": "6b71b3d9-eb54-4e00-acd8-56ecda203069",
   "metadata": {},
   "source": [
    "### Example 1 - stick at 10"
   ]
  },
  {
   "cell_type": "code",
   "execution_count": 1,
   "id": "6c61dcf2-2561-4544-bd5d-0d685152191e",
   "metadata": {},
   "outputs": [],
   "source": [
    "def stick_at_10(score,opponent_score,running_total) :\n",
    "    return True if running_total < 10 else False "
   ]
  },
  {
   "cell_type": "markdown",
   "id": "9b1366c7-e21e-4830-9165-0b14a3d3cf71",
   "metadata": {},
   "source": [
    "### Example 2 - stick at 15"
   ]
  },
  {
   "cell_type": "code",
   "execution_count": 2,
   "id": "7ca988da-103a-437e-a0ec-196577f4b949",
   "metadata": {},
   "outputs": [],
   "source": [
    "def stick_at_15(score,opponent_score,running_total) :\n",
    "    return True if running_total < 15 else False "
   ]
  },
  {
   "cell_type": "markdown",
   "id": "0d6e99ec-4743-4767-8089-918eca0a6874",
   "metadata": {},
   "source": [
    "### Example 3 - a parameterised strategy - target n stick at m"
   ]
  },
  {
   "cell_type": "code",
   "execution_count": 3,
   "id": "c31010a1-2e7b-4d7f-bb42-d72808d7ed13",
   "metadata": {},
   "outputs": [],
   "source": [
    "def target_n_stick_at_m(score,opponent_score,running_total,n,m) :\n",
    "    return True if running_total < m else False "
   ]
  },
  {
   "cell_type": "markdown",
   "id": "5c7e3a77-81c7-41d3-8069-c58f1a1e232b",
   "metadata": {},
   "source": [
    "Note that the above has type $N \\times N \\times N \\times N \\times N \\rightarrow Bool$ so is not of type $Strategy$. However, currying (a standard design pattern) of the strategies parameter n results in the required $Strategy$ type _i.e_. $N \\times N \\times N \\times N \\rightarrow Bool$\n",
    "\n",
    "Also note the need to swap the parameter order. Contrast / compare the use of curry to partial application"
   ]
  },
  {
   "cell_type": "code",
   "execution_count": 4,
   "id": "92584d19-7376-4a99-b7ac-c8a4a5491442",
   "metadata": {},
   "outputs": [],
   "source": [
    "from pymonad.tools import curry"
   ]
  },
  {
   "cell_type": "code",
   "execution_count": 5,
   "id": "1744b811-ee38-47bc-9145-67058daadeb6",
   "metadata": {},
   "outputs": [],
   "source": [
    "@curry(5)\n",
    "def target_n_stick_at_m(n,m,score,opponent_score,running_total) :\n",
    "    return True if running_total < m else False "
   ]
  },
  {
   "cell_type": "code",
   "execution_count": 6,
   "id": "d37c2dc5-8fbd-4de5-b7ca-c4906c667d2f",
   "metadata": {},
   "outputs": [],
   "source": [
    "target_100_stick_at_10 = target_n_stick_at_m(100,10)"
   ]
  },
  {
   "cell_type": "markdown",
   "id": "52755cbf-6c78-4b2f-be19-406849363904",
   "metadata": {},
   "source": [
    "## Basic Turn Type"
   ]
  },
  {
   "cell_type": "markdown",
   "id": "53cfb655-7f30-4af8-8fad-696f52c01264",
   "metadata": {},
   "source": [
    "$Turn : Strategy \\times N \\times N \\rightarrow N$"
   ]
  },
  {
   "cell_type": "code",
   "execution_count": 7,
   "id": "2b5ef8ce-e87a-43a5-8b0b-16e66d12becd",
   "metadata": {},
   "outputs": [],
   "source": [
    "import random"
   ]
  },
  {
   "cell_type": "code",
   "execution_count": 8,
   "id": "0dba91ea-3300-4ff9-99b1-bf306803fe42",
   "metadata": {},
   "outputs": [],
   "source": [
    "def basic_pigs_turn(a,ascore,bscore) :\n",
    "    running_total = 0\n",
    "    while a(ascore,bscore,running_total) :\n",
    "        roll = random.randint(1,6)\n",
    "        if roll == 6 :\n",
    "            return ascore\n",
    "        running_total += roll\n",
    "    return running_total "
   ]
  },
  {
   "cell_type": "markdown",
   "id": "8a77e36b-221b-4308-a203-11cdd6fd9e88",
   "metadata": {},
   "source": [
    "### Educators Note - point of departure\n",
    "\n",
    "Clearly, the fixed parameter values in this method shout out for abstraction, perhaps via a dice type (?). However, a big education point here is the random, and hence non-pure, nature of the function. This can be a \"point of departure\". Dont forget to point out the failure of memoisation of a non pure function. Also - see the idea sketched out below. "
   ]
  },
  {
   "cell_type": "markdown",
   "id": "c3692d3f-5e7a-4978-9320-79d86d0154ed",
   "metadata": {},
   "source": [
    "#### Point of departure"
   ]
  },
  {
   "cell_type": "markdown",
   "id": "d4df379b-1f1a-4a6f-9955-24578e6b3d46",
   "metadata": {},
   "source": [
    "An obvious abstraction is \n",
    "\n",
    "$Dice : () \\rightarrow N$\n",
    "\n",
    "which could lead to a parameterised dice function suction as "
   ]
  },
  {
   "cell_type": "code",
   "execution_count": 9,
   "id": "27ab2aeb-b6e6-4fce-9564-de1cca118b19",
   "metadata": {},
   "outputs": [],
   "source": [
    "def dice(sides) :\n",
    "    return random.randint(1,sides)"
   ]
  },
  {
   "cell_type": "markdown",
   "id": "6b67499e-3407-4b13-b1fd-7e89aa974f90",
   "metadata": {},
   "source": [
    "All well and good, but the next step is the non-pure nature of this type (remember, a function with no arguments is a constant). Now get students to consider the type\n",
    "\n",
    "$Dice : N  \\rightarrow N \\times N$\n",
    "\n",
    "and the function"
   ]
  },
  {
   "cell_type": "code",
   "execution_count": 10,
   "id": "0db9b16c-1dc4-44ed-9ff4-ec1e985c92a6",
   "metadata": {},
   "outputs": [],
   "source": [
    "import sys\n",
    "\n",
    "def dice(seed,sides) :\n",
    "    random.seed(seed)\n",
    "    return (random.randint(0,sys.maxsize),random.randint(1,sides))"
   ]
  },
  {
   "cell_type": "code",
   "execution_count": 11,
   "id": "db9d3ec9-fc14-492b-8fcf-3bde81ec23ab",
   "metadata": {},
   "outputs": [],
   "source": [
    "seed = 0\n",
    "(seed,value) = dice(seed,6)"
   ]
  },
  {
   "cell_type": "code",
   "execution_count": 12,
   "id": "de8369e9-fca2-4f6a-9821-52b366f84e3b",
   "metadata": {},
   "outputs": [],
   "source": [
    "from functools import partial\n",
    "seed = 0\n",
    "D6 = partial(dice,sides = 6)\n",
    "(seed,value) = D6(seed)"
   ]
  },
  {
   "cell_type": "markdown",
   "id": "30e2d4ef-3e78-448e-9296-41d6062e9c44",
   "metadata": {},
   "source": [
    "This approach still has a number of issues - but it sets sail a whole ship of discovery and discussion. If time / ability permit, get the students to study this example ..."
   ]
  },
  {
   "cell_type": "code",
   "execution_count": 13,
   "id": "cfe8e88a-70a4-4934-9d00-b8abb5bc1f55",
   "metadata": {},
   "outputs": [],
   "source": [
    "def diceClass(sides,seed) : # remember - a class is just function that returns an object\n",
    "    def dice() : # the object produced by the class - remember, an object is just a function with memory\n",
    "        nonlocal seed # the objects memory\n",
    "        random.seed(seed)\n",
    "        seed = random.randint(0,sys.maxsize) # note - python 3 specific\n",
    "        dice = diceClass(sides,seed) # notice the reference to the enclosing function\n",
    "        return dice,random.randint(1,sides)\n",
    "    return dice\n",
    "        "
   ]
  },
  {
   "cell_type": "code",
   "execution_count": 14,
   "id": "810d108d-10cf-4086-977c-41536c74bb50",
   "metadata": {},
   "outputs": [],
   "source": [
    "D6 = diceClass(6,0)\n",
    "D10 = diceClass(10,5)"
   ]
  },
  {
   "cell_type": "code",
   "execution_count": 15,
   "id": "158bfbcd-f917-4839-bf76-2cca4ee37e67",
   "metadata": {},
   "outputs": [
    {
     "name": "stdout",
     "output_type": "stream",
     "text": [
      "D6 gives : 4\n",
      "D6 gives : 6\n",
      "D6 gives : 2\n",
      "D6 gives : 4\n",
      "D6 gives : 6\n",
      "D6 gives : 3\n",
      "D6 gives : 3\n",
      "D6 gives : 1\n",
      "D6 gives : 1\n",
      "D6 gives : 2\n"
     ]
    }
   ],
   "source": [
    "for i in range(10) :\n",
    "    D6,value = D6()\n",
    "    print(\"D6 gives : \" + str(value))"
   ]
  },
  {
   "cell_type": "code",
   "execution_count": 16,
   "id": "18adfcce-fd1e-4d51-8455-2fc4c84b7ab0",
   "metadata": {},
   "outputs": [
    {
     "name": "stdout",
     "output_type": "stream",
     "text": [
      "D10 gives : 6\n",
      "D10 gives : 9\n",
      "D10 gives : 7\n",
      "D10 gives : 3\n",
      "D10 gives : 8\n",
      "D10 gives : 1\n",
      "D10 gives : 5\n",
      "D10 gives : 2\n",
      "D10 gives : 8\n",
      "D10 gives : 7\n"
     ]
    }
   ],
   "source": [
    "for i in range(10) :\n",
    "    D10,value = D10()\n",
    "    print(\"D10 gives : \" + str(value))"
   ]
  },
  {
   "cell_type": "markdown",
   "id": "e95891ab-796d-46b1-b9ac-812473b043be",
   "metadata": {},
   "source": [
    "Repeat - but interleaved !! "
   ]
  },
  {
   "cell_type": "code",
   "execution_count": 17,
   "id": "2ff38fab-9a9c-4783-b3eb-e9765698059d",
   "metadata": {},
   "outputs": [
    {
     "name": "stdout",
     "output_type": "stream",
     "text": [
      "D6 gives : 4\n",
      "D10 gives : 6\n",
      "D6 gives : 6\n",
      "D10 gives : 9\n",
      "D6 gives : 2\n",
      "D10 gives : 7\n",
      "D6 gives : 4\n",
      "D10 gives : 3\n",
      "D6 gives : 6\n",
      "D10 gives : 8\n",
      "D6 gives : 3\n",
      "D10 gives : 1\n",
      "D6 gives : 3\n",
      "D10 gives : 5\n",
      "D6 gives : 1\n",
      "D10 gives : 2\n",
      "D6 gives : 1\n",
      "D10 gives : 8\n",
      "D6 gives : 2\n",
      "D10 gives : 7\n"
     ]
    }
   ],
   "source": [
    "D6 = diceClass(6,0)\n",
    "D10 = diceClass(10,5)\n",
    "for i in range(10) :\n",
    "    D6,value = D6()\n",
    "    print(\"D6 gives : \" + str(value))\n",
    "    D10,value = D10()\n",
    "    print(\"D10 gives : \" + str(value))\n",
    "    "
   ]
  },
  {
   "cell_type": "markdown",
   "id": "1b897b5f-c9ef-4615-b549-eb408ecd3464",
   "metadata": {},
   "source": [
    "#### Notes\n",
    "\n",
    "1) Could you implement the diceClass using python classes ? \n",
    "2) Remove the comments from the diceClass function and see if the students recognise the class / object patterns.\n",
    "3) Do the students see the significance of the interleaving example ? It shows that dice objects are thread safe\n",
    "4) Can the dice objects be memoised ? Are they pure ? Can the students use their memoise functions from the exercises in the patterns section to memoise the dice objets ?"
   ]
  },
  {
   "cell_type": "markdown",
   "id": "4d74b470-6d77-4ad4-9333-d25ba9484318",
   "metadata": {},
   "source": [
    "### End of Point of Departure"
   ]
  },
  {
   "cell_type": "markdown",
   "id": "7b04c015-0e8a-4276-9a6b-b9dd9628c6fe",
   "metadata": {},
   "source": [
    "## A more declarative Turn"
   ]
  },
  {
   "cell_type": "markdown",
   "id": "bb21e175-4fcf-4e73-ad00-f214c30b512c",
   "metadata": {},
   "source": [
    "### Educators Note - discussion opportunity\n",
    "\n",
    "Take this opportunity to ensure that the concept _declarative_ is understood\n",
    "and contrast it to _imperative_. Why is the following design for the type $Turn$ more declarative than the former.\n",
    "\n",
    "Point for discussion - is moving from imperative to declarative code part of the process of abstraction ?"
   ]
  },
  {
   "cell_type": "markdown",
   "id": "2f12ecfd-1d98-46d2-9cc7-1da5c8ce0602",
   "metadata": {},
   "source": [
    "The diceClass can now be used in the turn function."
   ]
  },
  {
   "cell_type": "markdown",
   "id": "fb5f009f-59a8-4dcb-894e-5d1515f7894e",
   "metadata": {},
   "source": [
    "$Turn : Dice \\times Strategy \\times N \\times N \\rightarrow N$"
   ]
  },
  {
   "cell_type": "code",
   "execution_count": 18,
   "id": "59bc3980-6bb5-4a77-bbb9-bb1a44e14076",
   "metadata": {},
   "outputs": [],
   "source": [
    "def pigs_turn(dice,strategy,score,opponent_score) :\n",
    "    running_total = 0\n",
    "    while strategy(score,opponent_score,running_total) :\n",
    "        dice,roll = dice()\n",
    "        if roll == 1 :\n",
    "            return score\n",
    "        running_total += roll\n",
    "    return running_total "
   ]
  },
  {
   "cell_type": "markdown",
   "id": "215ef5ca-ae71-4d53-8f5e-88dca9de4259",
   "metadata": {},
   "source": [
    "#### Example "
   ]
  },
  {
   "cell_type": "code",
   "execution_count": 19,
   "id": "95cbfbff-3269-49b3-bea6-5b6ea3874327",
   "metadata": {},
   "outputs": [],
   "source": [
    "strategy = target_n_stick_at_m(100,10)\n",
    "dice = diceClass(sides = 6,seed = 0)"
   ]
  },
  {
   "cell_type": "code",
   "execution_count": 20,
   "id": "1d37acb8-a6c2-4e67-8484-a6d93b9c804e",
   "metadata": {},
   "outputs": [
    {
     "data": {
      "text/plain": [
       "10"
      ]
     },
     "execution_count": 20,
     "metadata": {},
     "output_type": "execute_result"
    }
   ],
   "source": [
    "pigs_turn(dice,strategy,0,0)"
   ]
  },
  {
   "cell_type": "markdown",
   "id": "3f45cec2-1ccb-4d21-b59e-167532e20ed9",
   "metadata": {},
   "source": [
    "## A Game Type"
   ]
  },
  {
   "cell_type": "markdown",
   "id": "4f2de15a-8a87-42af-b8fa-48f5a0275d05",
   "metadata": {},
   "source": [
    "Start with"
   ]
  },
  {
   "cell_type": "markdown",
   "id": "a72c29b2-4e79-43a3-83a1-e13fbd419120",
   "metadata": {},
   "source": [
    "$Game : Dice \\times N \\times Turn \\times Strategy \\times Strategy \\times N \\times N \\rightarrow Strategy$"
   ]
  },
  {
   "cell_type": "code",
   "execution_count": 21,
   "id": "75b51f30-f0ad-4296-a546-d86c69fcece1",
   "metadata": {},
   "outputs": [],
   "source": [
    "def game(dice,target,turn,a,b,ascore = 0,bscore = 0) :\n",
    "    ascore += turn(dice,a,ascore,bscore)\n",
    "    if ascore > target :\n",
    "        return a\n",
    "    bscore += turn(dice,b,bscore,ascore)\n",
    "    if bscore > target :\n",
    "        return b\n",
    "    return game(dice,target,turn,a,b,ascore,bscore)"
   ]
  },
  {
   "cell_type": "markdown",
   "id": "19b39e44-eff7-4301-865e-d1d2701398de",
   "metadata": {},
   "source": [
    "#### Example"
   ]
  },
  {
   "cell_type": "code",
   "execution_count": 22,
   "id": "cbcc656c-7fd0-4565-9b05-376c0d9e6f62",
   "metadata": {},
   "outputs": [],
   "source": [
    "a = target_n_stick_at_m(100,20)\n",
    "b = target_n_stick_at_m(100,20)"
   ]
  },
  {
   "cell_type": "code",
   "execution_count": 23,
   "id": "fa8e7581-48c9-4cf1-80b6-a6035de2c9fb",
   "metadata": {},
   "outputs": [],
   "source": [
    "dice = diceClass(sides = 6,seed = 0)\n",
    "res = game(dice,100,pigs_turn,a,b)"
   ]
  },
  {
   "cell_type": "code",
   "execution_count": 24,
   "id": "3a66f475-66fb-41a1-b977-77659c1356cf",
   "metadata": {},
   "outputs": [],
   "source": [
    "astat = 0\n",
    "bstat = 0\n",
    "for i in range(100) :\n",
    "    res = game(dice,100,pigs_turn,a,b)\n",
    "    if res == a :\n",
    "        astat += 1\n",
    "    else :\n",
    "        bstat += 1"
   ]
  },
  {
   "cell_type": "code",
   "execution_count": 25,
   "id": "f77d175f-2c7b-4a69-9407-67a6927c2ec8",
   "metadata": {},
   "outputs": [
    {
     "data": {
      "text/plain": [
       "38"
      ]
     },
     "execution_count": 25,
     "metadata": {},
     "output_type": "execute_result"
    }
   ],
   "source": [
    "bstat"
   ]
  },
  {
   "cell_type": "markdown",
   "id": "c076158a-e187-4a9e-bd1b-396cea1b5bad",
   "metadata": {},
   "source": [
    "## An alternative Game type"
   ]
  },
  {
   "cell_type": "markdown",
   "id": "5eaa7af9-026d-4e8e-8bd2-a21725fb1259",
   "metadata": {},
   "source": [
    "The previous $Game$ type included $Strategy$ \"(ies)\". Here is an alternative.\n",
    "\n",
    "$Game : Dice \\times N \\times Turn \\rightarrow (Strategy \\times Strategy \\times N \\times N \\rightarrow Strategy)$"
   ]
  },
  {
   "cell_type": "markdown",
   "id": "1cd4e0e4-df99-4882-8c47-14da3be145f8",
   "metadata": {},
   "source": [
    "Note that $Game$ now constitutes a class (it is a function returning a function). What is the corresponding object ? What is the objects type ?"
   ]
  },
  {
   "cell_type": "markdown",
   "id": "853c5475-e6a1-4d08-ae9a-69176268deac",
   "metadata": {},
   "source": [
    "What about the initial scores of the game ? Are they free to choose ? Assume not, then is it appropriate to specify them as part of the type of the object returned by a $Game$ type ? Can this be avoided ?  For example is \n",
    "\n",
    "$Game : Dice \\times N \\times Turn \\rightarrow (Strategy \\times Strategy \\rightarrow Strategy)$\n",
    "\n",
    "an appropriate type for $Game$ ? Let's see.\n"
   ]
  },
  {
   "cell_type": "code",
   "execution_count": 26,
   "id": "6a509870-7daf-4b4d-93ef-640fe9924d8d",
   "metadata": {},
   "outputs": [],
   "source": [
    "def game(dice,target,turn) :\n",
    "    def object(a,b,ascore = 0,bscore = 0) :\n",
    "        ascore += turn(dice,a,ascore,bscore)\n",
    "        if ascore > target :\n",
    "            return a\n",
    "        bscore += turn(dice,b,bscore,ascore)\n",
    "        if bscore > target :\n",
    "            return b\n",
    "        return object(a,b,ascore,bscore)\n",
    "    return object"
   ]
  },
  {
   "cell_type": "markdown",
   "id": "55b5866c-688c-412f-b08e-610761814cd1",
   "metadata": {},
   "source": [
    "Using this type (abstraction ?) the starting parameters can hidden in a very natural manner from the interface by tying them to the object. This links with the idea that classes can hide implementation details in the corresponding object."
   ]
  },
  {
   "cell_type": "markdown",
   "id": "c0248e29-d18b-4f83-8f4d-46673acdb222",
   "metadata": {},
   "source": [
    "#### Example"
   ]
  },
  {
   "cell_type": "code",
   "execution_count": 27,
   "id": "14ff92ec-2d72-4a72-9efa-38e214539b08",
   "metadata": {},
   "outputs": [],
   "source": [
    "a = target_n_stick_at_m(100,20)\n",
    "b = target_n_stick_at_m(100,20)"
   ]
  },
  {
   "cell_type": "code",
   "execution_count": 28,
   "id": "8db47c25-7595-461b-a365-22a7e0c0ccd5",
   "metadata": {},
   "outputs": [],
   "source": [
    "dice = diceClass(sides = 6,seed = 0)\n",
    "agame = game(dice,100,pigs_turn)"
   ]
  },
  {
   "cell_type": "code",
   "execution_count": 29,
   "id": "8575dc98-0798-4551-8b3a-2033a0cf2f08",
   "metadata": {},
   "outputs": [],
   "source": [
    "astat = 0\n",
    "bstat = 0\n",
    "for i in range(100) :\n",
    "    if agame(a,b) == a :\n",
    "        astat += 1\n",
    "    else :\n",
    "        bstat += 1"
   ]
  },
  {
   "cell_type": "markdown",
   "id": "f6445a9d-11f0-4508-bdf7-9af6dc2d57de",
   "metadata": {},
   "source": [
    "## A Round Type"
   ]
  },
  {
   "cell_type": "markdown",
   "id": "98c2782e-47b1-4122-9ffc-2c59f7eeb796",
   "metadata": {},
   "source": [
    "$Round : Game \\times N \\rightarrow (Strategy \\times Strategy \\rightarrow \\left[Strategy\\right])$"
   ]
  },
  {
   "cell_type": "code",
   "execution_count": 30,
   "id": "6bf302fc-45de-480e-a3f9-a2ad9e1f8b0d",
   "metadata": {},
   "outputs": [],
   "source": [
    "def round(game,rounds) :\n",
    "    def object(a,b) :\n",
    "        awins =  sum([game(x,y) == a for x,y in [(a,b)]*rounds])\n",
    "        return (awins,rounds - awins)\n",
    "    return object"
   ]
  },
  {
   "cell_type": "markdown",
   "id": "af09810c-3a81-457f-b062-ba48b0efc8e3",
   "metadata": {},
   "source": [
    "#### Example"
   ]
  },
  {
   "cell_type": "code",
   "execution_count": 31,
   "id": "a522ba34-c390-4705-90c4-4e645616876a",
   "metadata": {},
   "outputs": [
    {
     "data": {
      "text/plain": [
       "(130, 70)"
      ]
     },
     "execution_count": 31,
     "metadata": {},
     "output_type": "execute_result"
    }
   ],
   "source": [
    "round(agame,200)(a,b)"
   ]
  },
  {
   "cell_type": "markdown",
   "id": "71b43456-c6ee-4193-b787-cdbd67301308",
   "metadata": {},
   "source": [
    "## A Competition type"
   ]
  },
  {
   "cell_type": "markdown",
   "id": "3539ea20-9eca-4437-9970-b79dda7fd5e1",
   "metadata": {},
   "source": [
    "$Competition : Round \\times \\left\\{Strategy\\right\\} \\rightarrow (Strategy \\times Strategy \\rightarrow N \\times N) $"
   ]
  },
  {
   "cell_type": "code",
   "execution_count": 32,
   "id": "3474f51b-ff93-4600-9f74-7b72a5cd87aa",
   "metadata": {},
   "outputs": [],
   "source": [
    "from itertools import product"
   ]
  },
  {
   "cell_type": "code",
   "execution_count": 33,
   "id": "10068890-93bb-4df0-b5bf-57508c90b7bb",
   "metadata": {},
   "outputs": [],
   "source": [
    "def competition(round,strategies) :\n",
    "    return {(a,b) : round(a,b) for a,b in product(strategies,strategies)}"
   ]
  },
  {
   "cell_type": "markdown",
   "id": "bf1bf1d7-7966-45d9-8aae-9252c707307a",
   "metadata": {},
   "source": [
    "#### Example"
   ]
  },
  {
   "cell_type": "code",
   "execution_count": 34,
   "id": "79de8646-d12b-4008-9473-dcc5dbc2c207",
   "metadata": {},
   "outputs": [],
   "source": [
    "around = round(agame,200)\n",
    "res = competition(around,{a,b})"
   ]
  },
  {
   "cell_type": "code",
   "execution_count": 35,
   "id": "5e9a6392-ec33-4ab4-b1f8-0270c3dec9ae",
   "metadata": {},
   "outputs": [
    {
     "data": {
      "text/plain": [
       "(126, 74)"
      ]
     },
     "execution_count": 35,
     "metadata": {},
     "output_type": "execute_result"
    }
   ],
   "source": [
    "res[(b,a)]"
   ]
  },
  {
   "cell_type": "markdown",
   "id": "2d9024b2-73ce-4253-ae39-eb89ec04d639",
   "metadata": {},
   "source": [
    "## Example "
   ]
  },
  {
   "cell_type": "code",
   "execution_count": 36,
   "id": "d53fd43a-1630-4095-9c9e-63e059b58bf6",
   "metadata": {},
   "outputs": [],
   "source": [
    "strategy_map = {target_n_stick_at_m(100,i) : i for i in range(1,31)}\n",
    "strategies = set(strategy_map.keys())\n",
    "dice = diceClass(sides = 6,seed = 0)\n",
    "agame = game(dice,100,pigs_turn)\n",
    "around = round(agame,200)\n",
    "res = competition(around,strategies)"
   ]
  },
  {
   "cell_type": "code",
   "execution_count": 37,
   "id": "8dd37965-e2d0-4796-98a4-f83f3d79da5c",
   "metadata": {},
   "outputs": [],
   "source": [
    "tab = {(strategy_map[a],strategy_map[b]) : scores for (a,b),scores in res.items()}\n",
    "\n"
   ]
  },
  {
   "cell_type": "code",
   "execution_count": 38,
   "id": "9b0e0df9-3653-424e-8744-7fc8bad97266",
   "metadata": {},
   "outputs": [],
   "source": [
    "import numpy as np\n",
    "import seaborn"
   ]
  },
  {
   "cell_type": "code",
   "execution_count": 39,
   "id": "2e2f5e98-400d-443d-b4f7-b8123629ed83",
   "metadata": {},
   "outputs": [
    {
     "data": {
      "text/plain": [
       "<Axes: >"
      ]
     },
     "execution_count": 39,
     "metadata": {},
     "output_type": "execute_result"
    },
    {
     "data": {
      "image/png": "[encoded data removed]",
      "text/plain": [
       "<Figure size 640x480 with 2 Axes>"
      ]
     },
     "metadata": {},
     "output_type": "display_data"
    }
   ],
   "source": [
    "arr = np.empty((30,30))\n",
    "for (a,b),(ascore,bscore) in tab.items() :\n",
    "    arr[a-1,b-1] = ascore/(ascore+bscore)\n",
    "seaborn.heatmap(arr)"
   ]
  },
  {
   "cell_type": "code",
   "execution_count": null,
   "id": "c42d855d-9517-49f1-8247-48581e74aeb9",
   "metadata": {},
   "outputs": [],
   "source": []
  },
  {
   "cell_type": "code",
   "execution_count": 40,
   "id": "01d2b015-3792-4950-80aa-81d158dfe6c8",
   "metadata": {},
   "outputs": [
    {
     "data": {
      "text/plain": [
       "'temp-plot.html'"
      ]
     },
     "execution_count": 40,
     "metadata": {},
     "output_type": "execute_result"
    }
   ],
   "source": [
    "import numpy as np\n",
    "from plotly.offline import plot\n",
    "\n",
    "z = arr\n",
    "data = [{'x': list(range(1,30)),\n",
    "         'y': list(range(1,30)),\n",
    "         'z': arr,\n",
    "         'type': 'surface'}]\n",
    "\n",
    "plot({'data': data})\n"
   ]
  },
  {
   "cell_type": "markdown",
   "id": "686e4e42-858c-4905-95fd-200b4ea0f60b",
   "metadata": {},
   "source": [
    "# Notes\n",
    "\n",
    "Dice book - need to make a bibtex entry\n",
    "\n",
    "@BOOK{Knizia2010-ez,\n",
    "  title     = \"Dice games properly explained\",\n",
    "  author    = \"Knizia, Reiner\",\n",
    "  publisher = \"Blue Terrier Press\",\n",
    "  month     =  jan,\n",
    "  year      =  2010\n",
    "}\n",
    "\n",
    "\n",
    "\n",
    "\n",
    "\n",
    "\n"
   ]
  }
 ],
 "metadata": {
  "kernelspec": {
   "display_name": "Python 3 (ipykernel)",
   "language": "python",
   "name": "python3"
  },
  "language_info": {
   "codemirror_mode": {
    "name": "ipython",
    "version": 3
   },
   "file_extension": ".py",
   "mimetype": "text/x-python",
   "name": "python",
   "nbconvert_exporter": "python",
   "pygments_lexer": "ipython3",
   "version": "3.11.0"
  }
 },
 "nbformat": 4,
 "nbformat_minor": 5
}
