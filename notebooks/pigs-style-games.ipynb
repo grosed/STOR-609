{
 "cells": [
  {
   "cell_type": "markdown",
   "id": "b08c6364-8a47-4771-9402-b47f8fb052b6",
   "metadata": {},
   "source": [
    "# Pigs Style Game Competition"
   ]
  },
  {
   "cell_type": "markdown",
   "id": "4bfb163a-ce67-4ba1-89f9-c266e7eef330",
   "metadata": {},
   "source": [
    "## Educators Note - Rational for this guided student task.\n",
    "\n",
    "The plan !!  Get the students to do some strategies for the \"intro to python\" course they get in term 1. I write a shiny app that they submit the strategies to the \"competion\" code and the overall winner gets a prize.\n",
    "\n",
    "In term 2 for STOR-609, they write the \"competition\" code (as badly as possible), swap solutions, and rewrite wrt the 5Rs.\n",
    "\n",
    "I then introduce \"patterns\". They then improve there own code for th strategies and the competition from previous exercise using patterns, present it, and report on how the 5Rs  have been improved by use of patterns and other things. "
   ]
  },
  {
   "cell_type": "markdown",
   "id": "43059351-687c-433d-b595-ad291ed478fc",
   "metadata": {},
   "source": [
    "## Strategy Type"
   ]
  },
  {
   "cell_type": "markdown",
   "id": "aef161fb-a2a7-4b77-90f4-cf4f592ea287",
   "metadata": {},
   "source": [
    "$Strategy : N \\times {N} \\times N \\times N \\rightarrow Bool$"
   ]
  },
  {
   "cell_type": "markdown",
   "id": "6b71b3d9-eb54-4e00-acd8-56ecda203069",
   "metadata": {},
   "source": [
    "### Example 1 - stick at 10"
   ]
  },
  {
   "cell_type": "code",
   "execution_count": 1,
   "id": "6c61dcf2-2561-4544-bd5d-0d685152191e",
   "metadata": {},
   "outputs": [],
   "source": [
    "def stick_at_10(target,score,opponent_score,running_total) :\n",
    "    return True if running_total < 10 else False "
   ]
  },
  {
   "cell_type": "markdown",
   "id": "9b1366c7-e21e-4830-9165-0b14a3d3cf71",
   "metadata": {},
   "source": [
    "### Example 2 - stick at 15"
   ]
  },
  {
   "cell_type": "code",
   "execution_count": 2,
   "id": "7ca988da-103a-437e-a0ec-196577f4b949",
   "metadata": {},
   "outputs": [],
   "source": [
    "def stick_at_15(target,score,opponent_score,running_total) :\n",
    "    return True if running_total < 15 else False "
   ]
  },
  {
   "cell_type": "markdown",
   "id": "0d6e99ec-4743-4767-8089-918eca0a6874",
   "metadata": {},
   "source": [
    "### Example 3 - a parameterised strategy - stick at n "
   ]
  },
  {
   "cell_type": "code",
   "execution_count": 45,
   "id": "c31010a1-2e7b-4d7f-bb42-d72808d7ed13",
   "metadata": {},
   "outputs": [],
   "source": [
    "def stick_at_n(score,opponent_score,running_total,target,n) :\n",
    "    return True if running_total < n else False "
   ]
  },
  {
   "cell_type": "markdown",
   "id": "5c7e3a77-81c7-41d3-8069-c58f1a1e232b",
   "metadata": {},
   "source": [
    "Note that the above has type $N \\times N \\times N \\times N \\times N \\rightarrow Bool$ so is not of type $Strategy$. However, currying (a standard design pattern) of the strategies parameter n results in the required $Strategy$ type _i.e_. $N \\times N \\times N \\times N \\rightarrow Bool$"
   ]
  },
  {
   "cell_type": "markdown",
   "id": "52755cbf-6c78-4b2f-be19-406849363904",
   "metadata": {},
   "source": [
    "## Basic Turn"
   ]
  },
  {
   "cell_type": "markdown",
   "id": "53cfb655-7f30-4af8-8fad-696f52c01264",
   "metadata": {},
   "source": [
    "$Turn : Strategy \\times N \\times N \\rightarrow N$"
   ]
  },
  {
   "cell_type": "code",
   "execution_count": 4,
   "id": "2b5ef8ce-e87a-43a5-8b0b-16e66d12becd",
   "metadata": {},
   "outputs": [],
   "source": [
    "import random"
   ]
  },
  {
   "cell_type": "code",
   "execution_count": 5,
   "id": "0dba91ea-3300-4ff9-99b1-bf306803fe42",
   "metadata": {},
   "outputs": [],
   "source": [
    "def basic_pigs_turn(a,ascore,bscore) :\n",
    "    running_total = 0\n",
    "    while a(ascore,bscore,running_total) :\n",
    "        roll = random.randint(1,6)\n",
    "        if roll == 6 :\n",
    "            return ascore\n",
    "        running_total += roll\n",
    "    return running_total "
   ]
  },
  {
   "cell_type": "markdown",
   "id": "8a77e36b-221b-4308-a203-11cdd6fd9e88",
   "metadata": {},
   "source": [
    "### Educators Note - point of departure\n",
    "\n",
    "Clearly, the fixed parameter values in this method shout out for abstraction, perhaps via a dice type (?). However, a big education point here is the random, and hence non-pure, nature of the function. This can be a \"point of departure\". Dont forget to point out the failure of memoisation of a non pure function. Also - see the idea sketched out below. "
   ]
  },
  {
   "cell_type": "markdown",
   "id": "c3692d3f-5e7a-4978-9320-79d86d0154ed",
   "metadata": {},
   "source": [
    "#### Point of departure"
   ]
  },
  {
   "cell_type": "markdown",
   "id": "d4df379b-1f1a-4a6f-9955-24578e6b3d46",
   "metadata": {},
   "source": [
    "An obvious abstraction is \n",
    "\n",
    "$Dice : () \\rightarrow N$\n",
    "\n",
    "which could lead to a parameterised dice function suction as "
   ]
  },
  {
   "cell_type": "code",
   "execution_count": 6,
   "id": "27ab2aeb-b6e6-4fce-9564-de1cca118b19",
   "metadata": {},
   "outputs": [],
   "source": [
    "def dice(sides) :\n",
    "    return random.randint(1,sides)"
   ]
  },
  {
   "cell_type": "markdown",
   "id": "6b67499e-3407-4b13-b1fd-7e89aa974f90",
   "metadata": {},
   "source": [
    "All well and good, but the next step is the non-pure nature of this type (remember, a function with no arguments is a constant). Now get students to consider\n",
    "\n",
    "$Dice : N  \\rightarrow N \\times N$\n",
    "\n",
    "and the function"
   ]
  },
  {
   "cell_type": "code",
   "execution_count": 7,
   "id": "0db9b16c-1dc4-44ed-9ff4-ec1e985c92a6",
   "metadata": {},
   "outputs": [],
   "source": [
    "import sys\n",
    "\n",
    "def dice(seed,sides) :\n",
    "    random.seed(seed)\n",
    "    return (random.randint(0,sys.maxsize),random.randint(1,sides))"
   ]
  },
  {
   "cell_type": "code",
   "execution_count": 8,
   "id": "db9d3ec9-fc14-492b-8fcf-3bde81ec23ab",
   "metadata": {},
   "outputs": [],
   "source": [
    "seed = 0\n",
    "(seed,value) = dice(seed,6)"
   ]
  },
  {
   "cell_type": "code",
   "execution_count": 11,
   "id": "de8369e9-fca2-4f6a-9821-52b366f84e3b",
   "metadata": {},
   "outputs": [],
   "source": [
    "from functools import partial\n",
    "seed = 0\n",
    "D6 = partial(dice,sides = 6)\n",
    "(seed,value) = D6(seed)"
   ]
  },
  {
   "cell_type": "markdown",
   "id": "30e2d4ef-3e78-448e-9296-41d6062e9c44",
   "metadata": {},
   "source": [
    "This approach still has a number of issues - but it sets sail a whole ship of discovery and discussion. If time / ability permit, get the students to study this example ..."
   ]
  },
  {
   "cell_type": "code",
   "execution_count": 12,
   "id": "cfe8e88a-70a4-4934-9d00-b8abb5bc1f55",
   "metadata": {},
   "outputs": [],
   "source": [
    "def diceClass(sides,seed) : # remember - a class is just function that returns an object\n",
    "    def dice() : # the object produced by the class - remember, an object is just a function with memory\n",
    "        nonlocal seed # the objects memory\n",
    "        random.seed(seed)\n",
    "        seed = random.randint(0,sys.maxsize) # note - python 3 specific\n",
    "        dice,_ = diceClass(sides,seed) # notice the reference to the enclosing function\n",
    "        return dice,random.randint(1,sides)\n",
    "    return dice,_\n",
    "        "
   ]
  },
  {
   "cell_type": "code",
   "execution_count": 13,
   "id": "810d108d-10cf-4086-977c-41536c74bb50",
   "metadata": {},
   "outputs": [],
   "source": [
    "D6,_ = diceClass(6,0)\n",
    "D10,_ = diceClass(6,5)"
   ]
  },
  {
   "cell_type": "code",
   "execution_count": 14,
   "id": "158bfbcd-f917-4839-bf76-2cca4ee37e67",
   "metadata": {},
   "outputs": [
    {
     "name": "stdout",
     "output_type": "stream",
     "text": [
      "D6 gives : 4\n",
      "D6 gives : 6\n",
      "D6 gives : 2\n",
      "D6 gives : 4\n",
      "D6 gives : 6\n",
      "D6 gives : 3\n",
      "D6 gives : 3\n",
      "D6 gives : 1\n",
      "D6 gives : 1\n",
      "D6 gives : 2\n"
     ]
    }
   ],
   "source": [
    "for i in range(10) :\n",
    "    D6,value = D6()\n",
    "    print(\"D6 gives : \" + str(value))"
   ]
  },
  {
   "cell_type": "code",
   "execution_count": 15,
   "id": "18adfcce-fd1e-4d51-8455-2fc4c84b7ab0",
   "metadata": {},
   "outputs": [
    {
     "name": "stdout",
     "output_type": "stream",
     "text": [
      "D10 gives : 6\n",
      "D10 gives : 5\n",
      "D10 gives : 4\n",
      "D10 gives : 2\n",
      "D10 gives : 4\n",
      "D10 gives : 1\n",
      "D10 gives : 3\n",
      "D10 gives : 1\n",
      "D10 gives : 6\n",
      "D10 gives : 4\n"
     ]
    }
   ],
   "source": [
    "for i in range(10) :\n",
    "    D10,value = D10()\n",
    "    print(\"D10 gives : \" + str(value))"
   ]
  },
  {
   "cell_type": "markdown",
   "id": "e95891ab-796d-46b1-b9ac-812473b043be",
   "metadata": {},
   "source": [
    "Repeat - but interleaved !! "
   ]
  },
  {
   "cell_type": "code",
   "execution_count": 16,
   "id": "2ff38fab-9a9c-4783-b3eb-e9765698059d",
   "metadata": {},
   "outputs": [
    {
     "name": "stdout",
     "output_type": "stream",
     "text": [
      "D6 gives : 4\n",
      "D10 gives : 6\n",
      "D6 gives : 6\n",
      "D10 gives : 5\n",
      "D6 gives : 2\n",
      "D10 gives : 4\n",
      "D6 gives : 4\n",
      "D10 gives : 2\n",
      "D6 gives : 6\n",
      "D10 gives : 4\n",
      "D6 gives : 3\n",
      "D10 gives : 1\n",
      "D6 gives : 3\n",
      "D10 gives : 3\n",
      "D6 gives : 1\n",
      "D10 gives : 1\n",
      "D6 gives : 1\n",
      "D10 gives : 6\n",
      "D6 gives : 2\n",
      "D10 gives : 4\n"
     ]
    }
   ],
   "source": [
    "D6,_ = diceClass(6,0)\n",
    "D10,_ = diceClass(6,5)\n",
    "for i in range(10) :\n",
    "    D6,value = D6()\n",
    "    print(\"D6 gives : \" + str(value))\n",
    "    D10,value = D10()\n",
    "    print(\"D10 gives : \" + str(value))\n",
    "    "
   ]
  },
  {
   "cell_type": "markdown",
   "id": "1b897b5f-c9ef-4615-b549-eb408ecd3464",
   "metadata": {},
   "source": [
    "#### Notes\n",
    "\n",
    "1) Could you implement the diceClass using pyhton classes ? \n",
    "2) Remove the comments from the diceClass function and see if the students recognise the class / object patterns.\n",
    "3) Do the students see the significance of the interleaving example ? It shows that dice objects are thread safe\n",
    "4) Can the dice objects be memoised ? Are they pure ? Can the students use their memoise functions from the exercises in the patterns section to memoise the dice objets ?"
   ]
  },
  {
   "cell_type": "markdown",
   "id": "4d74b470-6d77-4ad4-9333-d25ba9484318",
   "metadata": {},
   "source": [
    "### End of Point of Departure"
   ]
  },
  {
   "cell_type": "markdown",
   "id": "7b04c015-0e8a-4276-9a6b-b9dd9628c6fe",
   "metadata": {},
   "source": [
    "## A more declarative Turn"
   ]
  },
  {
   "cell_type": "markdown",
   "id": "2f12ecfd-1d98-46d2-9cc7-1da5c8ce0602",
   "metadata": {},
   "source": [
    "The diceClass can now be used in the turn function."
   ]
  },
  {
   "cell_type": "markdown",
   "id": "fb5f009f-59a8-4dcb-894e-5d1515f7894e",
   "metadata": {},
   "source": [
    "$Turn : Dice \\times Strategy \\times N \\times N \\rightarrow N$"
   ]
  },
  {
   "cell_type": "code",
   "execution_count": 49,
   "id": "59bc3980-6bb5-4a77-bbb9-bb1a44e14076",
   "metadata": {},
   "outputs": [],
   "source": [
    "def basic_pigs_turn(dice,strategy,score,opponent_score) :\n",
    "    running_total = 0\n",
    "    while strategy(score,opponent_score,running_total) :\n",
    "        dice,roll = dice()\n",
    "        if roll == 6 :\n",
    "            return score\n",
    "        running_total += roll\n",
    "    return running_total "
   ]
  },
  {
   "cell_type": "markdown",
   "id": "215ef5ca-ae71-4d53-8f5e-88dca9de4259",
   "metadata": {},
   "source": [
    "#### Example "
   ]
  },
  {
   "cell_type": "code",
   "execution_count": 50,
   "id": "224c5473-cb47-4454-acd0-bf8d367fc288",
   "metadata": {},
   "outputs": [],
   "source": [
    "strategy = partial(stick_at_n,target=100,n=10)\n",
    "dice,_ = diceClass(sides = 6,seed = 0)"
   ]
  },
  {
   "cell_type": "code",
   "execution_count": 84,
   "id": "bb54a730-12aa-42a1-8693-072b386ee604",
   "metadata": {},
   "outputs": [
    {
     "data": {
      "text/plain": [
       "11"
      ]
     },
     "execution_count": 84,
     "metadata": {},
     "output_type": "execute_result"
    }
   ],
   "source": [
    "basic_pigs_turn(dice,strategy,0,0)"
   ]
  },
  {
   "cell_type": "code",
   "execution_count": 238,
   "id": "96f8517b-9179-479c-accd-7058e6383ed0",
   "metadata": {},
   "outputs": [
    {
     "data": {
      "text/plain": [
       "3"
      ]
     },
     "execution_count": 238,
     "metadata": {},
     "output_type": "execute_result"
    }
   ],
   "source": [
    "value"
   ]
  },
  {
   "cell_type": "code",
   "execution_count": 210,
   "id": "f4fae3b9-e7d4-494c-b4b7-e79c0e9e7ef9",
   "metadata": {},
   "outputs": [
    {
     "data": {
      "text/plain": [
       "<function __main__.f.<locals>.g()>"
      ]
     },
     "execution_count": 210,
     "metadata": {},
     "output_type": "execute_result"
    }
   ],
   "source": [
    "res"
   ]
  },
  {
   "cell_type": "code",
   "execution_count": 19,
   "id": "d7ba47c7-7c78-4e56-9764-7c2ec0afe1c5",
   "metadata": {},
   "outputs": [],
   "source": [
    "from functools import partial"
   ]
  },
  {
   "cell_type": "code",
   "execution_count": 28,
   "id": "e2ed2968-fb8b-49e0-8446-fc002088d257",
   "metadata": {},
   "outputs": [],
   "source": [
    "a = partial(stick_at_n,n=20)\n",
    "b = partial(stick_at_n,n=10)"
   ]
  },
  {
   "cell_type": "code",
   "execution_count": 121,
   "id": "4ba12183-9f1d-40e8-9184-26ba55f4d8a8",
   "metadata": {},
   "outputs": [
    {
     "data": {
      "text/plain": [
       "0"
      ]
     },
     "execution_count": 121,
     "metadata": {},
     "output_type": "execute_result"
    }
   ],
   "source": [
    "turn(a,b,0,0)"
   ]
  },
  {
   "cell_type": "code",
   "execution_count": 178,
   "id": "75b51f30-f0ad-4296-a546-d86c69fcece1",
   "metadata": {},
   "outputs": [],
   "source": [
    "def pigs(a,b,target,ascore = 0,bscore = 0) :\n",
    "    ascore += turn(a,b,ascore,bscore)\n",
    "    if ascore > target :\n",
    "        return a\n",
    "    bscore += turn(b,a,bscore,ascore)\n",
    "    if bscore > target :\n",
    "        return b\n",
    "    return pigs(a,b,target,ascore,bscore)"
   ]
  },
  {
   "cell_type": "code",
   "execution_count": 179,
   "id": "fa8e7581-48c9-4cf1-80b6-a6035de2c9fb",
   "metadata": {},
   "outputs": [],
   "source": [
    "res = pigs(a,b,100)"
   ]
  },
  {
   "cell_type": "code",
   "execution_count": 142,
   "id": "3a66f475-66fb-41a1-b977-77659c1356cf",
   "metadata": {},
   "outputs": [
    {
     "data": {
      "text/plain": [
       "True"
      ]
     },
     "execution_count": 142,
     "metadata": {},
     "output_type": "execute_result"
    }
   ],
   "source": [
    "res == b"
   ]
  },
  {
   "cell_type": "code",
   "execution_count": 148,
   "id": "6bf302fc-45de-480e-a3f9-a2ad9e1f8b0d",
   "metadata": {},
   "outputs": [],
   "source": [
    "def round(a,b,target,rounds) :\n",
    "    return [game(x,y,target) for x,y in [(a,b)]*rounds]\n",
    "    "
   ]
  },
  {
   "cell_type": "code",
   "execution_count": 149,
   "id": "a522ba34-c390-4705-90c4-4e645616876a",
   "metadata": {},
   "outputs": [
    {
     "data": {
      "text/plain": [
       "[functools.partial(<function stick_at_n at 0x7a01101b5da0>, n=20),\n",
       " functools.partial(<function stick_at_n at 0x7a01101b5da0>, n=20),\n",
       " functools.partial(<function stick_at_n at 0x7a01101b5da0>, n=20),\n",
       " functools.partial(<function stick_at_n at 0x7a01101b5da0>, n=10),\n",
       " functools.partial(<function stick_at_n at 0x7a01101b5da0>, n=20),\n",
       " functools.partial(<function stick_at_n at 0x7a01101b5da0>, n=20),\n",
       " functools.partial(<function stick_at_n at 0x7a01101b5da0>, n=20),\n",
       " functools.partial(<function stick_at_n at 0x7a01101b5da0>, n=20),\n",
       " functools.partial(<function stick_at_n at 0x7a01101b5da0>, n=20),\n",
       " functools.partial(<function stick_at_n at 0x7a01101b5da0>, n=10),\n",
       " functools.partial(<function stick_at_n at 0x7a01101b5da0>, n=10),\n",
       " functools.partial(<function stick_at_n at 0x7a01101b5da0>, n=20),\n",
       " functools.partial(<function stick_at_n at 0x7a01101b5da0>, n=20),\n",
       " functools.partial(<function stick_at_n at 0x7a01101b5da0>, n=20),\n",
       " functools.partial(<function stick_at_n at 0x7a01101b5da0>, n=20),\n",
       " functools.partial(<function stick_at_n at 0x7a01101b5da0>, n=10),\n",
       " functools.partial(<function stick_at_n at 0x7a01101b5da0>, n=10),\n",
       " functools.partial(<function stick_at_n at 0x7a01101b5da0>, n=20),\n",
       " functools.partial(<function stick_at_n at 0x7a01101b5da0>, n=20),\n",
       " functools.partial(<function stick_at_n at 0x7a01101b5da0>, n=10)]"
      ]
     },
     "execution_count": 149,
     "metadata": {},
     "output_type": "execute_result"
    }
   ],
   "source": [
    "round(a,b,100,20)"
   ]
  },
  {
   "cell_type": "code",
   "execution_count": 176,
   "id": "794ef9ba-c82c-4c78-8bf6-d648562bee01",
   "metadata": {},
   "outputs": [],
   "source": [
    "def competition(strategies) :\n",
    "    matches = reduce(lambda a,b : a + b,list(map(lambda y : list(map(lambda x : (y,x) , strategies)),strategies)))\n",
    "    return {(a,b) : round(a,b,100,20) for a,b in matches}"
   ]
  },
  {
   "cell_type": "code",
   "execution_count": 168,
   "id": "96f5f82a-e007-4685-9edf-8e5bf685fd2e",
   "metadata": {},
   "outputs": [],
   "source": [
    "strategies = [a,b]"
   ]
  },
  {
   "cell_type": "code",
   "execution_count": 159,
   "id": "ec2ccfe5-717d-4742-9008-958a101e0e94",
   "metadata": {},
   "outputs": [],
   "source": [
    "matches = list(map(lambda x : map(lambda y : (x,y), strategies),strategies))"
   ]
  },
  {
   "cell_type": "code",
   "execution_count": 166,
   "id": "1aa2249c-aa69-4b24-a58c-8de39a802566",
   "metadata": {},
   "outputs": [
    {
     "data": {
      "text/plain": [
       "[(1, 1), (1, 2), (2, 1), (2, 2)]"
      ]
     },
     "execution_count": 166,
     "metadata": {},
     "output_type": "execute_result"
    }
   ],
   "source": [
    "from functools import reduce\n",
    "reduce(lambda a,b : a + b,list(map(lambda y : list(map(lambda x : (y,x) , strategies)),strategies)))"
   ]
  },
  {
   "cell_type": "code",
   "execution_count": 177,
   "id": "47cd48ff-ff66-42ae-b6fe-ebf0337391be",
   "metadata": {},
   "outputs": [
    {
     "data": {
      "text/plain": [
       "{(functools.partial(<function stick_at_n at 0x7a01101b5da0>, n=20),\n",
       "  functools.partial(<function stick_at_n at 0x7a01101b5da0>, n=20)): [functools.partial(<function stick_at_n at 0x7a01101b5da0>, n=20),\n",
       "  functools.partial(<function stick_at_n at 0x7a01101b5da0>, n=20),\n",
       "  functools.partial(<function stick_at_n at 0x7a01101b5da0>, n=20),\n",
       "  functools.partial(<function stick_at_n at 0x7a01101b5da0>, n=20),\n",
       "  functools.partial(<function stick_at_n at 0x7a01101b5da0>, n=20),\n",
       "  functools.partial(<function stick_at_n at 0x7a01101b5da0>, n=20),\n",
       "  functools.partial(<function stick_at_n at 0x7a01101b5da0>, n=20),\n",
       "  functools.partial(<function stick_at_n at 0x7a01101b5da0>, n=20),\n",
       "  functools.partial(<function stick_at_n at 0x7a01101b5da0>, n=20),\n",
       "  functools.partial(<function stick_at_n at 0x7a01101b5da0>, n=20),\n",
       "  functools.partial(<function stick_at_n at 0x7a01101b5da0>, n=20),\n",
       "  functools.partial(<function stick_at_n at 0x7a01101b5da0>, n=20),\n",
       "  functools.partial(<function stick_at_n at 0x7a01101b5da0>, n=20),\n",
       "  functools.partial(<function stick_at_n at 0x7a01101b5da0>, n=20),\n",
       "  functools.partial(<function stick_at_n at 0x7a01101b5da0>, n=20),\n",
       "  functools.partial(<function stick_at_n at 0x7a01101b5da0>, n=20),\n",
       "  functools.partial(<function stick_at_n at 0x7a01101b5da0>, n=20),\n",
       "  functools.partial(<function stick_at_n at 0x7a01101b5da0>, n=20),\n",
       "  functools.partial(<function stick_at_n at 0x7a01101b5da0>, n=20),\n",
       "  functools.partial(<function stick_at_n at 0x7a01101b5da0>, n=20)],\n",
       " (functools.partial(<function stick_at_n at 0x7a01101b5da0>, n=20),\n",
       "  functools.partial(<function stick_at_n at 0x7a01101b5da0>, n=10)): [functools.partial(<function stick_at_n at 0x7a01101b5da0>, n=10),\n",
       "  functools.partial(<function stick_at_n at 0x7a01101b5da0>, n=20),\n",
       "  functools.partial(<function stick_at_n at 0x7a01101b5da0>, n=10),\n",
       "  functools.partial(<function stick_at_n at 0x7a01101b5da0>, n=10),\n",
       "  functools.partial(<function stick_at_n at 0x7a01101b5da0>, n=20),\n",
       "  functools.partial(<function stick_at_n at 0x7a01101b5da0>, n=20),\n",
       "  functools.partial(<function stick_at_n at 0x7a01101b5da0>, n=10),\n",
       "  functools.partial(<function stick_at_n at 0x7a01101b5da0>, n=10),\n",
       "  functools.partial(<function stick_at_n at 0x7a01101b5da0>, n=20),\n",
       "  functools.partial(<function stick_at_n at 0x7a01101b5da0>, n=20),\n",
       "  functools.partial(<function stick_at_n at 0x7a01101b5da0>, n=10),\n",
       "  functools.partial(<function stick_at_n at 0x7a01101b5da0>, n=20),\n",
       "  functools.partial(<function stick_at_n at 0x7a01101b5da0>, n=10),\n",
       "  functools.partial(<function stick_at_n at 0x7a01101b5da0>, n=20),\n",
       "  functools.partial(<function stick_at_n at 0x7a01101b5da0>, n=20),\n",
       "  functools.partial(<function stick_at_n at 0x7a01101b5da0>, n=20),\n",
       "  functools.partial(<function stick_at_n at 0x7a01101b5da0>, n=20),\n",
       "  functools.partial(<function stick_at_n at 0x7a01101b5da0>, n=20),\n",
       "  functools.partial(<function stick_at_n at 0x7a01101b5da0>, n=20),\n",
       "  functools.partial(<function stick_at_n at 0x7a01101b5da0>, n=10)],\n",
       " (functools.partial(<function stick_at_n at 0x7a01101b5da0>, n=10),\n",
       "  functools.partial(<function stick_at_n at 0x7a01101b5da0>, n=20)): [functools.partial(<function stick_at_n at 0x7a01101b5da0>, n=20),\n",
       "  functools.partial(<function stick_at_n at 0x7a01101b5da0>, n=20),\n",
       "  functools.partial(<function stick_at_n at 0x7a01101b5da0>, n=20),\n",
       "  functools.partial(<function stick_at_n at 0x7a01101b5da0>, n=10),\n",
       "  functools.partial(<function stick_at_n at 0x7a01101b5da0>, n=10),\n",
       "  functools.partial(<function stick_at_n at 0x7a01101b5da0>, n=20),\n",
       "  functools.partial(<function stick_at_n at 0x7a01101b5da0>, n=10),\n",
       "  functools.partial(<function stick_at_n at 0x7a01101b5da0>, n=20),\n",
       "  functools.partial(<function stick_at_n at 0x7a01101b5da0>, n=20),\n",
       "  functools.partial(<function stick_at_n at 0x7a01101b5da0>, n=10),\n",
       "  functools.partial(<function stick_at_n at 0x7a01101b5da0>, n=10),\n",
       "  functools.partial(<function stick_at_n at 0x7a01101b5da0>, n=20),\n",
       "  functools.partial(<function stick_at_n at 0x7a01101b5da0>, n=20),\n",
       "  functools.partial(<function stick_at_n at 0x7a01101b5da0>, n=10),\n",
       "  functools.partial(<function stick_at_n at 0x7a01101b5da0>, n=20),\n",
       "  functools.partial(<function stick_at_n at 0x7a01101b5da0>, n=20),\n",
       "  functools.partial(<function stick_at_n at 0x7a01101b5da0>, n=20),\n",
       "  functools.partial(<function stick_at_n at 0x7a01101b5da0>, n=10),\n",
       "  functools.partial(<function stick_at_n at 0x7a01101b5da0>, n=20),\n",
       "  functools.partial(<function stick_at_n at 0x7a01101b5da0>, n=20)],\n",
       " (functools.partial(<function stick_at_n at 0x7a01101b5da0>, n=10),\n",
       "  functools.partial(<function stick_at_n at 0x7a01101b5da0>, n=10)): [functools.partial(<function stick_at_n at 0x7a01101b5da0>, n=10),\n",
       "  functools.partial(<function stick_at_n at 0x7a01101b5da0>, n=10),\n",
       "  functools.partial(<function stick_at_n at 0x7a01101b5da0>, n=10),\n",
       "  functools.partial(<function stick_at_n at 0x7a01101b5da0>, n=10),\n",
       "  functools.partial(<function stick_at_n at 0x7a01101b5da0>, n=10),\n",
       "  functools.partial(<function stick_at_n at 0x7a01101b5da0>, n=10),\n",
       "  functools.partial(<function stick_at_n at 0x7a01101b5da0>, n=10),\n",
       "  functools.partial(<function stick_at_n at 0x7a01101b5da0>, n=10),\n",
       "  functools.partial(<function stick_at_n at 0x7a01101b5da0>, n=10),\n",
       "  functools.partial(<function stick_at_n at 0x7a01101b5da0>, n=10),\n",
       "  functools.partial(<function stick_at_n at 0x7a01101b5da0>, n=10),\n",
       "  functools.partial(<function stick_at_n at 0x7a01101b5da0>, n=10),\n",
       "  functools.partial(<function stick_at_n at 0x7a01101b5da0>, n=10),\n",
       "  functools.partial(<function stick_at_n at 0x7a01101b5da0>, n=10),\n",
       "  functools.partial(<function stick_at_n at 0x7a01101b5da0>, n=10),\n",
       "  functools.partial(<function stick_at_n at 0x7a01101b5da0>, n=10),\n",
       "  functools.partial(<function stick_at_n at 0x7a01101b5da0>, n=10),\n",
       "  functools.partial(<function stick_at_n at 0x7a01101b5da0>, n=10),\n",
       "  functools.partial(<function stick_at_n at 0x7a01101b5da0>, n=10),\n",
       "  functools.partial(<function stick_at_n at 0x7a01101b5da0>, n=10)]}"
      ]
     },
     "execution_count": 177,
     "metadata": {},
     "output_type": "execute_result"
    }
   ],
   "source": [
    "competition([a,b])"
   ]
  },
  {
   "cell_type": "code",
   "execution_count": null,
   "id": "df92459c-02d9-40dc-809c-57251a66b5ef",
   "metadata": {},
   "outputs": [],
   "source": []
  },
  {
   "cell_type": "code",
   "execution_count": 6,
   "id": "00f1dd3b-7d62-4652-9f7b-90eea2e1d886",
   "metadata": {},
   "outputs": [
    {
     "data": {
      "text/plain": [
       "[[(1, 1), (1, 2), (1, 3), (1, 4)],\n",
       " [(2, 1), (2, 2), (2, 3), (2, 4)],\n",
       " [(3, 1), (3, 2), (3, 3), (3, 4)],\n",
       " [(4, 1), (4, 2), (4, 3), (4, 4)]]"
      ]
     },
     "execution_count": 6,
     "metadata": {},
     "output_type": "execute_result"
    }
   ],
   "source": [
    "list(map(lambda x : list(map(lambda y : (x,y), X)),X))"
   ]
  },
  {
   "cell_type": "code",
   "execution_count": null,
   "id": "59ea4b42-a1bc-4971-97f4-bf2b01dda305",
   "metadata": {},
   "outputs": [],
   "source": []
  },
  {
   "cell_type": "code",
   "execution_count": null,
   "id": "6d5953ec-7072-4fa8-b77d-b7ac7b3b958c",
   "metadata": {},
   "outputs": [],
   "source": []
  },
  {
   "cell_type": "code",
   "execution_count": null,
   "id": "fcb75490-af5e-4990-a224-02c266b80b39",
   "metadata": {},
   "outputs": [],
   "source": []
  },
  {
   "cell_type": "code",
   "execution_count": null,
   "id": "6db8f3da-ea4a-46aa-b28c-85a32aaeab2a",
   "metadata": {},
   "outputs": [],
   "source": []
  },
  {
   "cell_type": "markdown",
   "id": "686e4e42-858c-4905-95fd-200b4ea0f60b",
   "metadata": {},
   "source": [
    "# Notes\n",
    "\n",
    "Dice book - need to make a bibtex entry\n",
    "\n",
    "@BOOK{Knizia2010-ez,\n",
    "  title     = \"Dice games properly explained\",\n",
    "  author    = \"Knizia, Reiner\",\n",
    "  publisher = \"Blue Terrier Press\",\n",
    "  month     =  jan,\n",
    "  year      =  2010\n",
    "}\n",
    "\n",
    "\n",
    "\n",
    "\n",
    "\n",
    "\n"
   ]
  }
 ],
 "metadata": {
  "kernelspec": {
   "display_name": "Python 3 (ipykernel)",
   "language": "python",
   "name": "python3"
  },
  "language_info": {
   "codemirror_mode": {
    "name": "ipython",
    "version": 3
   },
   "file_extension": ".py",
   "mimetype": "text/x-python",
   "name": "python",
   "nbconvert_exporter": "python",
   "pygments_lexer": "ipython3",
   "version": "3.11.0"
  }
 },
 "nbformat": 4,
 "nbformat_minor": 5
}
