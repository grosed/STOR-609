{
 "cells": [
  {
   "cell_type": "markdown",
   "id": "b08c6364-8a47-4771-9402-b47f8fb052b6",
   "metadata": {},
   "source": [
    "# Pigs Style Game Competition"
   ]
  },
  {
   "cell_type": "markdown",
   "id": "4bfb163a-ce67-4ba1-89f9-c266e7eef330",
   "metadata": {},
   "source": [
    "## Developer Note\n",
    "\n",
    "The plan !!  Get the students to do some strategies for the \"intro to python\" course they get in term 1. I write a shiny app that they submit the strategies to the \"competion\" code and the overall winner gets a prize.\n",
    "\n",
    "In term 2 for STOR-609, they write the \"competition\" code (as badly as possible), swap solutions, and rewrite wrt the 5Rs.\n",
    "\n",
    "I then introduce \"patterns\". They then improve there own code for th strategies and the competition from previous exercise using patterns, present it, and report on how the 5Rs  have been improved by use of patterns and other things. "
   ]
  },
  {
   "cell_type": "markdown",
   "id": "43059351-687c-433d-b595-ad291ed478fc",
   "metadata": {},
   "source": [
    "## Basic Strategy  Function"
   ]
  },
  {
   "cell_type": "code",
   "execution_count": 26,
   "id": "fa6b537e-a96a-4a33-a2ab-84d8f78812eb",
   "metadata": {},
   "outputs": [],
   "source": [
    "def stick_at_n(score,opponent_score,running_total,n) :\n",
    "    return True if running_total < n + 1 else False "
   ]
  },
  {
   "cell_type": "code",
   "execution_count": null,
   "id": "2fbd2af2-37fd-45a1-b755-36443b2a212f",
   "metadata": {},
   "outputs": [],
   "source": []
  },
  {
   "cell_type": "code",
   "execution_count": null,
   "id": "05dd0eb2-9c81-428f-bbe7-f22aec889cd7",
   "metadata": {},
   "outputs": [],
   "source": []
  },
  {
   "cell_type": "markdown",
   "id": "52755cbf-6c78-4b2f-be19-406849363904",
   "metadata": {},
   "source": [
    "## Basic Competition"
   ]
  },
  {
   "cell_type": "code",
   "execution_count": 10,
   "id": "2b5ef8ce-e87a-43a5-8b0b-16e66d12becd",
   "metadata": {},
   "outputs": [],
   "source": [
    "import random"
   ]
  },
  {
   "cell_type": "code",
   "execution_count": 15,
   "id": "ffac8c77-1b9d-4ef4-a9aa-7e4ff03d9e15",
   "metadata": {},
   "outputs": [
    {
     "data": {
      "text/plain": [
       "5"
      ]
     },
     "execution_count": 15,
     "metadata": {},
     "output_type": "execute_result"
    }
   ],
   "source": [
    "random.randint(1,6)"
   ]
  },
  {
   "cell_type": "code",
   "execution_count": 7,
   "id": "14027948-21dd-4bec-a664-f4e28a873772",
   "metadata": {},
   "outputs": [],
   "source": [
    "def competition(strategies) :\n",
    "    rounds = list(map(lambda x : list(map(lambda y : (x,y), strategies)),strategies))\n",
    "    results = dict()\n",
    "    def play(x,y) :\n",
    "        xscore = 0\n",
    "        yscore = 0\n",
    "        running_total = 0\n",
    "        while x(xscore,yscore,running_total) :\n",
    "            roll = random.randint(1,6)\n",
    "            if roll == 6 :\n",
    "                running_total = 0\n",
    "                break\n",
    "            running_total += roll\n",
    "        \n",
    "        \n",
    "        \n",
    "        "
   ]
  },
  {
   "cell_type": "code",
   "execution_count": 18,
   "id": "0dba91ea-3300-4ff9-99b1-bf306803fe42",
   "metadata": {},
   "outputs": [],
   "source": [
    "def turn(a,b,ascore,bscore) :\n",
    "    running_total = 0\n",
    "    while a(ascore,bscore,running_total) :\n",
    "        roll = random.randint(1,6)\n",
    "        if roll == 6 :\n",
    "            return ascore\n",
    "        running_total += roll\n",
    "    return running_total\n",
    "    "
   ]
  },
  {
   "cell_type": "code",
   "execution_count": 19,
   "id": "d7ba47c7-7c78-4e56-9764-7c2ec0afe1c5",
   "metadata": {},
   "outputs": [],
   "source": [
    "from functools import partial"
   ]
  },
  {
   "cell_type": "code",
   "execution_count": 28,
   "id": "e2ed2968-fb8b-49e0-8446-fc002088d257",
   "metadata": {},
   "outputs": [],
   "source": [
    "a = partial(stick_at_n,n=20)\n",
    "b = partial(stick_at_n,n=10)"
   ]
  },
  {
   "cell_type": "code",
   "execution_count": 93,
   "id": "4ba12183-9f1d-40e8-9184-26ba55f4d8a8",
   "metadata": {},
   "outputs": [
    {
     "data": {
      "text/plain": [
       "0"
      ]
     },
     "execution_count": 93,
     "metadata": {},
     "output_type": "execute_result"
    }
   ],
   "source": [
    "turn(a,b,0,0)"
   ]
  },
  {
   "cell_type": "code",
   "execution_count": 6,
   "id": "00f1dd3b-7d62-4652-9f7b-90eea2e1d886",
   "metadata": {},
   "outputs": [
    {
     "data": {
      "text/plain": [
       "[[(1, 1), (1, 2), (1, 3), (1, 4)],\n",
       " [(2, 1), (2, 2), (2, 3), (2, 4)],\n",
       " [(3, 1), (3, 2), (3, 3), (3, 4)],\n",
       " [(4, 1), (4, 2), (4, 3), (4, 4)]]"
      ]
     },
     "execution_count": 6,
     "metadata": {},
     "output_type": "execute_result"
    }
   ],
   "source": [
    "list(map(lambda x : list(map(lambda y : (x,y), X)),X))"
   ]
  }
 ],
 "metadata": {
  "kernelspec": {
   "display_name": "Python 3 (ipykernel)",
   "language": "python",
   "name": "python3"
  },
  "language_info": {
   "codemirror_mode": {
    "name": "ipython",
    "version": 3
   },
   "file_extension": ".py",
   "mimetype": "text/x-python",
   "name": "python",
   "nbconvert_exporter": "python",
   "pygments_lexer": "ipython3",
   "version": "3.11.0"
  }
 },
 "nbformat": 4,
 "nbformat_minor": 5
}
