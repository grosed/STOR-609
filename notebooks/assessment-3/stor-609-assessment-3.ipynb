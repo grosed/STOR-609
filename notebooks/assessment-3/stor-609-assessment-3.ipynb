{
 "cells": [
  {
   "cell_type": "markdown",
   "id": "0361ce34-ff22-4990-85a5-279db71cedd2",
   "metadata": {},
   "source": [
    "# STOR-609 Assessment 3\n",
    "\n",
    "## Replication and Reproduction Study"
   ]
  },
  {
   "cell_type": "markdown",
   "id": "762e426f-9130-4357-9709-fd70ebfca1fb",
   "metadata": {},
   "source": [
    "# Overview"
   ]
  },
  {
   "cell_type": "markdown",
   "id": "80b51037-dad6-489f-97ef-ddb7372d56f8",
   "metadata": {},
   "source": [
    "In this assessment you will draw on all the skills and knowledge you have developed over the course of this module to apply to a substantial coding project such as you may be required to develop or contribute to during the course of your PhD.\n",
    "This will be a group project and will take the form of a code reproduction exercise related to the game of Pig which was introduced earlier in the course.\n",
    "\n",
    "You will be required you to replicate and reproduce the article results from the [**\"Optimal Play of the Dice Game Pig\"**](https://cupola.gettysburg.edu/csfac/4/) by Neller and Presser 2004 which proposes an approximate dynamic programming method for computing the optimal playing strategy for the game Pig. The result of this exercise should be a collection of work organised and prepared in a way such that it is suitable for submission as an article to the [**ReScience C journal**](http://rescience.github.io/).\n",
    "That is, the output will consist of a collection of code which can be used to reproduce numerical results from the original paper, and an accompanying report which outlines what was implemented, the new results, and discusses any issues encountered during the reproduction exercise.\n",
    "\n",
    "Additionally, you will be required to critically reflect on your work in a group presentation.\n",
    "For this you will appraise the quality of your work and the original paper in terms of the 5 R's.\n",
    "Finally, to ensure that each member of a group is awarded fairly for their contribution to the project, there will be a peer assessment component where you will be required individually to evaluate this contribution for each member of your group.\n",
    "\n",
    "To help you and your group undertake this work there are three support tutorial sessions (8 hours in total).\n",
    "\n",
    "The weighting of the each of the three components in the overall mark for the module is as follows:\n",
    "\n",
    "- **Report and code repository**: 30%\n",
    "- **Presentation**: 10%\n",
    "- **Peer assessment**: 10%\n"
   ]
  },
  {
   "cell_type": "markdown",
   "id": "d3d20a88-5754-4072-aff9-6975fbd805f0",
   "metadata": {},
   "source": [
    "## Time Line\n",
    "\n",
    "Your work needs to be submitted by (DATE HERE) using the method detailed in the **Assessment Process** section.\n",
    "\n",
    "There are three timetabled tutorial sessions to provide support and advice during the assessment period. Attendance at these tutorials is mandatory.\n",
    "\n",
    "Feedback and marks will usually be provided within two working weeks of the submission date. However, your work may be subject to a review processing which case you will be informed about any delays this may incur.\n",
    "\n",
    "Any queries regarding the assessment should, in the first instance, be by e-mail to [Daniel Grose](mailto:dan.grose@lancaster.ac.uk) and [Jamie Fairbrother](mailto:j.fairbrother@lancaster.ac.uk)."
   ]
  },
  {
   "cell_type": "markdown",
   "id": "3adb42fa-9fe9-42fd-8d2b-3a8a3e2ec38c",
   "metadata": {},
   "source": [
    "## Some Guidelines for Undertaking the Work\n",
    "\n",
    "- Take some time to familiarise yourself with the article [**\"Optimal Play of the Dice Game Pig\"**](https://cupola.gettysburg.edu/csfac/4/)\n",
    "\n",
    "- Visit [**ReScience C journal**](http://rescience.github.io/) and determine its [rational regarding sustainable computational science](https://peerj.com/articles/cs-142/)\n",
    "\n",
    "- Check you understand the [***Criterea for Publication***](http://rescience.github.io/write/) used by[**ReScience C journal**](http://rescience.github.io/).\n",
    "\n",
    "- Briefly explore a small selection of articles from [**ReScience C**](http://rescience.github.io/), for example [**ReScience C 9, 1, #4**](http://rescience.github.io/bibliography/Doyen_2023.html). Make sure you look at how the supporting material, such as the code, is organised, documented, and made publicly available.\n",
    "\n",
    "- Check you understand how your work will be assessed (see the section ***Assessment Process*** in this document for details).\n",
    "\n",
    "Once you have been allocated to a group,arrange a group meeting to discuss and agree how you are going to proceed with the replication / reproduction exercise. It might be useful to consider the following :\n",
    "\n",
    "- Agreement of objectives and outcomes\n",
    "- Division of responsibilities and tasks\n",
    "- How to assess progress\n",
    "- How to measure success or failure\n",
    "- How to decide when to stop !!\n",
    "\n",
    "#### ***Please make sure that you and your group attend all of the support tutorials allocated to this assessment***."
   ]
  },
  {
   "cell_type": "markdown",
   "id": "ffcd6a3e-75e7-4d9f-9a49-84e11c2de39c",
   "metadata": {},
   "source": [
    "## Assessment Process"
   ]
  },
  {
   "cell_type": "markdown",
   "id": "451fe893-a9e3-45d3-9113-67ee5836ac50",
   "metadata": {},
   "source": [
    "#### Submission \n",
    "\n",
    "All of the elements of your work (notebooks, data, LaTeX, source code etc) should be made available via a public repository on github. Formal submission of the work should be made by inviting [Daniel Grose](https://github.com/grosed) and [Jamie Fairbrother](https://github.com/fairbrot) by the submission date. Note, only files committed by the submission date will be considered for assessment unless other prior arrangements have been made. \n",
    "\n",
    "#### Overall quality of your work \n",
    "\n",
    "This will be assessed against the [***Criterea for Publication***](http://rescience.github.io/write/) as used by the [**ReScience C journal**](http://rescience.github.io/). Your work should include\n",
    "  \n",
    "- An introduction\n",
    "- A methodology\n",
    "- A results section\n",
    "- A discussion section\n",
    "\n",
    "but does not require\n",
    "\n",
    "- A Literature review\n",
    "\n",
    "If necessary, use an appendix to help organise your article.\n",
    "    \n",
    "#### Presentation of your work \n",
    "\n",
    "You will be required to give a short group presentation. This should cover the following\n",
    "\n",
    "- A summary of the main findings of your ReScience C article.\n",
    "- An assessment of the quality of the original work with respect to the [**5Rs**](https://www.frontiersin.org/journals/neuroinformatics/articles/10.3389/fninf.2017.00069/full).\n",
    "- An assessment of the quality of your replication/reproduction study with respect to the [**5Rs**](https://www.frontiersin.org/journals/neuroinformatics/articles/10.3389/fninf.2017.00069/full).\n",
    "\n",
    "    \n",
    "#### Pier assessment of your work\n",
    "\n",
    "Each member of the group will provide an assessment of their group members contribution to the overall assessment.\n",
    "\n",
    "#### Assessment Criteria \n",
    "\n",
    "- A rigorous description of the methodologies used in both your own work and the original article   \n",
    "- Quality of source code with respect to the 5Rs\n",
    "- Evidence for replication of the original results or explanations why original results cannot be replicated.\n",
    "- Clarity and accuracy of exposition\n",
    "- Overall organisation and layout of the article\n"
   ]
  },
  {
   "cell_type": "markdown",
   "id": "f3bdae71-c97b-414f-8e69-36eb07ed0a3e",
   "metadata": {},
   "source": [
    "#### Assessment Benchmarks\n",
    "\n",
    "**80-100% :**\n",
    "\n",
    "Accurate and complete with respect to the assessment criteria. The article could form the basis for a submission to the [**ReScience C journal**](http://rescience.github.io/). \n",
    "\n",
    "**70-80% :**\n",
    "\n",
    "**60-70% :**\n",
    "\n",
    "**50-60% :**\n",
    "\n",
    "**40-50% :**\n",
    "\n",
    "**30-40% :**\n",
    "\n",
    "**20-30% :**\n",
    "\n",
    "**10-20% :**\n",
    "\n",
    "**0-10% :**\n",
    "\n",
    "Little or no evidence of an attempt to replicate or reproduce the article [**\"Optimal Play of the Dice Game Pig\"**](https://cupola.gettysburg.edu/csfac/4/)"
   ]
  },
  {
   "cell_type": "markdown",
   "id": "06c2b989-43ff-40d3-b067-2c27b83e92f2",
   "metadata": {},
   "source": [
    "## Resources\n",
    "\n",
    "[**5Rs Roadmap presentation**](https://prezi.com/view/nf1JVpHcx5MldSibqCFs/)\n",
    "\n",
    "[**Re-run, Repeat, Reproduce, Reuse, Replicate: Transforming Code into Scientific Contributions**](https://www.frontiersin.org/journals/neuroinformatics/articles/10.3389/fninf.2017.00069/full)\n",
    "\n",
    "[**ReScience C journal**](http://rescience.github.io/)\n",
    "\n",
    "[**\"Optimal Play of the Dice Game Pig\"**](https://cupola.gettysburg.edu/csfac/4/)"
   ]
  }
 ],
 "metadata": {
  "kernelspec": {
   "display_name": "Python 3",
   "language": "python",
   "name": "python3"
  },
  "language_info": {
   "codemirror_mode": {
    "name": "ipython",
    "version": 3
   },
   "file_extension": ".py",
   "mimetype": "text/x-python",
   "name": "python",
   "nbconvert_exporter": "python",
   "pygments_lexer": "ipython3",
   "version": "3.8.10"
  }
 },
 "nbformat": 4,
 "nbformat_minor": 5
}
