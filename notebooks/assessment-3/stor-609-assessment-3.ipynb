{
 "cells": [
  {
   "cell_type": "markdown",
   "id": "0361ce34-ff22-4990-85a5-279db71cedd2",
   "metadata": {},
   "source": [
    "# STOR-609 Assessment 3\n",
    "\n",
    "## Replication and Reproduction Study"
   ]
  },
  {
   "cell_type": "markdown",
   "id": "762e426f-9130-4357-9709-fd70ebfca1fb",
   "metadata": {},
   "source": [
    "## Overview"
   ]
  },
  {
   "cell_type": "markdown",
   "id": "80b51037-dad6-489f-97ef-ddb7372d56f8",
   "metadata": {},
   "source": [
    "In this assessment you will draw on all the skills and knowledge you have developed over the course of this module to apply to a substantial coding project such as you may be required to develop or contribute to during the course of your PhD.\n",
    "This will be a group project and will take the form of a code reproduction exercise related to the game of Pig which was introduced earlier in the course.\n",
    "\n",
    "You will be required you to replicate and reproduce the results from the article [**\"Optimal Play of the Dice Game Pig\"**](https://cupola.gettysburg.edu/csfac/4/) by Neller and Presser 2004 which proposes an approximate dynamic programming method for computing the optimal playing strategy for the game Pig. The result of this exercise should be a collection of work organised and prepared in a way such that it is suitable for submission as an article to the [**ReScience C journal**](http://rescience.github.io/).\n",
    "That is, the output will consist of a collection of code which can be used to reproduce numerical results from the original paper, and an accompanying report which outlines what was implemented, the new results, and discusses any issues encountered during the reproduction exercise.\n",
    "\n",
    "Additionally, you will be required to critically reflect on your work in a group presentation.\n",
    "For this you will appraise the quality of your work and the original paper in terms of the 5 R's.\n",
    "Finally, to ensure that each member of a group is awarded fairly for their contribution to the project, there will be a peer assessment component where you will be required individually to evaluate this contribution for each member of your group.\n",
    "\n",
    "To help you and your group undertake this work there are three support tutorial sessions (8 hours in total).\n",
    "\n",
    "The weighting of the each of the three components in the overall mark for the module is as follows:\n",
    "\n",
    "- **Report and code repository**: 30%\n",
    "- **Presentation**: 10%\n",
    "- **Peer assessment**: 10%\n"
   ]
  },
  {
   "cell_type": "markdown",
   "id": "451fe893-a9e3-45d3-9113-67ee5836ac50",
   "metadata": {},
   "source": [
    "## Report and code repository\n",
    "\n",
    "The report and code repository should be in a format suitable for submission to *ReScience C*.\n",
    "It is strongly encouraged that you familiarise yourselves with the submission guidelines for *ReScience C* journal, and you view some submissions to get an idea of what is required.\n",
    "\n",
    "### Format of Report\n",
    "\n",
    "The main report should include:\n",
    "\n",
    "- An introduction\n",
    "- A methodology\n",
    "- A results section\n",
    "- A discussion section\n",
    "\n",
    "Like any other academic paper, you should provide references to other work where necessary, but a full literature review is not required for the purposes of this assessment.\n",
    "\n",
    "If necessary, use an appendix to help organise your article.\n",
    "\n",
    "### Code\n",
    "\n",
    "You should submit all the code required to run the numerical tests presented in your report.\n",
    "You are free to structure this in any way you wish.\n",
    "For example, this could take the form of a Python package implementing core components of the methodology, with scripts or Jupyter notebooks used to run the numerical results appearing in your report.\n",
    "The code will be assessed according to the 5 R's, and as such, it should be appropropriately documented.\n",
    "At a minimum, you should provide a `README.md` file which briefly overviews the contents and purpose of the code base, and in particular, provides instructions on how to rerun any code which reproduces the numerical results from your paper.\n",
    "\n",
    "### Submission of report and code\n",
    "\n",
    "All of the elements of your work (notebooks, data, LaTeX, source code etc) should be made available via a single repository on GitHub.\n",
    "The report should be included in the repository either as a PDF, or as LaTeX source files with instructions on how this can be compiled.\n",
    "\n",
    "Formal submission of the work should be made by inviting [Daniel Grose](https://github.com/grosed) and [Jamie Fairbrother](https://github.com/fairbrot) to be collaborators to this repository by the submission date (if there are any issues here, you can alternatively email a copy of the repository including the hidden `.git` folder in the top-level).\n",
    "\n",
    "Note, only files committed by the submission date will be considered for assessment unless other prior arrangements have been made.\n",
    "\n",
    "### Assessment Criteria \n",
    "\n",
    "This will be assessed against the [***Criteria for Publication***](http://rescience.github.io/write/) as used by the [**ReScience C journal**](http://rescience.github.io/). \n",
    "\n",
    "- A rigorous description of the methodologies used in both your own work and the original article   \n",
    "- Quality of source code with respect to the 5Rs\n",
    "- Evidence for replication of the original results or explanations why original results cannot be replicated.\n",
    "- Clarity and accuracy of exposition\n",
    "- Overall organisation and layout of the article\n",
    "\n",
    "#### Assessment Benchmarks\n",
    "\n",
    "**80-100% :**\n",
    "\n",
    "Accurate and complete with respect to the assessment criteria. The article could form the basis for a submission to the [**ReScience C journal**](http://rescience.github.io/). \n",
    "\n",
    "**70-80% :**\n",
    "\n",
    "**60-70% :**\n",
    "\n",
    "**50-60% :**\n",
    "\n",
    "**40-50% :**\n",
    "\n",
    "**30-40% :**\n",
    "\n",
    "**20-30% :**\n",
    "\n",
    "**10-20% :**\n",
    "\n",
    "**0-10% :**\n",
    "\n",
    "Little or no evidence of an attempt to replicate or reproduce the article [**\"Optimal Play of the Dice Game Pig\"**](https://cupola.gettysburg.edu/csfac/4/)"
   ]
  },
  {
   "cell_type": "markdown",
   "id": "c6f568dd",
   "metadata": {},
   "source": [
    "## Group Presentation\n",
    "\n",
    "You will be required to give a short group presentation.\n",
    "This will consist of a 10-15 minute presentation followed by 10-15 minutes of questioning.\n",
    "\n",
    "The presentation should cover the following:\n",
    "\n",
    "- A summary of the main findings of your ReScience C article.\n",
    "- An assessment of the quality of the original work with respect to the [**5Rs**](https://www.frontiersin.org/journals/neuroinformatics/articles/10.3389/fninf.2017.00069/full).\n",
    "- An assessment of the quality of your replication/reproduction study with respect to the [**5Rs**](https://www.frontiersin.org/journals/neuroinformatics/articles/10.3389/fninf.2017.00069/full).\n",
    "\n",
    "The presentation will be marked on a scale of 0-5 for each of the following criteria:\n",
    "- **Content**: Opening, clarity of argument or explanation, summary of work complete\n",
    "- **Analysis**: Understanding of 5 R's, appraisal of report and paper with respect to these.\n",
    "- **Presentation**: Fluency, use of appropriate visual aids (diagrams etc.), body language etc.\n",
    "- **Discussion skills**: Listening, responding to questions, delegating answers to appropriate team members\n",
    "    "
   ]
  },
  {
   "cell_type": "markdown",
   "id": "5ff4d7e3",
   "metadata": {},
   "source": [
    "## Peer assessment\n",
    "\n",
    "Each member of the group will provide an assessment of their group members contribution to the overall assessment."
   ]
  },
  {
   "cell_type": "markdown",
   "id": "d3d20a88-5754-4072-aff9-6975fbd805f0",
   "metadata": {},
   "source": [
    "## Time Line\n",
    "\n",
    "- Release of Assessment: \n",
    "- Tutorial 1:\n",
    "- Tutorial 2:\n",
    "- Tuturial 3:\n",
    "- Report and Code Submission Deadline:\n",
    "- Group Presentations:\n",
    "- Peer Assessment submission deadline:\n",
    "\n",
    "Your work needs to be submitted by (DATE HERE) using the method detailed in the **Assessment Process** section.\n",
    "\n",
    "There are three timetabled tutorial sessions to provide support and advice during the assessment period. Attendance at these tutorials is mandatory.\n",
    "\n",
    "Feedback and marks will be provided within two to four weeks after all components have been completed. However, your work may be subject to a review processing which case you will be informed about any delays this may incur.\n",
    "\n",
    "Any queries regarding the assessment should, in the first instance, be by e-mail to [Daniel Grose](mailto:dan.grose@lancaster.ac.uk) and [Jamie Fairbrother](mailto:j.fairbrother@lancaster.ac.uk)."
   ]
  },
  {
   "cell_type": "markdown",
   "id": "3adb42fa-9fe9-42fd-8d2b-3a8a3e2ec38c",
   "metadata": {},
   "source": [
    "## Some Guidelines for Undertaking the Work\n",
    "\n",
    "- Take some time to familiarise yourself with the article [**\"Optimal Play of the Dice Game Pig\"**](https://cupola.gettysburg.edu/csfac/4/)\n",
    "\n",
    "- Visit [**ReScience C journal**](http://rescience.github.io/) and determine its [rational regarding sustainable computational science](https://peerj.com/articles/cs-142/)\n",
    "\n",
    "- Check you understand the [***Criterea for Publication***](http://rescience.github.io/write/) used by[**ReScience C journal**](http://rescience.github.io/).\n",
    "\n",
    "- Briefly explore a small selection of articles from [**ReScience C**](http://rescience.github.io/), for example [**ReScience C 9, 1, #4**](http://rescience.github.io/bibliography/Doyen_2023.html). Make sure you look at how the supporting material, such as the code, is organised, documented, and made publicly available.\n",
    "\n",
    "- Check you understand how your work will be assessed (see the section ***Assessment Process*** in this document for details).\n",
    "\n",
    "Once you have been allocated to a group,arrange a group meeting to discuss and agree how you are going to proceed with the replication / reproduction exercise. It might be useful to consider the following :\n",
    "\n",
    "- Agreement of objectives and outcomes\n",
    "- Division of responsibilities and tasks\n",
    "- How to assess progress\n",
    "- How to measure success or failure\n",
    "- How to decide when to stop !!\n",
    "\n",
    "#### ***Please make sure that you and your group attend all of the support tutorials allocated to this assessment***."
   ]
  },
  {
   "cell_type": "markdown",
   "id": "06c2b989-43ff-40d3-b067-2c27b83e92f2",
   "metadata": {},
   "source": [
    "## Resources\n",
    "\n",
    "[**5Rs Roadmap presentation**](https://prezi.com/view/nf1JVpHcx5MldSibqCFs/)\n",
    "\n",
    "[**Re-run, Repeat, Reproduce, Reuse, Replicate: Transforming Code into Scientific Contributions**](https://www.frontiersin.org/journals/neuroinformatics/articles/10.3389/fninf.2017.00069/full)\n",
    "\n",
    "[**ReScience C journal**](http://rescience.github.io/)\n",
    "\n",
    "[**\"Optimal Play of the Dice Game Pig\"**](https://cupola.gettysburg.edu/csfac/4/)"
   ]
  }
 ],
 "metadata": {
  "kernelspec": {
   "display_name": "Python 3",
   "language": "python",
   "name": "python3"
  },
  "language_info": {
   "codemirror_mode": {
    "name": "ipython",
    "version": 3
   },
   "file_extension": ".py",
   "mimetype": "text/x-python",
   "name": "python",
   "nbconvert_exporter": "python",
   "pygments_lexer": "ipython3",
   "version": "3.8.10"
  }
 },
 "nbformat": 4,
 "nbformat_minor": 5
}
