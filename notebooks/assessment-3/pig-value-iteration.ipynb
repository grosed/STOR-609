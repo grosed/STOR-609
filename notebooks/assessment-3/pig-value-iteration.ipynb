{
 "cells": [
  {
   "cell_type": "markdown",
   "id": "5a54e8a0-e0bd-4341-bb8f-85df588ef2e3",
   "metadata": {},
   "source": [
    "### LO - reinforcing functional thinking"
   ]
  },
  {
   "cell_type": "markdown",
   "id": "da569b40-d0aa-45a0-bba4-cc1dc91b8274",
   "metadata": {},
   "source": [
    "remember the functional idea of trying to find language features that allow a concept to be modeled functionally in a way that, given the problem context, does not compromise complexity or safety "
   ]
  },
  {
   "cell_type": "markdown",
   "id": "76b33242-3600-4b59-a6a2-cc21a17c0011",
   "metadata": {},
   "source": [
    "# Assessment notes\n",
    "\n",
    "- Draw a diagram of the DMC\n",
    "- define P and R mathematically\n",
    "- define S mathematically\n",
    "- define R mathematically\n",
    "- should non defined states in S be captured by P and R ? Or should P and R assume S is valid ?\n",
    "- can you keep rolling after you have passed the winning post, or is victory assumed ?\n",
    "- do you need a max iteration variable ?\n",
    "- how do I know why it stopped ?\n",
    "- how much does your code resemble the pseudo code for the \"beautiful in its simplicity\" algorithm described in (ref goes here) ?\n",
    "- what features are there in your implementation that are not in the pseudo code ? Do they obscure the purpose of your code ?\n",
    "- if you were the an author of (ref goes here) would you modify the pseudo code in anyway ? If so how and why? If not, why not ?\n",
    "- When you were testing your code to see if it works (assuming you did), how did you \"know\" if it worked or not ? What benchmark did you use to test it ?\n",
    "- Did you test your implementation of value iteration on any simple test cases ? Could these be made into unit tests ?"
   ]
  },
  {
   "cell_type": "markdown",
   "id": "c8d0299f-5b19-4254-9f8a-4526d767908b",
   "metadata": {},
   "source": [
    "### Implement a mapping $S \\rightarrow 2^{S}$ associating a state $s$ with its set of reachable states $S^{'} \\subseteq 2^{S}$."
   ]
  },
  {
   "cell_type": "markdown",
   "id": "bc808029-9af2-4662-8fc5-e2bd16373c0f",
   "metadata": {},
   "source": [
    "For piglet, given a valid state $(i,j,k)$ then $(i,j,k) \\rightarrow \\left\\{(i,j,k+1),(i+k,j,0),(i,j,0) \\right\\}$"
   ]
  },
  {
   "cell_type": "code",
   "execution_count": 1,
   "id": "2f41913d-ca2d-44b9-add5-2aa9682c4466",
   "metadata": {},
   "outputs": [],
   "source": [
    "from pymonad.tools import curry"
   ]
  },
  {
   "cell_type": "code",
   "execution_count": 31,
   "id": "883636c6-9634-4bd8-bb14-5a07f242100e",
   "metadata": {},
   "outputs": [],
   "source": [
    "@curry(1)\n",
    "def piglet_accessability(N) :\n",
    "    def codomain() :\n",
    "        def domain() :\n",
    "            if p == 0 :\n",
    "                for s_dash in {(0,i,j,k+1),(1,j,i,0),(1,j,i+k,0)} :\n",
    "                    yield s_dash\n",
    "            else :\n",
    "                for s_dash in {(1,i,j,k+1),(0,j,i,0),(0,j,i+k,0)} :\n",
    "                    yield s_dash\n",
    "        for p in {0,1} :\n",
    "            for i in range(N) :\n",
    "                for j in range(N) :\n",
    "                    for k in range(N - i) :\n",
    "                        yield ((p,i,j,k),domain)\n",
    "    return codomain"
   ]
  },
  {
   "cell_type": "code",
   "execution_count": 3,
   "id": "8bd7e00f-89c0-4891-996d-6bd28cd5eceb",
   "metadata": {},
   "outputs": [
    {
     "name": "stdout",
     "output_type": "stream",
     "text": [
      "(0, 0, 0, 0) :\n",
      "    (0, 0, 0, 1)\n",
      "    (1, 0, 0, 0)\n",
      "(0, 0, 0, 1) :\n",
      "    (0, 0, 0, 2)\n",
      "    (1, 0, 0, 0)\n",
      "    (1, 0, 1, 0)\n",
      "(0, 0, 1, 0) :\n",
      "    (1, 1, 0, 0)\n",
      "    (0, 0, 1, 1)\n",
      "(0, 0, 1, 1) :\n",
      "    (1, 1, 0, 0)\n",
      "    (1, 1, 1, 0)\n",
      "    (0, 0, 1, 2)\n",
      "(0, 1, 0, 0) :\n",
      "    (0, 1, 0, 1)\n",
      "    (1, 0, 1, 0)\n",
      "(0, 1, 1, 0) :\n",
      "    (1, 1, 1, 0)\n",
      "    (0, 1, 1, 1)\n",
      "(1, 0, 0, 0) :\n",
      "    (1, 0, 0, 1)\n",
      "    (0, 0, 0, 0)\n",
      "(1, 0, 0, 1) :\n",
      "    (0, 0, 1, 0)\n",
      "    (1, 0, 0, 2)\n",
      "    (0, 0, 0, 0)\n",
      "(1, 0, 1, 0) :\n",
      "    (0, 1, 0, 0)\n",
      "    (1, 0, 1, 1)\n",
      "(1, 0, 1, 1) :\n",
      "    (1, 0, 1, 2)\n",
      "    (0, 1, 0, 0)\n",
      "    (0, 1, 1, 0)\n",
      "(1, 1, 0, 0) :\n",
      "    (0, 0, 1, 0)\n",
      "    (1, 1, 0, 1)\n",
      "(1, 1, 1, 0) :\n",
      "    (0, 1, 1, 0)\n",
      "    (1, 1, 1, 1)\n"
     ]
    }
   ],
   "source": [
    "def consume_iterator_object(access) :\n",
    "    for s,S_dash in access() :\n",
    "        print(str(s) + \" :\")\n",
    "        for s_dash in S_dash() :\n",
    "            print(\"    \" + str(s_dash))\n",
    "    pass\n",
    "consume_iterator_object(piglet_accessability(2))"
   ]
  },
  {
   "cell_type": "markdown",
   "id": "329d4a12-03f2-4bcf-a959-69574996acd8",
   "metadata": {},
   "source": [
    "### Model actions"
   ]
  },
  {
   "cell_type": "code",
   "execution_count": 4,
   "id": "0708fac9-c88d-4be2-a2ff-b59839977887",
   "metadata": {},
   "outputs": [],
   "source": [
    "def piglet_actions() :\n",
    "    for action in {\"stick\",\"roll\"} :\n",
    "        yield action\n",
    "    pass"
   ]
  },
  {
   "cell_type": "code",
   "execution_count": 5,
   "id": "cbfa5dac-f6fd-48de-9fe9-471b7a646553",
   "metadata": {},
   "outputs": [
    {
     "name": "stdout",
     "output_type": "stream",
     "text": [
      "roll\n",
      "stick\n"
     ]
    }
   ],
   "source": [
    "for action in piglet_actions() :\n",
    "    print(action)"
   ]
  },
  {
   "cell_type": "markdown",
   "id": "f5daf56a-067d-4caa-929c-3b19aab0790e",
   "metadata": {},
   "source": [
    "### Model the probability $P(s^{'}|s,a)$"
   ]
  },
  {
   "cell_type": "code",
   "execution_count": 6,
   "id": "8bef0fb6-669b-4fff-a04c-3fba1cc74252",
   "metadata": {},
   "outputs": [],
   "source": [
    "def piglet_probability(s,s_dash,action) :\n",
    "    p,i,j,k = s\n",
    "    q = (p + 1)%2\n",
    "    if action == \"stick\" :\n",
    "        if s_dash == (q,j,i+k,0) : return 1.0\n",
    "    elif s_dash == (p,i,j,k+1) or s_dash == (q,j,i,0) : return 0.5 \n",
    "    return 0.0   \n",
    "        \n",
    "    \n",
    "    "
   ]
  },
  {
   "cell_type": "markdown",
   "id": "f3e2c6c5-54fe-40fc-984c-f4ecd60ebbfa",
   "metadata": {},
   "source": [
    "### Model Reward "
   ]
  },
  {
   "cell_type": "code",
   "execution_count": 29,
   "id": "974601a9-9303-4cb0-b8a7-ee1509a86df0",
   "metadata": {},
   "outputs": [],
   "source": [
    "@curry(4)\n",
    "def piglet_reward(N,s,s_dash,action) :\n",
    "    p,i,j,k = s\n",
    "    q,l,m,n = s_dash\n",
    "    if action == \"roll\" and (q,l,m,n) == (p,i,j,k+1) and l + n == N : return 1.0 \n",
    "    return 0.0  "
   ]
  },
  {
   "cell_type": "code",
   "execution_count": 22,
   "id": "6c22a4bd-a0a0-4e11-b2aa-05d262ccdb5a",
   "metadata": {},
   "outputs": [
    {
     "name": "stdout",
     "output_type": "stream",
     "text": [
      "(0, 0, 0, 0) : (0, 0, 0, 1) : roll -> 0.5\n",
      "(0, 0, 0, 0) : (1, 0, 0, 0) : roll -> 0.5\n",
      "(0, 0, 0, 1) : (0, 0, 0, 2) : roll -> 0.5\n",
      "(0, 0, 0, 1) : (1, 0, 0, 0) : roll -> 0.5\n",
      "(0, 0, 0, 1) : (1, 0, 1, 0) : roll -> 0.0\n",
      "(0, 0, 1, 0) : (1, 1, 0, 0) : roll -> 0.5\n",
      "(0, 0, 1, 0) : (0, 0, 1, 1) : roll -> 0.5\n",
      "(0, 0, 1, 1) : (1, 1, 0, 0) : roll -> 0.5\n",
      "(0, 0, 1, 1) : (1, 1, 1, 0) : roll -> 0.0\n",
      "(0, 0, 1, 1) : (0, 0, 1, 2) : roll -> 0.5\n",
      "(0, 1, 0, 0) : (0, 1, 0, 1) : roll -> 0.5\n",
      "(0, 1, 0, 0) : (1, 0, 1, 0) : roll -> 0.5\n",
      "(0, 1, 1, 0) : (1, 1, 1, 0) : roll -> 0.5\n",
      "(0, 1, 1, 0) : (0, 1, 1, 1) : roll -> 0.5\n",
      "(1, 0, 0, 0) : (1, 0, 0, 1) : roll -> 0.5\n",
      "(1, 0, 0, 0) : (0, 0, 0, 0) : roll -> 0.5\n",
      "(1, 0, 0, 1) : (0, 0, 1, 0) : roll -> 0.0\n",
      "(1, 0, 0, 1) : (1, 0, 0, 2) : roll -> 0.5\n",
      "(1, 0, 0, 1) : (0, 0, 0, 0) : roll -> 0.5\n",
      "(1, 0, 1, 0) : (0, 1, 0, 0) : roll -> 0.5\n",
      "(1, 0, 1, 0) : (1, 0, 1, 1) : roll -> 0.5\n",
      "(1, 0, 1, 1) : (1, 0, 1, 2) : roll -> 0.5\n",
      "(1, 0, 1, 1) : (0, 1, 0, 0) : roll -> 0.5\n",
      "(1, 0, 1, 1) : (0, 1, 1, 0) : roll -> 0.0\n",
      "(1, 1, 0, 0) : (0, 0, 1, 0) : roll -> 0.5\n",
      "(1, 1, 0, 0) : (1, 1, 0, 1) : roll -> 0.5\n",
      "(1, 1, 1, 0) : (0, 1, 1, 0) : roll -> 0.5\n",
      "(1, 1, 1, 0) : (1, 1, 1, 1) : roll -> 0.5\n"
     ]
    }
   ],
   "source": [
    "for s,S_dash in piglet_accessability(2)() :\n",
    "    for s_dash in S_dash() :\n",
    "        print(str(s) + \" : \" + str(s_dash) + \" : roll -> \" + str(piglet_probability(s,s_dash,\"roll\"))) "
   ]
  },
  {
   "cell_type": "code",
   "execution_count": 271,
   "id": "923e4b3e-8c3c-4adb-852e-984ceb33efd1",
   "metadata": {},
   "outputs": [
    {
     "data": {
      "text/plain": [
       "101"
      ]
     },
     "execution_count": 271,
     "metadata": {},
     "output_type": "execute_result"
    }
   ],
   "source": [
    "its"
   ]
  },
  {
   "cell_type": "code",
   "execution_count": 114,
   "id": "6f55c9c3-85d8-4358-8280-eb0e03414007",
   "metadata": {},
   "outputs": [
    {
     "data": {
      "text/plain": [
       "[]"
      ]
     },
     "execution_count": 114,
     "metadata": {},
     "output_type": "execute_result"
    }
   ],
   "source": [
    "[s for s,(_,a) in V.items() if a == \"roll\"]"
   ]
  },
  {
   "cell_type": "markdown",
   "id": "85f3f36c-bbfb-4124-b465-26ac7423d02b",
   "metadata": {},
   "source": [
    "### Implement value iteration"
   ]
  },
  {
   "cell_type": "code",
   "execution_count": 146,
   "id": "c1f804ae-2286-4a4d-8cb3-17f65d1490ae",
   "metadata": {},
   "outputs": [],
   "source": [
    "from copy import deepcopy"
   ]
  },
  {
   "cell_type": "code",
   "execution_count": 147,
   "id": "cffc1901-c39e-411b-a46d-d80d7259a753",
   "metadata": {},
   "outputs": [],
   "source": [
    "@curry(6)\n",
    "def value_iteration(S,A,P,R,gamma,V) :\n",
    "    V_dash = deepcopy(V)\n",
    "    for s,S_dash in S() :\n",
    "            V_dash[s] = max([(sum([P(s,s_dash,a)*(R(s,s_dash,a) + gamma*V[s_dash][0]) for s_dash in S_dash()]),a) for a in A()])\n",
    "    return V_dash\n",
    "    "
   ]
  },
  {
   "cell_type": "markdown",
   "id": "6bfd9755-f488-482f-af69-f0b894a0e3b7",
   "metadata": {},
   "source": [
    "#### methods to test for convergence "
   ]
  },
  {
   "cell_type": "code",
   "execution_count": 148,
   "id": "4eb5a9fc-a820-426b-9b59-58c8e4b7206f",
   "metadata": {},
   "outputs": [],
   "source": [
    "@curry(3)\n",
    "def bounding_box_convergence(epsilon,V,V_dash) :\n",
    "    delta = 0.0\n",
    "    for s in V :\n",
    "        delta = max(delta,abs(V_dash[s][0] - V[s][0]))\n",
    "    return True if delta < epsilon else False\n",
    "        "
   ]
  },
  {
   "cell_type": "markdown",
   "id": "70c4f30b-3322-448e-9c58-64ac46ef26b2",
   "metadata": {},
   "source": [
    "### Check the value iteration implementation\n",
    "\n",
    "See [this article](https://artint.info/2e/html2e/ArtInt2e.Ch9.S5.SS2.html#Ch9.F16) for details of the test problems"
   ]
  },
  {
   "cell_type": "markdown",
   "id": "cbb527f6-c309-4afe-a7ce-fdf086fe47fb",
   "metadata": {},
   "source": [
    "#### actions"
   ]
  },
  {
   "cell_type": "code",
   "execution_count": 149,
   "id": "3efba707-6cfe-4786-b9a3-20b9f1dc053d",
   "metadata": {},
   "outputs": [],
   "source": [
    "def lifestyle_actions() :\n",
    "    for action in {\"party\",\"relax\"} :\n",
    "        yield action\n",
    "    pass"
   ]
  },
  {
   "cell_type": "markdown",
   "id": "7c87a25c-86da-41f8-adf8-ddca4e332488",
   "metadata": {},
   "source": [
    "#### state transistions"
   ]
  },
  {
   "cell_type": "code",
   "execution_count": 150,
   "id": "2c6a4b34-bcfa-49ab-93d0-a166c18a7e0a",
   "metadata": {},
   "outputs": [],
   "source": [
    "def lifestyle_transitions() :\n",
    "    def codomain() :\n",
    "        for s_dash in {\"healthy\",\"sick\"} :\n",
    "            yield s_dash \n",
    "    for s,S_dash in {(\"healthy\",codomain),(\"sick\",codomain)} :\n",
    "        yield s,S_dash\n",
    "    return "
   ]
  },
  {
   "cell_type": "markdown",
   "id": "acf963fd-c050-4b15-ac18-7f8705d65eba",
   "metadata": {},
   "source": [
    "#### state transition probabilities"
   ]
  },
  {
   "cell_type": "code",
   "execution_count": 151,
   "id": "945c8bd1-bd26-4f61-bd58-9e4ec6b31dfc",
   "metadata": {},
   "outputs": [],
   "source": [
    "def lifestyle_transition_probabilities(s,s_dash,action) :\n",
    "    match (s,s_dash,action) :\n",
    "        case (\"healthy\",\"healthy\",\"party\") : return 0.7\n",
    "        case (\"healthy\",\"sick\",\"party\") : return 0.3\n",
    "        case (\"healthy\",\"healthy\",\"relax\") : return 0.95\n",
    "        case (\"healthy\",\"sick\",\"relax\") : return 0.05\n",
    "        case (\"sick\",\"healthy\",\"party\") : return 0.1\n",
    "        case (\"sick\",\"sick\",\"party\") : return 0.9\n",
    "        case (\"sick\",\"healthy\",\"relax\") : return 0.5\n",
    "        case (\"sick\",\"sick\",\"relax\") : return 0.5"
   ]
  },
  {
   "cell_type": "markdown",
   "id": "4e6f228a-0b91-443c-8f43-2e8da95d36a5",
   "metadata": {},
   "source": [
    "#### state transition rewards"
   ]
  },
  {
   "cell_type": "code",
   "execution_count": 152,
   "id": "04651c9f-eda8-40d7-b83b-4c5e2228da64",
   "metadata": {},
   "outputs": [],
   "source": [
    "def lifestyle_transition_rewards(s,s_dash,action) :\n",
    "    match (s,action) :\n",
    "        case (\"healthy\",\"relax\") : return 7.0\n",
    "        case (\"healthy\",\"party\") : return 10.0\n",
    "        case (\"sick\",\"relax\") : return 0.0\n",
    "        case (\"sick\",\"party\") : return 2.0\n",
    "        "
   ]
  },
  {
   "cell_type": "markdown",
   "id": "365f45b8-e0b8-44c9-a770-81459b122f44",
   "metadata": {},
   "source": [
    "#### solution"
   ]
  },
  {
   "cell_type": "code",
   "execution_count": 153,
   "id": "de309434-b00f-46c7-8129-188b840f8fe5",
   "metadata": {},
   "outputs": [
    {
     "data": {
      "text/plain": [
       "defaultdict(<function __main__.<lambda>()>,\n",
       "            {'sick': (23.80630043163403, 'relax'),\n",
       "             'healthy': (35.711062336395926, 'party')})"
      ]
     },
     "execution_count": 153,
     "metadata": {},
     "output_type": "execute_result"
    }
   ],
   "source": [
    "lifestyle_value_iteration = value_iteration(lifestyle_transitions,\n",
    "                                            lifestyle_actions,\n",
    "                                            lifestyle_transition_probabilities,\n",
    "                                            lifestyle_transition_rewards,\n",
    "                                            0.8)\n",
    "lifestyle_converged = bounding_box_convergence(0.001)\n",
    "\n",
    "V = defaultdict(lambda : (0.0,None))\n",
    "V_dash = lifestyle_value_iteration(V)\n",
    "while not lifestyle_converged(V,V_dash) :\n",
    "    V = V_dash\n",
    "    V_dash = lifestyle_value_iteration(V)\n",
    "V_dash"
   ]
  },
  {
   "cell_type": "markdown",
   "id": "afa8cbb6-df5e-415d-ab36-f369f2efc6d7",
   "metadata": {},
   "source": [
    "### model ${\\rm piglet}_{1}$"
   ]
  },
  {
   "cell_type": "markdown",
   "id": "916cfe0b-cdc8-4639-ab9d-f3172d397248",
   "metadata": {},
   "source": [
    "#### actions"
   ]
  },
  {
   "cell_type": "code",
   "execution_count": 122,
   "id": "c258c984-fab0-43a0-a8d6-0538809ace4f",
   "metadata": {},
   "outputs": [],
   "source": [
    "piglet_actions = lambda : iter({\"roll\",\"stick\"}) "
   ]
  },
  {
   "cell_type": "markdown",
   "id": "68c64aa2-694c-4b32-9618-54f4b2cb51c5",
   "metadata": {},
   "source": [
    "#### transitions"
   ]
  },
  {
   "cell_type": "code",
   "execution_count": 166,
   "id": "f5f6de99-91a4-4df2-bc99-43ccf17ac10e",
   "metadata": {},
   "outputs": [],
   "source": [
    "piglet_1_transitions = lambda : iter({((0,0),lambda : iter({(0,1),(1,0),(0,0)}))})"
   ]
  },
  {
   "cell_type": "markdown",
   "id": "063e3284-fee6-413d-9767-1676d3d639c8",
   "metadata": {},
   "source": [
    "#### state transition probabilities"
   ]
  },
  {
   "cell_type": "code",
   "execution_count": 171,
   "id": "07d39578-46a2-46ae-b048-abf8388aa4c6",
   "metadata": {},
   "outputs": [],
   "source": [
    "def piglet_1_probabilities(s,s_dash,action) :\n",
    "    match (s,s_dash,action) :\n",
    "        case ((0,0),(0,1),\"roll\") : return 0.5 \n",
    "        case ((0,0),(1,0),\"roll\") : return 0.25\n",
    "        case ((0,0),(0,0),\"roll\") : return 0.25\n",
    "        case ((0,0),(0,1),\"stick\") : return 0.5\n",
    "        case ((0,0),(0,0),\"stick\") : return 0.5\n",
    "    return 0.0\n",
    "    "
   ]
  },
  {
   "cell_type": "markdown",
   "id": "98af7e9b-0d4a-40f3-977f-3e2d6925ffac",
   "metadata": {},
   "source": [
    "#### state transition rewards"
   ]
  },
  {
   "cell_type": "code",
   "execution_count": 173,
   "id": "9363e0e1-ecf9-412f-a8d9-d81f2c95e477",
   "metadata": {},
   "outputs": [],
   "source": [
    "piglet_1_rewards = lambda s,s_dash,action : 1.0 if s == (0,0) and s_dash == (0,1) and action == \"roll\" else 0.0"
   ]
  },
  {
   "cell_type": "code",
   "execution_count": 180,
   "id": "3a984fc1-77fa-4f88-9720-13b4ccb8fc97",
   "metadata": {},
   "outputs": [
    {
     "data": {
      "text/plain": [
       "defaultdict(<function __main__.<lambda>()>, {(0, 0): (0.66650390625, 'roll')})"
      ]
     },
     "execution_count": 180,
     "metadata": {},
     "output_type": "execute_result"
    }
   ],
   "source": [
    "piglet_1_value_iteration = value_iteration(piglet_1_transitions,\n",
    "                                           piglet_actions,\n",
    "                                           piglet_1_probabilities,\n",
    "                                           piglet_1_rewards,\n",
    "                                           1.0)\n",
    "piglet_1_converged = bounding_box_convergence(0.001)\n",
    "V = defaultdict(lambda : (0.0,None))\n",
    "\n",
    "\n",
    "V_dash = piglet_1_value_iteration(V)\n",
    "while not piglet_1_converged(V_dash,V) :\n",
    "    V = V_dash\n",
    "    V_dash = piglet_1_value_iteration(V)\n",
    "    \n",
    "V_dash"
   ]
  },
  {
   "cell_type": "code",
   "execution_count": null,
   "id": "06c41432-46cd-437d-a06c-4848210be645",
   "metadata": {},
   "outputs": [],
   "source": []
  },
  {
   "cell_type": "code",
   "execution_count": null,
   "id": "d9ad74e6-d1d7-4dfb-8b40-20d4144dc911",
   "metadata": {},
   "outputs": [],
   "source": []
  },
  {
   "cell_type": "markdown",
   "id": "191e0b7e-15ec-4f2d-b758-0b132516ed05",
   "metadata": {},
   "source": [
    "### state transitions"
   ]
  },
  {
   "cell_type": "code",
   "execution_count": null,
   "id": "84ded387-3d4f-4a50-a92a-bbc6781d362b",
   "metadata": {},
   "outputs": [],
   "source": [
    "@curry(1)\n",
    "def piglet_accessability(N) :\n",
    "    def codomain() :\n",
    "        def domain() :\n",
    "            if p == 0 :\n",
    "                for s_dash in {(0,i,j,k+1),(1,j,i,0),(1,j,i+k,0)} :\n",
    "                    yield s_dash\n",
    "            else :\n",
    "                for s_dash in {(1,i,j,k+1),(0,j,i,0),(0,j,i+k,0)} :\n",
    "                    yield s_dash\n",
    "        for p in {0,1} :\n",
    "            for i in range(N) :\n",
    "                for j in range(N) :\n",
    "                    for k in range(N - i) :\n",
    "                        yield ((p,i,j,k),domain)\n",
    "    return codomain"
   ]
  },
  {
   "cell_type": "markdown",
   "id": "fde0c5dd-823a-4e99-b855-9e1353e348cf",
   "metadata": {},
   "source": [
    "### transition probabilites"
   ]
  },
  {
   "cell_type": "code",
   "execution_count": null,
   "id": "0f8a9cc8-dbb6-4cc0-9a25-fb158304ea65",
   "metadata": {},
   "outputs": [],
   "source": []
  },
  {
   "cell_type": "markdown",
   "id": "3d6d0d42-614a-4e29-ba60-6f00e65c8002",
   "metadata": {},
   "source": [
    "### transition rewards"
   ]
  }
 ],
 "metadata": {
  "kernelspec": {
   "display_name": "Python 3 (ipykernel)",
   "language": "python",
   "name": "python3"
  },
  "language_info": {
   "codemirror_mode": {
    "name": "ipython",
    "version": 3
   },
   "file_extension": ".py",
   "mimetype": "text/x-python",
   "name": "python",
   "nbconvert_exporter": "python",
   "pygments_lexer": "ipython3",
   "version": "3.11.0"
  }
 },
 "nbformat": 4,
 "nbformat_minor": 5
}
