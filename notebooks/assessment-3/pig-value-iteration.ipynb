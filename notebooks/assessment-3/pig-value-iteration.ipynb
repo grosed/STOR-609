{
 "cells": [
  {
   "cell_type": "markdown",
   "id": "88957af1-16ce-4bb0-af5d-a0b391cbb23b",
   "metadata": {},
   "source": [
    "### Model state transition probabilities\n",
    "\n",
    "#### Notes\n",
    "\n",
    "- uses structural pattern matching to make code more readable"
   ]
  },
  {
   "cell_type": "code",
   "execution_count": 1,
   "id": "dd805b05-2fde-40dd-82ae-c24cbf9e36fe",
   "metadata": {},
   "outputs": [],
   "source": [
    "def P(s,s_dash,action) :\n",
    "    match (s,s_dash,action) : \n",
    "        case (s,s_dash,\"stick\") : return 1.0 if s == s_dash else 0.0\n",
    "        case ((i,_,k),(l,_,n),\"roll\") if l == i+1 and n == k+1 or l == i-k and n == 0 : return 0.5\n",
    "    return 0.0"
   ]
  },
  {
   "cell_type": "markdown",
   "id": "76f8d39c-ccf5-429c-bf6b-3697bac0fc4a",
   "metadata": {},
   "source": [
    "### Model the reward\n",
    "\n",
    "#### Notes\n",
    "\n",
    "- uses a parameter to specialise a game that can be curried."
   ]
  },
  {
   "cell_type": "code",
   "execution_count": 2,
   "id": "c4c2f374-8f26-4802-bbf6-78bd46f1870e",
   "metadata": {},
   "outputs": [],
   "source": [
    "from pymonad.tools import curry"
   ]
  },
  {
   "cell_type": "code",
   "execution_count": 3,
   "id": "53537b7d-d7ff-46a6-8644-16970ce9c421",
   "metadata": {},
   "outputs": [],
   "source": [
    "@curry(4)\n",
    "def R(N,s,s_dash,action) :\n",
    "    _,_,n = s_dash\n",
    "    return 1.0 if n == N else 0.0"
   ]
  },
  {
   "cell_type": "code",
   "execution_count": 4,
   "id": "50b87b51-5d7f-4a70-a1a5-a2e4edf55b2d",
   "metadata": {},
   "outputs": [],
   "source": [
    "R10 = R(10)"
   ]
  },
  {
   "cell_type": "code",
   "execution_count": 5,
   "id": "42260c73-56ee-4d23-a821-edca40ae7260",
   "metadata": {},
   "outputs": [
    {
     "data": {
      "text/plain": [
       "1.0"
      ]
     },
     "execution_count": 5,
     "metadata": {},
     "output_type": "execute_result"
    }
   ],
   "source": [
    "R10((0,3,4),(0,4,10),\"roll\")"
   ]
  },
  {
   "cell_type": "markdown",
   "id": "8e4380da-fca7-4446-a4b1-021b6c3ead8c",
   "metadata": {},
   "source": [
    "### Generate piglet states for play to N game\n",
    "\n",
    "#### Notes\n",
    "\n",
    "- models sets of states as an iterator\n",
    "- iterator is a closure i.e. constitutes an object - and thus the piglet_states function is a class\n",
    "- the class/object model is preferable as it can used by another function to generate multiple instances of the underlying iterator \n",
    "- uses a game parameter that can be curried. "
   ]
  },
  {
   "cell_type": "code",
   "execution_count": 11,
   "id": "e47cefd3-530b-4590-b465-75bd37bc154a",
   "metadata": {},
   "outputs": [],
   "source": [
    "@curry(1)\n",
    "def piglet_states(N) :\n",
    "    def impl() :\n",
    "        for i in range(N) :\n",
    "            for j in range(N) :\n",
    "                for k in range(N) :\n",
    "                    if not (i == N-1 and j == N-1) :\n",
    "                        if k <= N - 1 - i and k <= N - 1 - j : \n",
    "                            yield (i,j,k)\n",
    "    return impl"
   ]
  },
  {
   "cell_type": "markdown",
   "id": "8243c972-11a1-4770-8f3d-e0238e00a133",
   "metadata": {},
   "source": [
    "#### example usage"
   ]
  },
  {
   "cell_type": "code",
   "execution_count": 14,
   "id": "7842857d-b773-4210-8910-98c94f4941fa",
   "metadata": {},
   "outputs": [
    {
     "name": "stdout",
     "output_type": "stream",
     "text": [
      "(0, 0, 0)\n",
      "(0, 0, 1)\n",
      "(0, 0, 2)\n",
      "(0, 0, 3)\n",
      "(0, 1, 0)\n",
      "(0, 1, 1)\n",
      "(0, 1, 2)\n",
      "(0, 2, 0)\n",
      "(0, 2, 1)\n",
      "(0, 3, 0)\n",
      "(1, 0, 0)\n",
      "(1, 0, 1)\n",
      "(1, 0, 2)\n",
      "(1, 1, 0)\n",
      "(1, 1, 1)\n",
      "(1, 1, 2)\n",
      "(1, 2, 0)\n",
      "(1, 2, 1)\n",
      "(1, 3, 0)\n",
      "(2, 0, 0)\n",
      "(2, 0, 1)\n",
      "(2, 1, 0)\n",
      "(2, 1, 1)\n",
      "(2, 2, 0)\n",
      "(2, 2, 1)\n",
      "(2, 3, 0)\n",
      "(3, 0, 0)\n",
      "(3, 1, 0)\n",
      "(3, 2, 0)\n"
     ]
    }
   ],
   "source": [
    "def blob(S) :\n",
    "    for s in S() : print(s)\n",
    "    pass\n",
    "blob(pig_states(4))"
   ]
  }
 ],
 "metadata": {
  "kernelspec": {
   "display_name": "Python 3 (ipykernel)",
   "language": "python",
   "name": "python3"
  },
  "language_info": {
   "codemirror_mode": {
    "name": "ipython",
    "version": 3
   },
   "file_extension": ".py",
   "mimetype": "text/x-python",
   "name": "python",
   "nbconvert_exporter": "python",
   "pygments_lexer": "ipython3",
   "version": "3.11.0"
  }
 },
 "nbformat": 4,
 "nbformat_minor": 5
}
