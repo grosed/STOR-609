{
 "cells": [
  {
   "cell_type": "markdown",
   "id": "8485e0bb-4ddf-403c-b11c-e5529ec5402d",
   "metadata": {},
   "source": [
    "# Functional Design Patterns"
   ]
  },
  {
   "cell_type": "markdown",
   "id": "a7b2d2cd-934a-4959-9f68-8a33a5622db3",
   "metadata": {},
   "source": [
    "## Background"
   ]
  },
  {
   "cell_type": "markdown",
   "id": "188d1247-d122-4d1f-bcf1-eca3536ccfec",
   "metadata": {},
   "source": [
    "## Introduction"
   ]
  },
  {
   "cell_type": "markdown",
   "id": "6e35e14f-2084-4bab-87b5-41518b1b48ce",
   "metadata": {},
   "source": [
    "## TODO"
   ]
  },
  {
   "cell_type": "markdown",
   "id": "e2047510-bae2-4762-8aef-fbc470a41036",
   "metadata": {},
   "source": [
    "## The patterns"
   ]
  },
  {
   "cell_type": "markdown",
   "id": "bf59ed78-9998-4037-a05e-fef9aed5a8ad",
   "metadata": {},
   "source": [
    "### Higher Order Functions"
   ]
  },
  {
   "cell_type": "markdown",
   "id": "de3a8ea0-de05-4720-a309-5fae7ce96ec6",
   "metadata": {},
   "source": [
    "The concept to be learnt  here is that functions can be used as inputs to other functions. A good motivating example for this would be a root finding method where the function for which a root is to be found is passed as a parameter. Most root finding libraries for **Python** and **R** and other languages are designed this way. \n",
    "\n",
    "Higher order functions are often used in conjunction with partial application which is used to convert the type of a function to that which is expected by the underlying method that uses it. It is notable that the popular optimisation and root finding libraries in **Python** and **R** provide an facility for specifying the partially applied parameters separately. This is entirely redundant if the user is familiar with partial application as a general pattern.  \n",
    "\n"
   ]
  },
  {
   "cell_type": "markdown",
   "id": "dacad7a4-4340-4992-bb83-406179e957ba",
   "metadata": {},
   "source": [
    "#### Python"
   ]
  },
  {
   "cell_type": "markdown",
   "id": "068b24ca-b9b9-4b76-ad49-402edb645f23",
   "metadata": {},
   "source": [
    "##### Example"
   ]
  },
  {
   "cell_type": "markdown",
   "id": "84004895-a39d-4af8-937d-f8db1381db3c",
   "metadata": {},
   "source": [
    "```python\n",
    "def f(x) : \n",
    "    return 2*x\n",
    "\n",
    "def g(f,x) :\n",
    "    return f(f(3+x))\n",
    "\n",
    "g(f,4)\n",
    "```"
   ]
  },
  {
   "cell_type": "markdown",
   "id": "c17a3231-0dfc-4df0-972c-d23223ebaf04",
   "metadata": {},
   "source": [
    "#### R"
   ]
  },
  {
   "cell_type": "markdown",
   "id": "1eb95630-9fe7-4cfb-8ae1-d479382d97be",
   "metadata": {},
   "source": [
    "##### example"
   ]
  },
  {
   "cell_type": "markdown",
   "id": "ec1c2d14-5a0a-4c74-b646-a3c2c77eae5f",
   "metadata": {},
   "source": [
    "```R\n",
    "f <- function(x) \n",
    "{\n",
    "    return(2*x)    \n",
    "}\n",
    "\n",
    "g <- function(f,x)\n",
    "{\n",
    "    return(f(f(3+x)))\n",
    "}\n",
    "\n",
    "g(f,4)\n",
    "```"
   ]
  },
  {
   "cell_type": "markdown",
   "id": "65a7e806-8fad-4f42-a116-734514dea96a",
   "metadata": {},
   "source": [
    "#### Julia"
   ]
  },
  {
   "cell_type": "markdown",
   "id": "8c1232c9-7159-46ed-a910-4b0db18c4371",
   "metadata": {},
   "source": [
    "##### Example"
   ]
  },
  {
   "cell_type": "markdown",
   "id": "02e6c9d1-28e2-405b-89fc-60e17dcfa9f0",
   "metadata": {},
   "source": [
    "```julia\n",
    "# using an array comprehension with the summation wrapping it\n",
    "sum_of_squares = sum( [ v^2 for v in vec_data_1 ] )\n",
    "\n",
    "print(\"sum of squares from comprehension = $(sum_of_squares)\") # 1375\n",
    "\n",
    "# using a map with a sum wrapping it\n",
    "sum_of_squares = sum( map(s -> s^2, vec_data_1) )\n",
    "\n",
    "print(\"sum of squares from map = $(sum_of_squares)\") # 1375\n",
    "```"
   ]
  },
  {
   "cell_type": "markdown",
   "id": "8f5e2753-95d3-43ea-8c7d-300a8c014bed",
   "metadata": {},
   "source": [
    "#### F \\#"
   ]
  },
  {
   "cell_type": "markdown",
   "id": "fa3d2b1d-d580-4477-8a7b-01664c396aa2",
   "metadata": {},
   "source": [
    "##### Example"
   ]
  },
  {
   "cell_type": "markdown",
   "id": "9f89e737-4c91-4150-a38e-64311d25bb70",
   "metadata": {},
   "source": [
    "```fsharp\n",
    "let sampleNumbers = [ 0 .. 99 ]\n",
    "```"
   ]
  },
  {
   "cell_type": "markdown",
   "id": "d756f1f5-9ae1-44cc-95ba-6cac2061b4b8",
   "metadata": {},
   "source": [
    "### Partial Application"
   ]
  },
  {
   "cell_type": "markdown",
   "id": "93aa46fb-cbe2-4e79-a0e5-64e1b774660d",
   "metadata": {},
   "source": [
    "#### Python"
   ]
  },
  {
   "cell_type": "markdown",
   "id": "fe22d6b1-a136-4481-a9d8-dd03014e569c",
   "metadata": {},
   "source": [
    "##### Example"
   ]
  },
  {
   "cell_type": "code",
   "execution_count": 8,
   "id": "47b5e65d-94fd-4581-9fa8-c0aba6d9e70e",
   "metadata": {},
   "outputs": [
    {
     "data": {
      "text/plain": [
       "47"
      ]
     },
     "execution_count": 8,
     "metadata": {},
     "output_type": "execute_result"
    }
   ],
   "source": [
    "from functools import partial\n",
    "\n",
    "def f(x,y,z) :\n",
    "    return 2*x + 3*y + 5*z\n",
    "\n",
    "g = partial(f, y=2)\n",
    "\n",
    "g(x = 3,z = 7)"
   ]
  },
  {
   "cell_type": "markdown",
   "id": "f607c253-f852-4d6e-9bfe-97cf63148f57",
   "metadata": {},
   "source": [
    "##### Notes"
   ]
  },
  {
   "cell_type": "markdown",
   "id": "a5e7d101-5902-48be-9302-f33a4ff04fb6",
   "metadata": {},
   "source": [
    "The **partial** function from the **functools** module has some limitations. Here are some good questions for a **pod** concerning these."
   ]
  },
  {
   "cell_type": "markdown",
   "id": "702d6c3b-181a-48d6-bb51-10e014ae6dfe",
   "metadata": {},
   "source": [
    "Predict what happens and/or the output of the following code snippets. Contrast this behaviour to that of the **R** example. "
   ]
  },
  {
   "cell_type": "code",
   "execution_count": 9,
   "id": "a2fd4855-ce47-474a-baad-8d44285f78b7",
   "metadata": {},
   "outputs": [
    {
     "ename": "TypeError",
     "evalue": "f() got multiple values for argument 'y'",
     "output_type": "error",
     "traceback": [
      "\u001b[0;31m---------------------------------------------------------------------------\u001b[0m",
      "\u001b[0;31mTypeError\u001b[0m                                 Traceback (most recent call last)",
      "Cell \u001b[0;32mIn[9], line 1\u001b[0m\n\u001b[0;32m----> 1\u001b[0m \u001b[43mg\u001b[49m\u001b[43m(\u001b[49m\u001b[38;5;241;43m3\u001b[39;49m\u001b[43m,\u001b[49m\u001b[38;5;241;43m7\u001b[39;49m\u001b[43m)\u001b[49m\n",
      "\u001b[0;31mTypeError\u001b[0m: f() got multiple values for argument 'y'"
     ]
    }
   ],
   "source": [
    "g(3,7)"
   ]
  },
  {
   "cell_type": "code",
   "execution_count": 19,
   "id": "debb1b58-9001-47bd-a649-89398814b60c",
   "metadata": {},
   "outputs": [],
   "source": [
    "h = partial(f,x=5)"
   ]
  },
  {
   "cell_type": "code",
   "execution_count": 24,
   "id": "af02733d-c3a8-4dbb-b7ad-1a7569a52ba2",
   "metadata": {},
   "outputs": [
    {
     "ename": "TypeError",
     "evalue": "f() got multiple values for argument 'x'",
     "output_type": "error",
     "traceback": [
      "\u001b[0;31m---------------------------------------------------------------------------\u001b[0m",
      "\u001b[0;31mTypeError\u001b[0m                                 Traceback (most recent call last)",
      "Cell \u001b[0;32mIn[24], line 1\u001b[0m\n\u001b[0;32m----> 1\u001b[0m \u001b[43mh\u001b[49m\u001b[43m(\u001b[49m\u001b[38;5;241;43m3\u001b[39;49m\u001b[43m,\u001b[49m\u001b[38;5;241;43m3\u001b[39;49m\u001b[43m)\u001b[49m\n",
      "\u001b[0;31mTypeError\u001b[0m: f() got multiple values for argument 'x'"
     ]
    }
   ],
   "source": [
    "h(3,3)"
   ]
  },
  {
   "cell_type": "markdown",
   "id": "9afef64e-72dc-4ed8-a1b5-5e573066dc7b",
   "metadata": {},
   "source": [
    "#### R"
   ]
  },
  {
   "cell_type": "code",
   "execution_count": null,
   "id": "0c9bb9ee-376e-4c84-980e-bcffac1b7e97",
   "metadata": {},
   "outputs": [],
   "source": [
    "f <- function(x,y,z)\n",
    "{\n",
    "   return(2*x + 3*y + 5*z)\n",
    "}\n",
    "\n",
    "g <- partial(f,2)"
   ]
  },
  {
   "cell_type": "markdown",
   "id": "7bddd40e-4149-4b07-9b71-aadf59687528",
   "metadata": {},
   "source": [
    "### Currying"
   ]
  },
  {
   "cell_type": "markdown",
   "id": "e684ad01-a36b-414a-adff-7c9c56d2a1f3",
   "metadata": {},
   "source": [
    "### Memoisation"
   ]
  },
  {
   "cell_type": "markdown",
   "id": "6743f391-7f16-4c4e-a4d0-d51dbd98da6c",
   "metadata": {},
   "source": [
    "### Composition"
   ]
  },
  {
   "cell_type": "markdown",
   "id": "36f709de-864e-4dd9-a079-53043a29c541",
   "metadata": {},
   "source": [
    "### Map, Filter, Reduce"
   ]
  },
  {
   "cell_type": "markdown",
   "id": "30d9efe5-7b6b-4436-97af-04d1e19356b8",
   "metadata": {},
   "source": [
    "### Closures"
   ]
  },
  {
   "cell_type": "markdown",
   "id": "d4f74012-32e4-42bb-a090-49dcbb04796e",
   "metadata": {},
   "source": [
    "### Objects"
   ]
  },
  {
   "cell_type": "markdown",
   "id": "0f43c92e-7549-478e-8dfa-540fcc56e13e",
   "metadata": {},
   "source": [
    "### Classes"
   ]
  }
 ],
 "metadata": {
  "kernelspec": {
   "display_name": "Python 3 (ipykernel)",
   "language": "python",
   "name": "python3"
  },
  "language_info": {
   "codemirror_mode": {
    "name": "ipython",
    "version": 3
   },
   "file_extension": ".py",
   "mimetype": "text/x-python",
   "name": "python",
   "nbconvert_exporter": "python",
   "pygments_lexer": "ipython3",
   "version": "3.11.0"
  }
 },
 "nbformat": 4,
 "nbformat_minor": 5
}
