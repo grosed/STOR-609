{
 "cells": [
  {
   "cell_type": "markdown",
   "id": "a29e0d22",
   "metadata": {},
   "source": [
    "# STOR609 Programming for Reproducible Research: Module Outline"
   ]
  },
  {
   "cell_type": "markdown",
   "id": "4a54a8b4",
   "metadata": {},
   "source": [
    "## Overview\n",
    "\n",
    "An essential component of Statistics and Operational Research today is the computer implementation of models and algorithms.\n",
    "Although modern high-level programming languages such as Python and R have greatly facilitated coding for scientists and analysts, the nature of research often means coding projects are complicated, requiring many source code files, potentially thousands of lines of code, and a precise set of dependencies.\n",
    "For scientific research, where accuracy, transparency and reproducibility are key tenets, code must be particularly reliable, and academic journals are increasingly requiring the submission of source code alongside published articles.\n",
    "\n",
    "Unfortunately, doctoral students in Statistics and Operational Research (and scientists more generally), usually have little or no formal training in computer science, nor experience of software engineering, and so are often ill-equipped for the task of developing and maintaining research code.\n",
    "As a result, research code is often seen as [unreliable](https://www.nature.com/articles/s41597-022-01143-6).\n",
    "\n",
    "This module aims to plug this potential deficiency by training you to produce scientific software that is replicable, reproducible, reusable, re-runnable, and repeatable.\n",
    "\n",
    "The course is divided into three parts. In the first part foundational computation science concepts will be introduced.\n",
    "In particular we will cover the analysis of algorithms and data structures, and different of models of programming and design patterns.\n",
    "The second part of the course then proceeds with how these ideas are applied in practice with particular reference to the software engineering practices associated with collaborative programming, software maintenance and support, testing and distribution of software.\n",
    "The final part of the course consists of a larger group programming project for which you will be required to draw on the knowledge and skills developed in the rest of the course.\n",
    "\n",
    "During the lectures and workshops, emphasis is placed on problems and techniques associated with the fields of statistics and operational research. \n",
    "Although programming concepts will be taught in a language-agnostic way, we will primarily use Python for teaching, as this is a popular language for scientific computing and it supports the required programming paradigms.\n"
   ]
  },
  {
   "cell_type": "markdown",
   "id": "ece74cd9",
   "metadata": {},
   "source": [
    "## Prerequisites\n",
    "\n",
    "- Basic knowledge of Python, such as that as provided by the short course [\"Introductory Python\"](http://www.mathsbox.com/introductory-python/intro.html)\n",
    "- Basic Unix skills, such as those acquired from the short course [Introduction to Unix](http://www.mathsbox.com/introduction-to-unix/intro.html)\n",
    "- Access to a Windows and a Unix based systems with Python and R installed."
   ]
  },
  {
   "cell_type": "markdown",
   "id": "74db18d1",
   "metadata": {},
   "source": [
    "## Learning Outcomes\n",
    "Students who pass this module should be able to:\n",
    "\n",
    "1. analyse an algorithm in terms of its computational complexity and determine appropriate data structures for its\n",
    "implementation in software\n",
    "2. use the three main models of programming (**imperative**, **object-oriented** and **functional**), and identify applicable generic design patterns\n",
    "3. use software engineering tools such as profilers, debuggers, testing frameworks and environment\n",
    "management systems \n",
    "4. understand basic computer architecture and operating systems and be able to parallelize code where\n",
    "appropriate\n",
    "5. use tools and mechanisms for collaborative programming, and distribution and support of code within the wider\n",
    "research community\n",
    "6. produce scientific software that is replicable, reproducible, reusable, re-runnable, and repeatable\n"
   ]
  },
  {
   "cell_type": "markdown",
   "id": "1a213f97",
   "metadata": {},
   "source": [
    "## Teaching\n",
    "\n",
    "This module will be taught by a mixture of lectures (10 hours total) and computer workshops (24 hours total)."
   ]
  },
  {
   "cell_type": "markdown",
   "id": "e184a1f2",
   "metadata": {},
   "source": [
    "## Assessment\n",
    "\n",
    "There are three main assessments for this course.\n",
    "Two smaller assessments will take place while the module is being taught to reinforce fundamental concepts and materials introduced in the earlier parts of the course, as well as presenting an opportunity to provide students with formative feedback.\n",
    "The final assessment, which has the highest weighting, will take the form of a large coding project of the type you may have to undertake in their future research.\n",
    "\n",
    "Details of each assessment are as follows:\n",
    "\n",
    "1. **Programming Assessment** (Weighting: 25%)\n",
    "\n",
    "The first assessment requires students to demonstrate an application of fundamental concepts regarding standard patterns and data structures to make appropriate software design decisions for a given algorithm. \n",
    "Students will then implement their design using an appropriate programming language.\n",
    "The implementation should include an element of parallelisation.\n",
    "\n",
    "2. **Software Engineering Assessment** (Weighting: 25%)\n",
    "\n",
    "The second assignment requires students to study and implement a given algorithm. \n",
    "The implementation should be engineered so as to be suitable for hosting on a public repository, such as PyPI or CRAN, and be under publicly accessible version control using, for example, GitHub.\n",
    "The software should have supporting material including, but not restricted to, documentation, use cases, and information regarding how it can be re-used and extended by other researchers.\n",
    "\n",
    "3. **Reproduction Group Project** (Weighting: 50%)\n",
    "\n",
    "The final coursework will consist of a programming reproduction exercise where groups will have to implement a methodology from the stats or OR literature as a package.\n",
    "This will require students to draw on all concepts and practices covered during the course.\n",
    "Besides producing a code repository and report, this component will also include a group presentation and peer assessment component.\n",
    "The peer assessment component is included to ensure that each team member is fairly awarded for their contribution to the project.\n",
    "The final deadline for this assessment will be in week 25.\n"
   ]
  },
  {
   "cell_type": "markdown",
   "id": "2aa5b31f",
   "metadata": {},
   "source": [
    "## Timeline\n",
    "\n",
    "These dates and timings are provisional and may be updated over the course of the module.\n",
    "\n",
    "- **Part 1: Foundations** (January-February)\n",
    "  - Lecture 1: Introduction (1 hour) ([slides](https://prezi.com/view/4TJAZuXNFePXJpT6Y5e3/))\n",
    "  - Tutorial 1 (3 hours)\n",
    "  - Lecture 2: The 5 R's (1 hour)\n",
    "  - Tutorial 2 (3 hours)\n",
    "  - Lecture 3a: What is Computation? Concepts of Computer Programming (1 hour)\n",
    "  - Tutorial 3a (3 hours)\n",
    "  - Lecture 3b: Functional Design Patterns (2 hours)\n",
    "  - Tutorial 3b (3 hours)\n",
    "  - Assessment 1:\n",
    "    - Release date: Friday 31st January (after Lecture 3b)\n",
    "    - Deadline: 10am on Friday 14th February\n",
    "- **Part 2: Software Engineering** (March)\n",
    "  - Lecture 4a: Software Engineering Tools 1 (2 hours)\n",
    "  - Tutorial 4a (2 hours)\n",
    "  - Lecture 4b: Software Engineering Tools 2 (2 hours)\n",
    "  - Tutorial 4b (2 hours)\n",
    "  - Assessment 2:\n",
    "    - Release date: Monday 10th March (after Lecture 4b)\n",
    "    - Deadline: 10am on Friday 28th March\n",
    "- **Part 3: Reproduction Project** (April-May)\n",
    "  - Lecture 5: Bringing It All Together\n",
    "  - Assessment 3:\n",
    "    - Release date: Monday 28th April (in Lecture 5)\n",
    "    - Report and Code Deadline: 10am Tuesday 20th May\n",
    "    - Peer Assessment Form Deadline: 10am on Thursday 22nd May\n",
    "    - Group Presentation: Friday 23rd May\n",
    "  - Tutorial 6: Assessment 3 support session (3 hours)\n",
    "  - Tutorial 7: Assessment 3 support session (3 hours)\n",
    "  - Tutorial 8: Assesssment 3 support sesssion (3 hours)"
   ]
  },
  {
   "cell_type": "markdown",
   "id": "eae9ed19",
   "metadata": {},
   "source": [
    "## Teaching Staff and Contact\n",
    "\n",
    "The module will be primarily taught by Dan Grose.\n",
    "Jamie Fairbrother will assist with teaching, assessment and be responsible for administrative aspects of the module.\n",
    "\n",
    "- Jamie Fairbrother (module convenor)\n",
    "  - Office: D32, Charles Carter\n",
    "  - <mailto:j.fairbrother@lancaster.ac.uk>\n",
    "- Dan Grose\n",
    "  - <mailto:dan.grose@lancaster.ac.uk>\n",
    "\n",
    "Announcements for the Module will be made [Teams group](https://teams.microsoft.com/l/team/19%3ARTSC-gZbNEhl-JootphL2Wr3QXOoDe3cKa45KVEj1yE1%40thread.tacv2/conversations?groupId=2e51bde0-e946-4b6e-ab4d-4542f79ce59e&tenantId=9c9bcd11-977a-4e9c-a9a0-bc734090164a).\n",
    "Additional resources such as code may also be shared here.\n",
    "You may also post your questions here."
   ]
  },
  {
   "cell_type": "markdown",
   "id": "93126557",
   "metadata": {},
   "source": [
    "## Course Materials and Further Reading\n",
    "\n",
    "All lecture notes and tutorial worksheets will be provided through the course website.\n",
    "Although the lecture and workshops are self-contained, the following references may prove useful:\n",
    "\n",
    "- Benureau, F. C. Y. and Rougier, N. P. (2018). **Re-run, Repeat, Reproduce, Reuse, Replicate: Transforming Code into Scientific Contributions**. *Frontiers in Neuroinformatics*. 11. <https://doi.org/10.3389/fninf.2017.00069> \n",
    "- Cormen, T. H., Leiserson, C. E., Rivest, R. L. and Clifford, S. (2009). **Introduction to Algorithms (2nd Edition)**. *MIT\n",
    "Press*.\n",
    "- Roy, P. V. and Haridi, S. (2004). **Concepts, Techniques and Models of Computer Programming.** *MIT Press*.\n",
    "- Gamma, E., Helm, R., Johnson, R. and Vlissides, J. M. (1994). **Design Patterns: Elements of Reusable Object-\n",
    "Oriented Software.** *Addison-Wesley Professional.*"
   ]
  }
 ],
 "metadata": {
  "kernelspec": {
   "display_name": "Python 3",
   "language": "python",
   "name": "python3"
  },
  "language_info": {
   "codemirror_mode": {
    "name": "ipython",
    "version": 3
   },
   "file_extension": ".py",
   "mimetype": "text/x-python",
   "name": "python",
   "nbconvert_exporter": "python",
   "pygments_lexer": "ipython3",
   "version": "3.8.10"
  }
 },
 "nbformat": 4,
 "nbformat_minor": 5
}
