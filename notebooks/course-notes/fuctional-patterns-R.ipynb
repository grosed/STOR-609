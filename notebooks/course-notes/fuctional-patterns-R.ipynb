{
 "cells": [
  {
   "cell_type": "markdown",
   "id": "0184d023-7dab-4ea4-a921-af1d97b2ea52",
   "metadata": {},
   "source": [
    "# Functional Patterns in R"
   ]
  },
  {
   "cell_type": "markdown",
   "id": "82b0e9bb-a5ac-432d-aec4-96b258e881b3",
   "metadata": {},
   "source": [
    "Functional programming means thinking in terms of mathematical functions. Strict functional programming languages, such as Haskell, provide abstractions for functions which a very similar to their mathematical counterparts. However, most programming languages do not do this so well. Does this mean that the idea of modelling our abstractions in terms of mathematical functions is inappropriate when using these languages ?\n",
    "\n",
    "A basic assumption of this course is that, at least for many modern programming languages, this is not the case. The key to making this approach work is to understand the differences between a mathematical function and a function within the language being used, and then find effective ways of working around these differences.  \n",
    "\n",
    "What then are the minimal requirements of a programming language for it to be able to support the use functional patterns ? The primary requirement is support for **Higher Order Programming**."
   ]
  },
  {
   "cell_type": "markdown",
   "id": "6834ba05-825f-4a6c-9666-11a11ee0a215",
   "metadata": {},
   "source": [
    "## Higher Order Programming"
   ]
  },
  {
   "cell_type": "markdown",
   "id": "67b87495-4635-48de-af06-26ab4faccf02",
   "metadata": {},
   "source": [
    "Higher Order Programming perhaps sounds more impressive than it actually is. Put simply it means that functions and other \"higher order\" types can be passed to and returned from functions in the same way as more traditional data e.g. floating point numbers and strings. "
   ]
  },
  {
   "cell_type": "markdown",
   "id": "1e204c96-47c0-424f-8c92-a95757950c1a",
   "metadata": {},
   "source": [
    "### Example"
   ]
  },
  {
   "cell_type": "code",
   "execution_count": 2,
   "id": "2c537312-65b9-474c-9f2f-73db39e61b81",
   "metadata": {},
   "outputs": [
    {
     "data": {
      "text/html": [
       "0.5"
      ],
      "text/latex": [
       "0.5"
      ],
      "text/markdown": [
       "0.5"
      ],
      "text/plain": [
       "[1] 0.5"
      ]
     },
     "metadata": {},
     "output_type": "display_data"
    }
   ],
   "source": [
    "g <- function(f,x)\n",
    "{\n",
    "    return(f(x))\n",
    "}\n",
    "\n",
    "g(sin,pi/6)"
   ]
  },
  {
   "cell_type": "markdown",
   "id": "af270938-f0fd-49c9-9a4f-f48065db9fe4",
   "metadata": {},
   "source": [
    "### Example"
   ]
  },
  {
   "cell_type": "code",
   "execution_count": 3,
   "id": "df916609-9f20-45ca-ae12-e8d0798039fc",
   "metadata": {},
   "outputs": [],
   "source": [
    "f <- function(a)\n",
    "{\n",
    "    g <- function(x)\n",
    "    {\n",
    "        return(x + 2)\n",
    "    }\n",
    "    if(a == 1)\n",
    "        {\n",
    "        return(g) \n",
    "        }\n",
    "    return(sin)\n",
    "}"
   ]
  },
  {
   "cell_type": "code",
   "execution_count": 5,
   "id": "243bb4a7-2337-4925-8444-52ecf4a414dc",
   "metadata": {},
   "outputs": [
    {
     "data": {
      "text/html": [
       "-0.958924274663138"
      ],
      "text/latex": [
       "-0.958924274663138"
      ],
      "text/markdown": [
       "-0.958924274663138"
      ],
      "text/plain": [
       "[1] -0.9589243"
      ]
     },
     "metadata": {},
     "output_type": "display_data"
    }
   ],
   "source": [
    "f(2)(5)"
   ]
  },
  {
   "cell_type": "code",
   "execution_count": 6,
   "id": "9a0f766c-a429-47eb-99e3-eae5f31bcdfe",
   "metadata": {},
   "outputs": [
    {
     "data": {
      "text/html": [
       "7"
      ],
      "text/latex": [
       "7"
      ],
      "text/markdown": [
       "7"
      ],
      "text/plain": [
       "[1] 7"
      ]
     },
     "metadata": {},
     "output_type": "display_data"
    }
   ],
   "source": [
    "f(1)(5)"
   ]
  },
  {
   "cell_type": "markdown",
   "id": "fbd943ba-6439-40e4-ae37-e73079b8fb2c",
   "metadata": {},
   "source": [
    "Notice that in the second example a new function **g** is defined inside an enclosing function **f**. \n",
    "\n",
    "When higher order programming is available most of the main functional design patterns can be implemented in some form. "
   ]
  },
  {
   "cell_type": "markdown",
   "id": "fe9fbbcc-1cd8-42f2-8fd5-b6c72acf9c24",
   "metadata": {},
   "source": [
    "## Pattern 1 - Composition"
   ]
  },
  {
   "cell_type": "markdown",
   "id": "56467b4b-a075-4866-a47f-b166016f0632",
   "metadata": {},
   "source": [
    "### Exercise \n",
    "\n",
    "Write a function **compose** which accepts two functions **f** and **g** and returns a function **h** where $$h(x) = g(f(x))$$ "
   ]
  },
  {
   "cell_type": "code",
   "execution_count": 7,
   "id": "976c6662-9b01-44a7-94ea-ad976f83ba73",
   "metadata": {},
   "outputs": [
    {
     "name": "stdout",
     "output_type": "stream",
     "text": [
      "[1] 8\n",
      "[1] 10\n"
     ]
    }
   ],
   "source": [
    "compose <- function(f,g)\n",
    "{\n",
    "    h <- function(x)\n",
    "    {\n",
    "        return(g(f(x)))\n",
    "    }\n",
    "    return(h)\n",
    "}\n",
    "\n",
    "f <- function(x)\n",
    "{\n",
    "    return(2*x)\n",
    "}\n",
    "\n",
    "g <- function(x)\n",
    "{\n",
    "    return(x + 2)\n",
    "}\n",
    "\n",
    "h <- compose(f,g)\n",
    "print(h(3))\n",
    "\n",
    "h <- compose(g,f)\n",
    "print(h(3))"
   ]
  },
  {
   "cell_type": "markdown",
   "id": "6d038639-0102-4c2d-ae4b-315629e9251a",
   "metadata": {},
   "source": [
    "### Exercise\n",
    "\n",
    "What limitations, if any, are there with your implementation of the **compose** function ?"
   ]
  },
  {
   "cell_type": "markdown",
   "id": "5b7a2479-2592-4ce3-9070-383e94b155d6",
   "metadata": {},
   "source": [
    "### Solution"
   ]
  },
  {
   "cell_type": "code",
   "execution_count": 8,
   "id": "72f40dfe-fe60-4c20-ad5c-688c9bab9b2c",
   "metadata": {},
   "outputs": [],
   "source": [
    "compose <- function(...) Reduce(function(f,g) function(.) f(g(.)), list(...), function(.) .)"
   ]
  },
  {
   "cell_type": "code",
   "execution_count": 12,
   "id": "baef684b-b203-457e-af82-7d2a2727b6bc",
   "metadata": {},
   "outputs": [
    {
     "data": {
      "text/html": [
       "5.97871649324676"
      ],
      "text/latex": [
       "5.97871649324676"
      ],
      "text/markdown": [
       "5.97871649324676"
      ],
      "text/plain": [
       "[1] 5.978716"
      ]
     },
     "metadata": {},
     "output_type": "display_data"
    }
   ],
   "source": [
    "h <- compose(f,g,sin,g,f)\n",
    "h(3)"
   ]
  },
  {
   "cell_type": "code",
   "execution_count": null,
   "id": "147a97ad-d62c-44ca-a6c1-41687a0f949c",
   "metadata": {},
   "outputs": [],
   "source": []
  },
  {
   "cell_type": "code",
   "execution_count": 50,
   "id": "2e622163-eff8-4479-9969-5578f30aaa5d",
   "metadata": {},
   "outputs": [],
   "source": [
    "curry <- function(f)\n",
    "{\n",
    "    args <- list()\n",
    "    nargs <- length(formals(args(f)))\n",
    "    curried <- function(...)\n",
    "    {\n",
    "        args <<- c(args,list(...))\n",
    "        if(length(args) == nargs)\n",
    "        {\n",
    "            return(do.call(f,args)) \n",
    "        }\n",
    "        return(curried)\n",
    "    }\n",
    "    return(curried)\n",
    "}"
   ]
  },
  {
   "cell_type": "code",
   "execution_count": 54,
   "id": "71d7c7a4-997f-458b-95f7-dcbc6f221eb1",
   "metadata": {},
   "outputs": [
    {
     "name": "stderr",
     "output_type": "stream",
     "text": [
      "\n",
      "Attaching package: ‘purrr’\n",
      "\n",
      "\n",
      "The following object is masked _by_ ‘.GlobalEnv’:\n",
      "\n",
      "    compose\n",
      "\n",
      "\n"
     ]
    }
   ],
   "source": [
    "library(purrr)"
   ]
  },
  {
   "cell_type": "code",
   "execution_count": null,
   "id": "6a4985d2-eb84-4a5a-a898-8001791254ae",
   "metadata": {},
   "outputs": [],
   "source": []
  },
  {
   "cell_type": "code",
   "execution_count": null,
   "id": "81c3aceb-d51c-47e7-ad64-18db77061090",
   "metadata": {},
   "outputs": [],
   "source": []
  },
  {
   "cell_type": "markdown",
   "id": "68935c07-c6db-4b42-a21c-d3501d0b90d3",
   "metadata": {},
   "source": [
    "## Pattern 3 - Partial Application"
   ]
  },
  {
   "cell_type": "markdown",
   "id": "ebdac6ad-d4be-428b-8391-05c01aaa9d2f",
   "metadata": {},
   "source": [
    "Closely related to **Currying**, partial application accepts a function, freezes one or more of its arguments , and returns a new function with a reduced number of arguments. The frozen arguments are often referred to as the \"bound\" arguments or \"bound\" values."
   ]
  },
  {
   "cell_type": "code",
   "execution_count": 67,
   "id": "713e7bcc-4f8f-4419-ae33-71e8439e03cd",
   "metadata": {},
   "outputs": [],
   "source": [
    "f <- function(a,b,c) \n",
    "{\n",
    "    return(2^a * 3^b * 5^c)\n",
    "}"
   ]
  },
  {
   "cell_type": "code",
   "execution_count": 68,
   "id": "8772cb2d-4936-43e5-a422-7ed4229557df",
   "metadata": {},
   "outputs": [
    {
     "data": {
      "text/html": [
       "2700"
      ],
      "text/latex": [
       "2700"
      ],
      "text/markdown": [
       "2700"
      ],
      "text/plain": [
       "[1] 2700"
      ]
     },
     "metadata": {},
     "output_type": "display_data"
    }
   ],
   "source": [
    "f(2,3,2)"
   ]
  },
  {
   "cell_type": "code",
   "execution_count": 69,
   "id": "5168b339-588b-4372-ac29-51ce2fdc8552",
   "metadata": {},
   "outputs": [],
   "source": [
    "library(purrr)"
   ]
  },
  {
   "cell_type": "code",
   "execution_count": 70,
   "id": "2a20a879-a9e3-4ecf-ab0d-5a43d3ee8d8b",
   "metadata": {},
   "outputs": [
    {
     "data": {
      "text/html": [
       "2700"
      ],
      "text/latex": [
       "2700"
      ],
      "text/markdown": [
       "2700"
      ],
      "text/plain": [
       "[1] 2700"
      ]
     },
     "metadata": {},
     "output_type": "display_data"
    }
   ],
   "source": [
    "g <- partial(f,b=3)\n",
    "g(2,2)"
   ]
  },
  {
   "cell_type": "code",
   "execution_count": null,
   "id": "0a3b1b64-3a35-46d1-938a-5b01ce10690f",
   "metadata": {},
   "outputs": [],
   "source": [
    "## Pattern 4 - Classes and Objects"
   ]
  },
  {
   "cell_type": "code",
   "execution_count": null,
   "id": "cdcc0a8f-9479-4ac7-a13a-6e613e39bfa2",
   "metadata": {},
   "outputs": [],
   "source": [
    "### Motivating Problem"
   ]
  },
  {
   "cell_type": "code",
   "execution_count": null,
   "id": "2ee1718a-e0d2-402e-9666-ffecadca66f1",
   "metadata": {},
   "outputs": [],
   "source": [
    "Here is a simple function"
   ]
  },
  {
   "cell_type": "code",
   "execution_count": null,
   "id": "5a6906d2-6111-477e-87c2-a5b83cc5a60c",
   "metadata": {},
   "outputs": [],
   "source": [
    "def f(x) :\n",
    "    return 2*x"
   ]
  },
  {
   "cell_type": "code",
   "execution_count": 71,
   "id": "cfab10d5-c649-4352-be7b-7c557b88cf9e",
   "metadata": {},
   "outputs": [],
   "source": [
    "f <- function(x)\n",
    "{\n",
    "    return(2*x)\n",
    "}"
   ]
  },
  {
   "cell_type": "markdown",
   "id": "1bb1f10d-b953-4a86-9d18-836f31cc4dce",
   "metadata": {},
   "source": [
    "Now imagine you want to keep track of how many times this function gets used in a big program."
   ]
  },
  {
   "cell_type": "code",
   "execution_count": null,
   "id": "e9e258b7-40ee-471b-884c-7bdb10190ed1",
   "metadata": {},
   "outputs": [],
   "source": [
    "### Solution"
   ]
  },
  {
   "cell_type": "code",
   "execution_count": 77,
   "id": "02609b40-94df-4f5b-8a32-98ddb4c73166",
   "metadata": {},
   "outputs": [
    {
     "name": "stdout",
     "output_type": "stream",
     "text": [
      "f was called  12  times \n"
     ]
    }
   ],
   "source": [
    "count <- 0\n",
    "\n",
    "for(i in 1:10)\n",
    "{\n",
    "    f(i)\n",
    "    count <- count + 1\n",
    "# ... lots more code\n",
    "# ...\n",
    "}\n",
    "\n",
    "# somewhere else in your program\n",
    "y <- f(8)\n",
    "count <- count + 1\n",
    "\n",
    "# ... lots more code\n",
    "# ...\n",
    "\n",
    "# somewhere else in your program\n",
    "z <- f(3)/2\n",
    "count <- count + 1\n",
    "\n",
    "# ... lots more code\n",
    "# ...\n",
    "\n",
    "### and finally\n",
    "cat(\"f was called \",count,\" times\",'\\n')"
   ]
  },
  {
   "cell_type": "code",
   "execution_count": null,
   "id": "5f01c468-b9c7-4df3-918d-6dcd12cfb1a0",
   "metadata": {},
   "outputs": [],
   "source": [
    "### Exercise \n",
    "\n",
    "What are the potential problems with this solution ?\n",
    "\n",
    "Broadly speaking, how would you score this solution with respect to the **5Rs** ? "
   ]
  },
  {
   "cell_type": "code",
   "execution_count": null,
   "id": "1567dca7-8ed2-458b-b74d-0208652adaa2",
   "metadata": {},
   "outputs": [],
   "source": [
    "### Exercise \n",
    "\n",
    "Design an alternative approach counting the number of times **f** gets used. \n",
    "\n",
    "Does your approach have any advantages over the original solution ? \n",
    "\n",
    "How would you rate your solution with respect to the **5Rs**"
   ]
  },
  {
   "cell_type": "code",
   "execution_count": null,
   "id": "51616de4-e306-44d8-a414-4b3efbc40170",
   "metadata": {},
   "outputs": [],
   "source": [
    "### Exercise"
   ]
  },
  {
   "cell_type": "code",
   "execution_count": null,
   "id": "22086cbf-60e6-40c0-918c-2e7257b86197",
   "metadata": {},
   "outputs": [],
   "source": [
    "Consider the following function"
   ]
  },
  {
   "cell_type": "code",
   "execution_count": null,
   "id": "3b93a7c0-c300-4f85-94a6-c1a118c8ffb6",
   "metadata": {},
   "outputs": [],
   "source": [
    "def logger(f) :\n",
    "    count = 0\n",
    "    def g(x) :\n",
    "        count += 1\n",
    "        return f(x),count\n",
    "    return g"
   ]
  },
  {
   "cell_type": "code",
   "execution_count": null,
   "id": "1f14c9fe-848e-4b14-a080-27dcf27add51",
   "metadata": {},
   "outputs": [],
   "source": [
    "logger <- function(f)\n",
    "{\n",
    "    count <- 0\n",
    "    g <- function(x)\n",
    "    {\n",
    "        count <<- count + 1\n",
    "        return \n",
    "    }\n",
    "}"
   ]
  }
 ],
 "metadata": {
  "kernelspec": {
   "display_name": "R",
   "language": "R",
   "name": "ir"
  },
  "language_info": {
   "codemirror_mode": "r",
   "file_extension": ".r",
   "mimetype": "text/x-r-source",
   "name": "R",
   "pygments_lexer": "r",
   "version": "4.3.3"
  }
 },
 "nbformat": 4,
 "nbformat_minor": 5
}
