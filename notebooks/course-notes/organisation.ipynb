{
 "cells": [
  {
   "cell_type": "markdown",
   "id": "4cf88935-6707-4703-95de-a2a0d360e4e7",
   "metadata": {},
   "source": [
    "# <u>Organisation</u>"
   ]
  },
  {
   "cell_type": "markdown",
   "id": "00bbb628-417c-428e-a37a-7e0abadefd03",
   "metadata": {},
   "source": [
    "Broadly speaking, the course is organised into three parts.\n",
    "\n",
    "1) Programming for Reproducible Research\n",
    "\n",
    "2) Software Engineering for Reproducible Research\n",
    "\n",
    "3) Replication / Reproduction Exercise\n",
    "\n",
    "There are three pieces of assessed work, one for each of the sections listed above."
   ]
  },
  {
   "cell_type": "markdown",
   "id": "4bac83c6-3c8b-4396-861e-4ff30aa37ff0",
   "metadata": {},
   "source": [
    "## Prerequisites"
   ]
  },
  {
   "cell_type": "markdown",
   "id": "cf2d9ddc-1a90-4bfb-82eb-099deb98b77e",
   "metadata": {},
   "source": [
    "- Basic knowledge of Python, such as that as provided by the short course [\"Introductory Python\"](http://www.mathsbox.com/introductory-python/intro.html)\n",
    "- Basic Unix skills, such as those acquired from the short course [Introduction to Unix](http://www.mathsbox.com/introduction-to-unix/intro.html)\n",
    "- Access to a Windows and a Unix based systems with Python and R installed.  "
   ]
  },
  {
   "cell_type": "markdown",
   "id": "2aeb093c-e68a-4a59-b2af-32e5bbe2546d",
   "metadata": {},
   "source": [
    "## Overall Structure"
   ]
  },
  {
   "cell_type": "markdown",
   "id": "79976a07-8ac0-47d3-b9b1-a77c547215dc",
   "metadata": {},
   "source": [
    "### Summary"
   ]
  },
  {
   "cell_type": "markdown",
   "id": "5b513105-a223-4387-947f-c9ca3f12be93",
   "metadata": {},
   "source": [
    "- Five lectures (10 hours contact time)\n",
    "- Seven tutorials (24 hours contact time)\n",
    "- Two individual assessments (25% + 25%)\n",
    "- One group assessment (50%)\n",
    "- Overall contact time 34 hours\n",
    "  "
   ]
  },
  {
   "cell_type": "markdown",
   "id": "b9474e1f-59fb-434f-ae9f-3cbb4a9191ba",
   "metadata": {},
   "source": [
    "### Sequence"
   ]
  },
  {
   "cell_type": "markdown",
   "id": "053aaa55-ac8d-4e9a-a7dd-56bb9e72f648",
   "metadata": {},
   "source": [
    "- **Lecture 1** - *Introduction to STOR-609 Programming for Reproducible Research* - (1 hour)\n",
    "- **Tutorial 1** - *The Game of Pig* - (3 hours)\n",
    "- **Lecture 2** - *The 5Rs* - (1 hour)\n",
    "- **Tutorial 2** - *The 5Rs in Action* - (3 hours)\n",
    "- **Lecture 3a** - *What is Computation ? Concepts of Computer Programming* - (1 hours)\n",
    "- **Tutorial 3a** - *Competitive Pigs* - (3 hours)\n",
    "- **Lecture 3b** - *Functional Design Patterns* - (2 hours)\n",
    "- **Tutorial 3b** - *Functional Design Patterns in Practice* - (3 hours)\n",
    "- **Assessment 1**\n",
    "- **Lecture 4a** - *Software Engineering Tools 1* - (2 hours)\n",
    "- **Tutorial 4a** - *Software Engineering in Practice 1* - (2 hours)\n",
    "-  **Lecture 4b** - *Software Engineering Tools 2* - (2 hours)\n",
    "-  **Tutorial 4b** - *Software Engineering in Practice 2* - (2 hours)\n",
    "- **Assessment 2**\n",
    "- **Lecture 5** - *Bringing it All Together* - (1 hour)\n",
    "- **Tutorial 5** - *Pig and Value Iteration - a Replication Study* - (2 hours)\n",
    "- **Assessment 3**\n",
    "- **Tutorial 6** - *Assessment 3 Support 1*  - (3 hours)\n",
    "- **Tutorial 7** - *Assessment 3 Support 2* - (3 hours)"
   ]
  },
  {
   "cell_type": "markdown",
   "id": "3dcdd04b-5e00-455b-96a4-f6ea1e918402",
   "metadata": {},
   "source": [
    "## <ins>Lecture 1</ins> - Introduction to STOR-609 Programming for Reproducible Research"
   ]
  },
  {
   "cell_type": "markdown",
   "id": "3c845b8b-0f69-4287-a57b-25056f0e56f0",
   "metadata": {},
   "source": [
    "### Overview"
   ]
  },
  {
   "cell_type": "markdown",
   "id": "abdb2d08-7592-4423-9564-0c0c76bea56b",
   "metadata": {},
   "source": [
    "**Contact time** - 1 hour \\\n",
    "**Requirements** - Overhead projector with computer and internet access\n"
   ]
  },
  {
   "cell_type": "markdown",
   "id": "2b7f3daa-1509-4947-a3e0-1563da307934",
   "metadata": {},
   "source": [
    "### Contents"
   ]
  },
  {
   "cell_type": "markdown",
   "id": "d62a120c-fc8d-4003-8774-0fe2d87a2c96",
   "metadata": {},
   "source": [
    "\n",
    "1) Welcome\n",
    "2) Course objectives and outcomes\n",
    "3) Course structure and approach to learning\n",
    "4) Some fundamental concepts of computing\n",
    "5) The 5Rs\n",
    "6) Q and A"
   ]
  },
  {
   "cell_type": "markdown",
   "id": "63ea559d-25cc-4345-922c-87732dee01a5",
   "metadata": {},
   "source": [
    "### Links\n",
    "\n",
    "- [Tutor Notes]()\n",
    "- [Student Notes]()"
   ]
  },
  {
   "cell_type": "markdown",
   "id": "6a3859e7-2d1f-412d-a8e9-d5e9432279b4",
   "metadata": {},
   "source": [
    "## <ins>Tutorial 1</ins> - Pig Revisited"
   ]
  },
  {
   "cell_type": "markdown",
   "id": "e5536ad2-7a1d-46c3-b333-ab5206acb6c8",
   "metadata": {},
   "source": [
    "### Overview"
   ]
  },
  {
   "cell_type": "markdown",
   "id": "3e4b2999-8503-4f14-93e5-98807b16497c",
   "metadata": {},
   "source": [
    "**Contact time** - 3 hours \\\n",
    "**Requirements** - Overhead projector with computer and internet access\n"
   ]
  },
  {
   "cell_type": "markdown",
   "id": "34809a8b-30c3-4fd2-a245-476b4c24ad5a",
   "metadata": {},
   "source": [
    "### Contents"
   ]
  },
  {
   "cell_type": "markdown",
   "id": "dde19c1d-eb44-4992-8545-315dd6439b4e",
   "metadata": {},
   "source": [
    "\n",
    "1) Pig - a recap on a simple dice based game of jeopardy\n",
    "2) Implementing a pig competition\n",
    "3) Brainstorming\n",
    "4) Coding\n",
    "5) Discussion\n",
    "6) Some homework\n",
    "7) Q and A"
   ]
  },
  {
   "cell_type": "markdown",
   "id": "cd199f23-e5c6-44fc-9094-e5e834ef5bf0",
   "metadata": {},
   "source": [
    "### Links\n",
    "\n",
    "- [Tutor Notes]()\n",
    "- [Student Notes]()"
   ]
  },
  {
   "cell_type": "markdown",
   "id": "92f1cfa6-3695-4416-8030-aa516df595ee",
   "metadata": {},
   "source": [
    "## <ins>Lecture 2</ins> - The 5Rs of Scientific Programming"
   ]
  },
  {
   "cell_type": "markdown",
   "id": "18f53c52-ec86-4af6-a996-4ee99ca7c5f1",
   "metadata": {},
   "source": [
    "### Overview"
   ]
  },
  {
   "cell_type": "markdown",
   "id": "061b7827-edbb-4542-9750-49b5ed1ac5c5",
   "metadata": {},
   "source": [
    "**Contact time** - 1 hour \\\n",
    "**Requirements** - Overhead projector with computer and internet access\n"
   ]
  },
  {
   "cell_type": "markdown",
   "id": "f6a5b72f-2d90-410f-bd71-c56d010b8e6a",
   "metadata": {},
   "source": [
    "### Contents"
   ]
  },
  {
   "cell_type": "markdown",
   "id": "20d3310d-ae82-4559-bea8-385496a100e8",
   "metadata": {},
   "source": [
    "\n",
    "1) What is scientific programming ?\n",
    "2) What are the 5Rs ?\n",
    "3) How do the 5Rs fit in to this course ?\n",
    "4) Some homework\n",
    "7) Q and A"
   ]
  },
  {
   "cell_type": "markdown",
   "id": "42129d53-cc04-42f7-9c54-8ad5bca05d44",
   "metadata": {},
   "source": [
    "### Links\n",
    "\n",
    "- [Tutor Notes]()\n",
    "- [Student Notes]()"
   ]
  },
  {
   "cell_type": "markdown",
   "id": "5c693995-52b3-4082-9c14-44ec488ef893",
   "metadata": {},
   "source": [
    "## <ins>Tutorial 2</ins> - The 5Rs in Actions"
   ]
  },
  {
   "cell_type": "markdown",
   "id": "5588807c-0bfa-4194-be20-2cf979ac99fc",
   "metadata": {},
   "source": [
    "### Overview"
   ]
  },
  {
   "cell_type": "markdown",
   "id": "7b82a96a-9461-4010-a21b-69987f741c2b",
   "metadata": {},
   "source": [
    "**Contact time** - 3 hours \\\n",
    "**Requirements** - Overhead projector with computer and internet access\n"
   ]
  },
  {
   "cell_type": "markdown",
   "id": "576ca7b4-859c-4e18-be67-f025da592957",
   "metadata": {},
   "source": [
    "### Contents"
   ]
  },
  {
   "cell_type": "markdown",
   "id": "a9153863-862a-4215-8237-a47258b221e6",
   "metadata": {},
   "source": [
    "\n",
    "1) Test pig competition code from tutorial 1\n",
    "2) Peer review and assess pig competition code with respect to the 5Rs\n",
    "3) Brainstorming - approaches to evaluating code quality using the 5Rs\n",
    "5) Discussion\n",
    "7) Q and A"
   ]
  },
  {
   "cell_type": "markdown",
   "id": "8d6a8589-d7d6-4817-938a-65efefbf68a6",
   "metadata": {},
   "source": [
    "### Links\n",
    "\n",
    "- [Tutor Notes]()\n",
    "- [Student Notes]()"
   ]
  },
  {
   "cell_type": "markdown",
   "id": "79b5e5b1-cefd-40d9-8821-510f9d37a08b",
   "metadata": {},
   "source": [
    "## <ins>Lecture 3a</ins> - What is Computation ? Concepts of Computer Programming"
   ]
  },
  {
   "cell_type": "markdown",
   "id": "4677a780-f55a-43cb-bd72-e7fc5d1f09ea",
   "metadata": {},
   "source": [
    "### Overview"
   ]
  },
  {
   "cell_type": "markdown",
   "id": "522109a7-7b8a-4022-b105-f92eed391bac",
   "metadata": {},
   "source": [
    "**Contact time** - 1 hours \\\n",
    "**Requirements** - Overhead projector with computer and internet access\n"
   ]
  },
  {
   "cell_type": "markdown",
   "id": "e551a94f-93f2-4c57-b51f-8b53d362b5ba",
   "metadata": {},
   "source": [
    "### Contents"
   ]
  },
  {
   "cell_type": "markdown",
   "id": "d75eab80-041e-49e6-8f8c-cfa10ebced9f",
   "metadata": {},
   "source": [
    "1) Computation as representation and transformation\n",
    "2) Examples of different types of computation\n",
    "3) What is a programming language ?\n",
    "4) What is a computational problem ?\n",
    "5) What is an algorithm ?"
   ]
  },
  {
   "cell_type": "markdown",
   "id": "0e1cd777-1cc1-4336-a33f-a9e933a92b2e",
   "metadata": {},
   "source": [
    "### Links\n",
    "\n",
    "- [Tutor Notes]()\n",
    "- [Student Notes]()"
   ]
  },
  {
   "cell_type": "markdown",
   "id": "9e8bdf3f-098d-4f0b-8b3c-f37d05569dca",
   "metadata": {},
   "source": [
    "## <ins>Tutorial 3a</ins> - Competitive Pigs"
   ]
  },
  {
   "cell_type": "markdown",
   "id": "9e7d19d5-5722-4f08-9494-a207dc9ba389",
   "metadata": {},
   "source": [
    "### Overview"
   ]
  },
  {
   "cell_type": "markdown",
   "id": "15b7c72b-d782-428c-b017-e5083839dc06",
   "metadata": {},
   "source": [
    "**Contact time** - 3 hours \\\n",
    "**Requirements** - Overhead projector with computer and internet access\n"
   ]
  },
  {
   "cell_type": "markdown",
   "id": "2a56de68-4aee-42b4-8734-e46ba9b86996",
   "metadata": {},
   "source": [
    "### Contents"
   ]
  },
  {
   "cell_type": "markdown",
   "id": "6c5d1304-b6be-4a5c-b7fd-ac211feb67f0",
   "metadata": {},
   "source": [
    " - Implementing a Pig competition by transforming a mathematical representation into a programming language. \n"
   ]
  },
  {
   "cell_type": "markdown",
   "id": "fb58fecc-256c-472c-a798-c6bf5076cf8f",
   "metadata": {},
   "source": [
    "### Links\n",
    "\n",
    "- [Tutor Notes]()\n",
    "- [Student Notes]()"
   ]
  },
  {
   "cell_type": "markdown",
   "id": "70b309fc-e1cb-42ab-8e73-c4a77677f709",
   "metadata": {},
   "source": [
    "## <ins>Lecture 3b</ins> - Functional Design Patterns"
   ]
  },
  {
   "cell_type": "markdown",
   "id": "af54c13f-eb33-4f6b-8290-35ec2a54b11d",
   "metadata": {},
   "source": [
    "### Overview"
   ]
  },
  {
   "cell_type": "markdown",
   "id": "9908dab2-d2d8-414e-9896-896b847978d4",
   "metadata": {},
   "source": [
    "**Contact time** - 2 hours \\\n",
    "**Requirements** - Overhead projector with computer and internet access\n"
   ]
  },
  {
   "cell_type": "markdown",
   "id": "60c7d0c9-24d0-42f5-86a3-7923f7a1f352",
   "metadata": {},
   "source": [
    "### Contents"
   ]
  },
  {
   "cell_type": "markdown",
   "id": "fbcb6e63-e6f2-474f-95b3-97530ae25f6f",
   "metadata": {},
   "source": [
    "6) Functional design patterns\n",
    "7) Computational complexity\n",
    "8) Concurrency"
   ]
  },
  {
   "cell_type": "markdown",
   "id": "cfc53bf4-5e5c-412f-95dc-8f91089c2834",
   "metadata": {},
   "source": [
    "### Links\n",
    "\n",
    "- [Tutor Notes]()\n",
    "- [Student Notes]()"
   ]
  },
  {
   "cell_type": "markdown",
   "id": "42bd0b08-c29f-4673-a435-31ffa81874d7",
   "metadata": {},
   "source": [
    "## <ins>Tutorial 3</ins> - Functional Design Patterns in Practice"
   ]
  },
  {
   "cell_type": "markdown",
   "id": "b281342a-64b7-4df3-8fa9-e114c28ba759",
   "metadata": {},
   "source": [
    "### Overview"
   ]
  },
  {
   "cell_type": "markdown",
   "id": "98f3b414-5f1e-47cb-8e47-94a81ad78c5d",
   "metadata": {},
   "source": [
    "**Contact time** - 3 hours \\\n",
    "**Requirements** - Overhead projector with computer and internet access\n"
   ]
  },
  {
   "cell_type": "markdown",
   "id": "8680bc07-7250-4cf3-af1b-719d5e487da9",
   "metadata": {},
   "source": [
    "### Contents"
   ]
  },
  {
   "cell_type": "markdown",
   "id": "50047463-a1b7-41e1-ba62-1b348f27cc1f",
   "metadata": {},
   "source": [
    "1) Examples of functional design patterns in python\n",
    "2) Objects and classes\n",
    "3) Data structures\n",
    "4) Serialisation\n",
    "5) Introduction to assessment 1"
   ]
  },
  {
   "cell_type": "markdown",
   "id": "8abe0974-490c-4a3f-9358-ca96ad7e04e6",
   "metadata": {},
   "source": [
    "### Links\n",
    "\n",
    "- [Tutor Notes]()\n",
    "- [Student Notes]()"
   ]
  },
  {
   "cell_type": "markdown",
   "id": "22d781ae-4892-413d-b86a-e7c4c0c54e1e",
   "metadata": {},
   "source": [
    "## Assessment 1"
   ]
  },
  {
   "cell_type": "markdown",
   "id": "51d7c14d-99f8-49ea-b653-e5533eecde53",
   "metadata": {},
   "source": [
    "## <ins>Lecture 4a</ins> - Software Engineering Tools 1"
   ]
  },
  {
   "cell_type": "markdown",
   "id": "88db5e9a-0b44-4604-a26c-31406aaec891",
   "metadata": {},
   "source": [
    "### Overview"
   ]
  },
  {
   "cell_type": "markdown",
   "id": "49a9d176-9312-4f41-b302-bc504fb2dfbd",
   "metadata": {},
   "source": [
    "**Contact time** - 2 hours \\\n",
    "**Requirements** - Overhead projector with computer and internet access\n"
   ]
  },
  {
   "cell_type": "markdown",
   "id": "51bee339-b2e1-4198-a2fd-b017d3162efe",
   "metadata": {},
   "source": [
    "### Contents"
   ]
  },
  {
   "cell_type": "markdown",
   "id": "90b7b8f8-1cf6-439a-890b-b97aafbd6267",
   "metadata": {},
   "source": [
    "1) Programming environments\n",
    "6) Packaging\n",
    "7) Distributing "
   ]
  },
  {
   "cell_type": "markdown",
   "id": "fab659ee-d48e-4622-94fe-70368eb52dee",
   "metadata": {},
   "source": [
    "### Links\n",
    "\n",
    "- [Tutor Notes]()\n",
    "- [Student Notes]()"
   ]
  },
  {
   "cell_type": "markdown",
   "id": "e56b3864-f134-4584-bb4a-b6cddbed6088",
   "metadata": {},
   "source": [
    "## <ins>Tutorial 4a</ins> - Software Engineering in Practice 1"
   ]
  },
  {
   "cell_type": "markdown",
   "id": "c1a11866-3085-4e46-b30b-7febf175c64f",
   "metadata": {},
   "source": [
    "### Overview"
   ]
  },
  {
   "cell_type": "markdown",
   "id": "703f8966-a85c-40a5-8fdb-ca6d2036f348",
   "metadata": {},
   "source": [
    "**Contact time** - 2 hours \\\n",
    "**Requirements** - Overhead projector with computer and internet access\n"
   ]
  },
  {
   "cell_type": "markdown",
   "id": "c33ea39a-dbf3-4cf4-9bb5-5cd3c69791b5",
   "metadata": {},
   "source": [
    "### Contents"
   ]
  },
  {
   "cell_type": "markdown",
   "id": "0940a60b-910d-4b20-a590-22412bfb6bea",
   "metadata": {},
   "source": [
    "\n",
    "1) TODO"
   ]
  },
  {
   "cell_type": "markdown",
   "id": "3300f1da-9110-4ec5-bfc0-bfe401dadffe",
   "metadata": {},
   "source": [
    "### Links\n",
    "\n",
    "- [Tutor Notes]()\n",
    "- [Student Notes]()"
   ]
  },
  {
   "cell_type": "markdown",
   "id": "e6707361-56fb-43d9-b0c2-00984760e833",
   "metadata": {},
   "source": [
    "## <ins>Lecture 4b</ins> - Software Engineering Tools 2"
   ]
  },
  {
   "cell_type": "markdown",
   "id": "a1e0f86c-fc89-4ab0-b5c7-72bc78e37f4b",
   "metadata": {},
   "source": [
    "### Overview"
   ]
  },
  {
   "cell_type": "markdown",
   "id": "644100b3-ecbd-496b-8495-3e16d66236fd",
   "metadata": {},
   "source": [
    "**Contact time** - 2 hours \\\n",
    "**Requirements** - Overhead projector with computer and internet access\n"
   ]
  },
  {
   "cell_type": "markdown",
   "id": "4ada3bb4-819d-4a8d-945f-9d17675db75c",
   "metadata": {},
   "source": [
    "### Contents"
   ]
  },
  {
   "cell_type": "markdown",
   "id": "96c5f40f-1f19-4add-892a-e33ac1132da5",
   "metadata": {},
   "source": [
    "\n",
    "1) Version control\n",
    "3) Debugging\n",
    "4) Profiling\n",
    "5) Testing\n",
    "\n"
   ]
  },
  {
   "cell_type": "markdown",
   "id": "2191685e-45ea-44b0-9b63-289845cbb9d4",
   "metadata": {},
   "source": [
    "### Links\n",
    "\n",
    "- [Tutor Notes]()\n",
    "- [Student Notes]()"
   ]
  },
  {
   "cell_type": "markdown",
   "id": "f7f0fc0c-0f7a-42f7-8452-e2ff8a6648a6",
   "metadata": {},
   "source": [
    "## <ins>Tutorial 4b</ins> - Software Engineering in Practice 2"
   ]
  },
  {
   "cell_type": "markdown",
   "id": "e51ab629-20e9-439f-8d89-9b2345188717",
   "metadata": {},
   "source": [
    "### Overview"
   ]
  },
  {
   "cell_type": "markdown",
   "id": "fbf7d62b-4b1c-4089-9f5f-b5047bf96e32",
   "metadata": {},
   "source": [
    "**Contact time** - 2 hours \\\n",
    "**Requirements** - Overhead projector with computer and internet access\n"
   ]
  },
  {
   "cell_type": "markdown",
   "id": "954a6138-aabb-4235-9b1f-7739845d80c6",
   "metadata": {},
   "source": [
    "### Contents"
   ]
  },
  {
   "cell_type": "markdown",
   "id": "f086d154-bb28-4998-a0f0-22d7d8a4c722",
   "metadata": {},
   "source": [
    "\n",
    "1) TODO"
   ]
  },
  {
   "cell_type": "markdown",
   "id": "7df6fd55-fd30-4ddb-9ef3-c93172fb433a",
   "metadata": {},
   "source": [
    "### Links\n",
    "\n",
    "- [Tutor Notes]()\n",
    "- [Student Notes]()"
   ]
  },
  {
   "cell_type": "markdown",
   "id": "4148102c-d2ba-4ca7-9edd-6e70a67422c4",
   "metadata": {},
   "source": [
    "## Assessment 2"
   ]
  },
  {
   "cell_type": "markdown",
   "id": "81777638-873d-47b2-aedd-847c560def5c",
   "metadata": {},
   "source": [
    "## <ins>Lecture 5</ins> - Bringing it all Together"
   ]
  },
  {
   "cell_type": "markdown",
   "id": "0ef20948-96fc-4b9e-9951-7a199271c64a",
   "metadata": {},
   "source": [
    "### Overview"
   ]
  },
  {
   "cell_type": "markdown",
   "id": "17bbdac7-e751-4381-a6cf-f84c51a4cde4",
   "metadata": {},
   "source": [
    "**Contact time** - 1 hour \\\n",
    "**Requirements** - Overhead projector with computer and internet access\n"
   ]
  },
  {
   "cell_type": "markdown",
   "id": "fd8a3625-0ede-430f-b54d-7f0961dd3c6f",
   "metadata": {},
   "source": [
    "### Contents"
   ]
  },
  {
   "cell_type": "markdown",
   "id": "70a2c65a-18d8-4627-b29e-763416288b3b",
   "metadata": {},
   "source": [
    "1) Recap on main ideas and themes\n",
    "2) Q and A\n",
    "3) Reflections\n",
    "4) Publishing replication and reproduction studies\n",
    "5) Introduction to assessment 3"
   ]
  },
  {
   "cell_type": "markdown",
   "id": "78c70267-b841-4690-aa34-cf4d0eaeed4a",
   "metadata": {},
   "source": [
    "### Links\n",
    "\n",
    "- [Tutor Notes]()\n",
    "- [Student Notes]()"
   ]
  },
  {
   "cell_type": "markdown",
   "id": "31ee4897-e93c-4b15-9b6f-60d6b4fce886",
   "metadata": {},
   "source": [
    "## <ins>Tutorial 5</ins> - Pig and Value Iteration - a Replication Study"
   ]
  },
  {
   "cell_type": "markdown",
   "id": "48121573-c6db-40d4-91e0-1b36775695d4",
   "metadata": {},
   "source": [
    "### Overview"
   ]
  },
  {
   "cell_type": "markdown",
   "id": "a9a9af6d-02d7-4548-ad8e-d85ae504eed9",
   "metadata": {},
   "source": [
    "**Contact time** - 2 hours \\\n",
    "**Requirements** - Overhead projector with computer and internet access\n"
   ]
  },
  {
   "cell_type": "markdown",
   "id": "d2854cfb-e764-40c6-aa3d-4eaf5b6c95a4",
   "metadata": {},
   "source": [
    "### Contents"
   ]
  },
  {
   "cell_type": "markdown",
   "id": "419c6221-f1ff-4d6b-9f86-ace0f25f0996",
   "metadata": {},
   "source": [
    "\n",
    "1) Guided start to partial replication of [Optimal Play of the Dice Game Pig](https://github.com/grosed/STOR-609/blob/main/literature/pig/optimal-play-of-the-dice-game-pig.pdf)"
   ]
  },
  {
   "cell_type": "markdown",
   "id": "879d9645-c6e2-4f32-bdb2-489c154e5807",
   "metadata": {},
   "source": [
    "### Links\n",
    "\n",
    "- [Tutor Notes]()\n",
    "- [Student Notes]()"
   ]
  },
  {
   "cell_type": "markdown",
   "id": "5c330c59-33df-4d16-8289-737aa4107c56",
   "metadata": {},
   "source": [
    "## Assessment 3"
   ]
  },
  {
   "cell_type": "markdown",
   "id": "35a459f3-dbe2-40c5-9389-ca39f2901e83",
   "metadata": {},
   "source": [
    "## <ins>Tutorial 6</ins> - Assessment 3 Support 1"
   ]
  },
  {
   "cell_type": "markdown",
   "id": "f9ec38f1-055b-492c-a6d1-267afb3e4776",
   "metadata": {},
   "source": [
    "### Overview"
   ]
  },
  {
   "cell_type": "markdown",
   "id": "60262671-085b-446e-8578-78b841f2409a",
   "metadata": {},
   "source": [
    "**Contact time** - 3 hours \\\n",
    "**Requirements** - Overhead projector with computer and internet access\n"
   ]
  },
  {
   "cell_type": "markdown",
   "id": "bc12576c-b5a6-48d0-9743-3cd86380d5ff",
   "metadata": {},
   "source": [
    "### Contents"
   ]
  },
  {
   "cell_type": "markdown",
   "id": "a9dbee92-42e3-4ac8-bbe3-b9a9c7bffdd3",
   "metadata": {},
   "source": [
    "\n",
    "1) Support session for assessment 3"
   ]
  },
  {
   "cell_type": "markdown",
   "id": "382059b3-0bf8-42ac-a002-2011b7634f2b",
   "metadata": {},
   "source": [
    "### Links\n",
    "\n",
    "- [Tutor Notes]()\n",
    "- [Student Notes]()"
   ]
  },
  {
   "cell_type": "markdown",
   "id": "f9314897-a69d-484c-ba43-84ce94fdbe31",
   "metadata": {},
   "source": [
    "## <ins>Tutorial 6</ins> - Assessment 3 Support 2"
   ]
  },
  {
   "cell_type": "markdown",
   "id": "a6aebb2e-f98d-4e4c-8b53-41658b08cad0",
   "metadata": {},
   "source": [
    "### Overview"
   ]
  },
  {
   "cell_type": "markdown",
   "id": "792e27b1-b7e2-40b2-8cbe-cb744c906ae7",
   "metadata": {},
   "source": [
    "**Contact time** - 3 hours \\\n",
    "**Requirements** - Overhead projector with computer and internet access\n"
   ]
  },
  {
   "cell_type": "markdown",
   "id": "ef074f98-e975-4f75-8403-94b67a2dc1c9",
   "metadata": {},
   "source": [
    "### Contents"
   ]
  },
  {
   "cell_type": "markdown",
   "id": "9efd5c6d-bf09-4820-a27f-e2bf7bc86165",
   "metadata": {},
   "source": [
    "\n",
    "1) Support session for assessment 3"
   ]
  },
  {
   "cell_type": "markdown",
   "id": "3a179392-fef8-4117-93e6-ae56716a31ec",
   "metadata": {},
   "source": [
    "### Links\n",
    "\n",
    "- [Tutor Notes]()\n",
    "- [Student Notes]()"
   ]
  }
 ],
 "metadata": {
  "kernelspec": {
   "display_name": "Python 3 (ipykernel)",
   "language": "python",
   "name": "python3"
  },
  "language_info": {
   "codemirror_mode": {
    "name": "ipython",
    "version": 3
   },
   "file_extension": ".py",
   "mimetype": "text/x-python",
   "name": "python",
   "nbconvert_exporter": "python",
   "pygments_lexer": "ipython3",
   "version": "3.12.3"
  }
 },
 "nbformat": 4,
 "nbformat_minor": 5
}
