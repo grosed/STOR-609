{
 "cells": [
  {
   "cell_type": "markdown",
   "id": "c2f4957a-0fb4-4447-a5d7-bd033840422e",
   "metadata": {},
   "source": [
    "# <u>Introduction</u>"
   ]
  },
  {
   "cell_type": "markdown",
   "id": "01a768e2-d944-405d-a2e4-cdef54182cfd",
   "metadata": {},
   "source": [
    "## Programming and Science\n",
    "\n",
    "This program of study sets out to build an understanding of how to design and create high quality scientific software. Typically a practitioner acquires this understanding through years of practice and experience, and the underlying ideas and processes that it consists of are only rarely, if indeed ever, made explicit. This is not unusual in itself. In fact (at least in the United Kingdom), a complete program of scientific training can be undertaken, starting in school and finishing in graduate study, with no explicit reference ever being made to any specific scientific methodologies or their underlying principles and philosophical origins.\n",
    "\n",
    "Maybe this is not a bad thing ? Indeed, by its very nature, a scientific methodology is unlikely to capture all the aspects associated with \"doing\" science, such as **(something here + references)**. Furthermore, in practice, and for many people, \"doing\" something is often much more enjoyable than \"thinking\" about it. Of course, when considering academics, the converse is often true, especially when it comes to philosophers !!   \n",
    "\n",
    "Maybe somewhere between the two extremes is a good place to position a post graduate level course on scientific programming. It is this approach that has been adopted here. In doing so it is hoped that the student will acquire an understanding that has more fundamental and therefore (it is hoped) broader in application. For example, software design is studied in a language \"agnostic\" way, focussing on the core abstractions and ideas that make for good software design. However, the student is also required to realise these designs using one or more programming languages and systems and, in doing so, acquire some of the day to day practical skills necessary for creating quality scientific software.\n",
    "\n",
    "A further hoped for benefit of teaching programming in a language agnostic manner is that it should furnish the student with the ability to assess the suitability and limitations of any particular language within the context of a given problem domain. This is not just wishful thinking. It is based on the belief that the language we use has an effect on how and what it is we think about. Moreover, common experience suggests that those who learn programming through a particular programming language continue to use the main idioms of this language when programming in other languages. This usually leads to poor structure which, in turn, compromises code quality.\n",
    "\n",
    "<figure>\n",
    "<img src=\"./whorf-quote.png\" style=\"width:100%\">\n",
    "<figcaption align = \"center\"> \"Langauge shapes the way we think, and determines what we can think about.\" - B.L.Whorf </figcaption>\n",
    "</figure>\n",
    "\n",
    "## Software Quality\n",
    "\n",
    "Quality software is not just about the quality of the programming. It also concerns other ideas, such as accessibility, portability, scalability, extensibility, and so on. How then do we assess the quality of software ? As with most attempts to answer questions regarding quality it only only makes sense to do so when the setting in which quality is to be assessed is understood. The basic assumption for this course is that the setting is scientific software as opposed to, for example, games software, or software for micro-controllers in commercial machines, or multimedia applications. \n",
    "\n",
    "Does this really make any difference ? Should scientific software be considered differently ? What qualities should scientific software have ? How does the \"development lifecyle\" of scientific software differ (if at all) from other types of software ? These questions, along with other other related ones, will be addressed as part of this course.\n",
    "\n",
    "## Course Objectives\n",
    "\n",
    "The main objectives of this course are \n",
    "\n",
    "1. Provide a framework for assessing the quality of scientific software\n",
    "2. Provide an understanding of generic programming patterns for representing and transforming abstractions appropriate for scientific software design and development\n",
    "3.  Provide basic software engineering skills appropriate for creating high quality scientific software\n",
    "\n",
    "\n",
    "\n",
    "\n",
    "\n"
   ]
  },
  {
   "cell_type": "markdown",
   "id": "ddba5dba-9f08-4fbf-8231-c833b7abaf4d",
   "metadata": {},
   "source": [
    "## Key Ideas\n",
    "\n",
    "To facilitate in making progress toward achieving these objectives it is useful to set out the key ideas that are used to arrive at the concepts that support them.\n",
    "\n",
    "Note that the ideas are presented as premises. This is done to emphasise that they are (as far as this course is concerned) only propositions and, as such, are open to the process of discussion, refinement, and change. Students are very much encouraged to actively take part in this process !    "
   ]
  },
  {
   "cell_type": "markdown",
   "id": "37d5658f-fe68-4167-b9ba-81306e345c98",
   "metadata": {},
   "source": [
    "### <u>Premise 1</u>\n",
    "\n",
    "**Computation is _Transformation_ of _Representations_**"
   ]
  },
  {
   "cell_type": "markdown",
   "id": "ca4dd2de-c624-4d63-ad91-0653f2390872",
   "metadata": {},
   "source": [
    "### <u>Premise 2</u>\n",
    "\n",
    "**Appropriate _Representations_ and _Transformations_ are Domain Specific**"
   ]
  },
  {
   "cell_type": "markdown",
   "id": "60c15932-1f97-4d3c-9d6d-fde4f0efd9a6",
   "metadata": {},
   "source": [
    "### <u>Premise 3</u>\n",
    "\n",
    "**The _Representations_ most commonly applied in the domain of scientific computing are _Model_, _Algorithm_, _Program_, and _Computer_.**\n",
    "\n"
   ]
  },
  {
   "cell_type": "markdown",
   "id": "e3ecaa8f-7c45-4ed0-b9a9-4566aac2a5ed",
   "metadata": {},
   "source": [
    "### <u>Premise 4</u>\n",
    "\n",
    "**When it is part of a scientific endeavour the quality of computing should be quantified with respect to the same metrics as the overall endeavour. These metrics naturally include _Replicability_, _Reproducibility_, and _Repeatability_**"
   ]
  },
  {
   "cell_type": "markdown",
   "id": "14d65d0e-5dc9-42db-bc32-e03f8ce9b12a",
   "metadata": {},
   "source": [
    "### <u>Premise 5</u>\n",
    "\n",
    "**In addition to _Replicability_, _Reproducibility_, and _Repeatability_, the quality of computing should be quantified with respect to the intrisic software related metrics of _Re-usability_ and  _Re-runability_**"
   ]
  },
  {
   "cell_type": "markdown",
   "id": "7aab3fd5-5730-4b20-a008-ddd201e5e0e5",
   "metadata": {},
   "source": [
    "### <u>Premise 6</u>\n",
    "\n",
    "**Quality software is _composed_ from many specialised instances of a few _generic patterns_.** "
   ]
  }
 ],
 "metadata": {
  "kernelspec": {
   "display_name": "Python 3 (ipykernel)",
   "language": "python",
   "name": "python3"
  },
  "language_info": {
   "codemirror_mode": {
    "name": "ipython",
    "version": 3
   },
   "file_extension": ".py",
   "mimetype": "text/x-python",
   "name": "python",
   "nbconvert_exporter": "python",
   "pygments_lexer": "ipython3",
   "version": "3.11.0"
  }
 },
 "nbformat": 4,
 "nbformat_minor": 5
}
