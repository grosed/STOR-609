{
 "cells": [
  {
   "cell_type": "markdown",
   "id": "0184d023-7dab-4ea4-a921-af1d97b2ea52",
   "metadata": {},
   "source": [
    "# Lecture 3a - Functional Patterns (R Version)"
   ]
  },
  {
   "cell_type": "markdown",
   "id": "d184ae35-7398-4e0b-a6eb-9644966021d7",
   "metadata": {},
   "source": [
    "Functional programming means thinking in terms of mathematical functions. Strict functional programming languages, such as **Haskell**, **Idris**, **F#**, **OCaml**, and **scala** provide abstractions for functions which a very similar to their mathematical counterparts. However, most programming languages do not do this so well. Does this mean that the idea of modelling our abstractions in terms of mathematical functions is inappropriate when using these languages ?\n",
    "\n",
    "A basic assumption of this course is that, at least for many modern programming languages, this is not the case. The key to making this approach work is to understand the differences between a mathematical function and a function within the language being used, and then find effective ways of working around these differences.  \n",
    "\n",
    "What then are the minimal requirements of a programming language for it to be able to support the use of functional patterns ? The primary requirement is the availablity of **Higher Order Programming**."
   ]
  },
  {
   "cell_type": "markdown",
   "id": "6834ba05-825f-4a6c-9666-11a11ee0a215",
   "metadata": {},
   "source": [
    "## Higher Order Programming"
   ]
  },
  {
   "cell_type": "markdown",
   "id": "67b87495-4635-48de-af06-26ab4faccf02",
   "metadata": {},
   "source": [
    "Higher Order Programming perhaps sounds more impressive than it actually is. Put simply it means that functions and other \"higher order\" types can be passed to and returned from functions in the same way as more traditional data e.g. floating point numbers and strings. "
   ]
  },
  {
   "cell_type": "markdown",
   "id": "1e204c96-47c0-424f-8c92-a95757950c1a",
   "metadata": {},
   "source": [
    "### Example"
   ]
  },
  {
   "cell_type": "code",
   "execution_count": 1,
   "id": "2c537312-65b9-474c-9f2f-73db39e61b81",
   "metadata": {},
   "outputs": [
    {
     "data": {
      "text/html": [
       "0.5"
      ],
      "text/latex": [
       "0.5"
      ],
      "text/markdown": [
       "0.5"
      ],
      "text/plain": [
       "[1] 0.5"
      ]
     },
     "metadata": {},
     "output_type": "display_data"
    }
   ],
   "source": [
    "g <- function(f,x)\n",
    "{\n",
    "    return(f(x))\n",
    "}\n",
    "\n",
    "g(sin,pi/6)"
   ]
  },
  {
   "cell_type": "markdown",
   "id": "af270938-f0fd-49c9-9a4f-f48065db9fe4",
   "metadata": {},
   "source": [
    "### Example"
   ]
  },
  {
   "cell_type": "code",
   "execution_count": 2,
   "id": "df916609-9f20-45ca-ae12-e8d0798039fc",
   "metadata": {},
   "outputs": [],
   "source": [
    "f <- function(a)\n",
    "{\n",
    "    g <- function(x)\n",
    "    {\n",
    "        return(x + 2)\n",
    "    }\n",
    "    if(a == 1)\n",
    "        {\n",
    "        return(g) \n",
    "        }\n",
    "    return(sin)\n",
    "}"
   ]
  },
  {
   "cell_type": "code",
   "execution_count": 3,
   "id": "243bb4a7-2337-4925-8444-52ecf4a414dc",
   "metadata": {},
   "outputs": [
    {
     "data": {
      "text/html": [
       "-0.958924274663138"
      ],
      "text/latex": [
       "-0.958924274663138"
      ],
      "text/markdown": [
       "-0.958924274663138"
      ],
      "text/plain": [
       "[1] -0.9589243"
      ]
     },
     "metadata": {},
     "output_type": "display_data"
    }
   ],
   "source": [
    "f(2)(5)"
   ]
  },
  {
   "cell_type": "code",
   "execution_count": 4,
   "id": "9a0f766c-a429-47eb-99e3-eae5f31bcdfe",
   "metadata": {},
   "outputs": [
    {
     "data": {
      "text/html": [
       "7"
      ],
      "text/latex": [
       "7"
      ],
      "text/markdown": [
       "7"
      ],
      "text/plain": [
       "[1] 7"
      ]
     },
     "metadata": {},
     "output_type": "display_data"
    }
   ],
   "source": [
    "f(1)(5)"
   ]
  },
  {
   "cell_type": "markdown",
   "id": "fbd943ba-6439-40e4-ae37-e73079b8fb2c",
   "metadata": {},
   "source": [
    "Notice that in the second example a new function **g** is defined inside an enclosing function **f**. \n",
    "\n",
    "When higher order programming is available most of the main functional design patterns can be implemented in some form. "
   ]
  },
  {
   "cell_type": "markdown",
   "id": "fe9fbbcc-1cd8-42f2-8fd5-b6c72acf9c24",
   "metadata": {},
   "source": [
    "## Pattern 1 - Composition"
   ]
  },
  {
   "cell_type": "markdown",
   "id": "56467b4b-a075-4866-a47f-b166016f0632",
   "metadata": {},
   "source": [
    "### Exercise \n",
    "\n",
    "Write a function **compose** which accepts two functions **f** and **g** and returns a function **h** where $$h(x) = f(g(x))$$ "
   ]
  },
  {
   "cell_type": "code",
   "execution_count": 5,
   "id": "976c6662-9b01-44a7-94ea-ad976f83ba73",
   "metadata": {
    "editable": true,
    "slideshow": {
     "slide_type": ""
    },
    "tags": [
     "hide-output",
     "hide-input"
    ]
   },
   "outputs": [
    {
     "name": "stdout",
     "output_type": "stream",
     "text": [
      "[1] 10\n",
      "[1] 8\n"
     ]
    }
   ],
   "source": [
    "compose <- function(f,g)\n",
    "{\n",
    "    h <- function(x)\n",
    "    {\n",
    "        return(f(g(x)))\n",
    "    }\n",
    "    return(h)\n",
    "}\n",
    "\n",
    "f <- function(x)\n",
    "{\n",
    "    return(2*x)\n",
    "}\n",
    "\n",
    "g <- function(x)\n",
    "{\n",
    "    return(x + 2)\n",
    "}\n",
    "\n",
    "h <- compose(f,g)\n",
    "print(h(3))\n",
    "\n",
    "h <- compose(g,f)\n",
    "print(h(3))"
   ]
  },
  {
   "cell_type": "markdown",
   "id": "6d038639-0102-4c2d-ae4b-315629e9251a",
   "metadata": {},
   "source": [
    "### Exercise\n",
    "\n",
    "What limitations, if any, are there with your implementation of the **compose** function ?"
   ]
  },
  {
   "cell_type": "markdown",
   "id": "5b7a2479-2592-4ce3-9070-383e94b155d6",
   "metadata": {},
   "source": [
    "### A more versatile **compose**"
   ]
  },
  {
   "cell_type": "code",
   "execution_count": 6,
   "id": "72f40dfe-fe60-4c20-ad5c-688c9bab9b2c",
   "metadata": {},
   "outputs": [],
   "source": [
    "compose <- function(...) Reduce(function(f,g) function(.) f(g(.)), list(...), function(.) .)"
   ]
  },
  {
   "cell_type": "code",
   "execution_count": 7,
   "id": "baef684b-b203-457e-af82-7d2a2727b6bc",
   "metadata": {},
   "outputs": [
    {
     "data": {
      "text/html": [
       "5.97871649324676"
      ],
      "text/latex": [
       "5.97871649324676"
      ],
      "text/markdown": [
       "5.97871649324676"
      ],
      "text/plain": [
       "[1] 5.978716"
      ]
     },
     "metadata": {},
     "output_type": "display_data"
    }
   ],
   "source": [
    "h <- compose(f,g,sin,g,f)\n",
    "h(3)"
   ]
  },
  {
   "cell_type": "markdown",
   "id": "67e49261-3796-4f14-aa79-5cda6eadd0b9",
   "metadata": {},
   "source": [
    "## Pattern 2 - Currying"
   ]
  },
  {
   "cell_type": "markdown",
   "id": "024093be-46ee-4cb7-bbfb-07c1108103c5",
   "metadata": {},
   "source": [
    "<figure>\n",
    "<img src=\"./HaskellBCurry.jpg\" style=\"height:20% display:inline-block\">\n",
    "<img src=\"./curry.jpeg\" style=\"height:20% display:inline-block\">\n",
    "<figcaption align = \"center\"> Curry - a popular dish (top). Haskell B Curry - a computer scientist (bottom). </figcaption>\n",
    "</figure>"
   ]
  },
  {
   "cell_type": "markdown",
   "id": "e00957c3-8130-404d-aad5-eba89073a3ec",
   "metadata": {},
   "source": [
    "In mathematics a function $f$ can be completely specified in terms of its graph $\\Gamma_{f}$. The graph is a (possibly infinite) set of ordered pairs, for example\n",
    "\n",
    "$\\Gamma_{f} = \\left\\{  (1,1),(2,4),(3,9) \\right\\}$\n",
    "\n",
    "Conceptually the graph shows how to map the first element of a given pair to the second. This is emphasised through the notation $f(1) = 1$ and $f(3) = 9$ and so on. \n"
   ]
  },
  {
   "cell_type": "markdown",
   "id": "b206716b-fd96-44a6-86cc-e9df3bb52894",
   "metadata": {},
   "source": [
    "### Exercise\n",
    "\n",
    "Give a small example of a graph of function of the form $f(x,y)$.\n",
    "\n",
    "Write a function in R that implements it.\n",
    "\n",
    "How many \"arguments\" does the mathematical function \"take\" ? \n",
    "\n",
    "How many \"arguments\" does your R function \"take\" ?"
   ]
  },
  {
   "cell_type": "markdown",
   "id": "4d30c1db-d346-4fed-b6db-6e399e18f6a7",
   "metadata": {},
   "source": [
    "So, mathematical functions map single entities to single entities. To make python functions behave in this way they can be **curried**. However, in R, the libraries that set out to implement a generic pattern for currying actually implement a related but different pattern called **partial application** (covered later in this section). To help out, here is some home made curry !!"
   ]
  },
  {
   "cell_type": "code",
   "execution_count": 8,
   "id": "2e622163-eff8-4479-9969-5578f30aaa5d",
   "metadata": {},
   "outputs": [],
   "source": [
    "curry <- function(f)\n",
    "{\n",
    "    args <- list()\n",
    "    nargs <- length(formals(args(f)))\n",
    "    curried <- function(...)\n",
    "    {\n",
    "        largs <- c(args,list(...))\n",
    "        if(length(largs) == nargs)\n",
    "        {\n",
    "            return(do.call(f,largs)) \n",
    "        }\n",
    "        args <<- largs\n",
    "        return(curried)\n",
    "    }\n",
    "    return(curried)\n",
    "}"
   ]
  },
  {
   "cell_type": "markdown",
   "id": "e73f6d29-31bc-417b-b63d-a6a46d816ae3",
   "metadata": {},
   "source": [
    "#### Example"
   ]
  },
  {
   "cell_type": "code",
   "execution_count": 9,
   "id": "d9d7fee5-de61-4757-9dc3-1a7bae7730ca",
   "metadata": {},
   "outputs": [],
   "source": [
    "h <- function(x,y) \n",
    "{\n",
    "   return(x+y)\n",
    "}"
   ]
  },
  {
   "cell_type": "code",
   "execution_count": 10,
   "id": "b2f8551a-3034-4644-96d0-4c4e117e748d",
   "metadata": {},
   "outputs": [],
   "source": [
    "f <- curry(h)"
   ]
  },
  {
   "cell_type": "code",
   "execution_count": 11,
   "id": "3ab94784-81e0-4f8a-865c-ea890883a848",
   "metadata": {},
   "outputs": [
    {
     "name": "stdout",
     "output_type": "stream",
     "text": [
      "[1] 5\n"
     ]
    }
   ],
   "source": [
    "z = f(2,3)  # function taking two arguments ???? No.\n",
    "print(z)"
   ]
  },
  {
   "cell_type": "code",
   "execution_count": 12,
   "id": "ea3ad958-c5a8-4d56-aa1e-bc283fbedd73",
   "metadata": {},
   "outputs": [
    {
     "name": "stdout",
     "output_type": "stream",
     "text": [
      "[1] 5\n"
     ]
    }
   ],
   "source": [
    "g = f(2) # f is a function of one argument that returns a function \n",
    "z = g(3) # g is a function (with one argument)\n",
    "print(z)"
   ]
  },
  {
   "cell_type": "markdown",
   "id": "b581f0d9-9574-4315-817e-ed555af0fbe4",
   "metadata": {},
   "source": [
    "The \"**curry**\" pattern is slightly odd in that most functional programming languages do not need it since functions are curried by design."
   ]
  },
  {
   "cell_type": "markdown",
   "id": "7c5ef50c-d0c7-4140-8887-a05fe9fed368",
   "metadata": {},
   "source": [
    "### Exercise \n",
    "\n",
    "How can currying be put to practical use ?"
   ]
  },
  {
   "cell_type": "markdown",
   "id": "760058db-f114-44d0-bce4-04bf38067d43",
   "metadata": {},
   "source": [
    "### Solution"
   ]
  },
  {
   "cell_type": "markdown",
   "id": "671921c8-ffbc-4146-903e-d72861545c43",
   "metadata": {
    "editable": true,
    "slideshow": {
     "slide_type": ""
    },
    "tags": [
     "hide-output",
     "hide-input"
    ]
   },
   "source": [
    "Currying allows a programmer to provide a way of adding extra parameters to a function whilst still allowing it to be **Reused** in other code. A strategy in the pig game provides an excellent example of a use case for the **curry** pattern. "
   ]
  },
  {
   "cell_type": "markdown",
   "id": "bc6905ac-0303-46a0-a73a-2a4ebd14b5cd",
   "metadata": {},
   "source": [
    "### Exercise\n",
    "\n",
    "Try and use **curried** strategies in your pig competition code."
   ]
  },
  {
   "cell_type": "markdown",
   "id": "68935c07-c6db-4b42-a21c-d3501d0b90d3",
   "metadata": {},
   "source": [
    "## Pattern 3 - Partial Application"
   ]
  },
  {
   "cell_type": "markdown",
   "id": "ebdac6ad-d4be-428b-8391-05c01aaa9d2f",
   "metadata": {},
   "source": [
    "Closely related to **Currying**, partial application accepts a function, freezes one or more of its arguments , and returns a new function with a reduced number of arguments. The frozen arguments are often referred to as the \"bound\" arguments or \"bound\" values."
   ]
  },
  {
   "cell_type": "code",
   "execution_count": 13,
   "id": "713e7bcc-4f8f-4419-ae33-71e8439e03cd",
   "metadata": {},
   "outputs": [],
   "source": [
    "f <- function(a,b,c) \n",
    "{\n",
    "    return(2^a * 3^b * 5^c)\n",
    "}"
   ]
  },
  {
   "cell_type": "code",
   "execution_count": 14,
   "id": "8772cb2d-4936-43e5-a422-7ed4229557df",
   "metadata": {},
   "outputs": [
    {
     "data": {
      "text/html": [
       "2700"
      ],
      "text/latex": [
       "2700"
      ],
      "text/markdown": [
       "2700"
      ],
      "text/plain": [
       "[1] 2700"
      ]
     },
     "metadata": {},
     "output_type": "display_data"
    }
   ],
   "source": [
    "f(2,3,2)"
   ]
  },
  {
   "cell_type": "code",
   "execution_count": 15,
   "id": "5168b339-588b-4372-ac29-51ce2fdc8552",
   "metadata": {},
   "outputs": [
    {
     "name": "stderr",
     "output_type": "stream",
     "text": [
      "\n",
      "Attaching package: ‘purrr’\n",
      "\n",
      "\n",
      "The following object is masked _by_ ‘.GlobalEnv’:\n",
      "\n",
      "    compose\n",
      "\n",
      "\n"
     ]
    }
   ],
   "source": [
    "library(purrr)"
   ]
  },
  {
   "cell_type": "code",
   "execution_count": 16,
   "id": "2a20a879-a9e3-4ecf-ab0d-5a43d3ee8d8b",
   "metadata": {},
   "outputs": [
    {
     "data": {
      "text/html": [
       "2700"
      ],
      "text/latex": [
       "2700"
      ],
      "text/markdown": [
       "2700"
      ],
      "text/plain": [
       "[1] 2700"
      ]
     },
     "metadata": {},
     "output_type": "display_data"
    }
   ],
   "source": [
    "g <- partial(f,b=3)\n",
    "g(2,2)"
   ]
  },
  {
   "cell_type": "markdown",
   "id": "f76e19ca-54c0-474d-b7c5-6dcc1302989c",
   "metadata": {},
   "source": [
    "### Exercise\n",
    "\n",
    "How does partial application differ from Currying ?\n",
    "\n",
    "What effect does the position of the \"bound\" arguments have on the way the partially applied function is used ?"
   ]
  },
  {
   "cell_type": "markdown",
   "id": "84ebbd58-3d11-4115-8cf4-b0a245ac881c",
   "metadata": {},
   "source": [
    "## Pattern 4 - Classes and Objects"
   ]
  },
  {
   "cell_type": "markdown",
   "id": "06be72fa-4504-4304-b53f-254734e8e695",
   "metadata": {},
   "source": [
    "### Motivating Problem"
   ]
  },
  {
   "cell_type": "markdown",
   "id": "4cc9e3cb-6922-4ff4-8d3f-3e3c3951dc1a",
   "metadata": {},
   "source": [
    "Here is a simple function"
   ]
  },
  {
   "cell_type": "code",
   "execution_count": 17,
   "id": "cfab10d5-c649-4352-be7b-7c557b88cf9e",
   "metadata": {},
   "outputs": [],
   "source": [
    "f <- function(x)\n",
    "{\n",
    "    return(2*x)\n",
    "}"
   ]
  },
  {
   "cell_type": "markdown",
   "id": "1bb1f10d-b953-4a86-9d18-836f31cc4dce",
   "metadata": {},
   "source": [
    "Now imagine you want to keep track of how many times this function gets used in a big program."
   ]
  },
  {
   "cell_type": "markdown",
   "id": "34f43515-88b6-4871-8a6e-e31eeed7d6be",
   "metadata": {},
   "source": [
    "### Solution"
   ]
  },
  {
   "cell_type": "code",
   "execution_count": 18,
   "id": "02609b40-94df-4f5b-8a32-98ddb4c73166",
   "metadata": {},
   "outputs": [
    {
     "name": "stdout",
     "output_type": "stream",
     "text": [
      "f was called  12  times \n"
     ]
    }
   ],
   "source": [
    "count <- 0\n",
    "\n",
    "for(i in 1:10)\n",
    "{\n",
    "    f(i)\n",
    "    count <- count + 1\n",
    "# ... lots more code\n",
    "# ...\n",
    "}\n",
    "\n",
    "# somewhere else in your program\n",
    "y <- f(8)\n",
    "count <- count + 1\n",
    "\n",
    "# ... lots more code\n",
    "# ...\n",
    "\n",
    "# somewhere else in your program\n",
    "z <- f(3)/2\n",
    "count <- count + 1\n",
    "\n",
    "# ... lots more code\n",
    "# ...\n",
    "\n",
    "### and finally\n",
    "cat(\"f was called \",count,\" times\",'\\n')"
   ]
  },
  {
   "cell_type": "markdown",
   "id": "1289ed9d-e158-4fc1-9a20-4d575cc64990",
   "metadata": {},
   "source": [
    "### Exercise \n",
    "\n",
    "What are the potential problems with this solution ?\n",
    "\n",
    "Broadly speaking, how would you score this solution with respect to the **5Rs** ? "
   ]
  },
  {
   "cell_type": "markdown",
   "id": "4b4bce61-065e-4d8f-91cf-73ff25fe2e33",
   "metadata": {},
   "source": [
    "### Exercise \n",
    "\n",
    "Design an alternative approach counting the number of times **f** gets used. \n",
    "\n",
    "Does your approach have any advantages over the original solution ? \n",
    "\n",
    "How would you rate your solution with respect to the **5Rs**"
   ]
  },
  {
   "cell_type": "markdown",
   "id": "9eadf079-1594-4d0f-acf8-7fe44e95826b",
   "metadata": {},
   "source": [
    "### Exercise"
   ]
  },
  {
   "cell_type": "markdown",
   "id": "032e2f72-16be-46e0-8209-4cbfb61db8b6",
   "metadata": {},
   "source": [
    "Consider the following function"
   ]
  },
  {
   "cell_type": "code",
   "execution_count": 19,
   "id": "5a87a3fb-4321-4301-b328-40e16ea24dce",
   "metadata": {
    "editable": true,
    "slideshow": {
     "slide_type": ""
    },
    "tags": []
   },
   "outputs": [],
   "source": [
    "agent <- function()\n",
    "{\n",
    "    state <- 0.71\n",
    "    update <- function(x)\n",
    "    {\n",
    "        state <<- sin(state)\n",
    "        return(x*state)\n",
    "    }\n",
    "    return(update)\n",
    "}"
   ]
  },
  {
   "cell_type": "markdown",
   "id": "13d86d43-6838-4382-ae5c-729a20447fcf",
   "metadata": {},
   "source": [
    "and see if you can predict what the following code does."
   ]
  },
  {
   "cell_type": "code",
   "execution_count": 20,
   "id": "be58bd4a-ae20-431b-92b3-3cd5b81f0ec2",
   "metadata": {
    "editable": true,
    "slideshow": {
     "slide_type": ""
    },
    "tags": [
     "hide-output"
    ]
   },
   "outputs": [
    {
     "name": "stdout",
     "output_type": "stream",
     "text": [
      "[1] 0.6518338\n",
      "[1] 0.6518338\n",
      "[1] 0.6066452\n",
      "[1] 0.5701145\n",
      "[1] 0.6066452\n"
     ]
    }
   ],
   "source": [
    "agent_1 <- agent()\n",
    "agent_2 <- agent()\n",
    "\n",
    "print(agent_1(1))\n",
    "print(agent_2(1))\n",
    "print(agent_1(1))\n",
    "print(agent_1(1))\n",
    "print(agent_2(1))"
   ]
  },
  {
   "cell_type": "markdown",
   "id": "8ca991bb-14b2-44ce-ae22-8510eb07d3f8",
   "metadata": {},
   "source": [
    "The function **logf** is called a **closure**. It is a function. However, it is a function with extra information. The extra information is provided by the enclosing scope of the function (**f** in this case) within which the (nested) function **g** is defined. \n",
    "\n",
    "In general, a function that returns other functions is called a **class**, and the functions returned are called **objects**. If the **objects** have access to the data inside the scope of the **class** then they are **closures**. Note a **closure** is not a nested function, it is the **object** that corresponds to the nested function that is the **closure**. \n",
    "\n",
    "A program that makes use of **classes** and **objects** employs the programming paradigm known as **object based programming**. "
   ]
  },
  {
   "cell_type": "markdown",
   "id": "40f99a3e-c85d-4cc1-8dc4-795be8ff9eb4",
   "metadata": {},
   "source": [
    "#### Exercise\n",
    "\n",
    "Think of, and then describe, some use cases for **object based** programming. "
   ]
  },
  {
   "cell_type": "markdown",
   "id": "2c0510c8-557b-4aa1-93dc-5e730c9517ec",
   "metadata": {},
   "source": [
    "#### Example"
   ]
  },
  {
   "cell_type": "code",
   "execution_count": 21,
   "id": "69e485f2-1e57-4f53-92bc-ffb557452392",
   "metadata": {},
   "outputs": [],
   "source": [
    "logger <- function(f)\n",
    "{\n",
    "    count <- 0\n",
    "    value <- function(x)\n",
    "    {\n",
    "        count <<- count + 1\n",
    "        return(f(x))\n",
    "    }\n",
    "    log <- function()\n",
    "    {\n",
    "        \n",
    "        return(count)\n",
    "    }\n",
    "    return(list(\"call\"=value,\"log\"=log))\n",
    "}"
   ]
  },
  {
   "cell_type": "markdown",
   "id": "0a9a8466-9484-45f2-890e-6c28967d0cc2",
   "metadata": {},
   "source": [
    "#### Exercise\n",
    "\n",
    "How do you think the **logger** class might be used ?\n",
    "\n",
    "How does using the **logger** class rate as a solution to the motivating problem ? \n",
    "\n",
    "What problem(s) does using the **logger** class present ? \n",
    "\n",
    "Can you modify the **logger** class to overcome this problem(s) ?"
   ]
  },
  {
   "cell_type": "markdown",
   "id": "ded63497-7224-4648-a86c-6ff01cd1e478",
   "metadata": {},
   "source": [
    "#### Solution"
   ]
  },
  {
   "cell_type": "code",
   "execution_count": 22,
   "id": "027a0762-9d25-42f1-a428-ad7ae7bc1e08",
   "metadata": {
    "editable": true,
    "slideshow": {
     "slide_type": ""
    },
    "tags": [
     "hide-output",
     "hide-input"
    ]
   },
   "outputs": [],
   "source": [
    "logged_f <- logger(f)"
   ]
  },
  {
   "cell_type": "code",
   "execution_count": 23,
   "id": "bbd03076-7f6c-4ab7-863d-73d7521d4160",
   "metadata": {
    "editable": true,
    "slideshow": {
     "slide_type": ""
    },
    "tags": [
     "hide-output",
     "hide-input"
    ]
   },
   "outputs": [
    {
     "data": {
      "text/html": [
       "10"
      ],
      "text/latex": [
       "10"
      ],
      "text/markdown": [
       "10"
      ],
      "text/plain": [
       "[1] 10"
      ]
     },
     "metadata": {},
     "output_type": "display_data"
    }
   ],
   "source": [
    "for(i in 1:10) \n",
    "{\n",
    "    logged_f$call(i)\n",
    "}\n",
    "\n",
    "logged_f$log()"
   ]
  }
 ],
 "metadata": {
  "kernelspec": {
   "display_name": "R",
   "language": "R",
   "name": "ir"
  },
  "language_info": {
   "codemirror_mode": "r",
   "file_extension": ".r",
   "mimetype": "text/x-r-source",
   "name": "R",
   "pygments_lexer": "r",
   "version": "4.3.3"
  }
 },
 "nbformat": 4,
 "nbformat_minor": 5
}
