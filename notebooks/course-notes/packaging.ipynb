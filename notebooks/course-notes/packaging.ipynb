{
 "cells": [
  {
   "cell_type": "markdown",
   "id": "be78beac-3f3a-4599-ba9d-f8d42424101c",
   "metadata": {},
   "source": [
    "# Lecture 4b - Packaging"
   ]
  },
  {
   "cell_type": "markdown",
   "id": "cb5ea540-dfd8-458d-81aa-94dccb60fe72",
   "metadata": {},
   "source": [
    "## Background"
   ]
  },
  {
   "cell_type": "markdown",
   "id": "b2862ec9-3bb5-4163-ae45-ca48fa7c1607",
   "metadata": {},
   "source": [
    "### What"
   ]
  },
  {
   "cell_type": "markdown",
   "id": "10c29d17-7a8e-483b-a08e-7ff15b7baf7f",
   "metadata": {},
   "source": [
    "A software package is a collection of software related components, such as source code, data, documentation, and so on, stored on a file system. The collection is organised in a specific such that the type of component,and how the components relate to each other, can be understood.\n",
    "\n",
    "A package also has metadata which describes the package in terms of its functionality and curation. This data is often human readable, but is usually also designed to be processed by other software. This enables tools to be designed and used for managing common and often complicated workflows. \n",
    "\n",
    "When a packaging structure and its metadata are combined with an associated tool set the result is usually referred to as a software packaging system.     "
   ]
  },
  {
   "cell_type": "markdown",
   "id": "4fc82d82-07ce-4f0d-bef4-9d29aab942f4",
   "metadata": {},
   "source": [
    "### Why"
   ]
  },
  {
   "cell_type": "markdown",
   "id": "b03ab8ad-fdc7-4a97-a9df-debfd01bae1d",
   "metadata": {},
   "source": [
    "Grouping logically connected components in a manner that reflects how they are related to each other facilitates their distribution, installation, **re-use** and maintenance. It also facilitates the use of standardised tools to manage a wide variety of (often complicated) work flows e.g.\n",
    "\n",
    "- **re-running** software with multiple dependencies across a range heterogeneous environments\n",
    "- **re-using** software components in other software\n",
    "- **running** tests\n",
    "- **reproducing** studies\n",
    "- debugging"
   ]
  },
  {
   "cell_type": "markdown",
   "id": "957585b9-f416-4122-ac89-50a5846222a6",
   "metadata": {},
   "source": [
    "### How"
   ]
  },
  {
   "cell_type": "markdown",
   "id": "bea00ab5-7021-473b-83fa-63611a900052",
   "metadata": {},
   "source": [
    "Software packages are collections of files. As such, they can be created and managed using standard software (terminals, shell script, editors, file managers etc). However, popular package formats are often integrated as extensions into tools such as version management systems and integrated development environments (e.g. RStudio, VScode etc)."
   ]
  },
  {
   "cell_type": "markdown",
   "id": "27b40764-28b4-492b-87c5-6c3b8c4aece8",
   "metadata": {},
   "source": [
    "### When\n",
    "\n",
    "Best practice suggests that some form of packaging should be adopted at the outset of any software related project when\n",
    "\n",
    "- their are multiple users / stakeholders\n",
    "- version control is required\n",
    "- unit tests are used\n",
    "- software is to be distributed\n",
    "- software is to be **re-used** "
   ]
  },
  {
   "cell_type": "markdown",
   "id": "939b8ce1-878c-45af-b993-119f97d5510d",
   "metadata": {},
   "source": [
    "## The Basics - Python"
   ]
  },
  {
   "cell_type": "markdown",
   "id": "12ff1a6f-64c3-4cb8-a648-5d8cc1e9886a",
   "metadata": {},
   "source": [
    "The following diagram shows the organisation of the files in a small example python package."
   ]
  },
  {
   "cell_type": "markdown",
   "id": "0cbba629-542f-4907-94ac-ab6c5f59ef1d",
   "metadata": {},
   "source": [
    "<figure>\n",
    "<img src=\"./choH-python-tree.png\" style=\"width:30%\">\n",
    "<figcaption align = \"center\"> A simple python package</figcaption>\n",
    "</figure>"
   ]
  },
  {
   "cell_type": "markdown",
   "id": "d7575266-d19d-485d-8382-18c3b28445fc",
   "metadata": {},
   "source": [
    "As an exercise, we are going to create and use this package from scratch. The function **choH** is defined in a notebook which also shows how it is used. The notebook is provided in the Appendix under the heading **Appendix 1 - choH (python version)**"
   ]
  },
  {
   "cell_type": "markdown",
   "id": "4f39c1c7-3ea1-45b1-91db-1beab933005a",
   "metadata": {},
   "source": [
    "### Source code"
   ]
  },
  {
   "cell_type": "markdown",
   "id": "8aecf317-a23b-4aee-877b-e5ce73a04816",
   "metadata": {},
   "source": [
    "The methods that the package provides need to be available in files (not a notebook), so the first task os to create the **choH.py** file with the **choH** function in it. Note that the code usually imports other modules that it is dependent on."
   ]
  },
  {
   "cell_type": "markdown",
   "id": "6ed7f3a1-be07-40d4-ab25-3a40c02d6a31",
   "metadata": {},
   "source": [
    "#### Exercise\n",
    "\n",
    "Creat a python script with the the **choH** function in it."
   ]
  },
  {
   "cell_type": "markdown",
   "id": "f9f5dccb-ebda-4c5f-8de6-a21d926788b5",
   "metadata": {},
   "source": [
    "### Modules"
   ]
  },
  {
   "cell_type": "markdown",
   "id": "514807c5-67d8-48e9-a8c8-a55f1431265b",
   "metadata": {},
   "source": [
    "A python package has one or more **modules**. Each module is associated with a directory the name of which defines the name of the module. Primarily, modules contain code, but they can also have data and documentation, and other modules (sub-module ?)."
   ]
  },
  {
   "cell_type": "markdown",
   "id": "10d6460c-2c64-4d94-9c6a-5d63f558c5cd",
   "metadata": {},
   "source": [
    "#### **\\_\\_init\\_\\_.py**"
   ]
  },
  {
   "cell_type": "markdown",
   "id": "30c1ce27-6ba5-4d3e-90fd-640dfb06b21e",
   "metadata": {},
   "source": [
    "Each module should have an **\\_\\_init\\_\\_.py** file - even if it is emtpy (many python systems rely on the presence of this file to determine that the files in the associated directory constitute a module). The **\\_\\_init\\_\\_.py** can contain lots of information, including (but not limited to), documentation, references, module level global names, and so on. Importantly, it is used to load the python files in this (and/or other) modules. The mechanism is the same as is used for importing modules into a python script"
   ]
  },
  {
   "cell_type": "markdown",
   "id": "0b93b1c3-2878-44d0-8e57-9745a77d69bc",
   "metadata": {},
   "source": [
    "#### Exercise"
   ]
  },
  {
   "cell_type": "markdown",
   "id": "698737ab-99a1-47c3-8156-929431a90e35",
   "metadata": {},
   "source": [
    "- Create a directory (folder) for the **choH** module.\n",
    "- Add the **choH.py** file to the module.\n",
    "- Create an **\\_\\_init\\_\\_.py** for this module that imports the **choH.py** file."
   ]
  },
  {
   "cell_type": "markdown",
   "id": "3ad6c600-e8a0-4fe5-a963-8a7e98ee7299",
   "metadata": {},
   "source": [
    "### Project file"
   ]
  },
  {
   "cell_type": "markdown",
   "id": "cbe825a0-7599-4c5f-9936-e62c4069ebe1",
   "metadata": {},
   "source": [
    "There are a number of ways of specifying the package metadata for a python package. One such way is via a pyproject.toml file. See here for more information on [toml files](https://toml.io/en/) and here for domain specific information about the  [pyproject.toml file](https://packaging.python.org/en/latest/guides/writing-pyproject-toml/). \n",
    "\n",
    "Here is a basic template for the **pyproject.toml** file."
   ]
  },
  {
   "cell_type": "markdown",
   "id": "6ac72f51-d563-46e5-a8bc-7821adbf9d80",
   "metadata": {},
   "source": [
    "```toml\n",
    "[build-system]\n",
    "requires = [\"setuptools>=61.0\"]\n",
    "build-backend = \"setuptools.build_meta\"\n",
    "\n",
    "[project]\n",
    "name = \"<project-name>\"\n",
    "version = \"<version>\"\n",
    "maintainers = [\n",
    "  { name=\"Daniel Grose\", email=\"dan.grose@lancaster.ac.uk\" },\n",
    "]\n",
    "authors = [\n",
    "  { name=\"Daniel Grose\", email=\"dan.grose@lancaster.ac.uk\"},\n",
    "]\n",
    "description = \"<description>\"\n",
    "readme = \"README.md\"\n",
    "requires-python = \"<version>\"\n",
    "classifiers = [\n",
    "    \"Programming Language :: Python :: 3\",\n",
    "    \"License :: OSI Approved :: GNU General Public License v3 (GPLv3)\",\n",
    "    \"Operating System :: OS Independent\",\n",
    "]\n",
    "dependencies = [\n",
    "    \"<dependency-1>\",\n",
    "    \"<dependency-2>\"\n",
    "]\n",
    "\n",
    "[project.urls]\n",
    "homepage = \"<website URL>\"\n"
   ]
  },
  {
   "cell_type": "markdown",
   "id": "75605a01-7cb1-4c9a-a09d-d3cb39f04146",
   "metadata": {},
   "source": [
    "There are lots of good tools to help you generate and maintain a **pyproject.toml** file. Details for some of these can be found [here](https://realpython.com/python-pyproject-toml/#using-tools-that-leverage-the-pyprojecttoml-file). "
   ]
  },
  {
   "cell_type": "markdown",
   "id": "a7743347-dc24-4e98-a2d0-a2abcbb660a1",
   "metadata": {},
   "source": [
    "#### Exercise"
   ]
  },
  {
   "cell_type": "markdown",
   "id": "45d5f559-eac3-4ff4-bcc3-732a110fab35",
   "metadata": {},
   "source": [
    "Create a **pyproject.toml** file for the **choH** package"
   ]
  },
  {
   "cell_type": "markdown",
   "id": "aa3d57a1-dc70-4a3f-8bb5-f769d8bce1fd",
   "metadata": {},
   "source": [
    "### Installation"
   ]
  },
  {
   "cell_type": "markdown",
   "id": "8b7a98a8-46a7-4d1b-8e50-d30e2b4bb3c8",
   "metadata": {},
   "source": [
    "There a multiple tools to help you install and use python packages, for example **pip** and **conda**. "
   ]
  },
  {
   "cell_type": "markdown",
   "id": "4b10030b-98a6-4249-b79e-7b39743999d0",
   "metadata": {},
   "source": [
    "#### Install a local package using pip"
   ]
  },
  {
   "cell_type": "markdown",
   "id": "f8803a8f-70a1-446c-b99b-0e1ab1699f4f",
   "metadata": {},
   "source": [
    "Assume that the file structure shown in the figure above is located in **path_to_package**, then this will install the package"
   ]
  },
  {
   "cell_type": "markdown",
   "id": "68cd8dd0-7307-4346-bf03-83e258b1e8cf",
   "metadata": {},
   "source": [
    "```bash\n",
    "python -m pip install <path_to_package>\n",
    "```"
   ]
  },
  {
   "cell_type": "markdown",
   "id": "239f5bf3-8035-4562-ab10-5c42df16b6a1",
   "metadata": {},
   "source": [
    "#### Exercise"
   ]
  },
  {
   "cell_type": "markdown",
   "id": "c0cd4eef-d866-48ff-a886-06123f3b452a",
   "metadata": {},
   "source": [
    "Determine the **path_to_package** for your **choH** package and install it use **pip**."
   ]
  },
  {
   "cell_type": "markdown",
   "id": "a52dcf19-0456-4ecd-9def-29af76e5cc28",
   "metadata": {},
   "source": [
    "### Install a package from github"
   ]
  },
  {
   "cell_type": "markdown",
   "id": "fd16b44d-6e61-4ecc-99f7-8fcc0408eed7",
   "metadata": {},
   "source": [
    "**pip** has the facility to install from a wide range of different sources. One such source is github. Imagine you have set up the following repository using your **choH** package."
   ]
  },
  {
   "cell_type": "markdown",
   "id": "30b6ce27-4106-4433-ba3a-d609d0491dfb",
   "metadata": {},
   "source": [
    "<figure>\n",
    "<img src=\"./choH-python-github.png\" style=\"width:60%\">\n",
    "<figcaption align = \"center\"> A simple python package on github</figcaption>\n",
    "</figure>"
   ]
  },
  {
   "cell_type": "markdown",
   "id": "594d081d-3aeb-4cb0-9d9c-f104e07bee3c",
   "metadata": {},
   "source": [
    "The package can be installed from this github repository using"
   ]
  },
  {
   "cell_type": "markdown",
   "id": "bc2ed60e-c3e1-4a2c-964a-9c2ccfe1ebbe",
   "metadata": {},
   "source": [
    "```bash\n",
    "python -m pip install 'git+https://github.com/grosed/choH'\n",
    "```"
   ]
  },
  {
   "cell_type": "markdown",
   "id": "49ad3439-d016-426c-8ce8-60decb81ac03",
   "metadata": {},
   "source": [
    "### Removing a package using pip"
   ]
  },
  {
   "cell_type": "markdown",
   "id": "7e63fed9-93e3-4940-9e2f-9c51b64d0a07",
   "metadata": {},
   "source": [
    "Once a package has been installed it cab be removed using pip"
   ]
  },
  {
   "cell_type": "markdown",
   "id": "2686ddd8-cdf6-4599-82d0-272ff4bf7759",
   "metadata": {},
   "source": [
    "```bash\n",
    "python -m pip uninstall <package-name>\n",
    "```"
   ]
  },
  {
   "cell_type": "markdown",
   "id": "f30652d5-6e67-419f-9a89-9439b59e92a9",
   "metadata": {},
   "source": [
    "### Using the package"
   ]
  },
  {
   "cell_type": "markdown",
   "id": "b3e7810f-66ae-40bc-927f-baaea4898b5d",
   "metadata": {},
   "source": [
    "Once the package has been installed with **pip** it can be used in a python script by importing it."
   ]
  },
  {
   "cell_type": "markdown",
   "id": "714f9be9-148c-4ae8-98bd-66b1357da493",
   "metadata": {},
   "source": [
    "```python\n",
    "import choH\n",
    "import numpy\n",
    "import matplotlib.pyplot as plt\n",
    "\n",
    "numpy.random.seed(0)\n",
    "X = [float(x) for x in list(numpy.random.normal(0,1,1000)) + list(numpy.random.normal(0.3,1,1000))]\n",
    "plt.plot(X)\n",
    "plt.plot(choH.choH(X))\n",
    "```"
   ]
  },
  {
   "cell_type": "markdown",
   "id": "48cf01e4-e071-4330-8feb-a43b735496e5",
   "metadata": {},
   "source": [
    "#### Exercise\n",
    "- Try running the above script on your own system\n",
    "- Why does the above example use **choH.choH** ?"
   ]
  },
  {
   "cell_type": "markdown",
   "id": "e022d325-134b-4e75-ab1e-9e3a408564d8",
   "metadata": {},
   "source": [
    "#### Exercise\n",
    "\n",
    "- Add a README.md file to your **choH** repository \n",
    "- Can you add the above example to your repository ? "
   ]
  },
  {
   "cell_type": "markdown",
   "id": "c23b7ed1-84a2-4592-afe8-8edf9e383cc3",
   "metadata": {},
   "source": [
    "## The Basics - R"
   ]
  },
  {
   "cell_type": "markdown",
   "id": "f9c0ce47-3cd0-4732-ac1f-edb2a1d43786",
   "metadata": {},
   "source": [
    "The following diagram shows the organisation of the files in a small example R package."
   ]
  },
  {
   "cell_type": "markdown",
   "id": "563789f4-cf91-41a8-8fcf-7fa2ef97c885",
   "metadata": {},
   "source": [
    "<figure>\n",
    "<img src=\"./choH-R-tree.png\" style=\"width:30%\">\n",
    "<figcaption align = \"center\"> A simple R package</figcaption>\n",
    "</figure>"
   ]
  },
  {
   "cell_type": "markdown",
   "id": "c4a4585d-5dde-4173-8810-7a11c10a822d",
   "metadata": {},
   "source": [
    "As an exercise, we are going to create and use this package from scratch. The function **choH** is defined in a notebook which also shows how it is used. The notebook is provided in the Appendix under the heading **Appendix 2 - choH (R version)**"
   ]
  },
  {
   "cell_type": "markdown",
   "id": "ed393650-9ece-4eb6-82fe-88917860fc7d",
   "metadata": {},
   "source": [
    "### Source code"
   ]
  },
  {
   "cell_type": "markdown",
   "id": "53053756-64d4-4f14-aca3-6b7dc4d62e11",
   "metadata": {},
   "source": [
    "The methods that the package provides need to be available in files (not a notebook), so the first task os to create the **choH.R** file with the **choH** function in it. Note that the code does not use he **library** function to load any of its dependencies."
   ]
  },
  {
   "cell_type": "markdown",
   "id": "3e43ed0e-8b87-4e5d-9478-0a0eaa8f0641",
   "metadata": {},
   "source": [
    "#### Exercise\n",
    "\n"
   ]
  },
  {
   "cell_type": "markdown",
   "id": "4a484307-40ea-419d-8a41-60c712f07fae",
   "metadata": {},
   "source": [
    "Create a R script with the the **choH** function in it."
   ]
  },
  {
   "cell_type": "markdown",
   "id": "809396d7-cba7-4328-bf4a-f42ec11e0329",
   "metadata": {},
   "source": [
    "### Exercise"
   ]
  },
  {
   "cell_type": "markdown",
   "id": "9c985cdb-3d6b-44e8-b97e-8e54cd3d7364",
   "metadata": {},
   "source": [
    "The source code for the package resides in a directory named **R**. Create this directory and add your **choH.R** file to it."
   ]
  },
  {
   "cell_type": "markdown",
   "id": "46936a55-c8b3-47cc-a1be-f331e85a8d04",
   "metadata": {},
   "source": [
    "### NAMESPACE"
   ]
  },
  {
   "cell_type": "markdown",
   "id": "92526d7f-8e24-43e6-ac8b-af5192239e85",
   "metadata": {},
   "source": [
    "The **NAMESPACE** file imports any dependencies that your **R** code requires and exports the **R** functions you want expose from your package. Here is a template for a basic **NAMESPACE** file."
   ]
  },
  {
   "cell_type": "markdown",
   "id": "ad331f5b-5766-4797-abca-9eb578b88c9e",
   "metadata": {},
   "source": [
    "```R\n",
    "import(<package-name>)\n",
    "import(<method-name>)\n",
    "import(<data-name>)\n",
    "\n",
    "export(<method-name>)\n",
    "export(<data-name>)\n",
    "```"
   ]
  },
  {
   "cell_type": "markdown",
   "id": "0d4ac509-8665-4e8c-b2d3-5298e24635c6",
   "metadata": {},
   "source": [
    "The file can **import** whole libraries, methods, methods form other libraries, data, and even documentation from other libraries. There can be multiple **import** directives. \n",
    "\n",
    "The file can **export** methods and data. There can be multiple **export** directives.\n"
   ]
  },
  {
   "cell_type": "markdown",
   "id": "a671aedf-c873-4211-8acd-f08027aaf5ad",
   "metadata": {},
   "source": [
    "#### Exercise"
   ]
  },
  {
   "cell_type": "markdown",
   "id": "0b27aa8e-66ff-440f-93d6-c695e33b521d",
   "metadata": {},
   "source": [
    "Create a **NAMESPACE** file for your **choH** package."
   ]
  },
  {
   "cell_type": "markdown",
   "id": "a8372a87-1690-4908-90f9-b3dbcffd2779",
   "metadata": {},
   "source": [
    "### DESCRIPTION"
   ]
  },
  {
   "cell_type": "markdown",
   "id": "73a4a171-df46-478a-8e33-c1e357940587",
   "metadata": {},
   "source": [
    "The DESCRIPTION file describes the package. This description includes details about authors, the purpose of the package, its dependencies. It is human readable but can be processed by various tools available in most common R environments. \n",
    "\n",
    "Here is a template for the **DESCRIPTION** file. "
   ]
  },
  {
   "cell_type": "markdown",
   "id": "31a52ddf-6d08-43b8-8f04-d5d7a0a8469d",
   "metadata": {},
   "source": [
    "```R\n",
    "Package: <package-name>\n",
    "Type: Package\n",
    "Title: <top-level-description-of-package>\n",
    "Version: <version-number>\n",
    "Date: <yyyy-mm-dd>\n",
    "Authors@R: c(person(\"Daniel\",\"Grose\",email=\"dan.grose@lancaster.ac.uk\",role=c(\"aut\",\"cre\")))\n",
    "Description: <more-detailed-description> \n",
    "License: GPL\n",
    "Imports: <imported-packages>\n",
    "LinkingTo:\n",
    "Depends: R (>= 3.5.0)\n",
    "NeedsCompilation: no\n",
    "Suggests:\n",
    "```"
   ]
  },
  {
   "cell_type": "markdown",
   "id": "713a6011-ddef-4055-959a-409a390d90b3",
   "metadata": {},
   "source": [
    "#### Exercise"
   ]
  },
  {
   "cell_type": "markdown",
   "id": "38d9be06-445e-448c-997e-a0d182ac2df2",
   "metadata": {},
   "source": [
    "Create a **DESCRIPTION** file for your **choH** package."
   ]
  },
  {
   "cell_type": "markdown",
   "id": "c755f160-e26f-4456-a38e-3d133f06671e",
   "metadata": {},
   "source": [
    "### Installing"
   ]
  },
  {
   "cell_type": "markdown",
   "id": "06072ccc-0431-43a6-bb43-6f73fb1329b1",
   "metadata": {},
   "source": [
    "There a multiple tools to help you install and use R packages. The most fundamental tool is **R** itself. "
   ]
  },
  {
   "cell_type": "markdown",
   "id": "aaa1c5f0-a924-466e-b5ef-c89a0512efe0",
   "metadata": {},
   "source": [
    "#### Install a local package using R"
   ]
  },
  {
   "cell_type": "markdown",
   "id": "4df3eb8f-630e-4148-84a7-de1b1abf1ca0",
   "metadata": {},
   "source": [
    "Assume that the file structure shown in the figure above is located in **path_to_package**, then this will install the package"
   ]
  },
  {
   "cell_type": "markdown",
   "id": "b23eeb1c-5055-491c-9a0c-ac3a811eff48",
   "metadata": {},
   "source": [
    "```bash\n",
    "R CMD INSTALL <path_to_package>\n",
    "```"
   ]
  },
  {
   "cell_type": "markdown",
   "id": "ae638dca-e23d-4253-9667-dc5e810c4574",
   "metadata": {},
   "source": [
    "#### Exercise"
   ]
  },
  {
   "cell_type": "markdown",
   "id": "b4cef16c-981a-4808-9dd0-d663f16e451e",
   "metadata": {},
   "source": [
    "Determine the **path_to_package** for your **choH** package and install it use **R**."
   ]
  },
  {
   "cell_type": "markdown",
   "id": "f5c7838d-ed6b-44d2-8f96-95b13f43f25d",
   "metadata": {},
   "source": [
    "#### Install a package from github using R"
   ]
  },
  {
   "cell_type": "markdown",
   "id": "9578d9c0-6205-4bed-875a-d1dc9b5b8ca9",
   "metadata": {},
   "source": [
    "There are various libraries available for extending base R functionality so that you can install libraries directly from various sources, including github."
   ]
  },
  {
   "cell_type": "markdown",
   "id": "2aab77f4-b9fc-4564-8721-cd80d8fb439a",
   "metadata": {},
   "source": [
    "Imagine you have set up the following repository using your **choH** package."
   ]
  },
  {
   "cell_type": "markdown",
   "id": "2c69d10c-d52e-41e5-bbef-a6425bd1f19b",
   "metadata": {},
   "source": [
    "<figure>\n",
    "<img src=\"./choH-R-github.png\" style=\"width:60%\">\n",
    "<figcaption align = \"center\"> A simple R package on github</figcaption>\n",
    "</figure>"
   ]
  },
  {
   "cell_type": "markdown",
   "id": "326d6996-422f-42d0-8ca1-fb8395b94e7b",
   "metadata": {},
   "source": [
    " First, you might need to install **devtools**"
   ]
  },
  {
   "cell_type": "markdown",
   "id": "2ee7a7c1-6d91-48ca-9e4f-1435f380ff73",
   "metadata": {},
   "source": [
    "```R\n",
    "install.packages( \"devtools\" )\n",
    "```"
   ]
  },
  {
   "cell_type": "markdown",
   "id": "085ff93c-9611-4149-b761-665386303ef5",
   "metadata": {},
   "source": [
    "#### Exercise"
   ]
  },
  {
   "cell_type": "markdown",
   "id": "548b2572-b3f1-41a9-b66d-e3f1826cd97b",
   "metadata": {},
   "source": [
    "Check that **devtools** is installed in your current R environment. If not, install it."
   ]
  },
  {
   "cell_type": "markdown",
   "id": "b14bdae4-e995-40e1-b416-6e8723dacfc5",
   "metadata": {},
   "source": [
    "The package can now be installed from github using the **R** REPL."
   ]
  },
  {
   "cell_type": "markdown",
   "id": "41cb8e61-8e08-4c00-a979-91965c98534c",
   "metadata": {},
   "source": [
    "```R\n",
    "library(devtools)\n",
    "install_github( \"grosed/choH\" )\n",
    "```"
   ]
  },
  {
   "cell_type": "markdown",
   "id": "c646159d-d998-4078-b384-93c1854025f2",
   "metadata": {},
   "source": [
    "### Using the package"
   ]
  },
  {
   "cell_type": "markdown",
   "id": "76883a01-1cf5-4c22-b288-c7ecea0a3a40",
   "metadata": {},
   "source": [
    "Once the library is installed it can be imported and used in other R scripts using the **library** function. All of the methods you **exported** using the **NAMESPACE** file will become available for use."
   ]
  },
  {
   "cell_type": "markdown",
   "id": "6468611a-a398-4e37-94e9-ad2fbe0bca33",
   "metadata": {},
   "source": [
    "```R\n",
    "library(choH)\n",
    "library(purrr)\n",
    "\n",
    "X <- c(rnorm(1000,0,1),rnorm(1000,0.3,1)) \n",
    "X %>% choH %>% as.numeric %>% plot\n",
    "```"
   ]
  },
  {
   "cell_type": "markdown",
   "id": "d0e19b64-c735-4bcd-b6a7-f777e661f980",
   "metadata": {},
   "source": [
    "#### Exercise"
   ]
  },
  {
   "cell_type": "markdown",
   "id": "1de97646-a94b-4f2a-af84-5fdd4e2eabbf",
   "metadata": {},
   "source": [
    "- Install your **choH** package from github and test the above example.\n",
    "- The **choH** package imports **purrr**. Why do you think it is necessary to import in the local R script ?"
   ]
  }
 ],
 "metadata": {
  "kernelspec": {
   "display_name": "Python 3 (ipykernel)",
   "language": "python",
   "name": "python3"
  },
  "language_info": {
   "codemirror_mode": {
    "name": "ipython",
    "version": 3
   },
   "file_extension": ".py",
   "mimetype": "text/x-python",
   "name": "python",
   "nbconvert_exporter": "python",
   "pygments_lexer": "ipython3",
   "version": "3.12.3"
  }
 },
 "nbformat": 4,
 "nbformat_minor": 5
}
