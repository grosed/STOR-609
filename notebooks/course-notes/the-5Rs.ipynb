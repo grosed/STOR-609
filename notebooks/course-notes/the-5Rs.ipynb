{
 "cells": [
  {
   "cell_type": "markdown",
   "id": "95a6c676-2e1c-4e49-bc17-9d0f16ae4f3d",
   "metadata": {},
   "source": [
    "# <u>Lecture 2 - The 5Rs</u>"
   ]
  },
  {
   "cell_type": "markdown",
   "id": "b470d6e5-03a0-40db-bfca-2c1b0e9c507d",
   "metadata": {},
   "source": [
    "This section of the course looks at **Premise 4** and **Premise 5** in more detail and examines how the **5Rs** can be used in practice and to provide a guide to help choose best practice. "
   ]
  },
  {
   "cell_type": "markdown",
   "id": "26488439-c03e-4a9b-9b89-a044ff2b1c71",
   "metadata": {},
   "source": [
    "## Overview"
   ]
  },
  {
   "cell_type": "markdown",
   "id": "5367802c-ee4b-4fd5-ab40-faad27a05d9d",
   "metadata": {},
   "source": [
    "*\"Scientists spend an increasing amount of time building and\n",
    "using software. However, most scientists are never taught how to\n",
    "do this efficiently. As a result, many are unaware of tools and\n",
    "practices that would allow them to write more reliable and\n",
    "maintainable code with less effort.\"*  \n",
    "\n",
    "**Wilson et al. 2014. \"Best Practices for Scientific Computing**\". \n",
    "\n"
   ]
  },
  {
   "cell_type": "markdown",
   "id": "f8202912-7482-4ab2-bb79-2310af85da61",
   "metadata": {},
   "source": [
    "Most practitioners would broadly agree with the preceding claim. Consequently, there is a large body of high quality and readily available work providing guidance to programmers with a scientific background. Most of these focus almost entirely on the details of *how* to do this e.g. commenting and documenting code, choosing sensible variable names, organising code across multiple files - even rules for how to lay your code out; the list goes on. However, they tend not to discuss *why* this should be done. \n",
    "\n",
    "In contrast, this course first sets out to examine what it is that determines the quality of scientific software and then uses this as a basis for exploring how to achieve this quality. The rationale for this approach is simple - the desired qualities for the software do not change over time but, as we are all aware, the technology we use to create and maintain software does change and often very rapidly. Better then to fully understand the basic requirements so that we can translate this into ways of working the current technology and also be able to adapt our working practices as new technology emerges.    "
   ]
  },
  {
   "cell_type": "markdown",
   "id": "5689f7e5-74e6-420a-84ea-85abfe9e485f",
   "metadata": {},
   "source": [
    "What follows is based on the assumption that the following premises"
   ]
  },
  {
   "cell_type": "markdown",
   "id": "7367fb00-6e57-442b-86c1-62aad0a48bcb",
   "metadata": {},
   "source": [
    "### <u>Premise 4</u>\n",
    "\n",
    "**When it is part of a scientific endeavour the quality of computing should be quantified with respect to the same metrics as the overall endeavour. These metrics naturally include _Replicability_, _Reproducibility_, and _Repeatability_**"
   ]
  },
  {
   "cell_type": "markdown",
   "id": "51b44918-87c6-4fdf-b250-07fab62fdca9",
   "metadata": {},
   "source": [
    "### <u>Premise 5</u>\n",
    "\n",
    "**In addition to _Replicability_, _Reproducibility_, and _Repeatability_, the quality of computing should be quantified with respect to the intrisic software related metrics of _Re-usability_ and  _Re-runability_**"
   ]
  },
  {
   "cell_type": "markdown",
   "id": "56167e45-2d48-418d-bf86-13ede0b23b1e",
   "metadata": {},
   "source": [
    "form, at least for the purposes scientific software development, a good basis to examine, quantify, and develop best practice. This viewpoint has been developed over time by a number of researchers, some of them are scientists working a variety of disciplines, some are computer scientists, some of them are software engineers, and many of them are a bit off all of these. \n",
    "\n",
    "A common theme that emerges from this research are the concepts of\n",
    "\n",
    "- **Replicability**\n",
    "- **Reproducibility**\n",
    "- **Repeatability**\n",
    "- **Re-usability**\n",
    "- **Re-runability**\n",
    "\n",
    "These will be refered to as **<u>The 5Rs</U>**.\n",
    "\n",
    "Of course, to make any progress in employing these concepts in practice, it makes sense to have a good working definition for each one. It turns out that this is a little more difficult than might be first thought. However, a good starting point is to consider these concepts in terms the more traditional scientific setting of a laboratory. The following basic description of what it means to do each of the 5Rs is taken from **Goble 2016**"
   ]
  },
  {
   "cell_type": "markdown",
   "id": "bd7891c0-45c3-4d4d-96ad-6e2733936a88",
   "metadata": {},
   "source": [
    "### <u>Re-run</u>\n",
    "\n",
    "**Variations on experiment and setup**\n",
    "\n",
    "\"*Let's re-run the experiment, but this time we will test people in France instead Germany, and sample twice as many individuals.*\""
   ]
  },
  {
   "cell_type": "markdown",
   "id": "d997eb06-95be-4f1d-9b58-6a155d4f0238",
   "metadata": {},
   "source": [
    "### <u>Repeat</u>\n",
    "\n",
    "**Same experiment, same setup**\n",
    "\n",
    "\"*Let's repeat our experiment to check we followed the procedure correctly*\""
   ]
  },
  {
   "cell_type": "markdown",
   "id": "3a1c1f98-ad12-4c45-8a13-9d0cdd434fb1",
   "metadata": {},
   "source": [
    "### <u>Replicate</u>\n",
    "\n",
    "**Same experiment, same setup, independent lab**\n",
    "\n",
    "\"*Let's repeat the experiment of [Fleischmann and Pons](https://en.wikipedia.org/wiki/Cold_fusion), but using our own equipment and researchers.*\""
   ]
  },
  {
   "cell_type": "markdown",
   "id": "e3bf1892-d56c-431f-af09-ef5a3ac3ef96",
   "metadata": {},
   "source": [
    "### <u>Reproduce</u>\n",
    "\n",
    "**Variations of experiment, independent lab**\n",
    "\n",
    "\"*Let's adapt the experiment of Fleischmann and Pons to see if we can get it to work using our own equipment and researchers.*\""
   ]
  },
  {
   "cell_type": "markdown",
   "id": "7fcb975c-343c-4364-b6cb-83847bcbf227",
   "metadata": {},
   "source": [
    "### <u>Reuse</u>\n",
    "\n",
    "**Variations of experiment, independent lab**\n",
    "\n",
    "\"*Let's use [John F. Shepard’s maze techniques](\n",
    "https://gwern.net/maze) but using cats instead of rats and using our own maze design*\"\n"
   ]
  },
  {
   "cell_type": "markdown",
   "id": "de1a983e-829e-4047-9d31-d96ad3f1617a",
   "metadata": {},
   "source": [
    "### Exercise\n",
    "\n",
    "We would like to use the **Rs** within the domain of scientific software. Try translating each of the above descriptions into a scientific computing setting. \n",
    "\n",
    "If you have time, have a quick look at the links provided in the descriptions of **Replicate** and **Reproduce**."
   ]
  },
  {
   "cell_type": "markdown",
   "id": "1eaf8ee6-f927-4056-bb03-129a089ac9d3",
   "metadata": {},
   "source": [
    "## The 5Rs - a road map for scientific software development "
   ]
  },
  {
   "cell_type": "markdown",
   "id": "fe52115b-763a-44c0-bfb0-d416140ee36e",
   "metadata": {},
   "source": [
    "Now have a look at [this online presentation](https://prezi.com/view/nf1JVpHcx5MldSibqCFs/)."
   ]
  },
  {
   "cell_type": "markdown",
   "id": "12225852-d40a-4eff-997d-7fb6c5363922",
   "metadata": {},
   "source": [
    "## The 5Rs - Roadmap and Signposts\n",
    "\n",
    "There are many techniques, tools and practices that can be adopted to guide and assist in realising good quality scientific software when assessed with respect to the **5Rs**. The table below might serve as a reasonable starting point for providing a road map for achieving this.  "
   ]
  },
  {
   "cell_type": "code",
   "execution_count": null,
   "id": "31a282e5-9cb8-4686-b1a4-c69897a05695",
   "metadata": {},
   "outputs": [],
   "source": [
    "<font color='green'>"
   ]
  },
  {
   "cell_type": "markdown",
   "id": "dfea28a2-ffc1-4315-8a66-e01375d11011",
   "metadata": {},
   "source": [
    "\n",
    "\n",
    "|Quaity|Description|Methods|Documentation|\n",
    "|-|-|-|-|\n",
    "| **Reusable** | code can be easily adapted to variations in problem specification <br> and readily integrated into other code  | design patterns, packages / libraries | in code documentation / api documentation|\n",
    "| **Re-runnable** | someone else can run the code | packages / libraries / repositories <br> unit tests / forums / user groups <br> training / instruction| installation instructions and scripts, <br> technical manuals and documentation |\n",
    "| **Repeatable** | same results over time | unit tests / maintainance / version control | use cases |\n",
    "| **Reproducible** | same results for a given problem | unit tests  | case stdies / articles / reports |\n",
    "| **Replicable** | algorithm / solution can be recoded by someone else  | pseudo code  | articles / books / reports |\n"
   ]
  },
  {
   "cell_type": "markdown",
   "id": "f31341ea-0c4e-4d28-aa0f-65bd995cc9cc",
   "metadata": {},
   "source": [
    "## Best Practice "
   ]
  },
  {
   "cell_type": "markdown",
   "id": "13931514-a293-423b-ac40-26f5263019e8",
   "metadata": {},
   "source": [
    "The following is reproduced from [Best Practices for Scientific Computing](./journal.pbio.1001745.pdf)."
   ]
  },
  {
   "cell_type": "markdown",
   "id": "1af53714-60d0-461e-a348-7de08eaf5a4b",
   "metadata": {},
   "source": [
    "<figure>\n",
    "<img src=\"./best-practices.png\" style=\"height:60%\">\n",
    "</figure>"
   ]
  },
  {
   "cell_type": "markdown",
   "id": "eec4089b-6d0d-494c-920d-8b0ccaecfeaf",
   "metadata": {},
   "source": [
    "Remember that you should regularly reflect on your code and programming and try and quantify (so far as is practically possible) its quality when measured against the **5Rs** as outlined in [the presentation](https://prezi.com/view/nf1JVpHcx5MldSibqCFs/).\n"
   ]
  },
  {
   "cell_type": "markdown",
   "id": "d403d356-ddcd-46f4-af4a-4bdc30439a00",
   "metadata": {},
   "source": [
    "<figure>\n",
    "<img src=\"./measure-5Rs.png\" style=\"width:60%\">\n",
    "<figcaption align = \"center\"> Measuring the 5RS</figcaption>\n",
    "</figure>"
   ]
  },
  {
   "cell_type": "markdown",
   "id": "d8576ba4-3899-47ee-a1fa-917b6afdba4d",
   "metadata": {},
   "source": [
    "The scientific software development life cycle (SSDLC) is generally (very) iterative. Keep reflecting !!"
   ]
  },
  {
   "cell_type": "markdown",
   "id": "8cc62f9c-33e3-44f6-8ba3-97969796bc61",
   "metadata": {},
   "source": [
    "\n",
    "<figure>\n",
    "<img src=\"./scientific-sdlc.png\" style=\"width:60%\">\n",
    "<figcaption align = \"center\"> The Scientific Software Development Life Cycle (SSDLC)</figcaption>\n",
    "</figure>\n"
   ]
  },
  {
   "cell_type": "markdown",
   "id": "325e61d3-3fd9-44ea-bbbd-f910f828a061",
   "metadata": {},
   "source": [
    "## Further Reading"
   ]
  },
  {
   "cell_type": "markdown",
   "id": "3f26c1a5-863f-40e5-bf7b-e4f324a6dcd7",
   "metadata": {},
   "source": [
    "\n",
    "The following works are referenced in the presentation and make for some interesting and thought provoking reading.\n",
    "\n",
    "[The 5Rs](./fninf-11-00069.pdf)\n",
    "\n",
    "[Best Practices for Scientific Computing](./journal.pbio.1001745.pdf)\n",
    "\n",
    "[Developing Scientific Sortware](./mso2008040018.pdf)\n",
    "\n",
    "[Reproducible Research for Scientific Computing](./reproducible-research-for-scientific-computing-tools-and-strategies-for-changing-the-culture1.pdf)\n",
    "\n",
    "[Pandemic Simulation Verification](./d41586-020-01685-y.pdf)"
   ]
  }
 ],
 "metadata": {
  "kernelspec": {
   "display_name": "Python 3 (ipykernel)",
   "language": "python",
   "name": "python3"
  },
  "language_info": {
   "codemirror_mode": {
    "name": "ipython",
    "version": 3
   },
   "file_extension": ".py",
   "mimetype": "text/x-python",
   "name": "python",
   "nbconvert_exporter": "python",
   "pygments_lexer": "ipython3",
   "version": "3.12.3"
  }
 },
 "nbformat": 4,
 "nbformat_minor": 5
}
