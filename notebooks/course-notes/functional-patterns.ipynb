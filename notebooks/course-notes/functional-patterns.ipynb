{
 "cells": [
  {
   "cell_type": "markdown",
   "id": "474700fa-6b4f-45d9-bb6a-af7098041e85",
   "metadata": {
    "editable": true,
    "slideshow": {
     "slide_type": ""
    },
    "tags": []
   },
   "source": [
    "# <u>Lecture 3a - Functional Patterns (Python Version)</u>"
   ]
  },
  {
   "cell_type": "markdown",
   "id": "0db9f2e5-16ce-451e-9749-7eb2e38d5c1b",
   "metadata": {
    "editable": true,
    "slideshow": {
     "slide_type": ""
    },
    "tags": []
   },
   "source": [
    "Functional programming means thinking in terms of mathematical functions. Strict functional programming languages, such as **Haskell**, **Idris**, **F#**, **OCaml**, and **scala** provide abstractions for functions which a very similar to their mathematical counterparts. However, most programming languages do not do this so well. Does this mean that the idea of modelling our abstractions in terms of mathematical functions is inappropriate when using these languages ?\n",
    "\n",
    "A basic assumption of this course is that, at least for many modern programming languages, this is not the case. The key to making this approach work is to understand the differences between a mathematical function and a function within the language being used, and then find effective ways of working around these differences.  \n",
    "\n",
    "What then are the minimal requirements of a programming language for it to be able to support the use of functional patterns ? The primary requirement is the availablity of **Higher Order Programming**.\n"
   ]
  },
  {
   "cell_type": "markdown",
   "id": "22ad4c41-b4eb-4aa8-9d60-fe749b7c62c8",
   "metadata": {},
   "source": [
    "## Higher Order Programming"
   ]
  },
  {
   "cell_type": "markdown",
   "id": "81dbe420-e637-4054-94ad-e62411ba465b",
   "metadata": {},
   "source": [
    "Higher Order Programming perhaps sounds more impressive than it actually is. Put simply it means that functions and other \"higher order\" types can be passed to and returned from functions in the same way as more traditional data e.g. floating point numbers and strings. "
   ]
  },
  {
   "cell_type": "markdown",
   "id": "747d5394-65b2-4b0c-9f44-b80825ed6fa3",
   "metadata": {},
   "source": [
    "### Example"
   ]
  },
  {
   "cell_type": "code",
   "execution_count": 1,
   "id": "867026c1-cd79-4ab1-963e-5777d37fc08f",
   "metadata": {},
   "outputs": [
    {
     "data": {
      "text/plain": [
       "0.49999999999999994"
      ]
     },
     "execution_count": 1,
     "metadata": {},
     "output_type": "execute_result"
    }
   ],
   "source": [
    "from math import sin,pi\n",
    "\n",
    "def g(f,x) :\n",
    "    return f(x)\n",
    "\n",
    "g(sin,pi/6)"
   ]
  },
  {
   "cell_type": "markdown",
   "id": "61d83dc4-2722-47ad-9402-979cfcb9687d",
   "metadata": {},
   "source": [
    "### Example"
   ]
  },
  {
   "cell_type": "code",
   "execution_count": 2,
   "id": "b702f334-9602-4daa-a9a6-1883aa0d0507",
   "metadata": {
    "editable": true,
    "slideshow": {
     "slide_type": ""
    },
    "tags": []
   },
   "outputs": [],
   "source": [
    "def f(a) :\n",
    "    def g(x) :\n",
    "        return x + 2\n",
    "    return g if a == 1 else sin"
   ]
  },
  {
   "cell_type": "code",
   "execution_count": 3,
   "id": "67022a9e-f361-4876-bd60-4a1b23d5e4e9",
   "metadata": {},
   "outputs": [
    {
     "data": {
      "text/plain": [
       "-0.9589242746631385"
      ]
     },
     "execution_count": 3,
     "metadata": {},
     "output_type": "execute_result"
    }
   ],
   "source": [
    "f(2)(5)"
   ]
  },
  {
   "cell_type": "code",
   "execution_count": 4,
   "id": "427be575-8195-48bc-9e4c-210c5bbd91bd",
   "metadata": {},
   "outputs": [
    {
     "data": {
      "text/plain": [
       "7"
      ]
     },
     "execution_count": 4,
     "metadata": {},
     "output_type": "execute_result"
    }
   ],
   "source": [
    "f(1)(5)"
   ]
  },
  {
   "cell_type": "markdown",
   "id": "85a558ad-e07d-44e3-83d9-2d261bdb31fe",
   "metadata": {},
   "source": [
    "Notice that in the second example a new function **g** is defined inside an enclosing function **f**. \n",
    "\n",
    "When higher order programming is available most of the main functional design patterns can be implemented in some form. "
   ]
  },
  {
   "cell_type": "markdown",
   "id": "ea7afcfe-1196-42e5-a775-086412be604d",
   "metadata": {},
   "source": [
    "## Pattern 1 - Composition"
   ]
  },
  {
   "cell_type": "markdown",
   "id": "c7198d70-9420-419b-9c86-1cff720c5623",
   "metadata": {},
   "source": [
    "### Exercise \n",
    "\n",
    "Write a function **compose** which accepts two functions **f** and **g** and returns a function **h** where $$h(x) = f(g(x))$$ \n"
   ]
  },
  {
   "cell_type": "markdown",
   "id": "84b2fec4-5ed3-4d09-b1f6-5c017f0c3497",
   "metadata": {},
   "source": [
    "### Solution "
   ]
  },
  {
   "cell_type": "code",
   "execution_count": 5,
   "id": "8144ac04-0286-48bd-83d5-2f1ac5a64e2e",
   "metadata": {
    "editable": true,
    "slideshow": {
     "slide_type": ""
    },
    "tags": [
     "hide-output",
     "hide-input"
    ]
   },
   "outputs": [
    {
     "name": "stdout",
     "output_type": "stream",
     "text": [
      "10\n",
      "8\n"
     ]
    }
   ],
   "source": [
    "def compose(f,g) :\n",
    "    def h(x) :\n",
    "        return f(g(x))\n",
    "    return h\n",
    "\n",
    "def f(x) :\n",
    "    return 2*x\n",
    "\n",
    "def g(x) : \n",
    "    return x + 2\n",
    "\n",
    "h = compose(f,g)\n",
    "print(h(3))\n",
    "\n",
    "h = compose(g,f)\n",
    "print(h(3))"
   ]
  },
  {
   "cell_type": "markdown",
   "id": "2a1d327a-6f04-48f7-a0bd-e599b6c8937e",
   "metadata": {},
   "source": [
    "### Exercise\n",
    "\n",
    "What limitations, if any, are there with your implementation of the **compose** function ?"
   ]
  },
  {
   "cell_type": "markdown",
   "id": "9f373db0-1ae2-4fe9-9244-f59aa0b35670",
   "metadata": {
    "editable": true,
    "slideshow": {
     "slide_type": ""
    },
    "tags": []
   },
   "source": [
    "### A more versatile **compose**"
   ]
  },
  {
   "cell_type": "code",
   "execution_count": 6,
   "id": "8ce17937-8659-4842-9613-22d1ca58655f",
   "metadata": {},
   "outputs": [],
   "source": [
    "from functools import reduce\n"
   ]
  },
  {
   "cell_type": "code",
   "execution_count": 7,
   "id": "a6247932-8e8e-4878-9a83-bcaa8341da03",
   "metadata": {},
   "outputs": [],
   "source": [
    "def compose(*funcs):\n",
    "    return reduce(lambda f,g : lambda x : f(g(x)), funcs, lambda x : x)"
   ]
  },
  {
   "cell_type": "code",
   "execution_count": 8,
   "id": "dd5020fc-b258-4f6c-adf4-de709972b7d5",
   "metadata": {},
   "outputs": [
    {
     "data": {
      "text/plain": [
       "5.978716493246764"
      ]
     },
     "execution_count": 8,
     "metadata": {},
     "output_type": "execute_result"
    }
   ],
   "source": [
    "h = compose(f,g,sin,g,f)\n",
    "h(3)"
   ]
  },
  {
   "cell_type": "markdown",
   "id": "2b7ef912-ff8c-45aa-8c42-6006b602e9af",
   "metadata": {
    "editable": true,
    "slideshow": {
     "slide_type": ""
    },
    "tags": []
   },
   "source": [
    "## Pattern 2 - Currying"
   ]
  },
  {
   "cell_type": "markdown",
   "id": "5eab2554-d9ef-4f8c-9f6b-c20564d6a1a0",
   "metadata": {
    "editable": true,
    "slideshow": {
     "slide_type": ""
    },
    "tags": []
   },
   "source": [
    "<figure>\n",
    "<img src=\"./HaskellBCurry.jpg\" style=\"height:20% display:inline-block\">\n",
    "<img src=\"./curry.jpeg\" style=\"height:20% display:inline-block\">\n",
    "<figcaption align = \"center\"> Curry - a popular dish (top). Haskell B Curry - a computer scientist (bottom). </figcaption>\n",
    "</figure>"
   ]
  },
  {
   "cell_type": "markdown",
   "id": "eda46b89-028b-41d1-8d19-6cadd5d38250",
   "metadata": {
    "editable": true,
    "slideshow": {
     "slide_type": ""
    },
    "tags": []
   },
   "source": [
    "In mathematics a function $f$ can be completely specified in terms of its graph $\\Gamma_{f}$. The graph is a (possibly infinite) set of ordered pairs, for example\n",
    "\n",
    "$\\Gamma_{f} = \\left\\{  (1,1),(2,4),(3,9) \\right\\}$\n",
    "\n",
    "Conceptually the graph shows how to map the first element of a given pair to the second. This is emphasised through the notation $f(1) = 1$ and $f(3) = 9$ and so on. \n"
   ]
  },
  {
   "cell_type": "markdown",
   "id": "697ebe2f-453a-4416-839a-743dfdeda850",
   "metadata": {
    "editable": true,
    "slideshow": {
     "slide_type": ""
    },
    "tags": []
   },
   "source": [
    "### Exercise\n",
    "\n",
    "Give a small example of a graph of function of the form $f(x,y)$.\n",
    "\n",
    "Write a function in python that implements it.\n",
    "\n",
    "How many \"arguments\" does the mathematical function \"take\" ? \n",
    "\n",
    "How many \"arguments\" does your python function \"take\" ?\n"
   ]
  },
  {
   "cell_type": "markdown",
   "id": "cd533aef-124a-446e-9022-4f41893097b6",
   "metadata": {
    "editable": true,
    "slideshow": {
     "slide_type": ""
    },
    "tags": []
   },
   "source": [
    "So, mathematical functions map single entities to single entities. To make python functions behave in this way they can be **curried**. Here is an example."
   ]
  },
  {
   "cell_type": "code",
   "execution_count": 9,
   "id": "9534f644-4b23-4db3-be09-ee8f2bb943f0",
   "metadata": {},
   "outputs": [],
   "source": [
    "from pymonad.tools import curry    "
   ]
  },
  {
   "cell_type": "code",
   "execution_count": 10,
   "id": "da3256ab-f1c3-40f0-94a6-e5fa47849e18",
   "metadata": {},
   "outputs": [],
   "source": [
    "@curry(2)\n",
    "def f(x,y) :\n",
    "    return x + y"
   ]
  },
  {
   "cell_type": "code",
   "execution_count": 11,
   "id": "559e990d-b47f-42cd-8b9d-ea98a7828c46",
   "metadata": {
    "editable": true,
    "slideshow": {
     "slide_type": ""
    },
    "tags": []
   },
   "outputs": [
    {
     "name": "stdout",
     "output_type": "stream",
     "text": [
      "5\n"
     ]
    }
   ],
   "source": [
    "z = f(2,3)  # function taking two arguments ???? No.\n",
    "print(z)"
   ]
  },
  {
   "cell_type": "code",
   "execution_count": 12,
   "id": "321b7905-a67a-4269-a2c3-e3f607d8fc45",
   "metadata": {
    "editable": true,
    "slideshow": {
     "slide_type": ""
    },
    "tags": []
   },
   "outputs": [
    {
     "name": "stdout",
     "output_type": "stream",
     "text": [
      "5\n"
     ]
    }
   ],
   "source": [
    "g = f(2) # f is a function of one argument that returns a function \n",
    "z = g(3) # g is a function (with one argument)\n",
    "print(z)"
   ]
  },
  {
   "cell_type": "code",
   "execution_count": 13,
   "id": "4fc61e47-ddce-4e02-a977-5ec0c8b21313",
   "metadata": {},
   "outputs": [
    {
     "name": "stdout",
     "output_type": "stream",
     "text": [
      "5\n"
     ]
    }
   ],
   "source": [
    "z = f(2)(3)\n",
    "print(z)"
   ]
  },
  {
   "cell_type": "markdown",
   "id": "1a727a04-6798-43d4-9bea-4ff93385f96a",
   "metadata": {
    "editable": true,
    "slideshow": {
     "slide_type": ""
    },
    "tags": []
   },
   "source": [
    "The \"**curry**\" pattern is slightly odd in that most functional programming languages do not need it since functions are curried by design."
   ]
  },
  {
   "cell_type": "markdown",
   "id": "33f58f57-79c0-477a-8228-e7bebc9cce1d",
   "metadata": {
    "editable": true,
    "slideshow": {
     "slide_type": ""
    },
    "tags": []
   },
   "source": [
    "### Exercise \n",
    "\n",
    "How can currying be put to practical use ?"
   ]
  },
  {
   "cell_type": "markdown",
   "id": "6796231a-6bea-434b-af14-0b5b0a2df1a2",
   "metadata": {
    "editable": true,
    "slideshow": {
     "slide_type": ""
    },
    "tags": []
   },
   "source": [
    "### Solution"
   ]
  },
  {
   "cell_type": "markdown",
   "id": "354298bd-3a0f-489b-ac56-7e2f709dac67",
   "metadata": {
    "editable": true,
    "slideshow": {
     "slide_type": ""
    },
    "tags": [
     "hide-output",
     "hide-input"
    ]
   },
   "source": [
    "Currying allows a programmer to provide a way of adding extra parameters to a function whilst still allowing it to be **Reused** in other code. A strategy in the pig game provides an excellent example of a use case for the **curry** pattern. "
   ]
  },
  {
   "cell_type": "markdown",
   "id": "ba55a277-7d57-4488-8392-1d5057e1f497",
   "metadata": {
    "editable": true,
    "slideshow": {
     "slide_type": ""
    },
    "tags": []
   },
   "source": [
    "### Exercise\n",
    "\n",
    "Try and use **curried** strategies in your pig competition code."
   ]
  },
  {
   "cell_type": "markdown",
   "id": "5e28bc4d-18dd-48ef-b539-7b7863492a21",
   "metadata": {},
   "source": [
    "## Pattern 3 - Partial Application"
   ]
  },
  {
   "cell_type": "markdown",
   "id": "a108baaf-606d-4549-bab7-5b3044408503",
   "metadata": {},
   "source": [
    "Closely related to **Currying**, partial application accepts a function, freezes one or more of its arguments , and returns a new function with a reduced number of arguments. The frozen arguments are often referred to as the \"bound\" arguments or \"bound\" values."
   ]
  },
  {
   "cell_type": "code",
   "execution_count": 14,
   "id": "19039728-d6d8-441a-b631-f9eec89dbede",
   "metadata": {},
   "outputs": [],
   "source": [
    "def f(a,b,c) :\n",
    "    return (2**a)*(3**b)*(5**c)"
   ]
  },
  {
   "cell_type": "code",
   "execution_count": 15,
   "id": "7f81075b-eafe-41b2-ab26-bcea952b5865",
   "metadata": {},
   "outputs": [
    {
     "data": {
      "text/plain": [
       "2700"
      ]
     },
     "execution_count": 15,
     "metadata": {},
     "output_type": "execute_result"
    }
   ],
   "source": [
    "f(2,3,2)"
   ]
  },
  {
   "cell_type": "code",
   "execution_count": 16,
   "id": "fd89576b-299d-448c-b430-3c4a29a9e51b",
   "metadata": {},
   "outputs": [
    {
     "data": {
      "text/plain": [
       "2700"
      ]
     },
     "execution_count": 16,
     "metadata": {},
     "output_type": "execute_result"
    }
   ],
   "source": [
    "from functools import partial\n",
    "\n",
    "g = partial(f,b=3)\n",
    "g(a=2,c=2)"
   ]
  },
  {
   "cell_type": "markdown",
   "id": "83ce1053-508b-4f88-81a2-81ce51a36d3e",
   "metadata": {
    "editable": true,
    "slideshow": {
     "slide_type": ""
    },
    "tags": []
   },
   "source": [
    "### Exercise\n",
    "\n",
    "How does partial application differ from Currying ?\n",
    "\n",
    "What effect does the position of the \"bound\" arguments have on the way the partially applied function is used ?"
   ]
  },
  {
   "cell_type": "markdown",
   "id": "cbebdc56-8965-42e8-a62a-67907aa947ea",
   "metadata": {},
   "source": [
    "## Pattern 4 - Classes and Objects"
   ]
  },
  {
   "cell_type": "markdown",
   "id": "da2b411c-7ebe-48ea-95ce-eae750c97c0e",
   "metadata": {},
   "source": [
    "### Motivating Problem"
   ]
  },
  {
   "cell_type": "markdown",
   "id": "e481b80e-c188-41e7-9877-d9de0a3f66f6",
   "metadata": {},
   "source": [
    "Here is a simple function"
   ]
  },
  {
   "cell_type": "code",
   "execution_count": 17,
   "id": "59525e85-44e6-4ef0-b2b0-4c84eb261d57",
   "metadata": {
    "editable": true,
    "slideshow": {
     "slide_type": ""
    },
    "tags": []
   },
   "outputs": [],
   "source": [
    "def f(x) :\n",
    "    return 2*x"
   ]
  },
  {
   "cell_type": "markdown",
   "id": "49c06598-9630-4145-a739-57fe36afcdfd",
   "metadata": {},
   "source": [
    "Now imagine you want to keep track of how many times this function gets used in a big program."
   ]
  },
  {
   "cell_type": "markdown",
   "id": "dfb34094-4f77-440f-8396-ba670d0f75c7",
   "metadata": {},
   "source": [
    "### Solution"
   ]
  },
  {
   "cell_type": "code",
   "execution_count": 18,
   "id": "c6e4eeed-8d49-492c-bbdb-b7545df042a6",
   "metadata": {
    "editable": true,
    "slideshow": {
     "slide_type": ""
    },
    "tags": []
   },
   "outputs": [
    {
     "name": "stdout",
     "output_type": "stream",
     "text": [
      "f was called 12 times\n"
     ]
    }
   ],
   "source": [
    "count = 0\n",
    "\n",
    "for i in range(10) :\n",
    "    f(i)\n",
    "    count = count + 1\n",
    "# ... lots more code\n",
    "# ...\n",
    "\n",
    "# somewhere else in your program\n",
    "y = f(8)\n",
    "count = count + 1\n",
    "\n",
    "# ... lots more code\n",
    "# ...\n",
    "\n",
    "# somewhere else in your program\n",
    "z = f(3)/2\n",
    "count += 1\n",
    "\n",
    "# ... lots more code\n",
    "# ...\n",
    "\n",
    "### and finally\n",
    "print(\"f was called \" + str(count) + \" times\")"
   ]
  },
  {
   "cell_type": "markdown",
   "id": "c2500420-6e75-4da2-afcc-822f1bdf7517",
   "metadata": {},
   "source": [
    "### Exercise \n",
    "\n",
    "What are the potential problems with this solution ?\n",
    "\n",
    "Broadly speaking, how would you score this solution with respect to the **5Rs** ? "
   ]
  },
  {
   "cell_type": "markdown",
   "id": "da828888-1466-428f-a388-24b96fa5a19b",
   "metadata": {},
   "source": [
    "### Exercise \n",
    "\n",
    "Design an alternative approach counting the number of times **f** gets used. \n",
    "\n",
    "Does your approach have any advantages over the original solution ? \n",
    "\n",
    "How would you rate your solution with respect to the **5Rs**"
   ]
  },
  {
   "cell_type": "markdown",
   "id": "5229bdac-f0cd-400c-b3aa-c4d58f86eda6",
   "metadata": {
    "editable": true,
    "slideshow": {
     "slide_type": ""
    },
    "tags": []
   },
   "source": [
    "### Exercise"
   ]
  },
  {
   "cell_type": "markdown",
   "id": "24311a8a-302e-4d3d-bf63-43263395d06e",
   "metadata": {},
   "source": [
    "Consider the following function"
   ]
  },
  {
   "cell_type": "code",
   "execution_count": 19,
   "id": "712ff241-91dc-4410-a6df-94d5314fc463",
   "metadata": {
    "editable": true,
    "slideshow": {
     "slide_type": ""
    },
    "tags": []
   },
   "outputs": [],
   "source": [
    "def agent() :\n",
    "    state = 0.71\n",
    "    def update(x) :\n",
    "        nonlocal state\n",
    "        state = sin(state)\n",
    "        return x*state\n",
    "    return update\n",
    "    "
   ]
  },
  {
   "cell_type": "markdown",
   "id": "99c60472-d79c-4c15-a914-897bca9e4873",
   "metadata": {
    "editable": true,
    "slideshow": {
     "slide_type": ""
    },
    "tags": []
   },
   "source": [
    "and see if you can predict what the following code does."
   ]
  },
  {
   "cell_type": "code",
   "execution_count": 20,
   "id": "4c6c32af-1acf-46f3-9a34-1682494e4033",
   "metadata": {
    "editable": true,
    "slideshow": {
     "slide_type": ""
    },
    "tags": [
     "hide-output"
    ]
   },
   "outputs": [
    {
     "name": "stdout",
     "output_type": "stream",
     "text": [
      "0.6518337710215366\n",
      "0.6518337710215366\n",
      "0.6066452227835972\n",
      "0.5701145050885391\n",
      "0.6066452227835972\n"
     ]
    }
   ],
   "source": [
    "agent_1 = agent()\n",
    "agent_2 = agent()\n",
    "\n",
    "print(agent_1(1))\n",
    "print(agent_2(1))\n",
    "print(agent_1(1))\n",
    "print(agent_1(1))\n",
    "print(agent_2(1))\n",
    "\n"
   ]
  },
  {
   "cell_type": "markdown",
   "id": "f16bfb3e-ab9f-475b-81a1-392ee595d487",
   "metadata": {},
   "source": [
    "### Closures, Classes, and Objects"
   ]
  },
  {
   "cell_type": "markdown",
   "id": "c289899e-20ec-470e-898b-7b183510b515",
   "metadata": {
    "editable": true,
    "slideshow": {
     "slide_type": ""
    },
    "tags": []
   },
   "source": [
    "The function **logf** is called a **closure**. It is a function. However, it is a function with extra information. The extra information is provided by the enclosing scope of the function (**f** in this case) within which the (nested) function **g** is defined. \n",
    "\n",
    "In general, a function that returns other functions is called a **class**, and the functions returned are called **objects**. If the **objects** have access to the data inside the scope of the **class** then they are **closures**. Note a **closure** is not a nested function, it is the **object** that corresponds to the nested function that is the **closure**. \n",
    "\n",
    "A program that makes use of **classes** and **objects** employs the programming paradigm known as **object based programming**. "
   ]
  },
  {
   "cell_type": "markdown",
   "id": "dfbe374b-8172-4b49-97c3-c297523996fe",
   "metadata": {
    "editable": true,
    "slideshow": {
     "slide_type": ""
    },
    "tags": []
   },
   "source": [
    "#### Exercise\n",
    "\n",
    "Think of, and then describe, some use cases for **object based** programming. "
   ]
  },
  {
   "cell_type": "markdown",
   "id": "b48021ce-eb93-4d30-97c9-24cbb44d4898",
   "metadata": {
    "editable": true,
    "slideshow": {
     "slide_type": ""
    },
    "tags": []
   },
   "source": [
    "### Example"
   ]
  },
  {
   "cell_type": "code",
   "execution_count": 21,
   "id": "1aee13fa-87e2-4d83-bf44-c529e7fdbfff",
   "metadata": {
    "editable": true,
    "slideshow": {
     "slide_type": ""
    },
    "tags": [
     "hide-input"
    ]
   },
   "outputs": [],
   "source": [
    "def logger(f) :\n",
    "    count = 0\n",
    "    def call(x) :\n",
    "        nonlocal count \n",
    "        count += 1\n",
    "        return f(x)\n",
    "    def log() :\n",
    "        nonlocal count\n",
    "        return count\n",
    "    return call,log"
   ]
  },
  {
   "cell_type": "markdown",
   "id": "74178779-ddbc-4a70-b192-03c553c36666",
   "metadata": {
    "editable": true,
    "slideshow": {
     "slide_type": ""
    },
    "tags": []
   },
   "source": [
    "#### Exercise\n",
    "\n",
    "How do you think the **logger** class might be used ?\n",
    "\n",
    "How does using the **logger** class rate as a solution to the motivating problem ? \n",
    "\n",
    "What problem(s) does using the **logger** class present ? \n",
    "\n",
    "Can you modify the **logger** class to overcome this problem(s) ?"
   ]
  },
  {
   "cell_type": "markdown",
   "id": "3b0f1ad1-5578-41f5-973c-4cdf0db7a10e",
   "metadata": {
    "editable": true,
    "slideshow": {
     "slide_type": ""
    },
    "tags": []
   },
   "source": [
    "#### Solution"
   ]
  },
  {
   "cell_type": "code",
   "execution_count": 22,
   "id": "1d11ab1f-d01d-4cc8-9d7b-397e240212e1",
   "metadata": {
    "editable": true,
    "slideshow": {
     "slide_type": ""
    },
    "tags": [
     "hide-input",
     "hide-output"
    ]
   },
   "outputs": [
    {
     "data": {
      "text/plain": [
       "10"
      ]
     },
     "execution_count": 22,
     "metadata": {},
     "output_type": "execute_result"
    }
   ],
   "source": [
    "call,log = logger(f)\n",
    "\n",
    "for i in range(10) :\n",
    "    call(i)  ## function gets used in the same way as the original\n",
    "\n",
    "log()"
   ]
  },
  {
   "cell_type": "markdown",
   "id": "52b4d05f-c0bf-4388-8058-e5ba7d3fb46d",
   "metadata": {},
   "source": [
    "## Pattern 5 - Memoisation\n",
    "\n"
   ]
  },
  {
   "cell_type": "markdown",
   "id": "0df18826-59b3-49e0-a1b8-c95d2add337b",
   "metadata": {},
   "source": [
    "Memoisation is an example of an **object based** pattern. Here is a way it might be implemented in python."
   ]
  },
  {
   "cell_type": "code",
   "execution_count": 23,
   "id": "a36f1e73-acfd-4e03-b586-56a1ae0f877e",
   "metadata": {},
   "outputs": [],
   "source": [
    "def memoise(f) :\n",
    "    cache=dict()\n",
    "    def mf(x) :\n",
    "        nonlocal cache\n",
    "        if not x in cache :\n",
    "            cache[x] = f(x)\n",
    "        return cache[x]\n",
    "    return mf"
   ]
  },
  {
   "cell_type": "markdown",
   "id": "0f1690e4-0065-4555-9236-eed7c331adbd",
   "metadata": {},
   "source": [
    "### Exercise\n",
    "\n",
    "Can you work out what this pattern is designed to do ?\n",
    "\n",
    "Experiment with the following code to see what **memoisation** does."
   ]
  },
  {
   "cell_type": "code",
   "execution_count": 24,
   "id": "2943390e-9103-40d4-97c3-4134aa4920ee",
   "metadata": {
    "editable": true,
    "slideshow": {
     "slide_type": ""
    },
    "tags": [
     "hide-output"
    ]
   },
   "outputs": [
    {
     "name": "stdout",
     "output_type": "stream",
     "text": [
      "calling f\n",
      "6\n",
      "calling f\n",
      "6\n"
     ]
    }
   ],
   "source": [
    "def f(x) :\n",
    "    print(\"calling f\")\n",
    "    return 2*x\n",
    "y = f(3)\n",
    "print(y)\n",
    "y = f(3)\n",
    "print(y)\n"
   ]
  },
  {
   "cell_type": "code",
   "execution_count": 25,
   "id": "d610f9df-3af1-473e-babb-42e490930735",
   "metadata": {
    "editable": true,
    "slideshow": {
     "slide_type": ""
    },
    "tags": [
     "hide-output"
    ]
   },
   "outputs": [
    {
     "name": "stdout",
     "output_type": "stream",
     "text": [
      "calling f\n",
      "6\n",
      "6\n"
     ]
    }
   ],
   "source": [
    "mem_f = memoise(f)\n",
    "y = mem_f(3)\n",
    "print(y)\n",
    "y = mem_f(3)\n",
    "print(y)"
   ]
  },
  {
   "cell_type": "markdown",
   "id": "bb653aa6-c65e-49c9-acaf-941ade70e011",
   "metadata": {},
   "source": [
    "### Exercise\n",
    "\n",
    "Think of, and describe, some use cases for **memoisation**. "
   ]
  },
  {
   "cell_type": "markdown",
   "id": "c0405a6d-f4ed-49d2-b96c-430d4abc22de",
   "metadata": {},
   "source": [
    "### Exercise\n",
    "\n",
    "If you can, have a go at implementing **memoisation** in another language. "
   ]
  },
  {
   "cell_type": "markdown",
   "id": "d65910d8-8f6d-4cc6-80c6-46738fc32b13",
   "metadata": {},
   "source": [
    "### Exercise\n",
    "\n",
    "Are there any obvious problems with the **memoise** function presented above ?"
   ]
  },
  {
   "cell_type": "markdown",
   "id": "c748cfc4-d4e9-45f5-9021-ec9d38f2ac8f",
   "metadata": {},
   "source": [
    "### A more robust implementation of memoisation"
   ]
  },
  {
   "cell_type": "code",
   "execution_count": 26,
   "id": "49c46f8d-fc38-40cc-8537-d785c706bea4",
   "metadata": {},
   "outputs": [
    {
     "name": "stdout",
     "output_type": "stream",
     "text": [
      "adding !!\n",
      "adding !!\n"
     ]
    },
    {
     "data": {
      "text/plain": [
       "3"
      ]
     },
     "execution_count": 26,
     "metadata": {},
     "output_type": "execute_result"
    }
   ],
   "source": [
    "from functools import cache\n",
    "\n",
    "@cache\n",
    "def g(x,y) :\n",
    "    print(\"adding !!\")\n",
    "    return x +y\n",
    "\n",
    "g(1,2)\n",
    "g(3,4)\n",
    "g(1,2)\n"
   ]
  },
  {
   "cell_type": "markdown",
   "id": "94d8d4da-302a-4266-9d83-6d58f1a201da",
   "metadata": {},
   "source": [
    "## Map, Filter, Reduce"
   ]
  },
  {
   "cell_type": "markdown",
   "id": "a425df53-ac01-46aa-8b9f-2ed5aac0e821",
   "metadata": {},
   "source": [
    "### Map"
   ]
  },
  {
   "cell_type": "markdown",
   "id": "604f7fb7-d0b1-492f-af1f-9d31105897b3",
   "metadata": {},
   "source": [
    "**Map** is a higher order function that applies a function to each member in a sequence\n",
    "\n",
    "${\\bf map} : (X \\rightarrow Y) \\times [ X ] \\rightarrow  [ Y ]$\n",
    "\n",
    "Pythons implementation of **map** returns an iterator type which can be used to construct a sequence of the required type from the iterator."
   ]
  },
  {
   "cell_type": "markdown",
   "id": "b04cef66-3338-4dcc-a7d2-0fdd02939e63",
   "metadata": {},
   "source": [
    "#### Exercise \n",
    "\n",
    "What do yo think the result of the following code will be ?"
   ]
  },
  {
   "cell_type": "code",
   "execution_count": 27,
   "id": "74d0f567-e516-4b08-85e0-ada5c1e3a296",
   "metadata": {},
   "outputs": [
    {
     "data": {
      "text/plain": [
       "[4, 5, 6, 7, 8]"
      ]
     },
     "execution_count": 27,
     "metadata": {},
     "output_type": "execute_result"
    }
   ],
   "source": [
    "@curry(2)\n",
    "def f(x,y) :\n",
    "    return x + y\n",
    "\n",
    "list(map(f(3),[1,2,3,4,5]))"
   ]
  },
  {
   "cell_type": "markdown",
   "id": "62b16fd9-ba65-40d2-98cb-dafe5f641270",
   "metadata": {},
   "source": [
    "The application of the **map** pattern has several advantages over an imperative loop. Firstly, it can be **composed** with other functions. Secondly, since it is a function it can be **curried** over its first arguments to provide a \"**vectorised**\"  of the underlying function. And thirdly, it is readily **parallelisable**."
   ]
  },
  {
   "cell_type": "markdown",
   "id": "9a66f28a-9ee4-4218-883a-1ba476779521",
   "metadata": {},
   "source": [
    "### Parallel Map"
   ]
  },
  {
   "cell_type": "code",
   "execution_count": 28,
   "id": "5fe584fc-cee3-40e9-91b6-757d55284893",
   "metadata": {},
   "outputs": [],
   "source": [
    "#### setup a pool of processors\n",
    "from multiprocess import Pool\n",
    "p = Pool(4) # use 4 processors\n"
   ]
  },
  {
   "cell_type": "code",
   "execution_count": 29,
   "id": "d89ca9ab-a3f0-4b93-a9eb-fadea5f70365",
   "metadata": {},
   "outputs": [
    {
     "data": {
      "text/plain": [
       "[4, 5, 6, 7, 8]"
      ]
     },
     "execution_count": 29,
     "metadata": {},
     "output_type": "execute_result"
    }
   ],
   "source": [
    "list(p.map(f(3),[1,2,3,4,5])) # executes f in parallel"
   ]
  },
  {
   "cell_type": "code",
   "execution_count": 30,
   "id": "c04eed67-ace3-408b-aefb-5e9ff40341f5",
   "metadata": {},
   "outputs": [],
   "source": [
    "#### free up the processors\n",
    "p.close()"
   ]
  },
  {
   "cell_type": "markdown",
   "id": "6f88ac46-7537-436b-9fbc-cc9931eee560",
   "metadata": {},
   "source": [
    "It might be difficult to appreciate the above example since each call of the underlying function takes very little time to run. \n",
    "\n",
    "#### Exercise\n",
    "\n",
    "Try running the following function using parallel **map**. How long do you expect it to take ?"
   ]
  },
  {
   "cell_type": "code",
   "execution_count": 31,
   "id": "f3c214ba-6aa6-429b-8d2e-679f84ce12ec",
   "metadata": {},
   "outputs": [],
   "source": [
    "@curry(2)\n",
    "def f(t,x) :\n",
    "    from time import sleep\n",
    "    sleep(t)\n",
    "    return 3*x"
   ]
  },
  {
   "cell_type": "markdown",
   "id": "a2e66419-4c5f-4358-b4a0-1442455951aa",
   "metadata": {},
   "source": [
    "#### Solution"
   ]
  },
  {
   "cell_type": "code",
   "execution_count": 32,
   "id": "663c507e-da6f-417d-9dfe-900f89f17610",
   "metadata": {
    "editable": true,
    "slideshow": {
     "slide_type": ""
    },
    "tags": [
     "hide-output",
     "hide-input"
    ]
   },
   "outputs": [
    {
     "name": "stdout",
     "output_type": "stream",
     "text": [
      "[3, 6, 9, 12, 15, 18, 21, 24, 27, 30, 33]\n"
     ]
    }
   ],
   "source": [
    "p = Pool(5) # use 5 processors\n",
    "results = list(p.map(f(5),[1,2,3,4,5,6,7,8,9,10,11])) # executes f in parallel\n",
    "p.close\n",
    "print(results)"
   ]
  },
  {
   "cell_type": "markdown",
   "id": "6c547d82-c271-4ee7-b1ef-c5d06ba09aaf",
   "metadata": {
    "editable": true,
    "slideshow": {
     "slide_type": ""
    },
    "tags": []
   },
   "source": [
    "### Reduce"
   ]
  },
  {
   "cell_type": "markdown",
   "id": "a2ffe621-5aeb-45c0-b09c-6f573ba849a3",
   "metadata": {},
   "source": [
    "**Reduce** is a higher order function that uses a binary operator to combine the values in a sequence into a single value.\n",
    "\n",
    "${\\bf reduce} : (X \\times X \\rightarrow X) \\times [ X ] \\rightarrow  X$\n",
    "\n",
    "\n",
    "\n",
    "Pythons implementation of **reduce** returns an iterator type which can be used to construct a sequence of the required type from the iterator."
   ]
  },
  {
   "cell_type": "markdown",
   "id": "83a84053-40ff-4250-828f-96e2a880dc9c",
   "metadata": {},
   "source": [
    "#### Exercise\n",
    "\n",
    "Predict the result of running the following code."
   ]
  },
  {
   "cell_type": "code",
   "execution_count": 33,
   "id": "2ca28817-39ea-4a58-84af-4e2713249af7",
   "metadata": {
    "editable": true,
    "slideshow": {
     "slide_type": ""
    },
    "tags": [
     "hide-output"
    ]
   },
   "outputs": [
    {
     "name": "stdout",
     "output_type": "stream",
     "text": [
      "4 3\n",
      "7 2\n",
      "9 1\n"
     ]
    },
    {
     "data": {
      "text/plain": [
       "10"
      ]
     },
     "execution_count": 33,
     "metadata": {},
     "output_type": "execute_result"
    }
   ],
   "source": [
    "from functools import reduce\n",
    "\n",
    "def g(x,y) :\n",
    "    print(x,y)\n",
    "    return x + y\n",
    "\n",
    "reduce(g,[4,3,2,1])"
   ]
  },
  {
   "cell_type": "markdown",
   "id": "d0b00d7b-e3d9-44ea-968b-aeb6d12096b3",
   "metadata": {},
   "source": [
    "### Filter"
   ]
  },
  {
   "cell_type": "markdown",
   "id": "aaa2232d-81e5-4068-9411-57bb4418d2aa",
   "metadata": {},
   "source": [
    "The **filter** pattern removes elements form a sequence depending on the value of a **predicate** function.\n",
    "\n",
    "${\\bf filter} : X  \\rightarrow \\left\\{true,false\\right\\} \\times [X] \\rightarrow  [X]$\n",
    "\n",
    "Pythons implementation of **filter** returns an iterator type which can be used to construct a sequence of the required type from the iterator."
   ]
  },
  {
   "cell_type": "markdown",
   "id": "6f92ecd8-3e9a-4ee2-8f00-97a372238b3a",
   "metadata": {},
   "source": [
    "#### Exercise\n",
    "\n",
    "Predict the result of running the following code."
   ]
  },
  {
   "cell_type": "code",
   "execution_count": 34,
   "id": "7ed45da1-44a6-4b66-95a0-f5f185b2399a",
   "metadata": {
    "editable": true,
    "slideshow": {
     "slide_type": ""
    },
    "tags": [
     "hide-output"
    ]
   },
   "outputs": [
    {
     "data": {
      "text/plain": [
       "[6, 7, 8, 9]"
      ]
     },
     "execution_count": 34,
     "metadata": {},
     "output_type": "execute_result"
    }
   ],
   "source": [
    "def h(a) :\n",
    "    return a > 5\n",
    "\n",
    "list(filter(h,[1,2,3,4,5,6,7,8,9]))"
   ]
  },
  {
   "cell_type": "markdown",
   "id": "6c26956f-c037-4ace-8602-2abdd835f919",
   "metadata": {},
   "source": [
    "### Combining Map, Reduce, and Filter"
   ]
  },
  {
   "cell_type": "markdown",
   "id": "5b84857f-fa1f-4816-afc8-64ff5b392e28",
   "metadata": {},
   "source": [
    "The utility of **map**, **filter**, and **reduce** becomes very apparent when they are **curried**."
   ]
  },
  {
   "cell_type": "code",
   "execution_count": 35,
   "id": "fa4cec32-5569-4764-a3bc-cc37add94cc8",
   "metadata": {},
   "outputs": [],
   "source": [
    "cmap = curry(2,map)\n",
    "creduce = curry(2,reduce)\n",
    "cfilter = curry(2,filter)"
   ]
  },
  {
   "cell_type": "markdown",
   "id": "19c80c4f-e7e2-444e-9364-cb50e8ace765",
   "metadata": {},
   "source": [
    "#### Exercise\n",
    "\n",
    "Predict the result of running the following code.\n"
   ]
  },
  {
   "cell_type": "code",
   "execution_count": 36,
   "id": "211cd0f0-a029-4bb3-8340-9bed8816ad4b",
   "metadata": {
    "editable": true,
    "slideshow": {
     "slide_type": ""
    },
    "tags": [
     "hide-output"
    ]
   },
   "outputs": [
    {
     "name": "stdout",
     "output_type": "stream",
     "text": [
      "6 9\n",
      "15 12\n",
      "27 15\n",
      "42 18\n",
      "60 21\n",
      "81 24\n",
      "105 27\n"
     ]
    },
    {
     "data": {
      "text/plain": [
       "132"
      ]
     },
     "execution_count": 36,
     "metadata": {},
     "output_type": "execute_result"
    }
   ],
   "source": [
    "method = compose(creduce(g),cfilter(h),cmap(f(1)))\n",
    "method([1,2,3,4,5,6,7,8,9])"
   ]
  },
  {
   "cell_type": "markdown",
   "id": "9e9a4d97-0581-4178-b9e0-7cd0dc66b014",
   "metadata": {},
   "source": [
    "#### Exercise\n",
    "\n",
    "Implement the above code using an imperative style."
   ]
  },
  {
   "cell_type": "markdown",
   "id": "7234f161-53e4-411e-a379-e7558f514ca1",
   "metadata": {},
   "source": [
    "A parallel version of **map** can also be curried. For example."
   ]
  },
  {
   "cell_type": "code",
   "execution_count": 37,
   "id": "8b076cf5-d1ba-43db-b5b2-b579dac159e1",
   "metadata": {},
   "outputs": [],
   "source": [
    "@curry(3)\n",
    "def pmap(f,cores,args) :\n",
    "    with Pool(cores) as p:\n",
    "        result = p.map(f, args)\n",
    "        p.close()\n",
    "        return result"
   ]
  },
  {
   "cell_type": "markdown",
   "id": "2826695f-be0f-4220-a72d-d1589bad866e",
   "metadata": {},
   "source": [
    "#### Example"
   ]
  },
  {
   "cell_type": "markdown",
   "id": "abb6a510-7449-447f-92b0-892970146ea5",
   "metadata": {},
   "source": [
    "The parallelised solution to the previous exercise is then"
   ]
  },
  {
   "cell_type": "code",
   "execution_count": 38,
   "id": "0e564a21-8832-4719-b3a0-bbe8e62e1ed9",
   "metadata": {},
   "outputs": [
    {
     "name": "stdout",
     "output_type": "stream",
     "text": [
      "6 9\n",
      "15 12\n",
      "27 15\n",
      "42 18\n",
      "60 21\n",
      "81 24\n",
      "105 27\n"
     ]
    },
    {
     "data": {
      "text/plain": [
       "132"
      ]
     },
     "execution_count": 38,
     "metadata": {},
     "output_type": "execute_result"
    }
   ],
   "source": [
    "method = compose(creduce(g),cfilter(h),pmap(f(1))(5))\n",
    "method([1,2,3,4,5,6,7,8,9])"
   ]
  },
  {
   "cell_type": "markdown",
   "id": "7107d852-bff2-4a92-adb3-1ced9f798169",
   "metadata": {},
   "source": [
    "You are invited to reflect on how concise and readable the previous example is given what it achieves."
   ]
  },
  {
   "cell_type": "markdown",
   "id": "a29a1f37-d925-4a32-a9de-0ce38089983a",
   "metadata": {},
   "source": [
    "## Practical Considerations"
   ]
  },
  {
   "cell_type": "markdown",
   "id": "f46d578b-2544-4a4f-9aa4-47e276f68ec0",
   "metadata": {},
   "source": [
    "As some of the examples above demonstrate, it is certainly possible to employ certain **functional patterns** using programming systems which, in themselves, do not have all the characteristics of a fully functional system. However, it is important to note certain limitations that arise in non-functional systems. In particular, most \"fully\" functional languages have the following\n",
    "\n",
    "- pure functions\n",
    "- immutable data structures\n",
    "- strong type systems\n",
    "\n",
    "For now, the first two are the most important to consider.\n"
   ]
  },
  {
   "cell_type": "markdown",
   "id": "cf62da42-e51b-48e1-93c3-7cb6edaf822b",
   "metadata": {},
   "source": [
    "### Pure Functions\n",
    "\n",
    "What are pure functions ? A pure function does not modify any existing data or arguments. As a consequence they are like a mathematical \n",
    "functions in that they always give the same outputs for the same inputs, and they do not change anything when evaluated. For example, the following function is not pure.  "
   ]
  },
  {
   "cell_type": "markdown",
   "id": "8ea8dd9d-f2de-427c-a756-26b2504441f0",
   "metadata": {},
   "source": [
    "#### Example"
   ]
  },
  {
   "cell_type": "code",
   "execution_count": 39,
   "id": "856b03a3-302e-4c1e-b0b5-436f2202cb5f",
   "metadata": {},
   "outputs": [
    {
     "name": "stdout",
     "output_type": "stream",
     "text": [
      "[1, 2, 3, 4, 5]\n",
      "[1, 2, 3, 4, 5, 1]\n",
      "[1, 2, 3, 4, 5, 1]\n"
     ]
    }
   ],
   "source": [
    "def impure_function(X) :\n",
    "    X.append(1)\n",
    "    return X\n",
    "\n",
    "X = [1,2,3,4,5]\n",
    "\n",
    "print(X)\n",
    "Y = impure_function(X)\n",
    "print(Y)\n",
    "print(X)"
   ]
  },
  {
   "cell_type": "markdown",
   "id": "dcf0fa63-0912-4b9b-95e4-2dcbcd0ca027",
   "metadata": {},
   "source": [
    "Not all languages behave in this way. For example, compare the following R version of the above function"
   ]
  },
  {
   "cell_type": "markdown",
   "id": "01858dc9-b2de-4c00-aa85-11055a283753",
   "metadata": {},
   "source": [
    "```R\n",
    "pure_function <- function(X)\n",
    "{\n",
    "    X <- c(X,5)\n",
    "    return(X)\n",
    "}\n",
    "\n",
    "X = list(1,2,3,4)\n",
    "head(X)\n",
    "Y <- pure_function(X)\n",
    "head(Y)\n",
    "head(X)\n",
    "```"
   ]
  },
  {
   "cell_type": "markdown",
   "id": "7d286fb1-5d5a-464f-a96c-2511d9461450",
   "metadata": {},
   "source": [
    "#### Exercise\n",
    "\n",
    "How would you make the python version of  **pure_function** ?"
   ]
  },
  {
   "cell_type": "markdown",
   "id": "b7103533-8b1f-48cc-aa1a-3266d5410fa4",
   "metadata": {},
   "source": [
    "### Immutability\n",
    "\n",
    "In most functional programming languages data is **immutable**. Once a value has been created and assigned to a variable it cannot be changed - ever !! \n",
    "\n",
    "How can this possibly work ? Every time you need to change some data you have to have a function that takes the data and generates a modified copy of it - simples !! \n",
    "\n",
    "But how can this possible be efficient ? Behind the scenes a full copy is not actually made, just a record of the modification and which parts of the program can see this modification. In fact, this is how the R version of **pure_function** works (the original data in the list will not have been copied). To achieve this, R uses a model called **copy on write**, or **COW**. "
   ]
  },
  {
   "cell_type": "markdown",
   "id": "144694c0-1ac2-4e5e-be28-64c198171fba",
   "metadata": {},
   "source": [
    "### Immutability and state\n",
    "\n",
    "How can state be modelled without immutability ?"
   ]
  },
  {
   "cell_type": "code",
   "execution_count": 40,
   "id": "99a489de-1266-4b19-8e6a-18b560994387",
   "metadata": {},
   "outputs": [],
   "source": [
    "def counter(count = 0) :\n",
    "    def bump() :\n",
    "        nonlocal count\n",
    "        return counter(count+1)\n",
    "    def counts() :\n",
    "        nonlocal count\n",
    "        return count\n",
    "    return bump,counts\n"
   ]
  },
  {
   "cell_type": "markdown",
   "id": "84b35ecf-4081-4ab6-91de-1e1501b9f56e",
   "metadata": {},
   "source": [
    "#### Example"
   ]
  },
  {
   "cell_type": "code",
   "execution_count": 41,
   "id": "4ce8d0bc-ed7e-4669-af9d-25cace6a84c2",
   "metadata": {},
   "outputs": [
    {
     "name": "stdout",
     "output_type": "stream",
     "text": [
      "0\n",
      "1\n"
     ]
    }
   ],
   "source": [
    "bump_1,counts_1 = bump_2,counts_2 = counter()\n",
    "bump_2,counts_2 = bump_2()\n",
    "print(counts_1())\n",
    "print(counts_2())\n",
    "\n"
   ]
  }
 ],
 "metadata": {
  "kernelspec": {
   "display_name": "Python 3 (ipykernel)",
   "language": "python",
   "name": "python3"
  },
  "language_info": {
   "codemirror_mode": {
    "name": "ipython",
    "version": 3
   },
   "file_extension": ".py",
   "mimetype": "text/x-python",
   "name": "python",
   "nbconvert_exporter": "python",
   "pygments_lexer": "ipython3",
   "version": "3.12.3"
  }
 },
 "nbformat": 4,
 "nbformat_minor": 5
}
