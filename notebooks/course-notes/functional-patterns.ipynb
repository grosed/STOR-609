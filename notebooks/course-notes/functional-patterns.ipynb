{
 "cells": [
  {
   "cell_type": "markdown",
   "id": "474700fa-6b4f-45d9-bb6a-af7098041e85",
   "metadata": {},
   "source": [
    "Functional programming means thinking in terms of mathematical functions. Strict functional programming languages, such as Haskell, provide abstractions for functions which a very similar to their mathematical counterparts. However, most programming languages do not do this so well. Does this mean that the idea of modelling our abstractions in terms of mathematical functions is inappropriate when using these languages ?\n",
    "\n",
    "A basic premise of this course is that, at least for many modern programming languages, this is not the case. The key to making this approach work is to understand the differences between a mathematical function and a function within the language being used, and then find effective ways of working around these differences.  \n",
    "\n",
    "What then are the minimal requirements of a programming language for it to be able to support the use functional patterns ? The primary requirement is support for **Higher Order Programming**.\n",
    "\n"
   ]
  },
  {
   "cell_type": "markdown",
   "id": "22ad4c41-b4eb-4aa8-9d60-fe749b7c62c8",
   "metadata": {},
   "source": [
    "## Higher Order Programming"
   ]
  },
  {
   "cell_type": "markdown",
   "id": "81dbe420-e637-4054-94ad-e62411ba465b",
   "metadata": {},
   "source": [
    "Higher Order Programming perhaps sounds more impressive than it actually is. Put simply it means that functions and other \"higher order\" types can be passed to and returned from functions in the same way as more traditional data e.g. floating point numbers and strings. "
   ]
  },
  {
   "cell_type": "markdown",
   "id": "747d5394-65b2-4b0c-9f44-b80825ed6fa3",
   "metadata": {},
   "source": [
    "### Example (python)"
   ]
  },
  {
   "cell_type": "code",
   "execution_count": 3,
   "id": "867026c1-cd79-4ab1-963e-5777d37fc08f",
   "metadata": {},
   "outputs": [
    {
     "data": {
      "text/plain": [
       "0.49999999999999994"
      ]
     },
     "execution_count": 3,
     "metadata": {},
     "output_type": "execute_result"
    }
   ],
   "source": [
    "from math import sin,pi\n",
    "\n",
    "def g(f,x) :\n",
    "    return f(x)\n",
    "\n",
    "g(sin,pi/6)"
   ]
  },
  {
   "cell_type": "markdown",
   "id": "21fced8f-1125-4ef7-9ac2-78d0e83493b8",
   "metadata": {},
   "source": [
    "### Example (R)"
   ]
  },
  {
   "cell_type": "markdown",
   "id": "fbf8a684-1c98-4003-ad47-e6798135673f",
   "metadata": {},
   "source": [
    "```R\n",
    "g <- function(f,x)\n",
    "{\n",
    "    return(f(x))\n",
    "}\n",
    "\n",
    "g(sin(pi/6))\n",
    "```"
   ]
  },
  {
   "cell_type": "markdown",
   "id": "61d83dc4-2722-47ad-9402-979cfcb9687d",
   "metadata": {},
   "source": [
    "### Example (python)"
   ]
  },
  {
   "cell_type": "code",
   "execution_count": 6,
   "id": "b702f334-9602-4daa-a9a6-1883aa0d0507",
   "metadata": {},
   "outputs": [],
   "source": [
    "def f(a) :\n",
    "    def g(x) :\n",
    "        return x + 2\n",
    "    return g if a == 1 else sin"
   ]
  },
  {
   "cell_type": "code",
   "execution_count": 8,
   "id": "67022a9e-f361-4876-bd60-4a1b23d5e4e9",
   "metadata": {},
   "outputs": [
    {
     "data": {
      "text/plain": [
       "-0.9589242746631385"
      ]
     },
     "execution_count": 8,
     "metadata": {},
     "output_type": "execute_result"
    }
   ],
   "source": [
    "f(2)(5)"
   ]
  },
  {
   "cell_type": "code",
   "execution_count": 9,
   "id": "427be575-8195-48bc-9e4c-210c5bbd91bd",
   "metadata": {},
   "outputs": [
    {
     "data": {
      "text/plain": [
       "7"
      ]
     },
     "execution_count": 9,
     "metadata": {},
     "output_type": "execute_result"
    }
   ],
   "source": [
    "f(1)(5)"
   ]
  },
  {
   "cell_type": "markdown",
   "id": "85a558ad-e07d-44e3-83d9-2d261bdb31fe",
   "metadata": {},
   "source": [
    "Notice that in the second example a new function **g** is defined inside an enclosing function **f**. When higher order programming is available most of the main functional design patterns can be implemented in some form. "
   ]
  },
  {
   "cell_type": "markdown",
   "id": "ea7afcfe-1196-42e5-a775-086412be604d",
   "metadata": {},
   "source": [
    "## Pattern 1 - Composition"
   ]
  },
  {
   "cell_type": "markdown",
   "id": "c7198d70-9420-419b-9c86-1cff720c5623",
   "metadata": {},
   "source": [
    "### Exercise \n",
    "\n",
    "Write a function **compose** which accepts two functions **f** and **g** and returns a function **h** where $$h(x) = g(f(x))$$ \n"
   ]
  },
  {
   "cell_type": "markdown",
   "id": "2b7ef912-ff8c-45aa-8c42-6006b602e9af",
   "metadata": {},
   "source": [
    "## Pattern 2 - Currying"
   ]
  },
  {
   "cell_type": "markdown",
   "id": "5eab2554-d9ef-4f8c-9f6b-c20564d6a1a0",
   "metadata": {},
   "source": [
    "<figure>\n",
    "<img src=\"./HaskellBCurry.jpg\" style=\"height:20% display:inline-block\">\n",
    "<img src=\"./curry.jpeg\" style=\"height:20% display:inline-block\">\n",
    "<figcaption align = \"center\"> Curry - a popular dish (left). Haskell B Curry - a computer scientist (right). </figcaption>\n",
    "</figure>"
   ]
  },
  {
   "cell_type": "markdown",
   "id": "eda46b89-028b-41d1-8d19-6cadd5d38250",
   "metadata": {},
   "source": [
    "In mathematics a function $f$ can be completely specified in terms of its graph $\\Gamma_{f}$. The graph is a (possibly infinite) set of ordered pairs, for example\n",
    "\n",
    "$\\Gamma_{f} = \\left\\{  (1,1),(2,4),(3,9) \\right\\}$\n",
    "\n",
    "Conceptually the graph shows how to map the first element of a given pair to the second. This is emphasised through the notation $f(1) = 1$ and $f(3) = 9$ and so on. \n"
   ]
  },
  {
   "cell_type": "markdown",
   "id": "697ebe2f-453a-4416-839a-743dfdeda850",
   "metadata": {},
   "source": [
    "### Exercise\n",
    "\n",
    "Give a small example of a graph of function of the form $f(x,y)$.\n",
    "\n",
    "Write a function in python that implements it.\n",
    "\n",
    "How many \"arguments\" does the mathematical function \"take\" ? \n",
    "\n",
    "How many \"arguments\" does your python function \"take\" ?\n"
   ]
  },
  {
   "cell_type": "markdown",
   "id": "cd533aef-124a-446e-9022-4f41893097b6",
   "metadata": {},
   "source": [
    "So, mathematical functions map single value to single values. To make python functions behave in this way they can be **curried**. Here is an example."
   ]
  },
  {
   "cell_type": "code",
   "execution_count": 10,
   "id": "9534f644-4b23-4db3-be09-ee8f2bb943f0",
   "metadata": {},
   "outputs": [],
   "source": [
    "from pymonad.tools import curry    "
   ]
  },
  {
   "cell_type": "code",
   "execution_count": 9,
   "id": "da3256ab-f1c3-40f0-94a6-e5fa47849e18",
   "metadata": {},
   "outputs": [],
   "source": [
    "@curry(2)\n",
    "def f(x,y) :\n",
    "    return x + y"
   ]
  },
  {
   "cell_type": "code",
   "execution_count": 12,
   "id": "559e990d-b47f-42cd-8b9d-ea98a7828c46",
   "metadata": {},
   "outputs": [
    {
     "name": "stdout",
     "output_type": "stream",
     "text": [
      "5\n"
     ]
    }
   ],
   "source": [
    "z = f(2,3)  # function taking two arguments\n",
    "print(z)"
   ]
  },
  {
   "cell_type": "code",
   "execution_count": 13,
   "id": "321b7905-a67a-4269-a2c3-e3f607d8fc45",
   "metadata": {},
   "outputs": [
    {
     "name": "stdout",
     "output_type": "stream",
     "text": [
      "5\n"
     ]
    }
   ],
   "source": [
    "g = f(2) # f is a function of one argument that returns a function \n",
    "z = g(3)\n",
    "print(z)"
   ]
  },
  {
   "cell_type": "code",
   "execution_count": 14,
   "id": "4fc61e47-ddce-4e02-a977-5ec0c8b21313",
   "metadata": {},
   "outputs": [
    {
     "name": "stdout",
     "output_type": "stream",
     "text": [
      "5\n"
     ]
    }
   ],
   "source": [
    "z = f(2)(3)\n",
    "print(z)"
   ]
  },
  {
   "cell_type": "markdown",
   "id": "1a727a04-6798-43d4-9bea-4ff93385f96a",
   "metadata": {},
   "source": [
    "The \"**curry**\" pattern is slightly odd in that most functional programming languages do not need it since functions are curried by design."
   ]
  },
  {
   "cell_type": "markdown",
   "id": "33f58f57-79c0-477a-8228-e7bebc9cce1d",
   "metadata": {},
   "source": [
    "### Exercise \n",
    "\n",
    "How can currying be put to practical use ?"
   ]
  },
  {
   "cell_type": "markdown",
   "id": "6796231a-6bea-434b-af14-0b5b0a2df1a2",
   "metadata": {},
   "source": [
    "### Solution"
   ]
  },
  {
   "cell_type": "markdown",
   "id": "354298bd-3a0f-489b-ac56-7e2f709dac67",
   "metadata": {},
   "source": [
    "Currying allows a programmer to provide a way of adding extra parameters to a function whilst still allowing it to be **Reused** in other code. A strategy in the pig game provides an excellent example of a use case for the **curry** pattern. "
   ]
  },
  {
   "cell_type": "markdown",
   "id": "ba55a277-7d57-4488-8392-1d5057e1f497",
   "metadata": {},
   "source": [
    "### Exercise\n",
    "\n",
    "Try and use **curried** strategies in your pig competition code."
   ]
  },
  {
   "cell_type": "markdown",
   "id": "5e28bc4d-18dd-48ef-b539-7b7863492a21",
   "metadata": {},
   "source": [
    "## Pattern 3 - Partial Application"
   ]
  },
  {
   "cell_type": "markdown",
   "id": "a108baaf-606d-4549-bab7-5b3044408503",
   "metadata": {},
   "source": [
    "Closely related to **Currying**, partial application accepts a function, freezes one or more of its arguments , and returns a new function with a reduced number of arguments. The frozen arguments are often referred to as the \"bound\" arguments or \"bound\" values."
   ]
  },
  {
   "cell_type": "code",
   "execution_count": 15,
   "id": "19039728-d6d8-441a-b631-f9eec89dbede",
   "metadata": {},
   "outputs": [
    {
     "data": {
      "text/plain": [
       "2700"
      ]
     },
     "execution_count": 15,
     "metadata": {},
     "output_type": "execute_result"
    }
   ],
   "source": [
    "def f(a,b,c) :\n",
    "    return (2**a)*(3**b)*(5**c)"
   ]
  },
  {
   "cell_type": "code",
   "execution_count": 17,
   "id": "7f81075b-eafe-41b2-ab26-bcea952b5865",
   "metadata": {},
   "outputs": [
    {
     "data": {
      "text/plain": [
       "2700"
      ]
     },
     "execution_count": 17,
     "metadata": {},
     "output_type": "execute_result"
    }
   ],
   "source": [
    "f(2,3,2)"
   ]
  },
  {
   "cell_type": "code",
   "execution_count": 19,
   "id": "fd89576b-299d-448c-b430-3c4a29a9e51b",
   "metadata": {},
   "outputs": [
    {
     "data": {
      "text/plain": [
       "2700"
      ]
     },
     "execution_count": 19,
     "metadata": {},
     "output_type": "execute_result"
    }
   ],
   "source": [
    "from functools import partial\n",
    "\n",
    "g = partial(f,b=3)\n",
    "g(a=2,c=2)"
   ]
  },
  {
   "cell_type": "markdown",
   "id": "83ce1053-508b-4f88-81a2-81ce51a36d3e",
   "metadata": {},
   "source": [
    "### Exercise\n",
    "\n",
    "How does partial application differ from Currying ?\n",
    "\n",
    "What effect does the position of the \"bound\" arguments have on the way the partially applied function is used ?"
   ]
  },
  {
   "cell_type": "markdown",
   "id": "cbebdc56-8965-42e8-a62a-67907aa947ea",
   "metadata": {},
   "source": [
    "## Pattern 4 - Classes and Objects"
   ]
  },
  {
   "cell_type": "markdown",
   "id": "da2b411c-7ebe-48ea-95ce-eae750c97c0e",
   "metadata": {},
   "source": [
    "### Motivating Problem"
   ]
  },
  {
   "cell_type": "markdown",
   "id": "e481b80e-c188-41e7-9877-d9de0a3f66f6",
   "metadata": {},
   "source": [
    "Here is a simple function"
   ]
  },
  {
   "cell_type": "code",
   "execution_count": 10,
   "id": "59525e85-44e6-4ef0-b2b0-4c84eb261d57",
   "metadata": {},
   "outputs": [],
   "source": [
    "def f(x) :\n",
    "    return 2*x"
   ]
  },
  {
   "cell_type": "markdown",
   "id": "49c06598-9630-4145-a739-57fe36afcdfd",
   "metadata": {},
   "source": [
    "Now imagine you want to keep track of how many times this function gets used in a big program."
   ]
  },
  {
   "cell_type": "markdown",
   "id": "dfb34094-4f77-440f-8396-ba670d0f75c7",
   "metadata": {},
   "source": [
    "### Solution"
   ]
  },
  {
   "cell_type": "code",
   "execution_count": 13,
   "id": "c6e4eeed-8d49-492c-bbdb-b7545df042a6",
   "metadata": {},
   "outputs": [
    {
     "name": "stdout",
     "output_type": "stream",
     "text": [
      "f was called 12 times\n"
     ]
    }
   ],
   "source": [
    "count = 0\n",
    "\n",
    "for i in range(10) :\n",
    "    f(i)\n",
    "    count = count + 1\n",
    "# ... lots more code\n",
    "# ...\n",
    "\n",
    "# somewhere else in your program\n",
    "y = f(8)\n",
    "count = count + 1\n",
    "\n",
    "# ... lots more code\n",
    "# ...\n",
    "\n",
    "# somewhere else in your program\n",
    "z = f(3)/2\n",
    "count += 1\n",
    "\n",
    "# ... lots more code\n",
    "# ...\n",
    "\n",
    "### and finally\n",
    "print(\"f was called \" + str(count) + \" times\")"
   ]
  },
  {
   "cell_type": "markdown",
   "id": "c2500420-6e75-4da2-afcc-822f1bdf7517",
   "metadata": {},
   "source": [
    "### Exercise \n",
    "\n",
    "What are the potential problems with this solution ?\n",
    "\n",
    "Broadly speaking, how would you score this solution with respect to the **5Rs** ? "
   ]
  },
  {
   "cell_type": "markdown",
   "id": "da828888-1466-428f-a388-24b96fa5a19b",
   "metadata": {},
   "source": [
    "### Exercise \n",
    "\n",
    "Design an alternative approach counting the number of times **f** gets used. \n",
    "\n",
    "Does your approach have any advantages over the original solution ? \n",
    "\n",
    "How would you rate your solution with respect to the **5Rs**"
   ]
  },
  {
   "cell_type": "markdown",
   "id": "5229bdac-f0cd-400c-b3aa-c4d58f86eda6",
   "metadata": {},
   "source": [
    "### Exercise (python)"
   ]
  },
  {
   "cell_type": "markdown",
   "id": "24311a8a-302e-4d3d-bf63-43263395d06e",
   "metadata": {},
   "source": [
    "Consider the following function"
   ]
  },
  {
   "cell_type": "code",
   "execution_count": 21,
   "id": "712ff241-91dc-4410-a6df-94d5314fc463",
   "metadata": {},
   "outputs": [],
   "source": [
    "def logger(f) :\n",
    "    count = 0\n",
    "    def g(x) :\n",
    "        count += 1\n",
    "        return f(x),count\n",
    "    return g"
   ]
  },
  {
   "cell_type": "markdown",
   "id": "99c60472-d79c-4c15-a914-897bca9e4873",
   "metadata": {},
   "source": [
    "and the code below."
   ]
  },
  {
   "cell_type": "code",
   "execution_count": null,
   "id": "4c6c32af-1acf-46f3-9a34-1682494e4033",
   "metadata": {},
   "outputs": [],
   "source": [
    "def f(x) :\n",
    "    return 2*x\n",
    "\n",
    "logf = logger(f)"
   ]
  },
  {
   "cell_type": "markdown",
   "id": "45433ed9-b80a-4e5e-812e-2f72d950c30e",
   "metadata": {},
   "source": [
    "Describe what the function **logf** does. Check that it does what you expect."
   ]
  },
  {
   "cell_type": "markdown",
   "id": "f16bfb3e-ab9f-475b-81a1-392ee595d487",
   "metadata": {},
   "source": [
    "### Closures, Classes, and Objects"
   ]
  },
  {
   "cell_type": "markdown",
   "id": "c289899e-20ec-470e-898b-7b183510b515",
   "metadata": {},
   "source": [
    "The function **logf** is called a **closure**. It is a function. However, it is a function with extra information. The extra information is provided by the enclosing scope of the function (**f** in this case) within which the (nested) function **g** is defined. \n",
    "\n",
    "In general, a function that returns other functions is called a **class**, and the functions returned are called **objects**. If the **objects** have access to the data inside the scope of the **class** then they are **closures**. Note that the nested function is **not** the closure, it is the object that corresponds to the function. \n",
    "\n",
    "The programming style that makes use of **classes** and **objects** is called **object based programming**. "
   ]
  },
  {
   "cell_type": "markdown",
   "id": "dfbe374b-8172-4b49-97c3-c297523996fe",
   "metadata": {},
   "source": [
    "### Exercise\n",
    "\n",
    "How does using the **logger** class rate as a solution to the motivating problem ? \n",
    "\n",
    "What problem does using the **logger** class present ? \n",
    "\n",
    "Can you modify the **logger** class to overcome this problem ?\n",
    "\n",
    "Think of, and describe, some use cases for **object based** programming. "
   ]
  },
  {
   "cell_type": "markdown",
   "id": "b48021ce-eb93-4d30-97c9-24cbb44d4898",
   "metadata": {},
   "source": [
    "### Possible solution"
   ]
  },
  {
   "cell_type": "code",
   "execution_count": 16,
   "id": "1aee13fa-87e2-4d83-bf44-c529e7fdbfff",
   "metadata": {},
   "outputs": [],
   "source": [
    "def logger(f) :\n",
    "    count = 0\n",
    "    def call(x) :\n",
    "        nonlocal count \n",
    "        count += 1\n",
    "        return f(x)\n",
    "    def log() :\n",
    "        nonlocal count\n",
    "        return count\n",
    "    return call,log"
   ]
  },
  {
   "cell_type": "code",
   "execution_count": 20,
   "id": "1d11ab1f-d01d-4cc8-9d7b-397e240212e1",
   "metadata": {},
   "outputs": [
    {
     "data": {
      "text/plain": [
       "10"
      ]
     },
     "execution_count": 20,
     "metadata": {},
     "output_type": "execute_result"
    }
   ],
   "source": [
    "call,log = logger(f)\n",
    "\n",
    "for i in range(10) :\n",
    "    call(i)  ## function gets used in the same way as the original\n",
    "\n",
    "log()"
   ]
  },
  {
   "cell_type": "markdown",
   "id": "52b4d05f-c0bf-4388-8058-e5ba7d3fb46d",
   "metadata": {},
   "source": [
    "## Pattern 5 - Memoisation\n",
    "\n"
   ]
  },
  {
   "cell_type": "markdown",
   "id": "0df18826-59b3-49e0-a1b8-c95d2add337b",
   "metadata": {},
   "source": [
    "Memoisation is an example of an **object based** pattern. Here is way it might be implemented in python."
   ]
  },
  {
   "cell_type": "code",
   "execution_count": 4,
   "id": "a36f1e73-acfd-4e03-b586-56a1ae0f877e",
   "metadata": {},
   "outputs": [],
   "source": [
    "def memoise(f) :\n",
    "    cache=dict()\n",
    "    def mf(x) :\n",
    "        nonlocal cache\n",
    "        if not x in cache :\n",
    "            cache[x] = f(x)\n",
    "        return cache[x]\n",
    "    return mf"
   ]
  },
  {
   "cell_type": "markdown",
   "id": "0f1690e4-0065-4555-9236-eed7c331adbd",
   "metadata": {},
   "source": [
    "### Exercise\n",
    "\n",
    "Can you work out what this pattern is designed to do ?\n",
    "\n",
    "Experiment with the following code to see what **memoisation** does."
   ]
  },
  {
   "cell_type": "code",
   "execution_count": 2,
   "id": "2943390e-9103-40d4-97c3-4134aa4920ee",
   "metadata": {},
   "outputs": [
    {
     "name": "stdout",
     "output_type": "stream",
     "text": [
      "calling f\n",
      "6\n",
      "calling f\n",
      "6\n"
     ]
    }
   ],
   "source": [
    "def f(x) :\n",
    "    print(\"calling f\")\n",
    "    return 2*x\n",
    "y = f(3)\n",
    "print(y)\n",
    "y = f(3)\n",
    "print(y)\n"
   ]
  },
  {
   "cell_type": "code",
   "execution_count": 5,
   "id": "d610f9df-3af1-473e-babb-42e490930735",
   "metadata": {},
   "outputs": [
    {
     "name": "stdout",
     "output_type": "stream",
     "text": [
      "calling f\n",
      "6\n",
      "6\n"
     ]
    }
   ],
   "source": [
    "mem_f = memoise(f)\n",
    "y = mem_f(3)\n",
    "print(y)\n",
    "y = mem_f(3)\n",
    "print(y)"
   ]
  },
  {
   "cell_type": "markdown",
   "id": "bb653aa6-c65e-49c9-acaf-941ade70e011",
   "metadata": {},
   "source": [
    "### Exercise\n",
    "\n",
    "Think of, and describe, some use cases for **memoisation**. "
   ]
  },
  {
   "cell_type": "markdown",
   "id": "c0405a6d-f4ed-49d2-b96c-430d4abc22de",
   "metadata": {},
   "source": [
    "### Exercise\n",
    "\n",
    "If you can, have a go at implementing **memoisation** in another language. "
   ]
  },
  {
   "cell_type": "markdown",
   "id": "d65910d8-8f6d-4cc6-80c6-46738fc32b13",
   "metadata": {},
   "source": [
    "### Exercise\n",
    "\n",
    "Are there any obvious problems with the **memoise** function presented above ?"
   ]
  },
  {
   "cell_type": "markdown",
   "id": "c748cfc4-d4e9-45f5-9021-ec9d38f2ac8f",
   "metadata": {},
   "source": [
    "### A more robust implementation of memoisation"
   ]
  },
  {
   "cell_type": "code",
   "execution_count": 22,
   "id": "49c46f8d-fc38-40cc-8537-d785c706bea4",
   "metadata": {},
   "outputs": [
    {
     "name": "stdout",
     "output_type": "stream",
     "text": [
      "adding !!\n",
      "adding !!\n"
     ]
    },
    {
     "data": {
      "text/plain": [
       "3"
      ]
     },
     "execution_count": 22,
     "metadata": {},
     "output_type": "execute_result"
    }
   ],
   "source": [
    "from functools import cache\n",
    "\n",
    "@cache\n",
    "def g(x,y) :\n",
    "    print(\"adding !!\")\n",
    "    return x +y\n",
    "\n",
    "g(1,2)\n",
    "g(3,4)\n",
    "g(1,2)\n"
   ]
  }
 ],
 "metadata": {
  "kernelspec": {
   "display_name": "Python 3 (ipykernel)",
   "language": "python",
   "name": "python3"
  },
  "language_info": {
   "codemirror_mode": {
    "name": "ipython",
    "version": 3
   },
   "file_extension": ".py",
   "mimetype": "text/x-python",
   "name": "python",
   "nbconvert_exporter": "python",
   "pygments_lexer": "ipython3",
   "version": "3.11.0"
  }
 },
 "nbformat": 4,
 "nbformat_minor": 5
}
