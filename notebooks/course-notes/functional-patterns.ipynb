{
 "cells": [
  {
   "cell_type": "markdown",
   "id": "474700fa-6b4f-45d9-bb6a-af7098041e85",
   "metadata": {},
   "source": [
    "# Functional Patterns"
   ]
  },
  {
   "cell_type": "markdown",
   "id": "0db9f2e5-16ce-451e-9749-7eb2e38d5c1b",
   "metadata": {},
   "source": [
    "Functional programming means thinking in terms of mathematical functions. Strict functional programming languages, such as Haskell, provide abstractions for functions which a very similar to their mathematical counterparts. However, most programming languages do not do this so well. Does this mean that the idea of modelling our abstractions in terms of mathematical functions is inappropriate when using these languages ?\n",
    "\n",
    "A basic assumption of this course is that, at least for many modern programming languages, this is not the case. The key to making this approach work is to understand the differences between a mathematical function and a function within the language being used, and then find effective ways of working around these differences.  \n",
    "\n",
    "What then are the minimal requirements of a programming language for it to be able to support the use functional patterns ? The primary requirement is support for **Higher Order Programming**.\n"
   ]
  },
  {
   "cell_type": "markdown",
   "id": "22ad4c41-b4eb-4aa8-9d60-fe749b7c62c8",
   "metadata": {},
   "source": [
    "## Higher Order Programming"
   ]
  },
  {
   "cell_type": "markdown",
   "id": "81dbe420-e637-4054-94ad-e62411ba465b",
   "metadata": {},
   "source": [
    "Higher Order Programming perhaps sounds more impressive than it actually is. Put simply it means that functions and other \"higher order\" types can be passed to and returned from functions in the same way as more traditional data e.g. floating point numbers and strings. "
   ]
  },
  {
   "cell_type": "markdown",
   "id": "747d5394-65b2-4b0c-9f44-b80825ed6fa3",
   "metadata": {},
   "source": [
    "### Example"
   ]
  },
  {
   "cell_type": "code",
   "execution_count": 1,
   "id": "867026c1-cd79-4ab1-963e-5777d37fc08f",
   "metadata": {},
   "outputs": [
    {
     "data": {
      "text/plain": [
       "0.49999999999999994"
      ]
     },
     "execution_count": 1,
     "metadata": {},
     "output_type": "execute_result"
    }
   ],
   "source": [
    "from math import sin,pi\n",
    "\n",
    "def g(f,x) :\n",
    "    return f(x)\n",
    "\n",
    "g(sin,pi/6)"
   ]
  },
  {
   "cell_type": "markdown",
   "id": "61d83dc4-2722-47ad-9402-979cfcb9687d",
   "metadata": {},
   "source": [
    "### Example"
   ]
  },
  {
   "cell_type": "code",
   "execution_count": 2,
   "id": "b702f334-9602-4daa-a9a6-1883aa0d0507",
   "metadata": {},
   "outputs": [],
   "source": [
    "def f(a) :\n",
    "    def g(x) :\n",
    "        return x + 2\n",
    "    return g if a == 1 else sin"
   ]
  },
  {
   "cell_type": "code",
   "execution_count": 3,
   "id": "67022a9e-f361-4876-bd60-4a1b23d5e4e9",
   "metadata": {},
   "outputs": [
    {
     "data": {
      "text/plain": [
       "-0.9589242746631385"
      ]
     },
     "execution_count": 3,
     "metadata": {},
     "output_type": "execute_result"
    }
   ],
   "source": [
    "f(2)(5)"
   ]
  },
  {
   "cell_type": "code",
   "execution_count": 4,
   "id": "427be575-8195-48bc-9e4c-210c5bbd91bd",
   "metadata": {},
   "outputs": [
    {
     "data": {
      "text/plain": [
       "7"
      ]
     },
     "execution_count": 4,
     "metadata": {},
     "output_type": "execute_result"
    }
   ],
   "source": [
    "f(1)(5)"
   ]
  },
  {
   "cell_type": "markdown",
   "id": "85a558ad-e07d-44e3-83d9-2d261bdb31fe",
   "metadata": {},
   "source": [
    "Notice that in the second example a new function **g** is defined inside an enclosing function **f**. \n",
    "\n",
    "When higher order programming is available most of the main functional design patterns can be implemented in some form. "
   ]
  },
  {
   "cell_type": "markdown",
   "id": "ea7afcfe-1196-42e5-a775-086412be604d",
   "metadata": {},
   "source": [
    "## Pattern 1 - Composition"
   ]
  },
  {
   "cell_type": "markdown",
   "id": "c7198d70-9420-419b-9c86-1cff720c5623",
   "metadata": {},
   "source": [
    "### Exercise \n",
    "\n",
    "Write a function **compose** which accepts two functions **f** and **g** and returns a function **h** where $$h(x) = g(f(x))$$ \n"
   ]
  },
  {
   "cell_type": "markdown",
   "id": "84b2fec4-5ed3-4d09-b1f6-5c017f0c3497",
   "metadata": {},
   "source": [
    "### Solution "
   ]
  },
  {
   "cell_type": "code",
   "execution_count": 5,
   "id": "8144ac04-0286-48bd-83d5-2f1ac5a64e2e",
   "metadata": {},
   "outputs": [
    {
     "name": "stdout",
     "output_type": "stream",
     "text": [
      "8\n",
      "10\n"
     ]
    }
   ],
   "source": [
    "def compose(f,g) :\n",
    "    def h(x) :\n",
    "        return g(f(x))\n",
    "    return h\n",
    "\n",
    "def f(x) :\n",
    "    return 2*x\n",
    "\n",
    "def g(x) : \n",
    "    return x + 2\n",
    "\n",
    "h = compose(f,g)\n",
    "print(h(3))\n",
    "\n",
    "h = compose(g,f)\n",
    "print(h(3))"
   ]
  },
  {
   "cell_type": "markdown",
   "id": "2a1d327a-6f04-48f7-a0bd-e599b6c8937e",
   "metadata": {},
   "source": [
    "### Exercise\n",
    "\n",
    "What limitations, if any, are there with your implementation of the **compose** function ?"
   ]
  },
  {
   "cell_type": "markdown",
   "id": "9f373db0-1ae2-4fe9-9244-f59aa0b35670",
   "metadata": {},
   "source": [
    "### Solution"
   ]
  },
  {
   "cell_type": "code",
   "execution_count": 6,
   "id": "8ce17937-8659-4842-9613-22d1ca58655f",
   "metadata": {},
   "outputs": [],
   "source": [
    "from functools import reduce"
   ]
  },
  {
   "cell_type": "code",
   "execution_count": 7,
   "id": "a6247932-8e8e-4878-9a83-bcaa8341da03",
   "metadata": {},
   "outputs": [],
   "source": [
    "def compose(*funcs):\n",
    "    return reduce(lambda f,g : lambda x : g(f(x)), funcs, lambda x : x)"
   ]
  },
  {
   "cell_type": "code",
   "execution_count": 8,
   "id": "dd5020fc-b258-4f6c-adf4-de709972b7d5",
   "metadata": {},
   "outputs": [
    {
     "data": {
      "text/plain": [
       "5.978716493246764"
      ]
     },
     "execution_count": 8,
     "metadata": {},
     "output_type": "execute_result"
    }
   ],
   "source": [
    "h = compose(f,g,sin,g,f)\n",
    "h(3)"
   ]
  },
  {
   "cell_type": "markdown",
   "id": "2b7ef912-ff8c-45aa-8c42-6006b602e9af",
   "metadata": {},
   "source": [
    "## Pattern 2 - Currying"
   ]
  },
  {
   "cell_type": "markdown",
   "id": "5eab2554-d9ef-4f8c-9f6b-c20564d6a1a0",
   "metadata": {},
   "source": [
    "<figure>\n",
    "<img src=\"./HaskellBCurry.jpg\" style=\"height:20% display:inline-block\">\n",
    "<img src=\"./curry.jpeg\" style=\"height:20% display:inline-block\">\n",
    "<figcaption align = \"center\"> Curry - a popular dish (left). Haskell B Curry - a computer scientist (right). </figcaption>\n",
    "</figure>"
   ]
  },
  {
   "cell_type": "markdown",
   "id": "eda46b89-028b-41d1-8d19-6cadd5d38250",
   "metadata": {},
   "source": [
    "In mathematics a function $f$ can be completely specified in terms of its graph $\\Gamma_{f}$. The graph is a (possibly infinite) set of ordered pairs, for example\n",
    "\n",
    "$\\Gamma_{f} = \\left\\{  (1,1),(2,4),(3,9) \\right\\}$\n",
    "\n",
    "Conceptually the graph shows how to map the first element of a given pair to the second. This is emphasised through the notation $f(1) = 1$ and $f(3) = 9$ and so on. \n"
   ]
  },
  {
   "cell_type": "markdown",
   "id": "697ebe2f-453a-4416-839a-743dfdeda850",
   "metadata": {},
   "source": [
    "### Exercise\n",
    "\n",
    "Give a small example of a graph of function of the form $f(x,y)$.\n",
    "\n",
    "Write a function in python that implements it.\n",
    "\n",
    "How many \"arguments\" does the mathematical function \"take\" ? \n",
    "\n",
    "How many \"arguments\" does your python function \"take\" ?\n"
   ]
  },
  {
   "cell_type": "markdown",
   "id": "cd533aef-124a-446e-9022-4f41893097b6",
   "metadata": {},
   "source": [
    "So, mathematical functions map single entities to single entities. To make python functions behave in this way they can be **curried**. Here is an example."
   ]
  },
  {
   "cell_type": "code",
   "execution_count": 14,
   "id": "9534f644-4b23-4db3-be09-ee8f2bb943f0",
   "metadata": {},
   "outputs": [],
   "source": [
    "from pymonad.tools import curry    "
   ]
  },
  {
   "cell_type": "code",
   "execution_count": 15,
   "id": "da3256ab-f1c3-40f0-94a6-e5fa47849e18",
   "metadata": {},
   "outputs": [],
   "source": [
    "@curry(2)\n",
    "def f(x,y) :\n",
    "    return x + y"
   ]
  },
  {
   "cell_type": "code",
   "execution_count": 16,
   "id": "559e990d-b47f-42cd-8b9d-ea98a7828c46",
   "metadata": {},
   "outputs": [
    {
     "name": "stdout",
     "output_type": "stream",
     "text": [
      "5\n"
     ]
    }
   ],
   "source": [
    "z = f(2,3)  # function taking two arguments ???? No.\n",
    "print(z)"
   ]
  },
  {
   "cell_type": "code",
   "execution_count": 17,
   "id": "321b7905-a67a-4269-a2c3-e3f607d8fc45",
   "metadata": {},
   "outputs": [
    {
     "name": "stdout",
     "output_type": "stream",
     "text": [
      "5\n"
     ]
    }
   ],
   "source": [
    "g = f(2) # f is a function of one argument that returns a function \n",
    "z = g(3) # g is a function (with one argument)\n",
    "print(z)"
   ]
  },
  {
   "cell_type": "code",
   "execution_count": 18,
   "id": "4fc61e47-ddce-4e02-a977-5ec0c8b21313",
   "metadata": {},
   "outputs": [
    {
     "name": "stdout",
     "output_type": "stream",
     "text": [
      "5\n"
     ]
    }
   ],
   "source": [
    "z = f(2)(3)\n",
    "print(z)"
   ]
  },
  {
   "cell_type": "markdown",
   "id": "1a727a04-6798-43d4-9bea-4ff93385f96a",
   "metadata": {},
   "source": [
    "The \"**curry**\" pattern is slightly odd in that most functional programming languages do not need it since functions are curried by design."
   ]
  },
  {
   "cell_type": "markdown",
   "id": "33f58f57-79c0-477a-8228-e7bebc9cce1d",
   "metadata": {},
   "source": [
    "### Exercise \n",
    "\n",
    "How can currying be put to practical use ?"
   ]
  },
  {
   "cell_type": "markdown",
   "id": "6796231a-6bea-434b-af14-0b5b0a2df1a2",
   "metadata": {},
   "source": [
    "### Solution"
   ]
  },
  {
   "cell_type": "markdown",
   "id": "354298bd-3a0f-489b-ac56-7e2f709dac67",
   "metadata": {},
   "source": [
    "Currying allows a programmer to provide a way of adding extra parameters to a function whilst still allowing it to be **Reused** in other code. A strategy in the pig game provides an excellent example of a use case for the **curry** pattern. "
   ]
  },
  {
   "cell_type": "markdown",
   "id": "ba55a277-7d57-4488-8392-1d5057e1f497",
   "metadata": {},
   "source": [
    "### Exercise\n",
    "\n",
    "Try and use **curried** strategies in your pig competition code."
   ]
  },
  {
   "cell_type": "markdown",
   "id": "5e28bc4d-18dd-48ef-b539-7b7863492a21",
   "metadata": {},
   "source": [
    "## Pattern 3 - Partial Application"
   ]
  },
  {
   "cell_type": "markdown",
   "id": "a108baaf-606d-4549-bab7-5b3044408503",
   "metadata": {},
   "source": [
    "Closely related to **Currying**, partial application accepts a function, freezes one or more of its arguments , and returns a new function with a reduced number of arguments. The frozen arguments are often referred to as the \"bound\" arguments or \"bound\" values."
   ]
  },
  {
   "cell_type": "code",
   "execution_count": 37,
   "id": "19039728-d6d8-441a-b631-f9eec89dbede",
   "metadata": {},
   "outputs": [],
   "source": [
    "def f(a,b,c) :\n",
    "    return (2**a)*(3**b)*(5**c)"
   ]
  },
  {
   "cell_type": "code",
   "execution_count": 17,
   "id": "7f81075b-eafe-41b2-ab26-bcea952b5865",
   "metadata": {},
   "outputs": [
    {
     "data": {
      "text/plain": [
       "2700"
      ]
     },
     "execution_count": 17,
     "metadata": {},
     "output_type": "execute_result"
    }
   ],
   "source": [
    "f(2,3,2)"
   ]
  },
  {
   "cell_type": "code",
   "execution_count": 19,
   "id": "fd89576b-299d-448c-b430-3c4a29a9e51b",
   "metadata": {},
   "outputs": [
    {
     "data": {
      "text/plain": [
       "2700"
      ]
     },
     "execution_count": 19,
     "metadata": {},
     "output_type": "execute_result"
    }
   ],
   "source": [
    "from functools import partial\n",
    "\n",
    "g = partial(f,b=3)\n",
    "g(a=2,c=2)"
   ]
  },
  {
   "cell_type": "markdown",
   "id": "83ce1053-508b-4f88-81a2-81ce51a36d3e",
   "metadata": {},
   "source": [
    "### Exercise\n",
    "\n",
    "How does partial application differ from Currying ?\n",
    "\n",
    "What effect does the position of the \"bound\" arguments have on the way the partially applied function is used ?"
   ]
  },
  {
   "cell_type": "markdown",
   "id": "cbebdc56-8965-42e8-a62a-67907aa947ea",
   "metadata": {},
   "source": [
    "## Pattern 4 - Classes and Objects"
   ]
  },
  {
   "cell_type": "markdown",
   "id": "da2b411c-7ebe-48ea-95ce-eae750c97c0e",
   "metadata": {},
   "source": [
    "### Motivating Problem"
   ]
  },
  {
   "cell_type": "markdown",
   "id": "e481b80e-c188-41e7-9877-d9de0a3f66f6",
   "metadata": {},
   "source": [
    "Here is a simple function"
   ]
  },
  {
   "cell_type": "code",
   "execution_count": 35,
   "id": "59525e85-44e6-4ef0-b2b0-4c84eb261d57",
   "metadata": {},
   "outputs": [],
   "source": [
    "def f(x) :\n",
    "    return 2*x"
   ]
  },
  {
   "cell_type": "markdown",
   "id": "49c06598-9630-4145-a739-57fe36afcdfd",
   "metadata": {},
   "source": [
    "Now imagine you want to keep track of how many times this function gets used in a big program."
   ]
  },
  {
   "cell_type": "markdown",
   "id": "dfb34094-4f77-440f-8396-ba670d0f75c7",
   "metadata": {},
   "source": [
    "### Solution"
   ]
  },
  {
   "cell_type": "code",
   "execution_count": 36,
   "id": "c6e4eeed-8d49-492c-bbdb-b7545df042a6",
   "metadata": {},
   "outputs": [
    {
     "name": "stdout",
     "output_type": "stream",
     "text": [
      "f was called 12 times\n"
     ]
    }
   ],
   "source": [
    "count = 0\n",
    "\n",
    "for i in range(10) :\n",
    "    f(i)\n",
    "    count = count + 1\n",
    "# ... lots more code\n",
    "# ...\n",
    "\n",
    "# somewhere else in your program\n",
    "y = f(8)\n",
    "count = count + 1\n",
    "\n",
    "# ... lots more code\n",
    "# ...\n",
    "\n",
    "# somewhere else in your program\n",
    "z = f(3)/2\n",
    "count += 1\n",
    "\n",
    "# ... lots more code\n",
    "# ...\n",
    "\n",
    "### and finally\n",
    "print(\"f was called \" + str(count) + \" times\")"
   ]
  },
  {
   "cell_type": "markdown",
   "id": "c2500420-6e75-4da2-afcc-822f1bdf7517",
   "metadata": {},
   "source": [
    "### Exercise \n",
    "\n",
    "What are the potential problems with this solution ?\n",
    "\n",
    "Broadly speaking, how would you score this solution with respect to the **5Rs** ? "
   ]
  },
  {
   "cell_type": "markdown",
   "id": "da828888-1466-428f-a388-24b96fa5a19b",
   "metadata": {},
   "source": [
    "### Exercise \n",
    "\n",
    "Design an alternative approach counting the number of times **f** gets used. \n",
    "\n",
    "Does your approach have any advantages over the original solution ? \n",
    "\n",
    "How would you rate your solution with respect to the **5Rs**"
   ]
  },
  {
   "cell_type": "markdown",
   "id": "5229bdac-f0cd-400c-b3aa-c4d58f86eda6",
   "metadata": {},
   "source": [
    "### Exercise"
   ]
  },
  {
   "cell_type": "markdown",
   "id": "24311a8a-302e-4d3d-bf63-43263395d06e",
   "metadata": {},
   "source": [
    "Consider the following function"
   ]
  },
  {
   "cell_type": "code",
   "execution_count": 29,
   "id": "712ff241-91dc-4410-a6df-94d5314fc463",
   "metadata": {},
   "outputs": [],
   "source": [
    "def agent() :\n",
    "    state = 0.71\n",
    "    def update(x) :\n",
    "        nonlocal state\n",
    "        state = sin(state)\n",
    "        return x*state\n",
    "    return update\n",
    "    "
   ]
  },
  {
   "cell_type": "markdown",
   "id": "99c60472-d79c-4c15-a914-897bca9e4873",
   "metadata": {},
   "source": [
    "and see if you can predict what the following code does."
   ]
  },
  {
   "cell_type": "code",
   "execution_count": 33,
   "id": "4c6c32af-1acf-46f3-9a34-1682494e4033",
   "metadata": {},
   "outputs": [
    {
     "name": "stdout",
     "output_type": "stream",
     "text": [
      "0.6518337710215366\n",
      "0.6518337710215366\n",
      "0.6066452227835972\n",
      "0.5701145050885391\n",
      "0.6066452227835972\n"
     ]
    }
   ],
   "source": [
    "agent_1 = agent()\n",
    "agent_2 = agent()\n",
    "\n",
    "print(agent_1(1))\n",
    "print(agent_2(1))\n",
    "print(agent_1(1))\n",
    "print(agent_1(1))\n",
    "print(agent_2(1))\n",
    "\n"
   ]
  },
  {
   "cell_type": "markdown",
   "id": "f16bfb3e-ab9f-475b-81a1-392ee595d487",
   "metadata": {},
   "source": [
    "### Closures, Classes, and Objects"
   ]
  },
  {
   "cell_type": "markdown",
   "id": "c289899e-20ec-470e-898b-7b183510b515",
   "metadata": {},
   "source": [
    "The function **logf** is called a **closure**. It is a function. However, it is a function with extra information. The extra information is provided by the enclosing scope of the function (**f** in this case) within which the (nested) function **g** is defined. \n",
    "\n",
    "In general, a function that returns other functions is called a **class**, and the functions returned are called **objects**. If the **objects** have access to the data inside the scope of the **class** then they are **closures**. Note a **closure** is not a nested function, it is the **object** that corresponds to the nested function that is the **closure**. \n",
    "\n",
    "A program that makes use of **classes** and **objects** employs the programming paradigm known as **object based programming**. "
   ]
  },
  {
   "cell_type": "markdown",
   "id": "dfbe374b-8172-4b49-97c3-c297523996fe",
   "metadata": {},
   "source": [
    "### Exercise\n",
    "\n",
    "How does using the **logger** class rate as a solution to the motivating problem ? \n",
    "\n",
    "What problem(s) does using the **logger** class present ? \n",
    "\n",
    "Can you modify the **logger** class to overcome this problem(s) ?\n",
    "\n",
    "Think of, and then describe, some use cases for **object based** programming. "
   ]
  },
  {
   "cell_type": "markdown",
   "id": "b48021ce-eb93-4d30-97c9-24cbb44d4898",
   "metadata": {},
   "source": [
    "### Possible solution"
   ]
  },
  {
   "cell_type": "code",
   "execution_count": 16,
   "id": "1aee13fa-87e2-4d83-bf44-c529e7fdbfff",
   "metadata": {},
   "outputs": [],
   "source": [
    "def logger(f) :\n",
    "    count = 0\n",
    "    def call(x) :\n",
    "        nonlocal count \n",
    "        count += 1\n",
    "        return f(x)\n",
    "    def log() :\n",
    "        nonlocal count\n",
    "        return count\n",
    "    return call,log"
   ]
  },
  {
   "cell_type": "code",
   "execution_count": 20,
   "id": "1d11ab1f-d01d-4cc8-9d7b-397e240212e1",
   "metadata": {},
   "outputs": [
    {
     "data": {
      "text/plain": [
       "10"
      ]
     },
     "execution_count": 20,
     "metadata": {},
     "output_type": "execute_result"
    }
   ],
   "source": [
    "call,log = logger(f)\n",
    "\n",
    "for i in range(10) :\n",
    "    call(i)  ## function gets used in the same way as the original\n",
    "\n",
    "log()"
   ]
  },
  {
   "cell_type": "markdown",
   "id": "52b4d05f-c0bf-4388-8058-e5ba7d3fb46d",
   "metadata": {},
   "source": [
    "## Pattern 5 - Memoisation\n",
    "\n"
   ]
  },
  {
   "cell_type": "markdown",
   "id": "0df18826-59b3-49e0-a1b8-c95d2add337b",
   "metadata": {},
   "source": [
    "Memoisation is an example of an **object based** pattern. Here is a way it might be implemented in python."
   ]
  },
  {
   "cell_type": "code",
   "execution_count": 4,
   "id": "a36f1e73-acfd-4e03-b586-56a1ae0f877e",
   "metadata": {},
   "outputs": [],
   "source": [
    "def memoise(f) :\n",
    "    cache=dict()\n",
    "    def mf(x) :\n",
    "        nonlocal cache\n",
    "        if not x in cache :\n",
    "            cache[x] = f(x)\n",
    "        return cache[x]\n",
    "    return mf"
   ]
  },
  {
   "cell_type": "markdown",
   "id": "0f1690e4-0065-4555-9236-eed7c331adbd",
   "metadata": {},
   "source": [
    "### Exercise\n",
    "\n",
    "Can you work out what this pattern is designed to do ?\n",
    "\n",
    "Experiment with the following code to see what **memoisation** does."
   ]
  },
  {
   "cell_type": "code",
   "execution_count": 2,
   "id": "2943390e-9103-40d4-97c3-4134aa4920ee",
   "metadata": {},
   "outputs": [
    {
     "name": "stdout",
     "output_type": "stream",
     "text": [
      "calling f\n",
      "6\n",
      "calling f\n",
      "6\n"
     ]
    }
   ],
   "source": [
    "def f(x) :\n",
    "    print(\"calling f\")\n",
    "    return 2*x\n",
    "y = f(3)\n",
    "print(y)\n",
    "y = f(3)\n",
    "print(y)\n"
   ]
  },
  {
   "cell_type": "code",
   "execution_count": 5,
   "id": "d610f9df-3af1-473e-babb-42e490930735",
   "metadata": {},
   "outputs": [
    {
     "name": "stdout",
     "output_type": "stream",
     "text": [
      "calling f\n",
      "6\n",
      "6\n"
     ]
    }
   ],
   "source": [
    "mem_f = memoise(f)\n",
    "y = mem_f(3)\n",
    "print(y)\n",
    "y = mem_f(3)\n",
    "print(y)"
   ]
  },
  {
   "cell_type": "markdown",
   "id": "bb653aa6-c65e-49c9-acaf-941ade70e011",
   "metadata": {},
   "source": [
    "### Exercise\n",
    "\n",
    "Think of, and describe, some use cases for **memoisation**. "
   ]
  },
  {
   "cell_type": "markdown",
   "id": "c0405a6d-f4ed-49d2-b96c-430d4abc22de",
   "metadata": {},
   "source": [
    "### Exercise\n",
    "\n",
    "If you can, have a go at implementing **memoisation** in another language. "
   ]
  },
  {
   "cell_type": "markdown",
   "id": "d65910d8-8f6d-4cc6-80c6-46738fc32b13",
   "metadata": {},
   "source": [
    "### Exercise\n",
    "\n",
    "Are there any obvious problems with the **memoise** function presented above ?"
   ]
  },
  {
   "cell_type": "markdown",
   "id": "c748cfc4-d4e9-45f5-9021-ec9d38f2ac8f",
   "metadata": {},
   "source": [
    "### A more robust implementation of memoisation"
   ]
  },
  {
   "cell_type": "code",
   "execution_count": 22,
   "id": "49c46f8d-fc38-40cc-8537-d785c706bea4",
   "metadata": {},
   "outputs": [
    {
     "name": "stdout",
     "output_type": "stream",
     "text": [
      "adding !!\n",
      "adding !!\n"
     ]
    },
    {
     "data": {
      "text/plain": [
       "3"
      ]
     },
     "execution_count": 22,
     "metadata": {},
     "output_type": "execute_result"
    }
   ],
   "source": [
    "from functools import cache\n",
    "\n",
    "@cache\n",
    "def g(x,y) :\n",
    "    print(\"adding !!\")\n",
    "    return x +y\n",
    "\n",
    "g(1,2)\n",
    "g(3,4)\n",
    "g(1,2)\n"
   ]
  },
  {
   "cell_type": "markdown",
   "id": "b4717202-683c-4fa2-9df2-d37342edf471",
   "metadata": {},
   "source": [
    "## Structural Pattern Matching"
   ]
  },
  {
   "cell_type": "code",
   "execution_count": 9,
   "id": "bbddb4bc-af21-4a5d-9b18-88f1a726264b",
   "metadata": {},
   "outputs": [],
   "source": [
    "def compose(*funcs) :\n",
    "    match funcs :\n",
    "        case (f,g) :\n",
    "            def impl(x) :\n",
    "                nonlocal f,g\n",
    "                return g(f(x))\n",
    "            return impl\n",
    "            # return lambda x : g(f(x))\n",
    "        case (f,g,*tail) :\n",
    "            return compose(compose(f,g),*tail)"
   ]
  },
  {
   "cell_type": "markdown",
   "id": "94d8d4da-302a-4266-9d83-6d58f1a201da",
   "metadata": {},
   "source": [
    "## Map, Filter, Reduce"
   ]
  },
  {
   "cell_type": "code",
   "execution_count": 10,
   "id": "55bf0895-19fa-41d5-8d7a-a56e913f687a",
   "metadata": {},
   "outputs": [],
   "source": [
    "from pymonad.tools import curry   \n",
    "from time import sleep"
   ]
  },
  {
   "cell_type": "code",
   "execution_count": 11,
   "id": "ad616575-3333-4aea-afaa-879b47a6b204",
   "metadata": {},
   "outputs": [],
   "source": [
    "@curry(1)\n",
    "def f(x) :\n",
    "    sleep(5)\n",
    "    return 3*x"
   ]
  },
  {
   "cell_type": "code",
   "execution_count": 12,
   "id": "e759b4ab-0516-404e-b6d2-9d144596d2fa",
   "metadata": {},
   "outputs": [],
   "source": [
    "from functools import reduce"
   ]
  },
  {
   "cell_type": "code",
   "execution_count": 13,
   "id": "839a376f-cb8f-4f62-91e2-711d68d407cc",
   "metadata": {},
   "outputs": [],
   "source": [
    "def g(a,b) :\n",
    "    return a+b"
   ]
  },
  {
   "cell_type": "code",
   "execution_count": 14,
   "id": "801528e7-af3d-48ac-aa69-75e8d198d226",
   "metadata": {},
   "outputs": [],
   "source": [
    "Map = curry(2,map)\n",
    "Filter = curry(2,filter)\n",
    "Reduce = curry(2,reduce)\n",
    "\n"
   ]
  },
  {
   "cell_type": "code",
   "execution_count": 27,
   "id": "97373a83-63a9-49de-8079-084fd50bbc71",
   "metadata": {},
   "outputs": [],
   "source": [
    "h = compose(Map(f),Reduce(g))\n",
    "# h = compose(Map(f),Filter(lambda x : x%2),Reduce(g))"
   ]
  },
  {
   "cell_type": "code",
   "execution_count": 28,
   "id": "39119352-1573-4b9e-b4f5-92876bff940c",
   "metadata": {},
   "outputs": [
    {
     "data": {
      "text/plain": [
       "18"
      ]
     },
     "execution_count": 28,
     "metadata": {},
     "output_type": "execute_result"
    }
   ],
   "source": [
    "h([1,2,3])\n",
    "\n",
    "    "
   ]
  },
  {
   "cell_type": "code",
   "execution_count": 17,
   "id": "58c6331d-dc7e-4ef4-978f-442d81a4a20f",
   "metadata": {},
   "outputs": [],
   "source": [
    "# note - use multiprocess, not multiprocessing - the former uses dill and can dump \n",
    "# closures,lambdas etc\n",
    "from multiprocess import Pool \n",
    "@curry(3)\n",
    "def pmap(cores,f,args) :\n",
    "    with Pool(cores) as P:\n",
    "        return P.map(f, args)"
   ]
  },
  {
   "cell_type": "code",
   "execution_count": 30,
   "id": "b08236e3-915b-4b2b-8472-428c0e39b893",
   "metadata": {},
   "outputs": [
    {
     "data": {
      "text/plain": [
       "[18, 45]"
      ]
     },
     "execution_count": 30,
     "metadata": {},
     "output_type": "execute_result"
    }
   ],
   "source": [
    "list(pmap(3)(h)([[1,2,3],[4,5,6]]))"
   ]
  },
  {
   "cell_type": "code",
   "execution_count": 20,
   "id": "42277841-6eda-4c48-9cc2-6635f51815b6",
   "metadata": {},
   "outputs": [],
   "source": [
    "blob = compose(Map(f),Reduce(g))"
   ]
  },
  {
   "cell_type": "code",
   "execution_count": 19,
   "id": "53d9fb62-c62c-4c0e-abb0-9712308cf3e2",
   "metadata": {},
   "outputs": [
    {
     "ename": "TypeError",
     "evalue": "'function' object is not iterable",
     "output_type": "error",
     "traceback": [
      "\u001b[0;31m---------------------------------------------------------------------------\u001b[0m",
      "\u001b[0;31mTypeError\u001b[0m                                 Traceback (most recent call last)",
      "Cell \u001b[0;32mIn[19], line 1\u001b[0m\n\u001b[0;32m----> 1\u001b[0m compose(\u001b[43mpmap\u001b[49m\u001b[43m(\u001b[49m\u001b[38;5;241;43m3\u001b[39;49m\u001b[43m,\u001b[49m\u001b[43mcompose\u001b[49m\u001b[43m(\u001b[49m\u001b[43mMap\u001b[49m\u001b[43m(\u001b[49m\u001b[43mf\u001b[49m\u001b[43m)\u001b[49m\u001b[43m,\u001b[49m\u001b[43mReduce\u001b[49m\u001b[43m(\u001b[49m\u001b[43mg\u001b[49m\u001b[43m)\u001b[49m\u001b[43m)\u001b[49m\u001b[43m,\u001b[49m\u001b[43mReduce\u001b[49m\u001b[43m(\u001b[49m\u001b[43mg\u001b[49m\u001b[43m)\u001b[49m\u001b[43m)\u001b[49m)\n",
      "File \u001b[0;32m~/STOR-609-env/env/lib/python3.11/site-packages/pymonad/tools.py:50\u001b[0m, in \u001b[0;36m_curry_helper.<locals>._curry_internal\u001b[0;34m(*arguments)\u001b[0m\n\u001b[1;32m     48\u001b[0m all_arguments\u001b[38;5;241m.\u001b[39mextend(arguments)\n\u001b[1;32m     49\u001b[0m \u001b[38;5;28;01mif\u001b[39;00m \u001b[38;5;28mlen\u001b[39m(all_arguments) \u001b[38;5;241m>\u001b[39m\u001b[38;5;241m=\u001b[39m number_of_arguments: \u001b[38;5;66;03m# pylint: disable=no-else-return\u001b[39;00m\n\u001b[0;32m---> 50\u001b[0m     \u001b[38;5;28;01mreturn\u001b[39;00m \u001b[43mfunction_to_curry\u001b[49m\u001b[43m(\u001b[49m\u001b[38;5;241;43m*\u001b[39;49m\u001b[43mall_arguments\u001b[49m\u001b[43m)\u001b[49m\n\u001b[1;32m     51\u001b[0m \u001b[38;5;28;01melse\u001b[39;00m:\n\u001b[1;32m     52\u001b[0m     \u001b[38;5;28;01mreturn\u001b[39;00m _curry_helper(number_of_arguments, function_to_curry, all_arguments)\n",
      "Cell \u001b[0;32mIn[17], line 5\u001b[0m, in \u001b[0;36mpmap\u001b[0;34m(cores, f, args)\u001b[0m\n\u001b[1;32m      2\u001b[0m \u001b[38;5;129m@curry\u001b[39m(\u001b[38;5;241m3\u001b[39m)\n\u001b[1;32m      3\u001b[0m \u001b[38;5;28;01mdef\u001b[39;00m \u001b[38;5;21mpmap\u001b[39m(cores,f,args) :\n\u001b[1;32m      4\u001b[0m     \u001b[38;5;28;01mwith\u001b[39;00m Pool(cores) \u001b[38;5;28;01mas\u001b[39;00m P:\n\u001b[0;32m----> 5\u001b[0m         \u001b[38;5;28;01mreturn\u001b[39;00m \u001b[43mP\u001b[49m\u001b[38;5;241;43m.\u001b[39;49m\u001b[43mmap\u001b[49m\u001b[43m(\u001b[49m\u001b[43mf\u001b[49m\u001b[43m,\u001b[49m\u001b[43m \u001b[49m\u001b[43margs\u001b[49m\u001b[43m)\u001b[49m\n",
      "File \u001b[0;32m~/STOR-609-env/env/lib/python3.11/site-packages/multiprocess/pool.py:367\u001b[0m, in \u001b[0;36mPool.map\u001b[0;34m(self, func, iterable, chunksize)\u001b[0m\n\u001b[1;32m    362\u001b[0m \u001b[38;5;28;01mdef\u001b[39;00m \u001b[38;5;21mmap\u001b[39m(\u001b[38;5;28mself\u001b[39m, func, iterable, chunksize\u001b[38;5;241m=\u001b[39m\u001b[38;5;28;01mNone\u001b[39;00m):\n\u001b[1;32m    363\u001b[0m \u001b[38;5;250m    \u001b[39m\u001b[38;5;124;03m'''\u001b[39;00m\n\u001b[1;32m    364\u001b[0m \u001b[38;5;124;03m    Apply `func` to each element in `iterable`, collecting the results\u001b[39;00m\n\u001b[1;32m    365\u001b[0m \u001b[38;5;124;03m    in a list that is returned.\u001b[39;00m\n\u001b[1;32m    366\u001b[0m \u001b[38;5;124;03m    '''\u001b[39;00m\n\u001b[0;32m--> 367\u001b[0m     \u001b[38;5;28;01mreturn\u001b[39;00m \u001b[38;5;28;43mself\u001b[39;49m\u001b[38;5;241;43m.\u001b[39;49m\u001b[43m_map_async\u001b[49m\u001b[43m(\u001b[49m\u001b[43mfunc\u001b[49m\u001b[43m,\u001b[49m\u001b[43m \u001b[49m\u001b[43miterable\u001b[49m\u001b[43m,\u001b[49m\u001b[43m \u001b[49m\u001b[43mmapstar\u001b[49m\u001b[43m,\u001b[49m\u001b[43m \u001b[49m\u001b[43mchunksize\u001b[49m\u001b[43m)\u001b[49m\u001b[38;5;241m.\u001b[39mget()\n",
      "File \u001b[0;32m~/STOR-609-env/env/lib/python3.11/site-packages/multiprocess/pool.py:478\u001b[0m, in \u001b[0;36mPool._map_async\u001b[0;34m(self, func, iterable, mapper, chunksize, callback, error_callback)\u001b[0m\n\u001b[1;32m    476\u001b[0m \u001b[38;5;28mself\u001b[39m\u001b[38;5;241m.\u001b[39m_check_running()\n\u001b[1;32m    477\u001b[0m \u001b[38;5;28;01mif\u001b[39;00m \u001b[38;5;129;01mnot\u001b[39;00m \u001b[38;5;28mhasattr\u001b[39m(iterable, \u001b[38;5;124m'\u001b[39m\u001b[38;5;124m__len__\u001b[39m\u001b[38;5;124m'\u001b[39m):\n\u001b[0;32m--> 478\u001b[0m     iterable \u001b[38;5;241m=\u001b[39m \u001b[38;5;28;43mlist\u001b[39;49m\u001b[43m(\u001b[49m\u001b[43miterable\u001b[49m\u001b[43m)\u001b[49m\n\u001b[1;32m    480\u001b[0m \u001b[38;5;28;01mif\u001b[39;00m chunksize \u001b[38;5;129;01mis\u001b[39;00m \u001b[38;5;28;01mNone\u001b[39;00m:\n\u001b[1;32m    481\u001b[0m     chunksize, extra \u001b[38;5;241m=\u001b[39m \u001b[38;5;28mdivmod\u001b[39m(\u001b[38;5;28mlen\u001b[39m(iterable), \u001b[38;5;28mlen\u001b[39m(\u001b[38;5;28mself\u001b[39m\u001b[38;5;241m.\u001b[39m_pool) \u001b[38;5;241m*\u001b[39m \u001b[38;5;241m4\u001b[39m)\n",
      "\u001b[0;31mTypeError\u001b[0m: 'function' object is not iterable"
     ]
    }
   ],
   "source": [
    "compose(pmap(3,compose(Map(f),Reduce(g)),Reduce(g)))"
   ]
  },
  {
   "cell_type": "code",
   "execution_count": 222,
   "id": "f07873ab-ead4-41b4-b0b5-9babb51c8820",
   "metadata": {},
   "outputs": [],
   "source": [
    "Map = pmap(3)"
   ]
  },
  {
   "cell_type": "code",
   "execution_count": 223,
   "id": "82ba741d-fe10-45da-a6af-fe7a49a0f01e",
   "metadata": {},
   "outputs": [],
   "source": [
    "h = compose(Map(f),Filter(lambda x : x%2),Reduce(g))"
   ]
  },
  {
   "cell_type": "code",
   "execution_count": 224,
   "id": "b212db43-86ac-4aea-8aeb-712f21d97729",
   "metadata": {},
   "outputs": [
    {
     "data": {
      "text/plain": [
       "12"
      ]
     },
     "execution_count": 224,
     "metadata": {},
     "output_type": "execute_result"
    }
   ],
   "source": [
    "h([1,2,3])"
   ]
  },
  {
   "cell_type": "code",
   "execution_count": null,
   "id": "9533a39f-3e46-48f0-aaf7-540eaeb8e4e2",
   "metadata": {},
   "outputs": [],
   "source": []
  },
  {
   "cell_type": "code",
   "execution_count": 170,
   "id": "5d807c07-4eef-458f-bae5-d612182d3bdb",
   "metadata": {},
   "outputs": [],
   "source": [
    "compose(Map(f),"
   ]
  },
  {
   "cell_type": "code",
   "execution_count": null,
   "id": "971f5044-d6a5-486a-ae2c-01d77e67aa9b",
   "metadata": {},
   "outputs": [],
   "source": []
  },
  {
   "cell_type": "code",
   "execution_count": null,
   "id": "4e54d385-6cd8-4fbc-84df-5b291be6386d",
   "metadata": {},
   "outputs": [],
   "source": []
  },
  {
   "cell_type": "code",
   "execution_count": 42,
   "id": "3ddd6813-a563-4d25-ac42-68e63fff730b",
   "metadata": {},
   "outputs": [
    {
     "name": "stdout",
     "output_type": "stream",
     "text": [
      "1\n",
      "2\n",
      "3\n",
      "4\n"
     ]
    },
    {
     "ename": "StopIteration",
     "evalue": "",
     "output_type": "error",
     "traceback": [
      "\u001b[0;31m---------------------------------------------------------------------------\u001b[0m",
      "\u001b[0;31mStopIteration\u001b[0m                             Traceback (most recent call last)",
      "Cell \u001b[0;32mIn[42], line 7\u001b[0m\n\u001b[1;32m      5\u001b[0m \u001b[38;5;28mprint\u001b[39m(\u001b[38;5;28mnext\u001b[39m(it))\n\u001b[1;32m      6\u001b[0m \u001b[38;5;28mprint\u001b[39m(\u001b[38;5;28mnext\u001b[39m(it))\n\u001b[0;32m----> 7\u001b[0m \u001b[38;5;28mprint\u001b[39m(\u001b[38;5;28;43mnext\u001b[39;49m\u001b[43m(\u001b[49m\u001b[43mit\u001b[49m\u001b[43m)\u001b[49m)\n",
      "\u001b[0;31mStopIteration\u001b[0m: "
     ]
    }
   ],
   "source": [
    "X = [1,2,3,4]\n",
    "it = iter(X)\n",
    "print(next(it))\n",
    "print(next(it))\n",
    "print(next(it))\n",
    "print(next(it))\n",
    "print(next(it))"
   ]
  },
  {
   "cell_type": "code",
   "execution_count": 64,
   "id": "e8a5a472-b477-42bc-b241-c97be6b58eae",
   "metadata": {},
   "outputs": [],
   "source": [
    "set_X = {'f','b','n','v','b','f','n'} # set\n",
    "map_X_Y = {'f' : 5, 'b' : 2, 'v' : 22, 'n' : 14} # function (a subset of X x Y)\n",
    "list_N_Y = [5,2,22,14] # ordered set (a subset of N x Y)\n",
    "tuple_N_Y = (5,2,22,14) # immutable ordered set (a subset of N x Y)\n",
    "\n"
   ]
  },
  {
   "cell_type": "code",
   "execution_count": 65,
   "id": "f862a3dd-12af-4ef8-8778-264b68661088",
   "metadata": {},
   "outputs": [
    {
     "name": "stdout",
     "output_type": "stream",
     "text": [
      "n\n",
      "b\n",
      "f\n",
      "v\n"
     ]
    }
   ],
   "source": [
    "for i in set_X :\n",
    "    print(i)"
   ]
  },
  {
   "cell_type": "code",
   "execution_count": 58,
   "id": "f0b34a62-98af-4bc4-9d20-bcfdb4aee7b0",
   "metadata": {},
   "outputs": [
    {
     "name": "stdout",
     "output_type": "stream",
     "text": [
      "f\n",
      "b\n",
      "v\n",
      "n\n"
     ]
    }
   ],
   "source": [
    "for i in map_X_Y :\n",
    "    print(i)"
   ]
  },
  {
   "cell_type": "code",
   "execution_count": 60,
   "id": "084c8be9-75b1-423f-ba53-ca4077083ad6",
   "metadata": {},
   "outputs": [
    {
     "name": "stdout",
     "output_type": "stream",
     "text": [
      "5\n",
      "2\n",
      "22\n",
      "14\n"
     ]
    }
   ],
   "source": [
    "for i in list_N_Y :\n",
    "    print(i)"
   ]
  },
  {
   "cell_type": "code",
   "execution_count": 61,
   "id": "d1891b10-f63a-41c4-83cb-b9309722bce2",
   "metadata": {},
   "outputs": [
    {
     "name": "stdout",
     "output_type": "stream",
     "text": [
      "5\n",
      "2\n",
      "22\n",
      "14\n"
     ]
    }
   ],
   "source": [
    "for i in tuple_N_Y :\n",
    "    print(i)"
   ]
  },
  {
   "cell_type": "code",
   "execution_count": 62,
   "id": "6f2ea242-8744-4374-9596-e4e96480f27c",
   "metadata": {},
   "outputs": [
    {
     "name": "stdout",
     "output_type": "stream",
     "text": [
      "0 5\n",
      "1 2\n",
      "2 22\n",
      "3 14\n"
     ]
    }
   ],
   "source": [
    "for n,y in enumerate(list_N_Y) :\n",
    "    print(n,y)"
   ]
  },
  {
   "cell_type": "code",
   "execution_count": 63,
   "id": "3764889d-7e01-4ecb-95a7-c6f0be0af81d",
   "metadata": {},
   "outputs": [
    {
     "name": "stdout",
     "output_type": "stream",
     "text": [
      "0 f\n",
      "1 b\n",
      "2 v\n",
      "3 n\n"
     ]
    }
   ],
   "source": [
    "for n,y in enumerate(map_X_Y) :\n",
    "    print(n,y)"
   ]
  },
  {
   "cell_type": "code",
   "execution_count": null,
   "id": "7cd72d8f-4afb-44cd-956c-635b9b758b9c",
   "metadata": {},
   "outputs": [],
   "source": []
  },
  {
   "cell_type": "code",
   "execution_count": null,
   "id": "c41bb706-56bc-416e-bbcb-282831b16237",
   "metadata": {},
   "outputs": [],
   "source": []
  },
  {
   "cell_type": "code",
   "execution_count": null,
   "id": "c562ac4d-df15-4dfe-9e52-cea87f2e812c",
   "metadata": {},
   "outputs": [],
   "source": []
  }
 ],
 "metadata": {
  "kernelspec": {
   "display_name": "Python 3 (ipykernel)",
   "language": "python",
   "name": "python3"
  },
  "language_info": {
   "codemirror_mode": {
    "name": "ipython",
    "version": 3
   },
   "file_extension": ".py",
   "mimetype": "text/x-python",
   "name": "python",
   "nbconvert_exporter": "python",
   "pygments_lexer": "ipython3",
   "version": "3.12.3"
  }
 },
 "nbformat": 4,
 "nbformat_minor": 5
}
