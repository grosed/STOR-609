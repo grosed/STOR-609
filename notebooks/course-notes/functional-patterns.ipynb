{
 "cells": [
  {
   "cell_type": "markdown",
   "id": "474700fa-6b4f-45d9-bb6a-af7098041e85",
   "metadata": {},
   "source": [
    "Functional programming means thinking in terms of mathematical functions. Strict functional programming languages, such as Haskell, provide abstractions for functions which a very similar to their mathematical counterparts. However, most programming languages do not do this so well. Does this mean that the idea of modelling our abstractions in terms of mathematical functions is inappropriate when using these languages ?\n",
    "\n",
    "A basic premise of this course is that, at least for many modern programming languages, this is not the case. The key to making this approach work is to understand the differences between a mathematical function and a function within the language being used, and then find effective ways of working around these differences.  \n",
    "\n",
    "What then are the minimal requirements of a programming language for it to be able to support the use functional patterns ? The primary requirement is support for **Higher Order Programming**.\n",
    "\n"
   ]
  },
  {
   "cell_type": "markdown",
   "id": "22ad4c41-b4eb-4aa8-9d60-fe749b7c62c8",
   "metadata": {},
   "source": [
    "## Higher Order Programming"
   ]
  },
  {
   "cell_type": "markdown",
   "id": "2b7ef912-ff8c-45aa-8c42-6006b602e9af",
   "metadata": {},
   "source": [
    "## Currying"
   ]
  },
  {
   "cell_type": "markdown",
   "id": "5eab2554-d9ef-4f8c-9f6b-c20564d6a1a0",
   "metadata": {},
   "source": [
    "<figure>\n",
    "<img src=\"./HaskellBCurry.jpg\" style=\"height:20% display:inline-block\">\n",
    "<img src=\"./curry.jpeg\" style=\"height:20% display:inline-block\">\n",
    "<figcaption align = \"center\"> Curry - a popular dish (left). Haskell B Curry - a computer scientist (right). </figcaption>\n",
    "</figure>"
   ]
  },
  {
   "cell_type": "markdown",
   "id": "eda46b89-028b-41d1-8d19-6cadd5d38250",
   "metadata": {},
   "source": [
    "In mathematics a function $f$ can be completely specified in terms of its graph $\\Gamma_{f}$. The graph is a (possibly infinite) set of ordered pairs. For example\n",
    "\n",
    "$\\Gamma_{f} = \\left\\{  (1,1),(2,4),(3,9) \\right\\}$\n",
    "\n",
    "which conceptually maps the first element of a given pair to the second. This is emphasised through the notation $f(1) = 1$ and $f(3) = 9$ and so on. \n"
   ]
  },
  {
   "cell_type": "markdown",
   "id": "697ebe2f-453a-4416-839a-743dfdeda850",
   "metadata": {},
   "source": [
    "### Exercise\n",
    "\n",
    "Give a small example of a graph of function of the form $f(x,y)$.\n",
    "\n",
    "Write a function in python that implements it.\n",
    "\n",
    "How many \"arguments\" does the mathematical function \"take\" ? \n",
    "\n",
    "How mant \"arguments\" does your python function \"take\" ?\n"
   ]
  },
  {
   "cell_type": "markdown",
   "id": "cd533aef-124a-446e-9022-4f41893097b6",
   "metadata": {},
   "source": [
    "So, mathematical functions map single value to single values. To make python functions behave in this way they can be **curried**. Here is an example."
   ]
  },
  {
   "cell_type": "code",
   "execution_count": 10,
   "id": "9534f644-4b23-4db3-be09-ee8f2bb943f0",
   "metadata": {},
   "outputs": [],
   "source": [
    "from pymonad.tools import curry    "
   ]
  },
  {
   "cell_type": "code",
   "execution_count": 9,
   "id": "da3256ab-f1c3-40f0-94a6-e5fa47849e18",
   "metadata": {},
   "outputs": [],
   "source": [
    "@curry(2)\n",
    "def f(x,y) :\n",
    "    return x + y"
   ]
  },
  {
   "cell_type": "code",
   "execution_count": 12,
   "id": "559e990d-b47f-42cd-8b9d-ea98a7828c46",
   "metadata": {},
   "outputs": [
    {
     "name": "stdout",
     "output_type": "stream",
     "text": [
      "5\n"
     ]
    }
   ],
   "source": [
    "z = f(2,3)  # function taking two arguments\n",
    "print(z)"
   ]
  },
  {
   "cell_type": "code",
   "execution_count": 13,
   "id": "321b7905-a67a-4269-a2c3-e3f607d8fc45",
   "metadata": {},
   "outputs": [
    {
     "name": "stdout",
     "output_type": "stream",
     "text": [
      "5\n"
     ]
    }
   ],
   "source": [
    "g = f(2) # f is a function of one argument that returns a function \n",
    "z = g(3)\n",
    "print(z)"
   ]
  },
  {
   "cell_type": "code",
   "execution_count": 14,
   "id": "4fc61e47-ddce-4e02-a977-5ec0c8b21313",
   "metadata": {},
   "outputs": [
    {
     "name": "stdout",
     "output_type": "stream",
     "text": [
      "5\n"
     ]
    }
   ],
   "source": [
    "z = f(2)(3)\n",
    "print(z)"
   ]
  },
  {
   "cell_type": "markdown",
   "id": "1a727a04-6798-43d4-9bea-4ff93385f96a",
   "metadata": {},
   "source": [
    "The \"**curry**\" pattern is slightly odd in that functional programming languages do not need it - all functions in a functional programming language are automatically \"**curried**\"."
   ]
  },
  {
   "cell_type": "markdown",
   "id": "33f58f57-79c0-477a-8228-e7bebc9cce1d",
   "metadata": {},
   "source": [
    "### Exercise \n",
    "\n",
    "How can currying be put to practical use ?"
   ]
  },
  {
   "cell_type": "markdown",
   "id": "6796231a-6bea-434b-af14-0b5b0a2df1a2",
   "metadata": {},
   "source": [
    "### Solution"
   ]
  },
  {
   "cell_type": "markdown",
   "id": "354298bd-3a0f-489b-ac56-7e2f709dac67",
   "metadata": {},
   "source": [
    "Currying allows a programmer to provide a way of adding extra parameters to a function whilst still allowing it to be **Reused** in other code. A strategy in the pig game provides an excellent example of a use case for the **curry** pattern. "
   ]
  },
  {
   "cell_type": "markdown",
   "id": "ba55a277-7d57-4488-8392-1d5057e1f497",
   "metadata": {},
   "source": [
    "### Exercise\n",
    "\n",
    "Try and use **curried** strategies in your pig competition code."
   ]
  },
  {
   "cell_type": "code",
   "execution_count": 6,
   "id": "2c33c41f-fd31-4e7f-8c42-c604bbbbba07",
   "metadata": {},
   "outputs": [],
   "source": [
    "def f(x,y=2) : return x*y"
   ]
  },
  {
   "cell_type": "code",
   "execution_count": 2,
   "id": "2b79026f-6304-4e38-890c-7a473d64c598",
   "metadata": {},
   "outputs": [],
   "source": [
    "import inspect\n",
    "    \n",
    "    "
   ]
  },
  {
   "cell_type": "code",
   "execution_count": 7,
   "id": "1ea0e3ef-1ead-4163-b73a-8af54adb61a6",
   "metadata": {},
   "outputs": [
    {
     "name": "stdout",
     "output_type": "stream",
     "text": [
      "x: POSITIONAL_OR_KEYWORD, Default: <class 'inspect._empty'>\n",
      "y: POSITIONAL_OR_KEYWORD, Default: 2\n"
     ]
    }
   ],
   "source": [
    "sig = inspect.signature(f)\n",
    "for name, param in sig.parameters.items():\n",
    "    print(f\"{name}: {param.kind}, Default: {param.default}\")"
   ]
  },
  {
   "cell_type": "code",
   "execution_count": 4,
   "id": "18827b5a-dc44-4df9-9345-148e0d032860",
   "metadata": {},
   "outputs": [
    {
     "ename": "TypeError",
     "evalue": "'Signature' object is not iterable",
     "output_type": "error",
     "traceback": [
      "\u001b[0;31m---------------------------------------------------------------------------\u001b[0m",
      "\u001b[0;31mTypeError\u001b[0m                                 Traceback (most recent call last)",
      "Cell \u001b[0;32mIn[4], line 1\u001b[0m\n\u001b[0;32m----> 1\u001b[0m \u001b[38;5;28;43;01mfor\u001b[39;49;00m\u001b[43m \u001b[49m\u001b[43mname\u001b[49m\u001b[43m,\u001b[49m\u001b[43mparam\u001b[49m\u001b[43m \u001b[49m\u001b[38;5;129;43;01min\u001b[39;49;00m\u001b[43m \u001b[49m\u001b[43minspect\u001b[49m\u001b[38;5;241;43m.\u001b[39;49m\u001b[43msignature\u001b[49m\u001b[43m(\u001b[49m\u001b[43mf\u001b[49m\u001b[43m)\u001b[49m\u001b[43m \u001b[49m\u001b[43m:\u001b[49m\n\u001b[1;32m      2\u001b[0m \u001b[43m    \u001b[49m\u001b[38;5;28;43mprint\u001b[39;49m\u001b[43m(\u001b[49m\u001b[43mname\u001b[49m\u001b[43m)\u001b[49m\n\u001b[1;32m      3\u001b[0m \u001b[43m    \u001b[49m\u001b[38;5;28;43mprint\u001b[39;49m\u001b[43m(\u001b[49m\u001b[43mparam\u001b[49m\u001b[43m)\u001b[49m\n",
      "\u001b[0;31mTypeError\u001b[0m: 'Signature' object is not iterable"
     ]
    }
   ],
   "source": [
    "for name,param in inspect.signature(f) :\n",
    "    print(name)\n",
    "    print(param)"
   ]
  }
 ],
 "metadata": {
  "kernelspec": {
   "display_name": "Python 3 (ipykernel)",
   "language": "python",
   "name": "python3"
  },
  "language_info": {
   "codemirror_mode": {
    "name": "ipython",
    "version": 3
   },
   "file_extension": ".py",
   "mimetype": "text/x-python",
   "name": "python",
   "nbconvert_exporter": "python",
   "pygments_lexer": "ipython3",
   "version": "3.11.0"
  }
 },
 "nbformat": 4,
 "nbformat_minor": 5
}
