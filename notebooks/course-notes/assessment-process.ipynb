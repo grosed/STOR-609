{
 "cells": [
  {
   "cell_type": "markdown",
   "id": "bf765946-8efe-4487-8644-b64b34ccac1c",
   "metadata": {},
   "source": [
    "# Assessment Process"
   ]
  },
  {
   "cell_type": "markdown",
   "id": "277daa17-77c2-4f3f-9225-e6f9e7d2dfd1",
   "metadata": {},
   "source": [
    "This course has three pieces of assessed work. Details of each assessment will be made available to students when each assessment period begins. The first two assessments each have an overall weighting of 25% and the third assessment has a weighting of 50%.  "
   ]
  },
  {
   "cell_type": "markdown",
   "id": "34a67fe6-c23e-4948-9e55-19706a4eb9fb",
   "metadata": {},
   "source": [
    "Overall assessment will use the following criteria and weightings.\n",
    "\n",
    "- Course Work  50%\n",
    "- Presentation 10%\n",
    "- Group Work 30%\n",
    "- Peer Assessment 10%\n",
    "\n",
    "Note that these weightings are **overall** weightings, and the relative weighting of each component within a specific assessment may vary. For example, the first two assessments have no presentation component. "
   ]
  }
 ],
 "metadata": {
  "kernelspec": {
   "display_name": "Python 3 (ipykernel)",
   "language": "python",
   "name": "python3"
  },
  "language_info": {
   "codemirror_mode": {
    "name": "ipython",
    "version": 3
   },
   "file_extension": ".py",
   "mimetype": "text/x-python",
   "name": "python",
   "nbconvert_exporter": "python",
   "pygments_lexer": "ipython3",
   "version": "3.11.0"
  }
 },
 "nbformat": 4,
 "nbformat_minor": 5
}
