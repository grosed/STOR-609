{
 "cells": [
  {
   "cell_type": "markdown",
   "id": "c6f066d5-8975-44fa-9978-2c543021b064",
   "metadata": {},
   "source": [
    "# STOR-609 - Programming for Reproducible Research "
   ]
  },
  {
   "cell_type": "markdown",
   "id": "e2af1155-3c7e-47f5-9b4a-06b02e465108",
   "metadata": {},
   "source": [
    "\"The art of programming is the art of organizing complexity.\"\n",
    "\n",
    "**Edsger Dijkstra**"
   ]
  },
  {
   "cell_type": "markdown",
   "id": "79d5c42f-4b79-4670-8d7a-8eca9efd7959",
   "metadata": {},
   "source": [
    "\"Kohn's Second Law: An experiment is reproducible until another laboratory tries to repeat it\"\n",
    "\n",
    "**Alexander Kohn**"
   ]
  },
  {
   "cell_type": "markdown",
   "id": "a34ce4ec-8167-4e4a-9212-eb3d9714f840",
   "metadata": {},
   "source": [
    "\"Research is what I'm doing when I don't know what I'm doing.\"\n",
    "\n",
    "**Wernher von Braun**\n"
   ]
  }
 ],
 "metadata": {
  "kernelspec": {
   "display_name": "Python 3 (ipykernel)",
   "language": "python",
   "name": "python3"
  },
  "language_info": {
   "codemirror_mode": {
    "name": "ipython",
    "version": 3
   },
   "file_extension": ".py",
   "mimetype": "text/x-python",
   "name": "python",
   "nbconvert_exporter": "python",
   "pygments_lexer": "ipython3",
   "version": "3.12.3"
  }
 },
 "nbformat": 4,
 "nbformat_minor": 5
}
