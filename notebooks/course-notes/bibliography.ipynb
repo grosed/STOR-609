{
 "cells": [
  {
   "cell_type": "markdown",
   "id": "01d04792-3b28-4bdd-b04a-7c292042afd8",
   "metadata": {},
   "source": [
    "# Bibliography"
   ]
  },
  {
   "cell_type": "markdown",
   "id": "f7af917e-987e-424c-bdb2-d8c3d23dc48d",
   "metadata": {},
   "source": [
    "Wilson G, Aruliah DA, Brown CT, Chue Hong NP, Davis M, et\n",
    "al. (2014) \\\n",
    "\"**Best Practices for Scientific Computing**\". \\\n",
    "PLoS Biol 12(1): e1001745. doi:10.1371/journal.pbio.1001745"
   ]
  },
  {
   "cell_type": "markdown",
   "id": "27944614-ad85-42c0-bff4-6725797012f7",
   "metadata": {},
   "source": [
    "Goble, C. (2016). “**What is reproducibility? The ${\\rm {\\bf R}}^{∗}$ brouhaha**”, \\\n",
    "In First International Workshop on Reproducible Open Science (Hannover). \\\n",
    "http://repscience2016.r esearch-infrastructures.eu/img/CaroleGoble-\n",
    "ReproScience2016v2.pdf "
   ]
  },
  {
   "cell_type": "markdown",
   "id": "1e9c2b28-1894-4acf-9daf-09fef641ef5c",
   "metadata": {},
   "source": [
    "Benureau, F. C. Y. and Rougier, N. P. (2018). \\\n",
    "\"**Re-run, Repeat, Reproduce, Reuse, Replicate: Transforming Code into Scientific Contributions**\". \\\n",
    "*Frontiers in Neuroinformatics*. 11. <https://doi.org/10.3389/fninf.2017.00069> "
   ]
  },
  {
   "cell_type": "markdown",
   "id": "9eaa504e-591f-4805-b7cf-fd097d3038d6",
   "metadata": {},
   "source": [
    "Cormen, T. H., Leiserson, C. E., Rivest, R. L. and Clifford, S. (2009).\\\n",
    "\"**Introduction to Algorithms (2nd Edition)**\". *MIT\n",
    "Press*."
   ]
  },
  {
   "cell_type": "markdown",
   "id": "9af2323b-4c80-4038-86b9-cffb2ddfb169",
   "metadata": {},
   "source": [
    "Roy, P. V. and Haridi, S. (2004).\\\n",
    "\"**Concepts, Techniques and Models of Computer Programming.**\" *MIT Press*."
   ]
  },
  {
   "cell_type": "markdown",
   "id": "3a6e3de8-95bd-4356-a4c5-d27237ab4220",
   "metadata": {},
   "source": [
    "Gamma, E., Helm, R., Johnson, R. and Vlissides, J. M. (1994).\\\n",
    "\"**Design Patterns: Elements of Reusable Object-Oriented Software.**\"\\\n",
    "*Addison-Wesley Professional.*"
   ]
  },
  {
   "cell_type": "markdown",
   "id": "82c0e0cd-1c16-4b57-ae80-c8d1b7c24e88",
   "metadata": {},
   "source": [
    "Trisovic, A., Lau, M.K., Pasquier, T. et al. (2002)\\\n",
    "\"**A large-scale study on research code quality and execution**\".\\\n",
    "*Sci Data 9, 60*. https://doi.org/10.1038/s41597-022-01143-6"
   ]
  },
  {
   "cell_type": "code",
   "execution_count": null,
   "id": "dd0f0f7b-bcd4-4ece-a6cc-b32f216a5251",
   "metadata": {},
   "outputs": [],
   "source": []
  }
 ],
 "metadata": {
  "kernelspec": {
   "display_name": "Python 3 (ipykernel)",
   "language": "python",
   "name": "python3"
  },
  "language_info": {
   "codemirror_mode": {
    "name": "ipython",
    "version": 3
   },
   "file_extension": ".py",
   "mimetype": "text/x-python",
   "name": "python",
   "nbconvert_exporter": "python",
   "pygments_lexer": "ipython3",
   "version": "3.12.3"
  }
 },
 "nbformat": 4,
 "nbformat_minor": 5
}
