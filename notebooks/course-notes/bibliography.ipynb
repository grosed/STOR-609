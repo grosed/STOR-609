{
 "cells": [
  {
   "cell_type": "markdown",
   "id": "01d04792-3b28-4bdd-b04a-7c292042afd8",
   "metadata": {},
   "source": [
    "# Bibliography"
   ]
  },
  {
   "cell_type": "markdown",
   "id": "f7af917e-987e-424c-bdb2-d8c3d23dc48d",
   "metadata": {},
   "source": [
    "Wilson G, Aruliah DA, Brown CT, Chue Hong NP, Davis M, et\n",
    "al. (2014) \\\n",
    "\"Best Practices for Scientific Computing\". \\\n",
    "PLoS Biol 12(1): e1001745. doi:10.1371/journal.pbio.1001745"
   ]
  },
  {
   "cell_type": "markdown",
   "id": "27944614-ad85-42c0-bff4-6725797012f7",
   "metadata": {},
   "source": [
    "Goble, C. (2016). “What is reproducibility? The R∗brouhaha,” \\\n",
    "In First International Workshop on Reproducible Open Science (Hannover). \n",
    "http://repscience2016.r esearch-infrastructures.eu/img/CaroleGoble-\n",
    "ReproScience2016v2.pdf "
   ]
  }
 ],
 "metadata": {
  "kernelspec": {
   "display_name": "Python 3 (ipykernel)",
   "language": "python",
   "name": "python3"
  },
  "language_info": {
   "codemirror_mode": {
    "name": "ipython",
    "version": 3
   },
   "file_extension": ".py",
   "mimetype": "text/x-python",
   "name": "python",
   "nbconvert_exporter": "python",
   "pygments_lexer": "ipython3",
   "version": "3.12.3"
  }
 },
 "nbformat": 4,
 "nbformat_minor": 5
}
