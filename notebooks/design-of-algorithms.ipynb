{
 "cells": [
  {
   "cell_type": "markdown",
   "id": "4b91e605-d684-4492-98d5-182ebb94ea57",
   "metadata": {},
   "source": [
    "# Design of Algorithms"
   ]
  },
  {
   "cell_type": "markdown",
   "id": "26b65fa6-a11e-40b1-8f47-5fd2335ebfec",
   "metadata": {},
   "source": [
    "## Exercises"
   ]
  },
  {
   "cell_type": "markdown",
   "id": "410dea9a-392b-42f0-9758-ac931a975165",
   "metadata": {},
   "source": [
    "### Exercise 1"
   ]
  },
  {
   "cell_type": "markdown",
   "id": "fb19e4cd-7b7e-403e-9d21-b0580e9c0fe6",
   "metadata": {},
   "source": [
    "Design an algorithm that solves the following computational problem\n",
    "\n",
    "**Inputs**\n",
    "\n",
    "- a monotonically increasing function $f : \\cal{R} \\rightarrow \\cal{N}$\n",
    "- $n \\in{\\cal{N}}$\n",
    "\n",
    "**Ouput**\n",
    "\n",
    "- a value $x \\in{\\cal{R}}$ such that $f(x) = n$\n"
   ]
  },
  {
   "cell_type": "markdown",
   "id": "c2649507-bc14-4d45-a71d-374346ec42c0",
   "metadata": {},
   "source": [
    "### Example solution "
   ]
  },
  {
   "cell_type": "markdown",
   "id": "046e59ed-6486-4d75-94ac-a3bb178e3287",
   "metadata": {},
   "source": [
    "A divide and conquer algorithm based on bisection would be appropriate. However, such an algorithm typically requires as an input an ordered pair of values $(x_{l},x_{r})$ that \"bracket\" the solution i.e. values such that $f(x_{l}) \\leq n \\leq f(x_{r})$. So the first step towards such a solution is to design an algorithm to find such a bracket."
   ]
  },
  {
   "cell_type": "markdown",
   "id": "349bcdc9-042a-46c5-92ba-740f6b1d1a7c",
   "metadata": {},
   "source": [
    "1. $x \\leftarrow 0$\n",
    "2. if $f(x) > n$ \\\n",
    "&nbsp; &nbsp; &nbsp; &nbsp; $x_{r} \\leftarrow x$\n",
    "4. flob"
   ]
  },
  {
   "cell_type": "code",
   "execution_count": null,
   "id": "8ef341e4-f8c9-4916-9f3d-5f91bcb8e9dc",
   "metadata": {},
   "outputs": [],
   "source": []
  },
  {
   "cell_type": "code",
   "execution_count": 1,
   "id": "c77b7173-5400-4118-a0fa-5eb5bfe49127",
   "metadata": {},
   "outputs": [],
   "source": [
    "def bisect(interval,f,target,less,centre,converged,n) :\n",
    "    if converged(interval) or n == 0 : return interval\n",
    "    a,b = interval\n",
    "    c = centre(interval)\n",
    "    interval = (c,b) if less(f(c),target) else (a,c)  \n",
    "    return bisect(interval,f,target,less,centre,converged,n-1)\n",
    "        "
   ]
  },
  {
   "cell_type": "markdown",
   "id": "79265f43-a8cb-4262-b53b-37d2c342e0a9",
   "metadata": {},
   "source": [
    "#### a test function"
   ]
  },
  {
   "cell_type": "code",
   "execution_count": 2,
   "id": "75b40f8e-3563-45fc-b5b7-4839f9efd9c5",
   "metadata": {},
   "outputs": [],
   "source": [
    "def f(x) :\n",
    "    return x*x-1"
   ]
  },
  {
   "cell_type": "markdown",
   "id": "153b5bfb-c644-4f4d-81fb-81afdda131fe",
   "metadata": {},
   "source": [
    "#### a centre function"
   ]
  },
  {
   "cell_type": "code",
   "execution_count": 3,
   "id": "e9a1a068-9c62-49d0-aea7-aea3aefc428c",
   "metadata": {},
   "outputs": [],
   "source": [
    "def centre(interval) :\n",
    "    a,b = interval\n",
    "    return (a+b)/2"
   ]
  },
  {
   "cell_type": "markdown",
   "id": "2a0dda12-0f9f-41e9-82cc-be568e3070ee",
   "metadata": {},
   "source": [
    "#### a comparison function"
   ]
  },
  {
   "cell_type": "code",
   "execution_count": 4,
   "id": "86ca343f-1abd-43a1-a8f5-236469ee0448",
   "metadata": {},
   "outputs": [],
   "source": [
    "def less(a,b) :\n",
    "    return a < b"
   ]
  },
  {
   "cell_type": "markdown",
   "id": "f479a8ac-2bec-4408-a533-275dc8f5e3fc",
   "metadata": {},
   "source": [
    "#### some convergence tests"
   ]
  },
  {
   "cell_type": "code",
   "execution_count": 5,
   "id": "4552f1f3-cb2e-4810-b104-2e8078c4b2be",
   "metadata": {},
   "outputs": [],
   "source": [
    "def converged_in_X(interval,epsilon) :\n",
    "    a,b = interval\n",
    "    return True if b - a < epsilon else False"
   ]
  },
  {
   "cell_type": "code",
   "execution_count": 6,
   "id": "eaa22549-8017-4c05-897a-9fbfc48ea0b6",
   "metadata": {},
   "outputs": [],
   "source": [
    "def converged_in_Y(interval,f,epsilon) :\n",
    "    a,b = interval\n",
    "    return True if f(b) - f(a) < epsilon else False"
   ]
  },
  {
   "cell_type": "markdown",
   "id": "0dfc1179-71d3-41a0-9336-024483096434",
   "metadata": {},
   "source": [
    "#### test convergence in X"
   ]
  },
  {
   "cell_type": "code",
   "execution_count": 7,
   "id": "023e5b11-d5a4-4228-9192-f5fa64bdb96c",
   "metadata": {},
   "outputs": [],
   "source": [
    "from functools import partial"
   ]
  },
  {
   "cell_type": "code",
   "execution_count": 8,
   "id": "fe336e98-d8d9-492e-b8eb-088218d2054e",
   "metadata": {},
   "outputs": [],
   "source": [
    "converged = partial(converged_in_X,epsilon=0.01)"
   ]
  },
  {
   "cell_type": "code",
   "execution_count": 9,
   "id": "1fc61ea6-5d7c-4b83-93be-0a433b52e208",
   "metadata": {},
   "outputs": [
    {
     "data": {
      "text/plain": [
       "(0.9968750000000001, 1.00625)"
      ]
     },
     "execution_count": 9,
     "metadata": {},
     "output_type": "execute_result"
    }
   ],
   "source": [
    "bisect((0.5,1.7),f,0,less,centre,converged,10)"
   ]
  },
  {
   "cell_type": "markdown",
   "id": "ab00a03f-c4d2-467f-89ad-0017b4c1bada",
   "metadata": {},
   "source": [
    "#### test convergence in Y"
   ]
  },
  {
   "cell_type": "code",
   "execution_count": 10,
   "id": "6c2938cf-0608-469f-be29-5745a5a2ae11",
   "metadata": {},
   "outputs": [],
   "source": [
    "converged = partial(converged_in_Y,f=f,epsilon=0.01)"
   ]
  },
  {
   "cell_type": "code",
   "execution_count": 11,
   "id": "aef87633-b7be-4d7a-a0ff-ae04b80d9abb",
   "metadata": {},
   "outputs": [
    {
     "data": {
      "text/plain": [
       "(0.9968750000000001, 1.0015625000000001)"
      ]
     },
     "execution_count": 11,
     "metadata": {},
     "output_type": "execute_result"
    }
   ],
   "source": [
    "bisect((0.5,1.7),f,0,less,centre,converged,10)"
   ]
  },
  {
   "cell_type": "markdown",
   "id": "f8f29fa3-d587-4c74-b9e2-4f688ca79cff",
   "metadata": {},
   "source": [
    "#### test memoization"
   ]
  },
  {
   "cell_type": "code",
   "execution_count": 12,
   "id": "c0ae21c7-ff5f-45d8-847c-b4aa43e14d6b",
   "metadata": {},
   "outputs": [],
   "source": [
    "from functools import cache"
   ]
  },
  {
   "cell_type": "code",
   "execution_count": 13,
   "id": "bc797927-0397-4c77-9c23-40b8b2e3b289",
   "metadata": {},
   "outputs": [],
   "source": [
    "@cache\n",
    "def mf(x) : return f(x)"
   ]
  },
  {
   "cell_type": "code",
   "execution_count": 14,
   "id": "76f4c4e6-6e2e-407d-8e9f-46ae43a43b7b",
   "metadata": {},
   "outputs": [],
   "source": [
    "converged = partial(converged_in_Y,f=mf,epsilon=0.01)"
   ]
  },
  {
   "cell_type": "code",
   "execution_count": 15,
   "id": "93b1a69d-fab1-4afa-b3b6-c4717e3c4c6b",
   "metadata": {},
   "outputs": [
    {
     "data": {
      "text/plain": [
       "(0.9968750000000001, 1.0015625000000001)"
      ]
     },
     "execution_count": 15,
     "metadata": {},
     "output_type": "execute_result"
    }
   ],
   "source": [
    "bisect((0.5,1.7),f,0,less,centre,converged,10)"
   ]
  },
  {
   "cell_type": "code",
   "execution_count": 19,
   "id": "9cb0ad60-edaa-40f3-968f-07e61510f378",
   "metadata": {},
   "outputs": [],
   "source": [
    "from math import floor"
   ]
  },
  {
   "cell_type": "code",
   "execution_count": 20,
   "id": "069f330c-9cf0-4360-9897-85272068acc3",
   "metadata": {},
   "outputs": [
    {
     "data": {
      "text/plain": [
       "3"
      ]
     },
     "execution_count": 20,
     "metadata": {},
     "output_type": "execute_result"
    }
   ],
   "source": [
    "floor(3.14)"
   ]
  },
  {
   "cell_type": "code",
   "execution_count": 24,
   "id": "a05f0510-eb09-43fd-8623-0d0e9311c48f",
   "metadata": {},
   "outputs": [],
   "source": [
    "def blob(interval,target) :\n",
    "    a,b = interval\n",
    "    return True if floor(a) == target or floor(b) == target else False"
   ]
  },
  {
   "cell_type": "code",
   "execution_count": 28,
   "id": "4f8d995d-d8be-4411-b8d4-5e239c779a77",
   "metadata": {},
   "outputs": [],
   "source": [
    "glob = partial(blob,target=6)"
   ]
  },
  {
   "cell_type": "code",
   "execution_count": 31,
   "id": "8ec053e9-78de-4e00-ab07-94eec758f6df",
   "metadata": {},
   "outputs": [
    {
     "data": {
      "text/plain": [
       "(5.75, 6.9375)"
      ]
     },
     "execution_count": 31,
     "metadata": {},
     "output_type": "execute_result"
    }
   ],
   "source": [
    "bisect((1,20),floor,6,less,centre,glob,10)"
   ]
  },
  {
   "cell_type": "code",
   "execution_count": null,
   "id": "fbc5f8b0-624a-411e-a038-1bc68d0cecac",
   "metadata": {},
   "outputs": [],
   "source": []
  },
  {
   "cell_type": "code",
   "execution_count": 36,
   "id": "f05622e0-5bf5-489e-816e-f33e384a9da3",
   "metadata": {},
   "outputs": [],
   "source": [
    "def transition(interval,f,target,epsilon_X) :\n",
    "    a,b = interval\n",
    "    return True if b - a < epsilon_X and (f(a) == target or f(b) == target) else False   "
   ]
  },
  {
   "cell_type": "code",
   "execution_count": 39,
   "id": "aad030fc-266e-465f-8c11-1a6305863365",
   "metadata": {},
   "outputs": [],
   "source": [
    "btransistion = partial(transition,f=floor,target=6,epsilon_X=0.1)"
   ]
  },
  {
   "cell_type": "code",
   "execution_count": 40,
   "id": "582c990d-c5a2-4a0c-96ac-7ce9f5509552",
   "metadata": {},
   "outputs": [
    {
     "data": {
      "text/plain": [
       "(5.97265625, 6.046875)"
      ]
     },
     "execution_count": 40,
     "metadata": {},
     "output_type": "execute_result"
    }
   ],
   "source": [
    "bisect((1,20),floor,6,less,centre,btransistion,10)"
   ]
  }
 ],
 "metadata": {
  "kernelspec": {
   "display_name": "Python 3 (ipykernel)",
   "language": "python",
   "name": "python3"
  },
  "language_info": {
   "codemirror_mode": {
    "name": "ipython",
    "version": 3
   },
   "file_extension": ".py",
   "mimetype": "text/x-python",
   "name": "python",
   "nbconvert_exporter": "python",
   "pygments_lexer": "ipython3",
   "version": "3.11.0"
  }
 },
 "nbformat": 4,
 "nbformat_minor": 5
}
