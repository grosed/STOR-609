{
 "cells": [
  {
   "cell_type": "markdown",
   "id": "4b91e605-d684-4492-98d5-182ebb94ea57",
   "metadata": {},
   "source": [
    "# Design of Algorithms"
   ]
  },
  {
   "cell_type": "markdown",
   "id": "26b65fa6-a11e-40b1-8f47-5fd2335ebfec",
   "metadata": {},
   "source": [
    "## Exercises"
   ]
  },
  {
   "cell_type": "markdown",
   "id": "410dea9a-392b-42f0-9758-ac931a975165",
   "metadata": {},
   "source": [
    "### Exercise 1"
   ]
  },
  {
   "cell_type": "markdown",
   "id": "fb19e4cd-7b7e-403e-9d21-b0580e9c0fe6",
   "metadata": {},
   "source": [
    "Design an algorithm that solves the following computational problem\n",
    "\n",
    "**Inputs**\n",
    "\n",
    "- a monotonically increasing function $f : \\cal{R} \\rightarrow \\cal{N}$\n",
    "- $n \\in{\\cal{N}}$\n",
    "- $(x_{a},x_{b}) \\in \\cal{R} \\times \\cal{R} : x_{a} < x_{b} , f(x_{a}) \\leq n \\leq f(x_{b})$ \n",
    "\n",
    "**Ouput**\n",
    "\n",
    "- a value $x \\in{\\cal{R}}$ such that $f(x) = n$\n"
   ]
  },
  {
   "cell_type": "markdown",
   "id": "c2649507-bc14-4d45-a71d-374346ec42c0",
   "metadata": {},
   "source": [
    "### Example solution "
   ]
  },
  {
   "cell_type": "markdown",
   "id": "046e59ed-6486-4d75-94ac-a3bb178e3287",
   "metadata": {},
   "source": [
    "A divide and conquer algorithm based on bisection would be appropriate. "
   ]
  },
  {
   "cell_type": "markdown",
   "id": "349bcdc9-042a-46c5-92ba-740f6b1d1a7c",
   "metadata": {},
   "source": [
    "1. $x \\leftarrow 0$\n",
    "2. if $f(x) > n$ \\\n",
    "&nbsp; &nbsp; &nbsp; &nbsp; $x_{r} \\leftarrow x$\n",
    "4. flob"
   ]
  },
  {
   "cell_type": "code",
   "execution_count": 1,
   "id": "c77b7173-5400-4118-a0fa-5eb5bfe49127",
   "metadata": {},
   "outputs": [],
   "source": [
    "def bisect(interval,sign,centre,converged,n) :\n",
    "    if converged(interval) or n == 0 : return interval\n",
    "    a,b = interval\n",
    "    c = centre(interval)\n",
    "    interval = (c,b) if sign(a) == sign(c) else (a,c)  \n",
    "    return bisect(interval,sign,centre,converged,n-1)\n",
    "        "
   ]
  },
  {
   "cell_type": "markdown",
   "id": "79265f43-a8cb-4262-b53b-37d2c342e0a9",
   "metadata": {},
   "source": [
    "#### a test function"
   ]
  },
  {
   "cell_type": "code",
   "execution_count": 2,
   "id": "75b40f8e-3563-45fc-b5b7-4839f9efd9c5",
   "metadata": {},
   "outputs": [],
   "source": [
    "def f(x) :\n",
    "    return x*x-1"
   ]
  },
  {
   "cell_type": "markdown",
   "id": "153b5bfb-c644-4f4d-81fb-81afdda131fe",
   "metadata": {},
   "source": [
    "#### a centre function"
   ]
  },
  {
   "cell_type": "code",
   "execution_count": 3,
   "id": "e9a1a068-9c62-49d0-aea7-aea3aefc428c",
   "metadata": {},
   "outputs": [],
   "source": [
    "def centre(interval) :\n",
    "    a,b = interval\n",
    "    return (a+b)/2"
   ]
  },
  {
   "cell_type": "markdown",
   "id": "2a0dda12-0f9f-41e9-82cc-be568e3070ee",
   "metadata": {},
   "source": [
    "#### a sign function"
   ]
  },
  {
   "cell_type": "code",
   "execution_count": 4,
   "id": "86ca343f-1abd-43a1-a8f5-236469ee0448",
   "metadata": {},
   "outputs": [],
   "source": [
    "def sign(x,f) :\n",
    "    return False if f(x) < 0 else True  "
   ]
  },
  {
   "cell_type": "markdown",
   "id": "f479a8ac-2bec-4408-a533-275dc8f5e3fc",
   "metadata": {},
   "source": [
    "#### some convergence tests"
   ]
  },
  {
   "cell_type": "code",
   "execution_count": 5,
   "id": "4552f1f3-cb2e-4810-b104-2e8078c4b2be",
   "metadata": {},
   "outputs": [],
   "source": [
    "def converged_in_X(interval,epsilon) :\n",
    "    a,b = interval\n",
    "    return True if b - a < epsilon else False"
   ]
  },
  {
   "cell_type": "code",
   "execution_count": 6,
   "id": "eaa22549-8017-4c05-897a-9fbfc48ea0b6",
   "metadata": {},
   "outputs": [],
   "source": [
    "def converged_in_Y(interval,f,epsilon) :\n",
    "    a,b = interval\n",
    "    return True if f(b) - f(a) < epsilon else False"
   ]
  },
  {
   "cell_type": "markdown",
   "id": "0dfc1179-71d3-41a0-9336-024483096434",
   "metadata": {},
   "source": [
    "#### test convergence in X"
   ]
  },
  {
   "cell_type": "code",
   "execution_count": 7,
   "id": "023e5b11-d5a4-4228-9192-f5fa64bdb96c",
   "metadata": {},
   "outputs": [],
   "source": [
    "from functools import partial"
   ]
  },
  {
   "cell_type": "code",
   "execution_count": 8,
   "id": "fe336e98-d8d9-492e-b8eb-088218d2054e",
   "metadata": {},
   "outputs": [],
   "source": [
    "converged = partial(converged_in_X,epsilon=0.01)\n",
    "signf = partial(sign,f=f)"
   ]
  },
  {
   "cell_type": "code",
   "execution_count": 9,
   "id": "1fc61ea6-5d7c-4b83-93be-0a433b52e208",
   "metadata": {},
   "outputs": [
    {
     "data": {
      "text/plain": [
       "(0.9968750000000001, 1.00625)"
      ]
     },
     "execution_count": 9,
     "metadata": {},
     "output_type": "execute_result"
    }
   ],
   "source": [
    "bisect((0.5,1.7),signf,centre,converged,10)"
   ]
  },
  {
   "cell_type": "markdown",
   "id": "ab00a03f-c4d2-467f-89ad-0017b4c1bada",
   "metadata": {},
   "source": [
    "#### test convergence in Y"
   ]
  },
  {
   "cell_type": "code",
   "execution_count": 10,
   "id": "6c2938cf-0608-469f-be29-5745a5a2ae11",
   "metadata": {},
   "outputs": [],
   "source": [
    "converged = partial(converged_in_Y,f=f,epsilon=0.01)"
   ]
  },
  {
   "cell_type": "code",
   "execution_count": 11,
   "id": "aef87633-b7be-4d7a-a0ff-ae04b80d9abb",
   "metadata": {},
   "outputs": [
    {
     "data": {
      "text/plain": [
       "(0.9968750000000001, 1.0015625000000001)"
      ]
     },
     "execution_count": 11,
     "metadata": {},
     "output_type": "execute_result"
    }
   ],
   "source": [
    "bisect((0.5,1.7),signf,centre,converged,10)"
   ]
  },
  {
   "cell_type": "markdown",
   "id": "f8f29fa3-d587-4c74-b9e2-4f688ca79cff",
   "metadata": {},
   "source": [
    "#### test memoization"
   ]
  },
  {
   "cell_type": "code",
   "execution_count": 12,
   "id": "c0ae21c7-ff5f-45d8-847c-b4aa43e14d6b",
   "metadata": {},
   "outputs": [],
   "source": [
    "from functools import cache"
   ]
  },
  {
   "cell_type": "code",
   "execution_count": 13,
   "id": "bc797927-0397-4c77-9c23-40b8b2e3b289",
   "metadata": {},
   "outputs": [],
   "source": [
    "@cache\n",
    "def mf(x) : return f(x)"
   ]
  },
  {
   "cell_type": "code",
   "execution_count": 14,
   "id": "76f4c4e6-6e2e-407d-8e9f-46ae43a43b7b",
   "metadata": {},
   "outputs": [],
   "source": [
    "converged = partial(converged_in_Y,f=mf,epsilon=0.01)"
   ]
  },
  {
   "cell_type": "code",
   "execution_count": 15,
   "id": "93b1a69d-fab1-4afa-b3b6-c4717e3c4c6b",
   "metadata": {},
   "outputs": [
    {
     "data": {
      "text/plain": [
       "(0.9968750000000001, 1.0015625000000001)"
      ]
     },
     "execution_count": 15,
     "metadata": {},
     "output_type": "execute_result"
    }
   ],
   "source": [
    "bisect((0.5,1.7),signf,centre,converged,10)"
   ]
  },
  {
   "cell_type": "code",
   "execution_count": 16,
   "id": "9cb0ad60-edaa-40f3-968f-07e61510f378",
   "metadata": {},
   "outputs": [],
   "source": [
    "from math import floor"
   ]
  },
  {
   "cell_type": "code",
   "execution_count": 17,
   "id": "b2924297-e50e-4e76-8e8e-69dcb57aaee7",
   "metadata": {},
   "outputs": [],
   "source": [
    "def sign(x,target) :\n",
    "    return False if floor(x) < target else True  "
   ]
  },
  {
   "cell_type": "code",
   "execution_count": 18,
   "id": "a05f0510-eb09-43fd-8623-0d0e9311c48f",
   "metadata": {},
   "outputs": [],
   "source": [
    "def converged(interval,target) :\n",
    "    a,b = interval\n",
    "    return True if floor(a) == target or floor(b) == target else False"
   ]
  },
  {
   "cell_type": "code",
   "execution_count": 19,
   "id": "8ec053e9-78de-4e00-ab07-94eec758f6df",
   "metadata": {},
   "outputs": [
    {
     "data": {
      "text/plain": [
       "(5.75, 6.9375)"
      ]
     },
     "execution_count": 19,
     "metadata": {},
     "output_type": "execute_result"
    }
   ],
   "source": [
    "bisect((1,20),partial(sign,target=6),centre,partial(converged,target=6),10)"
   ]
  },
  {
   "cell_type": "code",
   "execution_count": null,
   "id": "fbc5f8b0-624a-411e-a038-1bc68d0cecac",
   "metadata": {},
   "outputs": [],
   "source": []
  },
  {
   "cell_type": "code",
   "execution_count": 20,
   "id": "f05622e0-5bf5-489e-816e-f33e384a9da3",
   "metadata": {},
   "outputs": [],
   "source": [
    "def converged(interval,target,epsilon) :\n",
    "    a,b = interval\n",
    "    return True if b - a < epsilon and (floor(a) == target or floor(b) == target) else False   "
   ]
  },
  {
   "cell_type": "code",
   "execution_count": 21,
   "id": "582c990d-c5a2-4a0c-96ac-7ce9f5509552",
   "metadata": {},
   "outputs": [
    {
     "data": {
      "text/plain": [
       "(5.9912109375, 6.00048828125)"
      ]
     },
     "execution_count": 21,
     "metadata": {},
     "output_type": "execute_result"
    }
   ],
   "source": [
    "bisect((1,20),partial(sign,target=6),centre,partial(converged,target=6,epsilon=0.01),20)"
   ]
  },
  {
   "cell_type": "code",
   "execution_count": null,
   "id": "2f4cb908-8f17-45d4-9b34-e91377ee2977",
   "metadata": {},
   "outputs": [],
   "source": []
  },
  {
   "cell_type": "code",
   "execution_count": null,
   "id": "8ef341e4-f8c9-4916-9f3d-5f91bcb8e9dc",
   "metadata": {},
   "outputs": [],
   "source": []
  },
  {
   "cell_type": "markdown",
   "id": "640e1b45-9f03-44bb-b02a-7dada7cb433f",
   "metadata": {},
   "source": [
    "### Exercise 2"
   ]
  },
  {
   "cell_type": "markdown",
   "id": "4a61fdff-1ad7-43e5-a479-dc203c01656e",
   "metadata": {},
   "source": [
    "Design an algorithm that solves the following computational problem\n",
    "\n",
    "**Inputs**\n",
    "\n",
    "- a monotonically increasing function $f : \\cal{R} \\rightarrow \\cal{N}$\n",
    "- $n \\in{\\cal{N}}$\n",
    "- $\\delta \\in \\cal{R} : \\delta \\gt 0$\n",
    "- $(x_{a},x_{b}) \\in \\cal{R} \\times \\cal{R} : x_{a} < x_{b} - \\delta , f(x_{a}) \\leq n \\leq f(x_{b})$\n",
    "\n",
    "\n",
    "**Ouput**\n",
    "\n",
    "- a value $x \\in{\\cal{R}}$ such that $f(x) = n$ and $f(x - \\delta) < n$\n"
   ]
  },
  {
   "cell_type": "markdown",
   "id": "142731aa-06f7-4200-8643-85a4fb330310",
   "metadata": {},
   "source": [
    "### Exercise 3"
   ]
  },
  {
   "cell_type": "markdown",
   "id": "b1fbf2e7-957b-4fa5-b48e-c844112835e0",
   "metadata": {},
   "source": [
    "Design an algorithm that solves the following computational problem\n",
    "\n",
    "**Inputs**\n",
    "\n",
    "- a monotonically increasing function $f : \\cal{R} \\rightarrow \\cal{N}$\n",
    "- $n \\in{\\cal{N}}$\n",
    "- $\\delta \\in \\cal{R} : \\delta \\gt 0$\n",
    "- $(x_{a},x_{b}) \\in \\cal{R} \\times \\cal{R} : x_{a} + \\delta < x_{b}, f(x_{a}) \\leq n \\leq f(x_{b})$\n",
    "\n",
    "\n",
    "**Ouput**\n",
    "\n",
    "- a value $x \\in{\\cal{R}}$ such that $f(x) = n$ and $f(x + \\delta) < n$\n"
   ]
  },
  {
   "cell_type": "markdown",
   "id": "984fa8ac-2ae5-4093-b8bb-79147ab9d1f3",
   "metadata": {},
   "source": [
    "### New generalisation"
   ]
  },
  {
   "cell_type": "code",
   "execution_count": 79,
   "id": "2f8c60cc-0ffa-4a54-8edc-cbd9128b989b",
   "metadata": {},
   "outputs": [],
   "source": [
    "def bisection(f,X,y,epsilon,bisect,member,converged,n) :\n",
    "    if converged(f,X,y,epsilon) or n == 0 : return X\n",
    "    Xa,Xb = bisect(f,X,y)\n",
    "    X = Xa if member(f,y,Xa) else Xb  \n",
    "    return bisection(f,X,y,epsilon,bisect,member,converged,n-1)"
   ]
  },
  {
   "cell_type": "markdown",
   "id": "ee2049a9-d923-448f-8f8b-adb955d37262",
   "metadata": {},
   "source": [
    "### Example 1 - root of a continuous function"
   ]
  },
  {
   "cell_type": "code",
   "execution_count": 51,
   "id": "d403a65f-5312-46d5-9671-3641e8fbd635",
   "metadata": {},
   "outputs": [],
   "source": [
    "def bisect(f,X,y) :\n",
    "    a,b = X\n",
    "    c = (a+b)/2\n",
    "    return ((a,c),(c,b))"
   ]
  },
  {
   "cell_type": "code",
   "execution_count": 52,
   "id": "738b6a0c-67f5-46f8-8fb2-ba7fcb885902",
   "metadata": {},
   "outputs": [],
   "source": [
    "def member(f,y,X) :\n",
    "    a,b = X\n",
    "    return True if f(a) <= y and y <= f(b) else False"
   ]
  },
  {
   "cell_type": "code",
   "execution_count": 53,
   "id": "ac346bc5-347e-4322-9e04-9703f317c24d",
   "metadata": {},
   "outputs": [],
   "source": [
    "def converged_in_X(f,X,y,epsilon) :\n",
    "    a,b = X\n",
    "    return True if b - a < epsilon else False"
   ]
  },
  {
   "cell_type": "code",
   "execution_count": 54,
   "id": "828fce03-7e84-4f45-be53-a745385c05ad",
   "metadata": {},
   "outputs": [],
   "source": [
    "def converged_in_Y(f,X,y,epsilon) :\n",
    "    a,b = X\n",
    "    return True if f(b) - f(a) < epsilon else False"
   ]
  },
  {
   "cell_type": "code",
   "execution_count": 55,
   "id": "396ae77a-8f19-43cc-887f-c1eb4ddf11c3",
   "metadata": {},
   "outputs": [],
   "source": [
    "def f(x) :\n",
    "    return x*x-1"
   ]
  },
  {
   "cell_type": "code",
   "execution_count": 56,
   "id": "7941de40-16e5-4623-a47d-ad6dc719a86e",
   "metadata": {},
   "outputs": [
    {
     "data": {
      "text/plain": [
       "(1.4140625, 1.41640625)"
      ]
     },
     "execution_count": 56,
     "metadata": {},
     "output_type": "execute_result"
    }
   ],
   "source": [
    "bisection(f,(0.5,1.7),1,0.01,bisect,member,converged_in_Y,20)"
   ]
  },
  {
   "cell_type": "markdown",
   "id": "cc688e80-b1df-49ea-899a-8282d85948a0",
   "metadata": {},
   "source": [
    "#### Example 2 - Solution to Exercise 1"
   ]
  },
  {
   "cell_type": "code",
   "execution_count": 61,
   "id": "a81dfd50-cd3d-42b6-8ee4-4d6cee4c3e0b",
   "metadata": {},
   "outputs": [],
   "source": [
    "def converged_in_N(f,X,y,epsilon) :\n",
    "    a,b = X\n",
    "    return True if f(b) == y  or  f(a) == y else False"
   ]
  },
  {
   "cell_type": "code",
   "execution_count": 127,
   "id": "61a4f85a-ae41-47b0-9b8a-f87d55087398",
   "metadata": {},
   "outputs": [],
   "source": [
    "def f(x) : return floor(x)"
   ]
  },
  {
   "cell_type": "code",
   "execution_count": 59,
   "id": "8e832962-8af6-4a9e-a97f-6f43142f3b0d",
   "metadata": {},
   "outputs": [
    {
     "data": {
      "text/plain": [
       "(3.75, 4.375)"
      ]
     },
     "execution_count": 59,
     "metadata": {},
     "output_type": "execute_result"
    }
   ],
   "source": [
    "bisection(f,(0,10),4,None,bisect,member,converged_in_N,20)"
   ]
  },
  {
   "cell_type": "markdown",
   "id": "f538f3e8-8535-434a-b63d-e10524fc07e3",
   "metadata": {},
   "source": [
    "#### Example 3 - Solution to Exercise 2"
   ]
  },
  {
   "cell_type": "code",
   "execution_count": 65,
   "id": "bf5d2a3f-3962-4723-910e-f48312c7e501",
   "metadata": {},
   "outputs": [],
   "source": [
    "def converged_in_N_and_X(f,X,y,epsilon) :\n",
    "    a,b = X\n",
    "    return True if converged_in_N(f,X,y,epsilon) and converged_in_X(f,X,y,epsilon) else False"
   ]
  },
  {
   "cell_type": "code",
   "execution_count": 66,
   "id": "f0b25b19-0fba-4d86-8ab7-ea772513ed07",
   "metadata": {},
   "outputs": [
    {
     "data": {
      "text/plain": [
       "(3.994140625, 4.00390625)"
      ]
     },
     "execution_count": 66,
     "metadata": {},
     "output_type": "execute_result"
    }
   ],
   "source": [
    "bisection(f,(0,10),4,0.01,bisect,member,converged_in_N_and_X,20)"
   ]
  },
  {
   "cell_type": "markdown",
   "id": "a1856758-5a2d-44b2-a8d9-9dfcd2a685a3",
   "metadata": {},
   "source": [
    "#### Example 4 - Solution to Exercise 2 with memoisation for efficiency"
   ]
  },
  {
   "cell_type": "code",
   "execution_count": 67,
   "id": "37b166da-729b-4166-b925-6be0d5e3081b",
   "metadata": {},
   "outputs": [],
   "source": [
    "@cache\n",
    "def mf(x) : return f(x)"
   ]
  },
  {
   "cell_type": "code",
   "execution_count": 68,
   "id": "98360103-443d-4809-8450-191b73ceffae",
   "metadata": {},
   "outputs": [
    {
     "data": {
      "text/plain": [
       "(3.994140625, 4.00390625)"
      ]
     },
     "execution_count": 68,
     "metadata": {},
     "output_type": "execute_result"
    }
   ],
   "source": [
    "bisection(mf,(0,10),4,0.01,bisect,member,converged_in_N_and_X,20)"
   ]
  },
  {
   "cell_type": "markdown",
   "id": "b78e92ce-4b0f-484b-9748-c36e7fc4e43a",
   "metadata": {},
   "source": [
    "## Add some logging"
   ]
  },
  {
   "cell_type": "code",
   "execution_count": 119,
   "id": "6bcf276e-fd70-4bff-983b-c8bb8eb3454c",
   "metadata": {},
   "outputs": [],
   "source": [
    "def bisection(f,X,y,epsilon,bisect,member,converged,nmax,n=0) :\n",
    "    if converged(f,X,y,epsilon) or n == nmax : return [(X,n)]\n",
    "    Xa,Xb = bisect(f,X,y)\n",
    "    X = Xa if member(f,y,Xa) else Xb  \n",
    "    return [(X,n)] + bisection(f,X,y,epsilon,bisect,member,converged,nmax,n+1)"
   ]
  },
  {
   "cell_type": "code",
   "execution_count": 120,
   "id": "3580869e-75e8-4b83-9e0f-0b3a757afb4d",
   "metadata": {},
   "outputs": [
    {
     "data": {
      "text/plain": [
       "[((0, 5.0), 0),\n",
       " ((2.5, 5.0), 1),\n",
       " ((3.75, 5.0), 2),\n",
       " ((3.75, 4.375), 3),\n",
       " ((3.75, 4.0625), 4),\n",
       " ((3.90625, 4.0625), 5),\n",
       " ((3.984375, 4.0625), 6),\n",
       " ((3.984375, 4.0234375), 7),\n",
       " ((3.984375, 4.00390625), 8),\n",
       " ((3.994140625, 4.00390625), 9),\n",
       " ((3.9990234375, 4.00390625), 10),\n",
       " ((3.9990234375, 4.00146484375), 11),\n",
       " ((3.9990234375, 4.000244140625), 12),\n",
       " ((3.9996337890625, 4.000244140625), 13),\n",
       " ((3.9996337890625, 4.000244140625), 14)]"
      ]
     },
     "execution_count": 120,
     "metadata": {},
     "output_type": "execute_result"
    }
   ],
   "source": [
    "bisection(mf,(0,10),4,0.001,bisect,member,converged_in_N_and_X,20)"
   ]
  },
  {
   "cell_type": "markdown",
   "id": "bfbb0319-0ffd-4da9-b4f7-50c402310a86",
   "metadata": {},
   "source": [
    "## Specialize using partial application"
   ]
  },
  {
   "cell_type": "code",
   "execution_count": 124,
   "id": "28a3aeb4-c78c-4a43-baed-c2d59abe3678",
   "metadata": {},
   "outputs": [],
   "source": [
    "from functools import partial"
   ]
  },
  {
   "cell_type": "code",
   "execution_count": 139,
   "id": "3c6176d5-b964-45be-a2ea-dfd60fd17125",
   "metadata": {},
   "outputs": [],
   "source": [
    "ex_1 = partial(bisection,epsilon=None,bisect=bisect,member=member,converged=converged_in_N)"
   ]
  },
  {
   "cell_type": "code",
   "execution_count": null,
   "id": "9c1f3405-3e55-4fce-b620-1922b61d0705",
   "metadata": {},
   "outputs": [],
   "source": [
    "ex_2 = partial(bisection,bisect=bisect,member=member,converged=converged_in_N_and_X)"
   ]
  },
  {
   "cell_type": "code",
   "execution_count": 140,
   "id": "e0067520-205c-4867-aacd-4603c42c0fce",
   "metadata": {},
   "outputs": [
    {
     "data": {
      "text/plain": [
       "[((0, 5.0), 0), ((2.5, 5.0), 1), ((2.5, 3.75), 2), ((2.5, 3.75), 3)]"
      ]
     },
     "execution_count": 140,
     "metadata": {},
     "output_type": "execute_result"
    }
   ],
   "source": [
    "ex_1(f,(0,10),3,nmax=20)"
   ]
  },
  {
   "cell_type": "code",
   "execution_count": 141,
   "id": "0ae750bc-297e-406f-82aa-23ddca485e99",
   "metadata": {},
   "outputs": [
    {
     "data": {
      "text/plain": [
       "[((0, 5.0), 0),\n",
       " ((2.5, 5.0), 1),\n",
       " ((2.5, 3.75), 2),\n",
       " ((2.5, 3.125), 3),\n",
       " ((2.8125, 3.125), 4),\n",
       " ((2.96875, 3.125), 5),\n",
       " ((2.96875, 3.046875), 6),\n",
       " ((2.96875, 3.0078125), 7),\n",
       " ((2.98828125, 3.0078125), 8),\n",
       " ((2.998046875, 3.0078125), 9),\n",
       " ((2.998046875, 3.0078125), 10)]"
      ]
     },
     "execution_count": 141,
     "metadata": {},
     "output_type": "execute_result"
    }
   ],
   "source": [
    "ex_2(f,(0,10),3,0.01,nmax=20)"
   ]
  },
  {
   "cell_type": "markdown",
   "id": "a956f63f-0da8-4ac8-8a4d-9c0086d21659",
   "metadata": {},
   "source": [
    "## Iterative version"
   ]
  },
  {
   "cell_type": "code",
   "execution_count": null,
   "id": "0a986026-8ef1-46e4-9ba8-e28073d85483",
   "metadata": {},
   "outputs": [],
   "source": []
  },
  {
   "cell_type": "code",
   "execution_count": 148,
   "id": "04ed9a1f-8974-4ac8-8117-636ae2bd50e7",
   "metadata": {},
   "outputs": [],
   "source": [
    "def it_bisection(f,X,y,epsilon,bisect,member,converged,nmax,n=0) :\n",
    "    log = [(X,n)]\n",
    "    while(True) :\n",
    "        if converged(f,X,y,epsilon) or n == nmax : return log\n",
    "        Xa,Xb = bisect(f,X,y)\n",
    "        X = Xa if member(f,y,Xa) else Xb\n",
    "        n = n + 1\n",
    "        log = log + [(X,n)]"
   ]
  },
  {
   "cell_type": "code",
   "execution_count": 149,
   "id": "82e9b494-c212-4756-b356-7be020cfc1b2",
   "metadata": {},
   "outputs": [
    {
     "data": {
      "text/plain": [
       "[((0, 10), 0),\n",
       " ((0, 5.0), 1),\n",
       " ((2.5, 5.0), 2),\n",
       " ((3.75, 5.0), 3),\n",
       " ((3.75, 4.375), 4),\n",
       " ((3.75, 4.0625), 5),\n",
       " ((3.90625, 4.0625), 6),\n",
       " ((3.984375, 4.0625), 7),\n",
       " ((3.984375, 4.0234375), 8),\n",
       " ((3.984375, 4.00390625), 9),\n",
       " ((3.994140625, 4.00390625), 10)]"
      ]
     },
     "execution_count": 149,
     "metadata": {},
     "output_type": "execute_result"
    }
   ],
   "source": [
    "it_bisection(f,(0,10),4,0.01,bisect,member,converged_in_N_and_X,20)"
   ]
  }
 ],
 "metadata": {
  "kernelspec": {
   "display_name": "Python 3 (ipykernel)",
   "language": "python",
   "name": "python3"
  },
  "language_info": {
   "codemirror_mode": {
    "name": "ipython",
    "version": 3
   },
   "file_extension": ".py",
   "mimetype": "text/x-python",
   "name": "python",
   "nbconvert_exporter": "python",
   "pygments_lexer": "ipython3",
   "version": "3.11.0"
  }
 },
 "nbformat": 4,
 "nbformat_minor": 5
}
