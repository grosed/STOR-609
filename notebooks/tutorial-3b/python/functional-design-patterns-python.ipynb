{
 "cells": [
  {
   "cell_type": "code",
   "execution_count": 22,
   "id": "1b1bb8fd-d7d1-4079-a85f-729bf50b4275",
   "metadata": {},
   "outputs": [],
   "source": [
    "from math import sin"
   ]
  },
  {
   "cell_type": "markdown",
   "id": "a41b9fca-3bbd-4b11-81e0-757cb285c40e",
   "metadata": {},
   "source": [
    "## Composition"
   ]
  },
  {
   "cell_type": "markdown",
   "id": "8b9ad2dd-285f-4486-9e52-2a0ddd892870",
   "metadata": {},
   "source": [
    "### Overview"
   ]
  },
  {
   "cell_type": "markdown",
   "id": "1997cfcd-0d52-4d7d-a8b5-26342182f7ef",
   "metadata": {},
   "source": [
    "Mathematically, the composition of two functions is a function defined by\n",
    "\n",
    "$h(.) = (g \\circ f)(.) = g(f(.))$ \n",
    "\n",
    "In terms of type \n",
    "\n",
    "$ \\circ :: (T_1 \\rightarrow T_2) \\rightarrow (T_2 \\rightarrow T_3) \\rightarrow (T_1 \\rightarrow T_3)$ "
   ]
  },
  {
   "cell_type": "markdown",
   "id": "e9027077-8fb1-4822-9dc0-28ce99174a5f",
   "metadata": {},
   "source": [
    "### Notes"
   ]
  },
  {
   "cell_type": "markdown",
   "id": "2fe86aef-ec76-416e-884b-2ab83108f7bc",
   "metadata": {},
   "source": [
    "Many functionally orientated programming languages provide composition as part of the system, for example **Haskell**, **F\\#**, and **scala**. Generally, composition is readily implemented in most languages, and many have popular libraries which implement it."
   ]
  },
  {
   "cell_type": "markdown",
   "id": "b9204197-2965-4ae1-b2fe-f501e2f0e51d",
   "metadata": {},
   "source": [
    "### Applications"
   ]
  },
  {
   "cell_type": "markdown",
   "id": "4ecdce38-a5eb-44d4-9a8a-a61ca50d5c78",
   "metadata": {},
   "source": [
    "### Examples"
   ]
  },
  {
   "cell_type": "markdown",
   "id": "4bcb385a-6d5d-4b4c-8b2b-75dfd9f548b1",
   "metadata": {},
   "source": [
    "### Python"
   ]
  },
  {
   "cell_type": "code",
   "execution_count": 72,
   "id": "d565f44b-a41f-46bf-8206-85e82de82268",
   "metadata": {},
   "outputs": [],
   "source": [
    "from functools import reduce\n",
    "def compose(*funcs):\n",
    "    return reduce(lambda f,g : lambda x : f(g(x)), funcs, lambda x : x)"
   ]
  },
  {
   "cell_type": "code",
   "execution_count": 32,
   "id": "cfd1fe91-e560-40a1-96fb-c584371060a5",
   "metadata": {},
   "outputs": [
    {
     "data": {
      "text/plain": [
       "True"
      ]
     },
     "execution_count": 32,
     "metadata": {},
     "output_type": "execute_result"
    }
   ],
   "source": [
    "def f(x) : return 2*x\n",
    "\n",
    "def g(x) : return x + 3\n",
    "\n",
    "h = compose(f,g)\n",
    "\n",
    "f(g(5)) == h(5)"
   ]
  },
  {
   "cell_type": "markdown",
   "id": "cf16f22e-3421-4593-90f4-f195fb1dd839",
   "metadata": {},
   "source": [
    "### Activities"
   ]
  },
  {
   "cell_type": "markdown",
   "id": "c7e96a63-06d1-4374-a949-7064ebd060c1",
   "metadata": {},
   "source": [
    "**WIP !!**"
   ]
  },
  {
   "cell_type": "markdown",
   "id": "50cf34d3-320e-47cf-8a95-51b66948737d",
   "metadata": {},
   "source": [
    "## Inner Functions"
   ]
  },
  {
   "cell_type": "markdown",
   "id": "c0758391-d824-470e-9ea6-b76bc7b2dea5",
   "metadata": {},
   "source": [
    "### Overview"
   ]
  },
  {
   "cell_type": "markdown",
   "id": "464a47d3-ad23-4bb3-acf2-a1b4dde7ccd1",
   "metadata": {},
   "source": [
    "An **inner function** is a function that is defined inside another (**enclosing**) function.\n",
    "\n",
    "**Inner functions** can be quite useful for reducing the code footprint of the **enclosing function** when repeated use of similar or related blocks of functionality is made. \n",
    "\n",
    "**Inner functions** can also be used very effectively as part of other more significant patterns, such as  **closures**, **objects**, and **classes**, which in turn form the basis of **object based** and hence **object oriented** programming.\n",
    "\n"
   ]
  },
  {
   "cell_type": "markdown",
   "id": "20752f6b-b7d1-409d-84ef-f0dac756580e",
   "metadata": {},
   "source": [
    "### Tutor note"
   ]
  },
  {
   "cell_type": "markdown",
   "id": "29a9f3a2-f821-47b7-935a-2c27f906739c",
   "metadata": {},
   "source": [
    "This section on **inner** functions is important because of the relevance of **inner** functions to implementing a variety of other design patterns. It is also useful for reinforcing the students understanding of scope and mutability, and how different programming systems choose to, or not to, implement these ideas. \n",
    "\n",
    "Inner functions should be introduced after the exercise. It is important  and the students are then invited to reflect on their solutions and refactor them using **inner** functions.\n",
    "\n",
    "Tutor notes for reviewing the exercise are provided at the end of this section."
   ]
  },
  {
   "cell_type": "markdown",
   "id": "07561f70-d8d9-4144-9adb-6f0ae21ee87f",
   "metadata": {},
   "source": [
    "### Exercise\n",
    "\n",
    "Write some code that calls the following function multiple times.\n",
    "\n",
    "```python\n",
    "def f(x) : return 2*x \n",
    "```\n",
    "\n",
    "Now add some further code that tracks how many times the function f is called."
   ]
  },
  {
   "cell_type": "code",
   "execution_count": null,
   "id": "c4db454b-0552-4331-bcc2-d21a716fbee4",
   "metadata": {},
   "outputs": [],
   "source": [
    "### Tutorial Notes"
   ]
  },
  {
   "cell_type": "markdown",
   "id": "d3064ff9-3232-4284-9c95-00d88faec216",
   "metadata": {},
   "source": [
    "#### Example"
   ]
  },
  {
   "cell_type": "markdown",
   "id": "bcb06a3e-5edc-4aa0-a969-161bee3ae98b",
   "metadata": {},
   "source": [
    "In the exmaple above, **g** is the **inner** function and **f** is the **enclosing** function."
   ]
  },
  {
   "cell_type": "code",
   "execution_count": 8,
   "id": "c534c578-9e9d-4123-9ffa-a6d085565d0c",
   "metadata": {},
   "outputs": [],
   "source": [
    "def f(x) :\n",
    "    def g(y) : \n",
    "        return 2*y\n",
    "    z = g(3+x)\n",
    "    return 2*z\n",
    "    "
   ]
  },
  {
   "cell_type": "markdown",
   "id": "b1deca35-2933-486e-9550-53b46838f002",
   "metadata": {},
   "source": [
    "#### Exercise\n",
    "\n",
    "What is the result of applying **f** to the value 4 ?"
   ]
  },
  {
   "cell_type": "markdown",
   "id": "802db78b-5486-42e9-9386-37f4101e8f8f",
   "metadata": {},
   "source": [
    "#### Exercise\n",
    "\n",
    "Check you understand the relationship is between the input and output in the following examples.\n",
    "\n",
    "Is there anything worthy of note in the second example ? \n",
    "\n",
    "Is there anything you can say about the third example ?"
   ]
  },
  {
   "cell_type": "markdown",
   "id": "2def7dbd-5489-4775-a8a7-7c0463be4b0d",
   "metadata": {},
   "source": [
    "#### Example"
   ]
  },
  {
   "cell_type": "code",
   "execution_count": 11,
   "id": "45f8b1ed-4922-46ff-83f2-0290c553c7d2",
   "metadata": {},
   "outputs": [],
   "source": [
    "def f(x) :\n",
    "    y = 4\n",
    "    def g(x) : \n",
    "        return y*x\n",
    "    z = g(2-x)\n",
    "    return 2*z\n",
    "    "
   ]
  },
  {
   "cell_type": "markdown",
   "id": "650bcb9d-d283-4171-932a-61c72a8a70fc",
   "metadata": {},
   "source": [
    "#### Example"
   ]
  },
  {
   "cell_type": "code",
   "execution_count": 13,
   "id": "fcc2859e-bf0e-4041-89ad-f6fea7a51ae6",
   "metadata": {},
   "outputs": [],
   "source": [
    "def f(x,y) :\n",
    "    def g(x) : \n",
    "        return y*x\n",
    "    z = g(2-x)\n",
    "    return 2*z"
   ]
  },
  {
   "cell_type": "markdown",
   "id": "70b748eb-9668-410e-8a74-3e2fb1671b3f",
   "metadata": {},
   "source": [
    "## Closures, Objects, and Classes"
   ]
  },
  {
   "cell_type": "markdown",
   "id": "87d2be57-2966-4f1a-8cc5-fbd499278bcb",
   "metadata": {},
   "source": [
    "### Overview"
   ]
  },
  {
   "cell_type": "markdown",
   "id": "eee48558-0adf-4296-a218-28e675db44dc",
   "metadata": {},
   "source": [
    "A **closure** is a *\"function with memory\"*. A **closure** that is returned by an **enclosing** function is called an **object**. A function that returns an **closure** function is called a **class**. The programming paradigm (style) associated with employing **objects** is called **object based** programming. **Object oriented programming** is **object based** programming in conjunction with **inheritance**.   "
   ]
  },
  {
   "cell_type": "markdown",
   "id": "c5c503e2-1b4b-440a-a2ff-0f822df94cee",
   "metadata": {},
   "source": [
    "### Tutor Notes"
   ]
  },
  {
   "cell_type": "markdown",
   "id": "445dd82f-8773-40ba-bfb9-28fab45d1171",
   "metadata": {},
   "source": [
    "The concepts of **closure**, **object** and **class** are introduced in this section. This might lead to some discussion regarding object orientated programming  (OOP) since at least some of the students will have had exposure to OOP in one form or another in the past, but never in a way that connects it to **inner** functions. This highlights that, in programming, a concept is often understood in terms of how it is realised within a particular programming system, not in terms of its basic nature and/or relation to (or derivation from) other concepts. Part of the rational of STOR609 is to rectify this. A good reference to support discussion is chapter 1 of [Concepts, Techniques, and Models of Computer Programming](https://ia902308.us.archive.org/15/items/c-15_20211009/C15.pdf) by P van Roy and S Haridi, in particular, sections 9, 12,13, and 14."
   ]
  },
  {
   "cell_type": "markdown",
   "id": "9942141d-fe1d-4f98-9aaa-fb5edc6f3cac",
   "metadata": {},
   "source": [
    "#### Example"
   ]
  },
  {
   "cell_type": "code",
   "execution_count": null,
   "id": "f18b24cd-0ab5-44f3-ab68-4f1ac8eeab75",
   "metadata": {},
   "outputs": [],
   "source": [
    "def f(x,y) :\n",
    "    def g(x) : \n",
    "        return y*x\n",
    "    z = g(2-x)\n",
    "    return 2*z"
   ]
  },
  {
   "cell_type": "markdown",
   "id": "5063afc6-8d3c-4bcc-9196-1a213173c2cb",
   "metadata": {},
   "source": [
    "Notice that the **inner** function has access to the value of y. This is indeed trivial unless the **inner** function is returned from the **enclosing** function.\n"
   ]
  },
  {
   "cell_type": "markdown",
   "id": "e8fdd37d-5e95-43f3-8002-f8c0c8953884",
   "metadata": {},
   "source": [
    "#### Example"
   ]
  },
  {
   "cell_type": "code",
   "execution_count": 20,
   "id": "e841ed85-b75d-4ab6-b92f-6470638f72ec",
   "metadata": {},
   "outputs": [],
   "source": [
    "def f(x) :\n",
    "    z = 4\n",
    "    def g(y) : \n",
    "        return z*y*x\n",
    "    return g"
   ]
  },
  {
   "cell_type": "markdown",
   "id": "284db8c8-83fd-4c29-b3bf-a190a04fdd53",
   "metadata": {},
   "source": [
    "#### Exercise\n",
    "\n",
    "Check that you understand what the previous example demonstrates and how it might be used. Does the idea of a function \"having memory\" make sense to you ? When might **closures** be useful ? In what areas of scientific computing do you imagine **closures** are popular ? "
   ]
  },
  {
   "cell_type": "markdown",
   "id": "678d6b17-6f80-4bfa-909c-616cdb83bd39",
   "metadata": {},
   "source": [
    "### Notes"
   ]
  },
  {
   "cell_type": "markdown",
   "id": "1f5f8e68-7adf-42fc-a3d4-61cec7a7de8d",
   "metadata": {},
   "source": [
    "**Closures** are used s part of the implementation of several other notable patterns, such as **partial application** and **currying**."
   ]
  },
  {
   "cell_type": "markdown",
   "id": "f4b5faa5-a0ed-45c1-8cba-a42baedfd10c",
   "metadata": {},
   "source": [
    "### Tutorial Material - Logging"
   ]
  },
  {
   "cell_type": "markdown",
   "id": "ad4cc03d-411a-48dd-a766-4c909fede0fc",
   "metadata": {},
   "source": [
    "Implement a function that can count how many times another funtion has been \"*called*\"."
   ]
  },
  {
   "cell_type": "code",
   "execution_count": null,
   "id": "ef2ef131-1aee-442c-a1fa-c9c9bdde660c",
   "metadata": {},
   "outputs": [],
   "source": [
    "def f(x) = 2*x"
   ]
  },
  {
   "cell_type": "markdown",
   "id": "f0a619cf-5e3a-4f68-9f8a-a72ba904654b",
   "metadata": {},
   "source": [
    "##### Solution 1"
   ]
  },
  {
   "cell_type": "code",
   "execution_count": 69,
   "id": "b01d7687-ea32-4b9e-93a6-38c1bfa53f3a",
   "metadata": {},
   "outputs": [
    {
     "name": "stdout",
     "output_type": "stream",
     "text": [
      "3\n"
     ]
    }
   ],
   "source": [
    "times = 0\n",
    "\n",
    "def f_prime(x) :\n",
    "    global times\n",
    "    times += 1\n",
    "    return 2*x\n",
    "\n",
    "f_prime(2)\n",
    "f_prime(3)\n",
    "f_prime(8)\n",
    "\n",
    "print(times)\n"
   ]
  },
  {
   "cell_type": "markdown",
   "id": "8705f4fc-efd5-49fb-a42f-91a28c93b09a",
   "metadata": {},
   "source": [
    "##### solution 2"
   ]
  },
  {
   "cell_type": "code",
   "execution_count": 71,
   "id": "76577a68-2483-4e67-af1f-a0477373b552",
   "metadata": {},
   "outputs": [
    {
     "name": "stdout",
     "output_type": "stream",
     "text": [
      "3\n"
     ]
    }
   ],
   "source": [
    "times = 0\n",
    "\n",
    "def counted(f) :\n",
    "    def call(x) :\n",
    "        global times\n",
    "        times += 1\n",
    "        return f(x)\n",
    "    return call\n",
    "\n",
    "f_prime = counted(f)\n",
    "\n",
    "f_prime(2)\n",
    "f_prime(3)\n",
    "f_prime(4)\n",
    "\n",
    "print(times)"
   ]
  },
  {
   "cell_type": "markdown",
   "id": "6c48d61c-ebb0-4dd6-b526-456f4fd86b05",
   "metadata": {},
   "source": [
    "#####  Solution 3"
   ]
  },
  {
   "cell_type": "code",
   "execution_count": 66,
   "id": "8858e03a-5701-41ff-8119-a16bd2a7f567",
   "metadata": {},
   "outputs": [
    {
     "name": "stdout",
     "output_type": "stream",
     "text": [
      "3\n"
     ]
    }
   ],
   "source": [
    "def counted(f) :\n",
    "    times = 0;\n",
    "    def call(x) :\n",
    "        nonlocal f,times\n",
    "        times += 1\n",
    "        return f(x)\n",
    "    def count() :\n",
    "        nonlocal times\n",
    "        return times\n",
    "    return call,count\n",
    "\n",
    "f_prime,count = counted(f)\n",
    "\n",
    "f_prime(2)\n",
    "f_prime(3)\n",
    "f_prime(4)\n",
    "\n",
    "print(count())\n"
   ]
  },
  {
   "cell_type": "markdown",
   "id": "acc0526e-7c65-4c3a-becd-b99fc098499f",
   "metadata": {},
   "source": [
    "##### "
   ]
  },
  {
   "cell_type": "markdown",
   "id": "9186d34d-ccfe-477d-a4ad-6101c7b78d0b",
   "metadata": {},
   "source": [
    "**What are the advantages of solution 3 ?**\n",
    "\n",
    "- f_prime has the same behavior as f\n",
    "- f_prime is pure\n",
    "- the value returned by count is hidden\n",
    "- the original version of f can be overridden by the embelished version\n",
    "- ...\n",
    "\n",
    "\n",
    "**What are the disadvantages of version 3 ?**\n",
    "\n",
    "- The counted method is very specific\n",
    "- count is not pure\n",
    "- ...\n",
    "\n",
    "**Implement a variation of the counted method that records the values that f was called with (invoked on ?, applied to ?).** \n",
    "\n",
    "**Can you generalise variations of the counted function ? Give some examples. What other patterns (if any) did you employ to achieve this generalisation ?**"
   ]
  },
  {
   "cell_type": "code",
   "execution_count": null,
   "id": "751e03b0-a36b-462a-8dd2-b8a74ae56ca5",
   "metadata": {},
   "outputs": [],
   "source": []
  },
  {
   "cell_type": "markdown",
   "id": "aada5cac-45a8-46e5-b156-78fd1c52ff27",
   "metadata": {},
   "source": [
    "#### Piggy back code - classes and objects"
   ]
  },
  {
   "cell_type": "code",
   "execution_count": 38,
   "id": "8c0f5431-df85-4526-a313-1459a63867b2",
   "metadata": {},
   "outputs": [],
   "source": [
    "def f(x) : return 2*x\n",
    "\n",
    "def counter(f) :\n",
    "    count = 0\n",
    "    def counted(x) :\n",
    "        nonlocal count,f\n",
    "        count += 1\n",
    "        return f(x),count\n",
    "    return counted"
   ]
  },
  {
   "cell_type": "code",
   "execution_count": 39,
   "id": "f355d453-d95a-4ba2-91c1-c0c6e7b02c84",
   "metadata": {},
   "outputs": [],
   "source": [
    "counted_f = counter(f)"
   ]
  },
  {
   "cell_type": "code",
   "execution_count": 40,
   "id": "4e49376a-742d-4fad-894e-72bc5f258190",
   "metadata": {},
   "outputs": [
    {
     "data": {
      "text/plain": [
       "(4, 1)"
      ]
     },
     "execution_count": 40,
     "metadata": {},
     "output_type": "execute_result"
    }
   ],
   "source": [
    "counted_f(2)"
   ]
  },
  {
   "cell_type": "code",
   "execution_count": 41,
   "id": "9b87788a-d08c-4831-8725-42e9548f639c",
   "metadata": {},
   "outputs": [
    {
     "data": {
      "text/plain": [
       "(6, 2)"
      ]
     },
     "execution_count": 41,
     "metadata": {},
     "output_type": "execute_result"
    }
   ],
   "source": [
    "counted_f(3)"
   ]
  },
  {
   "cell_type": "code",
   "execution_count": 42,
   "id": "e1441689-1e2a-44a6-a197-bd59ba6891e0",
   "metadata": {},
   "outputs": [
    {
     "data": {
      "text/plain": [
       "(4, 3)"
      ]
     },
     "execution_count": 42,
     "metadata": {},
     "output_type": "execute_result"
    }
   ],
   "source": [
    "counted_f(2)"
   ]
  },
  {
   "cell_type": "markdown",
   "id": "aba197c2-d09e-4355-96df-ec21a15fe40e",
   "metadata": {},
   "source": [
    "But this function is not pure !!! It cannot be memoised !!\n",
    "\n",
    "Ok - for sure, sometimes we have to compromise purity. But the original function *was* pure and we have just polluted it !! Can we do better ? "
   ]
  },
  {
   "cell_type": "code",
   "execution_count": 43,
   "id": "f50496e3-77b3-4b4e-a948-fc8de37a03f1",
   "metadata": {},
   "outputs": [],
   "source": [
    "def counter(f) :\n",
    "    count = 0\n",
    "    def counted(x) :\n",
    "        nonlocal count,f\n",
    "        count += 1\n",
    "        return counted,f(x),count\n",
    "    return counted"
   ]
  },
  {
   "cell_type": "code",
   "execution_count": 44,
   "id": "312d077e-6b5f-474d-b39c-64b73bb050d6",
   "metadata": {},
   "outputs": [],
   "source": [
    "counted_f = counter(f)"
   ]
  },
  {
   "cell_type": "code",
   "execution_count": 46,
   "id": "57e8b07e-aef4-474c-8836-d790e033ef03",
   "metadata": {},
   "outputs": [
    {
     "name": "stdout",
     "output_type": "stream",
     "text": [
      "(4, 2)\n"
     ]
    }
   ],
   "source": [
    "counted_f,value,count = counted_f(2)\n",
    "print((value,count))"
   ]
  },
  {
   "cell_type": "code",
   "execution_count": 47,
   "id": "270032a3-843e-4987-ac45-707ab84a5a39",
   "metadata": {},
   "outputs": [
    {
     "name": "stdout",
     "output_type": "stream",
     "text": [
      "(4, 3)\n"
     ]
    }
   ],
   "source": [
    "counted_f,value,count = counted_f(2)\n",
    "print((value,count))"
   ]
  },
  {
   "cell_type": "code",
   "execution_count": 48,
   "id": "73da9f6b-4462-499d-9dc4-fb060d29ee98",
   "metadata": {},
   "outputs": [
    {
     "data": {
      "text/plain": [
       "(<function __main__.counter.<locals>.counted(x)>, 4, 4)"
      ]
     },
     "execution_count": 48,
     "metadata": {},
     "output_type": "execute_result"
    }
   ],
   "source": [
    "counted_f(2)"
   ]
  },
  {
   "cell_type": "code",
   "execution_count": null,
   "id": "f16ea590-4136-4d61-9c8f-a3341c2f4a6a",
   "metadata": {},
   "outputs": [],
   "source": []
  },
  {
   "cell_type": "code",
   "execution_count": null,
   "id": "39428cd7-48a4-4e14-bed0-b724a9e12f27",
   "metadata": {},
   "outputs": [],
   "source": []
  },
  {
   "cell_type": "markdown",
   "id": "58f2cd36-c6cc-42e5-9aae-c98d3b6bdac7",
   "metadata": {},
   "source": [
    "## The Sandpit"
   ]
  },
  {
   "cell_type": "code",
   "execution_count": 7,
   "id": "f4577a19-1d58-4a17-ac54-2e46cd5a0f13",
   "metadata": {},
   "outputs": [
    {
     "ename": "SyntaxError",
     "evalue": "nonlocal declaration not allowed at module level (255234909.py, line 1)",
     "output_type": "error",
     "traceback": [
      "\u001b[0;36m  Cell \u001b[0;32mIn[7], line 1\u001b[0;36m\u001b[0m\n\u001b[0;31m    nonlocal z\u001b[0m\n\u001b[0m    ^\u001b[0m\n\u001b[0;31mSyntaxError\u001b[0m\u001b[0;31m:\u001b[0m nonlocal declaration not allowed at module level\n"
     ]
    }
   ],
   "source": []
  },
  {
   "cell_type": "code",
   "execution_count": null,
   "id": "27418296-b3a2-485e-a09e-084ff0f6d68a",
   "metadata": {},
   "outputs": [],
   "source": []
  },
  {
   "cell_type": "code",
   "execution_count": 3,
   "id": "965f5a81-6dbd-40e9-b318-0d4c1e911be4",
   "metadata": {},
   "outputs": [
    {
     "data": {
      "text/plain": [
       "1"
      ]
     },
     "execution_count": 3,
     "metadata": {},
     "output_type": "execute_result"
    }
   ],
   "source": [
    "z"
   ]
  }
 ],
 "metadata": {
  "kernelspec": {
   "display_name": "Python 3 (ipykernel)",
   "language": "python",
   "name": "python3"
  },
  "language_info": {
   "codemirror_mode": {
    "name": "ipython",
    "version": 3
   },
   "file_extension": ".py",
   "mimetype": "text/x-python",
   "name": "python",
   "nbconvert_exporter": "python",
   "pygments_lexer": "ipython3",
   "version": "3.11.0"
  }
 },
 "nbformat": 4,
 "nbformat_minor": 5
}
