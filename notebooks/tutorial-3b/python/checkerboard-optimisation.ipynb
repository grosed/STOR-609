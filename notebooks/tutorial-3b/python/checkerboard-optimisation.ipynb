{
 "cells": [
  {
   "cell_type": "code",
   "execution_count": 14,
   "id": "32535aa6-219d-438d-aab0-77dd9d6c68b0",
   "metadata": {},
   "outputs": [
    {
     "name": "stdout",
     "output_type": "stream",
     "text": [
      "Collecting pymonad\n",
      "  Using cached PyMonad-2.4.0-py3-none-any.whl.metadata (10 kB)\n",
      "Using cached PyMonad-2.4.0-py3-none-any.whl (29 kB)\n",
      "Installing collected packages: pymonad\n",
      "Successfully installed pymonad-2.4.0\n"
     ]
    }
   ],
   "source": [
    "!python -m pip install pymonad"
   ]
  },
  {
   "cell_type": "markdown",
   "id": "5ea3f4f9-a011-48e9-8252-c635c9977209",
   "metadata": {},
   "source": [
    "## cost function"
   ]
  },
  {
   "cell_type": "code",
   "execution_count": 1,
   "id": "b9c4abd7-8e99-4139-a599-69004372dc0a",
   "metadata": {},
   "outputs": [],
   "source": [
    "from math import inf\n",
    "from pymonad.tools import curry\n",
    "from functools import cache"
   ]
  },
  {
   "cell_type": "code",
   "execution_count": 2,
   "id": "37fd9933-7378-4785-9cc0-68dea61bbcfd",
   "metadata": {},
   "outputs": [],
   "source": [
    "@curry(3)\n",
    "def cost(grid,i,j) :\n",
    "    n,m = len(grid),len(grid[0])\n",
    "    if j < 0 or j >= m or i < 0 or i >= n :\n",
    "        return inf\n",
    "    return grid[i][j] "
   ]
  },
  {
   "cell_type": "code",
   "execution_count": 3,
   "id": "f05c2305-d353-4579-8b7f-4b8c575a16a5",
   "metadata": {},
   "outputs": [],
   "source": [
    "test_cost = cost([[1,2,3],[4,5,6],[7,8,9]])\n"
   ]
  },
  {
   "cell_type": "markdown",
   "id": "1b20924e-0d0a-43a0-9ba3-7507704e4f14",
   "metadata": {},
   "source": [
    "## path cost"
   ]
  },
  {
   "cell_type": "code",
   "execution_count": 28,
   "id": "af9e0c3e-6b1c-4471-be44-286bdffa1799",
   "metadata": {},
   "outputs": [],
   "source": [
    "@cache\n",
    "def q(c,i,j) : \n",
    "    if i == 0 or c(i,j) == inf : return c(i,j)\n",
    "    return min(q(c,i-1,j-1),q(c,i-1,j),q(c,i-1,j+1)) + c(i,j)\n",
    "        "
   ]
  },
  {
   "cell_type": "code",
   "execution_count": 25,
   "id": "d6870964-4762-4a0a-95e9-5d07ea6410fe",
   "metadata": {},
   "outputs": [],
   "source": [
    "blob = curry(3,q)(test_cost)"
   ]
  },
  {
   "cell_type": "code",
   "execution_count": 27,
   "id": "ff375e62-ac10-4592-829f-acd8e9500dc1",
   "metadata": {},
   "outputs": [
    {
     "data": {
      "text/plain": [
       "13"
      ]
     },
     "execution_count": 27,
     "metadata": {},
     "output_type": "execute_result"
    }
   ],
   "source": [
    "blob(2,1)"
   ]
  },
  {
   "cell_type": "code",
   "execution_count": null,
   "id": "c98f19f9-d34c-43d4-8a7b-d59d72804d4c",
   "metadata": {},
   "outputs": [],
   "source": []
  },
  {
   "cell_type": "code",
   "execution_count": 177,
   "id": "09b292a4-d431-472a-9ae7-645f5bdf1c0c",
   "metadata": {},
   "outputs": [],
   "source": [
    "def logger(c) :\n",
    "    path = []\n",
    "    def caller(i,j) :\n",
    "        nonlocal c,path\n",
    "        path = path + [(i,j,c(i,j))]\n",
    "        return c(i,j)\n",
    "    def history() :\n",
    "        nonlocal path\n",
    "        return path\n",
    "    return caller,history"
   ]
  },
  {
   "cell_type": "code",
   "execution_count": 185,
   "id": "4000c306-026e-4b5f-b2d4-91493ac07b07",
   "metadata": {},
   "outputs": [],
   "source": [
    "caller,path = logger(c)\n",
    "caller = cache(caller)"
   ]
  },
  {
   "cell_type": "code",
   "execution_count": 186,
   "id": "509e9345-3900-48f1-b840-c0c69e4b6853",
   "metadata": {},
   "outputs": [
    {
     "data": {
      "text/plain": [
       "12"
      ]
     },
     "execution_count": 186,
     "metadata": {},
     "output_type": "execute_result"
    }
   ],
   "source": [
    "q(caller,2,0)"
   ]
  },
  {
   "cell_type": "code",
   "execution_count": 187,
   "id": "4e0ae883-a86e-436e-af9a-59a7d3f31a77",
   "metadata": {},
   "outputs": [
    {
     "data": {
      "text/plain": [
       "[(2, 0, 7),\n",
       " (1, -1, inf),\n",
       " (1, 0, 4),\n",
       " (0, -1, inf),\n",
       " (0, 0, 1),\n",
       " (0, 1, 2),\n",
       " (1, 1, 5),\n",
       " (0, 2, 3)]"
      ]
     },
     "execution_count": 187,
     "metadata": {},
     "output_type": "execute_result"
    }
   ],
   "source": [
    "path()"
   ]
  },
  {
   "cell_type": "code",
   "execution_count": 174,
   "id": "49dd5b42-4008-4391-ac35-33ceb9a5591d",
   "metadata": {},
   "outputs": [],
   "source": [
    "from functools import cache\n",
    "@cache\n",
    "def f(i) : return 2*i"
   ]
  },
  {
   "cell_type": "code",
   "execution_count": 155,
   "id": "6cc11897-5b0d-4df0-acae-831991613a9c",
   "metadata": {},
   "outputs": [
    {
     "data": {
      "text/plain": [
       "6"
      ]
     },
     "execution_count": 155,
     "metadata": {},
     "output_type": "execute_result"
    }
   ],
   "source": [
    "f(3)"
   ]
  }
 ],
 "metadata": {
  "kernelspec": {
   "display_name": "Python 3 (ipykernel)",
   "language": "python",
   "name": "python3"
  },
  "language_info": {
   "codemirror_mode": {
    "name": "ipython",
    "version": 3
   },
   "file_extension": ".py",
   "mimetype": "text/x-python",
   "name": "python",
   "nbconvert_exporter": "python",
   "pygments_lexer": "ipython3",
   "version": "3.11.0"
  }
 },
 "nbformat": 4,
 "nbformat_minor": 5
}
