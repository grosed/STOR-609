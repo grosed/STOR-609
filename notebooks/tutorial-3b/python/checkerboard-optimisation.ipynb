{
 "cells": [
  {
   "cell_type": "code",
   "execution_count": 1,
   "id": "32535aa6-219d-438d-aab0-77dd9d6c68b0",
   "metadata": {},
   "outputs": [
    {
     "name": "stdout",
     "output_type": "stream",
     "text": [
      "Requirement already satisfied: pymonad in /home/grosed/STOR-609-env/env/lib/python3.11/site-packages (2.4.0)\n"
     ]
    }
   ],
   "source": [
    "!python -m pip install pymonad"
   ]
  },
  {
   "cell_type": "markdown",
   "id": "5ea3f4f9-a011-48e9-8252-c635c9977209",
   "metadata": {},
   "source": [
    "## cost function"
   ]
  },
  {
   "cell_type": "code",
   "execution_count": 2,
   "id": "b9c4abd7-8e99-4139-a599-69004372dc0a",
   "metadata": {},
   "outputs": [],
   "source": [
    "from math import inf\n",
    "from pymonad.tools import curry\n",
    "from functools import cache"
   ]
  },
  {
   "cell_type": "code",
   "execution_count": 3,
   "id": "37fd9933-7378-4785-9cc0-68dea61bbcfd",
   "metadata": {},
   "outputs": [],
   "source": [
    "@curry(3)\n",
    "def cost(grid,i,j) :\n",
    "    n,m = len(grid),len(grid[0])\n",
    "    if j < 0 or j >= m or i < 0 or i >= n :\n",
    "        return inf\n",
    "    return grid[i][j] "
   ]
  },
  {
   "cell_type": "code",
   "execution_count": 4,
   "id": "f05c2305-d353-4579-8b7f-4b8c575a16a5",
   "metadata": {},
   "outputs": [],
   "source": [
    "test_cost = cost([[1,2,3],[4,5,6],[7,8,9]])\n"
   ]
  },
  {
   "cell_type": "markdown",
   "id": "1b20924e-0d0a-43a0-9ba3-7507704e4f14",
   "metadata": {},
   "source": [
    "## path cost"
   ]
  },
  {
   "cell_type": "code",
   "execution_count": 5,
   "id": "af9e0c3e-6b1c-4471-be44-286bdffa1799",
   "metadata": {},
   "outputs": [],
   "source": [
    "@cache\n",
    "def q(c,i,j) : \n",
    "    if i == 0 or c(i,j) == inf : return c(i,j)\n",
    "    return min(q(c,i-1,j-1),q(c,i-1,j),q(c,i-1,j+1)) + c(i,j)\n",
    "        "
   ]
  },
  {
   "cell_type": "code",
   "execution_count": 6,
   "id": "d6870964-4762-4a0a-95e9-5d07ea6410fe",
   "metadata": {},
   "outputs": [],
   "source": [
    "blob = curry(3,q)(test_cost)"
   ]
  },
  {
   "cell_type": "code",
   "execution_count": 7,
   "id": "ff375e62-ac10-4592-829f-acd8e9500dc1",
   "metadata": {},
   "outputs": [
    {
     "data": {
      "text/plain": [
       "13"
      ]
     },
     "execution_count": 7,
     "metadata": {},
     "output_type": "execute_result"
    }
   ],
   "source": [
    "blob(2,1)"
   ]
  },
  {
   "cell_type": "markdown",
   "id": "e168c9f9-5d9e-4386-9080-65c92f51451f",
   "metadata": {},
   "source": [
    "## path cost and route"
   ]
  },
  {
   "cell_type": "code",
   "execution_count": 25,
   "id": "b4cc7727-176c-4cb1-bcf0-80e74bedbe94",
   "metadata": {},
   "outputs": [],
   "source": [
    "@cache\n",
    "def q(c,i,j) : \n",
    "    if i == 0 or c(i,j) == inf : return (c(i,j),\"stop\")\n",
    "    left,centre,right = q(c,i-1,j-1),q(c,i-1,j),q(c,i-1,j+1)\n",
    "    (cost,_),direction = min((q(c,i-1,j-1),\"left\"),\n",
    "                             (q(c,i-1,j),\"centre\"),(q(c,i-1,j+1),\"right\")) \n",
    "    return cost + c(i,j),direction "
   ]
  },
  {
   "cell_type": "code",
   "execution_count": 33,
   "id": "3d524b56-2d93-42c0-bdb2-c9cee79265fc",
   "metadata": {},
   "outputs": [],
   "source": [
    "blob = curry(3,q)(test_cost)"
   ]
  },
  {
   "cell_type": "code",
   "execution_count": 44,
   "id": "3844667a-ca78-4add-b363-33221624f492",
   "metadata": {},
   "outputs": [],
   "source": [
    "def route(path,i,j) :\n",
    "    locations = []\n",
    "    cost,direction = path(i,j)\n",
    "    while direction != \"stop\" :\n",
    "        locations.append(((i,j),cost))\n",
    "        i = i - 1\n",
    "        if direction == \"left\" :\n",
    "            j = j - 1\n",
    "        if direction == \"right\" :\n",
    "            j = j + 1\n",
    "        cost,direction = path(i,j)\n",
    "    locations.append(((i,j),cost))\n",
    "    return list(reversed(locations))\n",
    "    "
   ]
  },
  {
   "cell_type": "code",
   "execution_count": 45,
   "id": "fa0d0cc7-4963-408b-ab50-cdbbb66fb771",
   "metadata": {},
   "outputs": [
    {
     "data": {
      "text/plain": [
       "[((0, 0), 1), ((1, 0), 5), ((2, 1), 13)]"
      ]
     },
     "execution_count": 45,
     "metadata": {},
     "output_type": "execute_result"
    }
   ],
   "source": [
    "route(blob,2,1)"
   ]
  }
 ],
 "metadata": {
  "kernelspec": {
   "display_name": "Python 3 (ipykernel)",
   "language": "python",
   "name": "python3"
  },
  "language_info": {
   "codemirror_mode": {
    "name": "ipython",
    "version": 3
   },
   "file_extension": ".py",
   "mimetype": "text/x-python",
   "name": "python",
   "nbconvert_exporter": "python",
   "pygments_lexer": "ipython3",
   "version": "3.11.0"
  }
 },
 "nbformat": 4,
 "nbformat_minor": 5
}
